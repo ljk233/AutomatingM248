{
 "metadata": {
  "language_info": {
   "codemirror_mode": {
    "name": "ipython",
    "version": 3
   },
   "file_extension": ".py",
   "mimetype": "text/x-python",
   "name": "python",
   "nbconvert_exporter": "python",
   "pygments_lexer": "ipython3",
   "version": "3.8.3-final"
  },
  "orig_nbformat": 2,
  "kernelspec": {
   "name": "python3",
   "display_name": "Python 3",
   "language": "python"
  }
 },
 "nbformat": 4,
 "nbformat_minor": 2,
 "cells": [
  {
   "source": [
    "# Maximum likelihood estimator\n",
    "\n",
    "## Meta\n",
    "\n",
    "## Plan\n",
    "\n",
    "1. Pick random parameter.\n",
    "    - Keep it simple, round $p$ to 3dp.\n",
    "2. Declare the distribution.\n",
    "3. Generate 1000 samples.\n",
    "4. Count the number of occurences of $X$."
   ],
   "cell_type": "markdown",
   "metadata": {}
  },
  {
   "cell_type": "code",
   "execution_count": 30,
   "metadata": {},
   "outputs": [],
   "source": [
    "from random import random, randint\n",
    "from scipy import stats"
   ]
  },
  {
   "cell_type": "code",
   "execution_count": 31,
   "metadata": {},
   "outputs": [],
   "source": [
    "# declare the sample size\n",
    "n = 1000"
   ]
  },
  {
   "cell_type": "code",
   "execution_count": 32,
   "metadata": {},
   "outputs": [],
   "source": [
    "def get_sample(a_dist: object, n: int) -> dict:\n",
    "    \"\"\"\n",
    "    Counts the number of times an observation occurs.\n",
    "    Returns a dictionary.\n",
    "    \"\"\"\n",
    "\n",
    "    sample = list(a_dist.rvs(size = n))\n",
    "\n",
    "    a_dict: dict = dict()\n",
    "\n",
    "    for x in range(n):\n",
    "        k = 0  # declare the counter\n",
    "        for outcome in sample:\n",
    "            if outcome == x:\n",
    "                k += 1\n",
    "        a_dict[x] = k\n",
    "    \n",
    "    return a_dict"
   ]
  },
  {
   "cell_type": "code",
   "execution_count": 33,
   "metadata": {},
   "outputs": [],
   "source": [
    "def get_mean(sample: dict, n: int) -> float:\n",
    "    \"\"\"\n",
    "    Calculates the mean value of a sample.\n",
    "    \"\"\"\n",
    "    sample_sum = 0\n",
    "    for x in sample.keys():\n",
    "        sample_sum = sample_sum + (x * sample[x])\n",
    "    sample_mean = sample_sum/n\n",
    "    return sample_mean"
   ]
  },
  {
   "source": [
    "## Geometric distribution"
   ],
   "cell_type": "markdown",
   "metadata": {}
  },
  {
   "cell_type": "code",
   "execution_count": 34,
   "metadata": {},
   "outputs": [],
   "source": [
    "# Select the probability\n",
    "p: float = round(random(), 3)"
   ]
  },
  {
   "cell_type": "code",
   "execution_count": 35,
   "metadata": {},
   "outputs": [],
   "source": [
    "# declare the distribution\n",
    "geom = stats.geom(p)"
   ]
  },
  {
   "source": [
    "# sample the distribution, get the frequencies\n",
    "sample: dict = get_sample(a_dist=geom, n=n)"
   ],
   "cell_type": "code",
   "metadata": {},
   "execution_count": 36,
   "outputs": []
  },
  {
   "cell_type": "code",
   "execution_count": 37,
   "metadata": {},
   "outputs": [],
   "source": [
    "# sample mean\n",
    "sample_mean = get_mean(sample, n=n)"
   ]
  },
  {
   "cell_type": "code",
   "execution_count": 38,
   "metadata": {},
   "outputs": [
    {
     "output_type": "execute_result",
     "data": {
      "text/plain": [
       "0.588"
      ]
     },
     "metadata": {},
     "execution_count": 38
    }
   ],
   "source": [
    "# estimator\n",
    "round(1 / sample_mean, 3)"
   ]
  },
  {
   "cell_type": "code",
   "execution_count": 39,
   "metadata": {},
   "outputs": [
    {
     "output_type": "execute_result",
     "data": {
      "text/plain": [
       "0.602"
      ]
     },
     "metadata": {},
     "execution_count": 39
    }
   ],
   "source": [
    "# actual p\n",
    "p"
   ]
  },
  {
   "source": [
    "## Poisson distribution"
   ],
   "cell_type": "markdown",
   "metadata": {}
  },
  {
   "cell_type": "code",
   "execution_count": 40,
   "metadata": {},
   "outputs": [],
   "source": [
    "# Select the mean\n",
    "mu: float = round(randint(0, 19) + random(), 3)"
   ]
  },
  {
   "cell_type": "code",
   "execution_count": 41,
   "metadata": {},
   "outputs": [],
   "source": [
    "pois = stats.poisson(mu=mu)"
   ]
  },
  {
   "cell_type": "code",
   "execution_count": 42,
   "metadata": {},
   "outputs": [],
   "source": [
    "# sample the distribution, get the frequencies\n",
    "sample: dict = get_sample(a_dist=pois, n=n)"
   ]
  },
  {
   "cell_type": "code",
   "execution_count": 43,
   "metadata": {},
   "outputs": [],
   "source": [
    "# sample mean\n",
    "sample_mean = get_mean(sample, n=n)"
   ]
  },
  {
   "cell_type": "code",
   "execution_count": 44,
   "metadata": {},
   "outputs": [
    {
     "output_type": "execute_result",
     "data": {
      "text/plain": [
       "6.158"
      ]
     },
     "metadata": {},
     "execution_count": 44
    }
   ],
   "source": [
    "# estimator\n",
    "sample_mean"
   ]
  },
  {
   "cell_type": "code",
   "execution_count": 45,
   "metadata": {},
   "outputs": [
    {
     "output_type": "execute_result",
     "data": {
      "text/plain": [
       "6.001"
      ]
     },
     "metadata": {},
     "execution_count": 45
    }
   ],
   "source": [
    "# actual\n",
    "mu"
   ]
  },
  {
   "source": [
    "## Binomial distribution"
   ],
   "cell_type": "markdown",
   "metadata": {}
  },
  {
   "cell_type": "code",
   "execution_count": 46,
   "metadata": {},
   "outputs": [],
   "source": [
    "# Select the probability\n",
    "p: float = round(random(), 3)"
   ]
  },
  {
   "cell_type": "code",
   "execution_count": 47,
   "metadata": {},
   "outputs": [],
   "source": [
    "binom = stats.binom(n=n, p=p)"
   ]
  },
  {
   "cell_type": "code",
   "execution_count": 48,
   "metadata": {},
   "outputs": [],
   "source": [
    "# sample the distribution, get the frequencies\n",
    "sample: dict = get_sample(a_dist=binom, n=n)"
   ]
  },
  {
   "cell_type": "code",
   "execution_count": 49,
   "metadata": {},
   "outputs": [],
   "source": [
    "# sample mean\n",
    "sample_mean = get_mean(sample, n=n)"
   ]
  },
  {
   "cell_type": "code",
   "execution_count": 50,
   "metadata": {},
   "outputs": [
    {
     "output_type": "execute_result",
     "data": {
      "text/plain": [
       "0.571"
      ]
     },
     "metadata": {},
     "execution_count": 50
    }
   ],
   "source": [
    "# estimator\n",
    "round(sample_mean / n, 3)"
   ]
  },
  {
   "cell_type": "code",
   "execution_count": 51,
   "metadata": {},
   "outputs": [
    {
     "output_type": "execute_result",
     "data": {
      "text/plain": [
       "0.57"
      ]
     },
     "metadata": {},
     "execution_count": 51
    }
   ],
   "source": [
    "# actual\n",
    "p"
   ]
  },
  {
   "source": [
    "## Exponential distribution"
   ],
   "cell_type": "markdown",
   "metadata": {}
  },
  {
   "cell_type": "code",
   "execution_count": 52,
   "metadata": {},
   "outputs": [],
   "source": [
    "# Select the rate\n",
    "L = round(randint(0, 19) + random(), 3)"
   ]
  },
  {
   "cell_type": "code",
   "execution_count": 53,
   "metadata": {},
   "outputs": [],
   "source": [
    "expon = stats.expon(loc=0, scale=1/L)"
   ]
  },
  {
   "source": [
    "We need to calculate $\\mu$ differently for the exponential distribution."
   ],
   "cell_type": "markdown",
   "metadata": {}
  },
  {
   "cell_type": "code",
   "execution_count": 54,
   "metadata": {},
   "outputs": [],
   "source": [
    "# sample the distribution, get the frequencies\n",
    "sample: list = list(expon.rvs(size = n))"
   ]
  },
  {
   "cell_type": "code",
   "execution_count": 55,
   "metadata": {},
   "outputs": [],
   "source": [
    "sample_sum: float = 0\n",
    "\n",
    "for x in sample:\n",
    "    sample_sum = sample_sum + x"
   ]
  },
  {
   "cell_type": "code",
   "execution_count": 56,
   "metadata": {},
   "outputs": [],
   "source": [
    "# sample mean\n",
    "sample_mean = sample_sum / n"
   ]
  },
  {
   "cell_type": "code",
   "execution_count": 57,
   "metadata": {},
   "outputs": [
    {
     "output_type": "execute_result",
     "data": {
      "text/plain": [
       "2.192"
      ]
     },
     "metadata": {},
     "execution_count": 57
    }
   ],
   "source": [
    "# estimator\n",
    "round(1 / sample_mean, 3)"
   ]
  },
  {
   "cell_type": "code",
   "execution_count": 58,
   "metadata": {},
   "outputs": [
    {
     "output_type": "execute_result",
     "data": {
      "text/plain": [
       "2.271"
      ]
     },
     "metadata": {},
     "execution_count": 58
    }
   ],
   "source": [
    "# actual\n",
    "L"
   ]
  }
 ]
}