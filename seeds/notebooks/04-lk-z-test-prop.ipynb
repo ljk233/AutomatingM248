{
 "metadata": {
  "language_info": {
   "codemirror_mode": {
    "name": "ipython",
    "version": 3
   },
   "file_extension": ".py",
   "mimetype": "text/x-python",
   "name": "python",
   "nbconvert_exporter": "python",
   "pygments_lexer": "ipython3",
   "version": "3.8.3"
  },
  "orig_nbformat": 2,
  "kernelspec": {
   "name": "python383jvsc74a57bd0ff1f241afc5a4c2e07811e38e6858495d05af165b3766e4314a3d7953c54c6af",
   "display_name": "Python 3.8.3 64-bit"
  }
 },
 "nbformat": 4,
 "nbformat_minor": 2,
 "cells": [
  {
   "source": [
    "# $z$-test: Adult children living at home\n",
    "\n",
    "date\n",
    ": 2021-04-15"
   ],
   "cell_type": "markdown",
   "metadata": {}
  },
  {
   "cell_type": "code",
   "execution_count": 3,
   "metadata": {},
   "outputs": [],
   "source": [
    "from statsmodels.stats.proportion import proportions_ztest\n",
    "from scipy.stats import norm"
   ]
  },
  {
   "source": [
    "## Summary\n",
    "\n",
    "-- Add summary"
   ],
   "cell_type": "markdown",
   "metadata": {}
  },
  {
   "source": [
    "## Introduction\n",
    "\n",
    "This report is interested in finding if there has been a statistically significant increase the number of young adults who live at home with their parents.\n",
    "In January 2014, official figures sampled 254 young adults (aged between 20 and 34 years old) living in Wales and found that 68 were still living at home withir parents.\n",
    "Previous studies to the study released in January 2014 had found that one-in-four young adults were living at home with their parents."
   ],
   "cell_type": "markdown",
   "metadata": {}
  },
  {
   "source": [
    "## Method\n",
    "\n",
    "The analysis was undertaken based upon the figures supplied.\n",
    "A 95% $z$-interval was calculated and then a $z$-test was carried out to test the null hypothesis that proportion of young adults who live at home with their parents is 25% (0.25).\n",
    "All analyses was carried out using **Python** (see Appendix I forthe scripts run)."
   ],
   "cell_type": "markdown",
   "metadata": {}
  },
  {
   "source": [
    "## Results\n",
    "\n",
    "The proportion of young adults who live at home with their parents  (based on the study) is 0.267, with 95% $z$-interval (0.21, 0.32).\n",
    "A $z$-test of the hypotheses that the proportion of young adults who live at home with their parent was either 0.25 or greater gave $z \\simeq$ 0.638, with $p$-value of 0.26."
   ],
   "cell_type": "markdown",
   "metadata": {}
  },
  {
   "source": [
    "## Discussion\n",
    "\n",
    "With $p >$ 0.1, we conclude that there is little to no evidence against the null hypothesis.\n",
    "We concude that the study provided no evidence that the proportion of young adults living at home with their parents had increased from 0.25."
   ],
   "cell_type": "markdown",
   "metadata": {}
  },
  {
   "source": [
    "## Appendix I: Calculations\n",
    "\n",
    "This section contains the **Python** used to write the report."
   ],
   "cell_type": "markdown",
   "metadata": {}
  },
  {
   "cell_type": "code",
   "execution_count": 2,
   "metadata": {},
   "outputs": [
    {
     "output_type": "execute_result",
     "data": {
      "text/plain": [
       "0.2677165354330709"
      ]
     },
     "metadata": {},
     "execution_count": 2
    }
   ],
   "source": [
    "68/254"
   ]
  },
  {
   "cell_type": "code",
   "execution_count": 7,
   "metadata": {},
   "outputs": [
    {
     "output_type": "execute_result",
     "data": {
      "text/plain": [
       "(0.21326521139122823, 0.32216785947491355)"
      ]
     },
     "metadata": {},
     "execution_count": 7
    }
   ],
   "source": [
    "p = 68/254\n",
    "ese = ((p*(1-p)/254))**0.5\n",
    "\n",
    "# declare sampling distribution of the mean\n",
    "prop_dist = norm(p, ese)\n",
    "\n",
    "# get ci95 attendance\n",
    "prop_dist.interval(0.95)"
   ]
  },
  {
   "cell_type": "code",
   "execution_count": 12,
   "metadata": {},
   "outputs": [
    {
     "output_type": "execute_result",
     "data": {
      "text/plain": [
       "(0.6377029758351418, 0.2618335240226642)"
      ]
     },
     "metadata": {},
     "execution_count": 12
    }
   ],
   "source": [
    "# z-test of proportions\n",
    "proportions_ztest(\n",
    "    count=68,\n",
    "    nobs=254,\n",
    "    value=0.25,\n",
    "    alternative=\"larger\"\n",
    ")"
   ]
  },
  {
   "cell_type": "code",
   "execution_count": 8,
   "metadata": {},
   "outputs": [
    {
     "output_type": "stream",
     "name": "stdout",
     "text": [
      "Help on function proportions_ztest in module statsmodels.stats.proportion:\n\nproportions_ztest(count, nobs, value=None, alternative='two-sided', prop_var=False)\n    Test for proportions based on normal (z) test\n    \n    Parameters\n    ----------\n    count : {int, array_like}\n        the number of successes in nobs trials. If this is array_like, then\n        the assumption is that this represents the number of successes for\n        each independent sample\n    nobs : {int, array_like}\n        the number of trials or observations, with the same length as\n        count.\n    value : float, array_like or None, optional\n        This is the value of the null hypothesis equal to the proportion in the\n        case of a one sample test. In the case of a two-sample test, the\n        null hypothesis is that prop[0] - prop[1] = value, where prop is the\n        proportion in the two samples. If not provided value = 0 and the null\n        is prop[0] = prop[1]\n    alternative : str in ['two-sided', 'smaller', 'larger']\n        The alternative hypothesis can be either two-sided or one of the one-\n        sided tests, smaller means that the alternative hypothesis is\n        ``prop < value`` and larger means ``prop > value``. In the two sample\n        test, smaller means that the alternative hypothesis is ``p1 < p2`` and\n        larger means ``p1 > p2`` where ``p1`` is the proportion of the first\n        sample and ``p2`` of the second one.\n    prop_var : False or float in (0, 1)\n        If prop_var is false, then the variance of the proportion estimate is\n        calculated based on the sample proportion. Alternatively, a proportion\n        can be specified to calculate this variance. Common use case is to\n        use the proportion under the Null hypothesis to specify the variance\n        of the proportion estimate.\n    \n    Returns\n    -------\n    zstat : float\n        test statistic for the z-test\n    p-value : float\n        p-value for the z-test\n    \n    Examples\n    --------\n    >>> count = 5\n    >>> nobs = 83\n    >>> value = .05\n    >>> stat, pval = proportions_ztest(count, nobs, value)\n    >>> print('{0:0.3f}'.format(pval))\n    0.695\n    \n    >>> import numpy as np\n    >>> from statsmodels.stats.proportion import proportions_ztest\n    >>> count = np.array([5, 12])\n    >>> nobs = np.array([83, 99])\n    >>> stat, pval = proportions_ztest(count, nobs)\n    >>> print('{0:0.3f}'.format(pval))\n    0.159\n    \n    Notes\n    -----\n    This uses a simple normal test for proportions. It should be the same as\n    running the mean z-test on the data encoded 1 for event and 0 for no event\n    so that the sum corresponds to the count.\n    \n    In the one and two sample cases with two-sided alternative, this test\n    produces the same p-value as ``proportions_chisquare``, since the\n    chisquare is the distribution of the square of a standard normal\n    distribution.\n\n"
     ]
    }
   ],
   "source": [
    "help(proportions_ztest)"
   ]
  }
 ]
}