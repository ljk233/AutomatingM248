{
 "metadata": {
  "language_info": {
   "codemirror_mode": {
    "name": "ipython",
    "version": 3
   },
   "file_extension": ".py",
   "mimetype": "text/x-python",
   "name": "python",
   "nbconvert_exporter": "python",
   "pygments_lexer": "ipython3",
   "version": "3.8.3"
  },
  "orig_nbformat": 2,
  "kernelspec": {
   "name": "python383jvsc74a57bd0ff1f241afc5a4c2e07811e38e6858495d05af165b3766e4314a3d7953c54c6af",
   "display_name": "Python 3.8.3 64-bit"
  }
 },
 "nbformat": 4,
 "nbformat_minor": 2,
 "cells": [
  {
   "source": [
    "# Mann-Whitney: Tattoo scores by method\n",
    "\n",
    "date\n",
    ": 2021-04-16"
   ],
   "cell_type": "markdown",
   "metadata": {}
  },
  {
   "cell_type": "code",
   "execution_count": 1,
   "metadata": {},
   "outputs": [],
   "source": [
    "from src.data import Load\n",
    "from scipy.stats import mannwhitneyu\n",
    "import pandas as pd\n",
    "import numpy as np"
   ]
  },
  {
   "cell_type": "code",
   "execution_count": 2,
   "metadata": {},
   "outputs": [],
   "source": [
    "# load the sample\n",
    "sample = Load.tattoos()"
   ]
  },
  {
   "source": [
    "## Summary\n",
    "\n",
    "-- Testing whether the difference in location of likert scores for different types of tattoo removals\n",
    "\n",
    "-- Mann-Whitney test carried out\n",
    "\n",
    "-- Little to no evidence against the null hypothesis"
   ],
   "cell_type": "markdown",
   "metadata": {}
  },
  {
   "source": [
    "## Introduction\n",
    "\n",
    "## Introduction\n",
    "\n",
    "-- Patients were asked to rank the quality of tattoo removal\n",
    "\n",
    "-- Method A/Method B explained\n",
    "\n",
    "-- Report is interested in if there is a statistical difference between the scores\n",
    "\n",
    "-- Add reference"
   ],
   "cell_type": "markdown",
   "metadata": {}
  },
  {
   "source": [
    "## Method\n",
    "\n",
    "-- scores were ordered and assigned ranks in ascending order\n",
    "\n",
    "-- assigned ranks were then adjusted for ties\n",
    "\n",
    "-- Mann-Whitney rank test was carried out to see if there was a statistical difference in the location of medians\n",
    "\n",
    "-- Analysis carried out using Python"
   ],
   "cell_type": "markdown",
   "metadata": {}
  },
  {
   "source": [
    "## Results\n",
    "\n",
    "-- Mann-Whitney statistic was calculated to be 315.0\n",
    "\n",
    "-- $p$-value of 0.399"
   ],
   "cell_type": "markdown",
   "metadata": {}
  },
  {
   "source": [
    "## Discussion\n",
    "\n",
    "-- $p >$ 0.1\n",
    "\n",
    "-- we conclude that there is no evidence against the null hypothesis"
   ],
   "cell_type": "markdown",
   "metadata": {}
  },
  {
   "source": [
    "## Appendix I: Calculations\n",
    "\n",
    "This section contains the **Python** used to write the report."
   ],
   "cell_type": "markdown",
   "metadata": {}
  },
  {
   "cell_type": "code",
   "execution_count": 3,
   "metadata": {},
   "outputs": [],
   "source": [
    "# sort the data\n",
    "sample.sort_values(by=[\"Score\"], inplace=True)"
   ]
  },
  {
   "cell_type": "code",
   "execution_count": 4,
   "metadata": {},
   "outputs": [],
   "source": [
    "# add ranks\n",
    "sample[\"rank\"] = np.arange(\n",
    "    start=1,\n",
    "    stop=sample[\"Score\"].size+1\n",
    ")"
   ]
  },
  {
   "cell_type": "code",
   "execution_count": 5,
   "metadata": {},
   "outputs": [],
   "source": [
    "# account for ties\n",
    "scores: dict = dict()\n",
    "\n",
    "# initalise dict where k is a score\n",
    "for a_score in sample[\"Score\"].to_list():\n",
    "    scores[a_score] = 0\n",
    "\n",
    "# calculate average rank for ties\n",
    "for a_score in scores.keys():\n",
    "    scores[a_score] = sample.query('Score == @a_score')[[\"rank\"]].mean()\n",
    "\n",
    "# add adjusted rank\n",
    "sample[\"adj_rank\"] = sample[\"Score\"].apply(lambda x: scores[x])"
   ]
  },
  {
   "cell_type": "code",
   "execution_count": 6,
   "metadata": {},
   "outputs": [],
   "source": [
    "A = sample.query('Method == \"A\"').copy(True)\n",
    "B = sample.query('Method == \"B\"').copy(True)"
   ]
  },
  {
   "cell_type": "code",
   "execution_count": 7,
   "metadata": {},
   "outputs": [
    {
     "output_type": "execute_result",
     "data": {
      "text/plain": [
       "MannwhitneyuResult(statistic=315.0, pvalue=0.39862339403055724)"
      ]
     },
     "metadata": {},
     "execution_count": 7
    }
   ],
   "source": [
    "mannwhitneyu(\n",
    "    x=A[\"adj_rank\"].to_list(),\n",
    "    y=B[\"adj_rank\"].to_list(),\n",
    "    alternative='two-sided'\n",
    ")"
   ]
  }
 ]
}