{
 "metadata": {
  "language_info": {
   "codemirror_mode": {
    "name": "ipython",
    "version": 3
   },
   "file_extension": ".py",
   "mimetype": "text/x-python",
   "name": "python",
   "nbconvert_exporter": "python",
   "pygments_lexer": "ipython3",
   "version": "3.8.3"
  },
  "orig_nbformat": 2,
  "kernelspec": {
   "name": "python383jvsc74a57bd0ff1f241afc5a4c2e07811e38e6858495d05af165b3766e4314a3d7953c54c6af",
   "display_name": "Python 3.8.3 64-bit"
  }
 },
 "nbformat": 4,
 "nbformat_minor": 2,
 "cells": [
  {
   "source": [
    "# $t$-test 2: Sleep gain\n",
    "\n",
    "date\n",
    ": 2021-04-16\n",
    "\n",
    "ref\n",
    ": CB.Ex 7(b)\n",
    "\n",
    "todo\n",
    ": update for new sample"
   ],
   "cell_type": "markdown",
   "metadata": {}
  },
  {
   "cell_type": "code",
   "execution_count": 1,
   "metadata": {},
   "outputs": [],
   "source": [
    "from src.data import Load\n",
    "from scipy.stats import wilcoxon\n",
    "import pandas as pd"
   ]
  },
  {
   "cell_type": "code",
   "execution_count": 2,
   "metadata": {},
   "outputs": [],
   "source": [
    "sample = Load.sleep_gain()"
   ]
  },
  {
   "source": [
    "## Summary\n",
    "\n",
    "-- Add summary"
   ],
   "cell_type": "markdown",
   "metadata": {}
  },
  {
   "source": [
    "## Introduction\n",
    "\n",
    "The pioneering statistician W.S. Gosset (who published his work under the pseudonym 'Student') analysed data on sleep gains (in hours) of ten patients after they had taken each of the drugs L-hyoscyamine hydrobromide and D-hyoscyamine hydrobromide.\n",
    "\n",
    "In this report we ----"
   ],
   "cell_type": "markdown",
   "metadata": {}
  },
  {
   "source": [
    "## Hypotheses\n",
    "\n",
    "**Add hypotheses**"
   ],
   "cell_type": "markdown",
   "metadata": {}
  },
  {
   "source": [
    "## Results\n",
    "\n",
    "**Add results**"
   ],
   "cell_type": "markdown",
   "metadata": {}
  },
  {
   "source": [
    "## Discussion\n",
    "\n",
    "**Add discussion**"
   ],
   "cell_type": "markdown",
   "metadata": {}
  },
  {
   "source": [
    "## Appendix I: Calculations\n",
    "\n",
    "This section contains the **Python** used to write the report."
   ],
   "cell_type": "markdown",
   "metadata": {}
  },
  {
   "cell_type": "code",
   "execution_count": 3,
   "metadata": {},
   "outputs": [
    {
     "output_type": "execute_result",
     "data": {
      "text/plain": [
       "            count  mean       std  min    25%   50%   75%  max\n",
       "Ltreatment   10.0  2.33  2.002249 -0.1  0.875  1.75  4.15  5.5\n",
       "Dtreatment   10.0  0.75  1.789010 -1.6 -0.175  0.35  1.70  3.7"
      ],
      "text/html": "<div>\n<style scoped>\n    .dataframe tbody tr th:only-of-type {\n        vertical-align: middle;\n    }\n\n    .dataframe tbody tr th {\n        vertical-align: top;\n    }\n\n    .dataframe thead th {\n        text-align: right;\n    }\n</style>\n<table border=\"1\" class=\"dataframe\">\n  <thead>\n    <tr style=\"text-align: right;\">\n      <th></th>\n      <th>count</th>\n      <th>mean</th>\n      <th>std</th>\n      <th>min</th>\n      <th>25%</th>\n      <th>50%</th>\n      <th>75%</th>\n      <th>max</th>\n    </tr>\n  </thead>\n  <tbody>\n    <tr>\n      <th>Ltreatment</th>\n      <td>10.0</td>\n      <td>2.33</td>\n      <td>2.002249</td>\n      <td>-0.1</td>\n      <td>0.875</td>\n      <td>1.75</td>\n      <td>4.15</td>\n      <td>5.5</td>\n    </tr>\n    <tr>\n      <th>Dtreatment</th>\n      <td>10.0</td>\n      <td>0.75</td>\n      <td>1.789010</td>\n      <td>-1.6</td>\n      <td>-0.175</td>\n      <td>0.35</td>\n      <td>1.70</td>\n      <td>3.7</td>\n    </tr>\n  </tbody>\n</table>\n</div>"
     },
     "metadata": {},
     "execution_count": 3
    }
   ],
   "source": [
    "# summary table\n",
    "sample.describe().T"
   ]
  },
  {
   "cell_type": "code",
   "execution_count": 4,
   "metadata": {},
   "outputs": [
    {
     "output_type": "execute_result",
     "data": {
      "text/plain": [
       "WilcoxonResult(statistic=53.5, pvalue=0.0029296875)"
      ]
     },
     "metadata": {},
     "execution_count": 4
    }
   ],
   "source": [
    "# Wilcoxon sign rank\n",
    "wilcoxon(\n",
    "    x=sample[\"Ltreatment\"],\n",
    "    alternative=\"greater\"\n",
    ")"
   ]
  },
  {
   "cell_type": "code",
   "execution_count": 5,
   "metadata": {},
   "outputs": [
    {
     "output_type": "stream",
     "name": "stdout",
     "text": [
      "Help on function wilcoxon in module scipy.stats.morestats:\n\nwilcoxon(x, y=None, zero_method='wilcox', correction=False, alternative='two-sided', mode='auto')\n    Calculate the Wilcoxon signed-rank test.\n    \n    The Wilcoxon signed-rank test tests the null hypothesis that two\n    related paired samples come from the same distribution. In particular,\n    it tests whether the distribution of the differences x - y is symmetric\n    about zero. It is a non-parametric version of the paired T-test.\n    \n    Parameters\n    ----------\n    x : array_like\n        Either the first set of measurements (in which case ``y`` is the second\n        set of measurements), or the differences between two sets of\n        measurements (in which case ``y`` is not to be specified.)  Must be\n        one-dimensional.\n    y : array_like, optional\n        Either the second set of measurements (if ``x`` is the first set of\n        measurements), or not specified (if ``x`` is the differences between\n        two sets of measurements.)  Must be one-dimensional.\n    zero_method : {\"pratt\", \"wilcox\", \"zsplit\"}, optional\n        The following options are available (default is \"wilcox\"):\n     \n          * \"pratt\": Includes zero-differences in the ranking process,\n            but drops the ranks of the zeros, see [4]_, (more conservative).\n          * \"wilcox\": Discards all zero-differences, the default.\n          * \"zsplit\": Includes zero-differences in the ranking process and\n            split the zero rank between positive and negative ones.\n    correction : bool, optional\n        If True, apply continuity correction by adjusting the Wilcoxon rank\n        statistic by 0.5 towards the mean value when computing the\n        z-statistic if a normal approximation is used.  Default is False.\n    alternative : {\"two-sided\", \"greater\", \"less\"}, optional\n        The alternative hypothesis to be tested, see Notes. Default is\n        \"two-sided\".\n    mode : {\"auto\", \"exact\", \"approx\"}\n        Method to calculate the p-value, see Notes. Default is \"auto\".\n    \n    Returns\n    -------\n    statistic : float\n        If ``alternative`` is \"two-sided\", the sum of the ranks of the\n        differences above or below zero, whichever is smaller.\n        Otherwise the sum of the ranks of the differences above zero.\n    pvalue : float\n        The p-value for the test depending on ``alternative`` and ``mode``.\n    \n    See Also\n    --------\n    kruskal, mannwhitneyu\n    \n    Notes\n    -----\n    The test has been introduced in [4]_. Given n independent samples\n    (xi, yi) from a bivariate distribution (i.e. paired samples),\n    it computes the differences di = xi - yi. One assumption of the test\n    is that the differences are symmetric, see [2]_.\n    The two-sided test has the null hypothesis that the median of the\n    differences is zero against the alternative that it is different from\n    zero. The one-sided test has the null hypothesis that the median is \n    positive against the alternative that it is negative \n    (``alternative == 'less'``), or vice versa (``alternative == 'greater.'``).\n    \n    To derive the p-value, the exact distribution (``mode == 'exact'``)\n    can be used for sample sizes of up to 25. The default ``mode == 'auto'``\n    uses the exact distribution if there are at most 25 observations and no\n    ties, otherwise a normal approximation is used (``mode == 'approx'``).\n    \n    The treatment of ties can be controlled by the parameter `zero_method`.\n    If ``zero_method == 'pratt'``, the normal approximation is adjusted as in\n    [5]_. A typical rule is to require that n > 20 ([2]_, p. 383).\n    \n    References\n    ----------\n    .. [1] https://en.wikipedia.org/wiki/Wilcoxon_signed-rank_test\n    .. [2] Conover, W.J., Practical Nonparametric Statistics, 1971.\n    .. [3] Pratt, J.W., Remarks on Zeros and Ties in the Wilcoxon Signed\n       Rank Procedures, Journal of the American Statistical Association,\n       Vol. 54, 1959, pp. 655-667. :doi:`10.1080/01621459.1959.10501526`\n    .. [4] Wilcoxon, F., Individual Comparisons by Ranking Methods,\n       Biometrics Bulletin, Vol. 1, 1945, pp. 80-83. :doi:`10.2307/3001968`\n    .. [5] Cureton, E.E., The Normal Approximation to the Signed-Rank\n       Sampling Distribution When Zero Differences are Present,\n       Journal of the American Statistical Association, Vol. 62, 1967,\n       pp. 1068-1069. :doi:`10.1080/01621459.1967.10500917`\n    \n    Examples\n    --------\n    In [4]_, the differences in height between cross- and self-fertilized\n    corn plants is given as follows:\n    \n    >>> d = [6, 8, 14, 16, 23, 24, 28, 29, 41, -48, 49, 56, 60, -67, 75]\n    \n    Cross-fertilized plants appear to be be higher. To test the null\n    hypothesis that there is no height difference, we can apply the\n    two-sided test:\n    \n    >>> from scipy.stats import wilcoxon\n    >>> w, p = wilcoxon(d)\n    >>> w, p\n    (24.0, 0.041259765625)\n    \n    Hence, we would reject the null hypothesis at a confidence level of 5%,\n    concluding that there is a difference in height between the groups.\n    To confirm that the median of the differences can be assumed to be\n    positive, we use:\n    \n    >>> w, p = wilcoxon(d, alternative='greater')\n    >>> w, p\n    (96.0, 0.0206298828125)\n    \n    This shows that the null hypothesis that the median is negative can be\n    rejected at a confidence level of 5% in favor of the alternative that\n    the median is greater than zero. The p-values above are exact. Using the\n    normal approximation gives very similar values:\n    \n    >>> w, p = wilcoxon(d, mode='approx')\n    >>> w, p\n    (24.0, 0.04088813291185591)\n    \n    Note that the statistic changed to 96 in the one-sided case (the sum\n    of ranks of positive differences) whereas it is 24 in the two-sided\n    case (the minimum of sum of ranks above and below zero).\n\n"
     ]
    }
   ],
   "source": [
    "help(wilcoxon)"
   ]
  }
 ]
}