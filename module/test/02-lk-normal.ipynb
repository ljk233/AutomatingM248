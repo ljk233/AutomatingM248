{
 "metadata": {
  "language_info": {
   "codemirror_mode": {
    "name": "ipython",
    "version": 3
   },
   "file_extension": ".py",
   "mimetype": "text/x-python",
   "name": "python",
   "nbconvert_exporter": "python",
   "pygments_lexer": "ipython3",
   "version": "3.8.3"
  },
  "orig_nbformat": 2,
  "kernelspec": {
   "name": "python383jvsc74a57bd0ff1f241afc5a4c2e07811e38e6858495d05af165b3766e4314a3d7953c54c6af",
   "display_name": "Python 3.8.3 64-bit"
  }
 },
 "nbformat": 4,
 "nbformat_minor": 2,
 "cells": [
  {
   "source": [
    "# Test doc: `m248.Normal`\n",
    "\n",
    "**date**\n",
    ": 2021-04-19\n",
    "\n",
    "**desc**\n",
    ": test notebook for the `Normal` class."
   ],
   "cell_type": "markdown",
   "metadata": {}
  },
  {
   "cell_type": "code",
   "execution_count": 1,
   "metadata": {},
   "outputs": [],
   "source": [
    "import os\n",
    "os.chdir(\"..\")\n",
    "from src.m248 import Normal"
   ]
  },
  {
   "source": [
    "## Testing\n",
    "\n",
    "Each test includes the docstring of the function."
   ],
   "cell_type": "markdown",
   "metadata": {}
  },
  {
   "source": [
    "### Constructor"
   ],
   "cell_type": "markdown",
   "metadata": {}
  },
  {
   "cell_type": "code",
   "execution_count": 2,
   "metadata": {},
   "outputs": [
    {
     "output_type": "stream",
     "name": "stdout",
     "text": [
      "Help on function __init__ in module src.m248:\n\n__init__(self, mu: 'float', std: 'float' = None, var: 'float' = None) -> 'None'\n    Constructor for object of type Normal that model the normal\n    distribution N(mu, var).\n    \n    One of args std or var must be passed. If both are passed, then\n    construction uses arg std.\n\n"
     ]
    }
   ],
   "source": [
    "help(Normal.__init__)"
   ]
  },
  {
   "cell_type": "code",
   "execution_count": 3,
   "metadata": {},
   "outputs": [],
   "source": [
    "dist: Normal = Normal(mu=3.4, std=0.5)"
   ]
  },
  {
   "source": [
    "### Methods"
   ],
   "cell_type": "markdown",
   "metadata": {}
  },
  {
   "cell_type": "code",
   "execution_count": 4,
   "metadata": {},
   "outputs": [
    {
     "output_type": "stream",
     "name": "stdout",
     "text": [
      "Help on function describe in module src.m248:\n\ndescribe(self) -> 'None'\n    Prints a representation of the receiver's distribution.\n\n"
     ]
    }
   ],
   "source": [
    "help(Normal.describe)"
   ]
  },
  {
   "cell_type": "code",
   "execution_count": 5,
   "metadata": {},
   "outputs": [
    {
     "output_type": "stream",
     "name": "stdout",
     "text": [
      "Soln{\n    model=Normal,\n    mean=3.4,\n    var=0.25\n}\n"
     ]
    }
   ],
   "source": [
    "dist.describe()"
   ]
  },
  {
   "cell_type": "code",
   "execution_count": 6,
   "metadata": {},
   "outputs": [
    {
     "output_type": "stream",
     "name": "stdout",
     "text": [
      "Help on function cdf in module src.m248:\n\ncdf(self, x: 'float', to_printer: 'bool' = True) -> 'Any'\n    Calculates the Pr(X <= x). If arg `to_printer` is True, then\n    prints the solution to the screen. Otherwise returns the answer\n    as a float.\n    \n    @params\n    =======\n    `x`\n        A float.\n    \n    `to_printer`\n        Whether to print the answer to the screen, or return a\n        float. Default is True.\n    \n    @returns\n    ========\n        `None` or float.\n\n"
     ]
    }
   ],
   "source": [
    "help(Normal.cdf)"
   ]
  },
  {
   "cell_type": "code",
   "execution_count": 7,
   "metadata": {},
   "outputs": [
    {
     "output_type": "stream",
     "name": "stdout",
     "text": [
      "Soln{\n    Line 1: F(3.9)=phi(1.0),\n    Answer:    =0.841344\n}\n"
     ]
    }
   ],
   "source": [
    "dist.cdf(x=3.9)"
   ]
  },
  {
   "cell_type": "code",
   "execution_count": 8,
   "metadata": {},
   "outputs": [
    {
     "output_type": "stream",
     "name": "stdout",
     "text": [
      "Help on function gt in module src.m248:\n\ngt(self, x: 'float', to_printer: 'bool' = True, to_plot: 'bool' = False) -> 'Any'\n    Calculates the Pr(X > x). If arg `to_printer` is True, then\n    prints the solution to the screen. Otherwise returns the answer\n    as a float.\n    \n    @params\n    =======\n    `x`\n        A float\n    \n    `to_printer`\n        Whether to print the answer to the screen, or return a\n        float. Default is True.\n    \n    @returns\n    ========\n        `None` or float.\n\n"
     ]
    }
   ],
   "source": [
    "help(Normal.gt)"
   ]
  },
  {
   "cell_type": "code",
   "execution_count": 9,
   "metadata": {},
   "outputs": [
    {
     "output_type": "stream",
     "name": "stdout",
     "text": [
      "Soln{\n    Line 1: P(X>2.9)=1-F(2.9),\n    Line 2:    =1-phi(-1.0),\n    Line 3:    =1-{1-phi(1.0)},\n    Line 4:    =phi(1.0),\n    Answer:    =0.841344\n}\n"
     ]
    }
   ],
   "source": [
    "dist.gt(x=2.9)"
   ]
  },
  {
   "cell_type": "code",
   "execution_count": 10,
   "metadata": {},
   "outputs": [
    {
     "output_type": "stream",
     "name": "stdout",
     "text": [
      "Help on function pr in module src.m248:\n\npr(self, x1: 'float', x2: 'float') -> 'None'\n    Calculates the Pr(x1< X < x2). Prints the solution to the\n    screen.\n    \n    @params\n    `x1`, `x2`\n        A float\n\n"
     ]
    }
   ],
   "source": [
    "help(Normal.pr)"
   ]
  },
  {
   "cell_type": "code",
   "execution_count": 11,
   "metadata": {},
   "outputs": [
    {
     "output_type": "stream",
     "name": "stdout",
     "text": [
      "Soln{\n    Line 1: P(2.9<X<3.4)=F(3.4)-F(2.9),\n    Line 2:    =phi(0.0)-phi(-1.0),\n    Line 3:    =phi(0.0)-{1-phi(1.0)},\n    Line 4:    =phi(0.0)+phi(1.0)-1,\n    Line 5:    =0.5+0.8413-1,\n    Answer:    =0.341344\n}\n"
     ]
    }
   ],
   "source": [
    "dist.pr(x1=2.9, x2=3.4)"
   ]
  },
  {
   "source": [
    "help(Normal.quantile)"
   ],
   "cell_type": "code",
   "metadata": {},
   "execution_count": 12,
   "outputs": [
    {
     "output_type": "stream",
     "name": "stdout",
     "text": [
      "Help on function quantile in module src.m248:\n\nquantile(self, a: 'float', to_printer: 'bool' = True) -> 'None'\n    Calculates q_{a}. If arg to_printer is True, then prints the\n    solution to the screen. Otherwise returns the answer as a float.\n    \n    @params\n    `a`\n        Float, the quantile to return q_{a}.\n    \n    `to_printer`\n        Whether to print the answer to the screen, or return a\n        float. Default is True.\n    \n    @returns\n        `None` or float\n\n"
     ]
    }
   ]
  },
  {
   "cell_type": "code",
   "execution_count": 13,
   "metadata": {},
   "outputs": [
    {
     "output_type": "stream",
     "name": "stdout",
     "text": [
      "Soln{\n    q(0.97)=1.881,\n    x=4.340396\n}\n"
     ]
    }
   ],
   "source": [
    "dist.quantile(a=0.97)"
   ]
  },
  {
   "source": [
    "## Sampling distributions"
   ],
   "cell_type": "markdown",
   "metadata": {}
  },
  {
   "cell_type": "code",
   "execution_count": 14,
   "metadata": {},
   "outputs": [
    {
     "output_type": "stream",
     "name": "stdout",
     "text": [
      "Help on function take_sampling_distribution in module src.m248:\n\ntake_sampling_distribution(self, n: 'int', sample_mean: 'bool' = True) -> 'Normal'\n    Takes a sampling distribution for the distribution of the\n    receiver. If arg `sample_mean` is true, takes the sampling\n    distribution of the sample mean. Otherwise, takes the\n    distribution of the sample total.\n    \n    Returns an object of type Normal.\n\n"
     ]
    }
   ],
   "source": [
    "help(Normal.take_sampling_distribution)"
   ]
  },
  {
   "cell_type": "code",
   "execution_count": 15,
   "metadata": {},
   "outputs": [],
   "source": [
    "another_dist: Normal = Normal(mu=12, var=2)"
   ]
  },
  {
   "cell_type": "code",
   "execution_count": 16,
   "metadata": {},
   "outputs": [
    {
     "output_type": "stream",
     "name": "stdout",
     "text": [
      "Taking the distribution of the sample total.\n",
      "\n",
      "Target distribution\n",
      "===================\n",
      "Soln{\n",
      "    model=Normal,\n",
      "    mean=12.0,\n",
      "    var=2.0\n",
      "}\n",
      "\n",
      "Sampling distribution\n",
      "=====================\n",
      "Soln{\n",
      "    model=Normal,\n",
      "    mean=360.0,\n",
      "    var=60.0\n",
      "}\n"
     ]
    }
   ],
   "source": [
    "s_dist = another_dist.take_sampling_distribution(\n",
    "    n=30, sample_mean=False\n",
    ")"
   ]
  },
  {
   "cell_type": "code",
   "execution_count": 17,
   "metadata": {},
   "outputs": [
    {
     "output_type": "stream",
     "name": "stdout",
     "text": [
      "Soln{\n    Line 1: P(350<X<365)=F(365)-F(350),\n    Line 2:    =phi(0.65)-phi(-1.29),\n    Line 3:    =phi(0.65)-{1-phi(1.29)},\n    Line 4:    =phi(0.65)+phi(1.29)-1,\n    Line 5:    =0.7422+0.9015-1,\n    Answer:    =0.642344\n}\n"
     ]
    }
   ],
   "source": [
    "s_dist.pr(x1=350, x2=365)"
   ]
  },
  {
   "cell_type": "code",
   "execution_count": 19,
   "metadata": {},
   "outputs": [
    {
     "output_type": "display_data",
     "data": {
      "text/plain": "<Figure size 432x288 with 1 Axes>",
      "image/svg+xml": "<?xml version=\"1.0\" encoding=\"utf-8\" standalone=\"no\"?>\r\n<!DOCTYPE svg PUBLIC \"-//W3C//DTD SVG 1.1//EN\"\r\n  \"http://www.w3.org/Graphics/SVG/1.1/DTD/svg11.dtd\">\r\n<!-- Created with matplotlib (https://matplotlib.org/) -->\r\n<svg height=\"263.63625pt\" version=\"1.1\" viewBox=\"0 0 378.465625 263.63625\" width=\"378.465625pt\" xmlns=\"http://www.w3.org/2000/svg\" xmlns:xlink=\"http://www.w3.org/1999/xlink\">\r\n <metadata>\r\n  <rdf:RDF xmlns:cc=\"http://creativecommons.org/ns#\" xmlns:dc=\"http://purl.org/dc/elements/1.1/\" xmlns:rdf=\"http://www.w3.org/1999/02/22-rdf-syntax-ns#\">\r\n   <cc:Work>\r\n    <dc:type rdf:resource=\"http://purl.org/dc/dcmitype/StillImage\"/>\r\n    <dc:date>2021-04-20T06:04:40.481801</dc:date>\r\n    <dc:format>image/svg+xml</dc:format>\r\n    <dc:creator>\r\n     <cc:Agent>\r\n      <dc:title>Matplotlib v3.3.0, https://matplotlib.org/</dc:title>\r\n     </cc:Agent>\r\n    </dc:creator>\r\n   </cc:Work>\r\n  </rdf:RDF>\r\n </metadata>\r\n <defs>\r\n  <style type=\"text/css\">*{stroke-linecap:butt;stroke-linejoin:round;}</style>\r\n </defs>\r\n <g id=\"figure_1\">\r\n  <g id=\"patch_1\">\r\n   <path d=\"M 0 263.63625 \r\nL 378.465625 263.63625 \r\nL 378.465625 0 \r\nL 0 0 \r\nz\r\n\" style=\"fill:none;\"/>\r\n  </g>\r\n  <g id=\"axes_1\">\r\n   <g id=\"patch_2\">\r\n    <path d=\"M 36.465625 239.758125 \r\nL 371.265625 239.758125 \r\nL 371.265625 22.318125 \r\nL 36.465625 22.318125 \r\nz\r\n\" style=\"fill:#ffffff;\"/>\r\n   </g>\r\n   <g id=\"PolyCollection_1\">\r\n    <path clip-path=\"url(#pe42f11fbb2)\" d=\"M 246.091873 229.874489 \r\nL 246.091873 69.332499 \r\nL 247.202535 71.105228 \r\nL 248.313197 72.903638 \r\nL 249.42386 74.726406 \r\nL 250.534522 76.572206 \r\nL 251.645184 78.439706 \r\nL 252.755847 80.327571 \r\nL 253.866509 82.234466 \r\nL 254.977171 84.159057 \r\nL 256.087834 86.10001 \r\nL 257.198496 88.055995 \r\nL 258.309158 90.02569 \r\nL 259.419821 92.007775 \r\nL 260.530483 94.000941 \r\nL 261.641145 96.003886 \r\nL 262.751808 98.015322 \r\nL 263.86247 100.033968 \r\nL 264.973132 102.058561 \r\nL 266.083794 104.087849 \r\nL 267.194457 106.120598 \r\nL 268.305119 108.155588 \r\nL 269.415781 110.191621 \r\nL 270.526444 112.227514 \r\nL 271.637106 114.262107 \r\nL 272.747768 116.294259 \r\nL 273.858431 118.322853 \r\nL 274.969093 120.346791 \r\nL 276.079755 122.365004 \r\nL 277.190418 124.376444 \r\nL 278.30108 126.380089 \r\nL 279.411742 128.374943 \r\nL 280.522405 130.360036 \r\nL 281.633067 132.334427 \r\nL 282.743729 134.2972 \r\nL 283.854392 136.247471 \r\nL 284.965054 138.18438 \r\nL 286.075716 140.1071 \r\nL 287.186379 142.014831 \r\nL 288.297041 143.906804 \r\nL 289.407703 145.782279 \r\nL 290.518366 147.640547 \r\nL 291.629028 149.480929 \r\nL 292.73969 151.302776 \r\nL 293.850353 153.10547 \r\nL 294.961015 154.888423 \r\nL 296.071677 156.651077 \r\nL 297.18234 158.392907 \r\nL 298.293002 160.113414 \r\nL 299.403664 161.812132 \r\nL 300.514327 163.488626 \r\nL 301.624989 165.142486 \r\nL 302.735651 166.773337 \r\nL 303.846314 168.380829 \r\nL 304.956976 169.964643 \r\nL 306.067638 171.524487 \r\nL 307.178301 173.060098 \r\nL 308.288963 174.57124 \r\nL 309.399625 176.057704 \r\nL 310.510288 177.519309 \r\nL 311.62095 178.955898 \r\nL 312.731612 180.367341 \r\nL 313.842275 181.753534 \r\nL 314.952937 183.114394 \r\nL 316.063599 184.449865 \r\nL 317.174262 185.759913 \r\nL 318.284924 187.044528 \r\nL 319.395586 188.303719 \r\nL 320.506249 189.53752 \r\nL 321.616911 190.745983 \r\nL 322.727573 191.929182 \r\nL 323.838236 193.087208 \r\nL 324.948898 194.220172 \r\nL 326.05956 195.328203 \r\nL 327.170223 196.411448 \r\nL 328.280885 197.470068 \r\nL 329.391547 198.504242 \r\nL 330.50221 199.514164 \r\nL 331.612872 200.500042 \r\nL 332.723534 201.462097 \r\nL 333.834197 202.400565 \r\nL 334.944859 203.315691 \r\nL 336.055521 204.207736 \r\nL 337.166184 205.076968 \r\nL 338.276846 205.923668 \r\nL 339.387508 206.748125 \r\nL 340.498171 207.550638 \r\nL 341.608833 208.331514 \r\nL 342.719495 209.091067 \r\nL 343.830158 209.829619 \r\nL 344.94082 210.547498 \r\nL 346.051482 211.245038 \r\nL 347.162145 211.922579 \r\nL 348.272807 212.580464 \r\nL 349.383469 213.219041 \r\nL 350.494132 213.838662 \r\nL 351.604794 214.439681 \r\nL 352.715456 215.022457 \r\nL 353.826119 215.587347 \r\nL 354.936781 216.134714 \r\nL 356.047443 216.664918 \r\nL 356.047443 229.874489 \r\nL 356.047443 229.874489 \r\nL 354.936781 229.874489 \r\nL 353.826119 229.874489 \r\nL 352.715456 229.874489 \r\nL 351.604794 229.874489 \r\nL 350.494132 229.874489 \r\nL 349.383469 229.874489 \r\nL 348.272807 229.874489 \r\nL 347.162145 229.874489 \r\nL 346.051482 229.874489 \r\nL 344.94082 229.874489 \r\nL 343.830158 229.874489 \r\nL 342.719495 229.874489 \r\nL 341.608833 229.874489 \r\nL 340.498171 229.874489 \r\nL 339.387508 229.874489 \r\nL 338.276846 229.874489 \r\nL 337.166184 229.874489 \r\nL 336.055521 229.874489 \r\nL 334.944859 229.874489 \r\nL 333.834197 229.874489 \r\nL 332.723534 229.874489 \r\nL 331.612872 229.874489 \r\nL 330.50221 229.874489 \r\nL 329.391547 229.874489 \r\nL 328.280885 229.874489 \r\nL 327.170223 229.874489 \r\nL 326.05956 229.874489 \r\nL 324.948898 229.874489 \r\nL 323.838236 229.874489 \r\nL 322.727573 229.874489 \r\nL 321.616911 229.874489 \r\nL 320.506249 229.874489 \r\nL 319.395586 229.874489 \r\nL 318.284924 229.874489 \r\nL 317.174262 229.874489 \r\nL 316.063599 229.874489 \r\nL 314.952937 229.874489 \r\nL 313.842275 229.874489 \r\nL 312.731612 229.874489 \r\nL 311.62095 229.874489 \r\nL 310.510288 229.874489 \r\nL 309.399625 229.874489 \r\nL 308.288963 229.874489 \r\nL 307.178301 229.874489 \r\nL 306.067638 229.874489 \r\nL 304.956976 229.874489 \r\nL 303.846314 229.874489 \r\nL 302.735651 229.874489 \r\nL 301.624989 229.874489 \r\nL 300.514327 229.874489 \r\nL 299.403664 229.874489 \r\nL 298.293002 229.874489 \r\nL 297.18234 229.874489 \r\nL 296.071677 229.874489 \r\nL 294.961015 229.874489 \r\nL 293.850353 229.874489 \r\nL 292.73969 229.874489 \r\nL 291.629028 229.874489 \r\nL 290.518366 229.874489 \r\nL 289.407703 229.874489 \r\nL 288.297041 229.874489 \r\nL 287.186379 229.874489 \r\nL 286.075716 229.874489 \r\nL 284.965054 229.874489 \r\nL 283.854392 229.874489 \r\nL 282.743729 229.874489 \r\nL 281.633067 229.874489 \r\nL 280.522405 229.874489 \r\nL 279.411742 229.874489 \r\nL 278.30108 229.874489 \r\nL 277.190418 229.874489 \r\nL 276.079755 229.874489 \r\nL 274.969093 229.874489 \r\nL 273.858431 229.874489 \r\nL 272.747768 229.874489 \r\nL 271.637106 229.874489 \r\nL 270.526444 229.874489 \r\nL 269.415781 229.874489 \r\nL 268.305119 229.874489 \r\nL 267.194457 229.874489 \r\nL 266.083794 229.874489 \r\nL 264.973132 229.874489 \r\nL 263.86247 229.874489 \r\nL 262.751808 229.874489 \r\nL 261.641145 229.874489 \r\nL 260.530483 229.874489 \r\nL 259.419821 229.874489 \r\nL 258.309158 229.874489 \r\nL 257.198496 229.874489 \r\nL 256.087834 229.874489 \r\nL 254.977171 229.874489 \r\nL 253.866509 229.874489 \r\nL 252.755847 229.874489 \r\nL 251.645184 229.874489 \r\nL 250.534522 229.874489 \r\nL 249.42386 229.874489 \r\nL 248.313197 229.874489 \r\nL 247.202535 229.874489 \r\nL 246.091873 229.874489 \r\nz\r\n\" style=\"fill:#1f77b4;fill-opacity:0.5;\"/>\r\n   </g>\r\n   <g id=\"matplotlib.axis_1\">\r\n    <g id=\"xtick_1\">\r\n     <g id=\"line2d_1\">\r\n      <defs>\r\n       <path d=\"M 0 0 \r\nL 0 3.5 \r\n\" id=\"m97038fce2b\" style=\"stroke:#000000;stroke-width:0.8;\"/>\r\n      </defs>\r\n      <g>\r\n       <use style=\"stroke:#000000;stroke-width:0.8;\" x=\"77.186882\" xlink:href=\"#m97038fce2b\" y=\"239.758125\"/>\r\n      </g>\r\n     </g>\r\n     <g id=\"text_1\">\r\n      <!-- 345 -->\r\n      <g transform=\"translate(67.643132 254.356563)scale(0.1 -0.1)\">\r\n       <defs>\r\n        <path d=\"M 40.578125 39.3125 \r\nQ 47.65625 37.796875 51.625 33 \r\nQ 55.609375 28.21875 55.609375 21.1875 \r\nQ 55.609375 10.40625 48.1875 4.484375 \r\nQ 40.765625 -1.421875 27.09375 -1.421875 \r\nQ 22.515625 -1.421875 17.65625 -0.515625 \r\nQ 12.796875 0.390625 7.625 2.203125 \r\nL 7.625 11.71875 \r\nQ 11.71875 9.328125 16.59375 8.109375 \r\nQ 21.484375 6.890625 26.8125 6.890625 \r\nQ 36.078125 6.890625 40.9375 10.546875 \r\nQ 45.796875 14.203125 45.796875 21.1875 \r\nQ 45.796875 27.640625 41.28125 31.265625 \r\nQ 36.765625 34.90625 28.71875 34.90625 \r\nL 20.21875 34.90625 \r\nL 20.21875 43.015625 \r\nL 29.109375 43.015625 \r\nQ 36.375 43.015625 40.234375 45.921875 \r\nQ 44.09375 48.828125 44.09375 54.296875 \r\nQ 44.09375 59.90625 40.109375 62.90625 \r\nQ 36.140625 65.921875 28.71875 65.921875 \r\nQ 24.65625 65.921875 20.015625 65.03125 \r\nQ 15.375 64.15625 9.8125 62.3125 \r\nL 9.8125 71.09375 \r\nQ 15.4375 72.65625 20.34375 73.4375 \r\nQ 25.25 74.21875 29.59375 74.21875 \r\nQ 40.828125 74.21875 47.359375 69.109375 \r\nQ 53.90625 64.015625 53.90625 55.328125 \r\nQ 53.90625 49.265625 50.4375 45.09375 \r\nQ 46.96875 40.921875 40.578125 39.3125 \r\nz\r\n\" id=\"DejaVuSans-51\"/>\r\n        <path d=\"M 37.796875 64.3125 \r\nL 12.890625 25.390625 \r\nL 37.796875 25.390625 \r\nz\r\nM 35.203125 72.90625 \r\nL 47.609375 72.90625 \r\nL 47.609375 25.390625 \r\nL 58.015625 25.390625 \r\nL 58.015625 17.1875 \r\nL 47.609375 17.1875 \r\nL 47.609375 0 \r\nL 37.796875 0 \r\nL 37.796875 17.1875 \r\nL 4.890625 17.1875 \r\nL 4.890625 26.703125 \r\nz\r\n\" id=\"DejaVuSans-52\"/>\r\n        <path d=\"M 10.796875 72.90625 \r\nL 49.515625 72.90625 \r\nL 49.515625 64.59375 \r\nL 19.828125 64.59375 \r\nL 19.828125 46.734375 \r\nQ 21.96875 47.46875 24.109375 47.828125 \r\nQ 26.265625 48.1875 28.421875 48.1875 \r\nQ 40.625 48.1875 47.75 41.5 \r\nQ 54.890625 34.8125 54.890625 23.390625 \r\nQ 54.890625 11.625 47.5625 5.09375 \r\nQ 40.234375 -1.421875 26.90625 -1.421875 \r\nQ 22.3125 -1.421875 17.546875 -0.640625 \r\nQ 12.796875 0.140625 7.71875 1.703125 \r\nL 7.71875 11.625 \r\nQ 12.109375 9.234375 16.796875 8.0625 \r\nQ 21.484375 6.890625 26.703125 6.890625 \r\nQ 35.15625 6.890625 40.078125 11.328125 \r\nQ 45.015625 15.765625 45.015625 23.390625 \r\nQ 45.015625 31 40.078125 35.4375 \r\nQ 35.15625 39.890625 26.703125 39.890625 \r\nQ 22.75 39.890625 18.8125 39.015625 \r\nQ 14.890625 38.140625 10.796875 36.28125 \r\nz\r\n\" id=\"DejaVuSans-53\"/>\r\n       </defs>\r\n       <use xlink:href=\"#DejaVuSans-51\"/>\r\n       <use x=\"63.623047\" xlink:href=\"#DejaVuSans-52\"/>\r\n       <use x=\"127.246094\" xlink:href=\"#DejaVuSans-53\"/>\r\n      </g>\r\n     </g>\r\n    </g>\r\n    <g id=\"xtick_2\">\r\n     <g id=\"line2d_2\">\r\n      <g>\r\n       <use style=\"stroke:#000000;stroke-width:0.8;\" x=\"119.41313\" xlink:href=\"#m97038fce2b\" y=\"239.758125\"/>\r\n      </g>\r\n     </g>\r\n     <g id=\"text_2\">\r\n      <!-- 350 -->\r\n      <g transform=\"translate(109.86938 254.356563)scale(0.1 -0.1)\">\r\n       <defs>\r\n        <path d=\"M 31.78125 66.40625 \r\nQ 24.171875 66.40625 20.328125 58.90625 \r\nQ 16.5 51.421875 16.5 36.375 \r\nQ 16.5 21.390625 20.328125 13.890625 \r\nQ 24.171875 6.390625 31.78125 6.390625 \r\nQ 39.453125 6.390625 43.28125 13.890625 \r\nQ 47.125 21.390625 47.125 36.375 \r\nQ 47.125 51.421875 43.28125 58.90625 \r\nQ 39.453125 66.40625 31.78125 66.40625 \r\nz\r\nM 31.78125 74.21875 \r\nQ 44.046875 74.21875 50.515625 64.515625 \r\nQ 56.984375 54.828125 56.984375 36.375 \r\nQ 56.984375 17.96875 50.515625 8.265625 \r\nQ 44.046875 -1.421875 31.78125 -1.421875 \r\nQ 19.53125 -1.421875 13.0625 8.265625 \r\nQ 6.59375 17.96875 6.59375 36.375 \r\nQ 6.59375 54.828125 13.0625 64.515625 \r\nQ 19.53125 74.21875 31.78125 74.21875 \r\nz\r\n\" id=\"DejaVuSans-48\"/>\r\n       </defs>\r\n       <use xlink:href=\"#DejaVuSans-51\"/>\r\n       <use x=\"63.623047\" xlink:href=\"#DejaVuSans-53\"/>\r\n       <use x=\"127.246094\" xlink:href=\"#DejaVuSans-48\"/>\r\n      </g>\r\n     </g>\r\n    </g>\r\n    <g id=\"xtick_3\">\r\n     <g id=\"line2d_3\">\r\n      <g>\r\n       <use style=\"stroke:#000000;stroke-width:0.8;\" x=\"161.639377\" xlink:href=\"#m97038fce2b\" y=\"239.758125\"/>\r\n      </g>\r\n     </g>\r\n     <g id=\"text_3\">\r\n      <!-- 355 -->\r\n      <g transform=\"translate(152.095627 254.356563)scale(0.1 -0.1)\">\r\n       <use xlink:href=\"#DejaVuSans-51\"/>\r\n       <use x=\"63.623047\" xlink:href=\"#DejaVuSans-53\"/>\r\n       <use x=\"127.246094\" xlink:href=\"#DejaVuSans-53\"/>\r\n      </g>\r\n     </g>\r\n    </g>\r\n    <g id=\"xtick_4\">\r\n     <g id=\"line2d_4\">\r\n      <g>\r\n       <use style=\"stroke:#000000;stroke-width:0.8;\" x=\"203.865625\" xlink:href=\"#m97038fce2b\" y=\"239.758125\"/>\r\n      </g>\r\n     </g>\r\n     <g id=\"text_4\">\r\n      <!-- 360 -->\r\n      <g transform=\"translate(194.321875 254.356563)scale(0.1 -0.1)\">\r\n       <defs>\r\n        <path d=\"M 33.015625 40.375 \r\nQ 26.375 40.375 22.484375 35.828125 \r\nQ 18.609375 31.296875 18.609375 23.390625 \r\nQ 18.609375 15.53125 22.484375 10.953125 \r\nQ 26.375 6.390625 33.015625 6.390625 \r\nQ 39.65625 6.390625 43.53125 10.953125 \r\nQ 47.40625 15.53125 47.40625 23.390625 \r\nQ 47.40625 31.296875 43.53125 35.828125 \r\nQ 39.65625 40.375 33.015625 40.375 \r\nz\r\nM 52.59375 71.296875 \r\nL 52.59375 62.3125 \r\nQ 48.875 64.0625 45.09375 64.984375 \r\nQ 41.3125 65.921875 37.59375 65.921875 \r\nQ 27.828125 65.921875 22.671875 59.328125 \r\nQ 17.53125 52.734375 16.796875 39.40625 \r\nQ 19.671875 43.65625 24.015625 45.921875 \r\nQ 28.375 48.1875 33.59375 48.1875 \r\nQ 44.578125 48.1875 50.953125 41.515625 \r\nQ 57.328125 34.859375 57.328125 23.390625 \r\nQ 57.328125 12.15625 50.6875 5.359375 \r\nQ 44.046875 -1.421875 33.015625 -1.421875 \r\nQ 20.359375 -1.421875 13.671875 8.265625 \r\nQ 6.984375 17.96875 6.984375 36.375 \r\nQ 6.984375 53.65625 15.1875 63.9375 \r\nQ 23.390625 74.21875 37.203125 74.21875 \r\nQ 40.921875 74.21875 44.703125 73.484375 \r\nQ 48.484375 72.75 52.59375 71.296875 \r\nz\r\n\" id=\"DejaVuSans-54\"/>\r\n       </defs>\r\n       <use xlink:href=\"#DejaVuSans-51\"/>\r\n       <use x=\"63.623047\" xlink:href=\"#DejaVuSans-54\"/>\r\n       <use x=\"127.246094\" xlink:href=\"#DejaVuSans-48\"/>\r\n      </g>\r\n     </g>\r\n    </g>\r\n    <g id=\"xtick_5\">\r\n     <g id=\"line2d_5\">\r\n      <g>\r\n       <use style=\"stroke:#000000;stroke-width:0.8;\" x=\"246.091873\" xlink:href=\"#m97038fce2b\" y=\"239.758125\"/>\r\n      </g>\r\n     </g>\r\n     <g id=\"text_5\">\r\n      <!-- 365 -->\r\n      <g transform=\"translate(236.548123 254.356563)scale(0.1 -0.1)\">\r\n       <use xlink:href=\"#DejaVuSans-51\"/>\r\n       <use x=\"63.623047\" xlink:href=\"#DejaVuSans-54\"/>\r\n       <use x=\"127.246094\" xlink:href=\"#DejaVuSans-53\"/>\r\n      </g>\r\n     </g>\r\n    </g>\r\n    <g id=\"xtick_6\">\r\n     <g id=\"line2d_6\">\r\n      <g>\r\n       <use style=\"stroke:#000000;stroke-width:0.8;\" x=\"288.31812\" xlink:href=\"#m97038fce2b\" y=\"239.758125\"/>\r\n      </g>\r\n     </g>\r\n     <g id=\"text_6\">\r\n      <!-- 370 -->\r\n      <g transform=\"translate(278.77437 254.356563)scale(0.1 -0.1)\">\r\n       <defs>\r\n        <path d=\"M 8.203125 72.90625 \r\nL 55.078125 72.90625 \r\nL 55.078125 68.703125 \r\nL 28.609375 0 \r\nL 18.3125 0 \r\nL 43.21875 64.59375 \r\nL 8.203125 64.59375 \r\nz\r\n\" id=\"DejaVuSans-55\"/>\r\n       </defs>\r\n       <use xlink:href=\"#DejaVuSans-51\"/>\r\n       <use x=\"63.623047\" xlink:href=\"#DejaVuSans-55\"/>\r\n       <use x=\"127.246094\" xlink:href=\"#DejaVuSans-48\"/>\r\n      </g>\r\n     </g>\r\n    </g>\r\n    <g id=\"xtick_7\">\r\n     <g id=\"line2d_7\">\r\n      <g>\r\n       <use style=\"stroke:#000000;stroke-width:0.8;\" x=\"330.544368\" xlink:href=\"#m97038fce2b\" y=\"239.758125\"/>\r\n      </g>\r\n     </g>\r\n     <g id=\"text_7\">\r\n      <!-- 375 -->\r\n      <g transform=\"translate(321.000618 254.356563)scale(0.1 -0.1)\">\r\n       <use xlink:href=\"#DejaVuSans-51\"/>\r\n       <use x=\"63.623047\" xlink:href=\"#DejaVuSans-55\"/>\r\n       <use x=\"127.246094\" xlink:href=\"#DejaVuSans-53\"/>\r\n      </g>\r\n     </g>\r\n    </g>\r\n   </g>\r\n   <g id=\"matplotlib.axis_2\">\r\n    <g id=\"ytick_1\">\r\n     <g id=\"line2d_8\">\r\n      <defs>\r\n       <path d=\"M 0 0 \r\nL -3.5 0 \r\n\" id=\"m9638819419\" style=\"stroke:#000000;stroke-width:0.8;\"/>\r\n      </defs>\r\n      <g>\r\n       <use style=\"stroke:#000000;stroke-width:0.8;\" x=\"36.465625\" xlink:href=\"#m9638819419\" y=\"229.874489\"/>\r\n      </g>\r\n     </g>\r\n     <g id=\"text_8\">\r\n      <!-- 0.00 -->\r\n      <g transform=\"translate(7.2 233.673707)scale(0.1 -0.1)\">\r\n       <defs>\r\n        <path d=\"M 10.6875 12.40625 \r\nL 21 12.40625 \r\nL 21 0 \r\nL 10.6875 0 \r\nz\r\n\" id=\"DejaVuSans-46\"/>\r\n       </defs>\r\n       <use xlink:href=\"#DejaVuSans-48\"/>\r\n       <use x=\"63.623047\" xlink:href=\"#DejaVuSans-46\"/>\r\n       <use x=\"95.410156\" xlink:href=\"#DejaVuSans-48\"/>\r\n       <use x=\"159.033203\" xlink:href=\"#DejaVuSans-48\"/>\r\n      </g>\r\n     </g>\r\n    </g>\r\n    <g id=\"ytick_2\">\r\n     <g id=\"line2d_9\">\r\n      <g>\r\n       <use style=\"stroke:#000000;stroke-width:0.8;\" x=\"36.465625\" xlink:href=\"#m9638819419\" y=\"191.483242\"/>\r\n      </g>\r\n     </g>\r\n     <g id=\"text_9\">\r\n      <!-- 0.01 -->\r\n      <g transform=\"translate(7.2 195.282461)scale(0.1 -0.1)\">\r\n       <defs>\r\n        <path d=\"M 12.40625 8.296875 \r\nL 28.515625 8.296875 \r\nL 28.515625 63.921875 \r\nL 10.984375 60.40625 \r\nL 10.984375 69.390625 \r\nL 28.421875 72.90625 \r\nL 38.28125 72.90625 \r\nL 38.28125 8.296875 \r\nL 54.390625 8.296875 \r\nL 54.390625 0 \r\nL 12.40625 0 \r\nz\r\n\" id=\"DejaVuSans-49\"/>\r\n       </defs>\r\n       <use xlink:href=\"#DejaVuSans-48\"/>\r\n       <use x=\"63.623047\" xlink:href=\"#DejaVuSans-46\"/>\r\n       <use x=\"95.410156\" xlink:href=\"#DejaVuSans-48\"/>\r\n       <use x=\"159.033203\" xlink:href=\"#DejaVuSans-49\"/>\r\n      </g>\r\n     </g>\r\n    </g>\r\n    <g id=\"ytick_3\">\r\n     <g id=\"line2d_10\">\r\n      <g>\r\n       <use style=\"stroke:#000000;stroke-width:0.8;\" x=\"36.465625\" xlink:href=\"#m9638819419\" y=\"153.091995\"/>\r\n      </g>\r\n     </g>\r\n     <g id=\"text_10\">\r\n      <!-- 0.02 -->\r\n      <g transform=\"translate(7.2 156.891214)scale(0.1 -0.1)\">\r\n       <defs>\r\n        <path d=\"M 19.1875 8.296875 \r\nL 53.609375 8.296875 \r\nL 53.609375 0 \r\nL 7.328125 0 \r\nL 7.328125 8.296875 \r\nQ 12.9375 14.109375 22.625 23.890625 \r\nQ 32.328125 33.6875 34.8125 36.53125 \r\nQ 39.546875 41.84375 41.421875 45.53125 \r\nQ 43.3125 49.21875 43.3125 52.78125 \r\nQ 43.3125 58.59375 39.234375 62.25 \r\nQ 35.15625 65.921875 28.609375 65.921875 \r\nQ 23.96875 65.921875 18.8125 64.3125 \r\nQ 13.671875 62.703125 7.8125 59.421875 \r\nL 7.8125 69.390625 \r\nQ 13.765625 71.78125 18.9375 73 \r\nQ 24.125 74.21875 28.421875 74.21875 \r\nQ 39.75 74.21875 46.484375 68.546875 \r\nQ 53.21875 62.890625 53.21875 53.421875 \r\nQ 53.21875 48.921875 51.53125 44.890625 \r\nQ 49.859375 40.875 45.40625 35.40625 \r\nQ 44.1875 33.984375 37.640625 27.21875 \r\nQ 31.109375 20.453125 19.1875 8.296875 \r\nz\r\n\" id=\"DejaVuSans-50\"/>\r\n       </defs>\r\n       <use xlink:href=\"#DejaVuSans-48\"/>\r\n       <use x=\"63.623047\" xlink:href=\"#DejaVuSans-46\"/>\r\n       <use x=\"95.410156\" xlink:href=\"#DejaVuSans-48\"/>\r\n       <use x=\"159.033203\" xlink:href=\"#DejaVuSans-50\"/>\r\n      </g>\r\n     </g>\r\n    </g>\r\n    <g id=\"ytick_4\">\r\n     <g id=\"line2d_11\">\r\n      <g>\r\n       <use style=\"stroke:#000000;stroke-width:0.8;\" x=\"36.465625\" xlink:href=\"#m9638819419\" y=\"114.700748\"/>\r\n      </g>\r\n     </g>\r\n     <g id=\"text_11\">\r\n      <!-- 0.03 -->\r\n      <g transform=\"translate(7.2 118.499967)scale(0.1 -0.1)\">\r\n       <use xlink:href=\"#DejaVuSans-48\"/>\r\n       <use x=\"63.623047\" xlink:href=\"#DejaVuSans-46\"/>\r\n       <use x=\"95.410156\" xlink:href=\"#DejaVuSans-48\"/>\r\n       <use x=\"159.033203\" xlink:href=\"#DejaVuSans-51\"/>\r\n      </g>\r\n     </g>\r\n    </g>\r\n    <g id=\"ytick_5\">\r\n     <g id=\"line2d_12\">\r\n      <g>\r\n       <use style=\"stroke:#000000;stroke-width:0.8;\" x=\"36.465625\" xlink:href=\"#m9638819419\" y=\"76.309501\"/>\r\n      </g>\r\n     </g>\r\n     <g id=\"text_12\">\r\n      <!-- 0.04 -->\r\n      <g transform=\"translate(7.2 80.10872)scale(0.1 -0.1)\">\r\n       <use xlink:href=\"#DejaVuSans-48\"/>\r\n       <use x=\"63.623047\" xlink:href=\"#DejaVuSans-46\"/>\r\n       <use x=\"95.410156\" xlink:href=\"#DejaVuSans-48\"/>\r\n       <use x=\"159.033203\" xlink:href=\"#DejaVuSans-52\"/>\r\n      </g>\r\n     </g>\r\n    </g>\r\n    <g id=\"ytick_6\">\r\n     <g id=\"line2d_13\">\r\n      <g>\r\n       <use style=\"stroke:#000000;stroke-width:0.8;\" x=\"36.465625\" xlink:href=\"#m9638819419\" y=\"37.918254\"/>\r\n      </g>\r\n     </g>\r\n     <g id=\"text_13\">\r\n      <!-- 0.05 -->\r\n      <g transform=\"translate(7.2 41.717473)scale(0.1 -0.1)\">\r\n       <use xlink:href=\"#DejaVuSans-48\"/>\r\n       <use x=\"63.623047\" xlink:href=\"#DejaVuSans-46\"/>\r\n       <use x=\"95.410156\" xlink:href=\"#DejaVuSans-48\"/>\r\n       <use x=\"159.033203\" xlink:href=\"#DejaVuSans-53\"/>\r\n      </g>\r\n     </g>\r\n    </g>\r\n   </g>\r\n   <g id=\"line2d_14\">\r\n    <path clip-path=\"url(#pe42f11fbb2)\" d=\"M 51.683807 216.664918 \r\nL 54.758187 215.155057 \r\nL 57.832567 213.508806 \r\nL 60.906947 211.71858 \r\nL 63.981327 209.776962 \r\nL 67.055708 207.676787 \r\nL 70.130088 205.411237 \r\nL 73.204468 202.973942 \r\nL 76.278848 200.359079 \r\nL 79.353228 197.561488 \r\nL 82.427608 194.576778 \r\nL 85.501989 191.401445 \r\nL 88.576369 188.032981 \r\nL 91.650749 184.469991 \r\nL 94.725129 180.712302 \r\nL 97.799509 176.761067 \r\nL 100.873889 172.618867 \r\nL 103.94827 168.289799 \r\nL 107.02265 163.779558 \r\nL 110.09703 159.095506 \r\nL 113.17141 154.246727 \r\nL 116.24579 149.244064 \r\nL 119.32017 144.100142 \r\nL 122.394551 138.829372 \r\nL 125.468931 133.447931 \r\nL 128.543311 127.973725 \r\nL 131.617691 122.426328 \r\nL 134.692071 116.826901 \r\nL 137.766451 111.198084 \r\nL 140.840832 105.563868 \r\nL 143.915212 99.94945 \r\nL 146.989592 94.381056 \r\nL 150.063972 88.885757 \r\nL 153.138352 83.491257 \r\nL 156.212732 78.225671 \r\nL 159.287113 73.11729 \r\nL 162.361493 68.194329 \r\nL 165.435873 63.484676 \r\nL 168.510253 59.015628 \r\nL 171.584633 54.813633 \r\nL 174.659013 50.904028 \r\nL 177.733394 47.310786 \r\nL 180.807774 44.056273 \r\nL 183.882154 41.161018 \r\nL 186.956534 38.643492 \r\nL 190.030914 36.519918 \r\nL 193.105294 34.804092 \r\nL 196.179675 33.507237 \r\nL 199.254055 32.637882 \r\nL 202.328435 32.201761 \r\nL 205.402815 32.201761 \r\nL 208.477195 32.637882 \r\nL 211.551575 33.507237 \r\nL 214.625956 34.804092 \r\nL 217.700336 36.519918 \r\nL 220.774716 38.643492 \r\nL 223.849096 41.161018 \r\nL 226.923476 44.056273 \r\nL 229.997856 47.310786 \r\nL 233.072237 50.904028 \r\nL 236.146617 54.813633 \r\nL 239.220997 59.015628 \r\nL 242.295377 63.484676 \r\nL 245.369757 68.194329 \r\nL 248.444137 73.11729 \r\nL 251.518518 78.225671 \r\nL 254.592898 83.491257 \r\nL 257.667278 88.885757 \r\nL 260.741658 94.381056 \r\nL 263.816038 99.94945 \r\nL 266.890418 105.563868 \r\nL 269.964799 111.198084 \r\nL 273.039179 116.826901 \r\nL 276.113559 122.426328 \r\nL 279.187939 127.973725 \r\nL 282.262319 133.447931 \r\nL 285.336699 138.829372 \r\nL 288.41108 144.100142 \r\nL 291.48546 149.244064 \r\nL 294.55984 154.246727 \r\nL 297.63422 159.095506 \r\nL 300.7086 163.779558 \r\nL 303.78298 168.289799 \r\nL 306.857361 172.618867 \r\nL 309.931741 176.761067 \r\nL 313.006121 180.712302 \r\nL 316.080501 184.469991 \r\nL 319.154881 188.032981 \r\nL 322.229261 191.401445 \r\nL 325.303642 194.576778 \r\nL 328.378022 197.561488 \r\nL 331.452402 200.359079 \r\nL 334.526782 202.973942 \r\nL 337.601162 205.411237 \r\nL 340.675542 207.676787 \r\nL 343.749923 209.776962 \r\nL 346.824303 211.71858 \r\nL 349.898683 213.508806 \r\nL 352.973063 215.155057 \r\nL 356.047443 216.664918 \r\n\" style=\"fill:none;stroke:#ff0000;stroke-linecap:square;stroke-width:5;\"/>\r\n   </g>\r\n   <g id=\"patch_3\">\r\n    <path d=\"M 36.465625 239.758125 \r\nL 36.465625 22.318125 \r\n\" style=\"fill:none;stroke:#000000;stroke-linecap:square;stroke-linejoin:miter;stroke-width:0.8;\"/>\r\n   </g>\r\n   <g id=\"patch_4\">\r\n    <path d=\"M 371.265625 239.758125 \r\nL 371.265625 22.318125 \r\n\" style=\"fill:none;stroke:#000000;stroke-linecap:square;stroke-linejoin:miter;stroke-width:0.8;\"/>\r\n   </g>\r\n   <g id=\"patch_5\">\r\n    <path d=\"M 36.465625 239.758125 \r\nL 371.265625 239.758125 \r\n\" style=\"fill:none;stroke:#000000;stroke-linecap:square;stroke-linejoin:miter;stroke-width:0.8;\"/>\r\n   </g>\r\n   <g id=\"patch_6\">\r\n    <path d=\"M 36.465625 22.318125 \r\nL 371.265625 22.318125 \r\n\" style=\"fill:none;stroke:#000000;stroke-linecap:square;stroke-linejoin:miter;stroke-width:0.8;\"/>\r\n   </g>\r\n   <g id=\"text_14\">\r\n    <!-- Normal distribution -->\r\n    <g transform=\"translate(146.0575 16.318125)scale(0.12 -0.12)\">\r\n     <defs>\r\n      <path d=\"M 9.8125 72.90625 \r\nL 23.09375 72.90625 \r\nL 55.421875 11.921875 \r\nL 55.421875 72.90625 \r\nL 64.984375 72.90625 \r\nL 64.984375 0 \r\nL 51.703125 0 \r\nL 19.390625 60.984375 \r\nL 19.390625 0 \r\nL 9.8125 0 \r\nz\r\n\" id=\"DejaVuSans-78\"/>\r\n      <path d=\"M 30.609375 48.390625 \r\nQ 23.390625 48.390625 19.1875 42.75 \r\nQ 14.984375 37.109375 14.984375 27.296875 \r\nQ 14.984375 17.484375 19.15625 11.84375 \r\nQ 23.34375 6.203125 30.609375 6.203125 \r\nQ 37.796875 6.203125 41.984375 11.859375 \r\nQ 46.1875 17.53125 46.1875 27.296875 \r\nQ 46.1875 37.015625 41.984375 42.703125 \r\nQ 37.796875 48.390625 30.609375 48.390625 \r\nz\r\nM 30.609375 56 \r\nQ 42.328125 56 49.015625 48.375 \r\nQ 55.71875 40.765625 55.71875 27.296875 \r\nQ 55.71875 13.875 49.015625 6.21875 \r\nQ 42.328125 -1.421875 30.609375 -1.421875 \r\nQ 18.84375 -1.421875 12.171875 6.21875 \r\nQ 5.515625 13.875 5.515625 27.296875 \r\nQ 5.515625 40.765625 12.171875 48.375 \r\nQ 18.84375 56 30.609375 56 \r\nz\r\n\" id=\"DejaVuSans-111\"/>\r\n      <path d=\"M 41.109375 46.296875 \r\nQ 39.59375 47.171875 37.8125 47.578125 \r\nQ 36.03125 48 33.890625 48 \r\nQ 26.265625 48 22.1875 43.046875 \r\nQ 18.109375 38.09375 18.109375 28.8125 \r\nL 18.109375 0 \r\nL 9.078125 0 \r\nL 9.078125 54.6875 \r\nL 18.109375 54.6875 \r\nL 18.109375 46.1875 \r\nQ 20.953125 51.171875 25.484375 53.578125 \r\nQ 30.03125 56 36.53125 56 \r\nQ 37.453125 56 38.578125 55.875 \r\nQ 39.703125 55.765625 41.0625 55.515625 \r\nz\r\n\" id=\"DejaVuSans-114\"/>\r\n      <path d=\"M 52 44.1875 \r\nQ 55.375 50.25 60.0625 53.125 \r\nQ 64.75 56 71.09375 56 \r\nQ 79.640625 56 84.28125 50.015625 \r\nQ 88.921875 44.046875 88.921875 33.015625 \r\nL 88.921875 0 \r\nL 79.890625 0 \r\nL 79.890625 32.71875 \r\nQ 79.890625 40.578125 77.09375 44.375 \r\nQ 74.3125 48.1875 68.609375 48.1875 \r\nQ 61.625 48.1875 57.5625 43.546875 \r\nQ 53.515625 38.921875 53.515625 30.90625 \r\nL 53.515625 0 \r\nL 44.484375 0 \r\nL 44.484375 32.71875 \r\nQ 44.484375 40.625 41.703125 44.40625 \r\nQ 38.921875 48.1875 33.109375 48.1875 \r\nQ 26.21875 48.1875 22.15625 43.53125 \r\nQ 18.109375 38.875 18.109375 30.90625 \r\nL 18.109375 0 \r\nL 9.078125 0 \r\nL 9.078125 54.6875 \r\nL 18.109375 54.6875 \r\nL 18.109375 46.1875 \r\nQ 21.1875 51.21875 25.484375 53.609375 \r\nQ 29.78125 56 35.6875 56 \r\nQ 41.65625 56 45.828125 52.96875 \r\nQ 50 49.953125 52 44.1875 \r\nz\r\n\" id=\"DejaVuSans-109\"/>\r\n      <path d=\"M 34.28125 27.484375 \r\nQ 23.390625 27.484375 19.1875 25 \r\nQ 14.984375 22.515625 14.984375 16.5 \r\nQ 14.984375 11.71875 18.140625 8.90625 \r\nQ 21.296875 6.109375 26.703125 6.109375 \r\nQ 34.1875 6.109375 38.703125 11.40625 \r\nQ 43.21875 16.703125 43.21875 25.484375 \r\nL 43.21875 27.484375 \r\nz\r\nM 52.203125 31.203125 \r\nL 52.203125 0 \r\nL 43.21875 0 \r\nL 43.21875 8.296875 \r\nQ 40.140625 3.328125 35.546875 0.953125 \r\nQ 30.953125 -1.421875 24.3125 -1.421875 \r\nQ 15.921875 -1.421875 10.953125 3.296875 \r\nQ 6 8.015625 6 15.921875 \r\nQ 6 25.140625 12.171875 29.828125 \r\nQ 18.359375 34.515625 30.609375 34.515625 \r\nL 43.21875 34.515625 \r\nL 43.21875 35.40625 \r\nQ 43.21875 41.609375 39.140625 45 \r\nQ 35.0625 48.390625 27.6875 48.390625 \r\nQ 23 48.390625 18.546875 47.265625 \r\nQ 14.109375 46.140625 10.015625 43.890625 \r\nL 10.015625 52.203125 \r\nQ 14.9375 54.109375 19.578125 55.046875 \r\nQ 24.21875 56 28.609375 56 \r\nQ 40.484375 56 46.34375 49.84375 \r\nQ 52.203125 43.703125 52.203125 31.203125 \r\nz\r\n\" id=\"DejaVuSans-97\"/>\r\n      <path d=\"M 9.421875 75.984375 \r\nL 18.40625 75.984375 \r\nL 18.40625 0 \r\nL 9.421875 0 \r\nz\r\n\" id=\"DejaVuSans-108\"/>\r\n      <path id=\"DejaVuSans-32\"/>\r\n      <path d=\"M 45.40625 46.390625 \r\nL 45.40625 75.984375 \r\nL 54.390625 75.984375 \r\nL 54.390625 0 \r\nL 45.40625 0 \r\nL 45.40625 8.203125 \r\nQ 42.578125 3.328125 38.25 0.953125 \r\nQ 33.9375 -1.421875 27.875 -1.421875 \r\nQ 17.96875 -1.421875 11.734375 6.484375 \r\nQ 5.515625 14.40625 5.515625 27.296875 \r\nQ 5.515625 40.1875 11.734375 48.09375 \r\nQ 17.96875 56 27.875 56 \r\nQ 33.9375 56 38.25 53.625 \r\nQ 42.578125 51.265625 45.40625 46.390625 \r\nz\r\nM 14.796875 27.296875 \r\nQ 14.796875 17.390625 18.875 11.75 \r\nQ 22.953125 6.109375 30.078125 6.109375 \r\nQ 37.203125 6.109375 41.296875 11.75 \r\nQ 45.40625 17.390625 45.40625 27.296875 \r\nQ 45.40625 37.203125 41.296875 42.84375 \r\nQ 37.203125 48.484375 30.078125 48.484375 \r\nQ 22.953125 48.484375 18.875 42.84375 \r\nQ 14.796875 37.203125 14.796875 27.296875 \r\nz\r\n\" id=\"DejaVuSans-100\"/>\r\n      <path d=\"M 9.421875 54.6875 \r\nL 18.40625 54.6875 \r\nL 18.40625 0 \r\nL 9.421875 0 \r\nz\r\nM 9.421875 75.984375 \r\nL 18.40625 75.984375 \r\nL 18.40625 64.59375 \r\nL 9.421875 64.59375 \r\nz\r\n\" id=\"DejaVuSans-105\"/>\r\n      <path d=\"M 44.28125 53.078125 \r\nL 44.28125 44.578125 \r\nQ 40.484375 46.53125 36.375 47.5 \r\nQ 32.28125 48.484375 27.875 48.484375 \r\nQ 21.1875 48.484375 17.84375 46.4375 \r\nQ 14.5 44.390625 14.5 40.28125 \r\nQ 14.5 37.15625 16.890625 35.375 \r\nQ 19.28125 33.59375 26.515625 31.984375 \r\nL 29.59375 31.296875 \r\nQ 39.15625 29.25 43.1875 25.515625 \r\nQ 47.21875 21.78125 47.21875 15.09375 \r\nQ 47.21875 7.46875 41.1875 3.015625 \r\nQ 35.15625 -1.421875 24.609375 -1.421875 \r\nQ 20.21875 -1.421875 15.453125 -0.5625 \r\nQ 10.6875 0.296875 5.421875 2 \r\nL 5.421875 11.28125 \r\nQ 10.40625 8.6875 15.234375 7.390625 \r\nQ 20.0625 6.109375 24.8125 6.109375 \r\nQ 31.15625 6.109375 34.5625 8.28125 \r\nQ 37.984375 10.453125 37.984375 14.40625 \r\nQ 37.984375 18.0625 35.515625 20.015625 \r\nQ 33.0625 21.96875 24.703125 23.78125 \r\nL 21.578125 24.515625 \r\nQ 13.234375 26.265625 9.515625 29.90625 \r\nQ 5.8125 33.546875 5.8125 39.890625 \r\nQ 5.8125 47.609375 11.28125 51.796875 \r\nQ 16.75 56 26.8125 56 \r\nQ 31.78125 56 36.171875 55.265625 \r\nQ 40.578125 54.546875 44.28125 53.078125 \r\nz\r\n\" id=\"DejaVuSans-115\"/>\r\n      <path d=\"M 18.3125 70.21875 \r\nL 18.3125 54.6875 \r\nL 36.8125 54.6875 \r\nL 36.8125 47.703125 \r\nL 18.3125 47.703125 \r\nL 18.3125 18.015625 \r\nQ 18.3125 11.328125 20.140625 9.421875 \r\nQ 21.96875 7.515625 27.59375 7.515625 \r\nL 36.8125 7.515625 \r\nL 36.8125 0 \r\nL 27.59375 0 \r\nQ 17.1875 0 13.234375 3.875 \r\nQ 9.28125 7.765625 9.28125 18.015625 \r\nL 9.28125 47.703125 \r\nL 2.6875 47.703125 \r\nL 2.6875 54.6875 \r\nL 9.28125 54.6875 \r\nL 9.28125 70.21875 \r\nz\r\n\" id=\"DejaVuSans-116\"/>\r\n      <path d=\"M 48.6875 27.296875 \r\nQ 48.6875 37.203125 44.609375 42.84375 \r\nQ 40.53125 48.484375 33.40625 48.484375 \r\nQ 26.265625 48.484375 22.1875 42.84375 \r\nQ 18.109375 37.203125 18.109375 27.296875 \r\nQ 18.109375 17.390625 22.1875 11.75 \r\nQ 26.265625 6.109375 33.40625 6.109375 \r\nQ 40.53125 6.109375 44.609375 11.75 \r\nQ 48.6875 17.390625 48.6875 27.296875 \r\nz\r\nM 18.109375 46.390625 \r\nQ 20.953125 51.265625 25.265625 53.625 \r\nQ 29.59375 56 35.59375 56 \r\nQ 45.5625 56 51.78125 48.09375 \r\nQ 58.015625 40.1875 58.015625 27.296875 \r\nQ 58.015625 14.40625 51.78125 6.484375 \r\nQ 45.5625 -1.421875 35.59375 -1.421875 \r\nQ 29.59375 -1.421875 25.265625 0.953125 \r\nQ 20.953125 3.328125 18.109375 8.203125 \r\nL 18.109375 0 \r\nL 9.078125 0 \r\nL 9.078125 75.984375 \r\nL 18.109375 75.984375 \r\nz\r\n\" id=\"DejaVuSans-98\"/>\r\n      <path d=\"M 8.5 21.578125 \r\nL 8.5 54.6875 \r\nL 17.484375 54.6875 \r\nL 17.484375 21.921875 \r\nQ 17.484375 14.15625 20.5 10.265625 \r\nQ 23.53125 6.390625 29.59375 6.390625 \r\nQ 36.859375 6.390625 41.078125 11.03125 \r\nQ 45.3125 15.671875 45.3125 23.6875 \r\nL 45.3125 54.6875 \r\nL 54.296875 54.6875 \r\nL 54.296875 0 \r\nL 45.3125 0 \r\nL 45.3125 8.40625 \r\nQ 42.046875 3.421875 37.71875 1 \r\nQ 33.40625 -1.421875 27.6875 -1.421875 \r\nQ 18.265625 -1.421875 13.375 4.4375 \r\nQ 8.5 10.296875 8.5 21.578125 \r\nz\r\nM 31.109375 56 \r\nz\r\n\" id=\"DejaVuSans-117\"/>\r\n      <path d=\"M 54.890625 33.015625 \r\nL 54.890625 0 \r\nL 45.90625 0 \r\nL 45.90625 32.71875 \r\nQ 45.90625 40.484375 42.875 44.328125 \r\nQ 39.84375 48.1875 33.796875 48.1875 \r\nQ 26.515625 48.1875 22.3125 43.546875 \r\nQ 18.109375 38.921875 18.109375 30.90625 \r\nL 18.109375 0 \r\nL 9.078125 0 \r\nL 9.078125 54.6875 \r\nL 18.109375 54.6875 \r\nL 18.109375 46.1875 \r\nQ 21.34375 51.125 25.703125 53.5625 \r\nQ 30.078125 56 35.796875 56 \r\nQ 45.21875 56 50.046875 50.171875 \r\nQ 54.890625 44.34375 54.890625 33.015625 \r\nz\r\n\" id=\"DejaVuSans-110\"/>\r\n     </defs>\r\n     <use xlink:href=\"#DejaVuSans-78\"/>\r\n     <use x=\"74.804688\" xlink:href=\"#DejaVuSans-111\"/>\r\n     <use x=\"135.986328\" xlink:href=\"#DejaVuSans-114\"/>\r\n     <use x=\"175.349609\" xlink:href=\"#DejaVuSans-109\"/>\r\n     <use x=\"272.761719\" xlink:href=\"#DejaVuSans-97\"/>\r\n     <use x=\"334.041016\" xlink:href=\"#DejaVuSans-108\"/>\r\n     <use x=\"361.824219\" xlink:href=\"#DejaVuSans-32\"/>\r\n     <use x=\"393.611328\" xlink:href=\"#DejaVuSans-100\"/>\r\n     <use x=\"457.087891\" xlink:href=\"#DejaVuSans-105\"/>\r\n     <use x=\"484.871094\" xlink:href=\"#DejaVuSans-115\"/>\r\n     <use x=\"536.970703\" xlink:href=\"#DejaVuSans-116\"/>\r\n     <use x=\"576.179688\" xlink:href=\"#DejaVuSans-114\"/>\r\n     <use x=\"617.292969\" xlink:href=\"#DejaVuSans-105\"/>\r\n     <use x=\"645.076172\" xlink:href=\"#DejaVuSans-98\"/>\r\n     <use x=\"708.552734\" xlink:href=\"#DejaVuSans-117\"/>\r\n     <use x=\"771.931641\" xlink:href=\"#DejaVuSans-116\"/>\r\n     <use x=\"811.140625\" xlink:href=\"#DejaVuSans-105\"/>\r\n     <use x=\"838.923828\" xlink:href=\"#DejaVuSans-111\"/>\r\n     <use x=\"900.105469\" xlink:href=\"#DejaVuSans-110\"/>\r\n    </g>\r\n   </g>\r\n  </g>\r\n </g>\r\n <defs>\r\n  <clipPath id=\"pe42f11fbb2\">\r\n   <rect height=\"217.44\" width=\"334.8\" x=\"36.465625\" y=\"22.318125\"/>\r\n  </clipPath>\r\n </defs>\r\n</svg>\r\n",
      "image/png": "[encoded data removed]"
     },
     "metadata": {
      "needs_background": "light"
     }
    },
    {
     "output_type": "stream",
     "name": "stdout",
     "text": [
      "Soln{\n    Line 1: P(X>365)=1-F(365),\n    Line 2:    =1-phi(0.65),\n    Line 3:    =1-0.7422,\n    Answer:    =0.259302\n}\n"
     ]
    }
   ],
   "source": [
    "s_dist.gt(\n",
    "    x=365, to_plot=True\n",
    ")"
   ]
  },
  {
   "cell_type": "code",
   "execution_count": null,
   "metadata": {},
   "outputs": [],
   "source": []
  }
 ]
}