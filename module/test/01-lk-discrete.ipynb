{
 "metadata": {
  "language_info": {
   "codemirror_mode": {
    "name": "ipython",
    "version": 3
   },
   "file_extension": ".py",
   "mimetype": "text/x-python",
   "name": "python",
   "nbconvert_exporter": "python",
   "pygments_lexer": "ipython3",
   "version": "3.8.3"
  },
  "orig_nbformat": 2,
  "kernelspec": {
   "name": "python383jvsc74a57bd0ff1f241afc5a4c2e07811e38e6858495d05af165b3766e4314a3d7953c54c6af",
   "display_name": "Python 3.8.3 64-bit"
  }
 },
 "nbformat": 4,
 "nbformat_minor": 2,
 "cells": [
  {
   "source": [
    "# Test doc: `m248.Discrete`\n",
    "\n",
    "**date**\n",
    ": 2021-04-18\n",
    "\n",
    "**desc**\n",
    ": test notebook for the `Discrete` class."
   ],
   "cell_type": "markdown",
   "metadata": {}
  },
  {
   "cell_type": "code",
   "execution_count": 1,
   "metadata": {},
   "outputs": [],
   "source": [
    "import os\n",
    "os.chdir(\"..\")\n",
    "from src.m248 import Discrete, Solution"
   ]
  },
  {
   "source": [
    "## Testing\n",
    "\n",
    "Each test includes the docstring of the function."
   ],
   "cell_type": "markdown",
   "metadata": {}
  },
  {
   "source": [
    "### Constructor\n",
    "\n",
    "The discrete rv is taken from **Pex.5.42**"
   ],
   "cell_type": "markdown",
   "metadata": {}
  },
  {
   "cell_type": "code",
   "execution_count": 2,
   "metadata": {},
   "outputs": [
    {
     "output_type": "stream",
     "name": "stdout",
     "text": [
      "Help on function __init__ in module src.m248:\n\n__init__(self, x: 'list[int]', pr: 'list[float]') -> 'None'\n    Constructor for objects of type Discrete.\n    Assigns var k=x, v=pr to dictionary var _fn, and assigns var\n    _soln to an empty dictionary.\n    \n    @params\n    =======\n    `x`\n        A list of integers that represents the range of X.\n    \n    `pr`\n        A list of floats that represents the Pr(X = x). Element\n        `pr[i]` should correspond to the event Pr(X=`x[i]`).\n\n"
     ]
    }
   ],
   "source": [
    "help(Discrete.__init__)"
   ]
  },
  {
   "cell_type": "code",
   "execution_count": 3,
   "metadata": {},
   "outputs": [],
   "source": [
    "x: list = [1, 2, 3, 4, 5]\n",
    "Pr: list = [0.28, 0.27, 0.23, 0.07, 0.15]"
   ]
  },
  {
   "cell_type": "code",
   "execution_count": 4,
   "metadata": {},
   "outputs": [],
   "source": [
    "a_dist: Discrete = Discrete(x, Pr)"
   ]
  },
  {
   "source": [
    "### Methods"
   ],
   "cell_type": "markdown",
   "metadata": {}
  },
  {
   "source": [
    "help(Discrete.pmf)"
   ],
   "cell_type": "code",
   "metadata": {},
   "execution_count": 5,
   "outputs": [
    {
     "output_type": "stream",
     "name": "stdout",
     "text": [
      "Help on function pmf in module src.m248:\n\npmf(self, k: 'int', to_printer: 'bool' = True) -> 'Any'\n    Calculates the Pr(X=k). If arg `x` is not in the range of X,\n    then returns None. If arg `to_printer` is True, then prints the\n    solution to the screen. Otherwise returns the answer as a float.\n    \n    @params\n    =======\n    `k`\n        Integer in the range of X.\n    \n    `to_printer`\n        Whether to print the answer to the screen, or return a\n        float. Default is True.\n    \n    @returns\n    ========\n        `None` or float.\n\n"
     ]
    }
   ]
  },
  {
   "cell_type": "code",
   "execution_count": 6,
   "metadata": {},
   "outputs": [
    {
     "output_type": "stream",
     "name": "stdout",
     "text": [
      "Soln{\n    P(X=3)=0.23\n}\n"
     ]
    }
   ],
   "source": [
    "a_dist.pmf(k=3)"
   ]
  },
  {
   "cell_type": "code",
   "execution_count": 7,
   "metadata": {},
   "outputs": [
    {
     "output_type": "stream",
     "name": "stdout",
     "text": [
      "Help on function cdf in module src.m248:\n\ncdf(self, x: 'int', to_printer: 'bool' = True) -> 'Any'\n    Calculates the Pr(X <= x). If arg `to_printer` is True, then\n    prints the solution to the screen. Otherwise returns the answer\n    as a float.\n    \n    @params\n    =======\n    `x`\n        Integer in the range of X.\n    \n    `to_printer`\n        Whether to print the answer to the screen, or return a\n        float. Default is True.\n    \n    @returns\n    ========\n        `None` or float.\n\n"
     ]
    }
   ],
   "source": [
    "help(Discrete.cdf)"
   ]
  },
  {
   "cell_type": "code",
   "execution_count": 8,
   "metadata": {},
   "outputs": [
    {
     "output_type": "stream",
     "name": "stdout",
     "text": [
      "Soln{\n    Pr(X<=2)=0.55\n}\n"
     ]
    }
   ],
   "source": [
    "a_dist.cdf(x=2)"
   ]
  },
  {
   "cell_type": "code",
   "execution_count": 9,
   "metadata": {},
   "outputs": [
    {
     "output_type": "stream",
     "name": "stdout",
     "text": [
      "Help on function sf in module src.m248:\n\nsf(self, x: 'int', to_printer: 'bool' = True) -> 'Any'\n    Calculates the Pr(X > x). If arg `to_printer` is True, then\n    prints the solution to the screen. Otherwise returns the answer\n    as a float.\n    \n    @params\n    =======\n    `x`\n        Integer in the range of X.\n    \n    `to_printer`\n        Whether to print the answer to the screen, or return a\n        float. Default is True.\n    \n    @returns\n    ========\n        `None` or float.\n\n"
     ]
    }
   ],
   "source": [
    "help(Discrete.sf)"
   ]
  },
  {
   "cell_type": "code",
   "execution_count": 10,
   "metadata": {},
   "outputs": [
    {
     "output_type": "stream",
     "name": "stdout",
     "text": [
      "Soln{\n    Pr(X>2)=0.449999\n}\n"
     ]
    }
   ],
   "source": [
    "a_dist.sf(x=2)"
   ]
  },
  {
   "cell_type": "code",
   "execution_count": 11,
   "metadata": {},
   "outputs": [
    {
     "output_type": "stream",
     "name": "stdout",
     "text": [
      "Help on function is_valid in module src.m248:\n\nis_valid(self) -> 'None'\n    Prints a str describing if the PMF of X is a valid probability\n    function.\n    \n    There are two check: Checks if sum(Pr) = 1 and whether all\n    Pr(X) in (0,1].\n\n"
     ]
    }
   ],
   "source": [
    "help(Discrete.is_valid)"
   ]
  },
  {
   "cell_type": "code",
   "execution_count": 12,
   "metadata": {},
   "outputs": [
    {
     "output_type": "stream",
     "name": "stdout",
     "text": [
      "Soln{\n    is valid=True\n}\n"
     ]
    }
   ],
   "source": [
    "a_dist.is_valid()"
   ]
  },
  {
   "cell_type": "code",
   "execution_count": 13,
   "metadata": {},
   "outputs": [
    {
     "output_type": "stream",
     "name": "stdout",
     "text": [
      "Help on function mean in module src.m248:\n\nmean(self, to_printer: 'bool' = True) -> 'Any'\n    Calculates E(X). If arg to_printer is True, then prints the\n    solution to the screen. Otherwise returns the answer as a float.\n    \n    @returns\n    ========\n        `None` or float.\n\n"
     ]
    }
   ],
   "source": [
    "help(Discrete.mean)"
   ]
  },
  {
   "cell_type": "code",
   "execution_count": 14,
   "metadata": {},
   "outputs": [
    {
     "output_type": "stream",
     "name": "stdout",
     "text": [
      "Soln{\n    E(X)=2.54\n}\n"
     ]
    }
   ],
   "source": [
    "a_dist.mean()"
   ]
  },
  {
   "cell_type": "code",
   "execution_count": 15,
   "metadata": {},
   "outputs": [
    {
     "output_type": "stream",
     "name": "stdout",
     "text": [
      "Help on function mean_sq in module src.m248:\n\nmean_sq(self, to_printer: 'bool' = True) -> 'Any'\n    Calculates E(X2). If arg to_printer is True, then prints the\n    solution to the screen. Otherwise returns the answer as a\n    float.\n    \n    @returns\n    ========\n        `None` or float.\n\n"
     ]
    }
   ],
   "source": [
    "help(Discrete.mean_sq)"
   ]
  },
  {
   "cell_type": "code",
   "execution_count": 16,
   "metadata": {},
   "outputs": [
    {
     "output_type": "stream",
     "name": "stdout",
     "text": [
      "Soln{\n    E(X2)=8.3\n}\n"
     ]
    }
   ],
   "source": [
    "a_dist.mean_sq()"
   ]
  },
  {
   "cell_type": "code",
   "execution_count": 17,
   "metadata": {},
   "outputs": [
    {
     "output_type": "stream",
     "name": "stdout",
     "text": [
      "Help on function var in module src.m248:\n\nvar(self, to_printer: 'bool' = True) -> 'Any'\n    Calculates V(X). If arg to_printer is True, then prints the\n    solution to the screen. Otherwise returns the answer as a float.\n    \n    @returns\n    ========\n        `None` or float.\n\n"
     ]
    }
   ],
   "source": [
    "help(Discrete.var)"
   ]
  },
  {
   "cell_type": "code",
   "execution_count": 18,
   "metadata": {},
   "outputs": [
    {
     "output_type": "stream",
     "name": "stdout",
     "text": [
      "Soln{\n    E(X2)=8.3,\n    mu2=6.4516,\n    V(X)=1.8484\n}\n"
     ]
    }
   ],
   "source": [
    "a_dist.var()"
   ]
  },
  {
   "cell_type": "code",
   "execution_count": 19,
   "metadata": {},
   "outputs": [
    {
     "output_type": "stream",
     "name": "stdout",
     "text": [
      "Help on function std in module src.m248:\n\nstd(self, to_printer: 'bool' = True) -> 'Any'\n    Calculates S(X). If arg to_printer is True, then prints the\n    solution to the screen. Otherwise returns the answer as a float.\n    \n    @returns\n    ========\n        `None` or float\n\n"
     ]
    }
   ],
   "source": [
    "help(Discrete.std)"
   ]
  },
  {
   "cell_type": "code",
   "execution_count": 20,
   "metadata": {},
   "outputs": [
    {
     "output_type": "stream",
     "name": "stdout",
     "text": [
      "Soln{\n    E(X2)=8.3,\n    mu2=6.4516,\n    V(X)=1.8484,\n    S(X)=1.359558\n}\n"
     ]
    }
   ],
   "source": [
    "a_dist.std()"
   ]
  },
  {
   "source": [
    "help(Discrete.quantile)"
   ],
   "cell_type": "code",
   "metadata": {},
   "execution_count": 21,
   "outputs": [
    {
     "output_type": "stream",
     "name": "stdout",
     "text": [
      "Help on function quantile in module src.m248:\n\nquantile(self, a: 'float', to_printer: 'bool' = True) -> 'None'\n    Calculates q_{a}. If arg to_printer is True, then prints the\n    solution to the screen. Otherwise returns the answer as a float.\n    \n    @returns\n    ========\n        `None` or float\n\n"
     ]
    }
   ]
  },
  {
   "cell_type": "code",
   "execution_count": 22,
   "metadata": {},
   "outputs": [
    {
     "output_type": "stream",
     "name": "stdout",
     "text": [
      "Soln{\n    x=1.0\n}\n"
     ]
    }
   ],
   "source": [
    "a_dist.quantile(a=0.25)"
   ]
  },
  {
   "source": [
    "## Static methods"
   ],
   "cell_type": "markdown",
   "metadata": {}
  },
  {
   "cell_type": "code",
   "execution_count": 23,
   "metadata": {},
   "outputs": [
    {
     "output_type": "stream",
     "name": "stdout",
     "text": [
      "P(x1<X<x2)=F({x2}-1)-F(x1)\n"
     ]
    }
   ],
   "source": [
    "Discrete.parse_pr_range(geq_x1=False, leq_x2=False)"
   ]
  },
  {
   "cell_type": "code",
   "execution_count": null,
   "metadata": {},
   "outputs": [],
   "source": []
  }
 ]
}