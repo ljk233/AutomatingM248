{
 "cells": [
  {
   "cell_type": "markdown",
   "id": "3227b367-a78a-4213-8dd7-b895fb145740",
   "metadata": {},
   "source": [
    "# Notes on the `HypothesisTest` class"
   ]
  },
  {
   "cell_type": "markdown",
   "id": "a48454f4-eadd-486a-b443-f9b540cf8383",
   "metadata": {},
   "source": [
    "## Setup the notebook"
   ]
  },
  {
   "cell_type": "code",
   "execution_count": 1,
   "id": "bf13d8e4-9f7e-4e37-8116-052199f97386",
   "metadata": {},
   "outputs": [],
   "source": [
    "# change working dir\n",
    "import os\n",
    "os.chdir(\"..\")"
   ]
  },
  {
   "cell_type": "code",
   "execution_count": 2,
   "id": "16464047-0014-4cc7-8224-856936b284b8",
   "metadata": {},
   "outputs": [],
   "source": [
    "# import module\n",
    "from src.py.hypoth import HypothesisTest"
   ]
  },
  {
   "cell_type": "markdown",
   "id": "3f861cbd-068f-4f97-8950-d1aff69ab48d",
   "metadata": {},
   "source": [
    "## HypothesisTest"
   ]
  },
  {
   "cell_type": "code",
   "execution_count": 3,
   "id": "04fb6cce-87db-4b30-8299-062f15fa2fa3",
   "metadata": {},
   "outputs": [
    {
     "data": {
      "text/plain": [
       "\u001b[1;31mInit signature:\u001b[0m \u001b[0mHypothesisTest\u001b[0m\u001b[1;33m(\u001b[0m\u001b[1;33m)\u001b[0m\u001b[1;33m\u001b[0m\u001b[1;33m\u001b[0m\u001b[0m\n",
       "\u001b[1;31mDocstring:\u001b[0m          \n",
       "\u001b[1;31mFile:\u001b[0m           c:\\users\\liamj\\onedrive\\lib\\automatingm248\\src\\py\\hypoth.py\n",
       "\u001b[1;31mType:\u001b[0m           type\n",
       "\u001b[1;31mSubclasses:\u001b[0m     \n"
      ]
     },
     "metadata": {},
     "output_type": "display_data"
    }
   ],
   "source": [
    "HypothesisTest?"
   ]
  },
  {
   "cell_type": "markdown",
   "id": "060359ef-5326-472c-b504-1af09b5350de",
   "metadata": {},
   "source": [
    "### Static methods"
   ]
  },
  {
   "cell_type": "markdown",
   "id": "3daafd83-7fec-45d2-81e1-070a0b9427ae",
   "metadata": {},
   "source": [
    "#### one_sample_z_test"
   ]
  },
  {
   "cell_type": "code",
   "execution_count": 4,
   "id": "6db1c6f5-c049-41fe-9c64-88d29e1442a4",
   "metadata": {},
   "outputs": [
    {
     "data": {
      "text/plain": [
       "\u001b[1;31mSignature:\u001b[0m\n",
       "\u001b[0mHypothesisTest\u001b[0m\u001b[1;33m.\u001b[0m\u001b[0mztest_1sample\u001b[0m\u001b[1;33m(\u001b[0m\u001b[1;33m\n",
       "\u001b[0m    \u001b[0mmu\u001b[0m\u001b[1;33m:\u001b[0m \u001b[1;34m'float'\u001b[0m\u001b[1;33m,\u001b[0m\u001b[1;33m\n",
       "\u001b[0m    \u001b[0msd\u001b[0m\u001b[1;33m:\u001b[0m \u001b[1;34m'float'\u001b[0m\u001b[1;33m,\u001b[0m\u001b[1;33m\n",
       "\u001b[0m    \u001b[0msize\u001b[0m\u001b[1;33m:\u001b[0m \u001b[1;34m'int'\u001b[0m\u001b[1;33m,\u001b[0m\u001b[1;33m\n",
       "\u001b[0m    \u001b[0mmu0\u001b[0m\u001b[1;33m:\u001b[0m \u001b[1;34m'float'\u001b[0m \u001b[1;33m=\u001b[0m \u001b[1;36m0\u001b[0m\u001b[1;33m,\u001b[0m\u001b[1;33m\n",
       "\u001b[0m    \u001b[0malternative\u001b[0m\u001b[1;33m:\u001b[0m \u001b[1;34m'str'\u001b[0m \u001b[1;33m=\u001b[0m \u001b[1;34m'two-sided'\u001b[0m\u001b[1;33m,\u001b[0m\u001b[1;33m\n",
       "\u001b[0m\u001b[1;33m)\u001b[0m \u001b[1;33m->\u001b[0m \u001b[1;34m'dict'\u001b[0m\u001b[1;33m\u001b[0m\u001b[1;33m\u001b[0m\u001b[0m\n",
       "\u001b[1;31mDocstring:\u001b[0m\n",
       "returns\n",
       "=======\n",
       "dict : test statistic and the p-value of a one sample z-test,\n",
       "both rounded to 6dp\n",
       "\n",
       "params\n",
       "======\n",
       "mu : float\n",
       "    sample mean\n",
       "sd : float\n",
       "    sample standard deviation\n",
       "size : int\n",
       "    sample size\n",
       "mu0 : float, default is 0\n",
       "    hypothesised value for the mean\n",
       "alternative : str, default is 'two-sided'\n",
       "    The alternative hypothesis, H1.\n",
       "    Accepts either 'two-sided', 'larger', or 'smaller'\n",
       "\u001b[1;31mFile:\u001b[0m      c:\\users\\liamj\\onedrive\\lib\\automatingm248\\src\\py\\hypoth.py\n",
       "\u001b[1;31mType:\u001b[0m      function\n"
      ]
     },
     "metadata": {},
     "output_type": "display_data"
    }
   ],
   "source": [
    "HypothesisTest.ztest_1sample?"
   ]
  },
  {
   "cell_type": "markdown",
   "id": "e72ee744-6c0b-4f85-8590-77289ffd3d07",
   "metadata": {},
   "source": [
    "**Example usage** :\n",
    "A questionnaire regarding advertising was completed by 100 undergraduate marketing students.\n",
    "As part of the questionnaire, students were presented with the statement: 'Advertising helps raise our standard of living'.\n",
    "The students were then asked to indicate how much they agreed with the statement on a numerical scale from 1 to 7, where 1 equated with 'strongly disagree' and 7 equated with 'strongly agree'.\n",
    "The sample mean of these responses was 3.75 and sample standard deviation was 1.22.\n",
    "\n",
    "Calculate the value of the test statistic for this test, correct to two decimal places, for the alternative hypothesis $H_{1} : \\mu < 4$."
   ]
  },
  {
   "cell_type": "code",
   "execution_count": 5,
   "id": "fb3b565d-c6cd-4935-9c61-2b93b654c32f",
   "metadata": {},
   "outputs": [
    {
     "data": {
      "text/plain": [
       "{'zstat': -2.04918, 'pval': 0.020222}"
      ]
     },
     "execution_count": 5,
     "metadata": {},
     "output_type": "execute_result"
    }
   ],
   "source": [
    "HypothesisTest.ztest_1sample(\n",
    "    mu=3.75, sd=1.22, size=100, mu0=4, alternative=\"smaller\")"
   ]
  },
  {
   "cell_type": "markdown",
   "id": "3caeac1c-84c0-41c8-b5e4-907fd7efc6d2",
   "metadata": {},
   "source": [
    "**Example usage** :\n",
    "To investigate the claim that there is a tendency for adults to report their height inaccurately, the self-reported height of each of a random sample of 25 men was obtained and the heights of the men were measured. The sample mean difference between the self-reported height and the measured height (self-reported minus measured) was 1.09 cm, and the sample standard deviation was 2.88 cm.\n",
    "\n",
    "Calculate the value of the test statistic for this test, correct to two decimal places, for the alternative hypothesis $H_{1} : \\mu \\neq 0$."
   ]
  },
  {
   "cell_type": "code",
   "execution_count": 6,
   "id": "1afd6569-dbba-4975-8886-e890c88f8038",
   "metadata": {},
   "outputs": [
    {
     "data": {
      "text/plain": [
       "{'zstat': 1.892361, 'pval': 0.058443}"
      ]
     },
     "execution_count": 6,
     "metadata": {},
     "output_type": "execute_result"
    }
   ],
   "source": [
    "HypothesisTest.ztest_1sample(\n",
    "    mu=1.09, sd=2.88, size=25)"
   ]
  },
  {
   "cell_type": "markdown",
   "id": "1e7aacfb-0f72-4d46-8249-140d714c2650",
   "metadata": {},
   "source": [
    "#### ttest_1sample"
   ]
  },
  {
   "cell_type": "code",
   "execution_count": 7,
   "id": "248da1dd-935f-448c-8e86-55c931437cce",
   "metadata": {},
   "outputs": [
    {
     "data": {
      "text/plain": [
       "\u001b[1;31mSignature:\u001b[0m\n",
       "\u001b[0mHypothesisTest\u001b[0m\u001b[1;33m.\u001b[0m\u001b[0mttest_1sample\u001b[0m\u001b[1;33m(\u001b[0m\u001b[1;33m\n",
       "\u001b[0m    \u001b[0mmu\u001b[0m\u001b[1;33m:\u001b[0m \u001b[1;34m'float'\u001b[0m\u001b[1;33m,\u001b[0m\u001b[1;33m\n",
       "\u001b[0m    \u001b[0msd\u001b[0m\u001b[1;33m:\u001b[0m \u001b[1;34m'float'\u001b[0m\u001b[1;33m,\u001b[0m\u001b[1;33m\n",
       "\u001b[0m    \u001b[0msize\u001b[0m\u001b[1;33m:\u001b[0m \u001b[1;34m'int'\u001b[0m\u001b[1;33m,\u001b[0m\u001b[1;33m\n",
       "\u001b[0m    \u001b[0mmu0\u001b[0m\u001b[1;33m:\u001b[0m \u001b[1;34m'float'\u001b[0m \u001b[1;33m=\u001b[0m \u001b[1;36m0\u001b[0m\u001b[1;33m,\u001b[0m\u001b[1;33m\n",
       "\u001b[0m    \u001b[0malternative\u001b[0m\u001b[1;33m:\u001b[0m \u001b[1;34m'str'\u001b[0m \u001b[1;33m=\u001b[0m \u001b[1;34m'two-sided'\u001b[0m\u001b[1;33m,\u001b[0m\u001b[1;33m\n",
       "\u001b[0m\u001b[1;33m)\u001b[0m \u001b[1;33m->\u001b[0m \u001b[1;34m'dict'\u001b[0m\u001b[1;33m\u001b[0m\u001b[1;33m\u001b[0m\u001b[0m\n",
       "\u001b[1;31mDocstring:\u001b[0m\n",
       "returns\n",
       "=======\n",
       "dict : test statistic and the p-value of a one sample t-test,\n",
       "both rounded to 6dp\n",
       "\n",
       "params\n",
       "======\n",
       "mu : float\n",
       "    sample mean\n",
       "sd : float\n",
       "    sample standard deviation\n",
       "size : int\n",
       "    sample size\n",
       "mu0 : float, default is 0\n",
       "    hypothesised value for the mean\n",
       "alternative : str, default is 'two-sided'\n",
       "    The alternative hypothesis, H1.\n",
       "    Accepts either 'two-sided', 'larger', or 'smaller'\n",
       "\u001b[1;31mFile:\u001b[0m      c:\\users\\liamj\\onedrive\\lib\\automatingm248\\src\\py\\hypoth.py\n",
       "\u001b[1;31mType:\u001b[0m      function\n"
      ]
     },
     "metadata": {},
     "output_type": "display_data"
    }
   ],
   "source": [
    "HypothesisTest.ttest_1sample?"
   ]
  },
  {
   "cell_type": "markdown",
   "id": "8ef30c00-9c32-429f-91f5-5c930cbbc2d3",
   "metadata": {},
   "source": [
    "**Example usage** :\n",
    "The heart rate (in beats per minute) was measured for 7 swimmers before and after undergoing a relaxation therapy session. The difference between the two measurements (before minus after) was calculated for each of the swimmers: the sample mean and sample standard deviation of the differences were, respectively, 1.29 and 3.50.\n",
    "\n",
    "Assuming that the difference between the measures of heart rate before and after relaxation therapy is normally distributed, a two-sided test of the hypothesis that there is no difference (on average) between the heart rates of swimmers before and after the relaxation therapy is to be carried out using a 5% significance level.\n",
    "\n",
    "Calculate the value of the test statistic and **p**-value."
   ]
  },
  {
   "cell_type": "code",
   "execution_count": 8,
   "id": "b952cc6c-7cec-4719-be3e-217ab89b7624",
   "metadata": {},
   "outputs": [
    {
     "data": {
      "text/plain": [
       "{'zstat': 0.975148, 'pval': 0.329487}"
      ]
     },
     "execution_count": 8,
     "metadata": {},
     "output_type": "execute_result"
    }
   ],
   "source": [
    "HypothesisTest.ztest_1sample(\n",
    "    mu=1.29, sd=3.5, size=7)"
   ]
  },
  {
   "cell_type": "markdown",
   "id": "ade716b1-0a72-4356-994e-65fadfc93102",
   "metadata": {},
   "source": [
    "#### ztest_prop"
   ]
  },
  {
   "cell_type": "code",
   "execution_count": 9,
   "id": "2f9520e7-8612-4b23-8f1b-118d5b3481c9",
   "metadata": {},
   "outputs": [
    {
     "data": {
      "text/plain": [
       "\u001b[1;31mSignature:\u001b[0m\n",
       "\u001b[0mHypothesisTest\u001b[0m\u001b[1;33m.\u001b[0m\u001b[0mztest_prop\u001b[0m\u001b[1;33m(\u001b[0m\u001b[1;33m\n",
       "\u001b[0m    \u001b[0mcount\u001b[0m\u001b[1;33m:\u001b[0m \u001b[1;34m'float'\u001b[0m\u001b[1;33m,\u001b[0m\u001b[1;33m\n",
       "\u001b[0m    \u001b[0mnobs\u001b[0m\u001b[1;33m:\u001b[0m \u001b[1;34m'int'\u001b[0m\u001b[1;33m,\u001b[0m\u001b[1;33m\n",
       "\u001b[0m    \u001b[0mp0\u001b[0m\u001b[1;33m:\u001b[0m \u001b[1;34m'float'\u001b[0m \u001b[1;33m=\u001b[0m \u001b[1;36m0\u001b[0m\u001b[1;33m,\u001b[0m\u001b[1;33m\n",
       "\u001b[0m    \u001b[0malternative\u001b[0m\u001b[1;33m:\u001b[0m \u001b[1;34m'str'\u001b[0m \u001b[1;33m=\u001b[0m \u001b[1;34m'two-sided'\u001b[0m\u001b[1;33m,\u001b[0m\u001b[1;33m\n",
       "\u001b[0m\u001b[1;33m)\u001b[0m \u001b[1;33m->\u001b[0m \u001b[1;34m'dict'\u001b[0m\u001b[1;33m\u001b[0m\u001b[1;33m\u001b[0m\u001b[0m\n",
       "\u001b[1;31mDocstring:\u001b[0m\n",
       "returns\n",
       "=======\n",
       "dict : test statistic and the p-value of a one sample z-test of\n",
       "the proportion, both rounded to 6dp\n",
       "\n",
       "params\n",
       "======\n",
       "count : float\n",
       "    number of 'successes' in the sample\n",
       "size : int\n",
       "    sample size\n",
       "p0 : float, default is 0\n",
       "    hypothesised value for the proportion\n",
       "alternative : str, default is 'two-sided'\n",
       "    The alternative hypothesis, H1.\n",
       "    Accepts either 'two-sided', 'larger', or 'smaller'\n",
       "\u001b[1;31mFile:\u001b[0m      c:\\users\\liamj\\onedrive\\lib\\automatingm248\\src\\py\\hypoth.py\n",
       "\u001b[1;31mType:\u001b[0m      function\n"
      ]
     },
     "metadata": {},
     "output_type": "display_data"
    }
   ],
   "source": [
    "HypothesisTest.ztest_prop?"
   ]
  },
  {
   "cell_type": "markdown",
   "id": "b8587204-151f-45d8-96e3-1624c508ac32",
   "metadata": {},
   "source": [
    "**Example usage** :\n",
    "A study estimated that 20% of adults in the USA consider themselves to be obese.\n",
    "A researcher believes that the true proportion of adults in the USA who are obese is in fact higher than 20%.\n",
    "In order to investigate this, the body mass index (BMI) was measured for a random sample of 40 adults in the USA: of these 40 adults, 13 individuals were found to be obese with a BMI greater than 30.\n",
    "\n",
    "Calculate the test statistic and the **p**-value for the hypothesis\n",
    "$H_{0} : p = 0.2, \\> H_{1} : p > 0.2$."
   ]
  },
  {
   "cell_type": "code",
   "execution_count": 10,
   "id": "4db0dfe9-9b83-4b69-a110-b83b0015ded7",
   "metadata": {},
   "outputs": [
    {
     "data": {
      "text/plain": [
       "{'zp_stat': 1.976424, 'pval': 0.024053}"
      ]
     },
     "execution_count": 10,
     "metadata": {},
     "output_type": "execute_result"
    }
   ],
   "source": [
    "HypothesisTest.ztest_prop(\n",
    "    count=13, nobs=40, p0=0.2, alternative=\"larger\")"
   ]
  },
  {
   "cell_type": "markdown",
   "id": "a22f7300-0329-4b00-95d3-a279fce9e6ba",
   "metadata": {},
   "source": [
    "**Example usage** :\n",
    "A recent study estimated that only one third of UK children regularly get the recommended number of hours sleep.\n",
    "A researcher selected a random sample of 30 children living in a particular city, and for each child recorded whether or not the child regularly slept for the recommended number of hours for their age group.\n",
    "Out of the 30 children, only 7 slept for the recommended number of hours.\n",
    "\n",
    "Let $p$ be the proportion of children in this particular city who regularly get the recommended number of hours sleep.\n",
    "Calculate the test statistic and the $p$-value for the hypothesis\n",
    "$H_{0} : p = 1/3, \\> H_{1} : p < 1/3$."
   ]
  },
  {
   "cell_type": "code",
   "execution_count": 11,
   "id": "7ec0c37c-c2b4-4ced-a7cc-f43886991b94",
   "metadata": {},
   "outputs": [
    {
     "data": {
      "text/plain": [
       "{'zp_stat': -1.161895, 'pval': 0.122639}"
      ]
     },
     "execution_count": 11,
     "metadata": {},
     "output_type": "execute_result"
    }
   ],
   "source": [
    "HypothesisTest.ztest_prop(\n",
    "    count=7, nobs=30, p0=1/3, alternative=\"smaller\")"
   ]
  },
  {
   "cell_type": "markdown",
   "id": "3592cd40-4aae-4670-a1a8-dae2616ceab4",
   "metadata": {},
   "source": [
    "#### wilcoxon"
   ]
  },
  {
   "cell_type": "code",
   "execution_count": 12,
   "id": "9534cd2f-5c5e-41d8-8ac2-bb9d09714ff0",
   "metadata": {},
   "outputs": [
    {
     "data": {
      "text/plain": [
       "\u001b[1;31mSignature:\u001b[0m\n",
       "\u001b[0mHypothesisTest\u001b[0m\u001b[1;33m.\u001b[0m\u001b[0mwilcoxon\u001b[0m\u001b[1;33m(\u001b[0m\u001b[1;33m\n",
       "\u001b[0m    \u001b[0mw\u001b[0m\u001b[1;33m:\u001b[0m \u001b[1;34m'int'\u001b[0m\u001b[1;33m,\u001b[0m\u001b[1;33m\n",
       "\u001b[0m    \u001b[0mnobs\u001b[0m\u001b[1;33m:\u001b[0m \u001b[1;34m'int'\u001b[0m\u001b[1;33m,\u001b[0m\u001b[1;33m\n",
       "\u001b[0m    \u001b[0malternative\u001b[0m\u001b[1;33m:\u001b[0m \u001b[1;34m'str'\u001b[0m \u001b[1;33m=\u001b[0m \u001b[1;34m'two-sided'\u001b[0m\u001b[1;33m,\u001b[0m\u001b[1;33m\n",
       "\u001b[0m\u001b[1;33m)\u001b[0m \u001b[1;33m->\u001b[0m \u001b[1;34m'dict'\u001b[0m\u001b[1;33m\u001b[0m\u001b[1;33m\u001b[0m\u001b[0m\n",
       "\u001b[1;31mDocstring:\u001b[0m\n",
       "returns\n",
       "=======\n",
       "dict : E(W), v(W), test statistic and the p-value of a\n",
       "wilcoxon test, all values rounded to 6dp.\n",
       "\n",
       "params\n",
       "======\n",
       "w : int\n",
       "    test statistic\n",
       "nobs : int\n",
       "    sample size, without zeroes\n",
       "alternative : str, default is 'two-sided'\n",
       "    The alternative hypothesis, H1.\n",
       "    Accepts either 'two-sided', 'larger', or 'smaller'\n",
       "\u001b[1;31mFile:\u001b[0m      c:\\users\\liamj\\onedrive\\lib\\automatingm248\\src\\py\\hypoth.py\n",
       "\u001b[1;31mType:\u001b[0m      function\n"
      ]
     },
     "metadata": {},
     "output_type": "display_data"
    }
   ],
   "source": [
    "HypothesisTest.wilcoxon?"
   ]
  },
  {
   "cell_type": "markdown",
   "id": "70b9124c-1f97-4b21-8113-afa76360a211",
   "metadata": {},
   "source": [
    "**Example usage**"
   ]
  },
  {
   "cell_type": "code",
   "execution_count": 13,
   "id": "0808a101-4760-456a-af18-0049b3ca2f6f",
   "metadata": {},
   "outputs": [
    {
     "data": {
      "text/plain": [
       "{'E(W)': 162.5, 'V(W)': 1381.25, 'zstat': -3.134655, 'p-value': 0.001721}"
      ]
     },
     "execution_count": 13,
     "metadata": {},
     "output_type": "execute_result"
    }
   ],
   "source": [
    "HypothesisTest.wilcoxon(w=46, nobs=25)"
   ]
  },
  {
   "cell_type": "code",
   "execution_count": 14,
   "id": "ab0f3b00-02e5-434b-8600-59b0ee069978",
   "metadata": {},
   "outputs": [
    {
     "data": {
      "text/plain": [
       "{'E(W)': 68.0, 'V(W)': 374.0, 'zstat': -1.680535, 'p-value': 0.046427}"
      ]
     },
     "execution_count": 14,
     "metadata": {},
     "output_type": "execute_result"
    }
   ],
   "source": [
    "HypothesisTest.wilcoxon(w=35.5, nobs=16, alternative=\"smaller\")"
   ]
  },
  {
   "cell_type": "markdown",
   "id": "6cec4d7c-e90b-4f13-ac96-04b969919a42",
   "metadata": {},
   "source": [
    "#### mann_whitney"
   ]
  },
  {
   "cell_type": "code",
   "execution_count": 16,
   "id": "58e37d21-72b1-47eb-b085-ce2846419f24",
   "metadata": {},
   "outputs": [
    {
     "data": {
      "text/plain": [
       "\u001b[1;31mSignature:\u001b[0m\n",
       "\u001b[0mHypothesisTest\u001b[0m\u001b[1;33m.\u001b[0m\u001b[0mmann_whitney\u001b[0m\u001b[1;33m(\u001b[0m\u001b[1;33m\n",
       "\u001b[0m    \u001b[0mu\u001b[0m\u001b[1;33m:\u001b[0m \u001b[1;34m'float'\u001b[0m\u001b[1;33m,\u001b[0m\u001b[1;33m\n",
       "\u001b[0m    \u001b[0mnobs1\u001b[0m\u001b[1;33m:\u001b[0m \u001b[1;34m'int'\u001b[0m\u001b[1;33m,\u001b[0m\u001b[1;33m\n",
       "\u001b[0m    \u001b[0mnobs2\u001b[0m\u001b[1;33m:\u001b[0m \u001b[1;34m'int'\u001b[0m\u001b[1;33m,\u001b[0m\u001b[1;33m\n",
       "\u001b[0m    \u001b[0malternative\u001b[0m\u001b[1;33m:\u001b[0m \u001b[1;34m'str'\u001b[0m \u001b[1;33m=\u001b[0m \u001b[1;34m'two-sided'\u001b[0m\u001b[1;33m,\u001b[0m\u001b[1;33m\n",
       "\u001b[0m\u001b[1;33m)\u001b[0m \u001b[1;33m->\u001b[0m \u001b[1;34m'dict'\u001b[0m\u001b[1;33m\u001b[0m\u001b[1;33m\u001b[0m\u001b[0m\n",
       "\u001b[1;31mDocstring:\u001b[0m\n",
       "returns\n",
       "=======\n",
       "dict : E(U), v(U), test statistic and the p-value of a\n",
       "mann-whitney test, all values rounded to 6dp.\n",
       "\n",
       "params\n",
       "======\n",
       "u : int\n",
       "    test statistic\n",
       "nobs1 : int\n",
       "    size of sample one\n",
       "nobs2 : int\n",
       "    size of sample two\n",
       "alternative : str, default is 'two-sided'\n",
       "    The alternative hypothesis, H1.\n",
       "    Accepts either 'two-sided', 'larger', or 'smaller'\n",
       "\u001b[1;31mFile:\u001b[0m      c:\\users\\liamj\\onedrive\\lib\\automatingm248\\src\\py\\hypoth.py\n",
       "\u001b[1;31mType:\u001b[0m      function\n"
      ]
     },
     "metadata": {},
     "output_type": "display_data"
    }
   ],
   "source": [
    "HypothesisTest.mann_whitney?"
   ]
  },
  {
   "cell_type": "markdown",
   "id": "b9ddd0ca-0f5b-4ef7-9bd2-30e78dabed24",
   "metadata": {},
   "source": [
    "**Example usage**"
   ]
  },
  {
   "cell_type": "code",
   "execution_count": 20,
   "id": "23ede012-b818-4c7e-86dd-63791bfccbe5",
   "metadata": {},
   "outputs": [
    {
     "data": {
      "text/plain": [
       "{'E(U)': 175.5, 'V(U)': 175.5, 'zstat': -1.487179, 'p-value': 0.068484}"
      ]
     },
     "execution_count": 20,
     "metadata": {},
     "output_type": "execute_result"
    }
   ],
   "source": [
    "HypothesisTest.mann_whitney(\n",
    "    u=146.5, nobs1=13, nobs2=13, alternative=\"smaller\")"
   ]
  },
  {
   "cell_type": "code",
   "execution_count": 21,
   "id": "fac41203-7f82-491f-9a03-537417f5515e",
   "metadata": {},
   "outputs": [
    {
     "data": {
      "text/plain": [
       "{'E(U)': 168.0, 'V(U)': 168.0, 'zstat': -1.07349, 'p-value': 0.141526}"
      ]
     },
     "execution_count": 21,
     "metadata": {},
     "output_type": "execute_result"
    }
   ],
   "source": [
    "HypothesisTest.mann_whitney(\n",
    "    u=146, nobs1=12, nobs2=15, alternative=\"smaller\")"
   ]
  }
 ],
 "metadata": {
  "kernelspec": {
   "display_name": "Python 3.8",
   "language": "python",
   "name": "python3"
  },
  "language_info": {
   "codemirror_mode": {
    "name": "ipython",
    "version": 3
   },
   "file_extension": ".py",
   "mimetype": "text/x-python",
   "name": "python",
   "nbconvert_exporter": "python",
   "pygments_lexer": "ipython3",
   "version": "3.8.10"
  }
 },
 "nbformat": 4,
 "nbformat_minor": 5
}
