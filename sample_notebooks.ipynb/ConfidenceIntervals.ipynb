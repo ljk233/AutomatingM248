{
 "cells": [
  {
   "cell_type": "markdown",
   "id": "3227b367-a78a-4213-8dd7-b895fb145740",
   "metadata": {},
   "source": [
    "# Notes on the `ConfidenceInterval` class"
   ]
  },
  {
   "cell_type": "markdown",
   "id": "a48454f4-eadd-486a-b443-f9b540cf8383",
   "metadata": {},
   "source": [
    "## Setup the notebook"
   ]
  },
  {
   "cell_type": "code",
   "execution_count": 1,
   "id": "bf13d8e4-9f7e-4e37-8116-052199f97386",
   "metadata": {},
   "outputs": [],
   "source": [
    "# change working dir\n",
    "import os\n",
    "os.chdir(\"..\")"
   ]
  },
  {
   "cell_type": "code",
   "execution_count": 2,
   "id": "16464047-0014-4cc7-8224-856936b284b8",
   "metadata": {},
   "outputs": [],
   "source": [
    "# import module\n",
    "from src.py.confint import ConfidenceInterval as CI"
   ]
  },
  {
   "cell_type": "markdown",
   "id": "3f861cbd-068f-4f97-8950-d1aff69ab48d",
   "metadata": {},
   "source": [
    "## ConfidenceInterval"
   ]
  },
  {
   "cell_type": "code",
   "execution_count": 3,
   "id": "04fb6cce-87db-4b30-8299-062f15fa2fa3",
   "metadata": {},
   "outputs": [
    {
     "data": {
      "text/plain": [
       "\u001b[1;31mInit signature:\u001b[0m \u001b[0mCI\u001b[0m\u001b[1;33m(\u001b[0m\u001b[1;33m)\u001b[0m\u001b[1;33m\u001b[0m\u001b[1;33m\u001b[0m\u001b[0m\n",
       "\u001b[1;31mDocstring:\u001b[0m          \n",
       "\u001b[1;31mFile:\u001b[0m           c:\\users\\liamj\\onedrive\\lib\\automatingm248\\src\\py\\confint.py\n",
       "\u001b[1;31mType:\u001b[0m           type\n",
       "\u001b[1;31mSubclasses:\u001b[0m     \n"
      ]
     },
     "metadata": {},
     "output_type": "display_data"
    }
   ],
   "source": [
    "CI?"
   ]
  },
  {
   "cell_type": "markdown",
   "id": "060359ef-5326-472c-b504-1af09b5350de",
   "metadata": {},
   "source": [
    "### Static methods"
   ]
  },
  {
   "cell_type": "markdown",
   "id": "3daafd83-7fec-45d2-81e1-070a0b9427ae",
   "metadata": {},
   "source": [
    "#### zinterval_mean"
   ]
  },
  {
   "cell_type": "code",
   "execution_count": 4,
   "id": "6db1c6f5-c049-41fe-9c64-88d29e1442a4",
   "metadata": {},
   "outputs": [
    {
     "data": {
      "text/plain": [
       "\u001b[1;31mSignature:\u001b[0m\n",
       "\u001b[0mCI\u001b[0m\u001b[1;33m.\u001b[0m\u001b[0mzinterval_mean\u001b[0m\u001b[1;33m(\u001b[0m\u001b[1;33m\n",
       "\u001b[0m    \u001b[0malpha\u001b[0m\u001b[1;33m:\u001b[0m \u001b[1;34m'float'\u001b[0m\u001b[1;33m,\u001b[0m\u001b[1;33m\n",
       "\u001b[0m    \u001b[0mmean\u001b[0m\u001b[1;33m:\u001b[0m \u001b[1;34m'float'\u001b[0m\u001b[1;33m,\u001b[0m\u001b[1;33m\n",
       "\u001b[0m    \u001b[0msize\u001b[0m\u001b[1;33m:\u001b[0m \u001b[1;34m'int'\u001b[0m\u001b[1;33m,\u001b[0m\u001b[1;33m\n",
       "\u001b[0m    \u001b[0mvar\u001b[0m\u001b[1;33m:\u001b[0m \u001b[1;34m'float'\u001b[0m \u001b[1;33m=\u001b[0m \u001b[1;36m0\u001b[0m\u001b[1;33m,\u001b[0m\u001b[1;33m\n",
       "\u001b[0m    \u001b[0msd\u001b[0m\u001b[1;33m:\u001b[0m \u001b[1;34m'float'\u001b[0m \u001b[1;33m=\u001b[0m \u001b[1;36m0\u001b[0m\u001b[1;33m,\u001b[0m\u001b[1;33m\n",
       "\u001b[0m\u001b[1;33m)\u001b[0m \u001b[1;33m->\u001b[0m \u001b[1;34m'dict'\u001b[0m\u001b[1;33m\u001b[0m\u001b[1;33m\u001b[0m\u001b[0m\n",
       "\u001b[1;31mDocstring:\u001b[0m\n",
       "returns\n",
       "=======\n",
       "dict : (1-alpha)% z-interval for the mean, with limits rounded\n",
       "to 6dp\n",
       "\n",
       "params\n",
       "======\n",
       "alpha : float\n",
       "    float in (0,1), significance level of the ci to return, as\n",
       "    in (1-alpha)%\n",
       "mean : float\n",
       "    sample mean\n",
       "size : int\n",
       "    sample size\n",
       "var : float, default is 0\n",
       "    sample variance\n",
       "sd : float, default is 0\n",
       "    sample standard deviation\n",
       "\u001b[1;31mFile:\u001b[0m      c:\\users\\liamj\\onedrive\\lib\\automatingm248\\src\\py\\confint.py\n",
       "\u001b[1;31mType:\u001b[0m      function\n"
      ]
     },
     "metadata": {},
     "output_type": "display_data"
    }
   ],
   "source": [
    "CI.zinterval_mean?"
   ]
  },
  {
   "cell_type": "markdown",
   "id": "e72ee744-6c0b-4f85-8590-77289ffd3d07",
   "metadata": {},
   "source": [
    "**Example usage** :\n",
    "A random sample of size 100 was taken from a population, with sample mean 4.04 and sample standard deviation 1.435.\n",
    "Calculate an approximate 90% confidence interval for the mean."
   ]
  },
  {
   "cell_type": "code",
   "execution_count": 5,
   "id": "fb3b565d-c6cd-4935-9c61-2b93b654c32f",
   "metadata": {},
   "outputs": [
    {
     "data": {
      "text/plain": [
       "{'lower': 3.803957, 'upper': 4.276043}"
      ]
     },
     "execution_count": 5,
     "metadata": {},
     "output_type": "execute_result"
    }
   ],
   "source": [
    "CI.zinterval_mean(alpha=0.1, mean=4.04, size=100, sd=1.435)"
   ]
  },
  {
   "cell_type": "markdown",
   "id": "1e7aacfb-0f72-4d46-8249-140d714c2650",
   "metadata": {},
   "source": [
    "#### zinterval_prop"
   ]
  },
  {
   "cell_type": "code",
   "execution_count": 6,
   "id": "248da1dd-935f-448c-8e86-55c931437cce",
   "metadata": {},
   "outputs": [
    {
     "data": {
      "text/plain": [
       "\u001b[1;31mSignature:\u001b[0m \u001b[0mCI\u001b[0m\u001b[1;33m.\u001b[0m\u001b[0mzinterval_prop\u001b[0m\u001b[1;33m(\u001b[0m\u001b[0malpha\u001b[0m\u001b[1;33m:\u001b[0m \u001b[1;34m'float'\u001b[0m\u001b[1;33m,\u001b[0m \u001b[0mcount\u001b[0m\u001b[1;33m:\u001b[0m \u001b[1;34m'int'\u001b[0m\u001b[1;33m,\u001b[0m \u001b[0mnobs\u001b[0m\u001b[1;33m:\u001b[0m \u001b[1;34m'int'\u001b[0m\u001b[1;33m)\u001b[0m \u001b[1;33m->\u001b[0m \u001b[1;34m'dict'\u001b[0m\u001b[1;33m\u001b[0m\u001b[1;33m\u001b[0m\u001b[0m\n",
       "\u001b[1;31mDocstring:\u001b[0m\n",
       "returns\n",
       "=======\n",
       "dict : (1-alpha)% z-interval for a proportion, with limits\n",
       "rounded to 6dp\n",
       "\n",
       "params\n",
       "======\n",
       "alpha : float\n",
       "    float in (0,1), significance level of the ci to return, as\n",
       "    in (1-alpha)%\n",
       "count : int\n",
       "    number of successes\n",
       "nobs : int\n",
       "    number of observations\n",
       "\u001b[1;31mFile:\u001b[0m      c:\\users\\liamj\\onedrive\\lib\\automatingm248\\src\\py\\confint.py\n",
       "\u001b[1;31mType:\u001b[0m      function\n"
      ]
     },
     "metadata": {},
     "output_type": "display_data"
    }
   ],
   "source": [
    "CI.zinterval_prop?"
   ]
  },
  {
   "cell_type": "markdown",
   "id": "8ef30c00-9c32-429f-91f5-5c930cbbc2d3",
   "metadata": {},
   "source": [
    "**Example usage** :\n",
    "A study was undertaken by a medical company on a sample of hospital patients who were prescribed with some drug.\n",
    "It was found that during the course of the treatment 30 patients suffered from some recurring malady, out of the 136 patents who took part in the study.\n",
    "Determine a 90% confidence interval for the proportion of patients who suffered from this reoccuring malady."
   ]
  },
  {
   "cell_type": "code",
   "execution_count": 7,
   "id": "b952cc6c-7cec-4719-be3e-217ab89b7624",
   "metadata": {},
   "outputs": [
    {
     "data": {
      "text/plain": [
       "{'lower': 0.162103, 'upper': 0.279073}"
      ]
     },
     "execution_count": 7,
     "metadata": {},
     "output_type": "execute_result"
    }
   ],
   "source": [
    "CI.zinterval_prop(alpha=0.1, count=30, nobs=136)"
   ]
  },
  {
   "cell_type": "markdown",
   "id": "ade716b1-0a72-4356-994e-65fadfc93102",
   "metadata": {},
   "source": [
    "#### zinterval_diff_props"
   ]
  },
  {
   "cell_type": "code",
   "execution_count": 8,
   "id": "2f9520e7-8612-4b23-8f1b-118d5b3481c9",
   "metadata": {},
   "outputs": [
    {
     "data": {
      "text/plain": [
       "\u001b[1;31mSignature:\u001b[0m\n",
       "\u001b[0mCI\u001b[0m\u001b[1;33m.\u001b[0m\u001b[0mzinterval_diff_props\u001b[0m\u001b[1;33m(\u001b[0m\u001b[1;33m\n",
       "\u001b[0m    \u001b[0malpha\u001b[0m\u001b[1;33m:\u001b[0m \u001b[1;34m'float'\u001b[0m\u001b[1;33m,\u001b[0m\u001b[1;33m\n",
       "\u001b[0m    \u001b[0mcount1\u001b[0m\u001b[1;33m:\u001b[0m \u001b[1;34m'int'\u001b[0m\u001b[1;33m,\u001b[0m\u001b[1;33m\n",
       "\u001b[0m    \u001b[0mnobs1\u001b[0m\u001b[1;33m:\u001b[0m \u001b[1;34m'int'\u001b[0m\u001b[1;33m,\u001b[0m\u001b[1;33m\n",
       "\u001b[0m    \u001b[0mcount2\u001b[0m\u001b[1;33m:\u001b[0m \u001b[1;34m'int'\u001b[0m\u001b[1;33m,\u001b[0m\u001b[1;33m\n",
       "\u001b[0m    \u001b[0mnobs2\u001b[0m\u001b[1;33m:\u001b[0m \u001b[1;34m'int'\u001b[0m\u001b[1;33m,\u001b[0m\u001b[1;33m\n",
       "\u001b[0m\u001b[1;33m)\u001b[0m \u001b[1;33m->\u001b[0m \u001b[1;34m'dict'\u001b[0m\u001b[1;33m\u001b[0m\u001b[1;33m\u001b[0m\u001b[0m\n",
       "\u001b[1;31mDocstring:\u001b[0m\n",
       "returns\n",
       "=======\n",
       "dict : (1-alpha)% z-interval for the difference between two\n",
       "proportions, with limits rounded to 6dp\n",
       "\n",
       "params\n",
       "======\n",
       "alpha : float\n",
       "    float in (0,1), significance level of the ci to return, as\n",
       "    in (1-alpha)%\n",
       "count1 : int\n",
       "    number of successes in sample 1\n",
       "nobs1 : int\n",
       "    sample size of sample 1\n",
       "count2 : int\n",
       "    number of successes in sample 2\n",
       "nobs2 : int\n",
       "    sample size of sample 2\n",
       "\u001b[1;31mFile:\u001b[0m      c:\\users\\liamj\\onedrive\\lib\\automatingm248\\src\\py\\confint.py\n",
       "\u001b[1;31mType:\u001b[0m      function\n"
      ]
     },
     "metadata": {},
     "output_type": "display_data"
    }
   ],
   "source": [
    "CI.zinterval_diff_props?"
   ]
  },
  {
   "cell_type": "markdown",
   "id": "b8587204-151f-45d8-96e3-1624c508ac32",
   "metadata": {},
   "source": [
    "**Example usage** :\n",
    "A study was undertaken by a medical company to investigate the effects of a newly developed drug treatment.\n",
    "One group of patients were administered with the drug, where it was found that 30 developed some recurring malady out of 136 patients.\n",
    "A second group was treated with a placebo instead of the drug: 51 developed the same malady as those in the first group out of 138 patients.\n",
    "\n",
    "Calculate an approximate 95% confidence interval for the difference between the the probabilities that patients receiving the new drug and patients receiving the placebo will suffer a recurrence of the malady."
   ]
  },
  {
   "cell_type": "code",
   "execution_count": 9,
   "id": "4db0dfe9-9b83-4b69-a110-b83b0015ded7",
   "metadata": {},
   "outputs": [
    {
     "data": {
      "text/plain": [
       "{'lower': -0.255477, 'upper': -0.042477}"
      ]
     },
     "execution_count": 9,
     "metadata": {},
     "output_type": "execute_result"
    }
   ],
   "source": [
    "CI.zinterval_diff_props(alpha=0.05, count1=30, nobs1=136, count2=51, nobs2=138)"
   ]
  },
  {
   "cell_type": "markdown",
   "id": "53a428ec-310b-4ae1-bd72-7f5dcfa49c0d",
   "metadata": {},
   "source": [
    "#### zinterval_poisson"
   ]
  },
  {
   "cell_type": "code",
   "execution_count": 10,
   "id": "a6599031-c514-4ca7-8c24-65f857a82cf4",
   "metadata": {},
   "outputs": [
    {
     "data": {
      "text/plain": [
       "\u001b[1;31mSignature:\u001b[0m \u001b[0mCI\u001b[0m\u001b[1;33m.\u001b[0m\u001b[0mzinterval_poisson\u001b[0m\u001b[1;33m(\u001b[0m\u001b[0malpha\u001b[0m\u001b[1;33m:\u001b[0m \u001b[1;34m'float'\u001b[0m\u001b[1;33m,\u001b[0m \u001b[0mmean\u001b[0m\u001b[1;33m:\u001b[0m \u001b[1;34m'float'\u001b[0m\u001b[1;33m,\u001b[0m \u001b[0msize\u001b[0m\u001b[1;33m:\u001b[0m \u001b[1;34m'int'\u001b[0m\u001b[1;33m)\u001b[0m \u001b[1;33m->\u001b[0m \u001b[1;34m'dict'\u001b[0m\u001b[1;33m\u001b[0m\u001b[1;33m\u001b[0m\u001b[0m\n",
       "\u001b[1;31mDocstring:\u001b[0m\n",
       "returns\n",
       "=======\n",
       "dict : (1-alpha)% z-interval for the poisson parameter, with\n",
       "limits rounded to 6dp\n",
       "\n",
       "params\n",
       "======\n",
       "alpha : float\n",
       "    float in (0,1), significance level of the ci to return, as\n",
       "    in (1-alpha)%\n",
       "mean : float\n",
       "    sample mean\n",
       "size : int\n",
       "    sample size\n",
       "\u001b[1;31mFile:\u001b[0m      c:\\users\\liamj\\onedrive\\lib\\automatingm248\\src\\py\\confint.py\n",
       "\u001b[1;31mType:\u001b[0m      function\n"
      ]
     },
     "metadata": {},
     "output_type": "display_data"
    }
   ],
   "source": [
    "CI.zinterval_poisson?"
   ]
  },
  {
   "cell_type": "markdown",
   "id": "79a4621c-de51-48a6-b8aa-3b617c2be4ca",
   "metadata": {},
   "source": []
  },
  {
   "cell_type": "markdown",
   "id": "047b8b87-ca16-4806-97be-a96d634d98c1",
   "metadata": {},
   "source": [
    "**Example usage** :\n",
    "A scientific study of some topic of interest resulted had a sample size 2612, of which there was an average success rate of 3.877.\n",
    "Calulcate a 95% confidence interval for $\\lambda$, the Poisson parameter."
   ]
  },
  {
   "cell_type": "code",
   "execution_count": 11,
   "id": "5222ab5b-205f-46c3-96c4-cb9f6e5269cc",
   "metadata": {},
   "outputs": [
    {
     "data": {
      "text/plain": [
       "{'lower': 3.801488, 'upper': 3.952512}"
      ]
     },
     "execution_count": 11,
     "metadata": {},
     "output_type": "execute_result"
    }
   ],
   "source": [
    "CI.zinterval_poisson(alpha=0.05, mean=3.877, size=2612)"
   ]
  },
  {
   "cell_type": "markdown",
   "id": "6bc8637e-e91a-411d-845d-8cf3c27ef7c8",
   "metadata": {},
   "source": [
    "#### tinterval_norm_mean"
   ]
  },
  {
   "cell_type": "code",
   "execution_count": 12,
   "id": "550f9bb1-2e75-4824-8d56-8c1adb10e5e3",
   "metadata": {},
   "outputs": [
    {
     "data": {
      "text/plain": [
       "\u001b[1;31mSignature:\u001b[0m\n",
       "\u001b[0mCI\u001b[0m\u001b[1;33m.\u001b[0m\u001b[0mtinterval_mean\u001b[0m\u001b[1;33m(\u001b[0m\u001b[1;33m\n",
       "\u001b[0m    \u001b[0malpha\u001b[0m\u001b[1;33m:\u001b[0m \u001b[1;34m'float'\u001b[0m\u001b[1;33m,\u001b[0m\u001b[1;33m\n",
       "\u001b[0m    \u001b[0mmean\u001b[0m\u001b[1;33m:\u001b[0m \u001b[1;34m'float'\u001b[0m\u001b[1;33m,\u001b[0m\u001b[1;33m\n",
       "\u001b[0m    \u001b[0msize\u001b[0m\u001b[1;33m:\u001b[0m \u001b[1;34m'int'\u001b[0m\u001b[1;33m,\u001b[0m\u001b[1;33m\n",
       "\u001b[0m    \u001b[0mvar\u001b[0m\u001b[1;33m:\u001b[0m \u001b[1;34m'float'\u001b[0m \u001b[1;33m=\u001b[0m \u001b[1;36m0\u001b[0m\u001b[1;33m,\u001b[0m\u001b[1;33m\n",
       "\u001b[0m    \u001b[0msd\u001b[0m\u001b[1;33m:\u001b[0m \u001b[1;34m'float'\u001b[0m \u001b[1;33m=\u001b[0m \u001b[1;36m0\u001b[0m\u001b[1;33m,\u001b[0m\u001b[1;33m\n",
       "\u001b[0m\u001b[1;33m)\u001b[0m \u001b[1;33m->\u001b[0m \u001b[1;34m'dict'\u001b[0m\u001b[1;33m\u001b[0m\u001b[1;33m\u001b[0m\u001b[0m\n",
       "\u001b[1;31mDocstring:\u001b[0m\n",
       "returns\n",
       "=======\n",
       "dict : (1-alpha)% t-interval for the mean, with limits rounded\n",
       "to 6dp\n",
       "\n",
       "params\n",
       "======\n",
       "alpha : float\n",
       "    float in (0,1), significance level of the ci to return, as\n",
       "    in (1-alpha)%\n",
       "mean : float\n",
       "    sample mean\n",
       "size : int\n",
       "    sample size\n",
       "var : float, default is 0\n",
       "    sample variance\n",
       "sd : float, default is 0\n",
       "    sample standard deviation\n",
       "\u001b[1;31mFile:\u001b[0m      c:\\users\\liamj\\onedrive\\lib\\automatingm248\\src\\py\\confint.py\n",
       "\u001b[1;31mType:\u001b[0m      function\n"
      ]
     },
     "metadata": {},
     "output_type": "display_data"
    }
   ],
   "source": [
    "CI.tinterval_mean?"
   ]
  },
  {
   "cell_type": "markdown",
   "id": "c90abee1-1fd7-4ec4-9522-bf5e0420d7d8",
   "metadata": {},
   "source": [
    "**Example usage** :\n",
    "A scientific study was undertaken on the mean silver content of some coins.\n",
    "It was found that the average silver content was 6.744% with sample variance 0.2953%-sq.\n",
    "It can be argued that the silver content of the coins can be modelled by a normal distribution.\n",
    "Calculate a 99% confidence interval for the mean percentage of silver in such coins."
   ]
  },
  {
   "cell_type": "code",
   "execution_count": 13,
   "id": "a73e52ef-0118-41d6-ba4c-8a5bacdffd66",
   "metadata": {},
   "outputs": [
    {
     "data": {
      "text/plain": [
       "{'lower': 6.136208, 'upper': 7.351792}"
      ]
     },
     "execution_count": 13,
     "metadata": {},
     "output_type": "execute_result"
    }
   ],
   "source": [
    "CI.tinterval_mean(alpha=0.01, mean=6.744, size=9, var=0.2953)"
   ]
  },
  {
   "cell_type": "markdown",
   "id": "91911269-7909-41d1-a00b-f7282da4d09b",
   "metadata": {},
   "source": [
    "#### tinterval_diff_norm_means"
   ]
  },
  {
   "cell_type": "code",
   "execution_count": 14,
   "id": "1fe0e62c-a88a-4c5b-ba9a-52cbea0d2503",
   "metadata": {},
   "outputs": [
    {
     "data": {
      "text/plain": [
       "\u001b[1;31mSignature:\u001b[0m\n",
       "\u001b[0mCI\u001b[0m\u001b[1;33m.\u001b[0m\u001b[0mtinterval_diff_means\u001b[0m\u001b[1;33m(\u001b[0m\u001b[1;33m\n",
       "\u001b[0m    \u001b[0malpha\u001b[0m\u001b[1;33m:\u001b[0m \u001b[1;34m'float'\u001b[0m\u001b[1;33m,\u001b[0m\u001b[1;33m\n",
       "\u001b[0m    \u001b[0md\u001b[0m\u001b[1;33m:\u001b[0m \u001b[1;34m'float'\u001b[0m\u001b[1;33m,\u001b[0m\u001b[1;33m\n",
       "\u001b[0m    \u001b[0msize1\u001b[0m\u001b[1;33m:\u001b[0m \u001b[1;34m'int'\u001b[0m\u001b[1;33m,\u001b[0m\u001b[1;33m\n",
       "\u001b[0m    \u001b[0msize2\u001b[0m\u001b[1;33m:\u001b[0m \u001b[1;34m'int'\u001b[0m\u001b[1;33m,\u001b[0m\u001b[1;33m\n",
       "\u001b[0m    \u001b[0msd1\u001b[0m\u001b[1;33m:\u001b[0m \u001b[1;34m'float'\u001b[0m\u001b[1;33m,\u001b[0m\u001b[1;33m\n",
       "\u001b[0m    \u001b[0msd2\u001b[0m\u001b[1;33m:\u001b[0m \u001b[1;34m'float'\u001b[0m\u001b[1;33m,\u001b[0m\u001b[1;33m\n",
       "\u001b[0m\u001b[1;33m)\u001b[0m \u001b[1;33m->\u001b[0m \u001b[1;34m'dict'\u001b[0m\u001b[1;33m\u001b[0m\u001b[1;33m\u001b[0m\u001b[0m\n",
       "\u001b[1;31mDocstring:\u001b[0m\n",
       "returns\n",
       "=======\n",
       "dict : (1-alpha)% t-interval for the difference between two\n",
       "normal means, with limits rounded to 6dp\n",
       "\n",
       "params\n",
       "======\n",
       "alpha : float\n",
       "    float in (0,1), significance level of the ci to return, as\n",
       "    in (1-alpha)%\n",
       "d : float\n",
       "    difference between the sample means, expected mean1-mean2\n",
       "size1 : int\n",
       "    size of sample 1\n",
       "size2 : int\n",
       "    size of sample 2\n",
       "sd1 : float\n",
       "    standard deviation of sample 1\n",
       "sd2 : float\n",
       "    standard deviation of sample 2\n",
       "\u001b[1;31mFile:\u001b[0m      c:\\users\\liamj\\onedrive\\lib\\automatingm248\\src\\py\\confint.py\n",
       "\u001b[1;31mType:\u001b[0m      function\n"
      ]
     },
     "metadata": {},
     "output_type": "display_data"
    }
   ],
   "source": [
    "CI.tinterval_diff_means?"
   ]
  },
  {
   "cell_type": "markdown",
   "id": "2c27592a-e509-4490-8d25-30e560708383",
   "metadata": {},
   "source": [
    "**Example usage** :\n",
    "A study was undertaken on the widths (in microns) of the first joint of the second tarsus for two specieis of the insect *Chaetocnema*.\n",
    "Ten insects of each species were sampled, yielding the following sample means and variances:\n",
    "\n",
    "$$\n",
    "\\overline{x}_{1} = 128.40, \\> s^{2}_{1} = 48.93, \\> \\overline{x}_{2} = 122.80, \\> s^{2}_{2} = 114.84.\n",
    "$$\n",
    "\n",
    "Assume that the distribution of joint widths in each population is normal.\n",
    "Calculate a two-sample 95% $t$-interval  for the differences between the means."
   ]
  },
  {
   "cell_type": "code",
   "execution_count": 15,
   "id": "6d527453-0b8d-46a4-b4b5-37c65d752d2c",
   "metadata": {},
   "outputs": [],
   "source": [
    "# declare params\n",
    "a = 0.05\n",
    "d = 128.4-122.80  # difference between two means\n",
    "n = 10  # no need for n1, n2 as same sample size\n",
    "s1 = 48.93**0.5  # sample sd\n",
    "s2 = 114.84**0.5  # sample sd"
   ]
  },
  {
   "cell_type": "code",
   "execution_count": 16,
   "id": "90dc9b7b-d099-4817-b7f8-d5f410568b19",
   "metadata": {},
   "outputs": [
    {
     "data": {
      "text/plain": [
       "{'lower': -2.902028, 'upper': 14.102028}"
      ]
     },
     "execution_count": 16,
     "metadata": {},
     "output_type": "execute_result"
    }
   ],
   "source": [
    "# get ci\n",
    "CI.tinterval_diff_means(alpha=a, d=d, size1=n, size2=n, sd1=s1, sd2=s2)"
   ]
  }
 ],
 "metadata": {
  "kernelspec": {
   "display_name": "Python 3.8",
   "language": "python",
   "name": "python3"
  },
  "language_info": {
   "codemirror_mode": {
    "name": "ipython",
    "version": 3
   },
   "file_extension": ".py",
   "mimetype": "text/x-python",
   "name": "python",
   "nbconvert_exporter": "python",
   "pygments_lexer": "ipython3",
   "version": "3.8.10"
  }
 },
 "nbformat": 4,
 "nbformat_minor": 5
}
