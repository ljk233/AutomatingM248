{
 "cells": [
  {
   "cell_type": "markdown",
   "metadata": {},
   "source": [
    "# Maximum Likelihood Estimators and SymPy\n",
    "\n",
    "A discrete random variable $X$  has range $\\{1,2,3,4\\}$  and probability mass function\n",
    "\n",
    "$$\n",
    "p(x; \\theta) =\n",
    "\\begin{cases}\n",
    "  \\theta \\hspace{2mm} & \\text{for } x=1; \\\\\n",
    "  \\frac{1}{2}(1-\\theta) \\hspace{2mm} & \\text{for } x=2; \\\\\n",
    "  \\frac{1}{4}(1-\\theta) \\hspace{2mm} & \\text{for } x=3; \\\\\n",
    "  \\frac{1}{4}(1-\\theta) \\hspace{2mm} & \\text{for } x=4.\n",
    "\\end{cases}\n",
    "$$\n",
    "\n",
    "The parameter $\\theta \\in (0,1)$  is unknown.\n",
    "\n",
    "A random sample of 100 independent observations were obtained from which to estimate $\\theta$: these data are given in the following frequency table.\n",
    "\n",
    "| $x$           | 1    | 2    | 3    | 4    |\n",
    "| ------------- | ---- | ---- | ---- | ---- |\n",
    "| **Frequency** | 31   | 37   | 18   | 14   |\n",
    "\n",
    "What is the likelihood $L(\\theta)$ for these data?"
   ]
  },
  {
   "cell_type": "code",
   "execution_count": 7,
   "metadata": {},
   "outputs": [],
   "source": [
    "from sympy import diff, solve, lambdify, Float, solve\n",
    "from sympy.abc import theta\n",
    "import pandas as pd\n",
    "import numpy as np\n",
    "import seaborn as sns\n",
    "import matplotlib.pyplot as plt"
   ]
  },
  {
   "cell_type": "markdown",
   "metadata": {},
   "source": [
    "Let us first define `np.arrays` for\n",
    "\n",
    "- $x$;\n",
    "- $p(x; \\theta)$;\n",
    "- $f_{x}$."
   ]
  },
  {
   "cell_type": "code",
   "execution_count": 3,
   "metadata": {},
   "outputs": [],
   "source": [
    "x = np.array([1, 2, 3, 4])\n",
    "pmf = np.array([theta, (1/2)*(1-theta), (1/4)*(1-theta), (1/4)*(1-theta)])\n",
    "f = np.array([31, 37, 18, 14])  # frequency of outcome"
   ]
  },
  {
   "cell_type": "markdown",
   "metadata": {},
   "source": [
    "Declare $L(\\theta)$"
   ]
  },
  {
   "cell_type": "code",
   "execution_count": 5,
   "metadata": {},
   "outputs": [],
   "source": [
    "lik_gen = np.array([pmf[i]**f[i] for i in range(0, x.size)])\n",
    "lik = np.prod([lik_gen])"
   ]
  },
  {
   "cell_type": "markdown",
   "metadata": {},
   "source": [
    "Declare $L'(\\theta)$"
   ]
  },
  {
   "cell_type": "code",
   "execution_count": 6,
   "metadata": {},
   "outputs": [],
   "source": [
    "maxlik = diff(lik, theta)"
   ]
  },
  {
   "cell_type": "markdown",
   "metadata": {},
   "source": [
    "Solve $L'(\\theta) = 0$."
   ]
  },
  {
   "cell_type": "code",
   "execution_count": 12,
   "metadata": {},
   "outputs": [
    {
     "name": "stdout",
     "output_type": "stream",
     "text": [
      "MLE = 0.310000000000000\n"
     ]
    }
   ],
   "source": [
    "sol = solve(maxlik)[1]\n",
    "lower = float(solve(maxlik)[0])\n",
    "upper = float(solve(maxlik)[2])\n",
    "\n",
    "print(\"MLE = {}\".format(sol))"
   ]
  },
  {
   "cell_type": "code",
   "execution_count": null,
   "metadata": {},
   "outputs": [],
   "source": [
    "# =============================================================================\n",
    "# lamdify pmf and likelihood\n",
    "# =============================================================================\n",
    "\n",
    "thetas = np.linspace(start=lower, stop=upper, num=1000)  # possible thetas\n",
    "lik = lambdify([theta], lik.prod(), \"numpy\")(thetas)  # calculate li(theta)\n",
    "\n",
    "exp = list()\n",
    "k = 0  # reinitialise counter\n",
    "while k < x.size:\n",
    "    exp.append(lambdify([theta], f.sum()*pmf[k]))  # build list\n",
    "    k +=1\n",
    "exp = np.asarray(exp)  # list as np.array\n",
    "\n",
    "\n",
    "# =============================================================================\n",
    "# Plot li\n",
    "# =============================================================================\n",
    "\n",
    "fig, ax = plt.subplots()\n",
    "\n",
    "sns.lineplot(x=thetas, y=lik, ax=ax)\n",
    "ax.plot(sol, lik.max(), 'o', c=\"r\",\n",
    "        label='MLE = {}'.format(round(sol, 3)))  # add marker for MLE\n",
    "ax.plot(np.repeat([float(sol)], 100),\n",
    "        np.linspace(0, lik.max(), 100),\n",
    "        '--', lw=1, c=\"r\")  # add drop line\n",
    "ax.legend(loc=0)\n",
    "\n",
    "# =============================================================================\n",
    "# Output Observed/Expected table\n",
    "# =============================================================================\n",
    "\n",
    "expected = list()\n",
    "k = 0  # reinitialise counter\n",
    "while k < x.size:\n",
    "    expected.append(Float(exp[k](sol), 4))  # build list\n",
    "    k += 1\n",
    "expected = np.asarray(expected)  # list as np.array\n",
    "\n",
    "df = pd.DataFrame(data={'X': x, 'Observed': f, 'Expected': expected})\n",
    "\n",
    "# =============================================================================\n",
    "# Plot tbl as side-by-size barplot\n",
    "# =============================================================================\n",
    "\n",
    "df_melt = pd.melt(df, 'X')\n",
    "\n",
    "fig1, ax1 = plt.subplots()\n",
    "sns.barplot(data=pd.melt(df, 'X'),\n",
    "            x='X',\n",
    "            y=\"value\",\n",
    "            hue='variable')"
   ]
  },
  {
   "cell_type": "code",
   "execution_count": 2,
   "metadata": {},
   "outputs": [],
   "source": [
    "# =============================================================================\n",
    "# define a, b as constants\n",
    "# =============================================================================\n",
    "\n",
    "a, b = symbols('a b', constants=True)"
   ]
  },
  {
   "cell_type": "code",
   "execution_count": 3,
   "metadata": {},
   "outputs": [],
   "source": [
    "# =============================================================================\n",
    "# define the pmf\n",
    "# =============================================================================\n",
    "\n",
    "p1 = theta**31\n",
    "p2 = (a*(1 - theta))**37\n",
    "p3 = ((b)*(1-theta))**18\n",
    "p4 = ((b)*(1-theta))**14"
   ]
  },
  {
   "cell_type": "code",
   "execution_count": 4,
   "metadata": {},
   "outputs": [
    {
     "data": {
      "text/latex": [
       "$\\displaystyle a^{37} b^{32} \\theta^{31} \\left(1 - \\theta\\right)^{69}$"
      ],
      "text/plain": [
       "a**37*b**32*theta**31*(1 - theta)**69"
      ]
     },
     "execution_count": 4,
     "metadata": {},
     "output_type": "execute_result"
    }
   ],
   "source": [
    "# =============================================================================\n",
    "# find L()\n",
    "# =============================================================================\n",
    "\n",
    "li = p1*p2*p3*p4\n",
    "li"
   ]
  },
  {
   "cell_type": "code",
   "execution_count": 5,
   "metadata": {},
   "outputs": [
    {
     "data": {
      "text/latex": [
       "$\\displaystyle - 69 a^{37} b^{32} \\theta^{31} \\left(1 - \\theta\\right)^{68} + 31 a^{37} b^{32} \\theta^{30} \\left(1 - \\theta\\right)^{69}$"
      ],
      "text/plain": [
       "-69*a**37*b**32*theta**31*(1 - theta)**68 + 31*a**37*b**32*theta**30*(1 - theta)**69"
      ]
     },
     "execution_count": 5,
     "metadata": {},
     "output_type": "execute_result"
    }
   ],
   "source": [
    "# =============================================================================\n",
    "# differentiate li\n",
    "# =============================================================================\n",
    "\n",
    "maxli = diff(li, theta)\n",
    "maxli"
   ]
  },
  {
   "cell_type": "code",
   "execution_count": 6,
   "metadata": {},
   "outputs": [
    {
     "data": {
      "text/latex": [
       "$\\displaystyle a^{37} b^{32} \\theta^{30} \\left(31 - 100 \\theta\\right) \\left(\\theta - 1\\right)^{68}$"
      ],
      "text/plain": [
       "a**37*b**32*theta**30*(31 - 100*theta)*(theta - 1)**68"
      ]
     },
     "execution_count": 6,
     "metadata": {},
     "output_type": "execute_result"
    }
   ],
   "source": [
    "# =============================================================================\n",
    "# Simplify maxli\n",
    "# =============================================================================\n",
    "\n",
    "maxli = simplify(maxli)\n",
    "maxli"
   ]
  },
  {
   "cell_type": "code",
   "execution_count": 7,
   "metadata": {},
   "outputs": [
    {
     "data": {
      "text/plain": [
       "[{a: 0}, {b: 0}, {theta: 0}, {theta: 31/100}, {theta: 1}]"
      ]
     },
     "execution_count": 7,
     "metadata": {},
     "output_type": "execute_result"
    }
   ],
   "source": [
    "# =============================================================================\n",
    "# Solve maxli=0\n",
    "# =============================================================================\n",
    "\n",
    "solve(Eq(maxli, 0))"
   ]
  }
 ],
 "metadata": {
  "kernelspec": {
   "display_name": "Python 3",
   "language": "python",
   "name": "python3"
  },
  "language_info": {
   "codemirror_mode": {
    "name": "ipython",
    "version": 3
   },
   "file_extension": ".py",
   "mimetype": "text/x-python",
   "name": "python",
   "nbconvert_exporter": "python",
   "pygments_lexer": "ipython3",
   "version": "3.8.3"
  }
 },
 "nbformat": 4,
 "nbformat_minor": 4
}
