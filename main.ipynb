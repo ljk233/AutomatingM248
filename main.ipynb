{
 "metadata": {
  "language_info": {
   "codemirror_mode": {
    "name": "ipython",
    "version": 3
   },
   "file_extension": ".py",
   "mimetype": "text/x-python",
   "name": "python",
   "nbconvert_exporter": "python",
   "pygments_lexer": "ipython3",
   "version": "3.8.3-final"
  },
  "orig_nbformat": 2,
  "kernelspec": {
   "name": "Python 3.8.3 64-bit",
   "display_name": "Python 3.8.3 64-bit",
   "metadata": {
    "interpreter": {
     "hash": "ff1f241afc5a4c2e07811e38e6858495d05af165b3766e4314a3d7953c54c6af"
    }
   }
  }
 },
 "nbformat": 4,
 "nbformat_minor": 2,
 "cells": [
  {
   "source": [
    "# Automating M248\n",
    "\n",
    "-----\n"
   ],
   "cell_type": "markdown",
   "metadata": {}
  },
  {
   "source": [
    "Built with Python 3.8.3. Uses variable typing\n",
    "\n",
    "Built and tested in VSCode \n",
    "\n",
    "-----\n",
    "\n",
    "Generates a distribution with the given parameters.\n",
    "\n",
    "Distributions currently supported:\n",
    "\n",
    "- Binomial (`Binomial(n, p)`)\n",
    "- Geometric (`Geometric(p)`)\n",
    "- Poisson (`Poisson(mu)`)\n",
    "- Discrete Uniform (`DiscreteUniform(m, n)`)\n",
    "\n"
   ],
   "cell_type": "markdown",
   "metadata": {}
  },
  {
   "source": [
    "## Describing the distribution\n",
    "\n",
    "-----\n",
    "\n",
    "```python\n",
    "distribution.displaySummary()\n",
    "```\n",
    "\n",
    "Returns the **mean**, **variance**, and **standard distribution** of the distribution\n",
    "\n",
    "-----\n"
   ],
   "cell_type": "markdown",
   "metadata": {}
  },
  {
   "source": [
    "## Calculating probabilities\n",
    "\n",
    "-----\n",
    "\n",
    "```python\n",
    "distribution.calculateProbability()\n",
    "```\n",
    "\n",
    "Launches a loop, where: \n",
    "\n",
    "1. the probability interval is clarified\n",
    "2. variables for $X$ are defined.\n",
    "\n",
    "Please enter the number corresponding to the desired probability interval:\n",
    "\n",
    "| Option | Interval                     |\n",
    "|--------|------------------------------|\n",
    "| 0      | Quit                         |\n",
    "| 1      | $P(X = x)$                   |\n",
    "| 2      | $P(X \\leq x)$                |\n",
    "| 3      | $P(X < x)$                   |\n",
    "| 4      | $P(X \\geq x)$                |\n",
    "| 5      | $P(X > x)$                   |\n",
    "| 6      | $P(x_{1} \\leq X \\leq x_{2})$ |\n",
    "| 7      | $P(x_{1} < X \\leq x_{2})$    |\n",
    "| 8      | $P(x_{1} \\leq X < x_{2})$    |\n",
    "| 9      | $P(x_{1} < X < x_{2})$       |\n"
   ],
   "cell_type": "markdown",
   "metadata": {}
  },
  {
   "cell_type": "code",
   "execution_count": 1,
   "metadata": {},
   "outputs": [],
   "source": [
    "import automateM248 as m248"
   ]
  },
  {
   "cell_type": "code",
   "execution_count": 11,
   "metadata": {
    "tags": []
   },
   "outputs": [
    {
     "output_type": "stream",
     "name": "stdout",
     "text": "Summary statistics of the distribution\n--------------------------------------\nE(X) = 2.5\nV(X) = 2.5\nS(X) = 1.5811\n"
    }
   ],
   "source": [
    "# declare L for the exp distribution\n",
    "L: float = 0.5\n",
    "\n",
    "# Declare the distribution\n",
    "distribution = m248.Poisson(2.5)"
   ]
  },
  {
   "cell_type": "code",
   "execution_count": 12,
   "metadata": {
    "tags": []
   },
   "outputs": [
    {
     "output_type": "stream",
     "name": "stdout",
     "text": "P(X = 0) = 0.082085\n"
    }
   ],
   "source": [
    "distribution.calculateProbability()"
   ]
  },
  {
   "cell_type": "code",
   "execution_count": null,
   "metadata": {},
   "outputs": [],
   "source": []
  }
 ]
}