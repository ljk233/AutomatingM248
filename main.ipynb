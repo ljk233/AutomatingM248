{
 "metadata": {
  "language_info": {
   "codemirror_mode": {
    "name": "ipython",
    "version": 3
   },
   "file_extension": ".py",
   "mimetype": "text/x-python",
   "name": "python",
   "nbconvert_exporter": "python",
   "pygments_lexer": "ipython3",
   "version": "3.8.3-final"
  },
  "orig_nbformat": 2,
  "kernelspec": {
   "name": "python_defaultSpec_1600408037112",
   "display_name": "Python 3.8.3 64-bit"
  }
 },
 "nbformat": 4,
 "nbformat_minor": 2,
 "cells": [
  {
   "source": [
    "# Automating M248\n",
    "\n",
    "-----\n",
    "\n",
    "A random variable is modelled as $X \\sim B(8,0.2)$.\n",
    "\n"
   ],
   "cell_type": "markdown",
   "metadata": {}
  },
  {
   "cell_type": "code",
   "execution_count": 1,
   "metadata": {},
   "outputs": [],
   "source": [
    "import automateM248 as m248\n",
    "\n",
    "# Declares the obj.\n",
    "# testBinomial = m248.Binomial(5, 0.5)"
   ]
  },
  {
   "source": [
    "## Calculating probabilities\n",
    "\n",
    "-----\n",
    "\n",
    "Options: Please enter the option number for the form the probability takes\n",
    "\n",
    "1. $P(X = x)$\n",
    "2. $P(X \\leq x)$\n",
    "3. $P(X < x)$\n",
    "4. $P(X \\geq x)$\n",
    "5. $P(X > x)$\n",
    "6. $P(x_{1} \\leq X \\leq x_{2})$\n",
    "7. $P(x_{1} < X \\leq x_{2})$\n",
    "8. $P(x_{1} \\leq X < x_{2})$\n",
    "9. $P(x_{1} < X < x_{2})$\n",
    "\n",
    "or enter 0. to Quit\n",
    "\n"
   ],
   "cell_type": "markdown",
   "metadata": {}
  },
  {
   "cell_type": "code",
   "execution_count": 3,
   "metadata": {
    "tags": []
   },
   "outputs": [],
   "source": [
    "# testBinomial.calculateProbability()"
   ]
  },
  {
   "source": [
    "## Describing the distribution\n",
    "\n",
    "-----\n",
    "\n",
    "Calculate the *mean*, *variance*, and *standard distribution* of the distribution"
   ],
   "cell_type": "markdown",
   "metadata": {}
  },
  {
   "cell_type": "code",
   "execution_count": 4,
   "metadata": {
    "tags": []
   },
   "outputs": [
    {
     "output_type": "stream",
     "name": "stdout",
     "text": "Summary statistics of the distribution\n-----\nE(X) = 2.5\nV(X) = 1.25\nS(X) = 1.118\n"
    }
   ],
   "source": [
    "testBinomial.displaySummary()"
   ]
  }
 ]
}