{
 "metadata": {
  "language_info": {
   "codemirror_mode": {
    "name": "ipython",
    "version": 3
   },
   "file_extension": ".py",
   "mimetype": "text/x-python",
   "name": "python",
   "nbconvert_exporter": "python",
   "pygments_lexer": "ipython3",
   "version": "3.8.3-final"
  },
  "orig_nbformat": 2,
  "kernelspec": {
   "name": "python_defaultSpec_1600408037112",
   "display_name": "Python 3.8.3 64-bit"
  }
 },
 "nbformat": 4,
 "nbformat_minor": 2,
 "cells": [
  {
   "source": [
    "# Automating M248\n",
    "\n",
    "-----\n"
   ],
   "cell_type": "markdown",
   "metadata": {}
  },
  {
   "source": [
    "Built with Python 3.8.3\n",
    "\n",
    "Uses variable typing\n",
    "\n",
    "Tested in VSCode \n",
    "\n",
    "-----\n",
    "\n",
    "Generates a distribution with the given parameters.\n",
    "\n",
    "Distributions currently supported:\n",
    "\n",
    "- Binomial (`Binomial`)\n",
    "- Geometric (`Geometric`)\n",
    "- Poisson (`Poisson`)\n",
    "- Discrete Uniform (`DiscreteUniform`)\n",
    "\n"
   ],
   "cell_type": "markdown",
   "metadata": {}
  },
  {
   "source": [
    "## Calculating probabilities\n",
    "\n",
    "-----\n",
    "\n",
    "```python\n",
    "distribution.calculateProbability()\n",
    "```\n",
    "\n",
    "Launches a loop, where: \n",
    "\n",
    "1. the probability interval is clarified\n",
    "2. variables for $X$ are defined.\n",
    "\n",
    "Please enter the number corresponding to the desired probability interval:\n",
    "\n",
    "| Option | Interval                     |\n",
    "|--------|------------------------------|\n",
    "| 0      | Quit                         |\n",
    "| 1      | $P(X = x)$                   |\n",
    "| 2      | $P(X \\leq x)$                |\n",
    "| 3      | $P(X < x)$                   |\n",
    "| 4      | $P(X \\geq x)$                |\n",
    "| 5      | $P(X > x)$                   |\n",
    "| 6      | $P(x_{1} \\leq X \\leq x_{2})$ |\n",
    "| 7      | $P(x_{1} < X \\leq x_{2})$    |\n",
    "| 8      | $P(x_{1} \\leq X < x_{2})$    |\n",
    "| 9      | $P(x_{1} < X < x_{2})$       |\n"
   ],
   "cell_type": "markdown",
   "metadata": {}
  },
  {
   "source": [
    "## Describing the distribution\n",
    "\n",
    "-----\n",
    "\n",
    "```python\n",
    "distribution.displaySummary()\n",
    "```\n",
    "\n",
    "Returns the **mean**, **variance**, and **standard distribution** of the distribution\n",
    "\n",
    "-----\n"
   ],
   "cell_type": "markdown",
   "metadata": {}
  },
  {
   "cell_type": "code",
   "execution_count": null,
   "metadata": {},
   "outputs": [],
   "source": [
    "import automateM248 as m248\n"
   ]
  },
  {
   "cell_type": "code",
   "execution_count": null,
   "metadata": {},
   "outputs": [],
   "source": [
    "# Declare the distribution\n",
    "# distribution = m248.Binomial(5, 0.5)\n"
   ]
  },
  {
   "cell_type": "code",
   "execution_count": null,
   "metadata": {
    "tags": []
   },
   "outputs": [],
   "source": [
    "# distribution.calculateProbability()"
   ]
  },
  {
   "cell_type": "code",
   "execution_count": null,
   "metadata": {
    "tags": []
   },
   "outputs": [],
   "source": [
    "# distribution.displaySummary()"
   ]
  }
 ]
}