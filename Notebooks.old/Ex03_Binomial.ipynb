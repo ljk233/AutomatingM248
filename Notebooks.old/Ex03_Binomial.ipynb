{
 "cells": [
  {
   "cell_type": "markdown",
   "metadata": {},
   "source": [
    "# Binomial Distribution in Python\n",
    "\n",
    "Date: 2020-10-29\n",
    "\n",
    "## Scenario\n",
    "\n",
    "A company specialises in chartering flights from Narnia.\n",
    "The company is concerned about the rise in sky mermaids that have been spotted by the crew of the flights, as a collision could be disasterous.\n",
    "The flight crew estimates that there is a 17% chance of spotting a sky mermaid during a flight.\n",
    "\n",
    "In 20XX, the company is scheduled to fly 18 flights from Narnia.\n",
    "It may be assumed that the event of spotting a sky mermaid is independent of any other event.\n",
    "\n",
    "-----"
   ]
  },
  {
   "cell_type": "markdown",
   "metadata": {},
   "source": [
    "## Questions\n",
    "\n",
    "**(a)** What is the model that describes the number of sky mermaids spotted out of the 18 flights?\n",
    "\n",
    "**(b)** Construct a table showing the p.m.f. and c.d.f. of the distribution.\n",
    "\n",
    "**(c)** Plot the probability distribution.\n",
    "\n",
    "**(d)** Calculate the mean and variance of the distribution.\n",
    "\n",
    "**(e)** What is the probability that five flights will spot sky mermaids in 20XX?\n",
    "\n",
    "**(f)** What is the probability four or fewer flights will spot sky mermaids in 20XX?\n",
    "\n",
    "**(g)** What is the probability that more than four flights will spot sky mermaids in 20XX?\n",
    "\n",
    "-----"
   ]
  },
  {
   "cell_type": "code",
   "execution_count": 1,
   "metadata": {},
   "outputs": [],
   "source": [
    "import scipy.stats as stats\n",
    "import pandas as pd\n",
    "import numpy as np\n",
    "import seaborn as sns"
   ]
  },
  {
   "cell_type": "markdown",
   "metadata": {},
   "source": [
    "## (a)\n",
    "\n",
    "Let $X$ be a random variable that represents the number of times a sky mermaid is spotted during the flights from Narnia over the year.\n",
    "Then $X$ is modelled by a **binomial distribution**, with parameters $n$ being the number of flights flown, and $p=0.17$, so $X \\sim B(18,0.17)$."
   ]
  },
  {
   "cell_type": "code",
   "execution_count": 2,
   "metadata": {},
   "outputs": [],
   "source": [
    "# declare the distribution\n",
    "x = stats.binom(n=18, p=0.17)"
   ]
  },
  {
   "cell_type": "markdown",
   "metadata": {},
   "source": [
    "## (b)\n",
    "\n",
    "We'll disply the p.d.f. and c.d.f. using a pandas **DataFrame**."
   ]
  },
  {
   "cell_type": "code",
   "execution_count": 3,
   "metadata": {},
   "outputs": [],
   "source": [
    "# declare an array\n",
    "range_x = np.arange(start=0, stop=19, step=1)"
   ]
  },
  {
   "cell_type": "code",
   "execution_count": 4,
   "metadata": {},
   "outputs": [],
   "source": [
    "# declare a DataFrame to hold the pdf and cdf\n",
    "df_mermaids = pd.DataFrame(data=range_x, columns={'x'})"
   ]
  },
  {
   "cell_type": "code",
   "execution_count": 5,
   "metadata": {},
   "outputs": [],
   "source": [
    "# append pmf and cdf to df\n",
    "df_mermaids['p(x)'] = x.pmf(df_mermaids['x'])\n",
    "df_mermaids['F(x)'] = x.cdf(df_mermaids['x'])"
   ]
  },
  {
   "cell_type": "code",
   "execution_count": 6,
   "metadata": {},
   "outputs": [
    {
     "data": {
      "text/html": [
       "<div>\n",
       "<style scoped>\n",
       "    .dataframe tbody tr th:only-of-type {\n",
       "        vertical-align: middle;\n",
       "    }\n",
       "\n",
       "    .dataframe tbody tr th {\n",
       "        vertical-align: top;\n",
       "    }\n",
       "\n",
       "    .dataframe thead th {\n",
       "        text-align: right;\n",
       "    }\n",
       "</style>\n",
       "<table border=\"1\" class=\"dataframe\">\n",
       "  <thead>\n",
       "    <tr style=\"text-align: right;\">\n",
       "      <th></th>\n",
       "      <th>x</th>\n",
       "      <th>p(x)</th>\n",
       "      <th>F(x)</th>\n",
       "    </tr>\n",
       "  </thead>\n",
       "  <tbody>\n",
       "    <tr>\n",
       "      <th>0</th>\n",
       "      <td>0</td>\n",
       "      <td>3.494666e-02</td>\n",
       "      <td>0.034947</td>\n",
       "    </tr>\n",
       "    <tr>\n",
       "      <th>1</th>\n",
       "      <td>1</td>\n",
       "      <td>1.288395e-01</td>\n",
       "      <td>0.163786</td>\n",
       "    </tr>\n",
       "    <tr>\n",
       "      <th>2</th>\n",
       "      <td>2</td>\n",
       "      <td>2.243049e-01</td>\n",
       "      <td>0.388091</td>\n",
       "    </tr>\n",
       "    <tr>\n",
       "      <th>3</th>\n",
       "      <td>3</td>\n",
       "      <td>2.450238e-01</td>\n",
       "      <td>0.633115</td>\n",
       "    </tr>\n",
       "    <tr>\n",
       "      <th>4</th>\n",
       "      <td>4</td>\n",
       "      <td>1.881960e-01</td>\n",
       "      <td>0.821311</td>\n",
       "    </tr>\n",
       "    <tr>\n",
       "      <th>5</th>\n",
       "      <td>5</td>\n",
       "      <td>1.079293e-01</td>\n",
       "      <td>0.929240</td>\n",
       "    </tr>\n",
       "    <tr>\n",
       "      <th>6</th>\n",
       "      <td>6</td>\n",
       "      <td>4.789633e-02</td>\n",
       "      <td>0.977136</td>\n",
       "    </tr>\n",
       "    <tr>\n",
       "      <th>7</th>\n",
       "      <td>7</td>\n",
       "      <td>1.681730e-02</td>\n",
       "      <td>0.993954</td>\n",
       "    </tr>\n",
       "    <tr>\n",
       "      <th>8</th>\n",
       "      <td>8</td>\n",
       "      <td>4.736197e-03</td>\n",
       "      <td>0.998690</td>\n",
       "    </tr>\n",
       "    <tr>\n",
       "      <th>9</th>\n",
       "      <td>9</td>\n",
       "      <td>1.077849e-03</td>\n",
       "      <td>0.999768</td>\n",
       "    </tr>\n",
       "    <tr>\n",
       "      <th>10</th>\n",
       "      <td>10</td>\n",
       "      <td>1.986879e-04</td>\n",
       "      <td>0.999967</td>\n",
       "    </tr>\n",
       "    <tr>\n",
       "      <th>11</th>\n",
       "      <td>11</td>\n",
       "      <td>2.959644e-05</td>\n",
       "      <td>0.999996</td>\n",
       "    </tr>\n",
       "    <tr>\n",
       "      <th>12</th>\n",
       "      <td>12</td>\n",
       "      <td>3.536121e-06</td>\n",
       "      <td>1.000000</td>\n",
       "    </tr>\n",
       "    <tr>\n",
       "      <th>13</th>\n",
       "      <td>13</td>\n",
       "      <td>3.342765e-07</td>\n",
       "      <td>1.000000</td>\n",
       "    </tr>\n",
       "    <tr>\n",
       "      <th>14</th>\n",
       "      <td>14</td>\n",
       "      <td>2.445224e-08</td>\n",
       "      <td>1.000000</td>\n",
       "    </tr>\n",
       "    <tr>\n",
       "      <th>15</th>\n",
       "      <td>15</td>\n",
       "      <td>1.335544e-09</td>\n",
       "      <td>1.000000</td>\n",
       "    </tr>\n",
       "    <tr>\n",
       "      <th>16</th>\n",
       "      <td>16</td>\n",
       "      <td>5.128972e-11</td>\n",
       "      <td>1.000000</td>\n",
       "    </tr>\n",
       "    <tr>\n",
       "      <th>17</th>\n",
       "      <td>17</td>\n",
       "      <td>1.235897e-12</td>\n",
       "      <td>1.000000</td>\n",
       "    </tr>\n",
       "    <tr>\n",
       "      <th>18</th>\n",
       "      <td>18</td>\n",
       "      <td>1.406308e-14</td>\n",
       "      <td>1.000000</td>\n",
       "    </tr>\n",
       "  </tbody>\n",
       "</table>\n",
       "</div>"
      ],
      "text/plain": [
       "     x          p(x)      F(x)\n",
       "0    0  3.494666e-02  0.034947\n",
       "1    1  1.288395e-01  0.163786\n",
       "2    2  2.243049e-01  0.388091\n",
       "3    3  2.450238e-01  0.633115\n",
       "4    4  1.881960e-01  0.821311\n",
       "5    5  1.079293e-01  0.929240\n",
       "6    6  4.789633e-02  0.977136\n",
       "7    7  1.681730e-02  0.993954\n",
       "8    8  4.736197e-03  0.998690\n",
       "9    9  1.077849e-03  0.999768\n",
       "10  10  1.986879e-04  0.999967\n",
       "11  11  2.959644e-05  0.999996\n",
       "12  12  3.536121e-06  1.000000\n",
       "13  13  3.342765e-07  1.000000\n",
       "14  14  2.445224e-08  1.000000\n",
       "15  15  1.335544e-09  1.000000\n",
       "16  16  5.128972e-11  1.000000\n",
       "17  17  1.235897e-12  1.000000\n",
       "18  18  1.406308e-14  1.000000"
      ]
     },
     "execution_count": 6,
     "metadata": {},
     "output_type": "execute_result"
    }
   ],
   "source": [
    "# view the dataframe\n",
    "df_mermaids"
   ]
  },
  {
   "cell_type": "markdown",
   "metadata": {},
   "source": [
    "## (c)"
   ]
  },
  {
   "cell_type": "code",
   "execution_count": 7,
   "metadata": {},
   "outputs": [
    {
     "data": {
      "text/plain": [
       "[Text(0.5, 1.0, 'Probability distribution: B(18, 0.17)'), Text(0, 0.5, 'p(x)')]"
      ]
     },
     "execution_count": 7,
     "metadata": {},
     "output_type": "execute_result"
    },
    {
     "data": {
      "image/png": "[encoded data removed]",
      "text/plain": [
       "<Figure size 432x288 with 1 Axes>"
      ]
     },
     "metadata": {
      "needs_background": "light"
     },
     "output_type": "display_data"
    }
   ],
   "source": [
    "fig1 = sns.barplot(data=df_mermaids,\n",
    "                   x='x',\n",
    "                   y='p(x)',\n",
    "                   color='grey')\n",
    "\n",
    "fig1.set(title=\"Probability distribution: B(18, 0.17)\",\n",
    "         ylabel=\"p(x)\")"
   ]
  },
  {
   "cell_type": "markdown",
   "metadata": {},
   "source": [
    "## (d)\n",
    "\n",
    "The mean of a binomial distribution is\n",
    "\n",
    "$$\n",
    "E(X) = np = \\ldots\n",
    "$$"
   ]
  },
  {
   "cell_type": "code",
   "execution_count": 8,
   "metadata": {},
   "outputs": [
    {
     "data": {
      "text/plain": [
       "3.06"
      ]
     },
     "execution_count": 8,
     "metadata": {},
     "output_type": "execute_result"
    }
   ],
   "source": [
    "x.mean()"
   ]
  },
  {
   "cell_type": "markdown",
   "metadata": {},
   "source": [
    "The variance of a binomial distribution is\n",
    "\n",
    "$$\n",
    "V(X) = np(1-p) = \\ldots\n",
    "$$"
   ]
  },
  {
   "cell_type": "code",
   "execution_count": 9,
   "metadata": {},
   "outputs": [
    {
     "data": {
      "text/plain": [
       "2.5398"
      ]
     },
     "execution_count": 9,
     "metadata": {},
     "output_type": "execute_result"
    }
   ],
   "source": [
    "x.var()"
   ]
  },
  {
   "cell_type": "markdown",
   "metadata": {},
   "source": [
    "## (e)\n",
    "\n",
    "The probability $P(X=x)$ for a binomial distribution is\n",
    "\n",
    "$$\n",
    "P(X=x) = p(x) = \\binom{n}{x} p^{x} (1-p)^{n-x}.\n",
    "$$\n",
    "\n",
    "So the probability that five flights will spot sky mermaids in 20XX is\n",
    "\n",
    "$$\n",
    "P(X=5) = \\binom{18}{5} (0.17)^{5} (0.83)^{13} = \\ldots\n",
    "$$"
   ]
  },
  {
   "cell_type": "code",
   "execution_count": 10,
   "metadata": {},
   "outputs": [
    {
     "data": {
      "text/plain": [
       "0.10792927645305388"
      ]
     },
     "execution_count": 10,
     "metadata": {},
     "output_type": "execute_result"
    }
   ],
   "source": [
    "x.pmf(k=5)"
   ]
  },
  {
   "cell_type": "markdown",
   "metadata": {},
   "source": [
    "## (f)\n",
    "\n",
    "The probability $P(X \\leq x)$ for a binomial distribution is\n",
    "\n",
    "$$\n",
    "P(X \\leq x) = F(x) = \\sum_{k = 0}^{x} \\binom{n}{k} p^{k} (1-p)^{n - k}.\n",
    "$$\n",
    "\n",
    "So the probability four or fewer flights will spot sky mermaids in 20XX is\n",
    "\n",
    "$$\n",
    "P(X \\leq 4) = F(4) = \\sum_{k = 0}^{4} \\binom{18}{k} (0.17)^{k} (0.83)^{18 - k} = \\ldots\n",
    "$$"
   ]
  },
  {
   "cell_type": "code",
   "execution_count": 11,
   "metadata": {},
   "outputs": [
    {
     "data": {
      "text/plain": [
       "0.8213108726294348"
      ]
     },
     "execution_count": 11,
     "metadata": {},
     "output_type": "execute_result"
    }
   ],
   "source": [
    "x.cdf(x=4)"
   ]
  },
  {
   "cell_type": "markdown",
   "metadata": {},
   "source": [
    "## (g)\n",
    "\n",
    "The probability that more than four flights will spot sky mermaids in 20XX is\n",
    "\n",
    "$$\n",
    "P(X > 4) = 1 - F(4) = 1 - \\sum_{k = 0}^{4} \\binom{18}{k} (0.17)^{k} (0.83)^{18 - k} = \\ldots\n",
    "$$"
   ]
  },
  {
   "cell_type": "code",
   "execution_count": 12,
   "metadata": {},
   "outputs": [
    {
     "data": {
      "text/plain": [
       "0.17868912737056494"
      ]
     },
     "execution_count": 12,
     "metadata": {},
     "output_type": "execute_result"
    }
   ],
   "source": [
    "x.sf(x=4)"
   ]
  }
 ],
 "metadata": {
  "kernelspec": {
   "display_name": "Python 3",
   "language": "python",
   "name": "python3"
  },
  "language_info": {
   "codemirror_mode": {
    "name": "ipython",
    "version": 3
   },
   "file_extension": ".py",
   "mimetype": "text/x-python",
   "name": "python",
   "nbconvert_exporter": "python",
   "pygments_lexer": "ipython3",
   "version": "3.8.3"
  }
 },
 "nbformat": 4,
 "nbformat_minor": 4
}
