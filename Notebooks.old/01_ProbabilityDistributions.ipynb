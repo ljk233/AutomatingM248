{
 "cells": [
  {
   "cell_type": "markdown",
   "metadata": {},
   "source": [
    "# Notes for M248\n",
    "\n",
    "Date: 2020-11-14"
   ]
  },
  {
   "cell_type": "markdown",
   "metadata": {},
   "source": [
    "## Workflow when dealing with a probability distribution\n",
    "\n",
    "Use case: dealing with an extended modelling question\n",
    "\n",
    "1. **Identify** the parameters\n",
    "2. **Identify** the model (if the model is not given).\n",
    "3. **Parse** the probability.\n",
    "4. **Formulate** the probability.\n",
    "5. **Calculate** the probability."
   ]
  },
  {
   "cell_type": "markdown",
   "metadata": {},
   "source": [
    "## Appendices"
   ]
  },
  {
   "cell_type": "markdown",
   "metadata": {},
   "source": [
    "### Parsing probabilities"
   ]
  },
  {
   "cell_type": "markdown",
   "metadata": {},
   "source": [
    "**Table 1**. Single parameter\n",
    "\n",
    "| Probability       | Probability to Calculate |\n",
    "| ----------------- | ------------------------ |\n",
    "| $P(X = x_{i})$    | $p(x_{1})$               |\n",
    "| $P(X \\leq x_{i})$ | $F(x_{i})$               |\n",
    "| $P(X < x_{i})$    | $F(x_{i-1})$             |\n",
    "| $P(X \\geq x_{i})$ | $1-F(x_{i-1})$           |\n",
    "| $P(X > x_{i})$    | $1-F(x_{i})$             |"
   ]
  },
  {
   "cell_type": "markdown",
   "metadata": {},
   "source": [
    "**Table 2**. Two parameters.\n",
    "\n",
    "| Probability                  | Probability to Calculate  |\n",
    "| ---------------------------- | ------------------------- |\n",
    "| $P(x_{i} \\leq X \\leq x_{j})$ | $F(x_{j}) - F(x_{i-1})$   |\n",
    "| $P(x_{i} < X \\leq x_{j})$    | $F(x_{j}) - F(x_{i})$     |\n",
    "| $P(x_{i} \\leq X < x_{j})$    | $F(x_{j-1}) - F(x_{i-1})$ |\n",
    "| $P(x_{i} < X < x_{j})$       | $F(x_{j-1}) - F(x_{i})$   |"
   ]
  },
  {
   "cell_type": "markdown",
   "metadata": {},
   "source": [
    "**Table 2**. Continuous random variable.\n",
    "\n",
    "Note that the probabilities $P(X \\leq x_{i}) \\backsimeq P(X < x_{i})$ and $P(X \\geq x_{i}) \\backsimeq P(X > x_{i})$\n",
    "\n",
    "| Probability                         | Probability to Calculate |\n",
    "| ----------------------------------- | ------------------------ |\n",
    "| $P(X = x_{i})$                      | $p(x_{1})$               |\n",
    "| $P(X \\leq x_{i})$ or $P(X < x_{i})$ | $F(x_{i})$               |\n",
    "| $P(X \\geq x_{i})$ or $P(X > x_{i})$ | $1-F(x_{i})$             |"
   ]
  },
  {
   "cell_type": "markdown",
   "metadata": {},
   "source": [
    "### Probabilities with two parameters"
   ]
  },
  {
   "cell_type": "markdown",
   "metadata": {},
   "source": [
    "**Table 4**. Continuous random variable."
   ]
  }
 ],
 "metadata": {
  "kernelspec": {
   "display_name": "Python 3",
   "language": "python",
   "name": "python3"
  },
  "language_info": {
   "codemirror_mode": {
    "name": "ipython",
    "version": 3
   },
   "file_extension": ".py",
   "mimetype": "text/x-python",
   "name": "python",
   "nbconvert_exporter": "python",
   "pygments_lexer": "ipython3",
   "version": "3.8.3"
  }
 },
 "nbformat": 4,
 "nbformat_minor": 4
}
