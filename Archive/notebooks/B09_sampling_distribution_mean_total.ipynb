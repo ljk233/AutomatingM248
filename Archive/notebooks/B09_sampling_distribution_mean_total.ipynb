{
 "cells": [
  {
   "cell_type": "markdown",
   "metadata": {},
   "source": [
    "# B9 Sampling distributions of the sample mean and totals"
   ]
  },
  {
   "cell_type": "code",
   "execution_count": 1,
   "metadata": {},
   "outputs": [],
   "source": [
    "from m248_support import Normal\n",
    "from scipy import stats"
   ]
  },
  {
   "cell_type": "markdown",
   "metadata": {},
   "source": [
    "## 1 Sampling distribution of the sample mean"
   ]
  },
  {
   "cell_type": "markdown",
   "metadata": {},
   "source": [
    "### Example 9.1.1\n",
    "\n",
    "Suppose that a random sample of 50 packets of sweets of a certain variety is taken from a production line.\n",
    "The number of sweets in each packet $X$ may be modelled by a Poisson distribution with mean 45.\n",
    "\n",
    "**(a)** What is the approximate distribution of the sample mean, $\\overline{X}_{50}$?\n",
    "\n",
    "**(b)** What is the probability that the sample mean will be less than 43 sweets?"
   ]
  },
  {
   "cell_type": "code",
   "execution_count": 2,
   "metadata": {},
   "outputs": [],
   "source": [
    "# declare the original distribution\n",
    "p = stats.poisson(mu=45)"
   ]
  },
  {
   "cell_type": "code",
   "execution_count": 3,
   "metadata": {},
   "outputs": [],
   "source": [
    "# declare the normal distribution\n",
    "# use the original distribution as parameters\n",
    "x = Normal(a_mean=p.mean(), a_std=p.std())"
   ]
  },
  {
   "cell_type": "code",
   "execution_count": 4,
   "metadata": {},
   "outputs": [],
   "source": [
    "# model the sampling distribution of the mean\n",
    "sample_mean = x.model_sample_distribution_of_mean(n=50)"
   ]
  },
  {
   "cell_type": "markdown",
   "metadata": {},
   "source": [
    "#### (a)\n",
    "\n",
    "Let $X_{i}$ represent the number of sweets in packet $i$. Then $X_{i} \\sim \\text{Poisson}(45)$.\n",
    "\n",
    "For a Poisson distribution with parameter $\\lambda$, both the mean and the variance are equal to $\\lambda$, and so when $X_{i} \\sim \\text{Poisson}(45)$, then $\\mu$ is"
   ]
  },
  {
   "cell_type": "code",
   "execution_count": 5,
   "metadata": {},
   "outputs": [
    {
     "data": {
      "text/plain": [
       "45.0"
      ]
     },
     "execution_count": 5,
     "metadata": {},
     "output_type": "execute_result"
    }
   ],
   "source": [
    "p.mean()"
   ]
  },
  {
   "cell_type": "markdown",
   "metadata": {},
   "source": [
    "and $\\sigma$ is approximately"
   ]
  },
  {
   "cell_type": "code",
   "execution_count": 6,
   "metadata": {},
   "outputs": [
    {
     "data": {
      "text/plain": [
       "6.7082"
      ]
     },
     "execution_count": 6,
     "metadata": {},
     "output_type": "execute_result"
    }
   ],
   "source": [
    "round(p.std(), 4)"
   ]
  },
  {
   "cell_type": "markdown",
   "metadata": {},
   "source": [
    "By the Central Limit Theorem, the mean $\\overline{X}_n$ of large $n$ independent random variables each with mean $\\mu$ and standard deviation $\\sigma$ has distribution\n",
    "\n",
    "$$\n",
    "\\overline{X}_n \\sim N \\bigg( \\mu, \\frac{\\sigma}{\\sqrt{n}} \\bigg).\n",
    "$$\n",
    "\n",
    "Therefore, $E(\\overline{X}_{50})$ is"
   ]
  },
  {
   "cell_type": "code",
   "execution_count": 7,
   "metadata": {},
   "outputs": [
    {
     "data": {
      "text/plain": [
       "45.0"
      ]
     },
     "execution_count": 7,
     "metadata": {},
     "output_type": "execute_result"
    }
   ],
   "source": [
    "sample_mean.get_mu()"
   ]
  },
  {
   "cell_type": "markdown",
   "metadata": {},
   "source": [
    "and $S(\\overline{X}_{50})$ is approximately"
   ]
  },
  {
   "cell_type": "code",
   "execution_count": 8,
   "metadata": {},
   "outputs": [
    {
     "data": {
      "text/plain": [
       "0.9487"
      ]
     },
     "execution_count": 8,
     "metadata": {},
     "output_type": "execute_result"
    }
   ],
   "source": [
    "round(sample_mean.get_sigma(), 4)"
   ]
  },
  {
   "cell_type": "markdown",
   "metadata": {},
   "source": [
    "so that $\\overline{X}_{50} \\sim \\ldots$"
   ]
  },
  {
   "cell_type": "code",
   "execution_count": 9,
   "metadata": {},
   "outputs": [
    {
     "name": "stdout",
     "output_type": "stream",
     "text": [
      "Current model: N(45.0, 0.95^2)\n"
     ]
    }
   ],
   "source": [
    "sample_mean.is_distributed()"
   ]
  },
  {
   "cell_type": "markdown",
   "metadata": {},
   "source": [
    "#### (b)\n",
    "\n",
    "The probability $P(\\overline{X}_{50} \\leq 43) = P(Z \\leq z)$, where $z =$"
   ]
  },
  {
   "cell_type": "code",
   "execution_count": 10,
   "metadata": {},
   "outputs": [
    {
     "data": {
      "text/plain": [
       "-2.11"
      ]
     },
     "execution_count": 10,
     "metadata": {},
     "output_type": "execute_result"
    }
   ],
   "source": [
    "sample_mean.has_z(x=43)"
   ]
  },
  {
   "cell_type": "markdown",
   "metadata": {},
   "source": [
    "Therefore, the probability $P(Z \\leq -2.11) = \\Phi (-2.11) = 1 - \\Phi (2.11) = \\cdots$"
   ]
  },
  {
   "cell_type": "code",
   "execution_count": 11,
   "metadata": {},
   "outputs": [
    {
     "data": {
      "text/plain": [
       "0.0175"
      ]
     },
     "execution_count": 11,
     "metadata": {},
     "output_type": "execute_result"
    }
   ],
   "source": [
    "sample_mean.has_F(x=43)"
   ]
  },
  {
   "cell_type": "markdown",
   "metadata": {},
   "source": [
    "### Example 7.1.2 (June 2020)\n",
    "\n",
    "Suppose that the weights of the contents of a certain brand of cereal packets, each of which is labelled as containing 500 g, are normally distributed with a mean weight of 502 g and standard deviation of 5 g.\n",
    "\n",
    "A random sample of 40 packets is taken.\n",
    "\n",
    "**(a)** What is the approximate distribution of the sample mean, $\\overline{X}_{40}$?\n",
    "\n",
    "**(b)** Calculate the probability that the sample mean that the sample mean contents is less than 500 g."
   ]
  },
  {
   "cell_type": "code",
   "execution_count": 12,
   "metadata": {},
   "outputs": [],
   "source": [
    "# declare the original distribution\n",
    "x = Normal(a_mean=502, a_std=5)"
   ]
  },
  {
   "cell_type": "code",
   "execution_count": 13,
   "metadata": {},
   "outputs": [],
   "source": [
    "# model the sampling distribution of the mean\n",
    "sample_mean = x.model_sample_distribution_of_mean(n=40)"
   ]
  },
  {
   "cell_type": "markdown",
   "metadata": {},
   "source": [
    "#### (a)\n",
    "\n",
    "The $E(\\overline{X}_{40}) = \\mu = \\cdots$"
   ]
  },
  {
   "cell_type": "code",
   "execution_count": 14,
   "metadata": {},
   "outputs": [
    {
     "data": {
      "text/plain": [
       "502"
      ]
     },
     "execution_count": 14,
     "metadata": {},
     "output_type": "execute_result"
    }
   ],
   "source": [
    "sample_mean.get_mu()"
   ]
  },
  {
   "cell_type": "markdown",
   "metadata": {},
   "source": [
    "and $S(\\overline{X}_{40}) = \\sigma / \\sqrt{n} = 5 / \\sqrt{40} = \\cdots$"
   ]
  },
  {
   "cell_type": "code",
   "execution_count": 15,
   "metadata": {},
   "outputs": [
    {
     "data": {
      "text/plain": [
       "0.7906"
      ]
     },
     "execution_count": 15,
     "metadata": {},
     "output_type": "execute_result"
    }
   ],
   "source": [
    "round(sample_mean.get_sigma(), 4)"
   ]
  },
  {
   "cell_type": "markdown",
   "metadata": {},
   "source": [
    "So $\\overline{X}_{40} \\sim \\cdots$"
   ]
  },
  {
   "cell_type": "code",
   "execution_count": 16,
   "metadata": {},
   "outputs": [
    {
     "name": "stdout",
     "output_type": "stream",
     "text": [
      "Current model: N(502, 0.79^2)\n"
     ]
    }
   ],
   "source": [
    "sample_mean.is_distributed()"
   ]
  },
  {
   "cell_type": "markdown",
   "metadata": {},
   "source": [
    "#### (b)\n",
    "\n",
    "The probability $P(\\overline{X}_{40} \\leq 500) = P(Z \\leq z)$, where $z =$"
   ]
  },
  {
   "cell_type": "code",
   "execution_count": 17,
   "metadata": {},
   "outputs": [
    {
     "data": {
      "text/plain": [
       "-2.53"
      ]
     },
     "execution_count": 17,
     "metadata": {},
     "output_type": "execute_result"
    }
   ],
   "source": [
    "sample_mean.has_z(x=500)"
   ]
  },
  {
   "cell_type": "markdown",
   "metadata": {},
   "source": [
    "Therefore, the probability $P(Z \\leq -2.53) = \\Phi (-2.53) = 1 - \\Phi (2.53) = \\cdots$"
   ]
  },
  {
   "cell_type": "code",
   "execution_count": 18,
   "metadata": {},
   "outputs": [
    {
     "data": {
      "text/plain": [
       "0.0057"
      ]
     },
     "execution_count": 18,
     "metadata": {},
     "output_type": "execute_result"
    }
   ],
   "source": [
    "sample_mean.has_F(x=500)"
   ]
  },
  {
   "cell_type": "markdown",
   "metadata": {},
   "source": [
    "## 2 Sampling distribution of the sample total"
   ]
  },
  {
   "cell_type": "markdown",
   "metadata": {},
   "source": [
    "### Example 9.2.1 (U6.Ex24)\n",
    "\n",
    "Vehicles pass an observer in such a way that the waiting time between successive vehicles may be adequately modelled by an exponential distribution with mean 15 seconds.\n",
    "Particular details of each vehicle that passes are recorded on a sheet.\n",
    "There is room to record the details of twenty vehicles on each sheet.\n",
    "\n",
    "**(a)** What is the distribution that models the time taken to complete a sheet, $T_{20}$?\n",
    "\n",
    "**(b)** What, approximately, is the probability that it takes less than 6 minutes to fill one of the sheets?"
   ]
  },
  {
   "cell_type": "markdown",
   "metadata": {},
   "source": [
    "#### (a)\n",
    "\n",
    "If $W$ is the waiting time in seconds between successive vehicles, then $W$ has mean 15.\n",
    "Since the mean and standard deviation of an exponential distribution are equal, the standard deviation of $W$ is 15.\n",
    "The time $T_{20}$ that it takes to fill a sheet is the sum of the first twenty such waiting times is\n",
    "\n",
    "$$\n",
    "T_{20} = W_{1} + W_{2} + \\cdots + W_{20}.\n",
    "$$"
   ]
  },
  {
   "cell_type": "code",
   "execution_count": 19,
   "metadata": {},
   "outputs": [],
   "source": [
    "# declare the distribution\n",
    "w = Normal(a_mean=15, a_std=15)"
   ]
  },
  {
   "cell_type": "code",
   "execution_count": 20,
   "metadata": {},
   "outputs": [],
   "source": [
    "# model sample mean of size 20\n",
    "t = w.model_sampling_distribution_of_total(n=20)"
   ]
  },
  {
   "cell_type": "markdown",
   "metadata": {},
   "source": [
    "So $E(T_{20}) = 20 E(X) \\cdots$"
   ]
  },
  {
   "cell_type": "code",
   "execution_count": 21,
   "metadata": {},
   "outputs": [
    {
     "data": {
      "text/plain": [
       "300"
      ]
     },
     "execution_count": 21,
     "metadata": {},
     "output_type": "execute_result"
    }
   ],
   "source": [
    "t.get_mu()"
   ]
  },
  {
   "cell_type": "markdown",
   "metadata": {},
   "source": [
    "and $S(T_{20}) = S(X) \\sqrt{20} \\simeq \\cdots$"
   ]
  },
  {
   "cell_type": "code",
   "execution_count": 22,
   "metadata": {},
   "outputs": [
    {
     "data": {
      "text/plain": [
       "67.082"
      ]
     },
     "execution_count": 22,
     "metadata": {},
     "output_type": "execute_result"
    }
   ],
   "source": [
    "round(t.get_sigma(), 4)"
   ]
  },
  {
   "cell_type": "markdown",
   "metadata": {},
   "source": [
    "Also, by the corollary to the Central Limit Theorem, Distributional Result, the distribution of $T_{20}$ is approximately normal, so $T_{20} \\sim \\cdots$"
   ]
  },
  {
   "cell_type": "code",
   "execution_count": 23,
   "metadata": {},
   "outputs": [
    {
     "name": "stdout",
     "output_type": "stream",
     "text": [
      "Current model: N(300, 67.08^2)\n"
     ]
    }
   ],
   "source": [
    "t.is_distributed()"
   ]
  },
  {
   "cell_type": "markdown",
   "metadata": {},
   "source": [
    "#### (b)\n",
    "\n",
    "The approximate probability that the total time taken to fill a sheet is less than 6 minutes (or 360 seconds) is given by\n",
    "\n",
    "$$\n",
    "P(T_{20} \\leq 360) = P(Z \\leq z)\n",
    "$$\n",
    "\n",
    "where $z$ is"
   ]
  },
  {
   "cell_type": "code",
   "execution_count": 24,
   "metadata": {},
   "outputs": [
    {
     "data": {
      "text/plain": [
       "0.89"
      ]
     },
     "execution_count": 24,
     "metadata": {},
     "output_type": "execute_result"
    }
   ],
   "source": [
    "t.has_z(x=360)"
   ]
  },
  {
   "cell_type": "markdown",
   "metadata": {},
   "source": [
    "And so $P(T_{20} \\leq 360) = \\Phi (0.89) = \\cdots$"
   ]
  },
  {
   "cell_type": "code",
   "execution_count": 25,
   "metadata": {},
   "outputs": [
    {
     "data": {
      "text/plain": [
       "0.8145"
      ]
     },
     "execution_count": 25,
     "metadata": {},
     "output_type": "execute_result"
    }
   ],
   "source": [
    "t.has_F(x=360)"
   ]
  },
  {
   "cell_type": "markdown",
   "metadata": {},
   "source": [
    "*Note, there's a slight discrepency compared to the text due to rounding.*"
   ]
  },
  {
   "cell_type": "markdown",
   "metadata": {},
   "source": [
    "### Example 9.2.2 (June 2017)\n",
    "\n",
    "The mean weight of chocolate bars produced by a particular factory is 39 g with a variance of 16 g$^{2}$. Those chocolate bars were packed in boxes with 30 bars.\n",
    "\n",
    "**(a)** What is the distribution that models the boxes of 30 bars, $T_{30}$?\n",
    "\n",
    "**(b)** Calculate the approximate probability that the total weight of chocolate bars in a box will exceed 1130 g."
   ]
  },
  {
   "cell_type": "code",
   "execution_count": 26,
   "metadata": {},
   "outputs": [],
   "source": [
    "# declare the distribution\n",
    "w = Normal(a_mean=39, a_std=4)"
   ]
  },
  {
   "cell_type": "code",
   "execution_count": 27,
   "metadata": {},
   "outputs": [],
   "source": [
    "# model sample mean of size 30\n",
    "t = w.model_sampling_distribution_of_total(n=30)"
   ]
  },
  {
   "cell_type": "markdown",
   "metadata": {},
   "source": [
    "#### (a)\n",
    "\n",
    "Let $W_{i}$ be represent the weight of of chocolate bar $i$ in a box, where $W_{i} \\sim N(39, 4^{2})$.\n",
    "\n",
    "Let $T_{30}$ be\n",
    "\n",
    "$$\n",
    "T_{30} = \\sum_{i=1}^{30} W_{i}, \\hspace{3mm} i = 1, 2, \\ldots 30,\n",
    "$$\n",
    "\n",
    "where $E(T_{30}) = 30 E(W_{i}) = \\cdots$"
   ]
  },
  {
   "cell_type": "code",
   "execution_count": 28,
   "metadata": {},
   "outputs": [
    {
     "data": {
      "text/plain": [
       "1170"
      ]
     },
     "execution_count": 28,
     "metadata": {},
     "output_type": "execute_result"
    }
   ],
   "source": [
    "t.get_mu()"
   ]
  },
  {
   "cell_type": "markdown",
   "metadata": {},
   "source": [
    "and $S(T_{30}) = S(W_{i}) \\sqrt{30} = \\cdots$"
   ]
  },
  {
   "cell_type": "code",
   "execution_count": 29,
   "metadata": {},
   "outputs": [
    {
     "data": {
      "text/plain": [
       "21.9089"
      ]
     },
     "execution_count": 29,
     "metadata": {},
     "output_type": "execute_result"
    }
   ],
   "source": [
    "round(t.get_sigma(), 4)"
   ]
  },
  {
   "cell_type": "markdown",
   "metadata": {},
   "source": [
    "So therefore, $T_{30} \\sim \\cdots$"
   ]
  },
  {
   "cell_type": "code",
   "execution_count": 30,
   "metadata": {},
   "outputs": [
    {
     "name": "stdout",
     "output_type": "stream",
     "text": [
      "Current model: N(1170, 21.91^2)\n"
     ]
    }
   ],
   "source": [
    "t.is_distributed()"
   ]
  },
  {
   "cell_type": "markdown",
   "metadata": {},
   "source": [
    "#### (b)\n",
    "\n",
    "The approximate probability that the total weight of a box of thirty chocolate bars is greater than 1130 g is given by $P(T_{30} \\geq 1130) = P(Z \\geq z)$, where $z$ is"
   ]
  },
  {
   "cell_type": "code",
   "execution_count": 31,
   "metadata": {},
   "outputs": [
    {
     "data": {
      "text/plain": [
       "-1.83"
      ]
     },
     "execution_count": 31,
     "metadata": {},
     "output_type": "execute_result"
    }
   ],
   "source": [
    "t.has_z(x=1130)"
   ]
  },
  {
   "cell_type": "markdown",
   "metadata": {},
   "source": [
    "Therefore, $P(T_{30} \\geq 1130) = 1 - \\Phi (-1130) = \\Phi (1130) = \\cdots$"
   ]
  },
  {
   "cell_type": "code",
   "execution_count": 32,
   "metadata": {},
   "outputs": [
    {
     "data": {
      "text/plain": [
       "0.9661"
      ]
     },
     "execution_count": 32,
     "metadata": {},
     "output_type": "execute_result"
    }
   ],
   "source": [
    "t.has_F(x=1130, greater_than=True)"
   ]
  }
 ],
 "metadata": {
  "kernelspec": {
   "display_name": "Python 3",
   "language": "python",
   "name": "python3"
  },
  "language_info": {
   "codemirror_mode": {
    "name": "ipython",
    "version": 3
   },
   "file_extension": ".py",
   "mimetype": "text/x-python",
   "name": "python",
   "nbconvert_exporter": "python",
   "pygments_lexer": "ipython3",
   "version": "3.8.3"
  }
 },
 "nbformat": 4,
 "nbformat_minor": 4
}