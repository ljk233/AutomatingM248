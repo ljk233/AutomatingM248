{
 "cells": [
  {
   "cell_type": "markdown",
   "metadata": {},
   "source": [
    "# B7 Normal distribution"
   ]
  },
  {
   "cell_type": "code",
   "execution_count": 1,
   "metadata": {},
   "outputs": [],
   "source": [
    "from scipy import stats"
   ]
  },
  {
   "cell_type": "code",
   "execution_count": 2,
   "metadata": {},
   "outputs": [],
   "source": [
    "def linear_transformation_mean(x_mean: float,\n",
    "                               a: float,\n",
    "                               b: float = 0) -> float:\n",
    "    \"\"\"\n",
    "    Returns the mean of a normal variable Y, where Y = aX + b.\n",
    "    \"\"\"\n",
    "\n",
    "    y_mean = round(a * x_mean + b, 4)\n",
    "\n",
    "    return y_mean"
   ]
  },
  {
   "cell_type": "code",
   "execution_count": 3,
   "metadata": {},
   "outputs": [],
   "source": [
    "def linear_transformation_var(x_var: float,\n",
    "                              a: float) -> float:\n",
    "    \"\"\"\n",
    "    Returns the variance of a normal variable Y, where Y = aX + b.\n",
    "    \"\"\"\n",
    "\n",
    "    y_var = round(a ** 2 * x_var, 4)\n",
    "\n",
    "    return y_var"
   ]
  },
  {
   "cell_type": "markdown",
   "metadata": {},
   "source": [
    "## 1 Linear functions of normal variables"
   ]
  },
  {
   "cell_type": "markdown",
   "metadata": {},
   "source": [
    "### Note\n",
    "\n",
    "If a random variable $X$ has a normal distribution with mean $\\mu$ and variance $\\sigma^{2}$, and $Y=aX+b$ for constants $a$ and $b$, then\n",
    "\n",
    "$$\n",
    "Y=aX+b \\sim N(a \\mu + b, a^{2} \\sigma^{2}).\n",
    "$$"
   ]
  },
  {
   "cell_type": "markdown",
   "metadata": {},
   "source": [
    "### Example 7.1.1\n",
    "\n",
    "Suppose that $X \\sim N(4,2)$, and that the random variable $Y$ is related to $X$ by the equation\n",
    "\n",
    "$$\n",
    "Y = 0.2X + 5.\n",
    "$$\n",
    "\n",
    "**(a)** What is the mean of $Y$?\n",
    "\n",
    "**(b)** What is the variance of $Y$?"
   ]
  },
  {
   "cell_type": "markdown",
   "metadata": {},
   "source": [
    "#### (a)\n",
    "\n",
    "If $Y=0.2X + 5$, then $E(Y) = 0.2E(X) + 5 = \\cdots$"
   ]
  },
  {
   "cell_type": "code",
   "execution_count": 4,
   "metadata": {},
   "outputs": [
    {
     "data": {
      "text/plain": [
       "5.8"
      ]
     },
     "execution_count": 4,
     "metadata": {},
     "output_type": "execute_result"
    }
   ],
   "source": [
    "linear_transformation_mean(x_mean=4, a=0.2, b=5)"
   ]
  },
  {
   "cell_type": "markdown",
   "metadata": {},
   "source": [
    "#### (b)\n",
    "\n",
    "If $Y=0.2X + 5$, then $V(Y) = (0.2^{2}) 2 = \\cdots$"
   ]
  },
  {
   "cell_type": "code",
   "execution_count": 5,
   "metadata": {},
   "outputs": [
    {
     "data": {
      "text/plain": [
       "0.08"
      ]
     },
     "execution_count": 5,
     "metadata": {},
     "output_type": "execute_result"
    }
   ],
   "source": [
    "linear_transformation_var(x_var=2, a=0.2)"
   ]
  },
  {
   "cell_type": "markdown",
   "metadata": {},
   "source": [
    "### Example 7.1.2\n",
    "\n",
    "Suppose the fuel consumption of a car can be modelled by a normal distribution with mean 48 miles per gallon (mpg) and variance 4.5 mpg$^{2}$.\n",
    "\n",
    "Given that 1 mpg corresponds to approximately 0.354 kilometres per litre (km/l), calculate\n",
    "\n",
    "**(a)** the mean,\n",
    "\n",
    "**(b)** the variance\n",
    "\n",
    "of the distribution of the car’s fuel consumption in km/l"
   ]
  },
  {
   "cell_type": "markdown",
   "metadata": {},
   "source": [
    "#### Define the transformation\n",
    "\n",
    "Let $G$ be a random variable that represents the fuel consumption of a car in miles per gallon, where $M \\sim N(48, 4.5)$.\n",
    "\n",
    "Since 1 mpg is approximately 0.354 km/l, the car consumption in km/l, $L$, is calculated as\n",
    "\n",
    "$$\n",
    "L = 0.354G.\n",
    "$$"
   ]
  },
  {
   "cell_type": "markdown",
   "metadata": {},
   "source": [
    "#### (a)\n",
    "\n",
    "If $L=0.354G$, then $E(L) = 0.354E(G) = \\cdots$"
   ]
  },
  {
   "cell_type": "code",
   "execution_count": 6,
   "metadata": {},
   "outputs": [
    {
     "data": {
      "text/plain": [
       "16.992"
      ]
     },
     "execution_count": 6,
     "metadata": {},
     "output_type": "execute_result"
    }
   ],
   "source": [
    "linear_transformation_mean(x_mean=48, a=0.354, b=0)"
   ]
  },
  {
   "cell_type": "markdown",
   "metadata": {},
   "source": [
    "#### (b)\n",
    "\n",
    "If $L=0.354G$, then $V(L) = (0.354^{2}) 4.5 = \\cdots$"
   ]
  },
  {
   "cell_type": "code",
   "execution_count": 7,
   "metadata": {},
   "outputs": [
    {
     "data": {
      "text/plain": [
       "0.5639"
      ]
     },
     "execution_count": 7,
     "metadata": {},
     "output_type": "execute_result"
    }
   ],
   "source": [
    "linear_transformation_var(x_var=4.5, a=0.354)"
   ]
  },
  {
   "cell_type": "markdown",
   "metadata": {},
   "source": [
    "### Example 7.1.3\n",
    "\n",
    "Three independent random variables $X_{1}$, $X_{2}$ and $X_{3}$ are all normally distributed so that $X_{1} \\sim N(4,6)$, $X_{2} \\sim N(-8,2)$ and $X_{3} \\sim N(-1,1)$.\n",
    "\n",
    "Let another random variable $S$ be $S = X_{1} + X_{2} + X_{3}$.\n",
    "\n",
    "**(a)** What is the mean of $S$?\n",
    "\n",
    "**(b)** What is the variance of $S$?"
   ]
  },
  {
   "cell_type": "markdown",
   "metadata": {},
   "source": [
    "If $X_{1}, X_{2}, \\ldots , X_{n}$ are independent normally distributed random variables, with means $\\mu_{1}, \\mu_{2}, \\ldots , \\mu_{n}$ and variances $\\sigma_{1}, \\sigma_{2}, \\ldots , \\sigma_{n}$, then\n",
    "\n",
    "$$\n",
    "X_{1} + X_{2} + \\cdots + X_{n} \\sim N(\n",
    "    \\mu_{1} + \\mu_{2} + \\cdots + \\mu_{n}, \\>\n",
    "    \\sigma_{1} + \\sigma_{2} + \\cdots + \\sigma_{n}).\n",
    "$$"
   ]
  },
  {
   "cell_type": "markdown",
   "metadata": {},
   "source": [
    "#### (a)\n",
    "\n",
    "If $S = X_{1} + X_{2} + X_{3}$, then\n",
    "\n",
    "$$\n",
    "E(S) = E(X_{1}) + E(X_{2}) + E(X_{3}) = 4 - 8 - 1 = -5.\n",
    "$$"
   ]
  },
  {
   "cell_type": "markdown",
   "metadata": {},
   "source": [
    "#### (b)\n",
    "\n",
    "If $S = X_{1} + X_{2} + X_{3}$, then\n",
    "\n",
    "$$\n",
    "V(S) = V(X_{1}) + V(X_{2}) + V(X_{3}) = 6 + 2 + 1 = 9.\n",
    "$$"
   ]
  },
  {
   "cell_type": "markdown",
   "metadata": {},
   "source": [
    "#### Example 7.1.4\n",
    "\n",
    "Two independent random variables $X$ and $Y$ are both normally distributed so that $X \\sim N(-3,3)$ and $Y \\sim N(-4,4)$.\n",
    "\n",
    "**(a)** What is the mean of $X-Y$?\n",
    "\n",
    "**(b)** What is the variance of $X-Y$?"
   ]
  },
  {
   "cell_type": "markdown",
   "metadata": {},
   "source": [
    "#### (a)\n",
    "\n",
    "If $X$ and $Y$ are two independent normally distributed random variables, then $X-Y$ is also normally distributed with $E(X-Y) = E(X) - E(Y)$, so\n",
    "\n",
    "$$\n",
    "E(X-Y) = E(X) - E(Y) = -3 - (-4) = 1.\n",
    "$$"
   ]
  },
  {
   "cell_type": "markdown",
   "metadata": {},
   "source": [
    "#### (b)\n",
    "\n",
    "If $X$ and $Y$ are two independent normally distributed random variables, then $X-Y$ is also normally distributed with $V(X-Y) = V(X) + V(Y)$, so\n",
    "\n",
    "$$\n",
    "V(X-Y) = V(X) + V(Y) = 3 + 4 = 7.\n",
    "$$"
   ]
  },
  {
   "cell_type": "markdown",
   "metadata": {},
   "source": [
    "### Example 7.1.5\n",
    "\n",
    "Let $X_{1}$ and $X_{2}$ denote the weights, in grams, of two randomly selected 750-gram bags of carrots, each of which is normally distributed with mean 751 and standard deviation 1.1. The random variable $Y = X_{1} + X_{2}$ is the total weight of these two bags of carrots.\n",
    "\n",
    "Let $W$ denote the weight, in grams, of one randomly selected 1500-gram bags of carrots: $W$ is normally distributed with mean 1501 and standard deviation 2.\n",
    "\n",
    "The random variables $X_{1}$ and $X_{2}$ can be assumed to be independent of each other (since the two bags are selected randomly), and random variables $Y$ and $W$ can also be considered independent of each other.\n",
    "\n",
    "**(a)** What is the distribution of $Y$, the sum of two randomly selected 750-gram bags of carrots?\n",
    "\n",
    "**(b)** What is the distribution of the difference $Y-W$ between two 750-gram bags of carrots and one 1500-gram bag of carrots, selected at random?"
   ]
  },
  {
   "cell_type": "markdown",
   "metadata": {},
   "source": [
    "#### (a)\n",
    "\n",
    "If $Y = X_{1} + X_{2}$, then\n",
    "\n",
    "$$\n",
    "E(Y) = E(X_{1}) + E(X_{2}) = 751 + 751 = 1502,\n",
    "$$\n",
    "\n",
    "and\n",
    "\n",
    "$$\n",
    "V(Y) = V(X_{1}) + V(X_{2}) = 1.1^{2} + 1.1^{2} = 2.42.\n",
    "$$\n",
    "\n",
    "So, $Y \\sim N(1502, 2.42)$."
   ]
  },
  {
   "cell_type": "markdown",
   "metadata": {},
   "source": [
    "#### (b)\n",
    "\n",
    "If $Y + W$, then\n",
    "\n",
    "$$\n",
    "V(Y-W) = E(Y) - E(W) = 1502 - 1501 = 1,\n",
    "$$\n",
    "\n",
    "and\n",
    "\n",
    "$$\n",
    "V(Y-W) = V(Y) + V(W) = 2.42 + 4 = 6.42.\n",
    "$$\n",
    "\n",
    "Therefore $Y-W \\sim N(1, 6.42)$."
   ]
  },
  {
   "cell_type": "markdown",
   "metadata": {},
   "source": [
    "## 2 Calculating probabilities"
   ]
  },
  {
   "cell_type": "markdown",
   "metadata": {},
   "source": [
    "### Note\n",
    "\n",
    "For $Z \\sim N(0,1)$\n",
    "\n",
    "$$\n",
    "P(Z \\leq z) = P(Z < z) = \\Phi{(z)},\n",
    "$$\n",
    "\n",
    "and because of the symmetry of $N(0,1)$, for any $z > 0$,\n",
    "\n",
    "$$\n",
    "P(Z \\leq -z) = P(Z \\geq z)\n",
    "$$\n",
    "\n",
    "so that\n",
    "\n",
    "$$\n",
    "\\Phi(-z) = 1 - \\Phi(z).\n",
    "$$"
   ]
  },
  {
   "cell_type": "markdown",
   "metadata": {},
   "source": [
    "### Example 7.2.1\n",
    "\n",
    "Let $Z$ be a random variable distributed $Z \\sim N(0,1)$.\n",
    "\n",
    "Calculate\n",
    "\n",
    "**(a)** $P(-1.25 \\leq Z \\leq 2)$\n",
    "\n",
    "**(b)** $P(-1.5 \\leq Z \\leq 0.5)$\n",
    "\n",
    "**(c)** $P(-1.86 \\leq Z \\leq 1.26)$"
   ]
  },
  {
   "cell_type": "code",
   "execution_count": 9,
   "metadata": {},
   "outputs": [],
   "source": [
    "# declare the distribution\n",
    "x = stats.norm()"
   ]
  },
  {
   "cell_type": "markdown",
   "metadata": {},
   "source": [
    "#### (a)\n",
    "\n",
    "The probability\n",
    "\n",
    "$$\n",
    "P(-1.25 \\leq Z \\leq 2) = \\Phi(2) - \\Phi(-1.25)\\> = \\{ \\Phi(2) - (1 - \\Phi(1.25)) \\} = \\cdots\n",
    "$$"
   ]
  },
  {
   "cell_type": "code",
   "execution_count": 11,
   "metadata": {},
   "outputs": [
    {
     "data": {
      "text/plain": [
       "0.8716"
      ]
     },
     "execution_count": 11,
     "metadata": {},
     "output_type": "execute_result"
    }
   ],
   "source": [
    "round(x.cdf(x=2) - x.cdf(-1.25), 6)"
   ]
  },
  {
   "cell_type": "markdown",
   "metadata": {},
   "source": [
    "#### (b)\n",
    "\n",
    "The probability\n",
    "\n",
    "$$\n",
    "P(-1.5 \\leq Z \\leq 0.5) = \\Phi(0.5) - \\Phi(-1.5) = \\{ \\Phi(0.5) - (1 - \\Phi(1.5)) \\} = \\cdots\n",
    "$$"
   ]
  },
  {
   "cell_type": "code",
   "execution_count": 12,
   "metadata": {},
   "outputs": [
    {
     "data": {
      "text/plain": [
       "0.624655"
      ]
     },
     "execution_count": 12,
     "metadata": {},
     "output_type": "execute_result"
    }
   ],
   "source": [
    "round(x.cdf(x=0.5) - x.cdf(-1.5), 6)"
   ]
  },
  {
   "cell_type": "markdown",
   "metadata": {},
   "source": [
    "#### (b)\n",
    "\n",
    "The probability\n",
    "\n",
    "$$\n",
    "P(-1.86 \\leq Z \\leq 1.26) = \\Phi(1.26) - \\Phi(-1.86) = \\{ \\Phi(1.26) - (1 - \\Phi(1.86)) \\} = \\cdots\n",
    "$$"
   ]
  },
  {
   "cell_type": "code",
   "execution_count": 16,
   "metadata": {},
   "outputs": [
    {
     "data": {
      "text/plain": [
       "0.864723"
      ]
     },
     "execution_count": 16,
     "metadata": {},
     "output_type": "execute_result"
    }
   ],
   "source": [
    "round(x.cdf(x=1.26) - x.cdf(-1.86), 6)"
   ]
  }
 ],
 "metadata": {
  "kernelspec": {
   "display_name": "Python 3",
   "language": "python",
   "name": "python3"
  },
  "language_info": {
   "codemirror_mode": {
    "name": "ipython",
    "version": 3
   },
   "file_extension": ".py",
   "mimetype": "text/x-python",
   "name": "python",
   "nbconvert_exporter": "python",
   "pygments_lexer": "ipython3",
   "version": "3.8.3"
  }
 },
 "nbformat": 4,
 "nbformat_minor": 4
}
