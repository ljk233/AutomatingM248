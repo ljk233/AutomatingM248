{
 "cells": [
  {
   "cell_type": "markdown",
   "metadata": {},
   "source": [
    "# B7 Probabilities of normal variables"
   ]
  },
  {
   "cell_type": "code",
   "execution_count": 1,
   "metadata": {},
   "outputs": [],
   "source": [
    "from m248_support import Standard_Normal, Normal\n",
    "from scipy import stats"
   ]
  },
  {
   "cell_type": "markdown",
   "metadata": {},
   "source": [
    "## 1 Standard normal distribution"
   ]
  },
  {
   "cell_type": "markdown",
   "metadata": {},
   "source": [
    "### Example 7.1.1\n",
    "\n",
    "Let $Z$ be a random variable distributed $Z \\sim N(0,1)$.\n",
    "\n",
    "Calculate\n",
    "\n",
    "**(a)** $P(Z \\leq 1)$\n",
    "\n",
    "**(b)** $P(Z \\leq -0.7)$"
   ]
  },
  {
   "cell_type": "markdown",
   "metadata": {},
   "source": [
    "#### (a)\n",
    "\n",
    "The probability $P(Z \\leq 1) = \\Phi (1) = \\cdots$"
   ]
  },
  {
   "cell_type": "code",
   "execution_count": 2,
   "metadata": {},
   "outputs": [
    {
     "output_type": "execute_result",
     "data": {
      "text/plain": [
       "0.8413"
      ]
     },
     "metadata": {},
     "execution_count": 2
    }
   ],
   "source": [
    "Standard_Normal.has_phi(z=1)"
   ]
  },
  {
   "cell_type": "markdown",
   "metadata": {},
   "source": [
    "#### (b)\n",
    "\n",
    "The probability $P(Z \\leq -0.7) = 1 - \\Phi (0.7) = \\cdots$"
   ]
  },
  {
   "cell_type": "code",
   "execution_count": 3,
   "metadata": {},
   "outputs": [
    {
     "output_type": "execute_result",
     "data": {
      "text/plain": [
       "0.242"
      ]
     },
     "metadata": {},
     "execution_count": 3
    }
   ],
   "source": [
    "Standard_Normal.has_phi(z=-0.7)"
   ]
  },
  {
   "cell_type": "markdown",
   "metadata": {},
   "source": [
    "### Example 7.1.2\n",
    "\n",
    "Let $Z$ be a random variable distributed $Z \\sim N(0,1)$.\n",
    "\n",
    "Calculate\n",
    "\n",
    "**(a)** $P(Z \\geq 1.3)$\n",
    "\n",
    "**(b)** $P(Z \\geq -1.6)$"
   ]
  },
  {
   "cell_type": "markdown",
   "metadata": {},
   "source": [
    "#### (a)\n",
    "\n",
    "The probability $P(Z \\geq 1.3) = 1 - \\Phi (1.3) = \\cdots$"
   ]
  },
  {
   "cell_type": "code",
   "execution_count": 4,
   "metadata": {},
   "outputs": [
    {
     "output_type": "execute_result",
     "data": {
      "text/plain": [
       "0.0968"
      ]
     },
     "metadata": {},
     "execution_count": 4
    }
   ],
   "source": [
    "Standard_Normal.has_phi(z=1.3, greater_than=True)"
   ]
  },
  {
   "cell_type": "markdown",
   "metadata": {},
   "source": [
    "#### (b)\n",
    "\n",
    "The probability $P(Z \\geq -1.6)$ is given by\n",
    "\n",
    "$$\n",
    "\\begin{aligned}\n",
    "P(Z \\geq -1.6) &= 1 - \\Phi (-1.6) \\\\\n",
    "  &= 1 - (1 - \\Phi (1.6)) \\\\\n",
    "  &= \\Phi (1.6) \\\\\n",
    "  &= \\cdots\n",
    "\\end{aligned}\n",
    "$$"
   ]
  },
  {
   "cell_type": "code",
   "execution_count": 5,
   "metadata": {},
   "outputs": [
    {
     "output_type": "execute_result",
     "data": {
      "text/plain": [
       "0.9452"
      ]
     },
     "metadata": {},
     "execution_count": 5
    }
   ],
   "source": [
    "Standard_Normal.has_phi(z=-1.6, greater_than=True)"
   ]
  },
  {
   "cell_type": "markdown",
   "metadata": {},
   "source": [
    "### Example 7.1.3\n",
    "\n",
    "Let $Z$ be a random variable distributed $Z \\sim N(0,1)$.\n",
    "\n",
    "Calculate\n",
    "\n",
    "**(a)** $P(-1.25 \\leq Z \\leq 2)$\n",
    "\n",
    "**(b)** $P(-1.5 \\leq Z \\leq 0.5)$"
   ]
  },
  {
   "cell_type": "markdown",
   "metadata": {},
   "source": [
    "#### (a)\n",
    "\n",
    "The probability $P(-1.25 \\leq Z \\leq 2)$ is\n",
    "\n",
    "$$\n",
    "\\begin{aligned}\n",
    "P(-1.25 \\leq Z \\leq 2) &= \\Phi(2) - \\Phi(-1.25) \\\\\n",
    "  &= \\Phi(2) - (1 - \\Phi(1.25)) = \\cdots\n",
    "\\end{aligned}\n",
    "$$"
   ]
  },
  {
   "cell_type": "code",
   "execution_count": 6,
   "metadata": {},
   "outputs": [
    {
     "output_type": "execute_result",
     "data": {
      "text/plain": [
       "0.8716"
      ]
     },
     "metadata": {},
     "execution_count": 6
    }
   ],
   "source": [
    "Standard_Normal.has_prob_range_phi(z1=-1.25, z2=2)"
   ]
  },
  {
   "cell_type": "markdown",
   "metadata": {},
   "source": [
    "#### (b)\n",
    "\n",
    "The probability $P(-1.5 \\leq Z \\leq 0.5)$ is\n",
    "\n",
    "$$\n",
    "\\begin{aligned}\n",
    "P(-1.5 \\leq Z \\leq 0.5) &= \\Phi(0.5) - \\Phi(-1.5) \\\\\n",
    "  &= \\Phi(0.5) - (1 - \\Phi(-1.5)) = \\cdots\n",
    "\\end{aligned}\n",
    "$$"
   ]
  },
  {
   "cell_type": "code",
   "execution_count": 7,
   "metadata": {},
   "outputs": [
    {
     "output_type": "execute_result",
     "data": {
      "text/plain": [
       "0.6247"
      ]
     },
     "metadata": {},
     "execution_count": 7
    }
   ],
   "source": [
    "Standard_Normal.has_prob_range_phi(z1=-1.5, z2=0.5)"
   ]
  },
  {
   "cell_type": "markdown",
   "metadata": {},
   "source": [
    "## 2 Other normal distributions"
   ]
  },
  {
   "cell_type": "markdown",
   "metadata": {},
   "source": [
    "### Example 7.2.1\n",
    "\n",
    "Let $X$ be a random variable distributed $X \\sim N(8,2^{2})$.\n",
    "\n",
    "Calculate\n",
    "\n",
    "**(a)** $P(X \\leq 10)$\n",
    "\n",
    "**(b)** $P(X \\geq 7)$\n",
    "\n",
    "**(c)** $P(X \\leq Z \\leq 9.5)$"
   ]
  },
  {
   "cell_type": "code",
   "execution_count": 8,
   "metadata": {},
   "outputs": [],
   "source": [
    "# declare the distribution\n",
    "x = Normal(a_mean=8, a_std=2)"
   ]
  },
  {
   "cell_type": "markdown",
   "metadata": {},
   "source": [
    "#### (a)\n",
    "\n",
    "The probability $P(X \\leq 10) = P(Z \\leq z)$, where $z$ is\n",
    "\n",
    "$$\n",
    "z = \\frac{10 - \\mu}{\\sigma} = \\cdots\n",
    "$$"
   ]
  },
  {
   "cell_type": "code",
   "execution_count": 9,
   "metadata": {},
   "outputs": [
    {
     "output_type": "execute_result",
     "data": {
      "text/plain": [
       "1.0"
      ]
     },
     "metadata": {},
     "execution_count": 9
    }
   ],
   "source": [
    "x.has_z(x=10)"
   ]
  },
  {
   "cell_type": "markdown",
   "metadata": {},
   "source": [
    "Therefore, the probability $P(X \\leq 10) = P(Z \\leq 1) = \\Phi (1) = \\cdots$"
   ]
  },
  {
   "cell_type": "code",
   "execution_count": 10,
   "metadata": {},
   "outputs": [
    {
     "output_type": "execute_result",
     "data": {
      "text/plain": [
       "0.8413"
      ]
     },
     "metadata": {},
     "execution_count": 10
    }
   ],
   "source": [
    "x.has_F(x=10)"
   ]
  },
  {
   "cell_type": "markdown",
   "metadata": {},
   "source": [
    "#### (b)\n",
    "\n",
    "The probability $P(X \\geq 7) = P(Z \\geq z)$, where $z$ is\n",
    "\n",
    "$$\n",
    "z = \\frac{7 - \\mu}{\\sigma} = \\cdots\n",
    "$$"
   ]
  },
  {
   "cell_type": "code",
   "execution_count": 11,
   "metadata": {},
   "outputs": [
    {
     "output_type": "execute_result",
     "data": {
      "text/plain": [
       "-0.5"
      ]
     },
     "metadata": {},
     "execution_count": 11
    }
   ],
   "source": [
    "x.has_z(x=7)"
   ]
  },
  {
   "cell_type": "markdown",
   "metadata": {},
   "source": [
    "Therefore, the probability $P(X \\geq 7)$ is given by\n",
    "\n",
    "$$\n",
    "\\begin{aligned}\n",
    "P(Z \\geq -0.5) &= 1 - \\Phi (-0.5) \\\\\n",
    "  &= 1 - (1 - \\Phi (0.5)) \\\\\n",
    "  &= \\Phi (0.5) \\\\\n",
    "  &= \\cdots\n",
    "\\end{aligned}\n",
    "$$"
   ]
  },
  {
   "cell_type": "code",
   "execution_count": 12,
   "metadata": {},
   "outputs": [
    {
     "output_type": "execute_result",
     "data": {
      "text/plain": [
       "0.6915"
      ]
     },
     "metadata": {},
     "execution_count": 12
    }
   ],
   "source": [
    "x.has_F(x=7, greater_than=True)"
   ]
  },
  {
   "cell_type": "markdown",
   "metadata": {},
   "source": [
    "#### (c)\n",
    "\n",
    "The probability $P(6 \\leq X \\leq 9.5) = P(z_{1} \\leq Z \\leq z_{2})$, where\n",
    "\n",
    "$$\n",
    "z_{1} = \\dfrac{6 - \\mu}{\\sigma} = \\cdots\n",
    "$$"
   ]
  },
  {
   "cell_type": "code",
   "execution_count": 13,
   "metadata": {},
   "outputs": [
    {
     "output_type": "execute_result",
     "data": {
      "text/plain": [
       "-1.0"
      ]
     },
     "metadata": {},
     "execution_count": 13
    }
   ],
   "source": [
    "x.has_z(x=6)"
   ]
  },
  {
   "cell_type": "markdown",
   "metadata": {},
   "source": [
    "and\n",
    "\n",
    "$$\n",
    "z_{2} = \\dfrac{9.5 - \\mu}{\\sigma} = \\cdots\n",
    "$$"
   ]
  },
  {
   "cell_type": "code",
   "execution_count": 14,
   "metadata": {},
   "outputs": [
    {
     "output_type": "execute_result",
     "data": {
      "text/plain": [
       "0.75"
      ]
     },
     "metadata": {},
     "execution_count": 14
    }
   ],
   "source": [
    "x.has_z(x=9.5)"
   ]
  },
  {
   "cell_type": "markdown",
   "metadata": {},
   "source": [
    "Therefore, the probability $P(6 \\leq X \\leq 9.5)$ is given by\n",
    "\n",
    "$$\n",
    "\\begin{aligned}\n",
    "P(z_{1} \\leq Z \\leq z_{2}) &= P(-1 \\leq Z \\leq 0.75) \\\\\n",
    "  &= \\Phi (0.75) - \\Phi (-1) \\\\\n",
    "  &= \\Phi (0.75) - (1 - \\Phi (1)) \\\\\n",
    "  &= \\Phi (0.75) + \\Phi (1) - 1 \\\\\n",
    "  &= \\ldots\n",
    "\\end{aligned}\n",
    "$$"
   ]
  },
  {
   "cell_type": "code",
   "execution_count": 15,
   "metadata": {},
   "outputs": [
    {
     "output_type": "execute_result",
     "data": {
      "text/plain": [
       "0.6147"
      ]
     },
     "metadata": {},
     "execution_count": 15
    }
   ],
   "source": [
    "x.has_prob_range_F(x1=6, x2=9.5)"
   ]
  },
  {
   "cell_type": "markdown",
   "metadata": {},
   "source": [
    "### Example 7.2.2\n",
    "\n",
    "Suppose that the birth weight (in kilograms) of newborn babies in a population may be reasonably modelled by a normal distribution with mean 3.4 and standard deviation 0.5.\n",
    "\n",
    "According to the model, what is the proportion of birth weights that are\n",
    "\n",
    "**(a)** between 2.9 and 3.9 kilograms?\n",
    "\n",
    "**(b)** less than 4 kilograms?\n",
    "\n",
    "**(c)** greater that 3 kilograms?"
   ]
  },
  {
   "cell_type": "code",
   "execution_count": 16,
   "metadata": {},
   "outputs": [],
   "source": [
    "# declare the distribution\n",
    "x = Normal(a_mean=3.4, a_std=0.5)"
   ]
  },
  {
   "cell_type": "markdown",
   "metadata": {},
   "source": [
    "#### (a)\n",
    "\n",
    "The probability $P(2.9 \\leq X \\leq 3.9) = P(z_{1} \\leq Z \\leq z_{2})$, where $z_{1}$ is"
   ]
  },
  {
   "cell_type": "code",
   "execution_count": 17,
   "metadata": {},
   "outputs": [
    {
     "output_type": "execute_result",
     "data": {
      "text/plain": [
       "-1.0"
      ]
     },
     "metadata": {},
     "execution_count": 17
    }
   ],
   "source": [
    "x.has_z(x=2.9)"
   ]
  },
  {
   "cell_type": "markdown",
   "metadata": {},
   "source": [
    "and $z_{2}$ is"
   ]
  },
  {
   "cell_type": "code",
   "execution_count": 18,
   "metadata": {},
   "outputs": [
    {
     "output_type": "execute_result",
     "data": {
      "text/plain": [
       "1.0"
      ]
     },
     "metadata": {},
     "execution_count": 18
    }
   ],
   "source": [
    "x.has_z(x=3.9)"
   ]
  },
  {
   "cell_type": "markdown",
   "metadata": {},
   "source": [
    "Therefore, the probability $P(2.9 \\leq X \\leq 3.9)$ is given by\n",
    "\n",
    "$$\n",
    "\\begin{aligned}\n",
    "P(-1 \\leq Z \\leq 1) &= \\Phi (1) - \\Phi (-1) \\\\\n",
    "  &= \\Phi (1) - (1 - \\Phi (1)) \\\\\n",
    "  &= 2 \\Phi (1) - 1 \\\\\n",
    "  &= \\cdots\n",
    "\\end{aligned}\n",
    "$$"
   ]
  },
  {
   "cell_type": "code",
   "execution_count": 19,
   "metadata": {},
   "outputs": [
    {
     "output_type": "execute_result",
     "data": {
      "text/plain": [
       "0.6826"
      ]
     },
     "metadata": {},
     "execution_count": 19
    }
   ],
   "source": [
    "x.has_prob_range_F(x1=2.9, x2=3.9)"
   ]
  },
  {
   "cell_type": "markdown",
   "metadata": {},
   "source": [
    "#### (b)\n",
    "\n",
    "The probability $P(X \\leq 4) = P(Z \\leq z)$, where $z$ is"
   ]
  },
  {
   "cell_type": "code",
   "execution_count": 20,
   "metadata": {},
   "outputs": [
    {
     "output_type": "execute_result",
     "data": {
      "text/plain": [
       "1.2"
      ]
     },
     "metadata": {},
     "execution_count": 20
    }
   ],
   "source": [
    "x.has_z(x=4)"
   ]
  },
  {
   "cell_type": "markdown",
   "metadata": {},
   "source": [
    "Therefore, the probability $P(X \\leq 4) = \\Phi (1.2) = \\cdots$"
   ]
  },
  {
   "cell_type": "code",
   "execution_count": 21,
   "metadata": {},
   "outputs": [
    {
     "output_type": "execute_result",
     "data": {
      "text/plain": [
       "0.8849"
      ]
     },
     "metadata": {},
     "execution_count": 21
    }
   ],
   "source": [
    "x.has_F(x=4)"
   ]
  },
  {
   "cell_type": "markdown",
   "metadata": {},
   "source": [
    "#### (c)\n",
    "\n",
    "The probability $P(X \\geq 3) = P(Z \\geq z)$, where $z$ is"
   ]
  },
  {
   "cell_type": "code",
   "execution_count": 22,
   "metadata": {},
   "outputs": [
    {
     "output_type": "execute_result",
     "data": {
      "text/plain": [
       "-0.8"
      ]
     },
     "metadata": {},
     "execution_count": 22
    }
   ],
   "source": [
    "x.has_z(x=3)"
   ]
  },
  {
   "cell_type": "markdown",
   "metadata": {},
   "source": [
    "Therefore, the probability $P(X \\geq 3) = 1 - \\Phi (-0.8) = 1 - (1 - \\Phi (0.8)) = \\Phi (0.8) = \\cdots$"
   ]
  },
  {
   "cell_type": "code",
   "execution_count": 23,
   "metadata": {},
   "outputs": [
    {
     "output_type": "execute_result",
     "data": {
      "text/plain": [
       "0.7881"
      ]
     },
     "metadata": {},
     "execution_count": 23
    }
   ],
   "source": [
    "x.has_F(x=3, greater_than=True)"
   ]
  },
  {
   "cell_type": "markdown",
   "metadata": {},
   "source": [
    "## 4 Sampling distribution of the mean and total"
   ]
  },
  {
   "cell_type": "markdown",
   "metadata": {},
   "source": [
    "### Example 7.4.1\n",
    "\n",
    "Suppose that a random sample of 50 packets of sweets of a certain variety is taken from a production line.\n",
    "The number of sweets in each packet $X$ may be modelled by a Poisson distribution with mean 45.\n",
    "\n",
    "**(a)** What is the approximate distribution of the sample mean, $\\overline{X}_{50}$?\n",
    "\n",
    "**(b)** What is the probability that the sample mean will be less than 43 sweets?"
   ]
  },
  {
   "cell_type": "code",
   "execution_count": 37,
   "metadata": {},
   "outputs": [],
   "source": [
    "# declare the original distribution\n",
    "p = stats.poisson(mu=45)"
   ]
  },
  {
   "source": [
    "# declare the normal distribution\n",
    "# use the original distribution as parameters\n",
    "x = Normal(a_mean=p.mean(), a_std=p.std())"
   ],
   "cell_type": "code",
   "metadata": {},
   "execution_count": 38,
   "outputs": []
  },
  {
   "source": [
    "# model the sampling distribution of the mean\n",
    "x_bar = x.model_sample_distribution_of_mean(n=50)"
   ],
   "cell_type": "code",
   "metadata": {},
   "execution_count": 39,
   "outputs": []
  },
  {
   "cell_type": "markdown",
   "metadata": {},
   "source": [
    "#### (a)\n",
    "\n",
    "Let $X_{i}$ represent the number of sweets in packet $i$. Then $X_{i} \\sim \\text{Poisson}(45)$, $X_{i} \\sim \\text{Poisson}(45)$.\n",
    "\n",
    "For a Poisson distribution with parameter $\\lambda$, both the mean and the variance are equal to $\\lambda$, and so when $X_{i} \\sim \\text{Poisson}(45)$, for each $X_{i} \\sim \\text{Poisson}(45)$, then $\\mu$ is"
   ]
  },
  {
   "cell_type": "code",
   "execution_count": 40,
   "metadata": {},
   "outputs": [
    {
     "output_type": "execute_result",
     "data": {
      "text/plain": [
       "45.0"
      ]
     },
     "metadata": {},
     "execution_count": 40
    }
   ],
   "source": [
    "p.mean()"
   ]
  },
  {
   "source": [
    "and $\\sigma$ is approximately"
   ],
   "cell_type": "markdown",
   "metadata": {}
  },
  {
   "cell_type": "code",
   "execution_count": 41,
   "metadata": {},
   "outputs": [
    {
     "output_type": "execute_result",
     "data": {
      "text/plain": [
       "6.7082"
      ]
     },
     "metadata": {},
     "execution_count": 41
    }
   ],
   "source": [
    "round(p.std(), 4)"
   ]
  },
  {
   "source": [
    "By the Central Limit Theorem, the mean $\\overline{X}_n$ of large $n$ independent random variables each with mean $\\mu$ and standard deviation $\\sigma$ has distribution\n",
    "\n",
    "$$\n",
    "\\overline{X}_n \\sim N \\bigg( \\mu, \\frac{\\sigma}{\\sqrt{n}} \\bigg).\n",
    "$$\n",
    "\n",
    "Therefore, $E(\\overline{X}_n)$ is"
   ],
   "cell_type": "markdown",
   "metadata": {}
  },
  {
   "cell_type": "code",
   "execution_count": 42,
   "metadata": {},
   "outputs": [
    {
     "output_type": "execute_result",
     "data": {
      "text/plain": [
       "45.0"
      ]
     },
     "metadata": {},
     "execution_count": 42
    }
   ],
   "source": [
    "x_bar.get_mu()"
   ]
  },
  {
   "source": [
    "and $S(\\overline{X}_n)$ is approximately"
   ],
   "cell_type": "markdown",
   "metadata": {}
  },
  {
   "source": [
    "round(x_bar.get_sigma(), 4)"
   ],
   "cell_type": "code",
   "metadata": {},
   "execution_count": 43,
   "outputs": [
    {
     "output_type": "execute_result",
     "data": {
      "text/plain": [
       "0.9487"
      ]
     },
     "metadata": {},
     "execution_count": 43
    }
   ]
  },
  {
   "source": [
    "so that $\\overline{X}_n \\sim \\ldots$"
   ],
   "cell_type": "markdown",
   "metadata": {}
  },
  {
   "cell_type": "code",
   "execution_count": 44,
   "metadata": {},
   "outputs": [
    {
     "output_type": "stream",
     "name": "stdout",
     "text": [
      "Current model: N(45.0, 0.95^2)\n"
     ]
    }
   ],
   "source": [
    "x_bar.has_distribution()"
   ]
  },
  {
   "source": [
    "#### (b)\n",
    "\n",
    "The probability $P(\\overline{X}_50 \\leq 43) = P(Z \\leq z)$, where $z$ is"
   ],
   "cell_type": "markdown",
   "metadata": {}
  },
  {
   "cell_type": "code",
   "execution_count": 45,
   "metadata": {},
   "outputs": [
    {
     "output_type": "execute_result",
     "data": {
      "text/plain": [
       "-2.11"
      ]
     },
     "metadata": {},
     "execution_count": 45
    }
   ],
   "source": [
    "x_bar.has_z(x=43)"
   ]
  },
  {
   "source": [
    "Therefore, the probability $P(Z \\leq -2.11) = \\Phi (-2.11) = 1 - \\Phi (2.11) = \\cdots$"
   ],
   "cell_type": "markdown",
   "metadata": {}
  },
  {
   "cell_type": "code",
   "execution_count": 46,
   "metadata": {},
   "outputs": [
    {
     "output_type": "execute_result",
     "data": {
      "text/plain": [
       "0.0175"
      ]
     },
     "metadata": {},
     "execution_count": 46
    }
   ],
   "source": [
    "x_bar.has_F(x=43)"
   ]
  },
  {
   "source": [
    "### Example 7.4.2 (U6E24)\n",
    "\n",
    "Vehicles pass an observer in such a way that the waiting time between successive vehicles may be adequately modelled by an exponential distribution with mean 15 seconds.\n",
    "Particular details of each vehicle that passes are recorded on a sheet.\n",
    "There is room to record the details of twenty vehicles on each sheet.\n",
    "\n",
    "**(a)** What is the distribution that models the time taken to complete a sheet, $T_{20}$?\n",
    "\n",
    "**(b)** What, approximately, is the probability that it takes less than 6 minutes to fill one of the sheets?"
   ],
   "cell_type": "markdown",
   "metadata": {}
  },
  {
   "source": [
    "#### (a)\n",
    "\n",
    "If $W$ is the waiting time in seconds between successive vehicles, then $W$ has mean 15.\n",
    "Since the mean and standard deviation of an exponential distribution are equal, the standard deviation of $W$ is 15.\n",
    "The time $T_{20}$ that it takes to fill a sheet is the sum of the first twenty such waiting times is\n",
    "\n",
    "$$\n",
    "T_{20} = W_{1} + W_{2} + \\cdots + W_{20}.\n",
    "$$"
   ],
   "cell_type": "markdown",
   "metadata": {}
  },
  {
   "cell_type": "code",
   "execution_count": 47,
   "metadata": {},
   "outputs": [],
   "source": [
    "# declare the distribution\n",
    "w = Normal(a_mean=15, a_std=15)"
   ]
  },
  {
   "cell_type": "code",
   "execution_count": 48,
   "metadata": {},
   "outputs": [],
   "source": [
    "# model sample mean of size 5\n",
    "t = w.model_sampling_distribution_of_total(n=20)"
   ]
  },
  {
   "source": [
    "So $E(T_{20}) = \\cdots$"
   ],
   "cell_type": "markdown",
   "metadata": {}
  },
  {
   "source": [
    "t.get_mu()"
   ],
   "cell_type": "code",
   "metadata": {},
   "execution_count": 49,
   "outputs": [
    {
     "output_type": "execute_result",
     "data": {
      "text/plain": [
       "300"
      ]
     },
     "metadata": {},
     "execution_count": 49
    }
   ]
  },
  {
   "source": [
    "and $V(T_{20}) = \\cdots$"
   ],
   "cell_type": "markdown",
   "metadata": {}
  },
  {
   "source": [
    "round(t.ret_var(), 2)"
   ],
   "cell_type": "code",
   "metadata": {},
   "execution_count": 50,
   "outputs": [
    {
     "output_type": "execute_result",
     "data": {
      "text/plain": [
       "4500.0"
      ]
     },
     "metadata": {},
     "execution_count": 50
    }
   ]
  },
  {
   "source": [
    "Also, by the corollary to the Central Limit Theorem, Distributional Result, the distribution of $T_{20}$ is approximately normal, so"
   ],
   "cell_type": "markdown",
   "metadata": {}
  },
  {
   "cell_type": "code",
   "execution_count": 51,
   "metadata": {},
   "outputs": [
    {
     "output_type": "stream",
     "name": "stdout",
     "text": [
      "Current model: N(300, 67.08^2)\n"
     ]
    }
   ],
   "source": [
    "t.has_distribution()"
   ]
  },
  {
   "source": [
    "Therefore the approximate probability that the total time taken to fill a sheet is less than 6 minutes (or 360 seconds) is given by\n",
    "\n",
    "$$\n",
    "P(T_{20} \\leq 360) = P(Z \\leq z)\n",
    "$$\n",
    "\n",
    "where $z$ is"
   ],
   "cell_type": "markdown",
   "metadata": {}
  },
  {
   "cell_type": "code",
   "execution_count": 52,
   "metadata": {},
   "outputs": [
    {
     "output_type": "execute_result",
     "data": {
      "text/plain": [
       "0.89"
      ]
     },
     "metadata": {},
     "execution_count": 52
    }
   ],
   "source": [
    "t.has_z(x=360)"
   ]
  },
  {
   "source": [
    "And so $P(T_{20} \\leq 360) = \\Phi (0.89) = \\cdots$"
   ],
   "cell_type": "markdown",
   "metadata": {}
  },
  {
   "cell_type": "code",
   "execution_count": 53,
   "metadata": {},
   "outputs": [
    {
     "output_type": "execute_result",
     "data": {
      "text/plain": [
       "0.8145"
      ]
     },
     "metadata": {},
     "execution_count": 53
    }
   ],
   "source": [
    "t.has_F(x=360)"
   ]
  },
  {
   "source": [
    "*Note, there's a slight rounding error compared to the text*."
   ],
   "cell_type": "markdown",
   "metadata": {}
  }
 ],
 "metadata": {
  "kernelspec": {
   "display_name": "Python 3",
   "language": "python",
   "name": "python3"
  },
  "language_info": {
   "codemirror_mode": {
    "name": "ipython",
    "version": 3
   },
   "file_extension": ".py",
   "mimetype": "text/x-python",
   "name": "python",
   "nbconvert_exporter": "python",
   "pygments_lexer": "ipython3",
   "version": "3.8.3-final"
  }
 },
 "nbformat": 4,
 "nbformat_minor": 4
}