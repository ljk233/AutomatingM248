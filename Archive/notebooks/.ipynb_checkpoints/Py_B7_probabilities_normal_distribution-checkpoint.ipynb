{
 "metadata": {
  "language_info": {
   "codemirror_mode": {
    "name": "ipython",
    "version": 3
   },
   "file_extension": ".py",
   "mimetype": "text/x-python",
   "name": "python",
   "nbconvert_exporter": "python",
   "pygments_lexer": "ipython3",
   "version": "3.8.3-final"
  },
  "orig_nbformat": 2,
  "kernelspec": {
   "name": "python3",
   "display_name": "Python 3",
   "language": "python"
  }
 },
 "nbformat": 4,
 "nbformat_minor": 2,
 "cells": [
  {
   "source": [
    "# B7 Probabilities of normal variables"
   ],
   "cell_type": "markdown",
   "metadata": {}
  },
  {
   "cell_type": "code",
   "execution_count": 1,
   "metadata": {},
   "outputs": [],
   "source": [
    "from m248_support import Standard_Normal, Normal"
   ]
  },
  {
   "source": [
    "## 1 Standard normal distribution"
   ],
   "cell_type": "markdown",
   "metadata": {}
  },
  {
   "source": [
    "### Example 7.1.1\n",
    "\n",
    "Let $Z$ be a random variable distributed $Z \\sim N(0,1)$.\n",
    "\n",
    "Calculate\n",
    "\n",
    "**(a)** $P(Z \\leq 1)$\n",
    "\n",
    "**(b)** $P(Z \\leq -0.7)$"
   ],
   "cell_type": "markdown",
   "metadata": {}
  },
  {
   "source": [
    "#### (a)\n",
    "\n",
    "The probability $P(Z \\leq 1) = \\Phi (1) = \\cdots$"
   ],
   "cell_type": "markdown",
   "metadata": {}
  },
  {
   "cell_type": "code",
   "execution_count": 2,
   "metadata": {},
   "outputs": [
    {
     "output_type": "execute_result",
     "data": {
      "text/plain": [
       "0.8413"
      ]
     },
     "metadata": {},
     "execution_count": 2
    }
   ],
   "source": [
    "Standard_Normal.has_phi(z=1)"
   ]
  },
  {
   "source": [
    "#### (b)\n",
    "\n",
    "The probability $P(Z \\leq -0.7) = 1 - \\Phi (0.7) = \\cdots$"
   ],
   "cell_type": "markdown",
   "metadata": {}
  },
  {
   "cell_type": "code",
   "execution_count": 3,
   "metadata": {},
   "outputs": [
    {
     "output_type": "execute_result",
     "data": {
      "text/plain": [
       "0.242"
      ]
     },
     "metadata": {},
     "execution_count": 3
    }
   ],
   "source": [
    "Standard_Normal.has_phi(z=-0.7)"
   ]
  },
  {
   "source": [
    "### Example 7.1.2\n",
    "\n",
    "Let $Z$ be a random variable distributed $Z \\sim N(0,1)$.\n",
    "\n",
    "Calculate\n",
    "\n",
    "**(a)** $P(Z \\geq 1.3)$\n",
    "\n",
    "**(b)** $P(Z \\geq -1.6)$"
   ],
   "cell_type": "markdown",
   "metadata": {}
  },
  {
   "source": [
    "#### (a)\n",
    "\n",
    "The probability $P(Z \\geq 1.3) = 1 - \\Phi (1.3) = \\cdots$"
   ],
   "cell_type": "markdown",
   "metadata": {}
  },
  {
   "source": [
    "Standard_Normal.has_phi(z=1.3, greater_than=True)"
   ],
   "cell_type": "code",
   "metadata": {},
   "execution_count": 4,
   "outputs": [
    {
     "output_type": "execute_result",
     "data": {
      "text/plain": [
       "0.0968"
      ]
     },
     "metadata": {},
     "execution_count": 4
    }
   ]
  },
  {
   "source": [
    "#### (b)\n",
    "\n",
    "The probability $P(Z \\geq -1.6)$ is given by\n",
    "\n",
    "$$\n",
    "\\begin{aligned}\n",
    "P(Z \\geq -1.6) &= 1 - \\Phi (-1.6) \\\\\n",
    "  &= 1 - (1 - \\Phi (1.6)) \\\\\n",
    "  &= \\Phi (1.6) \\\\\n",
    "  &= \\cdots\n",
    "\\end{aligned}\n",
    "$$"
   ],
   "cell_type": "markdown",
   "metadata": {}
  },
  {
   "cell_type": "code",
   "execution_count": 5,
   "metadata": {},
   "outputs": [
    {
     "output_type": "execute_result",
     "data": {
      "text/plain": [
       "0.9452"
      ]
     },
     "metadata": {},
     "execution_count": 5
    }
   ],
   "source": [
    "Standard_Normal.has_phi(z=-1.6, greater_than=True)"
   ]
  },
  {
   "source": [
    "### Example 7.1.3\n",
    "\n",
    "Let $Z$ be a random variable distributed $Z \\sim N(0,1)$.\n",
    "\n",
    "Calculate\n",
    "\n",
    "**(a)** $P(-1.25 \\leq Z \\leq 2)$\n",
    "\n",
    "**(b)** $P(-1.5 \\leq Z \\leq 0.5)$"
   ],
   "cell_type": "markdown",
   "metadata": {}
  },
  {
   "source": [
    "#### (a)\n",
    "\n",
    "The probability $P(-1.25 \\leq Z \\leq 2)$ is\n",
    "\n",
    "$$\n",
    "\\begin{aligned}\n",
    "P(-1.25 \\leq Z \\leq 2) &= \\Phi(2) - \\Phi(-1.25) \\\\\n",
    "  &= \\Phi(2) - (1 - \\Phi(1.25)) = \\cdots\n",
    "\\end{aligned}\n",
    "$$"
   ],
   "cell_type": "markdown",
   "metadata": {}
  },
  {
   "cell_type": "code",
   "execution_count": 6,
   "metadata": {},
   "outputs": [
    {
     "output_type": "execute_result",
     "data": {
      "text/plain": [
       "0.8716"
      ]
     },
     "metadata": {},
     "execution_count": 6
    }
   ],
   "source": [
    "Standard_Normal.has_prob_range_phi(z1=-1.25, z2=2)"
   ]
  },
  {
   "source": [
    "#### (b)\n",
    "\n",
    "The probability $P(-1.5 \\leq Z \\leq 0.5)$ is\n",
    "\n",
    "$$\n",
    "\\begin{aligned}\n",
    "P(-1.5 \\leq Z \\leq 0.5) &= \\Phi(0.5) - \\Phi(-1.5) \\\\\n",
    "  &= \\Phi(0.5) - (1 - \\Phi(-1.5)) = \\cdots\n",
    "\\end{aligned}\n",
    "$$"
   ],
   "cell_type": "markdown",
   "metadata": {}
  },
  {
   "cell_type": "code",
   "execution_count": 7,
   "metadata": {},
   "outputs": [
    {
     "output_type": "execute_result",
     "data": {
      "text/plain": [
       "0.6247"
      ]
     },
     "metadata": {},
     "execution_count": 7
    }
   ],
   "source": [
    "Standard_Normal.has_prob_range_phi(z1=-1.5, z2=0.5)"
   ]
  },
  {
   "source": [
    "## 2 Other normal distributions"
   ],
   "cell_type": "markdown",
   "metadata": {}
  },
  {
   "source": [
    "### Example 7.2.1\n",
    "\n",
    "Let $X$ be a random variable distributed $X \\sim N(8,2^{2})$.\n",
    "\n",
    "Calculate\n",
    "\n",
    "**(a)** $P(X \\leq 10)$\n",
    "\n",
    "**(b)** $P(X \\geq 7)$\n",
    "\n",
    "**(c)** $P(X \\leq Z \\leq 9.5)$"
   ],
   "cell_type": "markdown",
   "metadata": {}
  },
  {
   "cell_type": "code",
   "execution_count": 8,
   "metadata": {},
   "outputs": [],
   "source": [
    "# declare the distribution\n",
    "a_dist = Normal(a_mean=8, a_std=2)"
   ]
  },
  {
   "source": [
    "#### (a)\n",
    "\n",
    "The probability $P(X \\leq 10) = P(Z \\leq z)$, where $z$ is\n",
    "\n",
    "$$\n",
    "z = \\frac{10 - \\mu}{\\sigma} = \\cdots\n",
    "$$"
   ],
   "cell_type": "markdown",
   "metadata": {}
  },
  {
   "cell_type": "code",
   "execution_count": 9,
   "metadata": {},
   "outputs": [
    {
     "output_type": "execute_result",
     "data": {
      "text/plain": [
       "1.0"
      ]
     },
     "metadata": {},
     "execution_count": 9
    }
   ],
   "source": [
    "a_dist.has_z(x=10)"
   ]
  },
  {
   "source": [
    "Therefore, the probability $P(X \\leq 10) = P(Z \\leq 1) = \\Phi (1) = \\cdots$"
   ],
   "cell_type": "markdown",
   "metadata": {}
  },
  {
   "cell_type": "code",
   "execution_count": 10,
   "metadata": {},
   "outputs": [
    {
     "output_type": "execute_result",
     "data": {
      "text/plain": [
       "0.8413"
      ]
     },
     "metadata": {},
     "execution_count": 10
    }
   ],
   "source": [
    "a_dist.has_F(x=10)"
   ]
  },
  {
   "source": [
    "#### (b)\n",
    "\n",
    "The probability $P(X \\geq 7) = P(Z \\geq z)$, where $z$ is\n",
    "\n",
    "$$\n",
    "z = \\frac{7 - \\mu}{\\sigma} = \\cdots\n",
    "$$"
   ],
   "cell_type": "markdown",
   "metadata": {}
  },
  {
   "cell_type": "code",
   "execution_count": 11,
   "metadata": {},
   "outputs": [
    {
     "output_type": "execute_result",
     "data": {
      "text/plain": [
       "-0.5"
      ]
     },
     "metadata": {},
     "execution_count": 11
    }
   ],
   "source": [
    "a_dist.has_z(x=7)"
   ]
  },
  {
   "source": [
    "Therefore, the probability $P(X \\geq 7)$ is given by\n",
    "\n",
    "$$\n",
    "\\begin{aligned}\n",
    "P(Z \\geq -0.5) &= 1 - \\Phi (-0.5) \\\\\n",
    "  &= 1 - (1 - \\Phi (0.5)) \\\\\n",
    "  &= \\Phi (0.5) \\\\\n",
    "  &= \\cdots\n",
    "\\end{aligned}\n",
    "$$"
   ],
   "cell_type": "markdown",
   "metadata": {}
  },
  {
   "cell_type": "code",
   "execution_count": 12,
   "metadata": {},
   "outputs": [
    {
     "output_type": "execute_result",
     "data": {
      "text/plain": [
       "0.6915"
      ]
     },
     "metadata": {},
     "execution_count": 12
    }
   ],
   "source": [
    "a_dist.has_F(x=7, greater_than=True)"
   ]
  },
  {
   "source": [
    "#### (c)\n",
    "\n",
    "The probability $P(6 \\leq X \\leq 9.5) = P(z_{1} \\leq Z \\leq z_{2})$, where\n",
    "\n",
    "$z_{1} = \\dfrac{6 - \\mu}{\\sigma} = \\cdots$"
   ],
   "cell_type": "markdown",
   "metadata": {}
  },
  {
   "source": [
    "a_dist.has_z(x=6)"
   ],
   "cell_type": "code",
   "metadata": {},
   "execution_count": 13,
   "outputs": [
    {
     "output_type": "execute_result",
     "data": {
      "text/plain": [
       "-1.0"
      ]
     },
     "metadata": {},
     "execution_count": 13
    }
   ]
  },
  {
   "source": [
    "and\n",
    "\n",
    "$z_{2} = \\dfrac{9.5 - \\mu}{\\sigma} = \\cdots$"
   ],
   "cell_type": "markdown",
   "metadata": {}
  },
  {
   "cell_type": "code",
   "execution_count": 14,
   "metadata": {},
   "outputs": [
    {
     "output_type": "execute_result",
     "data": {
      "text/plain": [
       "0.75"
      ]
     },
     "metadata": {},
     "execution_count": 14
    }
   ],
   "source": [
    "a_dist.has_z(x=9.5)"
   ]
  },
  {
   "source": [
    "Therefore, the probability $P(6 \\leq X \\leq 9.5)$ is given by\n",
    "\n",
    "$$\n",
    "\\begin{aligned}\n",
    "P(z_{1} \\leq Z \\leq z_{2}) &= P(-1 \\leq Z \\leq 0.75) \\\\\n",
    "  &= \\Phi (0.75) - \\Phi (-1) \\\\\n",
    "  &= \\Phi (0.75) - (1 - \\Phi (1)) \\\\\n",
    "  &= \\Phi (0.75) + \\Phi (1) - 1 \\\\\n",
    "  &= \n",
    "\\end{aligned}\n",
    "$$"
   ],
   "cell_type": "markdown",
   "metadata": {}
  },
  {
   "source": [
    "a_dist.has_prob_range_F(x1=6, x2=9.5)"
   ],
   "cell_type": "code",
   "metadata": {},
   "execution_count": 15,
   "outputs": [
    {
     "output_type": "execute_result",
     "data": {
      "text/plain": [
       "0.6147"
      ]
     },
     "metadata": {},
     "execution_count": 15
    }
   ]
  },
  {
   "source": [
    "### Example 7.2.2\n",
    "\n",
    "Suppose that the birth weight (in kilograms) of newborn babies in a population may be reasonably modelled by a normal distribution with mean 3.4 and standard deviation 0.5.\n",
    "\n",
    "According to the model, what is the proportion of birth weights that are\n",
    "\n",
    "**(a)** between 2.9 and 3.9 kilograms?\n",
    "\n",
    "**(b)** less than 4 kilograms?\n",
    "\n",
    "**(c)** greater that 3 kilograms?"
   ],
   "cell_type": "markdown",
   "metadata": {}
  },
  {
   "source": [
    "# declare the distribution\n",
    "a_dist = Normal(a_mean=3.4, a_std=0.5)"
   ],
   "cell_type": "code",
   "metadata": {},
   "execution_count": 16,
   "outputs": []
  },
  {
   "source": [
    "#### (a)\n",
    "\n",
    "The probability $P(2.9 \\leq X \\leq 3.9) = P(z_{1} \\leq Z \\leq z_{2})$, where $z_{1}$ is"
   ],
   "cell_type": "markdown",
   "metadata": {}
  },
  {
   "cell_type": "code",
   "execution_count": 17,
   "metadata": {},
   "outputs": [
    {
     "output_type": "execute_result",
     "data": {
      "text/plain": [
       "-1.0"
      ]
     },
     "metadata": {},
     "execution_count": 17
    }
   ],
   "source": [
    "a_dist.has_z(x=2.9)"
   ]
  },
  {
   "source": [
    "and $z_{2}$ is"
   ],
   "cell_type": "markdown",
   "metadata": {}
  },
  {
   "cell_type": "code",
   "execution_count": 18,
   "metadata": {},
   "outputs": [
    {
     "output_type": "execute_result",
     "data": {
      "text/plain": [
       "1.0"
      ]
     },
     "metadata": {},
     "execution_count": 18
    }
   ],
   "source": [
    "a_dist.has_z(x=3.9)"
   ]
  },
  {
   "source": [
    "Therefore, the probability $P(2.9 \\leq X \\leq 3.9)$ is given by\n",
    "\n",
    "$$\n",
    "\\begin{aligned}\n",
    "P(-1 \\leq Z \\leq 1) &= \\Phi (1) - \\Phi (-1) \\\\\n",
    "  &= \\Phi (1) - (1 - \\Phi (1)) \\\\\n",
    "  &= 2 \\Phi (1) - 1 \\\\\n",
    "  &= \\cdots\n",
    "\\end{aligned}\n",
    "$$"
   ],
   "cell_type": "markdown",
   "metadata": {}
  },
  {
   "cell_type": "code",
   "execution_count": 19,
   "metadata": {},
   "outputs": [
    {
     "output_type": "execute_result",
     "data": {
      "text/plain": [
       "0.6826"
      ]
     },
     "metadata": {},
     "execution_count": 19
    }
   ],
   "source": [
    "a_dist.has_prob_range_F(x1=2.9, x2=3.9)"
   ]
  },
  {
   "source": [
    "#### (b)\n",
    "\n",
    "The probability $P(X \\leq 4) = P(Z \\leq z)$, where $z$ is"
   ],
   "cell_type": "markdown",
   "metadata": {}
  },
  {
   "cell_type": "code",
   "execution_count": 20,
   "metadata": {},
   "outputs": [
    {
     "output_type": "execute_result",
     "data": {
      "text/plain": [
       "1.2"
      ]
     },
     "metadata": {},
     "execution_count": 20
    }
   ],
   "source": [
    "a_dist.has_z(x=4)"
   ]
  },
  {
   "source": [
    "Therefore, the probability $P(X \\leq 4) = \\Phi (1.2) = \\cdots$"
   ],
   "cell_type": "markdown",
   "metadata": {}
  },
  {
   "cell_type": "code",
   "execution_count": 21,
   "metadata": {},
   "outputs": [
    {
     "output_type": "execute_result",
     "data": {
      "text/plain": [
       "0.8849"
      ]
     },
     "metadata": {},
     "execution_count": 21
    }
   ],
   "source": [
    "a_dist.has_F(x=4)"
   ]
  },
  {
   "source": [
    "#### (c)\n",
    "\n",
    "The probability $P(X \\geq 3) = P(Z \\geq z)$, where $z$ is"
   ],
   "cell_type": "markdown",
   "metadata": {}
  },
  {
   "cell_type": "code",
   "execution_count": 22,
   "metadata": {},
   "outputs": [
    {
     "output_type": "execute_result",
     "data": {
      "text/plain": [
       "-0.8"
      ]
     },
     "metadata": {},
     "execution_count": 22
    }
   ],
   "source": [
    "a_dist.has_z(x=3)"
   ]
  },
  {
   "source": [
    "Therefore, the probability $P(X \\geq 3) = 1 - \\Phi (-0.8) = 1 - (1 - \\Phi (0.8)) = \\Phi (0.8) = \\cdots$"
   ],
   "cell_type": "markdown",
   "metadata": {}
  },
  {
   "cell_type": "code",
   "execution_count": 23,
   "metadata": {},
   "outputs": [
    {
     "output_type": "execute_result",
     "data": {
      "text/plain": [
       "0.7881"
      ]
     },
     "metadata": {},
     "execution_count": 23
    }
   ],
   "source": [
    "a_dist.has_F(x=3, greater_than=True)"
   ]
  },
  {
   "source": [
    "## 3 Population quantiles of normal distributions"
   ],
   "cell_type": "markdown",
   "metadata": {}
  },
  {
   "source": [
    "### Example 7.3.1\n",
    "\n",
    "Let $X$ be a random variable distributed $X \\sim N(100,15^{2})$.\n",
    "\n",
    "Calculate the values of the following quantiles\n",
    "\n",
    "**(a)** $q_{U}$\n",
    "\n",
    "**(b)** $q_{0.2}$\n",
    "\n",
    "**(c)** $q_{0.99}$"
   ],
   "cell_type": "markdown",
   "metadata": {}
  },
  {
   "source": [
    "# declare the distribution\n",
    "a_dist = Normal(a_mean=100, a_std=15)"
   ],
   "cell_type": "code",
   "metadata": {},
   "execution_count": 24,
   "outputs": []
  },
  {
   "source": [
    "#### (a)\n",
    "\n",
    "The $0.75-$quantile, $x$, of the distribution $N(100, 15^{2}$) is\n",
    "\n",
    "$$\n",
    "x = \\sigma q_{0.75} + \\mu = 15 q_{0.75} + 100,\n",
    "$$\n",
    "\n",
    "where $q_{0.75}$ is the $0.75-$quantile of the standard normal distribution, $q_{0.75} = \\cdots$"
   ],
   "cell_type": "markdown",
   "metadata": {}
  },
  {
   "cell_type": "code",
   "execution_count": 25,
   "metadata": {},
   "outputs": [
    {
     "output_type": "execute_result",
     "data": {
      "text/plain": [
       "0.6745"
      ]
     },
     "metadata": {},
     "execution_count": 25
    }
   ],
   "source": [
    "Standard_Normal.has_quantile(a=0.75)"
   ]
  },
  {
   "source": [
    "Therefore, the $0.75-$quantile of the distribution is\n",
    "\n",
    "$$\n",
    "x = 15(0.6745) + 100 = \\cdots\n",
    "$$"
   ],
   "cell_type": "markdown",
   "metadata": {}
  },
  {
   "cell_type": "code",
   "execution_count": 26,
   "metadata": {},
   "outputs": [
    {
     "output_type": "execute_result",
     "data": {
      "text/plain": [
       "110.1173"
      ]
     },
     "metadata": {},
     "execution_count": 26
    }
   ],
   "source": [
    "a_dist.has_quantile(a=0.75)"
   ]
  },
  {
   "source": [
    "#### (b)\n",
    "\n",
    "The $0.2-$quantile, $x$, of the distribution $N(100, 15^{2}$) is\n",
    "\n",
    "$$\n",
    "x = \\sigma q_{0.2} + \\mu = 15 q_{0.2} + 100,\n",
    "$$\n",
    "\n",
    "where $q_{0.2} = -q_{0.8}$ is the $0.2-$quantile of the standard normal distribution, $q_{0.2} = \\cdots$"
   ],
   "cell_type": "markdown",
   "metadata": {}
  },
  {
   "cell_type": "code",
   "execution_count": 27,
   "metadata": {},
   "outputs": [
    {
     "output_type": "execute_result",
     "data": {
      "text/plain": [
       "-0.8416"
      ]
     },
     "metadata": {},
     "execution_count": 27
    }
   ],
   "source": [
    "Standard_Normal.has_quantile(a=0.2)"
   ]
  },
  {
   "source": [
    "Therefore, the $0.2-$quantile of the distribution is\n",
    "\n",
    "$$\n",
    "x = 15(-0.8416) + 100 = \\cdots\n",
    "$$"
   ],
   "cell_type": "markdown",
   "metadata": {}
  },
  {
   "cell_type": "code",
   "execution_count": 28,
   "metadata": {},
   "outputs": [
    {
     "output_type": "execute_result",
     "data": {
      "text/plain": [
       "87.3757"
      ]
     },
     "metadata": {},
     "execution_count": 28
    }
   ],
   "source": [
    "a_dist.has_quantile(a=0.2)"
   ]
  },
  {
   "source": [
    "#### (c)\n",
    "\n",
    "The $0.99-$quantile, $x$, of the distribution $N(100, 15^{2}$) is\n",
    "\n",
    "$$\n",
    "x = \\sigma q_{0.99} + \\mu = 15 q_{0.99} + 100,\n",
    "$$\n",
    "\n",
    "where $q_{0.99}$ is the $0.99-$quantile of the standard normal distribution, $q_{0.99} = \\cdots$"
   ],
   "cell_type": "markdown",
   "metadata": {}
  },
  {
   "cell_type": "code",
   "execution_count": 29,
   "metadata": {},
   "outputs": [
    {
     "output_type": "execute_result",
     "data": {
      "text/plain": [
       "2.3263"
      ]
     },
     "metadata": {},
     "execution_count": 29
    }
   ],
   "source": [
    "Standard_Normal.has_quantile(a=0.99)"
   ]
  },
  {
   "source": [
    "Therefore, the $0.99-$quantile of the distribution is\n",
    "\n",
    "$$\n",
    "x = 15(2.3263) + 100 = \\cdots\n",
    "$$"
   ],
   "cell_type": "markdown",
   "metadata": {}
  },
  {
   "source": [
    "a_dist.has_quantile(a=0.99)"
   ],
   "cell_type": "code",
   "metadata": {},
   "execution_count": 30,
   "outputs": [
    {
     "output_type": "execute_result",
     "data": {
      "text/plain": [
       "134.8952"
      ]
     },
     "metadata": {},
     "execution_count": 30
    }
   ]
  },
  {
   "source": [
    "### Example 7.3.2\n",
    "\n",
    "Suppose that the size (in inches) of skipjack tuna may reasonably be modelled by a normal distribution with mean 22 and standard deviation 2.\n",
    "\n",
    "According to the model, what is\n",
    "\n",
    "**(a)** the interquartile range of the distribution of skipjack tuna in this population?\n",
    "\n",
    "**(b)** the size $x$ such that only 5% of skipjack tuna in the population are bigger than this size?"
   ],
   "cell_type": "markdown",
   "metadata": {}
  },
  {
   "cell_type": "code",
   "execution_count": 31,
   "metadata": {},
   "outputs": [],
   "source": [
    "# declare the distribution\n",
    "a_dist = Normal(a_mean=22, a_std=2)"
   ]
  },
  {
   "source": [
    "#### (a)\n",
    "\n",
    "The iqr is defined as $q_{U} - q_{L} = q_{0.75} - q_{0.25}$.\n",
    "\n",
    "The distribution has lower quartile"
   ],
   "cell_type": "markdown",
   "metadata": {}
  },
  {
   "cell_type": "code",
   "execution_count": 32,
   "metadata": {},
   "outputs": [
    {
     "output_type": "execute_result",
     "data": {
      "text/plain": [
       "20.651"
      ]
     },
     "metadata": {},
     "execution_count": 32
    }
   ],
   "source": [
    "qL = a_dist.has_quantile(a=0.25)\n",
    "qL"
   ]
  },
  {
   "source": [
    "and upper quantile"
   ],
   "cell_type": "markdown",
   "metadata": {}
  },
  {
   "cell_type": "code",
   "execution_count": 33,
   "metadata": {},
   "outputs": [
    {
     "output_type": "execute_result",
     "data": {
      "text/plain": [
       "23.349"
      ]
     },
     "metadata": {},
     "execution_count": 33
    }
   ],
   "source": [
    "qU = a_dist.has_quantile(a=0.75)\n",
    "qU"
   ]
  },
  {
   "source": [
    "Therefore, the distribution has iqr $\\ldots$"
   ],
   "cell_type": "markdown",
   "metadata": {}
  },
  {
   "cell_type": "code",
   "execution_count": 34,
   "metadata": {},
   "outputs": [
    {
     "output_type": "execute_result",
     "data": {
      "text/plain": [
       "2.698"
      ]
     },
     "metadata": {},
     "execution_count": 34
    }
   ],
   "source": [
    "# calculate the iqr\n",
    "round(qU - qL, 4)"
   ]
  },
  {
   "source": [
    "#### (b)\n",
    "\n",
    "The size of skipjack tuna, $x$ such that only 5% of skipjack tunas exceed that is that is the $0.95$-quantile.\n",
    "This is\n",
    "\n",
    "$$\n",
    "x = \\sigma q_{0.95} + \\mu = 2 q_{0.95} + 22,\n",
    "$$\n",
    "\n",
    "where $q_{0.95}$ is the $0.95-$quantile of the standard normal distribution, $q_{0.95} = \\cdots$"
   ],
   "cell_type": "markdown",
   "metadata": {}
  },
  {
   "cell_type": "code",
   "execution_count": 35,
   "metadata": {},
   "outputs": [
    {
     "output_type": "execute_result",
     "data": {
      "text/plain": [
       "1.6449"
      ]
     },
     "metadata": {},
     "execution_count": 35
    }
   ],
   "source": [
    "Standard_Normal.has_quantile(a=0.95)"
   ]
  },
  {
   "source": [
    "Therefore, the size $x$ is\n",
    "\n",
    "$$\n",
    "x = 2 (1.6449) + 22 = \\cdots\n",
    "$$"
   ],
   "cell_type": "markdown",
   "metadata": {}
  },
  {
   "cell_type": "code",
   "execution_count": 36,
   "metadata": {},
   "outputs": [
    {
     "output_type": "execute_result",
     "data": {
      "text/plain": [
       "25.2897"
      ]
     },
     "metadata": {},
     "execution_count": 36
    }
   ],
   "source": [
    "a_dist.has_quantile(a=0.95)"
   ]
  },
  {
   "source": [
    "## 4 Sample totals"
   ],
   "cell_type": "markdown",
   "metadata": {}
  },
  {
   "source": [
    "### Example 7.4.1\n",
    "\n",
    "Suppose that the duration of a patient’s visit to a dentist’s surgery is a random variable $X$ with mean 10 minutes and standard deviation 5 minutes.\n",
    "The dentist attends to eight patients each morning before taking a coffee break.\n",
    "\n",
    "**(a)** State the distribution that models the time for a dentist to have a coffee break?\n",
    "\n",
    "**(b)** What is the probability that dentist will take their coffee break within an hour of starting their shift?"
   ],
   "cell_type": "markdown",
   "metadata": {}
  },
  {
   "cell_type": "code",
   "execution_count": 37,
   "metadata": {},
   "outputs": [],
   "source": [
    "# paramters\n",
    "x_mean: int = 10\n",
    "x_std: int = 5\n",
    "size: int = 8"
   ]
  },
  {
   "source": [
    "#### (a)\n",
    "\n",
    "If $X_{1}, X_{2}, \\ldots ,X_{8}$ represent the times that the dentist spends with each of their first eight patients, then the total time $T_{8}$ that they will work before taking a coffee break is given by\n",
    "\n",
    "$$\n",
    "T_{8} = X_{1} + X_{2} + \\cdots + X_{8}.\n",
    "$$\n",
    "\n",
    "The expected time, $E(T_{8})$, will be $8 E(X) = \\cdots$"
   ],
   "cell_type": "markdown",
   "metadata": {}
  },
  {
   "cell_type": "code",
   "execution_count": 38,
   "metadata": {},
   "outputs": [
    {
     "output_type": "execute_result",
     "data": {
      "text/plain": [
       "80"
      ]
     },
     "metadata": {},
     "execution_count": 38
    }
   ],
   "source": [
    "t_mean: int = size * x_mean\n",
    "t_mean"
   ]
  },
  {
   "source": [
    "And the standard deviation, $S(T_{8})$, will be $\\sqrt{8 V(X)} = (\\sqrt{8}) \\> S(X) = \\cdots$"
   ],
   "cell_type": "markdown",
   "metadata": {}
  },
  {
   "cell_type": "code",
   "execution_count": 39,
   "metadata": {},
   "outputs": [
    {
     "output_type": "execute_result",
     "data": {
      "text/plain": [
       "200.0"
      ]
     },
     "metadata": {},
     "execution_count": 39
    }
   ],
   "source": [
    "t_std = 8**0.5 * x_std\n",
    "round(t_std ** 2, 2)"
   ]
  },
  {
   "source": [
    "Therefore, the distribution that models the time for a dentist to have a coffee break will be"
   ],
   "cell_type": "markdown",
   "metadata": {}
  },
  {
   "cell_type": "code",
   "execution_count": 40,
   "metadata": {},
   "outputs": [],
   "source": [
    "a_dist = Normal(a_mean=t_mean, a_std=t_std)"
   ]
  },
  {
   "cell_type": "code",
   "execution_count": 41,
   "metadata": {},
   "outputs": [
    {
     "output_type": "stream",
     "name": "stdout",
     "text": [
      "The variable has approximate distribution N(80, 200.0)\n"
     ]
    }
   ],
   "source": [
    "a_dist.has_distribution()"
   ]
  }
 ]
}