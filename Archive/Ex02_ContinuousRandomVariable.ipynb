{
 "cells": [
  {
   "cell_type": "markdown",
   "metadata": {},
   "source": [
    "# Continuous Random Variables\n",
    "\n",
    "Date: 2020-11-09\n",
    "\n",
    "## Scenario\n",
    "\n",
    "Let $X$ be a continuous random variable with p.d.f.\n",
    "\n",
    "$$\n",
    "f(x) = \\begin{cases}\n",
    "    &4x^{3} \\hspace{3mm} &x \\in (0, 1] \\\\\n",
    "    &0 \\hspace{3mm} &\\text{otherwise}\n",
    "\\end{cases}\n",
    "$$\n",
    "\n",
    "-----"
   ]
  },
  {
   "cell_type": "markdown",
   "metadata": {},
   "source": [
    "## Questions\n",
    "\n",
    "**(a)** Prove that $f(x)$ a valid p.d.f. for $X$.\n",
    "\n",
    "**(b)** State the c.d.f. of $X$.\n",
    "\n",
    "**(c)** Calculate $P(X \\geq 0.5)$\n",
    "\n",
    "**(d)** Calculate $P(X < 0.42)$\n",
    "\n",
    "**(e)** Calculate $P(0.15 \\leq X \\leq 0.65)$\n",
    "\n",
    "**(f)** Calculate the expected value of $X$.\n",
    "\n",
    "**(g)** Calculate the variance of $X$.\n",
    "\n",
    "-----"
   ]
  },
  {
   "cell_type": "code",
   "execution_count": 1,
   "metadata": {},
   "outputs": [],
   "source": [
    "from scipy.integrate import quad\n",
    "import numpy as np\n",
    "import pandas as pd"
   ]
  },
  {
   "cell_type": "markdown",
   "metadata": {},
   "source": [
    "## (a)\n",
    "\n",
    "A probability density function $f(x)$ for a continuous random variable $X$ has the following properties.\n",
    "\n",
    "1. $f(x) > 0$ for all $x$ in $X$\n",
    "2. $\\int f(x) = 1$ over the range of $X$\n",
    "\n",
    "Let us confirm the p.d.f. has these properties.\n",
    "We first define a function that returns the value of $f(a)$, where $a \\in (0,1)$."
   ]
  },
  {
   "cell_type": "code",
   "execution_count": 2,
   "metadata": {},
   "outputs": [],
   "source": [
    "def pdf(a: float) -> float:\n",
    "    '''Calculates value of f(a).\n",
    "    Valid range of a: (0, 1)'''\n",
    "    return 4 * (a ** 3)"
   ]
  },
  {
   "cell_type": "markdown",
   "metadata": {},
   "source": [
    "### Property 1: $f(x) > 0$ \n",
    "\n",
    "Rather than using iteration, we will instead\n",
    "\n",
    "1. Create a **DataFrame** with columns $x$ and $f(x)$\n",
    "2. Filter the **DataFrame** for rows $f(x) \\leq 0$\n",
    "3. Check size of filtered **DataFrame** is 0\n",
    "\n",
    "If $f(x)>0$, we would expect the size of the DataFrame to be size 0."
   ]
  },
  {
   "cell_type": "code",
   "execution_count": 3,
   "metadata": {},
   "outputs": [
    {
     "data": {
      "text/plain": [
       "True"
      ]
     },
     "execution_count": 3,
     "metadata": {},
     "output_type": "execute_result"
    }
   ],
   "source": [
    "# declare an array\n",
    "x = np.arange(start=0, stop=1, step=0.000001)\n",
    "\n",
    "# create the df\n",
    "df_pdf = pd.DataFrame(data=x, columns={'x'})\n",
    "df_pdf['f'] = pdf(x)\n",
    "\n",
    "# filter the df, check df.size is 0\n",
    "filtered_df = df_pdf.query('f < 0')\n",
    "filtered_df.size == 0"
   ]
  },
  {
   "cell_type": "markdown",
   "metadata": {},
   "source": [
    "### Property 2: $\\int f(x) = 1$\n",
    "\n",
    "Let us calculate\n",
    "\n",
    "$$\n",
    "\\int_{0}^{1} 4x^{3} \\> dx = \\ldots\n",
    "$$"
   ]
  },
  {
   "cell_type": "code",
   "execution_count": 4,
   "metadata": {},
   "outputs": [
    {
     "data": {
      "text/plain": [
       "True"
      ]
     },
     "execution_count": 4,
     "metadata": {},
     "output_type": "execute_result"
    }
   ],
   "source": [
    "# function quad returns a tuple, select first element\n",
    "quad(pdf, a=0, b=1)[0] == 1"
   ]
  },
  {
   "cell_type": "markdown",
   "metadata": {},
   "source": [
    "As both tests returned `True`, we can confirm that $f(x)$ is a valid p.d.f."
   ]
  },
  {
   "cell_type": "markdown",
   "metadata": {},
   "source": [
    "## (b)\n",
    "\n",
    "The c.d.f. of a p.d.f. for a continuous random variable $X$ is\n",
    "\n",
    "$$\n",
    "F(x) = \\int_{a}^{x} f(y) \\> dx.\n",
    "$$\n",
    "\n",
    "So for $f(y)$ given in the scenario\n",
    "\n",
    "$$\n",
    "\\begin{aligned}\n",
    "    F(x) &= \\int_{0}^{x} 4 y^{3} \\> dx \\\\\n",
    "        &= 4 \\bigg[ \\frac{1}{4} y^{4} \\bigg]_{0}^{x} + c \\\\\n",
    "        &= 4 \\bigg( \\frac{1}{4} x^{4} - \\frac{1}{4} 0^{4} \\bigg) \\\\\n",
    "        &= x^{4}.\n",
    "\\end{aligned}\n",
    "$$"
   ]
  },
  {
   "cell_type": "markdown",
   "metadata": {},
   "source": [
    "## (c)\n",
    "\n",
    "The probability that $X$ is less than or eqal to 0.5 is $P(X \\leq 0.5) = F(0.5)$.\n",
    "Using the c.d.f. we defined in **(b)**\n",
    "\n",
    "$$\n",
    "F(4) = 0.5^{4} = \\ldots\n",
    "$$"
   ]
  },
  {
   "cell_type": "code",
   "execution_count": 5,
   "metadata": {},
   "outputs": [
    {
     "data": {
      "text/plain": [
       "0.0625"
      ]
     },
     "execution_count": 5,
     "metadata": {},
     "output_type": "execute_result"
    }
   ],
   "source": [
    "# calculate using scipy\n",
    "quad(pdf, a=0, b=0.5)[0]"
   ]
  },
  {
   "cell_type": "markdown",
   "metadata": {},
   "source": [
    "## (d)\n",
    "\n",
    "The probability that $X$ is greater than 0.42 is $P(X > 0.42) = 1 - F(0.42)$.\n",
    "Using the c.d.f. we defined in **(b)**\n",
    "\n",
    "$$\n",
    "P(X > 0.42) = 1 - F(0.42) = 1 - (0.42)^{4} = \\ldots\n",
    "$$"
   ]
  },
  {
   "cell_type": "code",
   "execution_count": 6,
   "metadata": {},
   "outputs": [
    {
     "data": {
      "text/plain": [
       "0.96888304"
      ]
     },
     "execution_count": 6,
     "metadata": {},
     "output_type": "execute_result"
    }
   ],
   "source": [
    "# calculate using scipy\n",
    "1 - quad(pdf, a=0, b=0.42)[0]"
   ]
  },
  {
   "cell_type": "markdown",
   "metadata": {},
   "source": [
    "## (e)\n",
    "\n",
    "The probability that $X$ is between 0.15 and 0.65 is $P(0.15 < X < 0.65) = F(0.65) - F(0.15)$.\n",
    "Using the c.d.f. we defined in **(b)**\n",
    "\n",
    "$$\n",
    "P(0.15 < X < 0.65) = F(0.65) - F(0.15) = (0.65)^{4} - (0.15)^{4} = \\ldots\n",
    "$$"
   ]
  },
  {
   "cell_type": "code",
   "execution_count": 7,
   "metadata": {},
   "outputs": [
    {
     "data": {
      "text/plain": [
       "0.178"
      ]
     },
     "execution_count": 7,
     "metadata": {},
     "output_type": "execute_result"
    }
   ],
   "source": [
    "# confirming using scipy\n",
    "quad(pdf, a=0.15, b=0.65)[0]"
   ]
  },
  {
   "cell_type": "markdown",
   "metadata": {},
   "source": [
    "## (f)\n",
    "\n",
    "For the given p.d.f., $E(X)$ is\n",
    "\n",
    "$$\n",
    "\\begin{aligned}\n",
    "    E(X) = \\int_{a}^{b} x \\> f(x) \\> dx &= \\int_{0}^{1} x \\> 4x^{3} \\> dx \\\\\n",
    "        &= 4 \\int_{0}^{1} x^{4} \\> dx \\\\\n",
    "        &= 4 \\bigg[ \\frac{1}{5} x^{5} \\bigg]_{0}^{1} \\\\\n",
    "        &= \\frac{4}{5}(1^{5} - 0^{5}) \\\\\n",
    "        &= \\ldots\n",
    "\\end{aligned}\n",
    "$$"
   ]
  },
  {
   "cell_type": "code",
   "execution_count": 8,
   "metadata": {},
   "outputs": [],
   "source": [
    "# define xfx\n",
    "def xfx(a: float) -> float:\n",
    "    '''Calculates value of a.f(a).\n",
    "    Valid range of a: (0, 1)'''\n",
    "    return a * 4 * (a ** 3)"
   ]
  },
  {
   "cell_type": "code",
   "execution_count": 9,
   "metadata": {},
   "outputs": [
    {
     "data": {
      "text/plain": [
       "0.8"
      ]
     },
     "execution_count": 9,
     "metadata": {},
     "output_type": "execute_result"
    }
   ],
   "source": [
    "# integrate function within valid range.\n",
    "mean = quad(xfx, a=0, b=1)[0]\n",
    "mean"
   ]
  },
  {
   "cell_type": "markdown",
   "metadata": {},
   "source": [
    "## (g)\n",
    "\n",
    "For the given p.d.f., $V(X)$ is\n",
    "\n",
    "$$\n",
    "\\begin{aligned}\n",
    "    V(X) =  E(X^{2}) - E(X)^{2} &= \\int_{0}^{1} x^{2} \\> 4x^{3} \\> dx - (E(X)^{2}) \\\\\n",
    "        &= 4 \\int_{0}^{1} x^{5} \\> dx - \\bigg( \\frac{4}{5} \\bigg)^{2} \\\\\n",
    "        &= 4 \\bigg[ \\frac{1}{6} x^{6} \\bigg]_{0}^{1} - \\frac{16}{25} \\\\\n",
    "        &= \\frac{2}{3}(1^{6} - 0^{6}) - \\frac{16}{25} \\\\\n",
    "        &= \\frac{2}{3} - \\frac{16}{25} \\\\\n",
    "        &= \\ldots\n",
    "\\end{aligned}\n",
    "$$"
   ]
  },
  {
   "cell_type": "code",
   "execution_count": 10,
   "metadata": {},
   "outputs": [
    {
     "data": {
      "text/plain": [
       "0.026666666666666616"
      ]
     },
     "execution_count": 10,
     "metadata": {},
     "output_type": "execute_result"
    }
   ],
   "source": [
    "def x2fx(a: float) -> float:\n",
    "    '''Calculates value of a^2.f(a).\n",
    "    Valid range of a: (0, 1)'''\n",
    "    return (a ** 2) * 4 * (a ** 3)\n",
    "\n",
    "\n",
    "quad(x2fx, a=0, b=1)[0] - (mean ** 2)"
   ]
  }
 ],
 "metadata": {
  "kernelspec": {
   "display_name": "Python 3",
   "language": "python",
   "name": "python3"
  },
  "language_info": {
   "codemirror_mode": {
    "name": "ipython",
    "version": 3
   },
   "file_extension": ".py",
   "mimetype": "text/x-python",
   "name": "python",
   "nbconvert_exporter": "python",
   "pygments_lexer": "ipython3",
   "version": "3.8.3"
  }
 },
 "nbformat": 4,
 "nbformat_minor": 4
}
