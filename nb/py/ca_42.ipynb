{
 "cells": [
  {
   "cell_type": "markdown",
   "metadata": {},
   "source": [
    "# Computer Book A, Activities 42\n",
    "\n",
    "This activity is related to the **Poisson process,** so we are working with the Poisson and exponential distributions.\n",
    "\n",
    "- Calculating probabilities\n",
    "- Plotting the p.m.f. of a Poisson distribution\n",
    "- Plotting the p.d.f. of an exponential distribution"
   ]
  },
  {
   "cell_type": "markdown",
   "metadata": {},
   "source": [
    "## Package import and distribution declarations"
   ]
  },
  {
   "cell_type": "code",
   "execution_count": 1,
   "metadata": {},
   "outputs": [],
   "source": [
    "from scipy.stats import poisson, expon\n",
    "import numpy as np\n",
    "import seaborn as sns\n",
    "import matplotlib.pyplot as plt\n",
    "\n",
    "sns.set_theme(style=\"darkgrid\")"
   ]
  },
  {
   "cell_type": "markdown",
   "metadata": {},
   "source": [
    "## Declare the distributions\n",
    "\n",
    "We are given the rate `r` as 0.517/s."
   ]
  },
  {
   "cell_type": "code",
   "execution_count": 2,
   "metadata": {},
   "outputs": [],
   "source": [
    "r = 0.517  # rate, per second\n",
    "\n",
    "# ============================================================================\n",
    "# Number of events\n",
    "# ================\n",
    "# Questions involve number of events per minute, so scale r using rt\n",
    "# where t=60 (60s in 1min).\n",
    "#\n",
    "# There is no need to scale r for the waiting time\n",
    "# ============================================================================\n",
    "\n",
    "x = poisson(mu=r*60)\n",
    "\n",
    "# ============================================================================\n",
    "# Waiting time between events\n",
    "# ===========================\n",
    "# There is no need to scale r for the waiting time\n",
    "# ============================================================================\n",
    "\n",
    "t = expon(loc=0, scale=1/r)  # scale = sd"
   ]
  },
  {
   "cell_type": "markdown",
   "metadata": {},
   "source": [
    "## Number of events"
   ]
  },
  {
   "cell_type": "code",
   "execution_count": 3,
   "metadata": {},
   "outputs": [
    {
     "data": {
      "text/plain": [
       "0.07141326687104596"
      ]
     },
     "execution_count": 3,
     "metadata": {},
     "output_type": "execute_result"
    }
   ],
   "source": [
    "# calculate P(X=30)\n",
    "x.pmf(k=30)"
   ]
  },
  {
   "cell_type": "code",
   "execution_count": 4,
   "metadata": {},
   "outputs": [
    {
     "data": {
      "text/plain": [
       "0.014289920912386095"
      ]
     },
     "execution_count": 4,
     "metadata": {},
     "output_type": "execute_result"
    }
   ],
   "source": [
    "# calculate P(X<20) = F(19)\n",
    "x.cdf(x=19)"
   ]
  },
  {
   "cell_type": "code",
   "execution_count": 5,
   "metadata": {},
   "outputs": [
    {
     "data": {
      "text/plain": [
       "0.001040963952770979"
      ]
     },
     "execution_count": 5,
     "metadata": {},
     "output_type": "execute_result"
    }
   ],
   "source": [
    "# Method 1. calculate P(X>=50) = 1 - F(49)\n",
    "1 - x.cdf(x=49)"
   ]
  },
  {
   "cell_type": "code",
   "execution_count": 6,
   "metadata": {},
   "outputs": [
    {
     "data": {
      "text/plain": [
       "0.0010409639527710086"
      ]
     },
     "execution_count": 6,
     "metadata": {},
     "output_type": "execute_result"
    }
   ],
   "source": [
    "# Method 2. calculate P(X>=50) = 1 - F(49) using sf()\n",
    "x.sf(x=49)"
   ]
  },
  {
   "cell_type": "markdown",
   "metadata": {},
   "source": [
    "## Waiting time between events"
   ]
  },
  {
   "cell_type": "code",
   "execution_count": 7,
   "metadata": {},
   "outputs": [
    {
     "data": {
      "text/plain": [
       "0.22779096895081516"
      ]
     },
     "execution_count": 7,
     "metadata": {},
     "output_type": "execute_result"
    }
   ],
   "source": [
    "# calculate P(T<0.5)\n",
    "t.cdf(x=0.5)"
   ]
  },
  {
   "cell_type": "code",
   "execution_count": 8,
   "metadata": {},
   "outputs": [
    {
     "data": {
      "text/plain": [
       "0.8563295402477983"
      ]
     },
     "execution_count": 8,
     "metadata": {},
     "output_type": "execute_result"
    }
   ],
   "source": [
    "# Method 1. calculate P(T>0.3) = 1 - F(0.3)\n",
    "1 - t.cdf(x=0.3)"
   ]
  },
  {
   "cell_type": "code",
   "execution_count": 9,
   "metadata": {},
   "outputs": [
    {
     "data": {
      "text/plain": [
       "0.8563295402477983"
      ]
     },
     "execution_count": 9,
     "metadata": {},
     "output_type": "execute_result"
    }
   ],
   "source": [
    "# Method 2. calculateP(T>0.3) using sf()\n",
    "t.sf(x=0.3)"
   ]
  },
  {
   "cell_type": "markdown",
   "metadata": {},
   "source": [
    "## Plot the distributions"
   ]
  },
  {
   "cell_type": "markdown",
   "metadata": {},
   "source": [
    "### Plot of number of events"
   ]
  },
  {
   "cell_type": "code",
   "execution_count": 10,
   "metadata": {},
   "outputs": [
    {
     "data": {
      "image/png": "[encoded data removed]",
      "text/plain": [
       "<Figure size 432x288 with 1 Axes>"
      ]
     },
     "metadata": {},
     "output_type": "display_data"
    }
   ],
   "source": [
    "f, ax = plt.subplots()\n",
    "\n",
    "# range of X: 0.01 - 0.99 quantiles\n",
    "elem = np.arange(x.ppf(0.01),\n",
    "                 x.ppf(0.99))\n",
    "\n",
    "# plot the distribution\n",
    "sns.barplot(x=elem.astype(\"int\"),  # recast np.array as int\n",
    "            y=x.pmf(k=elem),  # calculate Pr of each elem\n",
    "            color=\"royalblue\")\n",
    "\n",
    "ax.set(title=\"Number of events\",\n",
    "       xlabel=\"X\",\n",
    "       ylabel=\"Pr\")\n",
    "\n",
    "plt.xticks(rotation=70)\n",
    "\n",
    "plt.show()"
   ]
  },
  {
   "cell_type": "markdown",
   "metadata": {},
   "source": [
    "### Plot of waiting time between events"
   ]
  },
  {
   "cell_type": "code",
   "execution_count": 11,
   "metadata": {},
   "outputs": [
    {
     "data": {
      "image/png": "[encoded data removed]",
      "text/plain": [
       "<Figure size 432x288 with 1 Axes>"
      ]
     },
     "metadata": {},
     "output_type": "display_data"
    }
   ],
   "source": [
    "f, ax = plt.subplots()\n",
    "\n",
    "# range of T: 0.01 - 0.99 quantiles\n",
    "elem = np.linspace(t.ppf(0.01),\n",
    "                   t.ppf(0.99),\n",
    "                   num=1000)\n",
    "\n",
    "# plot the distribution\n",
    "sns.histplot(x=t.pdf(elem),\n",
    "             color=\"royalblue\",\n",
    "             binwidth=0.025,\n",
    "             stat=\"density\")\n",
    "\n",
    "ax.set(title=\"Waiting time between events\",\n",
    "       xlabel=\"T\",\n",
    "       ylabel=\"Pr\")\n",
    "\n",
    "plt.show()"
   ]
  }
 ],
 "metadata": {
  "kernelspec": {
   "display_name": "Python 3",
   "language": "python",
   "name": "python3"
  },
  "language_info": {
   "codemirror_mode": {
    "name": "ipython",
    "version": 3
   },
   "file_extension": ".py",
   "mimetype": "text/x-python",
   "name": "python",
   "nbconvert_exporter": "python",
   "pygments_lexer": "ipython3",
   "version": "3.8.3"
  }
 },
 "nbformat": 4,
 "nbformat_minor": 4
}
