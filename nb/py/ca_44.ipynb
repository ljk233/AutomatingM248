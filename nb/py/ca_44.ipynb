{
 "cells": [
  {
   "cell_type": "markdown",
   "metadata": {},
   "source": [
    "# Computer book A, Activity 44\n",
    "\n",
    "Calculate quantiles of non-standard probability distributions using `sympy`.\n",
    "\n",
    "We will also plot the probability density function for interest.\n",
    "\n",
    "This involves the p.d.f. $f(x) = 3 x^{2}, x \\in (0,1)$."
   ]
  },
  {
   "cell_type": "markdown",
   "metadata": {},
   "source": [
    "# Package import"
   ]
  },
  {
   "cell_type": "code",
   "execution_count": 1,
   "metadata": {},
   "outputs": [],
   "source": [
    "from sympy import *\n",
    "import numpy as np\n",
    "import seaborn as sns\n",
    "import matplotlib.pyplot as plt"
   ]
  },
  {
   "cell_type": "markdown",
   "metadata": {},
   "source": [
    "## Plot the p.d.f."
   ]
  },
  {
   "cell_type": "code",
   "execution_count": 2,
   "metadata": {},
   "outputs": [
    {
     "data": {
      "image/png": "[encoded data removed]",
      "text/plain": [
       "<Figure size 432x288 with 1 Axes>"
      ]
     },
     "metadata": {
      "needs_background": "light"
     },
     "output_type": "display_data"
    }
   ],
   "source": [
    "def f1(x):\n",
    "    \"\"\"\n",
    "    The pdf of X.\n",
    "    \"\"\"\n",
    "    return 3*(x**2)\n",
    "\n",
    "a = 0  # lower boundary\n",
    "b = 1  # upper boundary\n",
    "\n",
    "# declare the range of X\n",
    "x = np.linspace(a, b, 100)\n",
    "\n",
    "fig, ax = plt.subplots()\n",
    "\n",
    "sns.lineplot(x=x,\n",
    "             y=f1(x))  # calculates f(x) for each x in X\n",
    "\n",
    "ax.set(xlabel=\"x\",\n",
    "       ylabel=\"f(x)\")\n",
    "\n",
    "plt.show()"
   ]
  },
  {
   "cell_type": "markdown",
   "metadata": {},
   "source": [
    "## Calculating quantiles\n",
    "\n",
    "First declare local variables to hold references to the:\n",
    "\n",
    "- p.d.f.\n",
    "- c.d.f."
   ]
  },
  {
   "cell_type": "code",
   "execution_count": 3,
   "metadata": {},
   "outputs": [],
   "source": [
    "# declare x as a variable\n",
    "x = symbols('x')\n",
    "\n",
    "# declare the pdf\n",
    "pdf = 3*(x**2)\n",
    "\n",
    "# declare the cdf as the integral of the pdf\n",
    "cdf = integrate(pdf)"
   ]
  },
  {
   "cell_type": "markdown",
   "metadata": {},
   "source": [
    "The inverse c.d.f. $F(x) = \\alpha$ is declared using `Eq(LHS, RHS)`, setting `LHS=` to the c.d.f., and `RHS=` to the $\\alpha$.\n",
    "Then use `solve()` to calculate specific quantiles.\n",
    "\n",
    "The solver returns an array, so we select the 0 index to display."
   ]
  },
  {
   "cell_type": "code",
   "execution_count": 4,
   "metadata": {},
   "outputs": [
    {
     "data": {
      "text/latex": [
       "$\\displaystyle 0.7937005259841$"
      ],
      "text/plain": [
       "0.793700525984100"
      ]
     },
     "execution_count": 4,
     "metadata": {},
     "output_type": "execute_result"
    }
   ],
   "source": [
    "# calculate the median\n",
    "solve(Eq(cdf, 0.5), x)[0]"
   ]
  },
  {
   "cell_type": "code",
   "execution_count": 5,
   "metadata": {},
   "outputs": [
    {
     "data": {
      "text/latex": [
       "$\\displaystyle 0.629960524947437$"
      ],
      "text/plain": [
       "0.629960524947437"
      ]
     },
     "execution_count": 5,
     "metadata": {},
     "output_type": "execute_result"
    }
   ],
   "source": [
    "# calculate the lower quartile\n",
    "solve(Eq(cdf, 0.25), x)[0]"
   ]
  },
  {
   "cell_type": "code",
   "execution_count": 6,
   "metadata": {},
   "outputs": [
    {
     "data": {
      "text/latex": [
       "$\\displaystyle 0.90856029641607$"
      ],
      "text/plain": [
       "0.908560296416070"
      ]
     },
     "execution_count": 6,
     "metadata": {},
     "output_type": "execute_result"
    }
   ],
   "source": [
    "# calculate the upper quartile\n",
    "solve(Eq(cdf, 0.75), x)[0]"
   ]
  },
  {
   "cell_type": "code",
   "execution_count": 7,
   "metadata": {},
   "outputs": [
    {
     "data": {
      "text/latex": [
       "$\\displaystyle 0.278599771468633$"
      ],
      "text/plain": [
       "0.278599771468633"
      ]
     },
     "execution_count": 7,
     "metadata": {},
     "output_type": "execute_result"
    }
   ],
   "source": [
    "# calculate the iqr\n",
    "solve(Eq(cdf, 0.75), x)[0] - solve(Eq(cdf, 0.25), x)[0]"
   ]
  }
 ],
 "metadata": {
  "kernelspec": {
   "display_name": "Python 3",
   "language": "python",
   "name": "python3"
  },
  "language_info": {
   "codemirror_mode": {
    "name": "ipython",
    "version": 3
   },
   "file_extension": ".py",
   "mimetype": "text/x-python",
   "name": "python",
   "nbconvert_exporter": "python",
   "pygments_lexer": "ipython3",
   "version": "3.8.3"
  }
 },
 "nbformat": 4,
 "nbformat_minor": 4
}
