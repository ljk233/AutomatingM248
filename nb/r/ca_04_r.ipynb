{
 "cells": [
  {
   "cell_type": "markdown",
   "metadata": {},
   "source": [
    "# Computer book A, Activity 4\n",
    "\n",
    "Using `ggplot2` to plot a bar chart of unaggregated data."
   ]
  },
  {
   "cell_type": "markdown",
   "metadata": {},
   "source": [
    "## Import the tidyverse"
   ]
  },
  {
   "cell_type": "code",
   "execution_count": 1,
   "metadata": {},
   "outputs": [
    {
     "name": "stderr",
     "output_type": "stream",
     "text": [
      "-- \u001b[1mAttaching packages\u001b[22m ------------------------------------------------------------------------------- tidyverse 1.3.0 --\n",
      "\n",
      "\u001b[32mv\u001b[39m \u001b[34mggplot2\u001b[39m 3.3.3     \u001b[32mv\u001b[39m \u001b[34mpurrr  \u001b[39m 0.3.4\n",
      "\u001b[32mv\u001b[39m \u001b[34mtibble \u001b[39m 3.0.5     \u001b[32mv\u001b[39m \u001b[34mdplyr  \u001b[39m 1.0.3\n",
      "\u001b[32mv\u001b[39m \u001b[34mtidyr  \u001b[39m 1.1.2     \u001b[32mv\u001b[39m \u001b[34mstringr\u001b[39m 1.4.0\n",
      "\u001b[32mv\u001b[39m \u001b[34mreadr  \u001b[39m 1.4.0     \u001b[32mv\u001b[39m \u001b[34mforcats\u001b[39m 0.5.0\n",
      "\n",
      "-- \u001b[1mConflicts\u001b[22m ---------------------------------------------------------------------------------- tidyverse_conflicts() --\n",
      "\u001b[31mx\u001b[39m \u001b[34mdplyr\u001b[39m::\u001b[32mfilter()\u001b[39m masks \u001b[34mstats\u001b[39m::filter()\n",
      "\u001b[31mx\u001b[39m \u001b[34mdplyr\u001b[39m::\u001b[32mlag()\u001b[39m    masks \u001b[34mstats\u001b[39m::lag()\n",
      "\n"
     ]
    }
   ],
   "source": [
    "library(tidyverse)"
   ]
  },
  {
   "cell_type": "markdown",
   "metadata": {},
   "source": [
    "## Data import"
   ]
  },
  {
   "cell_type": "code",
   "execution_count": 3,
   "metadata": {},
   "outputs": [
    {
     "data": {
      "text/html": [
       "<table class=\"dataframe\">\n",
       "<caption>A data.frame: 6 × 5</caption>\n",
       "<thead>\n",
       "\t<tr><th></th><th scope=col>Method</th><th scope=col>Gender</th><th scope=col>Size</th><th scope=col>Depth</th><th scope=col>Score</th></tr>\n",
       "\t<tr><th></th><th scope=col>&lt;chr&gt;</th><th scope=col>&lt;chr&gt;</th><th scope=col>&lt;chr&gt;</th><th scope=col>&lt;chr&gt;</th><th scope=col>&lt;int&gt;</th></tr>\n",
       "</thead>\n",
       "<tbody>\n",
       "\t<tr><th scope=row>1</th><td>A</td><td>m</td><td>large</td><td>deep</td><td>1</td></tr>\n",
       "\t<tr><th scope=row>2</th><td>A</td><td>m</td><td>large</td><td>mod </td><td>1</td></tr>\n",
       "\t<tr><th scope=row>3</th><td>B</td><td>f</td><td>small</td><td>deep</td><td>1</td></tr>\n",
       "\t<tr><th scope=row>4</th><td>B</td><td>m</td><td>small</td><td>mod </td><td>4</td></tr>\n",
       "\t<tr><th scope=row>5</th><td>B</td><td>f</td><td>large</td><td>deep</td><td>3</td></tr>\n",
       "\t<tr><th scope=row>6</th><td>B</td><td>m</td><td>med  </td><td>mod </td><td>4</td></tr>\n",
       "</tbody>\n",
       "</table>\n"
      ],
      "text/latex": [
       "A data.frame: 6 × 5\n",
       "\\begin{tabular}{r|lllll}\n",
       "  & Method & Gender & Size & Depth & Score\\\\\n",
       "  & <chr> & <chr> & <chr> & <chr> & <int>\\\\\n",
       "\\hline\n",
       "\t1 & A & m & large & deep & 1\\\\\n",
       "\t2 & A & m & large & mod  & 1\\\\\n",
       "\t3 & B & f & small & deep & 1\\\\\n",
       "\t4 & B & m & small & mod  & 4\\\\\n",
       "\t5 & B & f & large & deep & 3\\\\\n",
       "\t6 & B & m & med   & mod  & 4\\\\\n",
       "\\end{tabular}\n"
      ],
      "text/markdown": [
       "\n",
       "A data.frame: 6 × 5\n",
       "\n",
       "| <!--/--> | Method &lt;chr&gt; | Gender &lt;chr&gt; | Size &lt;chr&gt; | Depth &lt;chr&gt; | Score &lt;int&gt; |\n",
       "|---|---|---|---|---|---|\n",
       "| 1 | A | m | large | deep | 1 |\n",
       "| 2 | A | m | large | mod  | 1 |\n",
       "| 3 | B | f | small | deep | 1 |\n",
       "| 4 | B | m | small | mod  | 4 |\n",
       "| 5 | B | f | large | deep | 3 |\n",
       "| 6 | B | m | med   | mod  | 4 |\n",
       "\n"
      ],
      "text/plain": [
       "  Method Gender Size  Depth Score\n",
       "1 A      m      large deep  1    \n",
       "2 A      m      large mod   1    \n",
       "3 B      f      small deep  1    \n",
       "4 B      m      small mod   4    \n",
       "5 B      f      large deep  3    \n",
       "6 B      m      med   mod   4    "
      ]
     },
     "metadata": {},
     "output_type": "display_data"
    }
   ],
   "source": [
    "# import the data\n",
    "x <- read.csv(\"../data/tattoos.csv\")\n",
    "\n",
    "# preview the data.frame\n",
    "head(x)"
   ]
  },
  {
   "cell_type": "markdown",
   "metadata": {},
   "source": [
    "## Plot the data"
   ]
  },
  {
   "cell_type": "code",
   "execution_count": 4,
   "metadata": {},
   "outputs": [
    {
     "data": {
      "image/png": "[encoded data removed]",
      "text/plain": [
       "plot without title"
      ]
     },
     "metadata": {
      "image/png": {
       "height": 420,
       "width": 420
      }
     },
     "output_type": "display_data"
    }
   ],
   "source": [
    "# build the bar chart of score\n",
    "g <- ggplot(data = x, aes(Score))\n",
    "g <- g + geom_bar()\n",
    "g <- g + labs(y = \"Frequency\")\n",
    "\n",
    "# visualise the plot\n",
    "g"
   ]
  }
 ],
 "metadata": {
  "kernelspec": {
   "display_name": "R 4.0.3",
   "language": "R",
   "name": "ir403"
  },
  "language_info": {
   "codemirror_mode": "r",
   "file_extension": ".r",
   "mimetype": "text/x-r-source",
   "name": "R",
   "pygments_lexer": "r",
   "version": "4.0.3"
  }
 },
 "nbformat": 4,
 "nbformat_minor": 4
}
