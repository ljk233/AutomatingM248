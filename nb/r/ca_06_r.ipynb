{
 "cells": [
  {
   "cell_type": "markdown",
   "metadata": {},
   "source": [
    "# Computer Book A, Activity 6\n",
    "\n",
    "Using `ggplot2` to  plot a bar chart of aggregated data.\n",
    "We also plot a second bar chart with a different ordering."
   ]
  },
  {
   "cell_type": "markdown",
   "metadata": {},
   "source": [
    "## Import the tidyverse"
   ]
  },
  {
   "cell_type": "code",
   "execution_count": 1,
   "metadata": {},
   "outputs": [
    {
     "name": "stderr",
     "output_type": "stream",
     "text": [
      "-- \u001b[1mAttaching packages\u001b[22m ------------------------------------------------------------------------------- tidyverse 1.3.0 --\n",
      "\n",
      "\u001b[32mv\u001b[39m \u001b[34mggplot2\u001b[39m 3.3.3     \u001b[32mv\u001b[39m \u001b[34mpurrr  \u001b[39m 0.3.4\n",
      "\u001b[32mv\u001b[39m \u001b[34mtibble \u001b[39m 3.0.5     \u001b[32mv\u001b[39m \u001b[34mdplyr  \u001b[39m 1.0.3\n",
      "\u001b[32mv\u001b[39m \u001b[34mtidyr  \u001b[39m 1.1.2     \u001b[32mv\u001b[39m \u001b[34mstringr\u001b[39m 1.4.0\n",
      "\u001b[32mv\u001b[39m \u001b[34mreadr  \u001b[39m 1.4.0     \u001b[32mv\u001b[39m \u001b[34mforcats\u001b[39m 0.5.0\n",
      "\n",
      "-- \u001b[1mConflicts\u001b[22m ---------------------------------------------------------------------------------- tidyverse_conflicts() --\n",
      "\u001b[31mx\u001b[39m \u001b[34mdplyr\u001b[39m::\u001b[32mfilter()\u001b[39m masks \u001b[34mstats\u001b[39m::filter()\n",
      "\u001b[31mx\u001b[39m \u001b[34mdplyr\u001b[39m::\u001b[32mlag()\u001b[39m    masks \u001b[34mstats\u001b[39m::lag()\n",
      "\n"
     ]
    }
   ],
   "source": [
    "library(tidyverse)"
   ]
  },
  {
   "cell_type": "markdown",
   "metadata": {},
   "source": [
    "## Data import"
   ]
  },
  {
   "cell_type": "code",
   "execution_count": 2,
   "metadata": {},
   "outputs": [
    {
     "data": {
      "text/html": [
       "<table class=\"dataframe\">\n",
       "<caption>A data.frame: 6 × 4</caption>\n",
       "<thead>\n",
       "\t<tr><th></th><th scope=col>Occupation.type</th><th scope=col>Male</th><th scope=col>Female</th><th scope=col>Total</th></tr>\n",
       "\t<tr><th></th><th scope=col>&lt;chr&gt;</th><th scope=col>&lt;dbl&gt;</th><th scope=col>&lt;dbl&gt;</th><th scope=col>&lt;dbl&gt;</th></tr>\n",
       "</thead>\n",
       "<tbody>\n",
       "\t<tr><th scope=row>1</th><td>Managers        </td><td>2.118</td><td>1.153</td><td>3.271</td></tr>\n",
       "\t<tr><th scope=row>2</th><td>Professional    </td><td>3.172</td><td>3.014</td><td>6.186</td></tr>\n",
       "\t<tr><th scope=row>3</th><td>Technical       </td><td>2.466</td><td>1.901</td><td>4.367</td></tr>\n",
       "\t<tr><th scope=row>4</th><td>Administrative  </td><td>0.860</td><td>2.480</td><td>3.340</td></tr>\n",
       "\t<tr><th scope=row>5</th><td>Skilled trades  </td><td>3.107</td><td>0.334</td><td>3.441</td></tr>\n",
       "\t<tr><th scope=row>6</th><td>Caring &amp; leisure</td><td>0.520</td><td>2.390</td><td>2.910</td></tr>\n",
       "</tbody>\n",
       "</table>\n"
      ],
      "text/latex": [
       "A data.frame: 6 × 4\n",
       "\\begin{tabular}{r|llll}\n",
       "  & Occupation.type & Male & Female & Total\\\\\n",
       "  & <chr> & <dbl> & <dbl> & <dbl>\\\\\n",
       "\\hline\n",
       "\t1 & Managers         & 2.118 & 1.153 & 3.271\\\\\n",
       "\t2 & Professional     & 3.172 & 3.014 & 6.186\\\\\n",
       "\t3 & Technical        & 2.466 & 1.901 & 4.367\\\\\n",
       "\t4 & Administrative   & 0.860 & 2.480 & 3.340\\\\\n",
       "\t5 & Skilled trades   & 3.107 & 0.334 & 3.441\\\\\n",
       "\t6 & Caring \\& leisure & 0.520 & 2.390 & 2.910\\\\\n",
       "\\end{tabular}\n"
      ],
      "text/markdown": [
       "\n",
       "A data.frame: 6 × 4\n",
       "\n",
       "| <!--/--> | Occupation.type &lt;chr&gt; | Male &lt;dbl&gt; | Female &lt;dbl&gt; | Total &lt;dbl&gt; |\n",
       "|---|---|---|---|---|\n",
       "| 1 | Managers         | 2.118 | 1.153 | 3.271 |\n",
       "| 2 | Professional     | 3.172 | 3.014 | 6.186 |\n",
       "| 3 | Technical        | 2.466 | 1.901 | 4.367 |\n",
       "| 4 | Administrative   | 0.860 | 2.480 | 3.340 |\n",
       "| 5 | Skilled trades   | 3.107 | 0.334 | 3.441 |\n",
       "| 6 | Caring &amp; leisure | 0.520 | 2.390 | 2.910 |\n",
       "\n"
      ],
      "text/plain": [
       "  Occupation.type  Male  Female Total\n",
       "1 Managers         2.118 1.153  3.271\n",
       "2 Professional     3.172 3.014  6.186\n",
       "3 Technical        2.466 1.901  4.367\n",
       "4 Administrative   0.860 2.480  3.340\n",
       "5 Skilled trades   3.107 0.334  3.441\n",
       "6 Caring & leisure 0.520 2.390  2.910"
      ]
     },
     "metadata": {},
     "output_type": "display_data"
    }
   ],
   "source": [
    "# import the data\n",
    "x <- read.csv(\"../data/workforce.csv\")\n",
    "\n",
    "# preview the data.frame\n",
    "head(x)"
   ]
  },
  {
   "cell_type": "markdown",
   "metadata": {},
   "source": [
    "## Plot the data"
   ]
  },
  {
   "cell_type": "code",
   "execution_count": 3,
   "metadata": {},
   "outputs": [
    {
     "data": {
      "image/png": "[encoded data removed]",
      "text/plain": [
       "plot without title"
      ]
     },
     "metadata": {
      "image/png": {
       "height": 420,
       "width": 420
      }
     },
     "output_type": "display_data"
    }
   ],
   "source": [
    "# build the bar chart of Total employment by Occupation.type\n",
    "g <- ggplot(data = x, aes(x = Occupation.type, y = Total))\n",
    "g <- g + geom_bar(stat = \"identity\")  # plot the actual value in the data\n",
    "g <- g + labs(x = \"\", y = \"Total employement\")\n",
    "\n",
    "# visualise the plot\n",
    "g"
   ]
  },
  {
   "cell_type": "markdown",
   "metadata": {},
   "source": [
    "## Changing the order of the bars"
   ]
  },
  {
   "cell_type": "code",
   "execution_count": 5,
   "metadata": {},
   "outputs": [
    {
     "data": {
      "image/png": "[encoded data removed]",
      "text/plain": [
       "plot without title"
      ]
     },
     "metadata": {
      "image/png": {
       "height": 420,
       "width": 420
      }
     },
     "output_type": "display_data"
    }
   ],
   "source": [
    "# reorder the bar chart in descending order (indicated by the -)\n",
    "g <- ggplot(data = x, aes(x = reorder(Occupation.type, -Total), y = Total))\n",
    "g <- g + geom_bar(stat = \"identity\")  # plot the actual value in the data\n",
    "g <- g + labs(x = \"\", y = \"Total employement (mi)\")\n",
    "\n",
    "# visualise the plot\n",
    "g"
   ]
  }
 ],
 "metadata": {
  "kernelspec": {
   "display_name": "R 4.0.3",
   "language": "R",
   "name": "ir403"
  },
  "language_info": {
   "codemirror_mode": "r",
   "file_extension": ".r",
   "mimetype": "text/x-r-source",
   "name": "R",
   "pygments_lexer": "r",
   "version": "4.0.3"
  }
 },
 "nbformat": 4,
 "nbformat_minor": 4
}
