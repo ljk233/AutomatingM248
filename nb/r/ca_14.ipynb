{
 "cells": [
  {
   "cell_type": "markdown",
   "metadata": {},
   "source": [
    "# Computer Book A, Activity 14\n",
    "\n",
    "Use `dplyr` to calculate and display numerical summaries of some data.\n",
    "\n",
    "- Sample mean\n",
    "- Sample median\n",
    "- Sample quartiles\n",
    "- Sample IQR\n",
    "- Sample standard deviation"
   ]
  },
  {
   "cell_type": "markdown",
   "metadata": {},
   "source": [
    "## Import the tidyverse"
   ]
  },
  {
   "cell_type": "code",
   "execution_count": 1,
   "metadata": {},
   "outputs": [
    {
     "name": "stderr",
     "output_type": "stream",
     "text": [
      "-- \u001b[1mAttaching packages\u001b[22m ------------------------------------------------------------------------------- tidyverse 1.3.0 --\n",
      "\n",
      "\u001b[32mv\u001b[39m \u001b[34mggplot2\u001b[39m 3.3.3     \u001b[32mv\u001b[39m \u001b[34mpurrr  \u001b[39m 0.3.4\n",
      "\u001b[32mv\u001b[39m \u001b[34mtibble \u001b[39m 3.0.5     \u001b[32mv\u001b[39m \u001b[34mdplyr  \u001b[39m 1.0.3\n",
      "\u001b[32mv\u001b[39m \u001b[34mtidyr  \u001b[39m 1.1.2     \u001b[32mv\u001b[39m \u001b[34mstringr\u001b[39m 1.4.0\n",
      "\u001b[32mv\u001b[39m \u001b[34mreadr  \u001b[39m 1.4.0     \u001b[32mv\u001b[39m \u001b[34mforcats\u001b[39m 0.5.0\n",
      "\n",
      "-- \u001b[1mConflicts\u001b[22m ---------------------------------------------------------------------------------- tidyverse_conflicts() --\n",
      "\u001b[31mx\u001b[39m \u001b[34mdplyr\u001b[39m::\u001b[32mfilter()\u001b[39m masks \u001b[34mstats\u001b[39m::filter()\n",
      "\u001b[31mx\u001b[39m \u001b[34mdplyr\u001b[39m::\u001b[32mlag()\u001b[39m    masks \u001b[34mstats\u001b[39m::lag()\n",
      "\n"
     ]
    }
   ],
   "source": [
    "library(tidyverse)"
   ]
  },
  {
   "cell_type": "markdown",
   "metadata": {},
   "source": [
    "## Data import"
   ]
  },
  {
   "cell_type": "code",
   "execution_count": 2,
   "metadata": {},
   "outputs": [
    {
     "data": {
      "text/html": [
       "<table class=\"dataframe\">\n",
       "<caption>A data.frame: 6 × 4</caption>\n",
       "<thead>\n",
       "\t<tr><th></th><th scope=col>ID</th><th scope=col>Group</th><th scope=col>Gender</th><th scope=col>Weight.change</th></tr>\n",
       "\t<tr><th></th><th scope=col>&lt;int&gt;</th><th scope=col>&lt;int&gt;</th><th scope=col>&lt;int&gt;</th><th scope=col>&lt;dbl&gt;</th></tr>\n",
       "</thead>\n",
       "<tbody>\n",
       "\t<tr><th scope=row>1</th><td>1</td><td>1</td><td>1</td><td>-0.6</td></tr>\n",
       "\t<tr><th scope=row>2</th><td>2</td><td>1</td><td>1</td><td> 1.0</td></tr>\n",
       "\t<tr><th scope=row>3</th><td>3</td><td>1</td><td>1</td><td> 0.2</td></tr>\n",
       "\t<tr><th scope=row>4</th><td>4</td><td>0</td><td>1</td><td> 0.8</td></tr>\n",
       "\t<tr><th scope=row>5</th><td>5</td><td>1</td><td>1</td><td>-1.9</td></tr>\n",
       "\t<tr><th scope=row>6</th><td>6</td><td>1</td><td>1</td><td>-1.3</td></tr>\n",
       "</tbody>\n",
       "</table>\n"
      ],
      "text/latex": [
       "A data.frame: 6 × 4\n",
       "\\begin{tabular}{r|llll}\n",
       "  & ID & Group & Gender & Weight.change\\\\\n",
       "  & <int> & <int> & <int> & <dbl>\\\\\n",
       "\\hline\n",
       "\t1 & 1 & 1 & 1 & -0.6\\\\\n",
       "\t2 & 2 & 1 & 1 &  1.0\\\\\n",
       "\t3 & 3 & 1 & 1 &  0.2\\\\\n",
       "\t4 & 4 & 0 & 1 &  0.8\\\\\n",
       "\t5 & 5 & 1 & 1 & -1.9\\\\\n",
       "\t6 & 6 & 1 & 1 & -1.3\\\\\n",
       "\\end{tabular}\n"
      ],
      "text/markdown": [
       "\n",
       "A data.frame: 6 × 4\n",
       "\n",
       "| <!--/--> | ID &lt;int&gt; | Group &lt;int&gt; | Gender &lt;int&gt; | Weight.change &lt;dbl&gt; |\n",
       "|---|---|---|---|---|\n",
       "| 1 | 1 | 1 | 1 | -0.6 |\n",
       "| 2 | 2 | 1 | 1 |  1.0 |\n",
       "| 3 | 3 | 1 | 1 |  0.2 |\n",
       "| 4 | 4 | 0 | 1 |  0.8 |\n",
       "| 5 | 5 | 1 | 1 | -1.9 |\n",
       "| 6 | 6 | 1 | 1 | -1.3 |\n",
       "\n"
      ],
      "text/plain": [
       "  ID Group Gender Weight.change\n",
       "1 1  1     1      -0.6         \n",
       "2 2  1     1       1.0         \n",
       "3 3  1     1       0.2         \n",
       "4 4  0     1       0.8         \n",
       "5 5  1     1      -1.9         \n",
       "6 6  1     1      -1.3         "
      ]
     },
     "metadata": {},
     "output_type": "display_data"
    }
   ],
   "source": [
    "# import the data\n",
    "x <- read.csv(\"../data/response-inhibition.csv\")\n",
    "\n",
    "# preview the data.frame\n",
    "head(x)"
   ]
  },
  {
   "cell_type": "markdown",
   "metadata": {},
   "source": [
    "## Summary table\n",
    "\n",
    "There are two methods we can use."
   ]
  },
  {
   "cell_type": "code",
   "execution_count": 3,
   "metadata": {},
   "outputs": [
    {
     "data": {
      "text/plain": [
       " Weight.change    \n",
       " Min.   :-7.0000  \n",
       " 1st Qu.:-0.9000  \n",
       " Median :-0.2000  \n",
       " Mean   :-0.2444  \n",
       " 3rd Qu.: 0.6000  \n",
       " Max.   : 3.6000  \n",
       " NA's   :2        "
      ]
     },
     "metadata": {},
     "output_type": "display_data"
    }
   ],
   "source": [
    "# Method 1\n",
    "summary(x[\"Weight.change\"])"
   ]
  },
  {
   "cell_type": "code",
   "execution_count": 4,
   "metadata": {},
   "outputs": [
    {
     "data": {
      "text/html": [
       "<table class=\"dataframe\">\n",
       "<caption>A data.frame: 1 × 8</caption>\n",
       "<thead>\n",
       "\t<tr><th scope=col>count</th><th scope=col>count.na</th><th scope=col>mean</th><th scope=col>q1</th><th scope=col>median</th><th scope=col>q3</th><th scope=col>iqr</th><th scope=col>std</th></tr>\n",
       "\t<tr><th scope=col>&lt;int&gt;</th><th scope=col>&lt;int&gt;</th><th scope=col>&lt;dbl&gt;</th><th scope=col>&lt;dbl&gt;</th><th scope=col>&lt;dbl&gt;</th><th scope=col>&lt;dbl&gt;</th><th scope=col>&lt;dbl&gt;</th><th scope=col>&lt;dbl&gt;</th></tr>\n",
       "</thead>\n",
       "<tbody>\n",
       "\t<tr><td>81</td><td>2</td><td>-0.2444444</td><td>-0.9</td><td>-0.2</td><td>0.6</td><td>1.5</td><td>1.524139</td></tr>\n",
       "</tbody>\n",
       "</table>\n"
      ],
      "text/latex": [
       "A data.frame: 1 × 8\n",
       "\\begin{tabular}{llllllll}\n",
       " count & count.na & mean & q1 & median & q3 & iqr & std\\\\\n",
       " <int> & <int> & <dbl> & <dbl> & <dbl> & <dbl> & <dbl> & <dbl>\\\\\n",
       "\\hline\n",
       "\t 81 & 2 & -0.2444444 & -0.9 & -0.2 & 0.6 & 1.5 & 1.524139\\\\\n",
       "\\end{tabular}\n"
      ],
      "text/markdown": [
       "\n",
       "A data.frame: 1 × 8\n",
       "\n",
       "| count &lt;int&gt; | count.na &lt;int&gt; | mean &lt;dbl&gt; | q1 &lt;dbl&gt; | median &lt;dbl&gt; | q3 &lt;dbl&gt; | iqr &lt;dbl&gt; | std &lt;dbl&gt; |\n",
       "|---|---|---|---|---|---|---|---|\n",
       "| 81 | 2 | -0.2444444 | -0.9 | -0.2 | 0.6 | 1.5 | 1.524139 |\n",
       "\n"
      ],
      "text/plain": [
       "  count count.na mean       q1   median q3  iqr std     \n",
       "1 81    2        -0.2444444 -0.9 -0.2   0.6 1.5 1.524139"
      ]
     },
     "metadata": {},
     "output_type": "display_data"
    }
   ],
   "source": [
    "# Method 2, using dplyr\n",
    "# construct a bespoke table\n",
    "data <- as_tibble(x)\n",
    "\n",
    "x %>%\n",
    "  summarise(count = n() - sum(is.na(Weight.change)),\n",
    "            count.na = sum(is.na(Weight.change)),\n",
    "            mean = mean(x = Weight.change, na.rm = TRUE),\n",
    "            q1 = quantile(x = Weight.change, na.rm = TRUE, prob = 0.25),\n",
    "            median = median(x = Weight.change, na.rm = TRUE),\n",
    "            q3 = quantile(x = Weight.change, na.rm = TRUE, prob = 0.75),\n",
    "            iqr = IQR(x = Weight.change, na.rm = TRUE),\n",
    "            std = sd(x = Weight.change, na.rm = TRUE))"
   ]
  },
  {
   "cell_type": "markdown",
   "metadata": {},
   "source": [
    "## Individual summary measures"
   ]
  },
  {
   "cell_type": "code",
   "execution_count": 5,
   "metadata": {},
   "outputs": [],
   "source": [
    "# Assign the field as a local var\n",
    "w <- x$Weight.change"
   ]
  },
  {
   "cell_type": "code",
   "execution_count": 6,
   "metadata": {},
   "outputs": [
    {
     "data": {
      "text/html": [
       "81"
      ],
      "text/latex": [
       "81"
      ],
      "text/markdown": [
       "81"
      ],
      "text/plain": [
       "[1] 81"
      ]
     },
     "metadata": {},
     "output_type": "display_data"
    }
   ],
   "source": [
    "# sample size\n",
    "sum(complete.cases(w))"
   ]
  },
  {
   "cell_type": "code",
   "execution_count": 7,
   "metadata": {},
   "outputs": [
    {
     "data": {
      "text/html": [
       "-0.244444444444444"
      ],
      "text/latex": [
       "-0.244444444444444"
      ],
      "text/markdown": [
       "-0.244444444444444"
      ],
      "text/plain": [
       "[1] -0.2444444"
      ]
     },
     "metadata": {},
     "output_type": "display_data"
    }
   ],
   "source": [
    "# sample mean\n",
    "mean(x = w, na.rm = TRUE)"
   ]
  },
  {
   "cell_type": "code",
   "execution_count": 8,
   "metadata": {},
   "outputs": [
    {
     "data": {
      "text/html": [
       "-0.2"
      ],
      "text/latex": [
       "-0.2"
      ],
      "text/markdown": [
       "-0.2"
      ],
      "text/plain": [
       "[1] -0.2"
      ]
     },
     "metadata": {},
     "output_type": "display_data"
    }
   ],
   "source": [
    "# sample median\n",
    "median(x = w, na.rm = TRUE)"
   ]
  },
  {
   "cell_type": "code",
   "execution_count": 9,
   "metadata": {},
   "outputs": [
    {
     "data": {
      "text/html": [
       "<strong>25%:</strong> -0.9"
      ],
      "text/latex": [
       "\\textbf{25\\textbackslash{}\\%:} -0.9"
      ],
      "text/markdown": [
       "**25%:** -0.9"
      ],
      "text/plain": [
       " 25% \n",
       "-0.9 "
      ]
     },
     "metadata": {},
     "output_type": "display_data"
    }
   ],
   "source": [
    "# lower sample quartile\n",
    "quantile(x = w, na.rm = TRUE, prob = 0.25)"
   ]
  },
  {
   "cell_type": "code",
   "execution_count": 10,
   "metadata": {},
   "outputs": [
    {
     "data": {
      "text/html": [
       "<strong>75%:</strong> 0.6"
      ],
      "text/latex": [
       "\\textbf{75\\textbackslash{}\\%:} 0.6"
      ],
      "text/markdown": [
       "**75%:** 0.6"
      ],
      "text/plain": [
       "75% \n",
       "0.6 "
      ]
     },
     "metadata": {},
     "output_type": "display_data"
    }
   ],
   "source": [
    "# upper sample quartile\n",
    "quantile(x = w, na.rm = TRUE, prob = 0.75)"
   ]
  },
  {
   "cell_type": "code",
   "execution_count": 11,
   "metadata": {},
   "outputs": [
    {
     "data": {
      "text/html": [
       "1.5"
      ],
      "text/latex": [
       "1.5"
      ],
      "text/markdown": [
       "1.5"
      ],
      "text/plain": [
       "[1] 1.5"
      ]
     },
     "metadata": {},
     "output_type": "display_data"
    }
   ],
   "source": [
    "# sample IQR\n",
    "IQR(x = w, na.rm = TRUE)"
   ]
  },
  {
   "cell_type": "code",
   "execution_count": 12,
   "metadata": {},
   "outputs": [
    {
     "data": {
      "text/html": [
       "1.5241391012634"
      ],
      "text/latex": [
       "1.5241391012634"
      ],
      "text/markdown": [
       "1.5241391012634"
      ],
      "text/plain": [
       "[1] 1.524139"
      ]
     },
     "metadata": {},
     "output_type": "display_data"
    }
   ],
   "source": [
    "# sample standard deviation\n",
    "sd(x = w, na.rm = TRUE)"
   ]
  }
 ],
 "metadata": {
  "kernelspec": {
   "display_name": "R 4.0.3",
   "language": "R",
   "name": "ir403"
  },
  "language_info": {
   "codemirror_mode": "r",
   "file_extension": ".r",
   "mimetype": "text/x-r-source",
   "name": "R",
   "pygments_lexer": "r",
   "version": "4.0.3"
  }
 },
 "nbformat": 4,
 "nbformat_minor": 4
}
