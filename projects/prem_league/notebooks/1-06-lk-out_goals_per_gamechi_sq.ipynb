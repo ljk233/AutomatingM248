{
 "cells": [
  {
   "cell_type": "markdown",
   "metadata": {},
   "source": [
    "# 1.6 Constructing data: goals_per_game_chi_sq\n",
    "\n",
    "**date**\n",
    ": 2021-04-11\n",
    "\n",
    "**desc**\n",
    ": Categorise the total goals per game, giving games with 7+ goals the combined categoy `7+`.\n",
    "This is done because all expected number of goals must be 5+.\n",
    "\n",
    "**in**\n",
    ": \"data/out/goal_times.csv\"\n",
    "\n",
    "**out**\n",
    ": \"data/out/goals_per_game_chi_sq.csv\""
   ]
  },
  {
   "cell_type": "code",
   "execution_count": 1,
   "metadata": {},
   "outputs": [],
   "source": [
    "import pandas as pd\n",
    "import numpy as np\n",
    "from scipy.stats import poisson\n",
    "from src.data import Data"
   ]
  },
  {
   "cell_type": "code",
   "execution_count": 2,
   "metadata": {},
   "outputs": [],
   "source": [
    "# read data in\n",
    "df_in = Data.load_goals_per_game()"
   ]
  },
  {
   "cell_type": "markdown",
   "metadata": {},
   "source": [
    "We calculate the **mean** number of goals scored and the **number of observation** for use generating the probability mass function."
   ]
  },
  {
   "cell_type": "code",
   "execution_count": 3,
   "metadata": {},
   "outputs": [],
   "source": [
    "mean = df_in[\"total_goal_count\"].mean()"
   ]
  },
  {
   "cell_type": "code",
   "execution_count": 4,
   "metadata": {},
   "outputs": [],
   "source": [
    "size = df_in[\"total_goal_count\"].size"
   ]
  },
  {
   "cell_type": "markdown",
   "metadata": {},
   "source": [
    "We begin to aggregate the data by first making a copy and then recoding total goal counts 7, 8 with 7+."
   ]
  },
  {
   "cell_type": "code",
   "execution_count": 5,
   "metadata": {},
   "outputs": [],
   "source": [
    "df_out = df_in.copy(deep=True)"
   ]
  },
  {
   "cell_type": "code",
   "execution_count": 6,
   "metadata": {},
   "outputs": [],
   "source": [
    "# recode 7, 8\n",
    "df_out[\"total_goal_count\"].replace({7: \"7+\", 8: \"7+\"}, inplace=True)"
   ]
  },
  {
   "cell_type": "code",
   "execution_count": 7,
   "metadata": {},
   "outputs": [],
   "source": [
    "# aggegate the games by total_goal_count to calculate the observed frequencies\n",
    "df_chi_sq = df_out.groupby([\"total_goal_count\"])[[\"total_goal_count\"]].count()"
   ]
  },
  {
   "cell_type": "markdown",
   "metadata": {},
   "source": [
    "We need to transform the `DataFrame` so it can be used further."
   ]
  },
  {
   "cell_type": "code",
   "execution_count": 8,
   "metadata": {},
   "outputs": [],
   "source": [
    "# rename the count column\n",
    "df_chi_sq.rename(columns={\"total_goal_count\": \"Observed\"}, inplace=True)"
   ]
  },
  {
   "cell_type": "code",
   "execution_count": 9,
   "metadata": {},
   "outputs": [],
   "source": [
    "# ungroup the data, preserving the count\n",
    "df_chi_sq.reset_index(inplace=True)"
   ]
  },
  {
   "cell_type": "code",
   "execution_count": 10,
   "metadata": {},
   "outputs": [],
   "source": [
    "# rename the count column\n",
    "df_chi_sq.rename(columns={\"total_goal_count\": \"X\"}, inplace=True)"
   ]
  },
  {
   "cell_type": "markdown",
   "metadata": {},
   "source": [
    "Calculate the probability mass function using **Poisson(mean)**.\n",
    "\n",
    "Note because `7+` is not a number we calculate its **Pr** as **Pr**(X $\\geq$ 7) = 1 - **Pr**(X $\\leq$ 6)"
   ]
  },
  {
   "cell_type": "code",
   "execution_count": 11,
   "metadata": {},
   "outputs": [],
   "source": [
    "# generate range of X\n",
    "X = np.arange(start=0, stop=7)"
   ]
  },
  {
   "cell_type": "code",
   "execution_count": 12,
   "metadata": {},
   "outputs": [],
   "source": [
    "# generate the pmf of Poisson(mean)\n",
    "Pr = list(poisson(mean).pmf(X))"
   ]
  },
  {
   "cell_type": "code",
   "execution_count": 13,
   "metadata": {},
   "outputs": [],
   "source": [
    "# add the final Pr: Pr(X>=7)\n",
    "Pr.append(1 - poisson(mean).cdf(6))"
   ]
  },
  {
   "cell_type": "code",
   "execution_count": 14,
   "metadata": {},
   "outputs": [],
   "source": [
    "# append the Pr to the df\n",
    "df_chi_sq[\"Pr\"] = Pr"
   ]
  },
  {
   "cell_type": "markdown",
   "metadata": {},
   "source": [
    "Add the expected frequencies: Pr(X=x) * size"
   ]
  },
  {
   "cell_type": "code",
   "execution_count": 15,
   "metadata": {},
   "outputs": [],
   "source": [
    "# calculate the expected observations\n",
    "df_chi_sq[\"Expected\"] = df_chi_sq[\"Pr\"] * size"
   ]
  },
  {
   "cell_type": "markdown",
   "metadata": {},
   "source": [
    "Calculate the chi-squared contributions"
   ]
  },
  {
   "cell_type": "code",
   "execution_count": 16,
   "metadata": {},
   "outputs": [],
   "source": [
    "df_chi_sq[\"chi-sq contribution\"] = (\n",
    "    ((df_chi_sq[\"Observed\"] - df_chi_sq[\"Expected\"])**2)/df_chi_sq[\"Expected\"]\n",
    ")"
   ]
  },
  {
   "cell_type": "markdown",
   "metadata": {},
   "source": [
    "Output the file for later analysis."
   ]
  },
  {
   "cell_type": "code",
   "execution_count": 17,
   "metadata": {},
   "outputs": [],
   "source": [
    "# output file\n",
    "df_chi_sq.to_csv(Data.PATH_OUT + \"goals_per_game_chi_sq.csv\", index=False)"
   ]
  }
 ],
 "metadata": {
  "kernelspec": {
   "display_name": "Python 3",
   "language": "python",
   "name": "python3"
  },
  "language_info": {
   "codemirror_mode": {
    "name": "ipython",
    "version": 3
   },
   "file_extension": ".py",
   "mimetype": "text/x-python",
   "name": "python",
   "nbconvert_exporter": "python",
   "pygments_lexer": "ipython3",
   "version": "3.8.3"
  }
 },
 "nbformat": 4,
 "nbformat_minor": 4
}
