{
 "cells": [
  {
   "cell_type": "markdown",
   "metadata": {},
   "source": [
    "# 1.3 Constructing data: goal_times.csv\n",
    "\n",
    "~~~\n",
    "THIS NEEDS TO BE REFACTORED\n",
    "~~~\n",
    "\n",
    "**date**\n",
    ": 2021-04-11\n",
    "\n",
    "**desc**\n",
    ": The goal times in the source are comma separated `str`.\n",
    "An algorithm has been included before each part of the process.\n",
    "We use string comprehension to:\n",
    "\n",
    "1. split the `str` to `list(str)` by detecting the `,`\n",
    "2. convert the list elements of `str` literals to `int` literals\n",
    "3. combine the two `list(int)` into one unordered `list(int)`\n",
    "4. sort the combined `list(int)` into ascending order\n",
    "5. construct a `dict(int, list(int))`, where the key is the `game_id`, and `list(int)` in the output from step 4.\n",
    "\n",
    "**in**\n",
    ": \"data/out/epl_1819_game_id.csv\"\n",
    "\n",
    "**out**\n",
    ": \"data/out/goal_times.csv\"\n",
    "\n",
    "3. **waiting_time_goals.csv**\n",
    "    - source: **epl_1819_game_id.csv**\n",
    "    - `game_id`\n",
    "    - `time_interval`\n",
    "4. **global_time_of_goal.csv**\n",
    "    - source: **waiting_time_goals.csv**\n",
    "    - `goal_id`\n",
    "    - `global_time`"
   ]
  },
  {
   "cell_type": "code",
   "execution_count": 1,
   "metadata": {},
   "outputs": [],
   "source": [
    "import pandas as pd\n",
    "import numpy as np\n",
    "from src.data import Data\n",
    "from src.list_comprehension import ListComprehension"
   ]
  },
  {
   "cell_type": "code",
   "execution_count": 2,
   "metadata": {},
   "outputs": [],
   "source": [
    "# read data in\n",
    "df_in = Data.load_epl_1819_game_id()"
   ]
  },
  {
   "cell_type": "code",
   "execution_count": 3,
   "metadata": {},
   "outputs": [],
   "source": [
    "# replace NaN values with \"NaN\"\n",
    "df_in[\"home_team_goal_timings\"].fillna(value=\"NaN\", inplace=True)\n",
    "df_in[\"away_team_goal_timings\"].fillna(value=\"NaN\", inplace=True)"
   ]
  },
  {
   "cell_type": "code",
   "execution_count": 4,
   "metadata": {},
   "outputs": [
    {
     "data": {
      "text/html": [
       "<div>\n",
       "<style scoped>\n",
       "    .dataframe tbody tr th:only-of-type {\n",
       "        vertical-align: middle;\n",
       "    }\n",
       "\n",
       "    .dataframe tbody tr th {\n",
       "        vertical-align: top;\n",
       "    }\n",
       "\n",
       "    .dataframe thead th {\n",
       "        text-align: right;\n",
       "    }\n",
       "</style>\n",
       "<table border=\"1\" class=\"dataframe\">\n",
       "  <thead>\n",
       "    <tr style=\"text-align: right;\">\n",
       "      <th></th>\n",
       "      <th>total_goal_count</th>\n",
       "      <th>home_team_goal_timings</th>\n",
       "      <th>away_team_goal_timings</th>\n",
       "      <th>game_id</th>\n",
       "    </tr>\n",
       "  </thead>\n",
       "  <tbody>\n",
       "    <tr>\n",
       "      <th>0</th>\n",
       "      <td>3</td>\n",
       "      <td>3,83</td>\n",
       "      <td>90'2</td>\n",
       "      <td>0</td>\n",
       "    </tr>\n",
       "    <tr>\n",
       "      <th>1</th>\n",
       "      <td>3</td>\n",
       "      <td>11</td>\n",
       "      <td>8,18</td>\n",
       "      <td>1</td>\n",
       "    </tr>\n",
       "    <tr>\n",
       "      <th>2</th>\n",
       "      <td>2</td>\n",
       "      <td>24,90'1</td>\n",
       "      <td>NaN</td>\n",
       "      <td>2</td>\n",
       "    </tr>\n",
       "    <tr>\n",
       "      <th>3</th>\n",
       "      <td>2</td>\n",
       "      <td>NaN</td>\n",
       "      <td>41,79</td>\n",
       "      <td>3</td>\n",
       "    </tr>\n",
       "    <tr>\n",
       "      <th>4</th>\n",
       "      <td>3</td>\n",
       "      <td>NaN</td>\n",
       "      <td>34,45,80</td>\n",
       "      <td>4</td>\n",
       "    </tr>\n",
       "  </tbody>\n",
       "</table>\n",
       "</div>"
      ],
      "text/plain": [
       "   total_goal_count home_team_goal_timings away_team_goal_timings  game_id\n",
       "0                 3                   3,83                   90'2        0\n",
       "1                 3                     11                   8,18        1\n",
       "2                 2                24,90'1                    NaN        2\n",
       "3                 2                    NaN                  41,79        3\n",
       "4                 3                    NaN               34,45,80        4"
      ]
     },
     "execution_count": 4,
     "metadata": {},
     "output_type": "execute_result"
    }
   ],
   "source": [
    "df_in.head()"
   ]
  },
  {
   "cell_type": "code",
   "execution_count": 5,
   "metadata": {},
   "outputs": [],
   "source": [
    "# construct three lists for processing\n",
    "game_id: list = df_in[\"game_id\"].to_list()\n",
    "home_timings: list = df_in[\"home_team_goal_timings\"].to_list()\n",
    "away_timings: list = df_in[\"away_team_goal_timings\"].to_list()"
   ]
  },
  {
   "cell_type": "markdown",
   "metadata": {},
   "source": [
    "## Step 1\n",
    "\n",
    "Transfrom: `list(str) -> list(list(str))`"
   ]
  },
  {
   "cell_type": "code",
   "execution_count": 6,
   "metadata": {},
   "outputs": [],
   "source": [
    "# process home goals\n",
    "home_goal_times: list = ListComprehension.comma_separated_strings_to_list(\n",
    "    home_timings\n",
    ")"
   ]
  },
  {
   "cell_type": "code",
   "execution_count": 7,
   "metadata": {},
   "outputs": [],
   "source": [
    "# process away goals\n",
    "away_goal_times: list = ListComprehension.comma_separated_strings_to_list(\n",
    "    away_timings\n",
    ")"
   ]
  },
  {
   "cell_type": "markdown",
   "metadata": {},
   "source": [
    "## Step 2\n",
    "\n",
    "Transform: `list(list(str)) -> list(list(int))`"
   ]
  },
  {
   "cell_type": "code",
   "execution_count": 8,
   "metadata": {},
   "outputs": [],
   "source": [
    "# process home\n",
    "int_home_goal_times = ListComprehension.list_str_to_list_int(\n",
    "    home_goal_times\n",
    ")"
   ]
  },
  {
   "cell_type": "code",
   "execution_count": 9,
   "metadata": {},
   "outputs": [],
   "source": [
    "# process away\n",
    "int_away_goal_times = ListComprehension.list_str_to_list_int(\n",
    "    away_goal_times\n",
    ")"
   ]
  },
  {
   "cell_type": "markdown",
   "metadata": {},
   "source": [
    "## Step 3\n",
    "\n",
    "Combine each list element with its partner so we get one `list(list(int))`"
   ]
  },
  {
   "cell_type": "code",
   "execution_count": 10,
   "metadata": {},
   "outputs": [],
   "source": [
    "merged_goal_times = ListComprehension.merge_lists(\n",
    "    int_home_goal_times,\n",
    "    int_away_goal_times\n",
    ")"
   ]
  },
  {
   "cell_type": "markdown",
   "metadata": {},
   "source": [
    "## Step 4\n",
    "\n",
    "Sort each list of goal times into ascending order."
   ]
  },
  {
   "cell_type": "code",
   "execution_count": 11,
   "metadata": {},
   "outputs": [],
   "source": [
    "sorted_goal_times = ListComprehension.sort_lists(\n",
    "    merged_goal_times\n",
    ")"
   ]
  },
  {
   "cell_type": "markdown",
   "metadata": {},
   "source": [
    "## Step 5\n",
    "\n",
    "Created two partner lists.\n",
    "\n",
    "One will be a `list(int)`, where each `int` is a goal time.\n",
    "The second will be a goal's `game_id`.\n",
    "\n",
    "They are partnered in the sense that elem `i` in both lists will be related."
   ]
  },
  {
   "cell_type": "code",
   "execution_count": 12,
   "metadata": {},
   "outputs": [],
   "source": [
    "game_ids, goal_times = ListComprehension.create_linked_lists(\n",
    "    sorted_goal_times\n",
    ")"
   ]
  },
  {
   "cell_type": "markdown",
   "metadata": {},
   "source": [
    "## Step 6\n",
    "\n",
    "We now creates a `DataFrame` of `games_ids, goal_times` and output to a csv file."
   ]
  },
  {
   "cell_type": "code",
   "execution_count": 13,
   "metadata": {},
   "outputs": [],
   "source": [
    "df_out = pd.DataFrame()"
   ]
  },
  {
   "cell_type": "code",
   "execution_count": 14,
   "metadata": {},
   "outputs": [],
   "source": [
    "# add the game_ids and goal_times\n",
    "df_out[\"game_ids\"] = game_ids\n",
    "df_out[\"goal_times\"] = goal_times"
   ]
  },
  {
   "cell_type": "code",
   "execution_count": 15,
   "metadata": {},
   "outputs": [],
   "source": [
    "# output file\n",
    "df_out.to_csv(Data.PATH_OUT + \"goal_times.csv\", index=False)"
   ]
  }
 ],
 "metadata": {
  "kernelspec": {
   "display_name": "Python 3",
   "language": "python",
   "name": "python3"
  },
  "language_info": {
   "codemirror_mode": {
    "name": "ipython",
    "version": 3
   },
   "file_extension": ".py",
   "mimetype": "text/x-python",
   "name": "python",
   "nbconvert_exporter": "python",
   "pygments_lexer": "ipython3",
   "version": "3.8.3"
  }
 },
 "nbformat": 4,
 "nbformat_minor": 4
}