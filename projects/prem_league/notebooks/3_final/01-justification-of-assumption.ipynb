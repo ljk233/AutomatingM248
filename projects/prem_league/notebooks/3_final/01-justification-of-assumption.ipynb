{
 "metadata": {
  "language_info": {
   "codemirror_mode": {
    "name": "ipython",
    "version": 3
   },
   "file_extension": ".py",
   "mimetype": "text/x-python",
   "name": "python",
   "nbconvert_exporter": "python",
   "pygments_lexer": "ipython3",
   "version": "3.8.3"
  },
  "orig_nbformat": 2,
  "kernelspec": {
   "name": "python383jvsc74a57bd0ff1f241afc5a4c2e07811e38e6858495d05af165b3766e4314a3d7953c54c6af",
   "display_name": "Python 3.8.3 64-bit"
  }
 },
 "nbformat": 4,
 "nbformat_minor": 2,
 "cells": [
  {
   "source": [
    "# Justification for the underlying population\n",
    "\n",
    "**date**\n",
    ": 2021-04-14"
   ],
   "cell_type": "markdown",
   "metadata": {}
  },
  {
   "cell_type": "code",
   "execution_count": null,
   "metadata": {},
   "outputs": [],
   "source": []
  },
  {
   "source": [
    "## Summary"
   ],
   "cell_type": "markdown",
   "metadata": {}
  },
  {
   "source": [
    "## 1. Introduction\n",
    "\n",
    "The notebooks in this series use the English Premier League (EPL) 2018/19 season as a sample to model the EPL as a whole, using the different $z$-tests studied in **M248**.\n",
    "As a small justification for this, we will open the series by comparing the 2018/19 with the 2017/18 season to see if there's any statistical difference between the two.\n",
    "We will then use the result of these analyses to verfy we can justify our modelling of the EPL as a whole using the 2018/19 season.\n",
    "\n",
    "The analyses we wish to carry out are\n",
    "\n",
    "- Are the goals scored uniformally distributed across the 90 minutes? (**chi-squared goodness of-fit**)\n",
    "- Home teams score more than away teams ($z$-**test of population means**)\n",
    "\n",
    "There will be four justification reports.\n",
    "This notebook aims to address the question whether the expected number of goals scored in the 2017/18 season by the **home team** is equal to that of the **home team** in the 2018/19 season. "
   ],
   "cell_type": "markdown",
   "metadata": {}
  },
  {
   "cell_type": "code",
   "execution_count": null,
   "metadata": {},
   "outputs": [],
   "source": []
  }
 ]
}