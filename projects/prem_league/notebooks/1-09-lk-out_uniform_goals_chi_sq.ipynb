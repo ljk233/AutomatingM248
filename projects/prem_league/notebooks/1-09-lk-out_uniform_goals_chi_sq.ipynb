{
 "cells": [
  {
   "cell_type": "markdown",
   "metadata": {},
   "source": [
    "# 1.7 Constructing data: waiting_time_chi_sq.csv\n",
    "\n",
    "**date**\n",
    ": 2021-04-12\n",
    "\n",
    "**desc**\n",
    ": Categorise the number of goals scored per minutes into bandings of 10 minutes.\n",
    "\n",
    "**in**\n",
    ": \"data/out/epl_1819.csv.csv\"\n",
    "\n",
    "**out**\n",
    ": \"data/out/uniform_goals_chi_sq.csv\""
   ]
  },
  {
   "cell_type": "code",
   "execution_count": 1,
   "metadata": {},
   "outputs": [],
   "source": [
    "import pandas as pd\n",
    "import numpy as np\n",
    "from scipy.stats import expon\n",
    "from src.data import Data\n",
    "from src.uniformgoals import UniformGoals\n",
    "from src.list_comprehension import ListComprehension"
   ]
  },
  {
   "cell_type": "code",
   "execution_count": 2,
   "metadata": {},
   "outputs": [],
   "source": [
    "# read data in\n",
    "df_in = Data.load_epl_1819_game_id()"
   ]
  },
  {
   "cell_type": "code",
   "execution_count": 3,
   "metadata": {},
   "outputs": [
    {
     "output_type": "execute_result",
     "data": {
      "text/plain": [
       "   total_goal_count home_team_goal_timings away_team_goal_timings  game_id\n",
       "0                 3                   3,83                   90'2        0\n",
       "1                 3                     11                   8,18        1\n",
       "2                 2                24,90'1                    NaN        2\n",
       "3                 2                    NaN                  41,79        3\n",
       "4                 3                    NaN               34,45,80        4"
      ],
      "text/html": "<div>\n<style scoped>\n    .dataframe tbody tr th:only-of-type {\n        vertical-align: middle;\n    }\n\n    .dataframe tbody tr th {\n        vertical-align: top;\n    }\n\n    .dataframe thead th {\n        text-align: right;\n    }\n</style>\n<table border=\"1\" class=\"dataframe\">\n  <thead>\n    <tr style=\"text-align: right;\">\n      <th></th>\n      <th>total_goal_count</th>\n      <th>home_team_goal_timings</th>\n      <th>away_team_goal_timings</th>\n      <th>game_id</th>\n    </tr>\n  </thead>\n  <tbody>\n    <tr>\n      <th>0</th>\n      <td>3</td>\n      <td>3,83</td>\n      <td>90'2</td>\n      <td>0</td>\n    </tr>\n    <tr>\n      <th>1</th>\n      <td>3</td>\n      <td>11</td>\n      <td>8,18</td>\n      <td>1</td>\n    </tr>\n    <tr>\n      <th>2</th>\n      <td>2</td>\n      <td>24,90'1</td>\n      <td>NaN</td>\n      <td>2</td>\n    </tr>\n    <tr>\n      <th>3</th>\n      <td>2</td>\n      <td>NaN</td>\n      <td>41,79</td>\n      <td>3</td>\n    </tr>\n    <tr>\n      <th>4</th>\n      <td>3</td>\n      <td>NaN</td>\n      <td>34,45,80</td>\n      <td>4</td>\n    </tr>\n  </tbody>\n</table>\n</div>"
     },
     "metadata": {},
     "execution_count": 3
    }
   ],
   "source": [
    "df_in.head()"
   ]
  },
  {
   "source": [
    "We begin to aggregate the data by first filling in the `NaN` values, and then extracting `home_team_goal_timings` and `away_team_goal_timings` as lists.\n",
    "We then combine the lists."
   ],
   "cell_type": "markdown",
   "metadata": {}
  },
  {
   "cell_type": "code",
   "execution_count": 4,
   "metadata": {},
   "outputs": [],
   "source": [
    "# replace NaN values with \"NaN\"\n",
    "df_in[\"home_team_goal_timings\"].fillna(value=\"NaN\", inplace=True)\n",
    "df_in[\"away_team_goal_timings\"].fillna(value=\"NaN\", inplace=True)"
   ]
  },
  {
   "cell_type": "code",
   "execution_count": 5,
   "metadata": {},
   "outputs": [],
   "source": [
    "home = df_in[\"home_team_goal_timings\"].to_list()"
   ]
  },
  {
   "cell_type": "code",
   "execution_count": 6,
   "metadata": {},
   "outputs": [],
   "source": [
    "away = df_in[\"away_team_goal_timings\"].to_list()"
   ]
  },
  {
   "cell_type": "code",
   "execution_count": 7,
   "metadata": {},
   "outputs": [],
   "source": [
    "goals: list = list()\n",
    "\n",
    "for timings in home:\n",
    "    goals.append(timings)\n",
    "for timings in away:\n",
    "    goals.append(timings)"
   ]
  },
  {
   "source": [
    "Transfrom: `list(str) -> list(list(str))`"
   ],
   "cell_type": "markdown",
   "metadata": {}
  },
  {
   "cell_type": "code",
   "execution_count": 8,
   "metadata": {},
   "outputs": [],
   "source": [
    "goal_times: list = ListComprehension.comma_separated_str_to_lst_uniform_dist(\n",
    "    goals\n",
    ")"
   ]
  },
  {
   "source": [
    "Remove goals scored in injury time by removing goal times with `'`."
   ],
   "cell_type": "markdown",
   "metadata": {}
  },
  {
   "cell_type": "code",
   "execution_count": 9,
   "metadata": {},
   "outputs": [],
   "source": [
    "cleaned_goal_times: list =list()\n",
    "\n",
    "for a_game_goal_times in goal_times:\n",
    "    cleaned_game_goal_times: list = list()\n",
    "    \n",
    "    for a_goal_time in a_game_goal_times:\n",
    "        if \"'\" not in a_goal_time:\n",
    "            cleaned_game_goal_times.append(a_goal_time)\n",
    "\n",
    "    cleaned_goal_times.append(cleaned_game_goal_times)"
   ]
  },
  {
   "source": [
    "Transform: `list(list(str)) -> list(list(int))`"
   ],
   "cell_type": "markdown",
   "metadata": {}
  },
  {
   "cell_type": "code",
   "execution_count": 10,
   "metadata": {},
   "outputs": [],
   "source": [
    "int_goal_times = ListComprehension.list_str_to_list_int(\n",
    "    cleaned_goal_times\n",
    ")"
   ]
  },
  {
   "source": [
    "Transform: `list(list(int)) -> list(int)`"
   ],
   "cell_type": "markdown",
   "metadata": {}
  },
  {
   "cell_type": "code",
   "execution_count": 11,
   "metadata": {},
   "outputs": [],
   "source": [
    "final_goal_times: list =list()\n",
    "\n",
    "for lst_game_goal_times in int_goal_times:\n",
    "    a_list: list = list()\n",
    "    \n",
    "    for a_goal_time in lst_game_goal_times:\n",
    "        final_goal_times.append(a_goal_time)"
   ]
  },
  {
   "cell_type": "markdown",
   "metadata": {},
   "source": [
    "We begin to aggregate the data by first making a new DataFrame containing the `final_goal_times`."
   ]
  },
  {
   "cell_type": "code",
   "execution_count": 12,
   "metadata": {},
   "outputs": [],
   "source": [
    "# construct the out dataframe\n",
    "df_chi_sq = pd.DataFrame(data=final_goal_times, columns=[\"goal_times\"])"
   ]
  },
  {
   "source": [
    "We now encode the banding and then aggregate the counts in each banding."
   ],
   "cell_type": "markdown",
   "metadata": {}
  },
  {
   "cell_type": "code",
   "execution_count": 13,
   "metadata": {},
   "outputs": [],
   "source": [
    "# code the values, bounding them in groups of 10\n",
    "df_chi_sq[\"time_banding\"] = df_chi_sq[\"goal_times\"].apply(UniformGoals.get_banding)"
   ]
  },
  {
   "cell_type": "code",
   "execution_count": 15,
   "metadata": {},
   "outputs": [],
   "source": [
    "# aggegate the time_bandings to calculate the observed frequencies\n",
    "df_chi_sq = df_chi_sq.groupby([\"time_banding\"])[[\"time_banding\"]].count()"
   ]
  },
  {
   "cell_type": "markdown",
   "metadata": {},
   "source": [
    "We need to transform the `DataFrame` so it can be used further."
   ]
  },
  {
   "cell_type": "code",
   "execution_count": 16,
   "metadata": {},
   "outputs": [],
   "source": [
    "# rename the count column\n",
    "df_chi_sq.rename(columns={\"time_banding\": \"Observed\"}, inplace=True)"
   ]
  },
  {
   "cell_type": "code",
   "execution_count": 17,
   "metadata": {},
   "outputs": [],
   "source": [
    "# ungroup the data, preserving the count\n",
    "df_chi_sq.reset_index(inplace=True)"
   ]
  },
  {
   "cell_type": "code",
   "execution_count": 27,
   "metadata": {},
   "outputs": [
    {
     "output_type": "execute_result",
     "data": {
      "text/plain": [
       "  time_banding  Observed        Pr    Expected  chi-sq contribution\n",
       "0           10        82  0.111111  108.666667             6.543967\n",
       "1           20       116  0.111111  108.666667             0.494888\n",
       "2           30       108  0.111111  108.666667             0.004090\n",
       "3           40        98  0.111111  108.666667             1.047035\n",
       "4           50        95  0.111111  108.666667             1.718814\n",
       "5           60       112  0.111111  108.666667             0.102249\n",
       "6           70       133  0.111111  108.666667             5.448875\n",
       "7           80       119  0.111111  108.666667             0.982618\n",
       "8           90       115  0.111111  108.666667             0.369121"
      ],
      "text/html": "<div>\n<style scoped>\n    .dataframe tbody tr th:only-of-type {\n        vertical-align: middle;\n    }\n\n    .dataframe tbody tr th {\n        vertical-align: top;\n    }\n\n    .dataframe thead th {\n        text-align: right;\n    }\n</style>\n<table border=\"1\" class=\"dataframe\">\n  <thead>\n    <tr style=\"text-align: right;\">\n      <th></th>\n      <th>time_banding</th>\n      <th>Observed</th>\n      <th>Pr</th>\n      <th>Expected</th>\n      <th>chi-sq contribution</th>\n    </tr>\n  </thead>\n  <tbody>\n    <tr>\n      <th>0</th>\n      <td>10</td>\n      <td>82</td>\n      <td>0.111111</td>\n      <td>108.666667</td>\n      <td>6.543967</td>\n    </tr>\n    <tr>\n      <th>1</th>\n      <td>20</td>\n      <td>116</td>\n      <td>0.111111</td>\n      <td>108.666667</td>\n      <td>0.494888</td>\n    </tr>\n    <tr>\n      <th>2</th>\n      <td>30</td>\n      <td>108</td>\n      <td>0.111111</td>\n      <td>108.666667</td>\n      <td>0.004090</td>\n    </tr>\n    <tr>\n      <th>3</th>\n      <td>40</td>\n      <td>98</td>\n      <td>0.111111</td>\n      <td>108.666667</td>\n      <td>1.047035</td>\n    </tr>\n    <tr>\n      <th>4</th>\n      <td>50</td>\n      <td>95</td>\n      <td>0.111111</td>\n      <td>108.666667</td>\n      <td>1.718814</td>\n    </tr>\n    <tr>\n      <th>5</th>\n      <td>60</td>\n      <td>112</td>\n      <td>0.111111</td>\n      <td>108.666667</td>\n      <td>0.102249</td>\n    </tr>\n    <tr>\n      <th>6</th>\n      <td>70</td>\n      <td>133</td>\n      <td>0.111111</td>\n      <td>108.666667</td>\n      <td>5.448875</td>\n    </tr>\n    <tr>\n      <th>7</th>\n      <td>80</td>\n      <td>119</td>\n      <td>0.111111</td>\n      <td>108.666667</td>\n      <td>0.982618</td>\n    </tr>\n    <tr>\n      <th>8</th>\n      <td>90</td>\n      <td>115</td>\n      <td>0.111111</td>\n      <td>108.666667</td>\n      <td>0.369121</td>\n    </tr>\n  </tbody>\n</table>\n</div>"
     },
     "metadata": {},
     "execution_count": 27
    }
   ],
   "source": [
    "df_chi_sq"
   ]
  },
  {
   "cell_type": "markdown",
   "metadata": {},
   "source": [
    "Add the Pr of a goal in each banding.\n",
    "As we are modelling using the discrete uniform distribution, this would 1/9."
   ]
  },
  {
   "cell_type": "code",
   "execution_count": 19,
   "metadata": {},
   "outputs": [],
   "source": [
    "df_chi_sq[\"Pr\"] = 1/9"
   ]
  },
  {
   "cell_type": "markdown",
   "metadata": {},
   "source": [
    "Add the expected frequencies: Pr * size"
   ]
  },
  {
   "cell_type": "code",
   "execution_count": 24,
   "metadata": {},
   "outputs": [],
   "source": [
    "# calculate the expected observations\n",
    "df_chi_sq[\"Expected\"] = df_chi_sq[\"Pr\"] * df_chi_sq[\"Observed\"].sum()"
   ]
  },
  {
   "cell_type": "markdown",
   "metadata": {},
   "source": [
    "Calculate the chi-squared contributions"
   ]
  },
  {
   "cell_type": "code",
   "execution_count": 26,
   "metadata": {},
   "outputs": [],
   "source": [
    "df_chi_sq[\"chi-sq contribution\"] = (\n",
    "    ((df_chi_sq[\"Observed\"] - df_chi_sq[\"Expected\"])**2)/df_chi_sq[\"Expected\"]\n",
    ")"
   ]
  },
  {
   "source": [
    "# output file\n",
    "df_chi_sq.to_csv(Data.PATH_OUT + \"uniform_goal_chi_sq.csv\", index=False)"
   ],
   "cell_type": "code",
   "metadata": {},
   "execution_count": 28,
   "outputs": []
  }
 ],
 "metadata": {
  "kernelspec": {
   "name": "python38264bit42cc30f2071844968108c09d90e27cee",
   "display_name": "Python 3.8.3 64-bit"
  },
  "language_info": {
   "codemirror_mode": {
    "name": "ipython",
    "version": 3
   },
   "file_extension": ".py",
   "mimetype": "text/x-python",
   "name": "python",
   "nbconvert_exporter": "python",
   "pygments_lexer": "ipython3",
   "version": "3.8.3"
  },
  "metadata": {
   "interpreter": {
    "hash": "ff1f241afc5a4c2e07811e38e6858495d05af165b3766e4314a3d7953c54c6af"
   }
  }
 },
 "nbformat": 4,
 "nbformat_minor": 4
}