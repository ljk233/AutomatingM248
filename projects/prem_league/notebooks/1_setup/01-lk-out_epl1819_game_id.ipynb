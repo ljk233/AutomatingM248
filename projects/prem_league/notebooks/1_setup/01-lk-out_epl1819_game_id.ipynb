{
 "cells": [
  {
   "cell_type": "markdown",
   "metadata": {},
   "source": [
    "# 1. Data processing: epl_1819_game_id\n",
    "\n",
    "**date**\n",
    ": 2021-04-11\n",
    "\n",
    "**desc**\n",
    ": Source data is processed to include only fields:\n",
    "`game_id`,`total_goal_count`, `home_team_goal_timings`, `away_team_goal_timings`. Note the `game_id` is an additional field.\n",
    "\n",
    "**in**\n",
    ": \"/projects/prem_league/data/in/epl_1819.csv\"\n",
    "\n",
    "**out**\n",
    ": \"/projects/prem_league/data/out/epl_1819_game_id.csv\""
   ]
  },
  {
   "cell_type": "code",
   "execution_count": 1,
   "metadata": {},
   "outputs": [],
   "source": [
    "import pandas as pd\n",
    "import numpy as np\n",
    "from setup.data import Data"
   ]
  },
  {
   "cell_type": "code",
   "execution_count": 2,
   "metadata": {},
   "outputs": [],
   "source": [
    "# read data in\n",
    "df_in = Data.load_epl_1819()"
   ]
  },
  {
   "cell_type": "code",
   "execution_count": 3,
   "metadata": {},
   "outputs": [],
   "source": [
    "# select columns\n",
    "df_out = df_in[[\n",
    "    \"total_goal_count\",\n",
    "    \"home_team_goal_timings\",\n",
    "    \"away_team_goal_timings\"\n",
    "]].copy(deep=True)"
   ]
  },
  {
   "cell_type": "code",
   "execution_count": 4,
   "metadata": {},
   "outputs": [],
   "source": [
    "# get number_of_rows\n",
    "game_count: int = df_in[\"total_goal_count\"].size"
   ]
  },
  {
   "cell_type": "code",
   "execution_count": 5,
   "metadata": {},
   "outputs": [],
   "source": [
    "# add game_id\n",
    "df_out[\"game_id\"] = np.arange(start=0, stop=game_count)"
   ]
  },
  {
   "cell_type": "code",
   "execution_count": 6,
   "metadata": {},
   "outputs": [
    {
     "output_type": "execute_result",
     "data": {
      "text/plain": [
       "   total_goal_count home_team_goal_timings away_team_goal_timings  game_id\n",
       "0                 3                   3,83                   90'2        0\n",
       "1                 3                     11                   8,18        1\n",
       "2                 2                24,90'1                    NaN        2\n",
       "3                 2                    NaN                  41,79        3\n",
       "4                 3                    NaN               34,45,80        4\n",
       "5                 2                  35,54                    NaN        5\n",
       "6                 4                  44,80                  17,67        6\n",
       "7                 4          19,45'2,53,88                    NaN        7\n",
       "8                 0                    NaN                    NaN        8\n",
       "9                 2                    NaN                  14,64        9"
      ],
      "text/html": "<div>\n<style scoped>\n    .dataframe tbody tr th:only-of-type {\n        vertical-align: middle;\n    }\n\n    .dataframe tbody tr th {\n        vertical-align: top;\n    }\n\n    .dataframe thead th {\n        text-align: right;\n    }\n</style>\n<table border=\"1\" class=\"dataframe\">\n  <thead>\n    <tr style=\"text-align: right;\">\n      <th></th>\n      <th>total_goal_count</th>\n      <th>home_team_goal_timings</th>\n      <th>away_team_goal_timings</th>\n      <th>game_id</th>\n    </tr>\n  </thead>\n  <tbody>\n    <tr>\n      <th>0</th>\n      <td>3</td>\n      <td>3,83</td>\n      <td>90'2</td>\n      <td>0</td>\n    </tr>\n    <tr>\n      <th>1</th>\n      <td>3</td>\n      <td>11</td>\n      <td>8,18</td>\n      <td>1</td>\n    </tr>\n    <tr>\n      <th>2</th>\n      <td>2</td>\n      <td>24,90'1</td>\n      <td>NaN</td>\n      <td>2</td>\n    </tr>\n    <tr>\n      <th>3</th>\n      <td>2</td>\n      <td>NaN</td>\n      <td>41,79</td>\n      <td>3</td>\n    </tr>\n    <tr>\n      <th>4</th>\n      <td>3</td>\n      <td>NaN</td>\n      <td>34,45,80</td>\n      <td>4</td>\n    </tr>\n    <tr>\n      <th>5</th>\n      <td>2</td>\n      <td>35,54</td>\n      <td>NaN</td>\n      <td>5</td>\n    </tr>\n    <tr>\n      <th>6</th>\n      <td>4</td>\n      <td>44,80</td>\n      <td>17,67</td>\n      <td>6</td>\n    </tr>\n    <tr>\n      <th>7</th>\n      <td>4</td>\n      <td>19,45'2,53,88</td>\n      <td>NaN</td>\n      <td>7</td>\n    </tr>\n    <tr>\n      <th>8</th>\n      <td>0</td>\n      <td>NaN</td>\n      <td>NaN</td>\n      <td>8</td>\n    </tr>\n    <tr>\n      <th>9</th>\n      <td>2</td>\n      <td>NaN</td>\n      <td>14,64</td>\n      <td>9</td>\n    </tr>\n  </tbody>\n</table>\n</div>"
     },
     "metadata": {},
     "execution_count": 6
    }
   ],
   "source": [
    "# preview file\n",
    "df_out.head(10)"
   ]
  },
  {
   "cell_type": "code",
   "execution_count": 7,
   "metadata": {},
   "outputs": [],
   "source": [
    "# output file\n",
    "df_out.to_csv(Data.PATH_OUT + \"epl_1819_game_id.csv\", index=False)"
   ]
  }
 ],
 "metadata": {
  "kernelspec": {
   "name": "python383jvsc74a57bd0ff1f241afc5a4c2e07811e38e6858495d05af165b3766e4314a3d7953c54c6af",
   "display_name": "Python 3.8.3 64-bit"
  },
  "language_info": {
   "codemirror_mode": {
    "name": "ipython",
    "version": 3
   },
   "file_extension": ".py",
   "mimetype": "text/x-python",
   "name": "python",
   "nbconvert_exporter": "python",
   "pygments_lexer": "ipython3",
   "version": "3.8.3"
  },
  "metadata": {
   "interpreter": {
    "hash": "ff1f241afc5a4c2e07811e38e6858495d05af165b3766e4314a3d7953c54c6af"
   }
  }
 },
 "nbformat": 4,
 "nbformat_minor": 4
}