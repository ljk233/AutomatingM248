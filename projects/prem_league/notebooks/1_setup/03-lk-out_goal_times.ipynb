{
 "cells": [
  {
   "cell_type": "markdown",
   "metadata": {},
   "source": [
    "# 3. Data processing: goal_times\n",
    "\n",
    "~~~\n",
    "THIS NEEDS TO BE REFACTORED\n",
    "~~~\n",
    "\n",
    "**date**\n",
    ": 2021-04-11\n",
    "\n",
    "**desc**\n",
    ": The goal times in the source are comma separated `str`.\n",
    "An algorithm has been included before each part of the process.\n",
    "We use list and string comprenhension to process the data.\n",
    "\n",
    "**in**\n",
    ": \"data/out/epl_1819_game_id.csv\"\n",
    "\n",
    "**out**\n",
    ": \"data/out/goal_times.csv\""
   ]
  },
  {
   "cell_type": "code",
   "execution_count": 1,
   "metadata": {},
   "outputs": [],
   "source": [
    "import pandas as pd\n",
    "import numpy as np\n",
    "from setup.data import Data\n",
    "from setup.list_comprehension import ListComprehension"
   ]
  },
  {
   "cell_type": "code",
   "execution_count": 2,
   "metadata": {},
   "outputs": [],
   "source": [
    "# read data in\n",
    "df_in = Data.load_epl_1819_game_id()"
   ]
  },
  {
   "cell_type": "code",
   "execution_count": 3,
   "metadata": {},
   "outputs": [],
   "source": [
    "# replace NaN values with \"NaN\"\n",
    "df_in[\"home_team_goal_timings\"].fillna(value=\"NaN\", inplace=True)\n",
    "df_in[\"away_team_goal_timings\"].fillna(value=\"NaN\", inplace=True)"
   ]
  },
  {
   "cell_type": "code",
   "execution_count": 4,
   "metadata": {},
   "outputs": [
    {
     "output_type": "execute_result",
     "data": {
      "text/plain": [
       "   total_goal_count home_team_goal_timings away_team_goal_timings  game_id\n",
       "0                 3                   3,83                   90'2        0\n",
       "1                 3                     11                   8,18        1\n",
       "2                 2                24,90'1                    NaN        2\n",
       "3                 2                    NaN                  41,79        3\n",
       "4                 3                    NaN               34,45,80        4"
      ],
      "text/html": "<div>\n<style scoped>\n    .dataframe tbody tr th:only-of-type {\n        vertical-align: middle;\n    }\n\n    .dataframe tbody tr th {\n        vertical-align: top;\n    }\n\n    .dataframe thead th {\n        text-align: right;\n    }\n</style>\n<table border=\"1\" class=\"dataframe\">\n  <thead>\n    <tr style=\"text-align: right;\">\n      <th></th>\n      <th>total_goal_count</th>\n      <th>home_team_goal_timings</th>\n      <th>away_team_goal_timings</th>\n      <th>game_id</th>\n    </tr>\n  </thead>\n  <tbody>\n    <tr>\n      <th>0</th>\n      <td>3</td>\n      <td>3,83</td>\n      <td>90'2</td>\n      <td>0</td>\n    </tr>\n    <tr>\n      <th>1</th>\n      <td>3</td>\n      <td>11</td>\n      <td>8,18</td>\n      <td>1</td>\n    </tr>\n    <tr>\n      <th>2</th>\n      <td>2</td>\n      <td>24,90'1</td>\n      <td>NaN</td>\n      <td>2</td>\n    </tr>\n    <tr>\n      <th>3</th>\n      <td>2</td>\n      <td>NaN</td>\n      <td>41,79</td>\n      <td>3</td>\n    </tr>\n    <tr>\n      <th>4</th>\n      <td>3</td>\n      <td>NaN</td>\n      <td>34,45,80</td>\n      <td>4</td>\n    </tr>\n  </tbody>\n</table>\n</div>"
     },
     "metadata": {},
     "execution_count": 4
    }
   ],
   "source": [
    "df_in.head()"
   ]
  },
  {
   "cell_type": "code",
   "execution_count": 5,
   "metadata": {},
   "outputs": [],
   "source": [
    "# construct three lists for processing\n",
    "game_id: list = df_in[\"game_id\"].to_list()\n",
    "home_timings: list = df_in[\"home_team_goal_timings\"].to_list()\n",
    "away_timings: list = df_in[\"away_team_goal_timings\"].to_list()"
   ]
  },
  {
   "cell_type": "markdown",
   "metadata": {},
   "source": [
    "## Step 1\n",
    "\n",
    "Transfrom: `list(str) -> list(list(str))`"
   ]
  },
  {
   "cell_type": "code",
   "execution_count": 6,
   "metadata": {},
   "outputs": [
    {
     "output_type": "stream",
     "name": "stdout",
     "text": [
      "Help on function transform_str_to_list_str in module setup.list_comprehension:\n\ntransform_str_to_list_str(a_list: list) -> list\n    For each str in the list, if the string is not nan\n    then separate the comma separated str to a list of strings.\n    \n    @param, a_list: list(str)\n        a list of strings, where each string contains a comma\n        separated string of goal times.\n        Example: [\"3,10,85\", \"5, 64\", \"23\"]\n    \n    @returns, list(list(str))\n        a list of lists of strings\n        Example: [[\"3\", \"10\", \"85\"], [\"5\", \"64\"], [\"23\"]]\n\n"
     ]
    }
   ],
   "source": [
    "help(ListComprehension.transform_str_to_list_str)"
   ]
  },
  {
   "cell_type": "code",
   "execution_count": 7,
   "metadata": {},
   "outputs": [],
   "source": [
    "# process home goals\n",
    "home_goal_times: list = ListComprehension.transform_str_to_list_str(\n",
    "    home_timings\n",
    ")"
   ]
  },
  {
   "cell_type": "code",
   "execution_count": 8,
   "metadata": {},
   "outputs": [],
   "source": [
    "# process away goals\n",
    "away_goal_times: list = ListComprehension.transform_str_to_list_str(\n",
    "    away_timings\n",
    ")"
   ]
  },
  {
   "cell_type": "markdown",
   "metadata": {},
   "source": [
    "## Step 2\n",
    "\n",
    "We recast the `string` numerals to `int`.\n",
    "\n",
    "Transform: `list(list(str)) -> list(list(int))`"
   ]
  },
  {
   "cell_type": "code",
   "execution_count": 9,
   "metadata": {},
   "outputs": [
    {
     "output_type": "stream",
     "name": "stdout",
     "text": [
      "Help on function recast_numeral_to_int in module setup.list_comprehension:\n\nrecast_numeral_to_int(lists: list) -> list\n    For each list in lists, and then for each numeral in the list,\n    if the string is not NaN, then recast the numeral to an int.\n    \n    @param, list_strings, list(list(str))\n        list of lists(str), where each element of the sub-list is\n        a numeral representing the match time when a goal was\n        scored.\n        Example: [[\"3\", \"10\", \"85\"], [\"5\", \"64\"], [\"23\"]]\n    \n    @returns, list(list(int))\n        Example: [[3, 10, 85], [5, 64], [23]]\n\n"
     ]
    }
   ],
   "source": [
    "help(ListComprehension.recast_numeral_to_int)"
   ]
  },
  {
   "cell_type": "code",
   "execution_count": 10,
   "metadata": {},
   "outputs": [],
   "source": [
    "# process home\n",
    "int_home_goal_times = ListComprehension.recast_numeral_to_int(\n",
    "    home_goal_times\n",
    ")"
   ]
  },
  {
   "cell_type": "code",
   "execution_count": 11,
   "metadata": {},
   "outputs": [],
   "source": [
    "# process away\n",
    "int_away_goal_times = ListComprehension.recast_numeral_to_int(\n",
    "    away_goal_times\n",
    ")"
   ]
  },
  {
   "cell_type": "markdown",
   "metadata": {},
   "source": [
    "## Step 3\n",
    "\n",
    "Each list in the lists Home and Away are linked, with one describing the home team and the other the away team.\n",
    "\n",
    "Here we merge the two x lists of lists of ints into 1 x lists of lists of ints."
   ]
  },
  {
   "cell_type": "code",
   "execution_count": 12,
   "metadata": {},
   "outputs": [
    {
     "output_type": "stream",
     "name": "stdout",
     "text": [
      "Help on function merge_lists in module setup.list_comprehension:\n\nmerge_lists(first_lists: list, second_lists: list) -> list\n    Merges the elements of lists1 and lists2.\n    \n    @param, first_lists, list(list(int))\n        Each element of list is a list of ints, where each elem is\n        an int representing the match time when a goal was scored.\n        Example: [[3, 10, 85], [5, 64]]\n    \n    @param, second_lists, list(list(int))\n        Same description.\n        Example: [[25], [79]]\n    \n    @returns, list(list(int))\n        a combined list of lists of ints\n        Example: [[3, 10, 85, 25], [5, 64, 79]]\n\n"
     ]
    }
   ],
   "source": [
    "help(ListComprehension.merge_lists)"
   ]
  },
  {
   "cell_type": "code",
   "execution_count": 13,
   "metadata": {},
   "outputs": [],
   "source": [
    "merged_goal_times = ListComprehension.merge_lists(\n",
    "    int_home_goal_times,\n",
    "    int_away_goal_times\n",
    ")"
   ]
  },
  {
   "cell_type": "markdown",
   "metadata": {},
   "source": [
    "## Step 4\n",
    "\n",
    "Sort each list of goal times into ascending order."
   ]
  },
  {
   "cell_type": "code",
   "execution_count": 14,
   "metadata": {},
   "outputs": [
    {
     "output_type": "stream",
     "name": "stdout",
     "text": [
      "Help on function sort_lists in module setup.list_comprehension:\n\nsort_lists(lists: list) -> list\n    Orders each sub-list of a list of lists in ascending order.\n    \n    @param, lists, list(list(int))\n        a list of lists of unsorted ints\n        Example: [[85, 25], [5, 64, 35]]\n    \n    @returns, list(list(int))\n        a list of lists of sorted ints\n        Example: [[25, 85], [5, 35, 64]]\n\n"
     ]
    }
   ],
   "source": [
    "help(ListComprehension.sort_lists)"
   ]
  },
  {
   "cell_type": "code",
   "execution_count": 15,
   "metadata": {},
   "outputs": [],
   "source": [
    "sorted_goal_times = ListComprehension.sort_lists(\n",
    "    merged_goal_times\n",
    ")"
   ]
  },
  {
   "cell_type": "markdown",
   "metadata": {},
   "source": [
    "## Step 5\n",
    "\n",
    "Created two partner lists.\n",
    "\n",
    "One will be a `list(int)`, where each `int` is a goal time.\n",
    "The second will be a goal's `game_id`.\n",
    "\n",
    "They are partnered in the sense that elem `i` in both lists will be related."
   ]
  },
  {
   "cell_type": "code",
   "execution_count": 16,
   "metadata": {},
   "outputs": [
    {
     "output_type": "stream",
     "name": "stdout",
     "text": [
      "Help on function create_linked_lists in module setup.list_comprehension:\n\ncreate_linked_lists(lists: list) -> tuple\n    Returns a tuple of linked lists. They are linked in the sense\n    that elem `i` in both lists are related.\n    \n    @param, lists, list(list(int))\n        a list of lists of sorted ints\n        Example: [[25, 85], [5, 35, 64]]\n    \n    @returns, (list(int), list(int))\n        tuple of lists of ints\n\n"
     ]
    }
   ],
   "source": [
    "help(ListComprehension.create_linked_lists)"
   ]
  },
  {
   "cell_type": "code",
   "execution_count": 17,
   "metadata": {},
   "outputs": [],
   "source": [
    "game_ids, goal_times = ListComprehension.create_linked_lists(\n",
    "    sorted_goal_times\n",
    ")"
   ]
  },
  {
   "cell_type": "markdown",
   "metadata": {},
   "source": [
    "## Step 6\n",
    "\n",
    "We now creates a `DataFrame` of `games_ids, goal_times` and output to a csv file."
   ]
  },
  {
   "cell_type": "code",
   "execution_count": 18,
   "metadata": {},
   "outputs": [],
   "source": [
    "df_out = pd.DataFrame()"
   ]
  },
  {
   "cell_type": "code",
   "execution_count": 19,
   "metadata": {},
   "outputs": [],
   "source": [
    "# add the game_ids and goal_times\n",
    "df_out[\"game_ids\"] = game_ids\n",
    "df_out[\"goal_times\"] = goal_times"
   ]
  },
  {
   "source": [
    "# output file\n",
    "df_out.to_csv(Data.PATH_OUT + \"goal_times.csv\", index=False)"
   ],
   "cell_type": "code",
   "metadata": {},
   "execution_count": 20,
   "outputs": []
  }
 ],
 "metadata": {
  "kernelspec": {
   "name": "python383jvsc74a57bd0ff1f241afc5a4c2e07811e38e6858495d05af165b3766e4314a3d7953c54c6af",
   "display_name": "Python 3.8.3 64-bit"
  },
  "language_info": {
   "codemirror_mode": {
    "name": "ipython",
    "version": 3
   },
   "file_extension": ".py",
   "mimetype": "text/x-python",
   "name": "python",
   "nbconvert_exporter": "python",
   "pygments_lexer": "ipython3",
   "version": "3.8.3"
  },
  "metadata": {
   "interpreter": {
    "hash": "ff1f241afc5a4c2e07811e38e6858495d05af165b3766e4314a3d7953c54c6af"
   }
  }
 },
 "nbformat": 4,
 "nbformat_minor": 4
}