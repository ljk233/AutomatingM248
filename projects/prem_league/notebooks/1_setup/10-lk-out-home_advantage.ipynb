{
 "metadata": {
  "language_info": {
   "codemirror_mode": {
    "name": "ipython",
    "version": 3
   },
   "file_extension": ".py",
   "mimetype": "text/x-python",
   "name": "python",
   "nbconvert_exporter": "python",
   "pygments_lexer": "ipython3",
   "version": "3.8.3"
  },
  "orig_nbformat": 2,
  "kernelspec": {
   "name": "python383jvsc74a57bd0ff1f241afc5a4c2e07811e38e6858495d05af165b3766e4314a3d7953c54c6af",
   "display_name": "Python 3.8.3 64-bit"
  }
 },
 "nbformat": 4,
 "nbformat_minor": 2,
 "cells": [
  {
   "source": [
    "# 10 Constructing data: waiting_time_chi_sq.csv\n",
    "\n",
    "**date**\n",
    ": 2021-04-12\n",
    "\n",
    "**desc**\n",
    ": Constructs the data for the home_advantage analysis.\n",
    "\n",
    "**in**\n",
    ": \"data/in/epl_1819.csv\"\n",
    "\n",
    "**out**\n",
    ": \"data/out/home_advantage.csv\""
   ],
   "cell_type": "markdown",
   "metadata": {}
  },
  {
   "cell_type": "code",
   "execution_count": 1,
   "metadata": {},
   "outputs": [],
   "source": [
    "import pandas as pd\n",
    "import numpy as np\n",
    "from scipy.stats import expon\n",
    "from setup.data import Data"
   ]
  },
  {
   "cell_type": "code",
   "execution_count": 2,
   "metadata": {},
   "outputs": [],
   "source": [
    "df_in = Data.load_epl_1819()"
   ]
  },
  {
   "source": [
    "Select the two columns of interest"
   ],
   "cell_type": "markdown",
   "metadata": {}
  },
  {
   "cell_type": "code",
   "execution_count": 3,
   "metadata": {},
   "outputs": [],
   "source": [
    "df_out = df_in[\n",
    "    ['home_team_goal_count', 'away_team_goal_count']\n",
    "].copy(True)"
   ]
  },
  {
   "source": [
    "rename the columns"
   ],
   "cell_type": "markdown",
   "metadata": {}
  },
  {
   "cell_type": "code",
   "execution_count": 4,
   "metadata": {},
   "outputs": [],
   "source": [
    "df_out.rename(\n",
    "    columns={\n",
    "        'home_team_goal_count': 'home',\n",
    "        'away_team_goal_count': 'away'\n",
    "    },\n",
    "    inplace=True\n",
    ")"
   ]
  },
  {
   "source": [
    "Export the file"
   ],
   "cell_type": "markdown",
   "metadata": {}
  },
  {
   "cell_type": "code",
   "execution_count": 5,
   "metadata": {},
   "outputs": [],
   "source": [
    "df_out.to_csv(Data.PATH_OUT + \"home_advantage.csv\", index=False)"
   ]
  }
 ]
}