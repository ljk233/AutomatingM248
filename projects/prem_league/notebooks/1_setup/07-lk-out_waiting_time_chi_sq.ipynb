{
 "cells": [
  {
   "cell_type": "markdown",
   "metadata": {},
   "source": [
    "# 7. Constructing data: waiting_time_chi_sq.csv\n",
    "\n",
    "**date**\n",
    ": 2021-04-11\n",
    "\n",
    "**desc**\n",
    ": Categorise the waiting times between goals into bandings of 10 minutes.\n",
    "All waiting times over 90 are comined into a single category of `90+`.\n",
    "\n",
    "**in**\n",
    ": \"data/out/waiting_times_goals.csv\"\n",
    "\n",
    "**out**\n",
    ": \"data/out/waiting_times_goals_chi_sq.csv\""
   ]
  },
  {
   "cell_type": "code",
   "execution_count": 8,
   "metadata": {},
   "outputs": [],
   "source": [
    "import pandas as pd\n",
    "import numpy as np\n",
    "from scipy.stats import expon\n",
    "from setup.data import Data\n",
    "from setup.support import add_bandings_poisson_proc"
   ]
  },
  {
   "cell_type": "code",
   "execution_count": 9,
   "metadata": {},
   "outputs": [],
   "source": [
    "# read data in\n",
    "df_in = Data.load_waiting_times_goals()"
   ]
  },
  {
   "cell_type": "markdown",
   "metadata": {},
   "source": [
    "We calculate the **mean** waiting time and the size of the sample for use generating the **Pr** of a time banding."
   ]
  },
  {
   "cell_type": "code",
   "execution_count": 10,
   "metadata": {},
   "outputs": [],
   "source": [
    "mean = df_in[\"waiting_times\"].mean()"
   ]
  },
  {
   "cell_type": "code",
   "execution_count": 11,
   "metadata": {},
   "outputs": [],
   "source": [
    "size = df_in[\"waiting_times\"].count()"
   ]
  },
  {
   "cell_type": "markdown",
   "metadata": {},
   "source": [
    "We begin to aggregate the data by first making a copy and then adding a new column `time_banding` to the `DataFrame`.\n",
    "This represents the category of the `waiting_time`."
   ]
  },
  {
   "cell_type": "code",
   "execution_count": 12,
   "metadata": {},
   "outputs": [],
   "source": [
    "# construct the out dataframe\n",
    "df_out = df_in.copy(deep=True)"
   ]
  },
  {
   "cell_type": "code",
   "execution_count": 13,
   "metadata": {},
   "outputs": [
    {
     "output_type": "stream",
     "name": "stdout",
     "text": [
      "Help on function add_bandings_poisson_proc in module setup.support:\n\nadd_bandings_poisson_proc(x: int) -> str\n    Returns banding of X, defined as the nearest multiple of 10.\n    \n    -  If x > 90, then set x to 90.\n    -  Else if x is 0, then set x to 10.\n    -  Otherwise, while the remainder of x/10 is not 0, increment\n    x by 1.\n    \n    @param, x, int\n        an integer representing the waiting time before a goal is\n        scored.\n    \n    @return, int\n        the nearest greater multiple of 10\n\n"
     ]
    }
   ],
   "source": [
    "help(add_bandings_poisson_proc)"
   ]
  },
  {
   "cell_type": "code",
   "execution_count": 14,
   "metadata": {},
   "outputs": [],
   "source": [
    "# code the values, bounding them in groups of 10\n",
    "df_out[\"time_banding\"] = df_out[\"waiting_times\"].apply(add_bandings_poisson_proc)"
   ]
  },
  {
   "cell_type": "code",
   "execution_count": 15,
   "metadata": {},
   "outputs": [],
   "source": [
    "# aggegate the time_bandings to calculate the observed frequencies\n",
    "df_chi_sq = df_out.groupby([\"time_banding\"])[[\"time_banding\"]].count()"
   ]
  },
  {
   "cell_type": "markdown",
   "metadata": {},
   "source": [
    "We need to transform the `DataFrame` so it can be used further."
   ]
  },
  {
   "cell_type": "code",
   "execution_count": 16,
   "metadata": {},
   "outputs": [],
   "source": [
    "# rename the count column\n",
    "df_chi_sq.rename(columns={\"time_banding\": \"Observed\"}, inplace=True)"
   ]
  },
  {
   "cell_type": "code",
   "execution_count": 17,
   "metadata": {},
   "outputs": [],
   "source": [
    "# ungroup the data, preserving the count\n",
    "df_chi_sq.reset_index(inplace=True)"
   ]
  },
  {
   "cell_type": "code",
   "execution_count": 18,
   "metadata": {},
   "outputs": [
    {
     "output_type": "execute_result",
     "data": {
      "text/plain": [
       "  time_banding  Observed\n",
       "0           10       277\n",
       "1           20       213\n",
       "2           30       169\n",
       "3           40       119\n",
       "4           50        76\n",
       "5           60        65\n",
       "6           70        48\n",
       "7           80        27\n",
       "8           90        17\n",
       "9          90+        61"
      ],
      "text/html": "<div>\n<style scoped>\n    .dataframe tbody tr th:only-of-type {\n        vertical-align: middle;\n    }\n\n    .dataframe tbody tr th {\n        vertical-align: top;\n    }\n\n    .dataframe thead th {\n        text-align: right;\n    }\n</style>\n<table border=\"1\" class=\"dataframe\">\n  <thead>\n    <tr style=\"text-align: right;\">\n      <th></th>\n      <th>time_banding</th>\n      <th>Observed</th>\n    </tr>\n  </thead>\n  <tbody>\n    <tr>\n      <th>0</th>\n      <td>10</td>\n      <td>277</td>\n    </tr>\n    <tr>\n      <th>1</th>\n      <td>20</td>\n      <td>213</td>\n    </tr>\n    <tr>\n      <th>2</th>\n      <td>30</td>\n      <td>169</td>\n    </tr>\n    <tr>\n      <th>3</th>\n      <td>40</td>\n      <td>119</td>\n    </tr>\n    <tr>\n      <th>4</th>\n      <td>50</td>\n      <td>76</td>\n    </tr>\n    <tr>\n      <th>5</th>\n      <td>60</td>\n      <td>65</td>\n    </tr>\n    <tr>\n      <th>6</th>\n      <td>70</td>\n      <td>48</td>\n    </tr>\n    <tr>\n      <th>7</th>\n      <td>80</td>\n      <td>27</td>\n    </tr>\n    <tr>\n      <th>8</th>\n      <td>90</td>\n      <td>17</td>\n    </tr>\n    <tr>\n      <th>9</th>\n      <td>90+</td>\n      <td>61</td>\n    </tr>\n  </tbody>\n</table>\n</div>"
     },
     "metadata": {},
     "execution_count": 18
    }
   ],
   "source": [
    "df_chi_sq"
   ]
  },
  {
   "cell_type": "markdown",
   "metadata": {},
   "source": [
    "Finally we calculate the probability of a goal occuring in each time banding, so **Pr**(0 $\\leq$ X $\\leq$ 15), **Pr**(15 $\\leq$ X $\\leq$ 30), etc.\n",
    "\n",
    "*This is an awkward algorithm that I think would benefit from making less abstract! Ed.*\n",
    "\n",
    "We first declare $M(\\lambda)$.\n",
    "Note that argument `scale` in `expon` expects the **standard deviation**.\n",
    "And so it can be seen that if $s = 1/\\lambda$ and $\\lambda = 1/\\>\\overline{x}$, so\n",
    "\n",
    "$$s = \\frac{1}{1/\\>\\overline{x}} = \\overline{x}.$$"
   ]
  },
  {
   "cell_type": "code",
   "execution_count": 19,
   "metadata": {},
   "outputs": [],
   "source": [
    "# declare m(rate)\n",
    "m = expon(scale=mean)"
   ]
  },
  {
   "cell_type": "code",
   "execution_count": 20,
   "metadata": {},
   "outputs": [],
   "source": [
    "# Generate W (10, 20, 30, etc.)\n",
    "W = np.arange(start=10, stop=91, step=10)"
   ]
  },
  {
   "cell_type": "code",
   "execution_count": 21,
   "metadata": {},
   "outputs": [],
   "source": [
    "# instantiate the list\n",
    "Pr = list()"
   ]
  },
  {
   "cell_type": "code",
   "execution_count": 22,
   "metadata": {},
   "outputs": [],
   "source": [
    "# Need to add F(10) as 0-index of the array has no Pr to subtact\n",
    "Pr.append(m.cdf(10))"
   ]
  },
  {
   "cell_type": "code",
   "execution_count": 23,
   "metadata": {},
   "outputs": [],
   "source": [
    "# next substract an F(W) with the preceding F(W) to calculate the Pr goal\n",
    "# is scored in that interval\n",
    "k = 1\n",
    "while (k < W.size):\n",
    "    Pr.append(m.cdf(W[k]) - m.cdf(W[k-1]))\n",
    "    k += 1"
   ]
  },
  {
   "cell_type": "code",
   "execution_count": 24,
   "metadata": {},
   "outputs": [],
   "source": [
    "# add the final Pr(X>=90+)\n",
    "Pr.append(1 - m.cdf(90))"
   ]
  },
  {
   "cell_type": "code",
   "execution_count": 25,
   "metadata": {},
   "outputs": [],
   "source": [
    "df_chi_sq[\"Pr\"] = Pr"
   ]
  },
  {
   "cell_type": "markdown",
   "metadata": {},
   "source": [
    "Add the expected frequencies: Pr * size"
   ]
  },
  {
   "cell_type": "code",
   "execution_count": 26,
   "metadata": {},
   "outputs": [],
   "source": [
    "# calculate the expected observations\n",
    "df_chi_sq[\"Expected\"] = df_chi_sq[\"Pr\"] * size"
   ]
  },
  {
   "cell_type": "markdown",
   "metadata": {},
   "source": [
    "Calculate the chi-squared contributions"
   ]
  },
  {
   "cell_type": "code",
   "execution_count": 27,
   "metadata": {},
   "outputs": [],
   "source": [
    "df_chi_sq[\"chi-sq contribution\"] = (\n",
    "    ((df_chi_sq[\"Observed\"] - df_chi_sq[\"Expected\"])**2)/df_chi_sq[\"Expected\"]\n",
    ")"
   ]
  },
  {
   "cell_type": "code",
   "execution_count": 28,
   "metadata": {},
   "outputs": [],
   "source": [
    "# output file\n",
    "df_chi_sq.to_csv(Data.PATH_OUT + \"waiting_time_chi_sq.csv\", index=False)"
   ]
  }
 ],
 "metadata": {
  "kernelspec": {
   "name": "python383jvsc74a57bd0ff1f241afc5a4c2e07811e38e6858495d05af165b3766e4314a3d7953c54c6af",
   "display_name": "Python 3.8.3 64-bit"
  },
  "language_info": {
   "codemirror_mode": {
    "name": "ipython",
    "version": 3
   },
   "file_extension": ".py",
   "mimetype": "text/x-python",
   "name": "python",
   "nbconvert_exporter": "python",
   "pygments_lexer": "ipython3",
   "version": "3.8.3"
  },
  "metadata": {
   "interpreter": {
    "hash": "ff1f241afc5a4c2e07811e38e6858495d05af165b3766e4314a3d7953c54c6af"
   }
  }
 },
 "nbformat": 4,
 "nbformat_minor": 4
}