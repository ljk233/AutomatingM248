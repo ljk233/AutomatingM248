{
 "metadata": {
  "language_info": {
   "codemirror_mode": {
    "name": "ipython",
    "version": 3
   },
   "file_extension": ".py",
   "mimetype": "text/x-python",
   "name": "python",
   "nbconvert_exporter": "python",
   "pygments_lexer": "ipython3",
   "version": "3.8.3-final"
  },
  "orig_nbformat": 2,
  "kernelspec": {
   "name": "python3",
   "display_name": "Python 3",
   "language": "python"
  }
 },
 "nbformat": 4,
 "nbformat_minor": 2,
 "cells": [
  {
   "source": [
    "# Grade Inflation: Data Preparation\n",
    "\n",
    "## Meta"
   ],
   "cell_type": "markdown",
   "metadata": {}
  },
  {
   "cell_type": "code",
   "execution_count": 1,
   "metadata": {},
   "outputs": [],
   "source": [
    "import pandas as pd\n",
    "from scipy import stats"
   ]
  },
  {
   "cell_type": "code",
   "execution_count": 2,
   "metadata": {},
   "outputs": [
    {
     "output_type": "execute_result",
     "data": {
      "text/plain": [
       "   ID  ACADEMIC YEAR     UKPRN                       PROVIDER CLASSIFICATION  \\\n",
       "0   1           2018  10007811  Bishop Grosseteste University              1   \n",
       "1   2           2017  10007811  Bishop Grosseteste University              1   \n",
       "2   3           2016  10007811  Bishop Grosseteste University              1   \n",
       "3   4           2015  10007811  Bishop Grosseteste University              1   \n",
       "4   5           2014  10007811  Bishop Grosseteste University              1   \n",
       "\n",
       "   COUNT  \n",
       "0    100  \n",
       "1    105  \n",
       "2     85  \n",
       "3     80  \n",
       "4     60  "
      ],
      "text/html": "<div>\n<style scoped>\n    .dataframe tbody tr th:only-of-type {\n        vertical-align: middle;\n    }\n\n    .dataframe tbody tr th {\n        vertical-align: top;\n    }\n\n    .dataframe thead th {\n        text-align: right;\n    }\n</style>\n<table border=\"1\" class=\"dataframe\">\n  <thead>\n    <tr style=\"text-align: right;\">\n      <th></th>\n      <th>ID</th>\n      <th>ACADEMIC YEAR</th>\n      <th>UKPRN</th>\n      <th>PROVIDER</th>\n      <th>CLASSIFICATION</th>\n      <th>COUNT</th>\n    </tr>\n  </thead>\n  <tbody>\n    <tr>\n      <th>0</th>\n      <td>1</td>\n      <td>2018</td>\n      <td>10007811</td>\n      <td>Bishop Grosseteste University</td>\n      <td>1</td>\n      <td>100</td>\n    </tr>\n    <tr>\n      <th>1</th>\n      <td>2</td>\n      <td>2017</td>\n      <td>10007811</td>\n      <td>Bishop Grosseteste University</td>\n      <td>1</td>\n      <td>105</td>\n    </tr>\n    <tr>\n      <th>2</th>\n      <td>3</td>\n      <td>2016</td>\n      <td>10007811</td>\n      <td>Bishop Grosseteste University</td>\n      <td>1</td>\n      <td>85</td>\n    </tr>\n    <tr>\n      <th>3</th>\n      <td>4</td>\n      <td>2015</td>\n      <td>10007811</td>\n      <td>Bishop Grosseteste University</td>\n      <td>1</td>\n      <td>80</td>\n    </tr>\n    <tr>\n      <th>4</th>\n      <td>5</td>\n      <td>2014</td>\n      <td>10007811</td>\n      <td>Bishop Grosseteste University</td>\n      <td>1</td>\n      <td>60</td>\n    </tr>\n  </tbody>\n</table>\n</div>"
     },
     "metadata": {},
     "execution_count": 2
    }
   ],
   "source": [
    "path_to_data = './data/hesa_1degree_classification_count.csv'\n",
    "\n",
    "# import the csv\n",
    "df_all = pd.read_csv(path_to_data)\n",
    "df_all.head()"
   ]
  },
  {
   "source": [
    "## Data processing\n",
    "\n",
    "We need to calculate the following:\n",
    "\n",
    "- Mean of proportion of Firsts in 2014\n",
    "- Variation of proportion of Firsts in 2014\n",
    "- A sample of 2018"
   ],
   "cell_type": "markdown",
   "metadata": {}
  },
  {
   "source": [
    "### Create DataFrame\n",
    "\n",
    "The DataFrame will need the following attributes\n",
    "\n",
    "- UKPRN\n",
    "- PROVIDER\n",
    "- COUNT OF NUMBER OF FIRSTS IN 2014\n",
    "- TOTAL STUDENTS IN 2014\n",
    "- PROPORTION OF STUDENTS AWARD FIRSTS IN 2014\n",
    "- COUNT OF NUMBER OF FIRSTS IN 2018\n",
    "- TOTAL STUDENTS IN 2018\n",
    "- PROPORTION OF STUDENTS AWARD FIRSTS IN 2018"
   ],
   "cell_type": "markdown",
   "metadata": {}
  },
  {
   "cell_type": "code",
   "execution_count": 3,
   "metadata": {},
   "outputs": [
    {
     "output_type": "execute_result",
     "data": {
      "text/plain": [
       "       UKPRN                         PROVIDER\n",
       "0   10007811    Bishop Grosseteste University\n",
       "5   10001883           De Montfort University\n",
       "10  10004113          Loughborough University\n",
       "15  10004797  The Nottingham Trent University\n",
       "20  10007796      The University of Leicester"
      ],
      "text/html": "<div>\n<style scoped>\n    .dataframe tbody tr th:only-of-type {\n        vertical-align: middle;\n    }\n\n    .dataframe tbody tr th {\n        vertical-align: top;\n    }\n\n    .dataframe thead th {\n        text-align: right;\n    }\n</style>\n<table border=\"1\" class=\"dataframe\">\n  <thead>\n    <tr style=\"text-align: right;\">\n      <th></th>\n      <th>UKPRN</th>\n      <th>PROVIDER</th>\n    </tr>\n  </thead>\n  <tbody>\n    <tr>\n      <th>0</th>\n      <td>10007811</td>\n      <td>Bishop Grosseteste University</td>\n    </tr>\n    <tr>\n      <th>5</th>\n      <td>10001883</td>\n      <td>De Montfort University</td>\n    </tr>\n    <tr>\n      <th>10</th>\n      <td>10004113</td>\n      <td>Loughborough University</td>\n    </tr>\n    <tr>\n      <th>15</th>\n      <td>10004797</td>\n      <td>The Nottingham Trent University</td>\n    </tr>\n    <tr>\n      <th>20</th>\n      <td>10007796</td>\n      <td>The University of Leicester</td>\n    </tr>\n  </tbody>\n</table>\n</div>"
     },
     "metadata": {},
     "execution_count": 3
    }
   ],
   "source": [
    "# Create a unique list of providers\n",
    "df_population = df_all[[\"UKPRN\", \"PROVIDER\"]].drop_duplicates()\n",
    "df_population.head()"
   ]
  },
  {
   "cell_type": "code",
   "execution_count": 4,
   "metadata": {},
   "outputs": [],
   "source": [
    "# Create temporary views\n",
    "tmp_2014 = df_all.query('`ACADEMIC YEAR` == 2014')\n",
    "tmp_2018 = df_all.query('`ACADEMIC YEAR` == 2018')\n",
    "tmp_first_2014 = tmp_2014.query('CLASSIFICATION == \"1\"')\n",
    "tmp_first_2018 = tmp_2018.query('CLASSIFICATION == \"1\"')"
   ]
  },
  {
   "cell_type": "code",
   "execution_count": 5,
   "metadata": {},
   "outputs": [],
   "source": [
    "# aggregate total students by provider in tmp_2014 and tmp_2018\n",
    "tmp_2014 = tmp_2014.groupby(by=[\"UKPRN\"])[\"COUNT\"].sum()\n",
    "tmp_2018 = tmp_2018.groupby(by=[\"UKPRN\"])[\"COUNT\"].sum()"
   ]
  },
  {
   "cell_type": "code",
   "execution_count": 6,
   "metadata": {},
   "outputs": [],
   "source": [
    "# merge v_2014 and v_2018\n",
    "tmp_joined = pd.merge(left=tmp_2014,\n",
    "                      right=tmp_2018,\n",
    "                      how=\"inner\",\n",
    "                      left_on=\"UKPRN\",\n",
    "                      right_on=\"UKPRN\",\n",
    "                      suffixes=('_2014', '_2018'))"
   ]
  },
  {
   "cell_type": "code",
   "execution_count": 7,
   "metadata": {},
   "outputs": [
    {
     "output_type": "execute_result",
     "data": {
      "text/plain": [
       "          COUNT_2014  COUNT_2018\n",
       "UKPRN                           \n",
       "10000291        3315        4220\n",
       "10000385         830        1005\n",
       "10000571        1385        1815\n",
       "10000712         965        1125\n",
       "10000824        2885        3585"
      ],
      "text/html": "<div>\n<style scoped>\n    .dataframe tbody tr th:only-of-type {\n        vertical-align: middle;\n    }\n\n    .dataframe tbody tr th {\n        vertical-align: top;\n    }\n\n    .dataframe thead th {\n        text-align: right;\n    }\n</style>\n<table border=\"1\" class=\"dataframe\">\n  <thead>\n    <tr style=\"text-align: right;\">\n      <th></th>\n      <th>COUNT_2014</th>\n      <th>COUNT_2018</th>\n    </tr>\n    <tr>\n      <th>UKPRN</th>\n      <th></th>\n      <th></th>\n    </tr>\n  </thead>\n  <tbody>\n    <tr>\n      <th>10000291</th>\n      <td>3315</td>\n      <td>4220</td>\n    </tr>\n    <tr>\n      <th>10000385</th>\n      <td>830</td>\n      <td>1005</td>\n    </tr>\n    <tr>\n      <th>10000571</th>\n      <td>1385</td>\n      <td>1815</td>\n    </tr>\n    <tr>\n      <th>10000712</th>\n      <td>965</td>\n      <td>1125</td>\n    </tr>\n    <tr>\n      <th>10000824</th>\n      <td>2885</td>\n      <td>3585</td>\n    </tr>\n  </tbody>\n</table>\n</div>"
     },
     "metadata": {},
     "execution_count": 7
    }
   ],
   "source": [
    "# preview tmp_joined\n",
    "tmp_joined.head()"
   ]
  },
  {
   "cell_type": "code",
   "execution_count": 8,
   "metadata": {},
   "outputs": [],
   "source": [
    "# join tmp_joined and df_population\n",
    "df_population = df_population.join(other=tmp_joined,\n",
    "                                   on=\"UKPRN\",\n",
    "                                   how=\"inner\")"
   ]
  },
  {
   "cell_type": "code",
   "execution_count": 9,
   "metadata": {},
   "outputs": [
    {
     "output_type": "execute_result",
     "data": {
      "text/plain": [
       "       UKPRN                         PROVIDER  COUNT_2014  COUNT_2018\n",
       "0   10007811    Bishop Grosseteste University         500         455\n",
       "5   10001883           De Montfort University        4005        6070\n",
       "10  10004113          Loughborough University        2875        3300\n",
       "15  10004797  The Nottingham Trent University        5185        6305\n",
       "20  10007796      The University of Leicester        2880        3415"
      ],
      "text/html": "<div>\n<style scoped>\n    .dataframe tbody tr th:only-of-type {\n        vertical-align: middle;\n    }\n\n    .dataframe tbody tr th {\n        vertical-align: top;\n    }\n\n    .dataframe thead th {\n        text-align: right;\n    }\n</style>\n<table border=\"1\" class=\"dataframe\">\n  <thead>\n    <tr style=\"text-align: right;\">\n      <th></th>\n      <th>UKPRN</th>\n      <th>PROVIDER</th>\n      <th>COUNT_2014</th>\n      <th>COUNT_2018</th>\n    </tr>\n  </thead>\n  <tbody>\n    <tr>\n      <th>0</th>\n      <td>10007811</td>\n      <td>Bishop Grosseteste University</td>\n      <td>500</td>\n      <td>455</td>\n    </tr>\n    <tr>\n      <th>5</th>\n      <td>10001883</td>\n      <td>De Montfort University</td>\n      <td>4005</td>\n      <td>6070</td>\n    </tr>\n    <tr>\n      <th>10</th>\n      <td>10004113</td>\n      <td>Loughborough University</td>\n      <td>2875</td>\n      <td>3300</td>\n    </tr>\n    <tr>\n      <th>15</th>\n      <td>10004797</td>\n      <td>The Nottingham Trent University</td>\n      <td>5185</td>\n      <td>6305</td>\n    </tr>\n    <tr>\n      <th>20</th>\n      <td>10007796</td>\n      <td>The University of Leicester</td>\n      <td>2880</td>\n      <td>3415</td>\n    </tr>\n  </tbody>\n</table>\n</div>"
     },
     "metadata": {},
     "execution_count": 9
    }
   ],
   "source": [
    "# preview df_population\n",
    "df_population.head()"
   ]
  },
  {
   "cell_type": "code",
   "execution_count": 10,
   "metadata": {},
   "outputs": [],
   "source": [
    "# Prepare tmp_first_*\n",
    "tmp_first_2014.rename(columns={\"COUNT\": \"FIRSTS\"}, inplace=True)\n",
    "tmp_first_2014.drop(columns=[\"ID\",\n",
    "                             \"ACADEMIC YEAR\",\n",
    "                             \"PROVIDER\",\n",
    "                             \"CLASSIFICATION\"],\n",
    "                             inplace=True)\n",
    "\n",
    "tmp_first_2018.rename(columns={\"COUNT\": \"FIRSTS\"}, inplace=True)\n",
    "tmp_first_2018.drop(columns=[\"ID\",\n",
    "                             \"ACADEMIC YEAR\",\n",
    "                             \"PROVIDER\",\n",
    "                             \"CLASSIFICATION\"],\n",
    "                             inplace=True)"
   ]
  },
  {
   "cell_type": "code",
   "execution_count": 11,
   "metadata": {},
   "outputs": [],
   "source": [
    "# merge tmp_first_2014 and tmp_first_2018\n",
    "tmp_first_joined = pd.merge(left=tmp_first_2014,\n",
    "                            right=tmp_first_2018,\n",
    "                            how=\"inner\",\n",
    "                            left_on=\"UKPRN\",\n",
    "                            right_on=\"UKPRN\",\n",
    "                            suffixes=('_2014', '_2018'))"
   ]
  },
  {
   "cell_type": "code",
   "execution_count": 12,
   "metadata": {},
   "outputs": [
    {
     "output_type": "execute_result",
     "data": {
      "text/plain": [
       "      UKPRN  FIRSTS_2014  FIRSTS_2018\n",
       "0  10007811           60          100\n",
       "1  10001883          865         1835\n",
       "2  10004113          740          960\n",
       "3  10004797         1110         1100\n",
       "4  10007796          535          815"
      ],
      "text/html": "<div>\n<style scoped>\n    .dataframe tbody tr th:only-of-type {\n        vertical-align: middle;\n    }\n\n    .dataframe tbody tr th {\n        vertical-align: top;\n    }\n\n    .dataframe thead th {\n        text-align: right;\n    }\n</style>\n<table border=\"1\" class=\"dataframe\">\n  <thead>\n    <tr style=\"text-align: right;\">\n      <th></th>\n      <th>UKPRN</th>\n      <th>FIRSTS_2014</th>\n      <th>FIRSTS_2018</th>\n    </tr>\n  </thead>\n  <tbody>\n    <tr>\n      <th>0</th>\n      <td>10007811</td>\n      <td>60</td>\n      <td>100</td>\n    </tr>\n    <tr>\n      <th>1</th>\n      <td>10001883</td>\n      <td>865</td>\n      <td>1835</td>\n    </tr>\n    <tr>\n      <th>2</th>\n      <td>10004113</td>\n      <td>740</td>\n      <td>960</td>\n    </tr>\n    <tr>\n      <th>3</th>\n      <td>10004797</td>\n      <td>1110</td>\n      <td>1100</td>\n    </tr>\n    <tr>\n      <th>4</th>\n      <td>10007796</td>\n      <td>535</td>\n      <td>815</td>\n    </tr>\n  </tbody>\n</table>\n</div>"
     },
     "metadata": {},
     "execution_count": 12
    }
   ],
   "source": [
    "# preview tmp_first_joined\n",
    "tmp_first_joined.head()"
   ]
  },
  {
   "cell_type": "code",
   "execution_count": 13,
   "metadata": {},
   "outputs": [],
   "source": [
    "# join tmp_first_joined and df_population\n",
    "df_population = df_population.join(other=tmp_first_joined.set_index(\"UKPRN\"),\n",
    "                                   on=\"UKPRN\",\n",
    "                                   how=\"inner\")"
   ]
  },
  {
   "cell_type": "code",
   "execution_count": 14,
   "metadata": {},
   "outputs": [],
   "source": [
    "# drop objects where 0 exists\n",
    "df_population = df_population.query('COUNT_2014 != 0')"
   ]
  },
  {
   "cell_type": "code",
   "execution_count": 15,
   "metadata": {},
   "outputs": [],
   "source": [
    "# Add proportion columns for 2014 and 2018\n",
    "df_population[\"PROP 2014\"] = df_population[\"FIRSTS_2014\"] / df_population[\"COUNT_2014\"]\n",
    "df_population[\"PROP 2018\"] = df_population[\"FIRSTS_2018\"] / df_population[\"COUNT_2018\"]"
   ]
  },
  {
   "cell_type": "code",
   "execution_count": 16,
   "metadata": {},
   "outputs": [
    {
     "output_type": "execute_result",
     "data": {
      "text/plain": [
       "       UKPRN                         PROVIDER  COUNT_2014  COUNT_2018  \\\n",
       "0   10007811    Bishop Grosseteste University         500         455   \n",
       "5   10001883           De Montfort University        4005        6070   \n",
       "10  10004113          Loughborough University        2875        3300   \n",
       "15  10004797  The Nottingham Trent University        5185        6305   \n",
       "20  10007796      The University of Leicester        2880        3415   \n",
       "\n",
       "    FIRSTS_2014  FIRSTS_2018  PROP 2014  PROP 2018  \n",
       "0            60          100   0.120000   0.219780  \n",
       "5           865         1835   0.215980   0.302306  \n",
       "10          740          960   0.257391   0.290909  \n",
       "15         1110         1100   0.214079   0.174465  \n",
       "20          535          815   0.185764   0.238653  "
      ],
      "text/html": "<div>\n<style scoped>\n    .dataframe tbody tr th:only-of-type {\n        vertical-align: middle;\n    }\n\n    .dataframe tbody tr th {\n        vertical-align: top;\n    }\n\n    .dataframe thead th {\n        text-align: right;\n    }\n</style>\n<table border=\"1\" class=\"dataframe\">\n  <thead>\n    <tr style=\"text-align: right;\">\n      <th></th>\n      <th>UKPRN</th>\n      <th>PROVIDER</th>\n      <th>COUNT_2014</th>\n      <th>COUNT_2018</th>\n      <th>FIRSTS_2014</th>\n      <th>FIRSTS_2018</th>\n      <th>PROP 2014</th>\n      <th>PROP 2018</th>\n    </tr>\n  </thead>\n  <tbody>\n    <tr>\n      <th>0</th>\n      <td>10007811</td>\n      <td>Bishop Grosseteste University</td>\n      <td>500</td>\n      <td>455</td>\n      <td>60</td>\n      <td>100</td>\n      <td>0.120000</td>\n      <td>0.219780</td>\n    </tr>\n    <tr>\n      <th>5</th>\n      <td>10001883</td>\n      <td>De Montfort University</td>\n      <td>4005</td>\n      <td>6070</td>\n      <td>865</td>\n      <td>1835</td>\n      <td>0.215980</td>\n      <td>0.302306</td>\n    </tr>\n    <tr>\n      <th>10</th>\n      <td>10004113</td>\n      <td>Loughborough University</td>\n      <td>2875</td>\n      <td>3300</td>\n      <td>740</td>\n      <td>960</td>\n      <td>0.257391</td>\n      <td>0.290909</td>\n    </tr>\n    <tr>\n      <th>15</th>\n      <td>10004797</td>\n      <td>The Nottingham Trent University</td>\n      <td>5185</td>\n      <td>6305</td>\n      <td>1110</td>\n      <td>1100</td>\n      <td>0.214079</td>\n      <td>0.174465</td>\n    </tr>\n    <tr>\n      <th>20</th>\n      <td>10007796</td>\n      <td>The University of Leicester</td>\n      <td>2880</td>\n      <td>3415</td>\n      <td>535</td>\n      <td>815</td>\n      <td>0.185764</td>\n      <td>0.238653</td>\n    </tr>\n  </tbody>\n</table>\n</div>"
     },
     "metadata": {},
     "execution_count": 16
    }
   ],
   "source": [
    "# preview the finished working dataframe\n",
    "df_population.head()"
   ]
  },
  {
   "cell_type": "code",
   "execution_count": 17,
   "metadata": {},
   "outputs": [
    {
     "output_type": "stream",
     "name": "stdout",
     "text": [
      "Stored 'df_population' (DataFrame)\n"
     ]
    }
   ],
   "source": [
    "# store the variable\n",
    "%store df_population"
   ]
  },
  {
   "source": [
    "## Sample the DataFrame"
   ],
   "cell_type": "markdown",
   "metadata": {}
  },
  {
   "cell_type": "code",
   "execution_count": 18,
   "metadata": {},
   "outputs": [
    {
     "output_type": "error",
     "ename": "NameError",
     "evalue": "name 'df_working' is not defined",
     "traceback": [
      "\u001b[1;31m---------------------------------------------------------------------------\u001b[0m",
      "\u001b[1;31mNameError\u001b[0m                                 Traceback (most recent call last)",
      "\u001b[1;32m<ipython-input-18-307805415c6b>\u001b[0m in \u001b[0;36m<module>\u001b[1;34m\u001b[0m\n\u001b[0;32m      1\u001b[0m \u001b[1;31m# take a 33% random sample of the dataframe\u001b[0m\u001b[1;33m\u001b[0m\u001b[1;33m\u001b[0m\u001b[1;33m\u001b[0m\u001b[0m\n\u001b[1;32m----> 2\u001b[1;33m \u001b[0mdf_working\u001b[0m\u001b[1;33m[\u001b[0m\u001b[1;34m\"SAMPLE\"\u001b[0m\u001b[1;33m]\u001b[0m \u001b[1;33m=\u001b[0m \u001b[0mstats\u001b[0m\u001b[1;33m.\u001b[0m\u001b[0mbernoulli\u001b[0m\u001b[1;33m.\u001b[0m\u001b[0mrvs\u001b[0m\u001b[1;33m(\u001b[0m\u001b[0mp\u001b[0m\u001b[1;33m=\u001b[0m\u001b[1;36m0.33\u001b[0m\u001b[1;33m,\u001b[0m \u001b[0msize\u001b[0m\u001b[1;33m=\u001b[0m\u001b[0mdf_working\u001b[0m\u001b[1;33m[\u001b[0m\u001b[1;34m\"UKPRN\"\u001b[0m\u001b[1;33m]\u001b[0m\u001b[1;33m.\u001b[0m\u001b[0msize\u001b[0m\u001b[1;33m)\u001b[0m\u001b[1;33m\u001b[0m\u001b[1;33m\u001b[0m\u001b[0m\n\u001b[0m\u001b[0;32m      3\u001b[0m \u001b[1;31m# select only successful picks\u001b[0m\u001b[1;33m\u001b[0m\u001b[1;33m\u001b[0m\u001b[1;33m\u001b[0m\u001b[0m\n\u001b[0;32m      4\u001b[0m \u001b[0mdf_sampled\u001b[0m \u001b[1;33m=\u001b[0m \u001b[0mdf_working\u001b[0m\u001b[1;33m.\u001b[0m\u001b[0mquery\u001b[0m\u001b[1;33m(\u001b[0m\u001b[1;34m'SAMPLE == 1'\u001b[0m\u001b[1;33m)\u001b[0m\u001b[1;33m\u001b[0m\u001b[1;33m\u001b[0m\u001b[0m\n",
      "\u001b[1;31mNameError\u001b[0m: name 'df_working' is not defined"
     ]
    }
   ],
   "source": [
    "# take a 33% random sample of the dataframe\n",
    "df_working[\"SAMPLE\"] = stats.bernoulli.rvs(p=0.33, size=df_working[\"UKPRN\"].size)\n",
    "# select only successful picks\n",
    "df_sampled = df_working.query('SAMPLE == 1')"
   ]
  },
  {
   "cell_type": "code",
   "execution_count": null,
   "metadata": {},
   "outputs": [],
   "source": [
    "df_sampled.head()"
   ]
  },
  {
   "source": [
    "## Visualisations"
   ],
   "cell_type": "markdown",
   "metadata": {}
  },
  {
   "cell_type": "code",
   "execution_count": null,
   "metadata": {},
   "outputs": [],
   "source": [
    "df_sampled[[\"PROP 2014\"]].plot(kind=\"hist\")"
   ]
  },
  {
   "cell_type": "code",
   "execution_count": null,
   "metadata": {},
   "outputs": [],
   "source": [
    "df_sampled[[\"PROP 2018\"]].plot(kind=\"hist\")"
   ]
  },
  {
   "cell_type": "code",
   "execution_count": null,
   "metadata": {},
   "outputs": [],
   "source": [
    "df_sampled[[\"PROP 2014\", \"PROP 2018\"]].plot(kind=\"box\")"
   ]
  },
  {
   "cell_type": "code",
   "execution_count": null,
   "metadata": {},
   "outputs": [],
   "source": [
    "df_sampled.plot(kind=\"scatter\",\n",
    "                x=\"PROP 2014\",\n",
    "                y=\"PROP 2018\")"
   ]
  },
  {
   "source": [
    "## Analysing the confidence interval"
   ],
   "cell_type": "markdown",
   "metadata": {}
  },
  {
   "cell_type": "code",
   "execution_count": null,
   "metadata": {},
   "outputs": [],
   "source": [
    "# sample mean 2014\n",
    "mean_2014 = df_sampled[\"PROP 2014\"].mean()\n",
    "# sample mean 2018\n",
    "mean_2018 = df_sampled[\"PROP 2018\"].mean()\n",
    "# estimated standard error 2014.\n",
    "est_std_err = df_sampled[\"PROP 2014\"].std()/(df_sampled[\"UKPRN\"].size) ** 0.5"
   ]
  },
  {
   "cell_type": "code",
   "execution_count": null,
   "metadata": {},
   "outputs": [],
   "source": [
    "# declare the normal\n",
    "z = stats.norm(loc=mean_2014, scale=est_std_err)"
   ]
  },
  {
   "cell_type": "code",
   "execution_count": null,
   "metadata": {},
   "outputs": [],
   "source": [
    "# calculate the Pr(mean_2018)\n",
    "Pr = round(2 * (1 - z.cdf(x=mean_2018)), 6)"
   ]
  },
  {
   "cell_type": "code",
   "execution_count": null,
   "metadata": {},
   "outputs": [],
   "source": [
    "# get the 95% CI for sample mean 2014\n",
    "ci = z.interval(alpha=0.95)"
   ]
  },
  {
   "cell_type": "code",
   "execution_count": null,
   "metadata": {},
   "outputs": [],
   "source": [
    "# Test if mean 2018 in the confidence interval\n",
    "outcome = mean_2018 > ci[0] and mean_2018 < ci[1]"
   ]
  },
  {
   "cell_type": "code",
   "execution_count": null,
   "metadata": {},
   "outputs": [],
   "source": [
    "print(\"Summary\\n-------\")\n",
    "print(\"Outcome:\", outcome)\n",
    "print(\"ci: (\", round(ci[0], 3), \",\", round(ci[1], 3),\")\")\n",
    "print(\"mean 2014:\", round(mean_2014, 3))\n",
    "print(\"mean 2018:\", round(mean_2018, 3))\n",
    "print(\"Pr():\", Pr)"
   ]
  }
 ]
}