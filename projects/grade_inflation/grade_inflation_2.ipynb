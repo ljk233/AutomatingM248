{
 "metadata": {
  "language_info": {
   "codemirror_mode": {
    "name": "ipython",
    "version": 3
   },
   "file_extension": ".py",
   "mimetype": "text/x-python",
   "name": "python",
   "nbconvert_exporter": "python",
   "pygments_lexer": "ipython3",
   "version": "3.8.3-final"
  },
  "orig_nbformat": 2,
  "kernelspec": {
   "name": "python3",
   "display_name": "Python 3",
   "language": "python"
  }
 },
 "nbformat": 4,
 "nbformat_minor": 2,
 "cells": [
  {
   "source": [
    "# Grade Inflation: Analysis\n",
    "\n",
    "## Meta\n",
    "\n",
    "## Plan\n",
    "\n",
    "1. Sample the DataFrame.\n",
    "2. Calculate $\\mu_{X}$ and $\\sigma_{X}$.\n",
    "3. Declare the sampling distribution of the mean.\n",
    "4. Calculate $\\mu_{F}$.\n",
    "4. Calculate the 95% and 99% confidence intervals for $\\mu_{X}$.\n",
    "5. Test if $\\mu_{F} \\in CIs$.\n",
    "\n",
    "-----"
   ],
   "cell_type": "markdown",
   "metadata": {}
  },
  {
   "cell_type": "code",
   "execution_count": 1,
   "metadata": {},
   "outputs": [],
   "source": [
    "from scipy import stats"
   ]
  },
  {
   "cell_type": "code",
   "execution_count": 2,
   "metadata": {},
   "outputs": [
    {
     "output_type": "execute_result",
     "data": {
      "text/plain": [
       "       UKPRN                         PROVIDER  COUNT_2014  COUNT_2018  \\\n",
       "0   10007811    Bishop Grosseteste University         500         455   \n",
       "5   10001883           De Montfort University        4005        6070   \n",
       "10  10004113          Loughborough University        2875        3300   \n",
       "15  10004797  The Nottingham Trent University        5185        6305   \n",
       "20  10007796      The University of Leicester        2880        3415   \n",
       "\n",
       "    FIRSTS_2014  FIRSTS_2018  PROP 2014  PROP 2018  \n",
       "0            60          100   0.120000   0.219780  \n",
       "5           865         1835   0.215980   0.302306  \n",
       "10          740          960   0.257391   0.290909  \n",
       "15         1110         1100   0.214079   0.174465  \n",
       "20          535          815   0.185764   0.238653  "
      ],
      "text/html": "<div>\n<style scoped>\n    .dataframe tbody tr th:only-of-type {\n        vertical-align: middle;\n    }\n\n    .dataframe tbody tr th {\n        vertical-align: top;\n    }\n\n    .dataframe thead th {\n        text-align: right;\n    }\n</style>\n<table border=\"1\" class=\"dataframe\">\n  <thead>\n    <tr style=\"text-align: right;\">\n      <th></th>\n      <th>UKPRN</th>\n      <th>PROVIDER</th>\n      <th>COUNT_2014</th>\n      <th>COUNT_2018</th>\n      <th>FIRSTS_2014</th>\n      <th>FIRSTS_2018</th>\n      <th>PROP 2014</th>\n      <th>PROP 2018</th>\n    </tr>\n  </thead>\n  <tbody>\n    <tr>\n      <th>0</th>\n      <td>10007811</td>\n      <td>Bishop Grosseteste University</td>\n      <td>500</td>\n      <td>455</td>\n      <td>60</td>\n      <td>100</td>\n      <td>0.120000</td>\n      <td>0.219780</td>\n    </tr>\n    <tr>\n      <th>5</th>\n      <td>10001883</td>\n      <td>De Montfort University</td>\n      <td>4005</td>\n      <td>6070</td>\n      <td>865</td>\n      <td>1835</td>\n      <td>0.215980</td>\n      <td>0.302306</td>\n    </tr>\n    <tr>\n      <th>10</th>\n      <td>10004113</td>\n      <td>Loughborough University</td>\n      <td>2875</td>\n      <td>3300</td>\n      <td>740</td>\n      <td>960</td>\n      <td>0.257391</td>\n      <td>0.290909</td>\n    </tr>\n    <tr>\n      <th>15</th>\n      <td>10004797</td>\n      <td>The Nottingham Trent University</td>\n      <td>5185</td>\n      <td>6305</td>\n      <td>1110</td>\n      <td>1100</td>\n      <td>0.214079</td>\n      <td>0.174465</td>\n    </tr>\n    <tr>\n      <th>20</th>\n      <td>10007796</td>\n      <td>The University of Leicester</td>\n      <td>2880</td>\n      <td>3415</td>\n      <td>535</td>\n      <td>815</td>\n      <td>0.185764</td>\n      <td>0.238653</td>\n    </tr>\n  </tbody>\n</table>\n</div>"
     },
     "metadata": {},
     "execution_count": 2
    }
   ],
   "source": [
    "# load the df\n",
    "%store -r df_population\n",
    "df_population.head()"
   ]
  },
  {
   "source": [
    "## Sample the data"
   ],
   "cell_type": "markdown",
   "metadata": {}
  },
  {
   "cell_type": "code",
   "execution_count": 3,
   "metadata": {},
   "outputs": [],
   "source": [
    "# take a 33% random sample of the dataframe\n",
    "df_population[\"SAMPLE\"] = stats.bernoulli.rvs(p=0.33, size=df_population[\"UKPRN\"].size)"
   ]
  },
  {
   "cell_type": "code",
   "execution_count": 4,
   "metadata": {},
   "outputs": [],
   "source": [
    "# select only successful trials\n",
    "df_sample = df_population.query('SAMPLE == 1')"
   ]
  },
  {
   "cell_type": "code",
   "execution_count": 5,
   "metadata": {},
   "outputs": [],
   "source": [
    "# get the sample size\n",
    "n = df_sample[\"UKPRN\"].size"
   ]
  },
  {
   "cell_type": "code",
   "execution_count": 6,
   "metadata": {},
   "outputs": [
    {
     "output_type": "execute_result",
     "data": {
      "text/plain": [
       "       UKPRN                       PROVIDER  COUNT_2014  COUNT_2018  \\\n",
       "0   10007811  Bishop Grosseteste University         500         455   \n",
       "10  10004113        Loughborough University        2875        3300   \n",
       "30  10007138  The University of Northampton        2810        2670   \n",
       "65  10007789  The University of East Anglia        2870        3600   \n",
       "80  10007147    University of Hertfordshire        4470        4755   \n",
       "\n",
       "    FIRSTS_2014  FIRSTS_2018  PROP 2014  PROP 2018  SAMPLE  \n",
       "0            60          100   0.120000   0.219780       1  \n",
       "10          740          960   0.257391   0.290909       1  \n",
       "30          485          620   0.172598   0.232210       1  \n",
       "65          840         1135   0.292683   0.315278       1  \n",
       "80          875         1150   0.195749   0.241851       1  "
      ],
      "text/html": "<div>\n<style scoped>\n    .dataframe tbody tr th:only-of-type {\n        vertical-align: middle;\n    }\n\n    .dataframe tbody tr th {\n        vertical-align: top;\n    }\n\n    .dataframe thead th {\n        text-align: right;\n    }\n</style>\n<table border=\"1\" class=\"dataframe\">\n  <thead>\n    <tr style=\"text-align: right;\">\n      <th></th>\n      <th>UKPRN</th>\n      <th>PROVIDER</th>\n      <th>COUNT_2014</th>\n      <th>COUNT_2018</th>\n      <th>FIRSTS_2014</th>\n      <th>FIRSTS_2018</th>\n      <th>PROP 2014</th>\n      <th>PROP 2018</th>\n      <th>SAMPLE</th>\n    </tr>\n  </thead>\n  <tbody>\n    <tr>\n      <th>0</th>\n      <td>10007811</td>\n      <td>Bishop Grosseteste University</td>\n      <td>500</td>\n      <td>455</td>\n      <td>60</td>\n      <td>100</td>\n      <td>0.120000</td>\n      <td>0.219780</td>\n      <td>1</td>\n    </tr>\n    <tr>\n      <th>10</th>\n      <td>10004113</td>\n      <td>Loughborough University</td>\n      <td>2875</td>\n      <td>3300</td>\n      <td>740</td>\n      <td>960</td>\n      <td>0.257391</td>\n      <td>0.290909</td>\n      <td>1</td>\n    </tr>\n    <tr>\n      <th>30</th>\n      <td>10007138</td>\n      <td>The University of Northampton</td>\n      <td>2810</td>\n      <td>2670</td>\n      <td>485</td>\n      <td>620</td>\n      <td>0.172598</td>\n      <td>0.232210</td>\n      <td>1</td>\n    </tr>\n    <tr>\n      <th>65</th>\n      <td>10007789</td>\n      <td>The University of East Anglia</td>\n      <td>2870</td>\n      <td>3600</td>\n      <td>840</td>\n      <td>1135</td>\n      <td>0.292683</td>\n      <td>0.315278</td>\n      <td>1</td>\n    </tr>\n    <tr>\n      <th>80</th>\n      <td>10007147</td>\n      <td>University of Hertfordshire</td>\n      <td>4470</td>\n      <td>4755</td>\n      <td>875</td>\n      <td>1150</td>\n      <td>0.195749</td>\n      <td>0.241851</td>\n      <td>1</td>\n    </tr>\n  </tbody>\n</table>\n</div>"
     },
     "metadata": {},
     "execution_count": 6
    }
   ],
   "source": [
    "# preview the sample\n",
    "df_sample.head()"
   ]
  },
  {
   "source": [
    "## Sampling Distribution of the Mean\n",
    "\n",
    "Let $X$ represent the proportion of UG degrees awarded in 2014 by a UK HEI that were of classification First."
   ],
   "cell_type": "markdown",
   "metadata": {}
  },
  {
   "source": [
    "$\\mu_{X}$ is"
   ],
   "cell_type": "markdown",
   "metadata": {}
  },
  {
   "source": [
    "mean_2014 = round(df_population[\"PROP 2014\"].mean(), 3)\n",
    "mean_2014"
   ],
   "cell_type": "code",
   "metadata": {},
   "execution_count": 7,
   "outputs": [
    {
     "output_type": "execute_result",
     "data": {
      "text/plain": [
       "0.189"
      ]
     },
     "metadata": {},
     "execution_count": 7
    }
   ]
  },
  {
   "source": [
    "and $\\sigma_{X}$ is"
   ],
   "cell_type": "markdown",
   "metadata": {}
  },
  {
   "cell_type": "code",
   "execution_count": 8,
   "metadata": {},
   "outputs": [
    {
     "output_type": "execute_result",
     "data": {
      "text/plain": [
       "0.086"
      ]
     },
     "metadata": {},
     "execution_count": 8
    }
   ],
   "source": [
    "std_2014 = round(df_population[\"PROP 2014\"].std(), 4)\n",
    "std_2014"
   ]
  },
  {
   "source": [
    "Sample size:"
   ],
   "cell_type": "markdown",
   "metadata": {}
  },
  {
   "cell_type": "code",
   "execution_count": 9,
   "metadata": {},
   "outputs": [
    {
     "output_type": "execute_result",
     "data": {
      "text/plain": [
       "54"
      ]
     },
     "metadata": {},
     "execution_count": 9
    }
   ],
   "source": [
    "n"
   ]
  },
  {
   "source": [
    "So, by the **Central Limit Theorem**, the mean $\\mu_{X}$ of large $n$ independent random variables each with mean $\\mu$ and standard deviation $\\sigma$ has a distribution\n",
    "\n",
    "$$\n",
    "\\mu_{X} \\sim N \\bigg( \\mu_{X}, \\frac{\\sigma_{X}}{\\sqrt{n}} \\bigg).\n",
    "$$\n",
    "\n",
    "Therefore, $\\mu_{X}$ is"
   ],
   "cell_type": "markdown",
   "metadata": {}
  },
  {
   "cell_type": "code",
   "execution_count": 10,
   "metadata": {},
   "outputs": [
    {
     "output_type": "execute_result",
     "data": {
      "text/plain": [
       "0.189"
      ]
     },
     "metadata": {},
     "execution_count": 10
    }
   ],
   "source": [
    "mean_2014"
   ]
  },
  {
   "source": [
    "And $\\sigma_{X}/ \\sqrt{n}$ is the standard error of the mean"
   ],
   "cell_type": "markdown",
   "metadata": {}
  },
  {
   "cell_type": "code",
   "execution_count": 11,
   "metadata": {},
   "outputs": [
    {
     "output_type": "execute_result",
     "data": {
      "text/plain": [
       "0.0117"
      ]
     },
     "metadata": {},
     "execution_count": 11
    }
   ],
   "source": [
    "std_err = round(std_2014 / (n ** 0.5), 4)\n",
    "std_err"
   ]
  },
  {
   "source": [
    "Therefore, $\\mu_{X}$ is approximately distributed"
   ],
   "cell_type": "markdown",
   "metadata": {}
  },
  {
   "cell_type": "code",
   "execution_count": 12,
   "metadata": {},
   "outputs": [
    {
     "output_type": "stream",
     "name": "stdout",
     "text": [
      "N(0.189, 0.0117)\n"
     ]
    }
   ],
   "source": [
    "print((\"N(\" + str(mean_2014) + \", \"\n",
    "       + str(std_err) + \")\"))"
   ]
  },
  {
   "cell_type": "code",
   "execution_count": 13,
   "metadata": {},
   "outputs": [],
   "source": [
    "# declare the sampling distribution of the mean\n",
    "x = stats.norm(loc=mean_2014, scale=std_err)"
   ]
  },
  {
   "source": [
    "## Calculate 95% and 99% confidence intervals for $\\mu_{X}$\n",
    "\n",
    "The 95% and 99% confidence intervals for $\\mu_{X}$ are...."
   ],
   "cell_type": "markdown",
   "metadata": {}
  },
  {
   "cell_type": "code",
   "execution_count": 14,
   "metadata": {},
   "outputs": [
    {
     "output_type": "execute_result",
     "data": {
      "text/plain": [
       "[0.166, 0.212]"
      ]
     },
     "metadata": {},
     "execution_count": 14
    }
   ],
   "source": [
    "ci_95 = [round(x.interval(alpha=0.95)[0], 3)] + [round(x.interval(alpha=0.95)[1], 3)]\n",
    "ci_95"
   ]
  },
  {
   "cell_type": "code",
   "execution_count": 15,
   "metadata": {},
   "outputs": [
    {
     "output_type": "execute_result",
     "data": {
      "text/plain": [
       "[0.159, 0.219]"
      ]
     },
     "metadata": {},
     "execution_count": 15
    }
   ],
   "source": [
    "ci_99 = [round(x.interval(alpha=0.99)[0], 3)] + [round(x.interval(alpha=0.99)[1], 3)]\n",
    "ci_99"
   ]
  },
  {
   "source": [
    "## Testing the hypothesis\n",
    "\n",
    "Let $F$ represent the proportion of UG degrees awarded in 2018 by a UK HEI that were of classification First.\n",
    "From the sample we generated above, $\\mu_{F}$ is...."
   ],
   "cell_type": "markdown",
   "metadata": {}
  },
  {
   "cell_type": "code",
   "execution_count": 16,
   "metadata": {},
   "outputs": [
    {
     "output_type": "execute_result",
     "data": {
      "text/plain": [
       "0.246"
      ]
     },
     "metadata": {},
     "execution_count": 16
    }
   ],
   "source": [
    "mean_2018 = round(df_sample[\"PROP 2018\"].mean(), 3)\n",
    "mean_2018"
   ]
  },
  {
   "source": [
    "Let us calculate the probability $P(\\mu_{X} \\leq \\mu_{F} \\text{ or } \\mu_{X} \\geq \\mu_{F})$...."
   ],
   "cell_type": "markdown",
   "metadata": {}
  },
  {
   "cell_type": "code",
   "execution_count": 17,
   "metadata": {},
   "outputs": [
    {
     "output_type": "execute_result",
     "data": {
      "text/plain": [
       "1e-06"
      ]
     },
     "metadata": {},
     "execution_count": 17
    }
   ],
   "source": [
    "Pr = round(2 * (1 - x.cdf(x=mean_2018)),6)\n",
    "Pr"
   ]
  },
  {
   "source": [
    "Is $\\mu_{F} \\in 95\\% \\> CI?$"
   ],
   "cell_type": "markdown",
   "metadata": {}
  },
  {
   "cell_type": "code",
   "execution_count": 18,
   "metadata": {},
   "outputs": [
    {
     "output_type": "stream",
     "name": "stdout",
     "text": [
      "Test outcome: False\n"
     ]
    }
   ],
   "source": [
    "print(\"Test outcome:\", mean_2018 >= ci_95[0] and mean_2018 <= ci_95[1])"
   ]
  },
  {
   "source": [
    "Is $\\mu_{F} \\in 99\\% \\> CI?$"
   ],
   "cell_type": "markdown",
   "metadata": {}
  },
  {
   "cell_type": "code",
   "execution_count": 19,
   "metadata": {},
   "outputs": [
    {
     "output_type": "stream",
     "name": "stdout",
     "text": [
      "Test outcome: False\n"
     ]
    }
   ],
   "source": [
    "print(\"Test outcome:\", mean_2018 >= ci_99[0] and mean_2018 <= ci_99[1])"
   ]
  }
 ]
}