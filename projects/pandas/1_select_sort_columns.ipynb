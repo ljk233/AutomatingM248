{
 "metadata": {
  "language_info": {
   "codemirror_mode": {
    "name": "ipython",
    "version": 3
   },
   "file_extension": ".py",
   "mimetype": "text/x-python",
   "name": "python",
   "nbconvert_exporter": "python",
   "pygments_lexer": "ipython3",
   "version": "3.8.3-final"
  },
  "orig_nbformat": 2,
  "kernelspec": {
   "name": "python3",
   "display_name": "Python 3",
   "language": "python"
  }
 },
 "nbformat": 4,
 "nbformat_minor": 2,
 "cells": [
  {
   "source": [
    "# Select and Sort Columns in a DataFrame\n",
    "\n",
    "In this example, we will see how to\n",
    "\n",
    "1. select specific columns;\n",
    "2. sort on specific columns."
   ],
   "cell_type": "markdown",
   "metadata": {}
  },
  {
   "cell_type": "code",
   "execution_count": 1,
   "metadata": {},
   "outputs": [],
   "source": [
    "from scripts import query\n",
    "import pandas as pd"
   ]
  },
  {
   "cell_type": "code",
   "execution_count": 2,
   "metadata": {},
   "outputs": [],
   "source": [
    "# import the tracks table\n",
    "chinook = query.Database(db=\"data/chinook.db\")\n",
    "tbl = query.Table(table=\"tracks\", db=chinook)\n",
    "df_tracks = tbl.toDF()"
   ]
  },
  {
   "cell_type": "code",
   "execution_count": 3,
   "metadata": {},
   "outputs": [
    {
     "output_type": "execute_result",
     "data": {
      "text/plain": [
       "   TrackId                                     Name  AlbumId  MediaTypeId  \\\n",
       "0        1  For Those About To Rock (We Salute You)        1            1   \n",
       "1        2                        Balls to the Wall        2            2   \n",
       "2        3                          Fast As a Shark        3            2   \n",
       "3        4                        Restless and Wild        3            2   \n",
       "4        5                     Princess of the Dawn        3            2   \n",
       "\n",
       "   GenreId                                           Composer  Milliseconds  \\\n",
       "0        1          Angus Young, Malcolm Young, Brian Johnson        343719   \n",
       "1        1                                               None        342562   \n",
       "2        1  F. Baltes, S. Kaufman, U. Dirkscneider & W. Ho...        230619   \n",
       "3        1  F. Baltes, R.A. Smith-Diesel, S. Kaufman, U. D...        252051   \n",
       "4        1                         Deaffy & R.A. Smith-Diesel        375418   \n",
       "\n",
       "      Bytes  UnitPrice  \n",
       "0  11170334       0.99  \n",
       "1   5510424       0.99  \n",
       "2   3990994       0.99  \n",
       "3   4331779       0.99  \n",
       "4   6290521       0.99  "
      ],
      "text/html": "<div>\n<style scoped>\n    .dataframe tbody tr th:only-of-type {\n        vertical-align: middle;\n    }\n\n    .dataframe tbody tr th {\n        vertical-align: top;\n    }\n\n    .dataframe thead th {\n        text-align: right;\n    }\n</style>\n<table border=\"1\" class=\"dataframe\">\n  <thead>\n    <tr style=\"text-align: right;\">\n      <th></th>\n      <th>TrackId</th>\n      <th>Name</th>\n      <th>AlbumId</th>\n      <th>MediaTypeId</th>\n      <th>GenreId</th>\n      <th>Composer</th>\n      <th>Milliseconds</th>\n      <th>Bytes</th>\n      <th>UnitPrice</th>\n    </tr>\n  </thead>\n  <tbody>\n    <tr>\n      <th>0</th>\n      <td>1</td>\n      <td>For Those About To Rock (We Salute You)</td>\n      <td>1</td>\n      <td>1</td>\n      <td>1</td>\n      <td>Angus Young, Malcolm Young, Brian Johnson</td>\n      <td>343719</td>\n      <td>11170334</td>\n      <td>0.99</td>\n    </tr>\n    <tr>\n      <th>1</th>\n      <td>2</td>\n      <td>Balls to the Wall</td>\n      <td>2</td>\n      <td>2</td>\n      <td>1</td>\n      <td>None</td>\n      <td>342562</td>\n      <td>5510424</td>\n      <td>0.99</td>\n    </tr>\n    <tr>\n      <th>2</th>\n      <td>3</td>\n      <td>Fast As a Shark</td>\n      <td>3</td>\n      <td>2</td>\n      <td>1</td>\n      <td>F. Baltes, S. Kaufman, U. Dirkscneider &amp; W. Ho...</td>\n      <td>230619</td>\n      <td>3990994</td>\n      <td>0.99</td>\n    </tr>\n    <tr>\n      <th>3</th>\n      <td>4</td>\n      <td>Restless and Wild</td>\n      <td>3</td>\n      <td>2</td>\n      <td>1</td>\n      <td>F. Baltes, R.A. Smith-Diesel, S. Kaufman, U. D...</td>\n      <td>252051</td>\n      <td>4331779</td>\n      <td>0.99</td>\n    </tr>\n    <tr>\n      <th>4</th>\n      <td>5</td>\n      <td>Princess of the Dawn</td>\n      <td>3</td>\n      <td>2</td>\n      <td>1</td>\n      <td>Deaffy &amp; R.A. Smith-Diesel</td>\n      <td>375418</td>\n      <td>6290521</td>\n      <td>0.99</td>\n    </tr>\n  </tbody>\n</table>\n</div>"
     },
     "metadata": {},
     "execution_count": 3
    }
   ],
   "source": [
    "df_tracks.head()"
   ]
  },
  {
   "source": [
    "## Selecting columns\n",
    "\n",
    "~~~pathon\n",
    "df[[\"col1\", \"col2\", ...]]\n",
    "~~~\n",
    "\n",
    "Note the column names are case sensitive.\n",
    "\n",
    "**Example 1.** View only the: `Trackid`, `Name`, `Composer`, and `UnitPrice` columns."
   ],
   "cell_type": "markdown",
   "metadata": {}
  },
  {
   "cell_type": "code",
   "execution_count": 5,
   "metadata": {},
   "outputs": [
    {
     "output_type": "execute_result",
     "data": {
      "text/plain": [
       "   TrackId                                     Name  \\\n",
       "0        1  For Those About To Rock (We Salute You)   \n",
       "1        2                        Balls to the Wall   \n",
       "2        3                          Fast As a Shark   \n",
       "3        4                        Restless and Wild   \n",
       "4        5                     Princess of the Dawn   \n",
       "\n",
       "                                            Composer  UnitPrice  \n",
       "0          Angus Young, Malcolm Young, Brian Johnson       0.99  \n",
       "1                                               None       0.99  \n",
       "2  F. Baltes, S. Kaufman, U. Dirkscneider & W. Ho...       0.99  \n",
       "3  F. Baltes, R.A. Smith-Diesel, S. Kaufman, U. D...       0.99  \n",
       "4                         Deaffy & R.A. Smith-Diesel       0.99  "
      ],
      "text/html": "<div>\n<style scoped>\n    .dataframe tbody tr th:only-of-type {\n        vertical-align: middle;\n    }\n\n    .dataframe tbody tr th {\n        vertical-align: top;\n    }\n\n    .dataframe thead th {\n        text-align: right;\n    }\n</style>\n<table border=\"1\" class=\"dataframe\">\n  <thead>\n    <tr style=\"text-align: right;\">\n      <th></th>\n      <th>TrackId</th>\n      <th>Name</th>\n      <th>Composer</th>\n      <th>UnitPrice</th>\n    </tr>\n  </thead>\n  <tbody>\n    <tr>\n      <th>0</th>\n      <td>1</td>\n      <td>For Those About To Rock (We Salute You)</td>\n      <td>Angus Young, Malcolm Young, Brian Johnson</td>\n      <td>0.99</td>\n    </tr>\n    <tr>\n      <th>1</th>\n      <td>2</td>\n      <td>Balls to the Wall</td>\n      <td>None</td>\n      <td>0.99</td>\n    </tr>\n    <tr>\n      <th>2</th>\n      <td>3</td>\n      <td>Fast As a Shark</td>\n      <td>F. Baltes, S. Kaufman, U. Dirkscneider &amp; W. Ho...</td>\n      <td>0.99</td>\n    </tr>\n    <tr>\n      <th>3</th>\n      <td>4</td>\n      <td>Restless and Wild</td>\n      <td>F. Baltes, R.A. Smith-Diesel, S. Kaufman, U. D...</td>\n      <td>0.99</td>\n    </tr>\n    <tr>\n      <th>4</th>\n      <td>5</td>\n      <td>Princess of the Dawn</td>\n      <td>Deaffy &amp; R.A. Smith-Diesel</td>\n      <td>0.99</td>\n    </tr>\n  </tbody>\n</table>\n</div>"
     },
     "metadata": {},
     "execution_count": 5
    }
   ],
   "source": [
    "df_tracks[[\"TrackId\", \"Name\", \"Composer\", \"UnitPrice\"]].head()"
   ]
  },
  {
   "source": [
    "## Sorting columns\n",
    "\n",
    "~~~python\n",
    "DataFrame.sort_values(by, axis=0, ascending=True,\n",
    "                      inplace=False, kind='quicksort',\n",
    "                      na_position='last', ignore_index=False, key=None)\n",
    "~~~\n",
    "\n",
    "**Example 2.** Select the `Name`, `Milliseconds`, `Composer` and `AlbumId` columns, and sort on `AlbumId`."
   ],
   "cell_type": "markdown",
   "metadata": {}
  },
  {
   "cell_type": "code",
   "execution_count": 15,
   "metadata": {},
   "outputs": [],
   "source": [
    "df_sorted = df_tracks[[\"Name\", \"Milliseconds\", \"Composer\", \"AlbumId\"]]"
   ]
  },
  {
   "cell_type": "code",
   "execution_count": 9,
   "metadata": {},
   "outputs": [
    {
     "output_type": "execute_result",
     "data": {
      "text/plain": [
       "                                       Name  Milliseconds  AlbumId\n",
       "0   For Those About To Rock (We Salute You)        343719        1\n",
       "13                               Spellbound        270863        1\n",
       "12                 Night Of The Long Knives        205688        1\n",
       "11                       Breaking The Rules        263288        1\n",
       "10                                   C.O.D.        199836        1"
      ],
      "text/html": "<div>\n<style scoped>\n    .dataframe tbody tr th:only-of-type {\n        vertical-align: middle;\n    }\n\n    .dataframe tbody tr th {\n        vertical-align: top;\n    }\n\n    .dataframe thead th {\n        text-align: right;\n    }\n</style>\n<table border=\"1\" class=\"dataframe\">\n  <thead>\n    <tr style=\"text-align: right;\">\n      <th></th>\n      <th>Name</th>\n      <th>Milliseconds</th>\n      <th>AlbumId</th>\n    </tr>\n  </thead>\n  <tbody>\n    <tr>\n      <th>0</th>\n      <td>For Those About To Rock (We Salute You)</td>\n      <td>343719</td>\n      <td>1</td>\n    </tr>\n    <tr>\n      <th>13</th>\n      <td>Spellbound</td>\n      <td>270863</td>\n      <td>1</td>\n    </tr>\n    <tr>\n      <th>12</th>\n      <td>Night Of The Long Knives</td>\n      <td>205688</td>\n      <td>1</td>\n    </tr>\n    <tr>\n      <th>11</th>\n      <td>Breaking The Rules</td>\n      <td>263288</td>\n      <td>1</td>\n    </tr>\n    <tr>\n      <th>10</th>\n      <td>C.O.D.</td>\n      <td>199836</td>\n      <td>1</td>\n    </tr>\n  </tbody>\n</table>\n</div>"
     },
     "metadata": {},
     "execution_count": 9
    }
   ],
   "source": [
    "# sort by default ascending\n",
    "df_sorted.sort_values(by=\"AlbumId\").head()"
   ]
  },
  {
   "cell_type": "code",
   "execution_count": 10,
   "metadata": {},
   "outputs": [
    {
     "output_type": "execute_result",
     "data": {
      "text/plain": [
       "                                                   Name  Milliseconds  AlbumId\n",
       "3502                                      Koyaanisqatsi        206005      347\n",
       "3501  Quintet for Horn, Violin, 2 Violas, and Cello ...        221331      346\n",
       "3500               L'orfeo, Act 3, Sinfonia (Orchestra)         66639      345\n",
       "3499  String Quartet No. 12 in C Minor, D. 703 \"Quar...        139200      344\n",
       "3498  Pini Di Roma (Pinien Von Rom) \\ I Pini Della V...        286741      343"
      ],
      "text/html": "<div>\n<style scoped>\n    .dataframe tbody tr th:only-of-type {\n        vertical-align: middle;\n    }\n\n    .dataframe tbody tr th {\n        vertical-align: top;\n    }\n\n    .dataframe thead th {\n        text-align: right;\n    }\n</style>\n<table border=\"1\" class=\"dataframe\">\n  <thead>\n    <tr style=\"text-align: right;\">\n      <th></th>\n      <th>Name</th>\n      <th>Milliseconds</th>\n      <th>AlbumId</th>\n    </tr>\n  </thead>\n  <tbody>\n    <tr>\n      <th>3502</th>\n      <td>Koyaanisqatsi</td>\n      <td>206005</td>\n      <td>347</td>\n    </tr>\n    <tr>\n      <th>3501</th>\n      <td>Quintet for Horn, Violin, 2 Violas, and Cello ...</td>\n      <td>221331</td>\n      <td>346</td>\n    </tr>\n    <tr>\n      <th>3500</th>\n      <td>L'orfeo, Act 3, Sinfonia (Orchestra)</td>\n      <td>66639</td>\n      <td>345</td>\n    </tr>\n    <tr>\n      <th>3499</th>\n      <td>String Quartet No. 12 in C Minor, D. 703 \"Quar...</td>\n      <td>139200</td>\n      <td>344</td>\n    </tr>\n    <tr>\n      <th>3498</th>\n      <td>Pini Di Roma (Pinien Von Rom) \\ I Pini Della V...</td>\n      <td>286741</td>\n      <td>343</td>\n    </tr>\n  </tbody>\n</table>\n</div>"
     },
     "metadata": {},
     "execution_count": 10
    }
   ],
   "source": [
    "# sort descending\n",
    "df_sorted.sort_values(by=\"AlbumId\", ascending=False).head()"
   ]
  },
  {
   "source": [
    "**Example 3.** Multisort on `AlbumId` and `Milliseconds`."
   ],
   "cell_type": "markdown",
   "metadata": {}
  },
  {
   "cell_type": "code",
   "execution_count": 12,
   "metadata": {},
   "outputs": [
    {
     "output_type": "execute_result",
     "data": {
      "text/plain": [
       "                        Name  Milliseconds  AlbumId\n",
       "10                    C.O.D.        199836        1\n",
       "8                 Snowballed        203102        1\n",
       "5      Put The Finger On You        205662        1\n",
       "12  Night Of The Long Knives        205688        1\n",
       "7           Inject The Venom        210834        1"
      ],
      "text/html": "<div>\n<style scoped>\n    .dataframe tbody tr th:only-of-type {\n        vertical-align: middle;\n    }\n\n    .dataframe tbody tr th {\n        vertical-align: top;\n    }\n\n    .dataframe thead th {\n        text-align: right;\n    }\n</style>\n<table border=\"1\" class=\"dataframe\">\n  <thead>\n    <tr style=\"text-align: right;\">\n      <th></th>\n      <th>Name</th>\n      <th>Milliseconds</th>\n      <th>AlbumId</th>\n    </tr>\n  </thead>\n  <tbody>\n    <tr>\n      <th>10</th>\n      <td>C.O.D.</td>\n      <td>199836</td>\n      <td>1</td>\n    </tr>\n    <tr>\n      <th>8</th>\n      <td>Snowballed</td>\n      <td>203102</td>\n      <td>1</td>\n    </tr>\n    <tr>\n      <th>5</th>\n      <td>Put The Finger On You</td>\n      <td>205662</td>\n      <td>1</td>\n    </tr>\n    <tr>\n      <th>12</th>\n      <td>Night Of The Long Knives</td>\n      <td>205688</td>\n      <td>1</td>\n    </tr>\n    <tr>\n      <th>7</th>\n      <td>Inject The Venom</td>\n      <td>210834</td>\n      <td>1</td>\n    </tr>\n  </tbody>\n</table>\n</div>"
     },
     "metadata": {},
     "execution_count": 12
    }
   ],
   "source": [
    "# sort both Asc\n",
    "df_sorted.sort_values(by=[\"AlbumId\", \"Milliseconds\"]).head()"
   ]
  },
  {
   "source": [
    "# sort Asc, then desc\n",
    "df_sorted.sort_values(by=[\"AlbumId\", \"Milliseconds\"], ascending=[True, False]).head()"
   ],
   "cell_type": "code",
   "metadata": {},
   "execution_count": 13,
   "outputs": [
    {
     "output_type": "execute_result",
     "data": {
      "text/plain": [
       "                                       Name  Milliseconds  AlbumId\n",
       "0   For Those About To Rock (We Salute You)        343719        1\n",
       "13                               Spellbound        270863        1\n",
       "9                                Evil Walks        263497        1\n",
       "11                       Breaking The Rules        263288        1\n",
       "6                           Let's Get It Up        233926        1"
      ],
      "text/html": "<div>\n<style scoped>\n    .dataframe tbody tr th:only-of-type {\n        vertical-align: middle;\n    }\n\n    .dataframe tbody tr th {\n        vertical-align: top;\n    }\n\n    .dataframe thead th {\n        text-align: right;\n    }\n</style>\n<table border=\"1\" class=\"dataframe\">\n  <thead>\n    <tr style=\"text-align: right;\">\n      <th></th>\n      <th>Name</th>\n      <th>Milliseconds</th>\n      <th>AlbumId</th>\n    </tr>\n  </thead>\n  <tbody>\n    <tr>\n      <th>0</th>\n      <td>For Those About To Rock (We Salute You)</td>\n      <td>343719</td>\n      <td>1</td>\n    </tr>\n    <tr>\n      <th>13</th>\n      <td>Spellbound</td>\n      <td>270863</td>\n      <td>1</td>\n    </tr>\n    <tr>\n      <th>9</th>\n      <td>Evil Walks</td>\n      <td>263497</td>\n      <td>1</td>\n    </tr>\n    <tr>\n      <th>11</th>\n      <td>Breaking The Rules</td>\n      <td>263288</td>\n      <td>1</td>\n    </tr>\n    <tr>\n      <th>6</th>\n      <td>Let's Get It Up</td>\n      <td>233926</td>\n      <td>1</td>\n    </tr>\n  </tbody>\n</table>\n</div>"
     },
     "metadata": {},
     "execution_count": 13
    }
   ]
  },
  {
   "source": [
    "Note, if multisort does not have both columns ascending, then `ascending=[]` must be a list of equal length of `by=[]`."
   ],
   "cell_type": "markdown",
   "metadata": {}
  },
  {
   "source": [
    "**Example 4.** Sort on `Composer` with `None` values first.\n",
    "\n",
    "Note, `na_position=\"last\"` is default."
   ],
   "cell_type": "markdown",
   "metadata": {}
  },
  {
   "cell_type": "code",
   "execution_count": 16,
   "metadata": {},
   "outputs": [
    {
     "output_type": "execute_result",
     "data": {
      "text/plain": [
       "                                     Name  Milliseconds Composer  AlbumId\n",
       "1                       Balls to the Wall        342562     None        2\n",
       "62                             Desafinado        185338     None        8\n",
       "63                      Garota De Ipanema        285048     None        8\n",
       "64  Samba De Uma Nota Só (One Note Samba)        137273     None        8\n",
       "65                      Por Causa De Você        169900     None        8"
      ],
      "text/html": "<div>\n<style scoped>\n    .dataframe tbody tr th:only-of-type {\n        vertical-align: middle;\n    }\n\n    .dataframe tbody tr th {\n        vertical-align: top;\n    }\n\n    .dataframe thead th {\n        text-align: right;\n    }\n</style>\n<table border=\"1\" class=\"dataframe\">\n  <thead>\n    <tr style=\"text-align: right;\">\n      <th></th>\n      <th>Name</th>\n      <th>Milliseconds</th>\n      <th>Composer</th>\n      <th>AlbumId</th>\n    </tr>\n  </thead>\n  <tbody>\n    <tr>\n      <th>1</th>\n      <td>Balls to the Wall</td>\n      <td>342562</td>\n      <td>None</td>\n      <td>2</td>\n    </tr>\n    <tr>\n      <th>62</th>\n      <td>Desafinado</td>\n      <td>185338</td>\n      <td>None</td>\n      <td>8</td>\n    </tr>\n    <tr>\n      <th>63</th>\n      <td>Garota De Ipanema</td>\n      <td>285048</td>\n      <td>None</td>\n      <td>8</td>\n    </tr>\n    <tr>\n      <th>64</th>\n      <td>Samba De Uma Nota Só (One Note Samba)</td>\n      <td>137273</td>\n      <td>None</td>\n      <td>8</td>\n    </tr>\n    <tr>\n      <th>65</th>\n      <td>Por Causa De Você</td>\n      <td>169900</td>\n      <td>None</td>\n      <td>8</td>\n    </tr>\n  </tbody>\n</table>\n</div>"
     },
     "metadata": {},
     "execution_count": 16
    }
   ],
   "source": [
    "df_sorted.sort_values(by=\"Composer\", na_position=\"first\").head()"
   ]
  }
 ]
}