{
 "cells": [
  {
   "cell_type": "markdown",
   "metadata": {},
   "source": [
    "# Investigate the dataset"
   ]
  },
  {
   "cell_type": "code",
   "execution_count": 1,
   "metadata": {},
   "outputs": [],
   "source": [
    "from scipy.stats import poisson, expon, norm\n",
    "import matplotlib.pyplot as plt\n",
    "import numpy as np\n",
    "import pandas as pd\n",
    "import seaborn as sns\n",
    "from datetime import datetime\n",
    "from math import sqrt"
   ]
  },
  {
   "cell_type": "code",
   "execution_count": 2,
   "metadata": {},
   "outputs": [],
   "source": [
    "# load the dataset\n",
    "df = pd.read_csv(\"email_log.csv\")"
   ]
  },
  {
   "cell_type": "code",
   "execution_count": 3,
   "metadata": {},
   "outputs": [
    {
     "data": {
      "text/plain": [
       "DATE    object\n",
       "TIME    object\n",
       "dtype: object"
      ]
     },
     "execution_count": 3,
     "metadata": {},
     "output_type": "execute_result"
    }
   ],
   "source": [
    "df.dtypes"
   ]
  },
  {
   "cell_type": "code",
   "execution_count": 4,
   "metadata": {},
   "outputs": [],
   "source": [
    "# convert the DATE and TIME to DATETIME\n",
    "df[\"DATE\"] = pd.to_datetime(df[\"DATE\"])\n",
    "df[\"TIME\"] = pd.to_datetime(df[\"TIME\"])"
   ]
  },
  {
   "cell_type": "markdown",
   "metadata": {},
   "source": [
    "# Parsing the DateTime\n",
    "\n",
    "We need to append four attributes to the dataset.\n",
    "\n",
    "- DAYS passed from 2020-1-1 (the origin)\n",
    "- HOUR of receipts\n",
    "- MINUTE of receipt\n",
    "- SECOND of receipt"
   ]
  },
  {
   "cell_type": "code",
   "execution_count": 5,
   "metadata": {},
   "outputs": [],
   "source": [
    "# Count of days from from 2020-01-01\n",
    "START_DAY = pd.to_datetime(\"2020-01-01\")\n",
    "df[\"DAY\"] = df[\"DATE\"] - pd.to_datetime(\"2020-01-01\")"
   ]
  },
  {
   "cell_type": "code",
   "execution_count": 6,
   "metadata": {},
   "outputs": [],
   "source": [
    "# recast timedelta to int\n",
    "df[\"DAY\"] = df[\"DAY\"].dt.days.astype('int64')"
   ]
  },
  {
   "cell_type": "code",
   "execution_count": 7,
   "metadata": {},
   "outputs": [],
   "source": [
    "# recast TIME.hour to int\n",
    "df[\"HOUR\"] = df[\"TIME\"].dt.hour.astype('int64')"
   ]
  },
  {
   "cell_type": "code",
   "execution_count": 8,
   "metadata": {},
   "outputs": [],
   "source": [
    "# recast TIME.mins to int\n",
    "df[\"MINUTE\"] = df[\"TIME\"].dt.minute.astype('int64')"
   ]
  },
  {
   "cell_type": "code",
   "execution_count": 9,
   "metadata": {},
   "outputs": [],
   "source": [
    "# recast TIME.seconds to int\n",
    "df[\"SECOND\"] = df[\"TIME\"].dt.second.astype('int64')"
   ]
  },
  {
   "cell_type": "markdown",
   "metadata": {},
   "source": [
    "## Checking the Poisson process\n",
    "\n",
    "We need to produce a barplot of each distinct number of emails."
   ]
  },
  {
   "cell_type": "code",
   "execution_count": 10,
   "metadata": {},
   "outputs": [],
   "source": [
    "# create a key field to couny\n",
    "df[\"key_DD-HH\"] = df[\"DATE\"].astype(\"str\") + df[\"HOUR\"].astype(\"str\")"
   ]
  },
  {
   "cell_type": "code",
   "execution_count": 11,
   "metadata": {},
   "outputs": [],
   "source": [
    "# count the number of emails per hour\n",
    "tmp_count_per_hour = df.groupby(by=[\"key_DD-HH\"]).count()"
   ]
  },
  {
   "cell_type": "code",
   "execution_count": 12,
   "metadata": {},
   "outputs": [],
   "source": [
    "# count the frequency of each emails received\n",
    "tmp_count_of_freq = tmp_count_per_hour.groupby(by=[\"DATE\"]).count()"
   ]
  },
  {
   "cell_type": "code",
   "execution_count": 13,
   "metadata": {},
   "outputs": [],
   "source": [
    "# reset the index\n",
    "tmp_count_of_freq.reset_index(inplace=True)"
   ]
  },
  {
   "cell_type": "code",
   "execution_count": 14,
   "metadata": {},
   "outputs": [],
   "source": [
    "# drop columns\n",
    "tmp_count_of_freq = tmp_count_of_freq[[\"DATE\", \"TIME\"]]"
   ]
  },
  {
   "cell_type": "code",
   "execution_count": 15,
   "metadata": {},
   "outputs": [],
   "source": [
    "# rename remaining\n",
    "tmp_count_of_freq.rename(columns={\"DATE\": \"X\", \"TIME\": \"COUNT\"}, inplace=True)"
   ]
  },
  {
   "cell_type": "code",
   "execution_count": 16,
   "metadata": {},
   "outputs": [],
   "source": [
    "# output data\n",
    "tmp_count_of_freq.to_csv(\"count_of_freq.csv\")"
   ]
  },
  {
   "cell_type": "code",
   "execution_count": 17,
   "metadata": {},
   "outputs": [
    {
     "data": {
      "text/plain": [
       "<AxesSubplot:xlabel='X', ylabel='COUNT'>"
      ]
     },
     "execution_count": 17,
     "metadata": {},
     "output_type": "execute_result"
    },
    {
     "data": {
      "image/png": "[encoded data removed]",
      "text/plain": [
       "<Figure size 432x288 with 1 Axes>"
      ]
     },
     "metadata": {
      "needs_background": "light"
     },
     "output_type": "display_data"
    }
   ],
   "source": [
    "# plot the data\n",
    "sns.barplot(data=tmp_count_of_freq,\n",
    "            x=\"X\",\n",
    "            y=\"COUNT\",\n",
    "            color=\"royalblue\")"
   ]
  },
  {
   "cell_type": "code",
   "execution_count": 18,
   "metadata": {},
   "outputs": [],
   "source": [
    "# Get the mean and variance of count of emails\n",
    "mu_pois = tmp_count_per_hour[\"HOUR\"].mean()\n",
    "mu_var = tmp_count_per_hour[\"HOUR\"].var()"
   ]
  },
  {
   "cell_type": "markdown",
   "metadata": {},
   "source": [
    "## Rate of emails is constant\n",
    "\n",
    "Get the time stamp of each event in HOURS.\n",
    "\n",
    "- Convert DAY, HOUR, and MIN to seconds\n",
    "- Sum DAY + HOUR + MIN + SECOND"
   ]
  },
  {
   "cell_type": "code",
   "execution_count": 19,
   "metadata": {},
   "outputs": [],
   "source": [
    "tmp_rate_emails = pd.DataFrame()"
   ]
  },
  {
   "cell_type": "code",
   "execution_count": 20,
   "metadata": {},
   "outputs": [],
   "source": [
    "HOURS_PER_DAY = 8  # As this is a work day\n",
    "tmp_rate_emails[\"DAY\"] = df[\"DAY\"] * HOURS_PER_DAY"
   ]
  },
  {
   "cell_type": "code",
   "execution_count": 21,
   "metadata": {},
   "outputs": [],
   "source": [
    "# reindex 9.00-17.00 to 00.00-08.00\n",
    "tmp_rate_emails[\"HOUR\"] = (df[\"HOUR\"] - 1) % 8"
   ]
  },
  {
   "cell_type": "code",
   "execution_count": 22,
   "metadata": {},
   "outputs": [],
   "source": [
    "HOURS_PER_MINUTE = 1 / 60\n",
    "tmp_rate_emails[\"MINUTE\"] = df[\"MINUTE\"] * HOURS_PER_MINUTE"
   ]
  },
  {
   "cell_type": "code",
   "execution_count": 23,
   "metadata": {},
   "outputs": [],
   "source": [
    "HOURS_PER_SECONDS = 1/3600\n",
    "tmp_rate_emails[\"SECOND\"] = df[\"SECOND\"] * HOURS_PER_SECONDS"
   ]
  },
  {
   "cell_type": "code",
   "execution_count": 24,
   "metadata": {},
   "outputs": [],
   "source": [
    "# time stamp in seconds\n",
    "# continuous time from the origin\n",
    "tmp_rate_emails[\"TIME STAMP (HH)\"] = (tmp_rate_emails[\"DAY\"] +\n",
    "                                      tmp_rate_emails[\"HOUR\"] +\n",
    "                                      tmp_rate_emails[\"MINUTE\"] +\n",
    "                                      tmp_rate_emails[\"SECOND\"])"
   ]
  },
  {
   "cell_type": "code",
   "execution_count": 25,
   "metadata": {},
   "outputs": [],
   "source": [
    "a_range = np.arange(start=1,\n",
    "                    stop=tmp_rate_emails[\"TIME STAMP (HH)\"].size+1)\n",
    "\n",
    "# append a_range to tmp\n",
    "tmp_rate_emails[\"EVENT\"] = a_range"
   ]
  },
  {
   "cell_type": "code",
   "execution_count": 26,
   "metadata": {},
   "outputs": [
    {
     "data": {
      "text/plain": [
       "<AxesSubplot:xlabel='TIME STAMP (HH)', ylabel='EVENT'>"
      ]
     },
     "execution_count": 26,
     "metadata": {},
     "output_type": "execute_result"
    },
    {
     "data": {
      "image/png": "[encoded data removed]",
      "text/plain": [
       "<Figure size 432x288 with 1 Axes>"
      ]
     },
     "metadata": {
      "needs_background": "light"
     },
     "output_type": "display_data"
    }
   ],
   "source": [
    "# visualise the dataframe\n",
    "sns.scatterplot(data=tmp_rate_emails,\n",
    "                x=\"TIME STAMP (HH)\",\n",
    "                y=\"EVENT\",\n",
    "                alpha=1,\n",
    "                s=1)"
   ]
  },
  {
   "cell_type": "markdown",
   "metadata": {},
   "source": [
    "## Waiting time between events\n",
    "\n",
    "Find the timedelta between successive events"
   ]
  },
  {
   "cell_type": "code",
   "execution_count": 27,
   "metadata": {},
   "outputs": [],
   "source": [
    "tmp_waiting_time = pd.DataFrame()"
   ]
  },
  {
   "cell_type": "code",
   "execution_count": 28,
   "metadata": {},
   "outputs": [],
   "source": [
    "tmp_waiting_time[\"TIME STAMP (HH)\"] = tmp_rate_emails[\"TIME STAMP (HH)\"]"
   ]
  },
  {
   "cell_type": "code",
   "execution_count": 29,
   "metadata": {},
   "outputs": [],
   "source": [
    "# shift() shifts the row relative to the row being looked at\n",
    "tmp_waiting_time[\"WAITING TIME (HH)\"] = (tmp_waiting_time[\"TIME STAMP (HH)\"]-\n",
    "                                         tmp_waiting_time[\"TIME STAMP (HH)\"].shift(periods=1))"
   ]
  },
  {
   "cell_type": "markdown",
   "metadata": {},
   "source": [
    "There is a blank waiting time at the first event.\n",
    "Let us drop this row."
   ]
  },
  {
   "cell_type": "code",
   "execution_count": 30,
   "metadata": {},
   "outputs": [
    {
     "data": {
      "text/html": [
       "<div>\n",
       "<style scoped>\n",
       "    .dataframe tbody tr th:only-of-type {\n",
       "        vertical-align: middle;\n",
       "    }\n",
       "\n",
       "    .dataframe tbody tr th {\n",
       "        vertical-align: top;\n",
       "    }\n",
       "\n",
       "    .dataframe thead th {\n",
       "        text-align: right;\n",
       "    }\n",
       "</style>\n",
       "<table border=\"1\" class=\"dataframe\">\n",
       "  <thead>\n",
       "    <tr style=\"text-align: right;\">\n",
       "      <th></th>\n",
       "      <th>TIME STAMP (HH)</th>\n",
       "      <th>WAITING TIME (HH)</th>\n",
       "    </tr>\n",
       "  </thead>\n",
       "  <tbody>\n",
       "    <tr>\n",
       "      <th>1</th>\n",
       "      <td>0.103889</td>\n",
       "      <td>0.070000</td>\n",
       "    </tr>\n",
       "    <tr>\n",
       "      <th>2</th>\n",
       "      <td>0.111944</td>\n",
       "      <td>0.008056</td>\n",
       "    </tr>\n",
       "    <tr>\n",
       "      <th>3</th>\n",
       "      <td>0.151389</td>\n",
       "      <td>0.039444</td>\n",
       "    </tr>\n",
       "    <tr>\n",
       "      <th>4</th>\n",
       "      <td>0.256667</td>\n",
       "      <td>0.105278</td>\n",
       "    </tr>\n",
       "    <tr>\n",
       "      <th>5</th>\n",
       "      <td>0.260278</td>\n",
       "      <td>0.003611</td>\n",
       "    </tr>\n",
       "    <tr>\n",
       "      <th>...</th>\n",
       "      <td>...</td>\n",
       "      <td>...</td>\n",
       "    </tr>\n",
       "    <tr>\n",
       "      <th>9970</th>\n",
       "      <td>806.938333</td>\n",
       "      <td>0.015278</td>\n",
       "    </tr>\n",
       "    <tr>\n",
       "      <th>9971</th>\n",
       "      <td>807.143333</td>\n",
       "      <td>0.205000</td>\n",
       "    </tr>\n",
       "    <tr>\n",
       "      <th>9972</th>\n",
       "      <td>807.401111</td>\n",
       "      <td>0.257778</td>\n",
       "    </tr>\n",
       "    <tr>\n",
       "      <th>9973</th>\n",
       "      <td>807.600556</td>\n",
       "      <td>0.199444</td>\n",
       "    </tr>\n",
       "    <tr>\n",
       "      <th>9974</th>\n",
       "      <td>807.663056</td>\n",
       "      <td>0.062500</td>\n",
       "    </tr>\n",
       "  </tbody>\n",
       "</table>\n",
       "<p>9974 rows × 2 columns</p>\n",
       "</div>"
      ],
      "text/plain": [
       "      TIME STAMP (HH)  WAITING TIME (HH)\n",
       "1            0.103889           0.070000\n",
       "2            0.111944           0.008056\n",
       "3            0.151389           0.039444\n",
       "4            0.256667           0.105278\n",
       "5            0.260278           0.003611\n",
       "...               ...                ...\n",
       "9970       806.938333           0.015278\n",
       "9971       807.143333           0.205000\n",
       "9972       807.401111           0.257778\n",
       "9973       807.600556           0.199444\n",
       "9974       807.663056           0.062500\n",
       "\n",
       "[9974 rows x 2 columns]"
      ]
     },
     "execution_count": 30,
     "metadata": {},
     "output_type": "execute_result"
    }
   ],
   "source": [
    "tmp_waiting_time.dropna()"
   ]
  },
  {
   "cell_type": "code",
   "execution_count": 31,
   "metadata": {},
   "outputs": [
    {
     "data": {
      "text/plain": [
       "<AxesSubplot:xlabel='WAITING TIME (HH)', ylabel='Count'>"
      ]
     },
     "execution_count": 31,
     "metadata": {},
     "output_type": "execute_result"
    },
    {
     "data": {
      "image/png": "[encoded data removed]",
      "text/plain": [
       "<Figure size 432x288 with 1 Axes>"
      ]
     },
     "metadata": {
      "needs_background": "light"
     },
     "output_type": "display_data"
    }
   ],
   "source": [
    "sns.histplot(data=tmp_waiting_time,\n",
    "             x=\"WAITING TIME (HH)\")"
   ]
  },
  {
   "cell_type": "code",
   "execution_count": 32,
   "metadata": {},
   "outputs": [
    {
     "data": {
      "text/plain": [
       "0.08097344763050597"
      ]
     },
     "execution_count": 32,
     "metadata": {},
     "output_type": "execute_result"
    }
   ],
   "source": [
    "# difference between mean and std\n",
    "# exponential: mean = std\n",
    "tmp_waiting_time[\"WAITING TIME (HH)\"].mean()"
   ]
  },
  {
   "cell_type": "code",
   "execution_count": 33,
   "metadata": {},
   "outputs": [
    {
     "data": {
      "text/plain": [
       "0.0816630944582385"
      ]
     },
     "execution_count": 33,
     "metadata": {},
     "output_type": "execute_result"
    }
   ],
   "source": [
    "tmp_waiting_time[\"WAITING TIME (HH)\"].std()"
   ]
  },
  {
   "cell_type": "markdown",
   "metadata": {},
   "source": [
    "## Estimate $\\hat \\lambda$"
   ]
  },
  {
   "cell_type": "code",
   "execution_count": 34,
   "metadata": {},
   "outputs": [
    {
     "data": {
      "text/plain": [
       "12.34972733979601"
      ]
     },
     "execution_count": 34,
     "metadata": {},
     "output_type": "execute_result"
    }
   ],
   "source": [
    "1 / tmp_waiting_time[\"WAITING TIME (HH)\"].mean()"
   ]
  },
  {
   "cell_type": "markdown",
   "metadata": {},
   "source": [
    "## Interval estimate"
   ]
  },
  {
   "cell_type": "code",
   "execution_count": 35,
   "metadata": {},
   "outputs": [],
   "source": [
    "# declare a normal distribution with mean, var of pois estimate\n",
    "ci_95 = norm().interval(alpha=0.95)"
   ]
  },
  {
   "cell_type": "code",
   "execution_count": 36,
   "metadata": {},
   "outputs": [],
   "source": [
    "lower = mu_pois + (ci_95[0] * sqrt(mu_pois / df[\"DATE\"].size))"
   ]
  },
  {
   "cell_type": "code",
   "execution_count": 37,
   "metadata": {},
   "outputs": [],
   "source": [
    "upper = mu_pois + (ci_95[1] * sqrt(mu_pois / df[\"DATE\"].size))"
   ]
  },
  {
   "cell_type": "code",
   "execution_count": 38,
   "metadata": {},
   "outputs": [
    {
     "name": "stdout",
     "output_type": "stream",
     "text": [
      "(12.276345737338863, 12.41424832206708)\n"
     ]
    }
   ],
   "source": [
    "print(\"(\" + str(lower) + \", \" + str(upper) + \")\")"
   ]
  }
 ],
 "metadata": {
  "kernelspec": {
   "display_name": "Python 3",
   "language": "python",
   "name": "python3"
  },
  "language_info": {
   "codemirror_mode": {
    "name": "ipython",
    "version": 3
   },
   "file_extension": ".py",
   "mimetype": "text/x-python",
   "name": "python",
   "nbconvert_exporter": "python",
   "pygments_lexer": "ipython3",
   "version": "3.8.3"
  }
 },
 "nbformat": 4,
 "nbformat_minor": 4
}
