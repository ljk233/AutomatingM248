{
 "metadata": {
  "language_info": {
   "codemirror_mode": {
    "name": "ipython",
    "version": 3
   },
   "file_extension": ".py",
   "mimetype": "text/x-python",
   "name": "python",
   "nbconvert_exporter": "python",
   "pygments_lexer": "ipython3",
   "version": "3.8.3-final"
  },
  "orig_nbformat": 2,
  "kernelspec": {
   "name": "python3",
   "display_name": "Python 3",
   "language": "python"
  }
 },
 "nbformat": 4,
 "nbformat_minor": 2,
 "cells": [
  {
   "source": [
    "# An Investigation Into A Company's Customer Services"
   ],
   "cell_type": "markdown",
   "metadata": {}
  },
  {
   "source": [
    "## Meta"
   ],
   "cell_type": "markdown",
   "metadata": {}
  },
  {
   "source": [
    "## 1. Simulating the data\n",
    "\n",
    "1. Randomly generate the average rate of emails received.\n",
    "2. Simulate $x$ months worth of data"
   ],
   "cell_type": "markdown",
   "metadata": {}
  },
  {
   "cell_type": "code",
   "execution_count": 1,
   "metadata": {},
   "outputs": [],
   "source": [
    "from random import random, randint\n",
    "from scipy import stats\n",
    "from datetime import datetime, timedelta\n",
    "import pandas as pd"
   ]
  },
  {
   "cell_type": "code",
   "execution_count": 2,
   "metadata": {},
   "outputs": [],
   "source": [
    "# randomly select the mean: {0.1, 19.9}\n",
    "r: float = round(randint(0, 19) + round(random(), 1), 3)"
   ]
  },
  {
   "cell_type": "code",
   "execution_count": 3,
   "metadata": {},
   "outputs": [],
   "source": [
    "# generate the sample\n",
    "# represents the time between\n",
    "# emails received in decimal hours.\n",
    "sample: list = list(stats.expon(loc=0, scale=1/r).rvs(size=10000))"
   ]
  },
  {
   "cell_type": "code",
   "execution_count": 4,
   "metadata": {},
   "outputs": [],
   "source": [
    "# log the emails.\n",
    "# represents time past since the observations begain\n",
    "log: list = list()\n",
    "\n",
    "t: float = 0\n",
    "\n",
    "for obs in sample:\n",
    "    t = t + obs\n",
    "    log.append(t)"
   ]
  },
  {
   "cell_type": "code",
   "execution_count": 5,
   "metadata": {},
   "outputs": [],
   "source": [
    "# we will log the emails in hh:mm:ss \n",
    "# prevent duplicate entries, by dropp observations \n",
    "# with less than 1s between then.\n",
    "clean_log: list = list()\n",
    "\n",
    "clean_log.append(log[0])\n",
    "\n",
    "for k in range(1, len(log)):\n",
    "    if log[k] - log[k-1] >= 1/3600:\n",
    "        clean_log.append(log[k])\n",
    "    else:\n",
    "        pass"
   ]
  },
  {
   "cell_type": "code",
   "execution_count": 6,
   "metadata": {},
   "outputs": [],
   "source": [
    "# convert the log in deciaml time to hh:mm:ss\n",
    "days: list = list()\n",
    "hours: list = list()\n",
    "minutes: list = list()\n",
    "seconds: list = list()\n",
    "\n",
    "for obs in clean_log:\n",
    "    days.append(int(obs/8))  # day of email\n",
    "    hours.append((int(obs) % 8) + 9)  # hour of email\n",
    "    remainder = (obs - int(obs)) * 60  # remainder in decimal minutes\n",
    "    minutes.append(int(remainder))\n",
    "    remainder = (remainder - int(remainder)) * 60  # remainder in decimal seconds\n",
    "    seconds.append(int(remainder))"
   ]
  },
  {
   "cell_type": "code",
   "execution_count": 7,
   "metadata": {},
   "outputs": [],
   "source": [
    "time_stamp: list = list()\n",
    "\n",
    "# concatenate lists, convert to string\n",
    "# conditional check on single integer h,m,s\n",
    "for obs in range(0, len(days)):\n",
    "    h: str = \"\"\n",
    "    m: str = \"\"\n",
    "    s: str = \"\"\n",
    "\n",
    "    if hours[obs] < 10:\n",
    "        h = \"0\" + str(hours[obs])\n",
    "    else:\n",
    "        h = str(hours[obs])\n",
    "\n",
    "    if minutes[obs] < 10:\n",
    "        m = \"0\" + str(minutes[obs])\n",
    "    else:\n",
    "        m = str(minutes[obs])\n",
    "\n",
    "    if seconds[obs] < 10:\n",
    "        s = \"0\" + str(seconds[obs])\n",
    "    else:\n",
    "        s = str(seconds[obs])\n",
    "\n",
    "    # convert string time to datetime\n",
    "    t: str = h + \":\" + m + \":\" + s\n",
    "    dt = datetime.strptime(t, '%H:%M:%S')\n",
    "    time_stamp.append(dt.time())"
   ]
  },
  {
   "cell_type": "code",
   "execution_count": 8,
   "metadata": {},
   "outputs": [],
   "source": [
    "start_day: datetime = datetime.strptime(\"2020-01-01\", '%Y-%m-%d')\n",
    "\n",
    "date_stamp: list = list()\n",
    "\n",
    "for day in days:\n",
    "    date = start_day + timedelta(days=day)\n",
    "    date_stamp.append(datetime.strftime(date, '%Y-%m-%d'))"
   ]
  },
  {
   "cell_type": "code",
   "execution_count": 9,
   "metadata": {},
   "outputs": [],
   "source": [
    "# create the dataframe\n",
    "df = pd.DataFrame()\n",
    "df[\"DATE\"] = date_stamp\n",
    "df[\"TIME\"] = time_stamp"
   ]
  },
  {
   "cell_type": "code",
   "execution_count": 10,
   "metadata": {},
   "outputs": [],
   "source": [
    "df.to_csv(\"email_log.csv\", index=False)"
   ]
  },
  {
   "cell_type": "code",
   "execution_count": 11,
   "metadata": {},
   "outputs": [
    {
     "output_type": "execute_result",
     "data": {
      "text/plain": [
       "12.4"
      ]
     },
     "metadata": {},
     "execution_count": 11
    }
   ],
   "source": [
    "r"
   ]
  }
 ]
}