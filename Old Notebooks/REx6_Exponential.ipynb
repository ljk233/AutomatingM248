{
 "cells": [
  {
   "cell_type": "markdown",
   "metadata": {},
   "source": [
    "# Exponential Distribution in R\n",
    "\n",
    "Date: 2020-10-31"
   ]
  },
  {
   "cell_type": "code",
   "execution_count": 1,
   "metadata": {},
   "outputs": [],
   "source": [
    "library(ggplot2)"
   ]
  },
  {
   "cell_type": "markdown",
   "metadata": {},
   "source": [
    "## Scenario\n",
    "\n",
    "Some of the sky mermaids are early risers.\n",
    "They are also a vocal bunch who often contact their local MP to complain as soon as they wake up.\n",
    "On a typical day, the MP receives approximately 5 complaints from the sky mermaids between 4am and 5am.\n",
    "The MP decides to start work early so they can deal with the complaints as they arrive, and wishes to model the waiting time between the arrival of complaints,\n",
    "\n",
    "-----"
   ]
  },
  {
   "cell_type": "markdown",
   "metadata": {},
   "source": [
    "## Questions\n",
    "\n",
    "**(a)** State the model that best describes the waiting time between complaints for the MP, if they were to log on to their computer at 4am.\n",
    "\n",
    "**(b)** Plot the distribution.\n",
    "\n",
    "**(c)** The MP becomes stressed if they receive a complaint whilst still answering the previous complaint.\n",
    "They estimate it takes them on average 4 minutes to answer a complaint.\n",
    "\n",
    "What is the probability they will receive a complaint during the time they are answering another complaint?\n",
    "\n",
    "**(d)** During the hour, the MP plans to make themselves some breakfast.\n",
    "They estimate it will take them 12 minutes to make a bacon sandwich.\n",
    "\n",
    "Assuming they begin to make the sandwich immediately after receiving a complaint, what is the probability they do not receive another complaint during the time they are away?\n",
    "\n",
    "-----"
   ]
  },
  {
   "cell_type": "markdown",
   "metadata": {},
   "source": [
    "### (a)\n",
    "\n",
    "Let $T$ be a random variable that represents the waiting time between successive complaints.\n",
    "The MP receives on average 5 complaints between 4am and 5am.\n",
    "Therefore $T$ is modelled by the exponential distribution with parameter $\\lambda=5$, so $T \\sim M(5)$."
   ]
  },
  {
   "cell_type": "markdown",
   "metadata": {},
   "source": [
    "### (b)"
   ]
  },
  {
   "cell_type": "code",
   "execution_count": 2,
   "metadata": {},
   "outputs": [],
   "source": [
    "t <- seq(0, 1, length.out=1000)"
   ]
  },
  {
   "cell_type": "code",
   "execution_count": 3,
   "metadata": {},
   "outputs": [],
   "source": [
    "df_earlyComplaints <- data.frame(t)"
   ]
  },
  {
   "cell_type": "code",
   "execution_count": 4,
   "metadata": {},
   "outputs": [],
   "source": [
    "df_earlyComplaints$ft <- dexp(x = t, rate = 5)"
   ]
  },
  {
   "cell_type": "code",
   "execution_count": 5,
   "metadata": {},
   "outputs": [
    {
     "data": {
      "image/png": "[encoded data removed]",
      "text/plain": [
       "plot without title"
      ]
     },
     "metadata": {
      "image/png": {
       "height": 420,
       "width": 420
      }
     },
     "output_type": "display_data"
    }
   ],
   "source": [
    "ggplot(data = df_earlyComplaints, mapping = aes(x = t, y = ft)) +\n",
    "  geom_line(size=1) +\n",
    "  theme_bw() +\n",
    "  labs(\n",
    "      title = \"Probability distribution: M(5)\",\n",
    "      y = \"f(t)\"\n",
    "  )"
   ]
  },
  {
   "cell_type": "markdown",
   "metadata": {},
   "source": [
    "### (c)\n",
    "\n",
    "The probability the MP will receive a complaint during the time they answering another complaint, given that it takes them\n",
    "\n",
    "$$\n",
    "4 \\text{ minutes} = \\frac{4}{60} = \\frac{1}{15} \\text{ hours}\n",
    "$$\n",
    "\n",
    "to answer a complaint is\n",
    "\n",
    "$$\n",
    "P\\bigg( T < \\frac{1}{15} \\bigg) = 1 - e^{\\frac{-\\lambda}{15}} = \\ldots\n",
    "$$"
   ]
  },
  {
   "cell_type": "code",
   "execution_count": 6,
   "metadata": {},
   "outputs": [
    {
     "data": {
      "text/html": [
       "0.283468689426211"
      ],
      "text/latex": [
       "0.283468689426211"
      ],
      "text/markdown": [
       "0.283468689426211"
      ],
      "text/plain": [
       "[1] 0.2834687"
      ]
     },
     "metadata": {},
     "output_type": "display_data"
    }
   ],
   "source": [
    "pexp(q = 1/15, rate = 5)"
   ]
  },
  {
   "cell_type": "markdown",
   "metadata": {},
   "source": [
    "### (d)\n",
    "\n",
    "The probability they will not receive a complaint during the time they are away making breakfast, given that it takes them\n",
    "\n",
    "$$\n",
    "12 \\text{ minutes} = \\frac{12}{60} = \\frac{1}{5} \\text{ hours}\n",
    "$$\n",
    "\n",
    "to make a bacon sandwich is\n",
    "\n",
    "$$\n",
    "P\\bigg( T > \\frac{1}{5} \\bigg) = 1 - P\\bigg( T < \\frac{1}{5} \\bigg) = 1 - F\\bigg( \\frac{1}{5} \\bigg) = 1 - (1 - e^{\\frac{-\\lambda}{5}}) = e^{\\frac{-\\lambda}{5}} = \\ldots\n",
    "$$"
   ]
  },
  {
   "cell_type": "code",
   "execution_count": 7,
   "metadata": {},
   "outputs": [
    {
     "data": {
      "text/html": [
       "0.367879441171442"
      ],
      "text/latex": [
       "0.367879441171442"
      ],
      "text/markdown": [
       "0.367879441171442"
      ],
      "text/plain": [
       "[1] 0.3678794"
      ]
     },
     "metadata": {},
     "output_type": "display_data"
    }
   ],
   "source": [
    "pexp(q = 0.2, rate = 5, lower.tail = FALSE)"
   ]
  }
 ],
 "metadata": {
  "kernelspec": {
   "display_name": "R 4.0.3",
   "language": "R",
   "name": "ir403"
  },
  "language_info": {
   "codemirror_mode": "r",
   "file_extension": ".r",
   "mimetype": "text/x-r-source",
   "name": "R",
   "pygments_lexer": "r",
   "version": "4.0.3"
  }
 },
 "nbformat": 4,
 "nbformat_minor": 4
}
