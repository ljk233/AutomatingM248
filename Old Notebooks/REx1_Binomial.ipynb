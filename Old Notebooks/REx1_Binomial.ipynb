{
 "cells": [
  {
   "cell_type": "markdown",
   "metadata": {},
   "source": [
    "# Binomial Distribution in R\n",
    "\n",
    "Date: 2020-11-01"
   ]
  },
  {
   "cell_type": "code",
   "execution_count": 1,
   "metadata": {},
   "outputs": [],
   "source": [
    "# impot packages\n",
    "library(ggplot2)"
   ]
  },
  {
   "cell_type": "markdown",
   "metadata": {},
   "source": [
    "## Scenario\n",
    "\n",
    "A company specialises in chartering flights from Narnia.\n",
    "The company is concerned about the rise in sky mermaids that have been spotted by the crew of the flights, as a collision could be disasterous.\n",
    "The flight crew estimates that there is a 17% chance of spotting a sky mermaid during a flight.\n",
    "In 20XX, the company is scheduled to fly 18 flights from Narnia.\n",
    "It maybe assumed that the event of spotting a sky mermaid is independent of any other event.\n",
    "\n",
    "-----"
   ]
  },
  {
   "cell_type": "markdown",
   "metadata": {},
   "source": [
    "## Questions\n",
    "\n",
    "**(a)** What is the model that describes the number of sky mermaids spotted out of the 18 flights?\n",
    "\n",
    "**(b)** Construct a table showing the p.m.f. and c.d.f. of the distribution.\n",
    "\n",
    "**(c)** Plot the probability distribution.\n",
    "\n",
    "**(d)** Calculate the mean and variance of the distribution.\n",
    "\n",
    "**(e)** What is the probability that five flights will spot sky mermaids in 20XX?\n",
    "\n",
    "**(f)** What is the probability four or fewer flights will spot sky mermaids in 20XX?\n",
    "\n",
    "**(g)** What is the probability that more than four flights will spot sky mermaids in 20XX?\n",
    "\n",
    "-----"
   ]
  },
  {
   "cell_type": "markdown",
   "metadata": {},
   "source": [
    "### (a)\n",
    "\n",
    "Let $X$ be a random variable that represents the number of times a sky mermaid is spotted during the flights from Narnia over the year.\n",
    "Then $X$ is modelled by a binomial distribution, with parameters $n$ being the number of flights flown, and $p=0.17$. In 20XX, $X \\sim B(18,0.17)$."
   ]
  },
  {
   "cell_type": "markdown",
   "metadata": {},
   "source": [
    "There is no need to declare the distribution is **R**, unlike **Python**."
   ]
  },
  {
   "cell_type": "markdown",
   "metadata": {},
   "source": [
    "### (b)\n",
    "\n",
    "We'll disply the p.d.f. and c.d.f. using a **data.frame**."
   ]
  },
  {
   "cell_type": "code",
   "execution_count": 2,
   "metadata": {},
   "outputs": [],
   "source": [
    "# declare a list\n",
    "x <- c(0:18)"
   ]
  },
  {
   "cell_type": "code",
   "execution_count": 3,
   "metadata": {},
   "outputs": [],
   "source": [
    "# add list to a data.frame\n",
    "df_mermaids <- data.frame(x)"
   ]
  },
  {
   "cell_type": "code",
   "execution_count": 4,
   "metadata": {},
   "outputs": [],
   "source": [
    "# append p(x)\n",
    "df_mermaids$'p(x)' <- dbinom(x=x, size = 18, prob = 0.17)"
   ]
  },
  {
   "cell_type": "code",
   "execution_count": 5,
   "metadata": {},
   "outputs": [],
   "source": [
    "# append F(x)\n",
    "df_mermaids$'F(x)' <- pbinom(q=x, size = 18, prob = 0.17)"
   ]
  },
  {
   "cell_type": "code",
   "execution_count": 6,
   "metadata": {},
   "outputs": [
    {
     "data": {
      "text/html": [
       "<table>\n",
       "<caption>A data.frame: 19 × 3</caption>\n",
       "<thead>\n",
       "\t<tr><th scope=col>x</th><th scope=col>p(x)</th><th scope=col>F(x)</th></tr>\n",
       "\t<tr><th scope=col>&lt;int&gt;</th><th scope=col>&lt;dbl&gt;</th><th scope=col>&lt;dbl&gt;</th></tr>\n",
       "</thead>\n",
       "<tbody>\n",
       "\t<tr><td> 0</td><td>3.494666e-02</td><td>0.03494666</td></tr>\n",
       "\t<tr><td> 1</td><td>1.288395e-01</td><td>0.16378615</td></tr>\n",
       "\t<tr><td> 2</td><td>2.243049e-01</td><td>0.38809104</td></tr>\n",
       "\t<tr><td> 3</td><td>2.450238e-01</td><td>0.63311487</td></tr>\n",
       "\t<tr><td> 4</td><td>1.881960e-01</td><td>0.82131087</td></tr>\n",
       "\t<tr><td> 5</td><td>1.079293e-01</td><td>0.92924015</td></tr>\n",
       "\t<tr><td> 6</td><td>4.789633e-02</td><td>0.97713647</td></tr>\n",
       "\t<tr><td> 7</td><td>1.681730e-02</td><td>0.99395377</td></tr>\n",
       "\t<tr><td> 8</td><td>4.736197e-03</td><td>0.99868997</td></tr>\n",
       "\t<tr><td> 9</td><td>1.077849e-03</td><td>0.99976782</td></tr>\n",
       "\t<tr><td>10</td><td>1.986879e-04</td><td>0.99996651</td></tr>\n",
       "\t<tr><td>11</td><td>2.959644e-05</td><td>0.99999610</td></tr>\n",
       "\t<tr><td>12</td><td>3.536121e-06</td><td>0.99999964</td></tr>\n",
       "\t<tr><td>13</td><td>3.342765e-07</td><td>0.99999997</td></tr>\n",
       "\t<tr><td>14</td><td>2.445224e-08</td><td>1.00000000</td></tr>\n",
       "\t<tr><td>15</td><td>1.335544e-09</td><td>1.00000000</td></tr>\n",
       "\t<tr><td>16</td><td>5.128972e-11</td><td>1.00000000</td></tr>\n",
       "\t<tr><td>17</td><td>1.235897e-12</td><td>1.00000000</td></tr>\n",
       "\t<tr><td>18</td><td>1.406308e-14</td><td>1.00000000</td></tr>\n",
       "</tbody>\n",
       "</table>\n"
      ],
      "text/latex": [
       "A data.frame: 19 × 3\n",
       "\\begin{tabular}{lll}\n",
       " x & p(x) & F(x)\\\\\n",
       " <int> & <dbl> & <dbl>\\\\\n",
       "\\hline\n",
       "\t  0 & 3.494666e-02 & 0.03494666\\\\\n",
       "\t  1 & 1.288395e-01 & 0.16378615\\\\\n",
       "\t  2 & 2.243049e-01 & 0.38809104\\\\\n",
       "\t  3 & 2.450238e-01 & 0.63311487\\\\\n",
       "\t  4 & 1.881960e-01 & 0.82131087\\\\\n",
       "\t  5 & 1.079293e-01 & 0.92924015\\\\\n",
       "\t  6 & 4.789633e-02 & 0.97713647\\\\\n",
       "\t  7 & 1.681730e-02 & 0.99395377\\\\\n",
       "\t  8 & 4.736197e-03 & 0.99868997\\\\\n",
       "\t  9 & 1.077849e-03 & 0.99976782\\\\\n",
       "\t 10 & 1.986879e-04 & 0.99996651\\\\\n",
       "\t 11 & 2.959644e-05 & 0.99999610\\\\\n",
       "\t 12 & 3.536121e-06 & 0.99999964\\\\\n",
       "\t 13 & 3.342765e-07 & 0.99999997\\\\\n",
       "\t 14 & 2.445224e-08 & 1.00000000\\\\\n",
       "\t 15 & 1.335544e-09 & 1.00000000\\\\\n",
       "\t 16 & 5.128972e-11 & 1.00000000\\\\\n",
       "\t 17 & 1.235897e-12 & 1.00000000\\\\\n",
       "\t 18 & 1.406308e-14 & 1.00000000\\\\\n",
       "\\end{tabular}\n"
      ],
      "text/markdown": [
       "\n",
       "A data.frame: 19 × 3\n",
       "\n",
       "| x &lt;int&gt; | p(x) &lt;dbl&gt; | F(x) &lt;dbl&gt; |\n",
       "|---|---|---|\n",
       "|  0 | 3.494666e-02 | 0.03494666 |\n",
       "|  1 | 1.288395e-01 | 0.16378615 |\n",
       "|  2 | 2.243049e-01 | 0.38809104 |\n",
       "|  3 | 2.450238e-01 | 0.63311487 |\n",
       "|  4 | 1.881960e-01 | 0.82131087 |\n",
       "|  5 | 1.079293e-01 | 0.92924015 |\n",
       "|  6 | 4.789633e-02 | 0.97713647 |\n",
       "|  7 | 1.681730e-02 | 0.99395377 |\n",
       "|  8 | 4.736197e-03 | 0.99868997 |\n",
       "|  9 | 1.077849e-03 | 0.99976782 |\n",
       "| 10 | 1.986879e-04 | 0.99996651 |\n",
       "| 11 | 2.959644e-05 | 0.99999610 |\n",
       "| 12 | 3.536121e-06 | 0.99999964 |\n",
       "| 13 | 3.342765e-07 | 0.99999997 |\n",
       "| 14 | 2.445224e-08 | 1.00000000 |\n",
       "| 15 | 1.335544e-09 | 1.00000000 |\n",
       "| 16 | 5.128972e-11 | 1.00000000 |\n",
       "| 17 | 1.235897e-12 | 1.00000000 |\n",
       "| 18 | 1.406308e-14 | 1.00000000 |\n",
       "\n"
      ],
      "text/plain": [
       "   x  p(x)         F(x)      \n",
       "1   0 3.494666e-02 0.03494666\n",
       "2   1 1.288395e-01 0.16378615\n",
       "3   2 2.243049e-01 0.38809104\n",
       "4   3 2.450238e-01 0.63311487\n",
       "5   4 1.881960e-01 0.82131087\n",
       "6   5 1.079293e-01 0.92924015\n",
       "7   6 4.789633e-02 0.97713647\n",
       "8   7 1.681730e-02 0.99395377\n",
       "9   8 4.736197e-03 0.99868997\n",
       "10  9 1.077849e-03 0.99976782\n",
       "11 10 1.986879e-04 0.99996651\n",
       "12 11 2.959644e-05 0.99999610\n",
       "13 12 3.536121e-06 0.99999964\n",
       "14 13 3.342765e-07 0.99999997\n",
       "15 14 2.445224e-08 1.00000000\n",
       "16 15 1.335544e-09 1.00000000\n",
       "17 16 5.128972e-11 1.00000000\n",
       "18 17 1.235897e-12 1.00000000\n",
       "19 18 1.406308e-14 1.00000000"
      ]
     },
     "metadata": {},
     "output_type": "display_data"
    }
   ],
   "source": [
    "# view the data.fame\n",
    "df_mermaids"
   ]
  },
  {
   "cell_type": "markdown",
   "metadata": {},
   "source": [
    "### (c)\n",
    "\n",
    "As we have used brackets in column titles of **data.frame**, we surround the argument with backticks."
   ]
  },
  {
   "cell_type": "code",
   "execution_count": 7,
   "metadata": {},
   "outputs": [
    {
     "data": {
      "image/png": "[encoded data removed]",
      "text/plain": [
       "plot without title"
      ]
     },
     "metadata": {
      "image/png": {
       "height": 420,
       "width": 420
      }
     },
     "output_type": "display_data"
    }
   ],
   "source": [
    "ggplot(data=df_mermaids) +\n",
    "  geom_col(mapping = aes(x = x, y = `p(x)`)) +\n",
    "  theme_bw() +\n",
    "  labs(\n",
    "      title = \"Probability distribution: B(18, 0.17)\",\n",
    "      y = \"p(x)\"\n",
    "  )"
   ]
  },
  {
   "cell_type": "markdown",
   "metadata": {},
   "source": [
    "### (d)\n",
    "\n",
    "I have not found a satisfactory means to calculate $\\mu$ and $\\sigma^{2}$, save for defining the formula.\n",
    "I did not find this particularly interesting, so the two summary statistics are left out."
   ]
  },
  {
   "cell_type": "markdown",
   "metadata": {},
   "source": [
    "### (e)\n",
    "\n",
    "The probability that five flights will spot sky mermaids in 20XX is\n",
    "\n",
    "$$\n",
    "P(X=5) = p(5) = \\binom{18}{5} (0.17)^{5} (0.83)^{13} = \\ldots\n",
    "$$"
   ]
  },
  {
   "cell_type": "code",
   "execution_count": 8,
   "metadata": {},
   "outputs": [
    {
     "data": {
      "text/html": [
       "0.107929276453054"
      ],
      "text/latex": [
       "0.107929276453054"
      ],
      "text/markdown": [
       "0.107929276453054"
      ],
      "text/plain": [
       "[1] 0.1079293"
      ]
     },
     "metadata": {},
     "output_type": "display_data"
    }
   ],
   "source": [
    "dbinom(x = 5, size = 18, prob = 0.17)"
   ]
  },
  {
   "cell_type": "markdown",
   "metadata": {},
   "source": [
    "### (f)\n",
    "\n",
    "The probability four or fewer flights will spot sky mermaids in 20XX is\n",
    "\n",
    "$$\n",
    "P(X \\leq 4) = F(4) = \\sum_{k = 0}^{4} \\binom{18}{k} (0.17)^{k} (0.83)^{18 - k} = \\ldots\n",
    "$$"
   ]
  },
  {
   "cell_type": "code",
   "execution_count": 9,
   "metadata": {},
   "outputs": [
    {
     "data": {
      "text/html": [
       "0.821310872629435"
      ],
      "text/latex": [
       "0.821310872629435"
      ],
      "text/markdown": [
       "0.821310872629435"
      ],
      "text/plain": [
       "[1] 0.8213109"
      ]
     },
     "metadata": {},
     "output_type": "display_data"
    }
   ],
   "source": [
    "pbinom(q = 4, size = 18, prob = 0.17)"
   ]
  },
  {
   "cell_type": "markdown",
   "metadata": {},
   "source": [
    "### (g)\n",
    "\n",
    "The probability that more than four flights will spot sky mermaids in 20XX is\n",
    "\n",
    "$$\n",
    "P(X > 4) = 1 - F(4) = \\sum_{k = 5}^{18} \\binom{18}{k} (0.17)^{k} (0.83)^{18 - k} = \\ldots\n",
    "$$"
   ]
  },
  {
   "cell_type": "code",
   "execution_count": 10,
   "metadata": {},
   "outputs": [
    {
     "data": {
      "text/html": [
       "0.178689127370565"
      ],
      "text/latex": [
       "0.178689127370565"
      ],
      "text/markdown": [
       "0.178689127370565"
      ],
      "text/plain": [
       "[1] 0.1786891"
      ]
     },
     "metadata": {},
     "output_type": "display_data"
    }
   ],
   "source": [
    "pbinom(q = 4, size = 18, prob = 0.17, lower.tail = FALSE)"
   ]
  }
 ],
 "metadata": {
  "kernelspec": {
   "display_name": "R 4.0.3",
   "language": "R",
   "name": "ir403"
  },
  "language_info": {
   "codemirror_mode": "r",
   "file_extension": ".r",
   "mimetype": "text/x-r-source",
   "name": "R",
   "pygments_lexer": "r",
   "version": "4.0.3"
  }
 },
 "nbformat": 4,
 "nbformat_minor": 4
}
