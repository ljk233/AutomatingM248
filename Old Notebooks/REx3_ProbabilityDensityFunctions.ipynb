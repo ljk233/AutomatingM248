{
 "cells": [
  {
   "cell_type": "markdown",
   "metadata": {},
   "source": [
    "# Probability Density Functions\n",
    "\n",
    "Date: 2020-10-01"
   ]
  },
  {
   "cell_type": "code",
   "execution_count": 1,
   "metadata": {},
   "outputs": [],
   "source": [
    "library(ggplot2)"
   ]
  },
  {
   "cell_type": "markdown",
   "metadata": {},
   "source": [
    "## Scenario\n",
    "\n",
    "Let $X$ be a continuous random variable with p.d.f.\n",
    "\n",
    "$$\n",
    "f(x) = \\begin{cases}\n",
    "    &4x^{3} \\hspace{3mm} &x \\in (0, 1] \\\\\n",
    "    &0 \\hspace{3mm} &\\text{otherwise}\n",
    "\\end{cases}\n",
    "$$\n",
    "\n",
    "-----"
   ]
  },
  {
   "cell_type": "markdown",
   "metadata": {},
   "source": [
    "## Questions\n",
    "\n",
    "**(a)** Is $f(x)$ a valid p.d.f.?\n",
    "\n",
    "**(b)** Plot the p.d.f.\n",
    "\n",
    "**(c)** Calculate $P(X \\geq 0.5)$\n",
    "\n",
    "**(d)** Calculate $P(X < 0.42)$\n",
    "\n",
    "**(e)** Calculate $P(0.15 \\leq X \\leq 0.65)$\n",
    "\n",
    "**(f)** Calculate the mean and variance of the pdf\n",
    "\n",
    "-----"
   ]
  },
  {
   "cell_type": "markdown",
   "metadata": {},
   "source": [
    "We first define a function that returns the value of $f(a)$, where $a \\in (0,1)$."
   ]
  },
  {
   "cell_type": "code",
   "execution_count": 2,
   "metadata": {},
   "outputs": [],
   "source": [
    "pdf <- function(a) {4 * (a ** 3)}"
   ]
  },
  {
   "cell_type": "markdown",
   "metadata": {},
   "source": [
    "### (a)\n",
    "\n",
    "There are two properties for $f(x)$ to be a valid p.d.f.\n",
    "\n",
    "1. $f(x) > 0$ for all $x$ in $X$\n",
    "2. $\\int f(x) = 1$ over the range of $X$"
   ]
  },
  {
   "cell_type": "markdown",
   "metadata": {},
   "source": [
    "#### Property 1: $f(x) > 0$ \n",
    "\n",
    "Rather than using iteration, we will instead\n",
    "\n",
    "1. Create a **DataFrame** with columns $x$ and $f(x)$\n",
    "2. Filter the **DataFrame** for rows $f(x) \\leq 0$\n",
    "3. Check size of filtered **DataFrame** is 0"
   ]
  },
  {
   "cell_type": "code",
   "execution_count": 3,
   "metadata": {},
   "outputs": [],
   "source": [
    "# declare an array\n",
    "x <- seq(0, 1, length.out=1000000)"
   ]
  },
  {
   "cell_type": "code",
   "execution_count": 4,
   "metadata": {},
   "outputs": [],
   "source": [
    "# create the df\n",
    "df_pdf <- data.frame(x)"
   ]
  },
  {
   "cell_type": "code",
   "execution_count": 6,
   "metadata": {},
   "outputs": [],
   "source": [
    "# add the pdf col\n",
    "df_pdf$f <- pdf(x)"
   ]
  },
  {
   "cell_type": "code",
   "execution_count": 7,
   "metadata": {},
   "outputs": [],
   "source": [
    "# filter for f(x) < 0\n",
    "filtered_df <- subset(df_pdf, f < 0)"
   ]
  },
  {
   "cell_type": "code",
   "execution_count": 8,
   "metadata": {},
   "outputs": [
    {
     "data": {
      "text/html": [
       "TRUE"
      ],
      "text/latex": [
       "TRUE"
      ],
      "text/markdown": [
       "TRUE"
      ],
      "text/plain": [
       "[1] TRUE"
      ]
     },
     "metadata": {},
     "output_type": "display_data"
    }
   ],
   "source": [
    "# number of filtered rows == 0?\n",
    "nrow(filtered_df) == 0"
   ]
  },
  {
   "cell_type": "markdown",
   "metadata": {},
   "source": [
    "#### Property 2: $\\int f(x) = 1$"
   ]
  },
  {
   "cell_type": "code",
   "execution_count": 13,
   "metadata": {},
   "outputs": [
    {
     "data": {
      "text/html": [
       "<strong>value:</strong> TRUE"
      ],
      "text/latex": [
       "\\textbf{value:} TRUE"
      ],
      "text/markdown": [
       "**value:** TRUE"
      ],
      "text/plain": [
       "value \n",
       " TRUE "
      ]
     },
     "metadata": {},
     "output_type": "display_data"
    }
   ],
   "source": [
    "# does the pdf integrate to 1 over the range?\n",
    "integrate(f = pdf, lower = 0, upper = 1)[1] == 1"
   ]
  },
  {
   "cell_type": "markdown",
   "metadata": {},
   "source": [
    "As both tests returned `TRUE`, we can confirm that $f(x)$ is a valid p.d.f."
   ]
  },
  {
   "cell_type": "markdown",
   "metadata": {},
   "source": [
    "### (b)"
   ]
  },
  {
   "cell_type": "code",
   "execution_count": 14,
   "metadata": {},
   "outputs": [
    {
     "data": {
      "image/png": "[encoded data removed]",
      "text/plain": [
       "plot without title"
      ]
     },
     "metadata": {
      "image/png": {
       "height": 420,
       "width": 420
      }
     },
     "output_type": "display_data"
    }
   ],
   "source": [
    "ggplot(data=df_pdf) +\n",
    "  geom_line(mapping = aes(x=x, y=f))"
   ]
  },
  {
   "cell_type": "markdown",
   "metadata": {},
   "source": [
    "### (c)\n",
    "\n",
    "$$\n",
    "P(X \\leq 0.5) = P(X < 0.5) = \\int_{0}^{0.5} 4 x^{3} \\hspace{1mm} dx = ...\n",
    "$$"
   ]
  },
  {
   "cell_type": "code",
   "execution_count": 33,
   "metadata": {},
   "outputs": [
    {
     "data": {
      "text/html": [
       "0.0625"
      ],
      "text/latex": [
       "0.0625"
      ],
      "text/markdown": [
       "0.0625"
      ],
      "text/plain": [
       "[1] 0.0625"
      ]
     },
     "metadata": {},
     "output_type": "display_data"
    }
   ],
   "source": [
    "integrate(f = pdf, lower = 0, upper = 0.5)[[1]]"
   ]
  },
  {
   "cell_type": "markdown",
   "metadata": {},
   "source": [
    "### (d)\n",
    "\n",
    "$$\n",
    "P(X > 0.42) \\int_{0.42}^{1} 4 x^{3} \\hspace{1mm} dx = ...\n",
    "$$"
   ]
  },
  {
   "cell_type": "code",
   "execution_count": 31,
   "metadata": {},
   "outputs": [
    {
     "data": {
      "text/html": [
       "0.96888304"
      ],
      "text/latex": [
       "0.96888304"
      ],
      "text/markdown": [
       "0.96888304"
      ],
      "text/plain": [
       "[1] 0.968883"
      ]
     },
     "metadata": {},
     "output_type": "display_data"
    }
   ],
   "source": [
    "integrate(f = pdf, lower = 0.42, upper = 1)[[1]]"
   ]
  },
  {
   "cell_type": "markdown",
   "metadata": {},
   "source": [
    "### (e)\n",
    "\n",
    "$$\n",
    "P(0.15 < X < 0.65) = \\int_{0.15}^{0.65} 4 x^{3} \\hspace{1mm} dx = ...\n",
    "$$"
   ]
  },
  {
   "cell_type": "code",
   "execution_count": 32,
   "metadata": {},
   "outputs": [
    {
     "data": {
      "text/html": [
       "0.178"
      ],
      "text/latex": [
       "0.178"
      ],
      "text/markdown": [
       "0.178"
      ],
      "text/plain": [
       "[1] 0.178"
      ]
     },
     "metadata": {},
     "output_type": "display_data"
    }
   ],
   "source": [
    "integrate(f = pdf, lower = 0.15, upper = 0.65)[[1]]"
   ]
  },
  {
   "cell_type": "markdown",
   "metadata": {},
   "source": [
    "### (f)\n",
    "\n",
    "The mean and variance of a probability distribution function are\n",
    "\n",
    "$$\n",
    "\\begin{aligned}\n",
    "    &E(X) = \\int_{L}^{U} x \\> f(x) \\> dx, \\\\\n",
    "    &V(X) = E(X^{2}) - E(X)^{2} = \\int_{L}^{U} x^{2} \\> f(x) \\> dx - E(X)^{2}\n",
    "\\end{aligned}\n",
    "$$"
   ]
  },
  {
   "cell_type": "markdown",
   "metadata": {},
   "source": [
    "We'll first define two function: `xfx` and `x2fx`"
   ]
  },
  {
   "cell_type": "code",
   "execution_count": 44,
   "metadata": {},
   "outputs": [],
   "source": [
    "xfx <- function(a) {a * 4 * (a ** 3)}"
   ]
  },
  {
   "cell_type": "code",
   "execution_count": 48,
   "metadata": {},
   "outputs": [],
   "source": [
    "x2fx <- function(a) {(a ** 2) * 4 * (a ** 3)}"
   ]
  },
  {
   "cell_type": "markdown",
   "metadata": {},
   "source": [
    "Calculate $E(X)$"
   ]
  },
  {
   "cell_type": "code",
   "execution_count": 45,
   "metadata": {},
   "outputs": [],
   "source": [
    "mean <- integrate(f = xfx, lower = 0, upper = 1)[[1]]"
   ]
  },
  {
   "cell_type": "code",
   "execution_count": 46,
   "metadata": {},
   "outputs": [
    {
     "data": {
      "text/html": [
       "0.8"
      ],
      "text/latex": [
       "0.8"
      ],
      "text/markdown": [
       "0.8"
      ],
      "text/plain": [
       "[1] 0.8"
      ]
     },
     "metadata": {},
     "output_type": "display_data"
    }
   ],
   "source": [
    "mean"
   ]
  },
  {
   "cell_type": "markdown",
   "metadata": {},
   "source": [
    "Calculate $V(X)$"
   ]
  },
  {
   "cell_type": "code",
   "execution_count": 49,
   "metadata": {},
   "outputs": [
    {
     "data": {
      "text/html": [
       "0.0266666666666666"
      ],
      "text/latex": [
       "0.0266666666666666"
      ],
      "text/markdown": [
       "0.0266666666666666"
      ],
      "text/plain": [
       "[1] 0.02666667"
      ]
     },
     "metadata": {},
     "output_type": "display_data"
    }
   ],
   "source": [
    "integrate(f = x2fx, lower = 0, upper = 1)[[1]] - (mean ** 2)"
   ]
  }
 ],
 "metadata": {
  "kernelspec": {
   "display_name": "R 4.0.3",
   "language": "R",
   "name": "ir403"
  },
  "language_info": {
   "codemirror_mode": "r",
   "file_extension": ".r",
   "mimetype": "text/x-r-source",
   "name": "R",
   "pygments_lexer": "r",
   "version": "4.0.3"
  }
 },
 "nbformat": 4,
 "nbformat_minor": 4
}
