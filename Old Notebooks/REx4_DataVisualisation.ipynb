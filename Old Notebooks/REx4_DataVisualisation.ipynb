{
 "cells": [
  {
   "cell_type": "markdown",
   "metadata": {},
   "source": [
    "# 3. Visualisation: Washington DC Daily Bike Rental Figures\n",
    "\n",
    "Date: 2020-10-30"
   ]
  },
  {
   "cell_type": "markdown",
   "metadata": {},
   "source": [
    "## About the Notebook\n",
    "\n",
    "This is an extended visualisation exercise, where a dataset is processed and visualised using the different graphical methods outlined in **M248 Unit 1**.\n",
    "\n",
    "In **section 1**, the dataset and its attributes are introduced.\n",
    "\n",
    "In **section 2**:\n",
    "\n",
    "- Import the data from SQLite database\n",
    "- Process the data\n",
    "    - **Filtering** on a specific variable\n",
    "        - Uses Method: `query()`\n",
    "    - **Recasting** variables\n",
    "        - Uses Method: `astype()`\n",
    "    - **Descriptive columns** appended for indexed variables\n",
    "        - Uses Function: `addDescCol()`\n",
    "\n",
    "In **section 3**, four visualisations are produced\n",
    "\n",
    "- Side-by-side bar plot\n",
    "    - Uses method: `pivot_table()`\n",
    "- Frequency histogram\n",
    "- Comparative boxplots\n",
    "- Scatterplot\n",
    "\n",
    "Note that as this a visualisation exercise so there is no comment on the graphics."
   ]
  },
  {
   "cell_type": "markdown",
   "metadata": {},
   "source": [
    "## 1. About the Data\n",
    "\n",
    "Source: BikeRentalDaily\n",
    "\n",
    "> Capital Bikeshare scheme which runs in the Washington DC area (e.g. similar to the London bikeshare scheme)"
   ]
  },
  {
   "cell_type": "markdown",
   "metadata": {},
   "source": [
    "| Attribute        | Unit       | Description                                                  |\n",
    "| ---------------- | ---------- | ------------------------------------------------------------ |\n",
    "| Dteday           | Ordinal    | Date (YYYY-MM-DD)                                            |\n",
    "| Season           | Ordinal    | Season (1: Winter, 2: Spring, 3: Summer, 4: Fall)            |\n",
    "| yr               | Ordinal    | Year (0: 2011, 1: 2012)                                      |\n",
    "| Mnth             | Ordinal    | Month (1 - 12)                                               |\n",
    "| Holiday          | Boolean    | Whether day is holiday or not (0, 1)                         |\n",
    "| Weekday          | Ordinal    | Day of the week (0 - 6)                                      |\n",
    "| Workingday       | Boolean    | If day is neither weekend nor holiday is 1, otherwise is 0   |\n",
    "| Weathersit       | Nominal    | Weather situation (1: Clear, Few clouds, Partly cloudy, Partly cloudy; 2: Mist + Cloudy, Mist + Broken clouds, Mist + Few clouds, Mist; 3: Light Snow, Light Rain + Thunderstorm + Scattered clouds, Light Rain + Scattered clouds, 4: Heavy Rain + Ice Pallets + Thunderstorm + Mist, Snow + Fog)) |\n",
    "| Temp Normalized  | Continuous | Temperature in Celsius. The values are derived via (t-t_min)/(t_max-t_min), t_min=-8, t_max=+39 (only in hourly scale) |\n",
    "| Atemp Normalized | Continuous | Atemp Normalized feeling temperature in Celsius. The values are derived via (t-t_min)/(t_max-t_min), t_min=-16, t_max=+50 (only in hourly scale) |\n",
    "| Hom Normalized   | Continuous | Normalized humidity. The values are divided to 100 (max)     |\n",
    "| Windspeed        | Continuous | Normalized wind speed. The values are divided to 67 (max)    |\n",
    "| Casual           | Discrete   | Count of casual users                                        |\n",
    "| Registered       | Discrete   | Count of registered users                                    |\n",
    "| Daily count      | Discrete   | Count of total rental bikes including both casual and registered |"
   ]
  },
  {
   "cell_type": "markdown",
   "metadata": {},
   "source": [
    "## 2. Importing and Processing the Data"
   ]
  },
  {
   "cell_type": "code",
   "execution_count": 36,
   "metadata": {},
   "outputs": [],
   "source": [
    "library(ggplot2)"
   ]
  },
  {
   "cell_type": "code",
   "execution_count": 2,
   "metadata": {},
   "outputs": [],
   "source": [
    "library(RSQLite)"
   ]
  },
  {
   "cell_type": "code",
   "execution_count": 3,
   "metadata": {},
   "outputs": [],
   "source": [
    "library(plyr) # used for mapvalue"
   ]
  },
  {
   "cell_type": "code",
   "execution_count": 41,
   "metadata": {},
   "outputs": [
    {
     "name": "stderr",
     "output_type": "stream",
     "text": [
      "\n",
      "Attaching package: 'dplyr'\n",
      "\n",
      "\n",
      "The following objects are masked from 'package:plyr':\n",
      "\n",
      "    arrange, count, desc, failwith, id, mutate, rename, summarise,\n",
      "    summarize\n",
      "\n",
      "\n",
      "The following objects are masked from 'package:stats':\n",
      "\n",
      "    filter, lag\n",
      "\n",
      "\n",
      "The following objects are masked from 'package:base':\n",
      "\n",
      "    intersect, setdiff, setequal, union\n",
      "\n",
      "\n"
     ]
    }
   ],
   "source": [
    "library(dplyr)"
   ]
  },
  {
   "cell_type": "markdown",
   "metadata": {},
   "source": [
    "### Importing\n",
    "\n",
    "We first create a connection to the database, return the table as an object, and then send the table to a DataFrame."
   ]
  },
  {
   "cell_type": "code",
   "execution_count": 5,
   "metadata": {},
   "outputs": [],
   "source": [
    "# connect to the db\n",
    "con <- dbConnect(RSQLite::SQLite(), \"./data/sets.db3\")"
   ]
  },
  {
   "cell_type": "code",
   "execution_count": 6,
   "metadata": {},
   "outputs": [],
   "source": [
    "# return the table as a data.frame\n",
    "df_bike_daily <- dbReadTable(con, \"BikeRentalDailyDC\")"
   ]
  },
  {
   "cell_type": "markdown",
   "metadata": {},
   "source": [
    "### Filtering the DataFrame"
   ]
  },
  {
   "cell_type": "code",
   "execution_count": 7,
   "metadata": {},
   "outputs": [],
   "source": [
    "# filter for f(x) < 0\n",
    "df_filtered <- subset(df_bike_daily, yr == 0)"
   ]
  },
  {
   "cell_type": "markdown",
   "metadata": {},
   "source": [
    "### Recasting attributes\n",
    "\n",
    "The table has been imported without the proper data types, as expected.\n",
    "\n",
    "`type.convert()` converts chars $\\to$ numeric/bool.\n",
    "\n",
    "`as.Date()` coverts `String` dates to `date`.\n",
    "\n",
    " See [strptime](https://www.rdocumentation.org/packages/base/versions/3.6.2/topics/strptime) for date formats."
   ]
  },
  {
   "cell_type": "code",
   "execution_count": 8,
   "metadata": {},
   "outputs": [],
   "source": [
    "df_filtered$instant <- type.convert(df_filtered$instant)"
   ]
  },
  {
   "cell_type": "code",
   "execution_count": 9,
   "metadata": {},
   "outputs": [],
   "source": [
    "df_filtered$season <- type.convert(df_filtered$season)"
   ]
  },
  {
   "cell_type": "code",
   "execution_count": 10,
   "metadata": {},
   "outputs": [],
   "source": [
    "df_filtered$yr <- type.convert(df_filtered$yr)"
   ]
  },
  {
   "cell_type": "code",
   "execution_count": 11,
   "metadata": {},
   "outputs": [],
   "source": [
    "df_filtered$mnth <- type.convert(df_filtered$mnth)"
   ]
  },
  {
   "cell_type": "code",
   "execution_count": 12,
   "metadata": {},
   "outputs": [],
   "source": [
    "df_filtered$weekday <- type.convert(df_filtered$weekday)"
   ]
  },
  {
   "cell_type": "code",
   "execution_count": 13,
   "metadata": {},
   "outputs": [],
   "source": [
    "df_filtered$holiday <- type.convert(df_filtered$holiday)"
   ]
  },
  {
   "cell_type": "code",
   "execution_count": 14,
   "metadata": {},
   "outputs": [],
   "source": [
    "df_filtered$casual <- type.convert(df_filtered$casual)"
   ]
  },
  {
   "cell_type": "code",
   "execution_count": 15,
   "metadata": {},
   "outputs": [],
   "source": [
    "df_filtered$registered <- type.convert(df_filtered$registered)"
   ]
  },
  {
   "cell_type": "code",
   "execution_count": 16,
   "metadata": {},
   "outputs": [],
   "source": [
    "df_filtered$dailycount <- type.convert(df_filtered$dailycount)"
   ]
  },
  {
   "cell_type": "code",
   "execution_count": 17,
   "metadata": {},
   "outputs": [],
   "source": [
    "df_filtered$temp <- type.convert(df_filtered$temp)"
   ]
  },
  {
   "cell_type": "code",
   "execution_count": 18,
   "metadata": {},
   "outputs": [],
   "source": [
    "df_filtered$atemp <- type.convert(df_filtered$atemp)"
   ]
  },
  {
   "cell_type": "code",
   "execution_count": 19,
   "metadata": {},
   "outputs": [],
   "source": [
    "df_filtered$hum <- type.convert(df_filtered$hum)"
   ]
  },
  {
   "cell_type": "code",
   "execution_count": 20,
   "metadata": {},
   "outputs": [],
   "source": [
    "df_filtered$windspeed <- type.convert(df_filtered$windspeed)"
   ]
  },
  {
   "cell_type": "code",
   "execution_count": 21,
   "metadata": {},
   "outputs": [],
   "source": [
    "df_filtered$dteday <- as.Date(df_filtered$dteday, \"%d/%m/%y\")"
   ]
  },
  {
   "cell_type": "markdown",
   "metadata": {},
   "source": [
    "### Adding descriptive columns\n",
    "\n",
    "The data includes some index columns, so we will add a companion description column.\n",
    "\n",
    "Source: [mapvalues()](https://www.rdocumentation.org/packages/plyr/versions/1.8.6/topics/mapvalues)"
   ]
  },
  {
   "cell_type": "code",
   "execution_count": 22,
   "metadata": {},
   "outputs": [],
   "source": [
    "df_filtered$desc_yr <- mapvalues(x = df_filtered$yr, from = c(0), to = c(2011))"
   ]
  },
  {
   "cell_type": "code",
   "execution_count": 23,
   "metadata": {},
   "outputs": [],
   "source": [
    "# define lists for season\n",
    "oldSeason <- c(1:4)\n",
    "newSeason <- c(\"Winter\", \"Spring\", \"Summer\", \"Fall\")\n",
    "\n",
    "# replace values\n",
    "df_filtered$desc_season <- mapvalues(x = df_filtered$season, from = oldSeason, to = newSeason)"
   ]
  },
  {
   "cell_type": "code",
   "execution_count": 24,
   "metadata": {},
   "outputs": [],
   "source": [
    "# define lists for mnth\n",
    "oldMnth <- c(1:12)\n",
    "newMnth <- c(\"JAN\", \"FEB\", \"MAR\", \"APR\",\n",
    "             \"MAY\", \"JUN\", \"JUL\", \"AUG\",\n",
    "             \"SEP\", \"OCT\", \"NOV\", \"DEC\")\n",
    "\n",
    "# replace values\n",
    "df_filtered$desc_mnth <- mapvalues(x = df_filtered$mnth, from = oldMnth, to = newMnth)"
   ]
  },
  {
   "cell_type": "code",
   "execution_count": 25,
   "metadata": {},
   "outputs": [],
   "source": [
    "# define lists for workingday\n",
    "oldWeekday <- c(0:6)\n",
    "newWeekday <- c(\"Sun\", \"Mon\", \"Tues\", \"Wed\",\n",
    "                \"Thurs\", \"Fri\", \"Sat\")\n",
    "\n",
    "# replace values\n",
    "df_filtered$desc_weekday <- mapvalues(x = df_filtered$weekday, from = oldWeekday, to = newWeekday)"
   ]
  },
  {
   "cell_type": "code",
   "execution_count": 26,
   "metadata": {},
   "outputs": [],
   "source": [
    "# define lists for workingday\n",
    "oldWorkingDay <- c(0, 1)\n",
    "newWorkingDay <- c(\"Non-working day\", \"Working day\")\n",
    "\n",
    "# replace values\n",
    "df_filtered$desc_workingday <- mapvalues(x = df_filtered$workingday, from = oldWorkingDay, to = newWorkingDay)"
   ]
  },
  {
   "cell_type": "code",
   "execution_count": 27,
   "metadata": {},
   "outputs": [],
   "source": [
    "# define lists for holiday\n",
    "oldHoliday <- c(0, 1)\n",
    "newHoliday <- c(\"Non-holiday\", \"Holiday\")\n",
    "\n",
    "# replace values\n",
    "df_filtered$desc_holiday <- mapvalues(x = df_filtered$holiday, from = oldHoliday, to = newHoliday)"
   ]
  },
  {
   "cell_type": "markdown",
   "metadata": {},
   "source": [
    "## 3. Visualising"
   ]
  },
  {
   "cell_type": "markdown",
   "metadata": {},
   "source": [
    "### Average daily users by month"
   ]
  },
  {
   "cell_type": "code",
   "execution_count": 47,
   "metadata": {},
   "outputs": [],
   "source": [
    "df_grouped <- group_by(.data = df_filtered, 'mnth')"
   ]
  },
  {
   "cell_type": "code",
   "execution_count": 48,
   "metadata": {},
   "outputs": [
    {
     "data": {
      "text/html": [
       "<table>\n",
       "<caption>A grouped_df: 365 × 23</caption>\n",
       "<thead>\n",
       "\t<tr><th scope=col>instant</th><th scope=col>dteday</th><th scope=col>season</th><th scope=col>yr</th><th scope=col>mnth</th><th scope=col>holiday</th><th scope=col>weekday</th><th scope=col>workingday</th><th scope=col>weathersit</th><th scope=col>temp</th><th scope=col>...</th><th scope=col>casual</th><th scope=col>registered</th><th scope=col>dailycount</th><th scope=col>desc_yr</th><th scope=col>desc_season</th><th scope=col>desc_mnth</th><th scope=col>desc_weekday</th><th scope=col>desc_workingday</th><th scope=col>desc_holiday</th><th scope=col>\"mnth\"</th></tr>\n",
       "\t<tr><th scope=col>&lt;int&gt;</th><th scope=col>&lt;date&gt;</th><th scope=col>&lt;int&gt;</th><th scope=col>&lt;int&gt;</th><th scope=col>&lt;int&gt;</th><th scope=col>&lt;int&gt;</th><th scope=col>&lt;int&gt;</th><th scope=col>&lt;chr&gt;</th><th scope=col>&lt;chr&gt;</th><th scope=col>&lt;dbl&gt;</th><th scope=col>...</th><th scope=col>&lt;int&gt;</th><th scope=col>&lt;int&gt;</th><th scope=col>&lt;int&gt;</th><th scope=col>&lt;dbl&gt;</th><th scope=col>&lt;chr&gt;</th><th scope=col>&lt;chr&gt;</th><th scope=col>&lt;chr&gt;</th><th scope=col>&lt;chr&gt;</th><th scope=col>&lt;chr&gt;</th><th scope=col>&lt;chr&gt;</th></tr>\n",
       "</thead>\n",
       "<tbody>\n",
       "\t<tr><td> 1</td><td>2020-01-01</td><td>1</td><td>0</td><td>1</td><td>0</td><td>6</td><td>0</td><td>2</td><td>0.3441670</td><td>...</td><td>331</td><td> 654</td><td> 985</td><td>2011</td><td>Winter</td><td>JAN</td><td>Sat  </td><td>Non-working day</td><td>Non-holiday</td><td>mnth</td></tr>\n",
       "\t<tr><td> 2</td><td>2020-01-02</td><td>1</td><td>0</td><td>1</td><td>0</td><td>0</td><td>0</td><td>2</td><td>0.3634780</td><td>...</td><td>131</td><td> 670</td><td> 801</td><td>2011</td><td>Winter</td><td>JAN</td><td>Sun  </td><td>Non-working day</td><td>Non-holiday</td><td>mnth</td></tr>\n",
       "\t<tr><td> 3</td><td>2020-01-03</td><td>1</td><td>0</td><td>1</td><td>0</td><td>1</td><td>1</td><td>1</td><td>0.1963640</td><td>...</td><td>120</td><td>1229</td><td>1349</td><td>2011</td><td>Winter</td><td>JAN</td><td>Mon  </td><td>Working day    </td><td>Non-holiday</td><td>mnth</td></tr>\n",
       "\t<tr><td> 4</td><td>2020-01-04</td><td>1</td><td>0</td><td>1</td><td>0</td><td>2</td><td>1</td><td>1</td><td>0.2000000</td><td>...</td><td>108</td><td>1454</td><td>1562</td><td>2011</td><td>Winter</td><td>JAN</td><td>Tues </td><td>Working day    </td><td>Non-holiday</td><td>mnth</td></tr>\n",
       "\t<tr><td> 5</td><td>2020-01-05</td><td>1</td><td>0</td><td>1</td><td>0</td><td>3</td><td>1</td><td>1</td><td>0.2269570</td><td>...</td><td> 82</td><td>1518</td><td>1600</td><td>2011</td><td>Winter</td><td>JAN</td><td>Wed  </td><td>Working day    </td><td>Non-holiday</td><td>mnth</td></tr>\n",
       "\t<tr><td> 6</td><td>2020-01-06</td><td>1</td><td>0</td><td>1</td><td>0</td><td>4</td><td>1</td><td>1</td><td>0.2043480</td><td>...</td><td> 88</td><td>1518</td><td>1606</td><td>2011</td><td>Winter</td><td>JAN</td><td>Thurs</td><td>Working day    </td><td>Non-holiday</td><td>mnth</td></tr>\n",
       "\t<tr><td> 7</td><td>2020-01-07</td><td>1</td><td>0</td><td>1</td><td>0</td><td>5</td><td>1</td><td>2</td><td>0.1965220</td><td>...</td><td>148</td><td>1362</td><td>1510</td><td>2011</td><td>Winter</td><td>JAN</td><td>Fri  </td><td>Working day    </td><td>Non-holiday</td><td>mnth</td></tr>\n",
       "\t<tr><td> 8</td><td>2020-01-08</td><td>1</td><td>0</td><td>1</td><td>0</td><td>6</td><td>0</td><td>2</td><td>0.1650000</td><td>...</td><td> 68</td><td> 891</td><td> 959</td><td>2011</td><td>Winter</td><td>JAN</td><td>Sat  </td><td>Non-working day</td><td>Non-holiday</td><td>mnth</td></tr>\n",
       "\t<tr><td> 9</td><td>2020-01-09</td><td>1</td><td>0</td><td>1</td><td>0</td><td>0</td><td>0</td><td>1</td><td>0.1383330</td><td>...</td><td> 54</td><td> 768</td><td> 822</td><td>2011</td><td>Winter</td><td>JAN</td><td>Sun  </td><td>Non-working day</td><td>Non-holiday</td><td>mnth</td></tr>\n",
       "\t<tr><td>10</td><td>2020-01-10</td><td>1</td><td>0</td><td>1</td><td>0</td><td>1</td><td>1</td><td>1</td><td>0.1508330</td><td>...</td><td> 41</td><td>1280</td><td>1321</td><td>2011</td><td>Winter</td><td>JAN</td><td>Mon  </td><td>Working day    </td><td>Non-holiday</td><td>mnth</td></tr>\n",
       "\t<tr><td>11</td><td>2020-01-11</td><td>1</td><td>0</td><td>1</td><td>0</td><td>2</td><td>1</td><td>2</td><td>0.1690910</td><td>...</td><td> 43</td><td>1220</td><td>1263</td><td>2011</td><td>Winter</td><td>JAN</td><td>Tues </td><td>Working day    </td><td>Non-holiday</td><td>mnth</td></tr>\n",
       "\t<tr><td>12</td><td>2020-01-12</td><td>1</td><td>0</td><td>1</td><td>0</td><td>3</td><td>1</td><td>1</td><td>0.1727270</td><td>...</td><td> 25</td><td>1137</td><td>1162</td><td>2011</td><td>Winter</td><td>JAN</td><td>Wed  </td><td>Working day    </td><td>Non-holiday</td><td>mnth</td></tr>\n",
       "\t<tr><td>13</td><td>2020-01-13</td><td>1</td><td>0</td><td>1</td><td>0</td><td>4</td><td>1</td><td>1</td><td>0.1650000</td><td>...</td><td> 38</td><td>1368</td><td>1406</td><td>2011</td><td>Winter</td><td>JAN</td><td>Thurs</td><td>Working day    </td><td>Non-holiday</td><td>mnth</td></tr>\n",
       "\t<tr><td>14</td><td>2020-01-14</td><td>1</td><td>0</td><td>1</td><td>0</td><td>5</td><td>1</td><td>1</td><td>0.1608700</td><td>...</td><td> 54</td><td>1367</td><td>1421</td><td>2011</td><td>Winter</td><td>JAN</td><td>Fri  </td><td>Working day    </td><td>Non-holiday</td><td>mnth</td></tr>\n",
       "\t<tr><td>15</td><td>2020-01-15</td><td>1</td><td>0</td><td>1</td><td>0</td><td>6</td><td>0</td><td>2</td><td>0.2333330</td><td>...</td><td>222</td><td>1026</td><td>1248</td><td>2011</td><td>Winter</td><td>JAN</td><td>Sat  </td><td>Non-working day</td><td>Non-holiday</td><td>mnth</td></tr>\n",
       "\t<tr><td>16</td><td>2020-01-16</td><td>1</td><td>0</td><td>1</td><td>0</td><td>0</td><td>0</td><td>1</td><td>0.2316670</td><td>...</td><td>251</td><td> 953</td><td>1204</td><td>2011</td><td>Winter</td><td>JAN</td><td>Sun  </td><td>Non-working day</td><td>Non-holiday</td><td>mnth</td></tr>\n",
       "\t<tr><td>17</td><td>2020-01-17</td><td>1</td><td>0</td><td>1</td><td>1</td><td>1</td><td>0</td><td>2</td><td>0.1758330</td><td>...</td><td>117</td><td> 883</td><td>1000</td><td>2011</td><td>Winter</td><td>JAN</td><td>Mon  </td><td>Non-working day</td><td>Holiday    </td><td>mnth</td></tr>\n",
       "\t<tr><td>18</td><td>2020-01-18</td><td>1</td><td>0</td><td>1</td><td>0</td><td>2</td><td>1</td><td>2</td><td>0.2166670</td><td>...</td><td>  9</td><td> 674</td><td> 683</td><td>2011</td><td>Winter</td><td>JAN</td><td>Tues </td><td>Working day    </td><td>Non-holiday</td><td>mnth</td></tr>\n",
       "\t<tr><td>19</td><td>2020-01-19</td><td>1</td><td>0</td><td>1</td><td>0</td><td>3</td><td>1</td><td>2</td><td>0.2921740</td><td>...</td><td> 78</td><td>1572</td><td>1650</td><td>2011</td><td>Winter</td><td>JAN</td><td>Wed  </td><td>Working day    </td><td>Non-holiday</td><td>mnth</td></tr>\n",
       "\t<tr><td>20</td><td>2020-01-20</td><td>1</td><td>0</td><td>1</td><td>0</td><td>4</td><td>1</td><td>2</td><td>0.2616670</td><td>...</td><td> 83</td><td>1844</td><td>1927</td><td>2011</td><td>Winter</td><td>JAN</td><td>Thurs</td><td>Working day    </td><td>Non-holiday</td><td>mnth</td></tr>\n",
       "\t<tr><td>21</td><td>2020-01-21</td><td>1</td><td>0</td><td>1</td><td>0</td><td>5</td><td>1</td><td>1</td><td>0.1775000</td><td>...</td><td> 75</td><td>1468</td><td>1543</td><td>2011</td><td>Winter</td><td>JAN</td><td>Fri  </td><td>Working day    </td><td>Non-holiday</td><td>mnth</td></tr>\n",
       "\t<tr><td>22</td><td>2020-01-22</td><td>1</td><td>0</td><td>1</td><td>0</td><td>6</td><td>0</td><td>1</td><td>0.0591304</td><td>...</td><td> 93</td><td> 888</td><td> 981</td><td>2011</td><td>Winter</td><td>JAN</td><td>Sat  </td><td>Non-working day</td><td>Non-holiday</td><td>mnth</td></tr>\n",
       "\t<tr><td>23</td><td>2020-01-23</td><td>1</td><td>0</td><td>1</td><td>0</td><td>0</td><td>0</td><td>1</td><td>0.0965217</td><td>...</td><td>150</td><td> 836</td><td> 986</td><td>2011</td><td>Winter</td><td>JAN</td><td>Sun  </td><td>Non-working day</td><td>Non-holiday</td><td>mnth</td></tr>\n",
       "\t<tr><td>24</td><td>2020-01-24</td><td>1</td><td>0</td><td>1</td><td>0</td><td>1</td><td>1</td><td>1</td><td>0.0973913</td><td>...</td><td> 86</td><td>1330</td><td>1416</td><td>2011</td><td>Winter</td><td>JAN</td><td>Mon  </td><td>Working day    </td><td>Non-holiday</td><td>mnth</td></tr>\n",
       "\t<tr><td>25</td><td>2020-01-25</td><td>1</td><td>0</td><td>1</td><td>0</td><td>2</td><td>1</td><td>2</td><td>0.2234780</td><td>...</td><td>186</td><td>1799</td><td>1985</td><td>2011</td><td>Winter</td><td>JAN</td><td>Tues </td><td>Working day    </td><td>Non-holiday</td><td>mnth</td></tr>\n",
       "\t<tr><td>26</td><td>2020-01-26</td><td>1</td><td>0</td><td>1</td><td>0</td><td>3</td><td>1</td><td>3</td><td>0.2175000</td><td>...</td><td> 34</td><td> 472</td><td> 506</td><td>2011</td><td>Winter</td><td>JAN</td><td>Wed  </td><td>Working day    </td><td>Non-holiday</td><td>mnth</td></tr>\n",
       "\t<tr><td>27</td><td>2020-01-27</td><td>1</td><td>0</td><td>1</td><td>0</td><td>4</td><td>1</td><td>1</td><td>0.1950000</td><td>...</td><td> 15</td><td> 416</td><td> 431</td><td>2011</td><td>Winter</td><td>JAN</td><td>Thurs</td><td>Working day    </td><td>Non-holiday</td><td>mnth</td></tr>\n",
       "\t<tr><td>28</td><td>2020-01-28</td><td>1</td><td>0</td><td>1</td><td>0</td><td>5</td><td>1</td><td>2</td><td>0.2034780</td><td>...</td><td> 38</td><td>1129</td><td>1167</td><td>2011</td><td>Winter</td><td>JAN</td><td>Fri  </td><td>Working day    </td><td>Non-holiday</td><td>mnth</td></tr>\n",
       "\t<tr><td>29</td><td>2020-01-29</td><td>1</td><td>0</td><td>1</td><td>0</td><td>6</td><td>0</td><td>1</td><td>0.1965220</td><td>...</td><td>123</td><td> 975</td><td>1098</td><td>2011</td><td>Winter</td><td>JAN</td><td>Sat  </td><td>Non-working day</td><td>Non-holiday</td><td>mnth</td></tr>\n",
       "\t<tr><td>30</td><td>2020-01-30</td><td>1</td><td>0</td><td>1</td><td>0</td><td>0</td><td>0</td><td>1</td><td>0.2165220</td><td>...</td><td>140</td><td> 956</td><td>1096</td><td>2011</td><td>Winter</td><td>JAN</td><td>Sun  </td><td>Non-working day</td><td>Non-holiday</td><td>mnth</td></tr>\n",
       "\t<tr><td>...</td><td>...</td><td>...</td><td>...</td><td>...</td><td>...</td><td>...</td><td>...</td><td>...</td><td>...</td><td></td><td>...</td><td>...</td><td>...</td><td>...</td><td>...</td><td>...</td><td>...</td><td>...</td><td>...</td><td>...</td></tr>\n",
       "\t<tr><td>336</td><td>2020-12-02</td><td>4</td><td>0</td><td>12</td><td>0</td><td>5</td><td>1</td><td>1</td><td>0.314167</td><td>...</td><td>268</td><td>3672</td><td>3940</td><td>2011</td><td>Fall  </td><td>DEC</td><td>Fri  </td><td>Working day    </td><td>Non-holiday</td><td>mnth</td></tr>\n",
       "\t<tr><td>337</td><td>2020-12-03</td><td>4</td><td>0</td><td>12</td><td>0</td><td>6</td><td>0</td><td>1</td><td>0.299167</td><td>...</td><td>706</td><td>2908</td><td>3614</td><td>2011</td><td>Fall  </td><td>DEC</td><td>Sat  </td><td>Non-working day</td><td>Non-holiday</td><td>mnth</td></tr>\n",
       "\t<tr><td>338</td><td>2020-12-04</td><td>4</td><td>0</td><td>12</td><td>0</td><td>0</td><td>0</td><td>1</td><td>0.330833</td><td>...</td><td>634</td><td>2851</td><td>3485</td><td>2011</td><td>Fall  </td><td>DEC</td><td>Sun  </td><td>Non-working day</td><td>Non-holiday</td><td>mnth</td></tr>\n",
       "\t<tr><td>339</td><td>2020-12-05</td><td>4</td><td>0</td><td>12</td><td>0</td><td>1</td><td>1</td><td>2</td><td>0.385833</td><td>...</td><td>233</td><td>3578</td><td>3811</td><td>2011</td><td>Fall  </td><td>DEC</td><td>Mon  </td><td>Working day    </td><td>Non-holiday</td><td>mnth</td></tr>\n",
       "\t<tr><td>340</td><td>2020-12-06</td><td>4</td><td>0</td><td>12</td><td>0</td><td>2</td><td>1</td><td>3</td><td>0.462500</td><td>...</td><td>126</td><td>2468</td><td>2594</td><td>2011</td><td>Fall  </td><td>DEC</td><td>Tues </td><td>Working day    </td><td>Non-holiday</td><td>mnth</td></tr>\n",
       "\t<tr><td>341</td><td>2020-12-07</td><td>4</td><td>0</td><td>12</td><td>0</td><td>3</td><td>1</td><td>3</td><td>0.410000</td><td>...</td><td> 50</td><td> 655</td><td> 705</td><td>2011</td><td>Fall  </td><td>DEC</td><td>Wed  </td><td>Working day    </td><td>Non-holiday</td><td>mnth</td></tr>\n",
       "\t<tr><td>342</td><td>2020-12-08</td><td>4</td><td>0</td><td>12</td><td>0</td><td>4</td><td>1</td><td>1</td><td>0.265833</td><td>...</td><td>150</td><td>3172</td><td>3322</td><td>2011</td><td>Fall  </td><td>DEC</td><td>Thurs</td><td>Working day    </td><td>Non-holiday</td><td>mnth</td></tr>\n",
       "\t<tr><td>343</td><td>2020-12-09</td><td>4</td><td>0</td><td>12</td><td>0</td><td>5</td><td>1</td><td>1</td><td>0.290833</td><td>...</td><td>261</td><td>3359</td><td>3620</td><td>2011</td><td>Fall  </td><td>DEC</td><td>Fri  </td><td>Working day    </td><td>Non-holiday</td><td>mnth</td></tr>\n",
       "\t<tr><td>344</td><td>2020-12-10</td><td>4</td><td>0</td><td>12</td><td>0</td><td>6</td><td>0</td><td>1</td><td>0.275000</td><td>...</td><td>502</td><td>2688</td><td>3190</td><td>2011</td><td>Fall  </td><td>DEC</td><td>Sat  </td><td>Non-working day</td><td>Non-holiday</td><td>mnth</td></tr>\n",
       "\t<tr><td>345</td><td>2020-12-11</td><td>4</td><td>0</td><td>12</td><td>0</td><td>0</td><td>0</td><td>1</td><td>0.220833</td><td>...</td><td>377</td><td>2366</td><td>2743</td><td>2011</td><td>Fall  </td><td>DEC</td><td>Sun  </td><td>Non-working day</td><td>Non-holiday</td><td>mnth</td></tr>\n",
       "\t<tr><td>346</td><td>2020-12-12</td><td>4</td><td>0</td><td>12</td><td>0</td><td>1</td><td>1</td><td>1</td><td>0.238333</td><td>...</td><td>143</td><td>3167</td><td>3310</td><td>2011</td><td>Fall  </td><td>DEC</td><td>Mon  </td><td>Working day    </td><td>Non-holiday</td><td>mnth</td></tr>\n",
       "\t<tr><td>347</td><td>2020-12-13</td><td>4</td><td>0</td><td>12</td><td>0</td><td>2</td><td>1</td><td>1</td><td>0.282500</td><td>...</td><td>155</td><td>3368</td><td>3523</td><td>2011</td><td>Fall  </td><td>DEC</td><td>Tues </td><td>Working day    </td><td>Non-holiday</td><td>mnth</td></tr>\n",
       "\t<tr><td>348</td><td>2020-12-14</td><td>4</td><td>0</td><td>12</td><td>0</td><td>3</td><td>1</td><td>2</td><td>0.317500</td><td>...</td><td>178</td><td>3562</td><td>3740</td><td>2011</td><td>Fall  </td><td>DEC</td><td>Wed  </td><td>Working day    </td><td>Non-holiday</td><td>mnth</td></tr>\n",
       "\t<tr><td>349</td><td>2020-12-15</td><td>4</td><td>0</td><td>12</td><td>0</td><td>4</td><td>1</td><td>2</td><td>0.422500</td><td>...</td><td>181</td><td>3528</td><td>3709</td><td>2011</td><td>Fall  </td><td>DEC</td><td>Thurs</td><td>Working day    </td><td>Non-holiday</td><td>mnth</td></tr>\n",
       "\t<tr><td>350</td><td>2020-12-16</td><td>4</td><td>0</td><td>12</td><td>0</td><td>5</td><td>1</td><td>2</td><td>0.375000</td><td>...</td><td>178</td><td>3399</td><td>3577</td><td>2011</td><td>Fall  </td><td>DEC</td><td>Fri  </td><td>Working day    </td><td>Non-holiday</td><td>mnth</td></tr>\n",
       "\t<tr><td>351</td><td>2020-12-17</td><td>4</td><td>0</td><td>12</td><td>0</td><td>6</td><td>0</td><td>2</td><td>0.258333</td><td>...</td><td>275</td><td>2464</td><td>2739</td><td>2011</td><td>Fall  </td><td>DEC</td><td>Sat  </td><td>Non-working day</td><td>Non-holiday</td><td>mnth</td></tr>\n",
       "\t<tr><td>352</td><td>2020-12-18</td><td>4</td><td>0</td><td>12</td><td>0</td><td>0</td><td>0</td><td>1</td><td>0.238333</td><td>...</td><td>220</td><td>2211</td><td>2431</td><td>2011</td><td>Fall  </td><td>DEC</td><td>Sun  </td><td>Non-working day</td><td>Non-holiday</td><td>mnth</td></tr>\n",
       "\t<tr><td>353</td><td>2020-12-19</td><td>4</td><td>0</td><td>12</td><td>0</td><td>1</td><td>1</td><td>1</td><td>0.276667</td><td>...</td><td>260</td><td>3143</td><td>3403</td><td>2011</td><td>Fall  </td><td>DEC</td><td>Mon  </td><td>Working day    </td><td>Non-holiday</td><td>mnth</td></tr>\n",
       "\t<tr><td>354</td><td>2020-12-20</td><td>4</td><td>0</td><td>12</td><td>0</td><td>2</td><td>1</td><td>2</td><td>0.385833</td><td>...</td><td>216</td><td>3534</td><td>3750</td><td>2011</td><td>Fall  </td><td>DEC</td><td>Tues </td><td>Working day    </td><td>Non-holiday</td><td>mnth</td></tr>\n",
       "\t<tr><td>355</td><td>2020-12-21</td><td>1</td><td>0</td><td>12</td><td>0</td><td>3</td><td>1</td><td>2</td><td>0.428333</td><td>...</td><td>107</td><td>2553</td><td>2660</td><td>2011</td><td>Winter</td><td>DEC</td><td>Wed  </td><td>Working day    </td><td>Non-holiday</td><td>mnth</td></tr>\n",
       "\t<tr><td>356</td><td>2020-12-22</td><td>1</td><td>0</td><td>12</td><td>0</td><td>4</td><td>1</td><td>2</td><td>0.423333</td><td>...</td><td>227</td><td>2841</td><td>3068</td><td>2011</td><td>Winter</td><td>DEC</td><td>Thurs</td><td>Working day    </td><td>Non-holiday</td><td>mnth</td></tr>\n",
       "\t<tr><td>357</td><td>2020-12-23</td><td>1</td><td>0</td><td>12</td><td>0</td><td>5</td><td>1</td><td>1</td><td>0.373333</td><td>...</td><td>163</td><td>2046</td><td>2209</td><td>2011</td><td>Winter</td><td>DEC</td><td>Fri  </td><td>Working day    </td><td>Non-holiday</td><td>mnth</td></tr>\n",
       "\t<tr><td>358</td><td>2020-12-24</td><td>1</td><td>0</td><td>12</td><td>0</td><td>6</td><td>0</td><td>1</td><td>0.302500</td><td>...</td><td>155</td><td> 856</td><td>1011</td><td>2011</td><td>Winter</td><td>DEC</td><td>Sat  </td><td>Non-working day</td><td>Non-holiday</td><td>mnth</td></tr>\n",
       "\t<tr><td>359</td><td>2020-12-25</td><td>1</td><td>0</td><td>12</td><td>0</td><td>0</td><td>0</td><td>1</td><td>0.274783</td><td>...</td><td>303</td><td> 451</td><td> 754</td><td>2011</td><td>Winter</td><td>DEC</td><td>Sun  </td><td>Non-working day</td><td>Non-holiday</td><td>mnth</td></tr>\n",
       "\t<tr><td>360</td><td>2020-12-26</td><td>1</td><td>0</td><td>12</td><td>1</td><td>1</td><td>0</td><td>1</td><td>0.321739</td><td>...</td><td>430</td><td> 887</td><td>1317</td><td>2011</td><td>Winter</td><td>DEC</td><td>Mon  </td><td>Non-working day</td><td>Holiday    </td><td>mnth</td></tr>\n",
       "\t<tr><td>361</td><td>2020-12-27</td><td>1</td><td>0</td><td>12</td><td>0</td><td>2</td><td>1</td><td>2</td><td>0.325000</td><td>...</td><td>103</td><td>1059</td><td>1162</td><td>2011</td><td>Winter</td><td>DEC</td><td>Tues </td><td>Working day    </td><td>Non-holiday</td><td>mnth</td></tr>\n",
       "\t<tr><td>362</td><td>2020-12-28</td><td>1</td><td>0</td><td>12</td><td>0</td><td>3</td><td>1</td><td>1</td><td>0.299130</td><td>...</td><td>255</td><td>2047</td><td>2302</td><td>2011</td><td>Winter</td><td>DEC</td><td>Wed  </td><td>Working day    </td><td>Non-holiday</td><td>mnth</td></tr>\n",
       "\t<tr><td>363</td><td>2020-12-29</td><td>1</td><td>0</td><td>12</td><td>0</td><td>4</td><td>1</td><td>1</td><td>0.248333</td><td>...</td><td>254</td><td>2169</td><td>2423</td><td>2011</td><td>Winter</td><td>DEC</td><td>Thurs</td><td>Working day    </td><td>Non-holiday</td><td>mnth</td></tr>\n",
       "\t<tr><td>364</td><td>2020-12-30</td><td>1</td><td>0</td><td>12</td><td>0</td><td>5</td><td>1</td><td>1</td><td>0.311667</td><td>...</td><td>491</td><td>2508</td><td>2999</td><td>2011</td><td>Winter</td><td>DEC</td><td>Fri  </td><td>Working day    </td><td>Non-holiday</td><td>mnth</td></tr>\n",
       "\t<tr><td>365</td><td>2020-12-31</td><td>1</td><td>0</td><td>12</td><td>0</td><td>6</td><td>0</td><td>1</td><td>0.410000</td><td>...</td><td>665</td><td>1820</td><td>2485</td><td>2011</td><td>Winter</td><td>DEC</td><td>Sat  </td><td>Non-working day</td><td>Non-holiday</td><td>mnth</td></tr>\n",
       "</tbody>\n",
       "</table>\n"
      ],
      "text/latex": [
       "A grouped\\_df: 365 × 23\n",
       "\\begin{tabular}{lllllllllllllllllllll}\n",
       " instant & dteday & season & yr & mnth & holiday & weekday & workingday & weathersit & temp & ... & casual & registered & dailycount & desc\\_yr & desc\\_season & desc\\_mnth & desc\\_weekday & desc\\_workingday & desc\\_holiday & \"mnth\"\\\\\n",
       " <int> & <date> & <int> & <int> & <int> & <int> & <int> & <chr> & <chr> & <dbl> & ... & <int> & <int> & <int> & <dbl> & <chr> & <chr> & <chr> & <chr> & <chr> & <chr>\\\\\n",
       "\\hline\n",
       "\t  1 & 2020-01-01 & 1 & 0 & 1 & 0 & 6 & 0 & 2 & 0.3441670 & ... & 331 &  654 &  985 & 2011 & Winter & JAN & Sat   & Non-working day & Non-holiday & mnth\\\\\n",
       "\t  2 & 2020-01-02 & 1 & 0 & 1 & 0 & 0 & 0 & 2 & 0.3634780 & ... & 131 &  670 &  801 & 2011 & Winter & JAN & Sun   & Non-working day & Non-holiday & mnth\\\\\n",
       "\t  3 & 2020-01-03 & 1 & 0 & 1 & 0 & 1 & 1 & 1 & 0.1963640 & ... & 120 & 1229 & 1349 & 2011 & Winter & JAN & Mon   & Working day     & Non-holiday & mnth\\\\\n",
       "\t  4 & 2020-01-04 & 1 & 0 & 1 & 0 & 2 & 1 & 1 & 0.2000000 & ... & 108 & 1454 & 1562 & 2011 & Winter & JAN & Tues  & Working day     & Non-holiday & mnth\\\\\n",
       "\t  5 & 2020-01-05 & 1 & 0 & 1 & 0 & 3 & 1 & 1 & 0.2269570 & ... &  82 & 1518 & 1600 & 2011 & Winter & JAN & Wed   & Working day     & Non-holiday & mnth\\\\\n",
       "\t  6 & 2020-01-06 & 1 & 0 & 1 & 0 & 4 & 1 & 1 & 0.2043480 & ... &  88 & 1518 & 1606 & 2011 & Winter & JAN & Thurs & Working day     & Non-holiday & mnth\\\\\n",
       "\t  7 & 2020-01-07 & 1 & 0 & 1 & 0 & 5 & 1 & 2 & 0.1965220 & ... & 148 & 1362 & 1510 & 2011 & Winter & JAN & Fri   & Working day     & Non-holiday & mnth\\\\\n",
       "\t  8 & 2020-01-08 & 1 & 0 & 1 & 0 & 6 & 0 & 2 & 0.1650000 & ... &  68 &  891 &  959 & 2011 & Winter & JAN & Sat   & Non-working day & Non-holiday & mnth\\\\\n",
       "\t  9 & 2020-01-09 & 1 & 0 & 1 & 0 & 0 & 0 & 1 & 0.1383330 & ... &  54 &  768 &  822 & 2011 & Winter & JAN & Sun   & Non-working day & Non-holiday & mnth\\\\\n",
       "\t 10 & 2020-01-10 & 1 & 0 & 1 & 0 & 1 & 1 & 1 & 0.1508330 & ... &  41 & 1280 & 1321 & 2011 & Winter & JAN & Mon   & Working day     & Non-holiday & mnth\\\\\n",
       "\t 11 & 2020-01-11 & 1 & 0 & 1 & 0 & 2 & 1 & 2 & 0.1690910 & ... &  43 & 1220 & 1263 & 2011 & Winter & JAN & Tues  & Working day     & Non-holiday & mnth\\\\\n",
       "\t 12 & 2020-01-12 & 1 & 0 & 1 & 0 & 3 & 1 & 1 & 0.1727270 & ... &  25 & 1137 & 1162 & 2011 & Winter & JAN & Wed   & Working day     & Non-holiday & mnth\\\\\n",
       "\t 13 & 2020-01-13 & 1 & 0 & 1 & 0 & 4 & 1 & 1 & 0.1650000 & ... &  38 & 1368 & 1406 & 2011 & Winter & JAN & Thurs & Working day     & Non-holiday & mnth\\\\\n",
       "\t 14 & 2020-01-14 & 1 & 0 & 1 & 0 & 5 & 1 & 1 & 0.1608700 & ... &  54 & 1367 & 1421 & 2011 & Winter & JAN & Fri   & Working day     & Non-holiday & mnth\\\\\n",
       "\t 15 & 2020-01-15 & 1 & 0 & 1 & 0 & 6 & 0 & 2 & 0.2333330 & ... & 222 & 1026 & 1248 & 2011 & Winter & JAN & Sat   & Non-working day & Non-holiday & mnth\\\\\n",
       "\t 16 & 2020-01-16 & 1 & 0 & 1 & 0 & 0 & 0 & 1 & 0.2316670 & ... & 251 &  953 & 1204 & 2011 & Winter & JAN & Sun   & Non-working day & Non-holiday & mnth\\\\\n",
       "\t 17 & 2020-01-17 & 1 & 0 & 1 & 1 & 1 & 0 & 2 & 0.1758330 & ... & 117 &  883 & 1000 & 2011 & Winter & JAN & Mon   & Non-working day & Holiday     & mnth\\\\\n",
       "\t 18 & 2020-01-18 & 1 & 0 & 1 & 0 & 2 & 1 & 2 & 0.2166670 & ... &   9 &  674 &  683 & 2011 & Winter & JAN & Tues  & Working day     & Non-holiday & mnth\\\\\n",
       "\t 19 & 2020-01-19 & 1 & 0 & 1 & 0 & 3 & 1 & 2 & 0.2921740 & ... &  78 & 1572 & 1650 & 2011 & Winter & JAN & Wed   & Working day     & Non-holiday & mnth\\\\\n",
       "\t 20 & 2020-01-20 & 1 & 0 & 1 & 0 & 4 & 1 & 2 & 0.2616670 & ... &  83 & 1844 & 1927 & 2011 & Winter & JAN & Thurs & Working day     & Non-holiday & mnth\\\\\n",
       "\t 21 & 2020-01-21 & 1 & 0 & 1 & 0 & 5 & 1 & 1 & 0.1775000 & ... &  75 & 1468 & 1543 & 2011 & Winter & JAN & Fri   & Working day     & Non-holiday & mnth\\\\\n",
       "\t 22 & 2020-01-22 & 1 & 0 & 1 & 0 & 6 & 0 & 1 & 0.0591304 & ... &  93 &  888 &  981 & 2011 & Winter & JAN & Sat   & Non-working day & Non-holiday & mnth\\\\\n",
       "\t 23 & 2020-01-23 & 1 & 0 & 1 & 0 & 0 & 0 & 1 & 0.0965217 & ... & 150 &  836 &  986 & 2011 & Winter & JAN & Sun   & Non-working day & Non-holiday & mnth\\\\\n",
       "\t 24 & 2020-01-24 & 1 & 0 & 1 & 0 & 1 & 1 & 1 & 0.0973913 & ... &  86 & 1330 & 1416 & 2011 & Winter & JAN & Mon   & Working day     & Non-holiday & mnth\\\\\n",
       "\t 25 & 2020-01-25 & 1 & 0 & 1 & 0 & 2 & 1 & 2 & 0.2234780 & ... & 186 & 1799 & 1985 & 2011 & Winter & JAN & Tues  & Working day     & Non-holiday & mnth\\\\\n",
       "\t 26 & 2020-01-26 & 1 & 0 & 1 & 0 & 3 & 1 & 3 & 0.2175000 & ... &  34 &  472 &  506 & 2011 & Winter & JAN & Wed   & Working day     & Non-holiday & mnth\\\\\n",
       "\t 27 & 2020-01-27 & 1 & 0 & 1 & 0 & 4 & 1 & 1 & 0.1950000 & ... &  15 &  416 &  431 & 2011 & Winter & JAN & Thurs & Working day     & Non-holiday & mnth\\\\\n",
       "\t 28 & 2020-01-28 & 1 & 0 & 1 & 0 & 5 & 1 & 2 & 0.2034780 & ... &  38 & 1129 & 1167 & 2011 & Winter & JAN & Fri   & Working day     & Non-holiday & mnth\\\\\n",
       "\t 29 & 2020-01-29 & 1 & 0 & 1 & 0 & 6 & 0 & 1 & 0.1965220 & ... & 123 &  975 & 1098 & 2011 & Winter & JAN & Sat   & Non-working day & Non-holiday & mnth\\\\\n",
       "\t 30 & 2020-01-30 & 1 & 0 & 1 & 0 & 0 & 0 & 1 & 0.2165220 & ... & 140 &  956 & 1096 & 2011 & Winter & JAN & Sun   & Non-working day & Non-holiday & mnth\\\\\n",
       "\t ... & ... & ... & ... & ... & ... & ... & ... & ... & ... &  & ... & ... & ... & ... & ... & ... & ... & ... & ... & ...\\\\\n",
       "\t 336 & 2020-12-02 & 4 & 0 & 12 & 0 & 5 & 1 & 1 & 0.314167 & ... & 268 & 3672 & 3940 & 2011 & Fall   & DEC & Fri   & Working day     & Non-holiday & mnth\\\\\n",
       "\t 337 & 2020-12-03 & 4 & 0 & 12 & 0 & 6 & 0 & 1 & 0.299167 & ... & 706 & 2908 & 3614 & 2011 & Fall   & DEC & Sat   & Non-working day & Non-holiday & mnth\\\\\n",
       "\t 338 & 2020-12-04 & 4 & 0 & 12 & 0 & 0 & 0 & 1 & 0.330833 & ... & 634 & 2851 & 3485 & 2011 & Fall   & DEC & Sun   & Non-working day & Non-holiday & mnth\\\\\n",
       "\t 339 & 2020-12-05 & 4 & 0 & 12 & 0 & 1 & 1 & 2 & 0.385833 & ... & 233 & 3578 & 3811 & 2011 & Fall   & DEC & Mon   & Working day     & Non-holiday & mnth\\\\\n",
       "\t 340 & 2020-12-06 & 4 & 0 & 12 & 0 & 2 & 1 & 3 & 0.462500 & ... & 126 & 2468 & 2594 & 2011 & Fall   & DEC & Tues  & Working day     & Non-holiday & mnth\\\\\n",
       "\t 341 & 2020-12-07 & 4 & 0 & 12 & 0 & 3 & 1 & 3 & 0.410000 & ... &  50 &  655 &  705 & 2011 & Fall   & DEC & Wed   & Working day     & Non-holiday & mnth\\\\\n",
       "\t 342 & 2020-12-08 & 4 & 0 & 12 & 0 & 4 & 1 & 1 & 0.265833 & ... & 150 & 3172 & 3322 & 2011 & Fall   & DEC & Thurs & Working day     & Non-holiday & mnth\\\\\n",
       "\t 343 & 2020-12-09 & 4 & 0 & 12 & 0 & 5 & 1 & 1 & 0.290833 & ... & 261 & 3359 & 3620 & 2011 & Fall   & DEC & Fri   & Working day     & Non-holiday & mnth\\\\\n",
       "\t 344 & 2020-12-10 & 4 & 0 & 12 & 0 & 6 & 0 & 1 & 0.275000 & ... & 502 & 2688 & 3190 & 2011 & Fall   & DEC & Sat   & Non-working day & Non-holiday & mnth\\\\\n",
       "\t 345 & 2020-12-11 & 4 & 0 & 12 & 0 & 0 & 0 & 1 & 0.220833 & ... & 377 & 2366 & 2743 & 2011 & Fall   & DEC & Sun   & Non-working day & Non-holiday & mnth\\\\\n",
       "\t 346 & 2020-12-12 & 4 & 0 & 12 & 0 & 1 & 1 & 1 & 0.238333 & ... & 143 & 3167 & 3310 & 2011 & Fall   & DEC & Mon   & Working day     & Non-holiday & mnth\\\\\n",
       "\t 347 & 2020-12-13 & 4 & 0 & 12 & 0 & 2 & 1 & 1 & 0.282500 & ... & 155 & 3368 & 3523 & 2011 & Fall   & DEC & Tues  & Working day     & Non-holiday & mnth\\\\\n",
       "\t 348 & 2020-12-14 & 4 & 0 & 12 & 0 & 3 & 1 & 2 & 0.317500 & ... & 178 & 3562 & 3740 & 2011 & Fall   & DEC & Wed   & Working day     & Non-holiday & mnth\\\\\n",
       "\t 349 & 2020-12-15 & 4 & 0 & 12 & 0 & 4 & 1 & 2 & 0.422500 & ... & 181 & 3528 & 3709 & 2011 & Fall   & DEC & Thurs & Working day     & Non-holiday & mnth\\\\\n",
       "\t 350 & 2020-12-16 & 4 & 0 & 12 & 0 & 5 & 1 & 2 & 0.375000 & ... & 178 & 3399 & 3577 & 2011 & Fall   & DEC & Fri   & Working day     & Non-holiday & mnth\\\\\n",
       "\t 351 & 2020-12-17 & 4 & 0 & 12 & 0 & 6 & 0 & 2 & 0.258333 & ... & 275 & 2464 & 2739 & 2011 & Fall   & DEC & Sat   & Non-working day & Non-holiday & mnth\\\\\n",
       "\t 352 & 2020-12-18 & 4 & 0 & 12 & 0 & 0 & 0 & 1 & 0.238333 & ... & 220 & 2211 & 2431 & 2011 & Fall   & DEC & Sun   & Non-working day & Non-holiday & mnth\\\\\n",
       "\t 353 & 2020-12-19 & 4 & 0 & 12 & 0 & 1 & 1 & 1 & 0.276667 & ... & 260 & 3143 & 3403 & 2011 & Fall   & DEC & Mon   & Working day     & Non-holiday & mnth\\\\\n",
       "\t 354 & 2020-12-20 & 4 & 0 & 12 & 0 & 2 & 1 & 2 & 0.385833 & ... & 216 & 3534 & 3750 & 2011 & Fall   & DEC & Tues  & Working day     & Non-holiday & mnth\\\\\n",
       "\t 355 & 2020-12-21 & 1 & 0 & 12 & 0 & 3 & 1 & 2 & 0.428333 & ... & 107 & 2553 & 2660 & 2011 & Winter & DEC & Wed   & Working day     & Non-holiday & mnth\\\\\n",
       "\t 356 & 2020-12-22 & 1 & 0 & 12 & 0 & 4 & 1 & 2 & 0.423333 & ... & 227 & 2841 & 3068 & 2011 & Winter & DEC & Thurs & Working day     & Non-holiday & mnth\\\\\n",
       "\t 357 & 2020-12-23 & 1 & 0 & 12 & 0 & 5 & 1 & 1 & 0.373333 & ... & 163 & 2046 & 2209 & 2011 & Winter & DEC & Fri   & Working day     & Non-holiday & mnth\\\\\n",
       "\t 358 & 2020-12-24 & 1 & 0 & 12 & 0 & 6 & 0 & 1 & 0.302500 & ... & 155 &  856 & 1011 & 2011 & Winter & DEC & Sat   & Non-working day & Non-holiday & mnth\\\\\n",
       "\t 359 & 2020-12-25 & 1 & 0 & 12 & 0 & 0 & 0 & 1 & 0.274783 & ... & 303 &  451 &  754 & 2011 & Winter & DEC & Sun   & Non-working day & Non-holiday & mnth\\\\\n",
       "\t 360 & 2020-12-26 & 1 & 0 & 12 & 1 & 1 & 0 & 1 & 0.321739 & ... & 430 &  887 & 1317 & 2011 & Winter & DEC & Mon   & Non-working day & Holiday     & mnth\\\\\n",
       "\t 361 & 2020-12-27 & 1 & 0 & 12 & 0 & 2 & 1 & 2 & 0.325000 & ... & 103 & 1059 & 1162 & 2011 & Winter & DEC & Tues  & Working day     & Non-holiday & mnth\\\\\n",
       "\t 362 & 2020-12-28 & 1 & 0 & 12 & 0 & 3 & 1 & 1 & 0.299130 & ... & 255 & 2047 & 2302 & 2011 & Winter & DEC & Wed   & Working day     & Non-holiday & mnth\\\\\n",
       "\t 363 & 2020-12-29 & 1 & 0 & 12 & 0 & 4 & 1 & 1 & 0.248333 & ... & 254 & 2169 & 2423 & 2011 & Winter & DEC & Thurs & Working day     & Non-holiday & mnth\\\\\n",
       "\t 364 & 2020-12-30 & 1 & 0 & 12 & 0 & 5 & 1 & 1 & 0.311667 & ... & 491 & 2508 & 2999 & 2011 & Winter & DEC & Fri   & Working day     & Non-holiday & mnth\\\\\n",
       "\t 365 & 2020-12-31 & 1 & 0 & 12 & 0 & 6 & 0 & 1 & 0.410000 & ... & 665 & 1820 & 2485 & 2011 & Winter & DEC & Sat   & Non-working day & Non-holiday & mnth\\\\\n",
       "\\end{tabular}\n"
      ],
      "text/markdown": [
       "\n",
       "A grouped_df: 365 × 23\n",
       "\n",
       "| instant &lt;int&gt; | dteday &lt;date&gt; | season &lt;int&gt; | yr &lt;int&gt; | mnth &lt;int&gt; | holiday &lt;int&gt; | weekday &lt;int&gt; | workingday &lt;chr&gt; | weathersit &lt;chr&gt; | temp &lt;dbl&gt; | ... ... | casual &lt;int&gt; | registered &lt;int&gt; | dailycount &lt;int&gt; | desc_yr &lt;dbl&gt; | desc_season &lt;chr&gt; | desc_mnth &lt;chr&gt; | desc_weekday &lt;chr&gt; | desc_workingday &lt;chr&gt; | desc_holiday &lt;chr&gt; | \"mnth\" &lt;chr&gt; |\n",
       "|---|---|---|---|---|---|---|---|---|---|---|---|---|---|---|---|---|---|---|---|---|\n",
       "|  1 | 2020-01-01 | 1 | 0 | 1 | 0 | 6 | 0 | 2 | 0.3441670 | ... | 331 |  654 |  985 | 2011 | Winter | JAN | Sat   | Non-working day | Non-holiday | mnth |\n",
       "|  2 | 2020-01-02 | 1 | 0 | 1 | 0 | 0 | 0 | 2 | 0.3634780 | ... | 131 |  670 |  801 | 2011 | Winter | JAN | Sun   | Non-working day | Non-holiday | mnth |\n",
       "|  3 | 2020-01-03 | 1 | 0 | 1 | 0 | 1 | 1 | 1 | 0.1963640 | ... | 120 | 1229 | 1349 | 2011 | Winter | JAN | Mon   | Working day     | Non-holiday | mnth |\n",
       "|  4 | 2020-01-04 | 1 | 0 | 1 | 0 | 2 | 1 | 1 | 0.2000000 | ... | 108 | 1454 | 1562 | 2011 | Winter | JAN | Tues  | Working day     | Non-holiday | mnth |\n",
       "|  5 | 2020-01-05 | 1 | 0 | 1 | 0 | 3 | 1 | 1 | 0.2269570 | ... |  82 | 1518 | 1600 | 2011 | Winter | JAN | Wed   | Working day     | Non-holiday | mnth |\n",
       "|  6 | 2020-01-06 | 1 | 0 | 1 | 0 | 4 | 1 | 1 | 0.2043480 | ... |  88 | 1518 | 1606 | 2011 | Winter | JAN | Thurs | Working day     | Non-holiday | mnth |\n",
       "|  7 | 2020-01-07 | 1 | 0 | 1 | 0 | 5 | 1 | 2 | 0.1965220 | ... | 148 | 1362 | 1510 | 2011 | Winter | JAN | Fri   | Working day     | Non-holiday | mnth |\n",
       "|  8 | 2020-01-08 | 1 | 0 | 1 | 0 | 6 | 0 | 2 | 0.1650000 | ... |  68 |  891 |  959 | 2011 | Winter | JAN | Sat   | Non-working day | Non-holiday | mnth |\n",
       "|  9 | 2020-01-09 | 1 | 0 | 1 | 0 | 0 | 0 | 1 | 0.1383330 | ... |  54 |  768 |  822 | 2011 | Winter | JAN | Sun   | Non-working day | Non-holiday | mnth |\n",
       "| 10 | 2020-01-10 | 1 | 0 | 1 | 0 | 1 | 1 | 1 | 0.1508330 | ... |  41 | 1280 | 1321 | 2011 | Winter | JAN | Mon   | Working day     | Non-holiday | mnth |\n",
       "| 11 | 2020-01-11 | 1 | 0 | 1 | 0 | 2 | 1 | 2 | 0.1690910 | ... |  43 | 1220 | 1263 | 2011 | Winter | JAN | Tues  | Working day     | Non-holiday | mnth |\n",
       "| 12 | 2020-01-12 | 1 | 0 | 1 | 0 | 3 | 1 | 1 | 0.1727270 | ... |  25 | 1137 | 1162 | 2011 | Winter | JAN | Wed   | Working day     | Non-holiday | mnth |\n",
       "| 13 | 2020-01-13 | 1 | 0 | 1 | 0 | 4 | 1 | 1 | 0.1650000 | ... |  38 | 1368 | 1406 | 2011 | Winter | JAN | Thurs | Working day     | Non-holiday | mnth |\n",
       "| 14 | 2020-01-14 | 1 | 0 | 1 | 0 | 5 | 1 | 1 | 0.1608700 | ... |  54 | 1367 | 1421 | 2011 | Winter | JAN | Fri   | Working day     | Non-holiday | mnth |\n",
       "| 15 | 2020-01-15 | 1 | 0 | 1 | 0 | 6 | 0 | 2 | 0.2333330 | ... | 222 | 1026 | 1248 | 2011 | Winter | JAN | Sat   | Non-working day | Non-holiday | mnth |\n",
       "| 16 | 2020-01-16 | 1 | 0 | 1 | 0 | 0 | 0 | 1 | 0.2316670 | ... | 251 |  953 | 1204 | 2011 | Winter | JAN | Sun   | Non-working day | Non-holiday | mnth |\n",
       "| 17 | 2020-01-17 | 1 | 0 | 1 | 1 | 1 | 0 | 2 | 0.1758330 | ... | 117 |  883 | 1000 | 2011 | Winter | JAN | Mon   | Non-working day | Holiday     | mnth |\n",
       "| 18 | 2020-01-18 | 1 | 0 | 1 | 0 | 2 | 1 | 2 | 0.2166670 | ... |   9 |  674 |  683 | 2011 | Winter | JAN | Tues  | Working day     | Non-holiday | mnth |\n",
       "| 19 | 2020-01-19 | 1 | 0 | 1 | 0 | 3 | 1 | 2 | 0.2921740 | ... |  78 | 1572 | 1650 | 2011 | Winter | JAN | Wed   | Working day     | Non-holiday | mnth |\n",
       "| 20 | 2020-01-20 | 1 | 0 | 1 | 0 | 4 | 1 | 2 | 0.2616670 | ... |  83 | 1844 | 1927 | 2011 | Winter | JAN | Thurs | Working day     | Non-holiday | mnth |\n",
       "| 21 | 2020-01-21 | 1 | 0 | 1 | 0 | 5 | 1 | 1 | 0.1775000 | ... |  75 | 1468 | 1543 | 2011 | Winter | JAN | Fri   | Working day     | Non-holiday | mnth |\n",
       "| 22 | 2020-01-22 | 1 | 0 | 1 | 0 | 6 | 0 | 1 | 0.0591304 | ... |  93 |  888 |  981 | 2011 | Winter | JAN | Sat   | Non-working day | Non-holiday | mnth |\n",
       "| 23 | 2020-01-23 | 1 | 0 | 1 | 0 | 0 | 0 | 1 | 0.0965217 | ... | 150 |  836 |  986 | 2011 | Winter | JAN | Sun   | Non-working day | Non-holiday | mnth |\n",
       "| 24 | 2020-01-24 | 1 | 0 | 1 | 0 | 1 | 1 | 1 | 0.0973913 | ... |  86 | 1330 | 1416 | 2011 | Winter | JAN | Mon   | Working day     | Non-holiday | mnth |\n",
       "| 25 | 2020-01-25 | 1 | 0 | 1 | 0 | 2 | 1 | 2 | 0.2234780 | ... | 186 | 1799 | 1985 | 2011 | Winter | JAN | Tues  | Working day     | Non-holiday | mnth |\n",
       "| 26 | 2020-01-26 | 1 | 0 | 1 | 0 | 3 | 1 | 3 | 0.2175000 | ... |  34 |  472 |  506 | 2011 | Winter | JAN | Wed   | Working day     | Non-holiday | mnth |\n",
       "| 27 | 2020-01-27 | 1 | 0 | 1 | 0 | 4 | 1 | 1 | 0.1950000 | ... |  15 |  416 |  431 | 2011 | Winter | JAN | Thurs | Working day     | Non-holiday | mnth |\n",
       "| 28 | 2020-01-28 | 1 | 0 | 1 | 0 | 5 | 1 | 2 | 0.2034780 | ... |  38 | 1129 | 1167 | 2011 | Winter | JAN | Fri   | Working day     | Non-holiday | mnth |\n",
       "| 29 | 2020-01-29 | 1 | 0 | 1 | 0 | 6 | 0 | 1 | 0.1965220 | ... | 123 |  975 | 1098 | 2011 | Winter | JAN | Sat   | Non-working day | Non-holiday | mnth |\n",
       "| 30 | 2020-01-30 | 1 | 0 | 1 | 0 | 0 | 0 | 1 | 0.2165220 | ... | 140 |  956 | 1096 | 2011 | Winter | JAN | Sun   | Non-working day | Non-holiday | mnth |\n",
       "| ... | ... | ... | ... | ... | ... | ... | ... | ... | ... | <!----> | ... | ... | ... | ... | ... | ... | ... | ... | ... | ... |\n",
       "| 336 | 2020-12-02 | 4 | 0 | 12 | 0 | 5 | 1 | 1 | 0.314167 | ... | 268 | 3672 | 3940 | 2011 | Fall   | DEC | Fri   | Working day     | Non-holiday | mnth |\n",
       "| 337 | 2020-12-03 | 4 | 0 | 12 | 0 | 6 | 0 | 1 | 0.299167 | ... | 706 | 2908 | 3614 | 2011 | Fall   | DEC | Sat   | Non-working day | Non-holiday | mnth |\n",
       "| 338 | 2020-12-04 | 4 | 0 | 12 | 0 | 0 | 0 | 1 | 0.330833 | ... | 634 | 2851 | 3485 | 2011 | Fall   | DEC | Sun   | Non-working day | Non-holiday | mnth |\n",
       "| 339 | 2020-12-05 | 4 | 0 | 12 | 0 | 1 | 1 | 2 | 0.385833 | ... | 233 | 3578 | 3811 | 2011 | Fall   | DEC | Mon   | Working day     | Non-holiday | mnth |\n",
       "| 340 | 2020-12-06 | 4 | 0 | 12 | 0 | 2 | 1 | 3 | 0.462500 | ... | 126 | 2468 | 2594 | 2011 | Fall   | DEC | Tues  | Working day     | Non-holiday | mnth |\n",
       "| 341 | 2020-12-07 | 4 | 0 | 12 | 0 | 3 | 1 | 3 | 0.410000 | ... |  50 |  655 |  705 | 2011 | Fall   | DEC | Wed   | Working day     | Non-holiday | mnth |\n",
       "| 342 | 2020-12-08 | 4 | 0 | 12 | 0 | 4 | 1 | 1 | 0.265833 | ... | 150 | 3172 | 3322 | 2011 | Fall   | DEC | Thurs | Working day     | Non-holiday | mnth |\n",
       "| 343 | 2020-12-09 | 4 | 0 | 12 | 0 | 5 | 1 | 1 | 0.290833 | ... | 261 | 3359 | 3620 | 2011 | Fall   | DEC | Fri   | Working day     | Non-holiday | mnth |\n",
       "| 344 | 2020-12-10 | 4 | 0 | 12 | 0 | 6 | 0 | 1 | 0.275000 | ... | 502 | 2688 | 3190 | 2011 | Fall   | DEC | Sat   | Non-working day | Non-holiday | mnth |\n",
       "| 345 | 2020-12-11 | 4 | 0 | 12 | 0 | 0 | 0 | 1 | 0.220833 | ... | 377 | 2366 | 2743 | 2011 | Fall   | DEC | Sun   | Non-working day | Non-holiday | mnth |\n",
       "| 346 | 2020-12-12 | 4 | 0 | 12 | 0 | 1 | 1 | 1 | 0.238333 | ... | 143 | 3167 | 3310 | 2011 | Fall   | DEC | Mon   | Working day     | Non-holiday | mnth |\n",
       "| 347 | 2020-12-13 | 4 | 0 | 12 | 0 | 2 | 1 | 1 | 0.282500 | ... | 155 | 3368 | 3523 | 2011 | Fall   | DEC | Tues  | Working day     | Non-holiday | mnth |\n",
       "| 348 | 2020-12-14 | 4 | 0 | 12 | 0 | 3 | 1 | 2 | 0.317500 | ... | 178 | 3562 | 3740 | 2011 | Fall   | DEC | Wed   | Working day     | Non-holiday | mnth |\n",
       "| 349 | 2020-12-15 | 4 | 0 | 12 | 0 | 4 | 1 | 2 | 0.422500 | ... | 181 | 3528 | 3709 | 2011 | Fall   | DEC | Thurs | Working day     | Non-holiday | mnth |\n",
       "| 350 | 2020-12-16 | 4 | 0 | 12 | 0 | 5 | 1 | 2 | 0.375000 | ... | 178 | 3399 | 3577 | 2011 | Fall   | DEC | Fri   | Working day     | Non-holiday | mnth |\n",
       "| 351 | 2020-12-17 | 4 | 0 | 12 | 0 | 6 | 0 | 2 | 0.258333 | ... | 275 | 2464 | 2739 | 2011 | Fall   | DEC | Sat   | Non-working day | Non-holiday | mnth |\n",
       "| 352 | 2020-12-18 | 4 | 0 | 12 | 0 | 0 | 0 | 1 | 0.238333 | ... | 220 | 2211 | 2431 | 2011 | Fall   | DEC | Sun   | Non-working day | Non-holiday | mnth |\n",
       "| 353 | 2020-12-19 | 4 | 0 | 12 | 0 | 1 | 1 | 1 | 0.276667 | ... | 260 | 3143 | 3403 | 2011 | Fall   | DEC | Mon   | Working day     | Non-holiday | mnth |\n",
       "| 354 | 2020-12-20 | 4 | 0 | 12 | 0 | 2 | 1 | 2 | 0.385833 | ... | 216 | 3534 | 3750 | 2011 | Fall   | DEC | Tues  | Working day     | Non-holiday | mnth |\n",
       "| 355 | 2020-12-21 | 1 | 0 | 12 | 0 | 3 | 1 | 2 | 0.428333 | ... | 107 | 2553 | 2660 | 2011 | Winter | DEC | Wed   | Working day     | Non-holiday | mnth |\n",
       "| 356 | 2020-12-22 | 1 | 0 | 12 | 0 | 4 | 1 | 2 | 0.423333 | ... | 227 | 2841 | 3068 | 2011 | Winter | DEC | Thurs | Working day     | Non-holiday | mnth |\n",
       "| 357 | 2020-12-23 | 1 | 0 | 12 | 0 | 5 | 1 | 1 | 0.373333 | ... | 163 | 2046 | 2209 | 2011 | Winter | DEC | Fri   | Working day     | Non-holiday | mnth |\n",
       "| 358 | 2020-12-24 | 1 | 0 | 12 | 0 | 6 | 0 | 1 | 0.302500 | ... | 155 |  856 | 1011 | 2011 | Winter | DEC | Sat   | Non-working day | Non-holiday | mnth |\n",
       "| 359 | 2020-12-25 | 1 | 0 | 12 | 0 | 0 | 0 | 1 | 0.274783 | ... | 303 |  451 |  754 | 2011 | Winter | DEC | Sun   | Non-working day | Non-holiday | mnth |\n",
       "| 360 | 2020-12-26 | 1 | 0 | 12 | 1 | 1 | 0 | 1 | 0.321739 | ... | 430 |  887 | 1317 | 2011 | Winter | DEC | Mon   | Non-working day | Holiday     | mnth |\n",
       "| 361 | 2020-12-27 | 1 | 0 | 12 | 0 | 2 | 1 | 2 | 0.325000 | ... | 103 | 1059 | 1162 | 2011 | Winter | DEC | Tues  | Working day     | Non-holiday | mnth |\n",
       "| 362 | 2020-12-28 | 1 | 0 | 12 | 0 | 3 | 1 | 1 | 0.299130 | ... | 255 | 2047 | 2302 | 2011 | Winter | DEC | Wed   | Working day     | Non-holiday | mnth |\n",
       "| 363 | 2020-12-29 | 1 | 0 | 12 | 0 | 4 | 1 | 1 | 0.248333 | ... | 254 | 2169 | 2423 | 2011 | Winter | DEC | Thurs | Working day     | Non-holiday | mnth |\n",
       "| 364 | 2020-12-30 | 1 | 0 | 12 | 0 | 5 | 1 | 1 | 0.311667 | ... | 491 | 2508 | 2999 | 2011 | Winter | DEC | Fri   | Working day     | Non-holiday | mnth |\n",
       "| 365 | 2020-12-31 | 1 | 0 | 12 | 0 | 6 | 0 | 1 | 0.410000 | ... | 665 | 1820 | 2485 | 2011 | Winter | DEC | Sat   | Non-working day | Non-holiday | mnth |\n",
       "\n"
      ],
      "text/plain": [
       "    instant dteday     season yr  mnth holiday weekday workingday weathersit\n",
       "1    1      2020-01-01 1      0   1    0       6       0          2         \n",
       "2    2      2020-01-02 1      0   1    0       0       0          2         \n",
       "3    3      2020-01-03 1      0   1    0       1       1          1         \n",
       "4    4      2020-01-04 1      0   1    0       2       1          1         \n",
       "5    5      2020-01-05 1      0   1    0       3       1          1         \n",
       "6    6      2020-01-06 1      0   1    0       4       1          1         \n",
       "7    7      2020-01-07 1      0   1    0       5       1          2         \n",
       "8    8      2020-01-08 1      0   1    0       6       0          2         \n",
       "9    9      2020-01-09 1      0   1    0       0       0          1         \n",
       "10  10      2020-01-10 1      0   1    0       1       1          1         \n",
       "11  11      2020-01-11 1      0   1    0       2       1          2         \n",
       "12  12      2020-01-12 1      0   1    0       3       1          1         \n",
       "13  13      2020-01-13 1      0   1    0       4       1          1         \n",
       "14  14      2020-01-14 1      0   1    0       5       1          1         \n",
       "15  15      2020-01-15 1      0   1    0       6       0          2         \n",
       "16  16      2020-01-16 1      0   1    0       0       0          1         \n",
       "17  17      2020-01-17 1      0   1    1       1       0          2         \n",
       "18  18      2020-01-18 1      0   1    0       2       1          2         \n",
       "19  19      2020-01-19 1      0   1    0       3       1          2         \n",
       "20  20      2020-01-20 1      0   1    0       4       1          2         \n",
       "21  21      2020-01-21 1      0   1    0       5       1          1         \n",
       "22  22      2020-01-22 1      0   1    0       6       0          1         \n",
       "23  23      2020-01-23 1      0   1    0       0       0          1         \n",
       "24  24      2020-01-24 1      0   1    0       1       1          1         \n",
       "25  25      2020-01-25 1      0   1    0       2       1          2         \n",
       "26  26      2020-01-26 1      0   1    0       3       1          3         \n",
       "27  27      2020-01-27 1      0   1    0       4       1          1         \n",
       "28  28      2020-01-28 1      0   1    0       5       1          2         \n",
       "29  29      2020-01-29 1      0   1    0       6       0          1         \n",
       "30  30      2020-01-30 1      0   1    0       0       0          1         \n",
       "... ...     ...        ...    ... ...  ...     ...     ...        ...       \n",
       "336 336     2020-12-02 4      0   12   0       5       1          1         \n",
       "337 337     2020-12-03 4      0   12   0       6       0          1         \n",
       "338 338     2020-12-04 4      0   12   0       0       0          1         \n",
       "339 339     2020-12-05 4      0   12   0       1       1          2         \n",
       "340 340     2020-12-06 4      0   12   0       2       1          3         \n",
       "341 341     2020-12-07 4      0   12   0       3       1          3         \n",
       "342 342     2020-12-08 4      0   12   0       4       1          1         \n",
       "343 343     2020-12-09 4      0   12   0       5       1          1         \n",
       "344 344     2020-12-10 4      0   12   0       6       0          1         \n",
       "345 345     2020-12-11 4      0   12   0       0       0          1         \n",
       "346 346     2020-12-12 4      0   12   0       1       1          1         \n",
       "347 347     2020-12-13 4      0   12   0       2       1          1         \n",
       "348 348     2020-12-14 4      0   12   0       3       1          2         \n",
       "349 349     2020-12-15 4      0   12   0       4       1          2         \n",
       "350 350     2020-12-16 4      0   12   0       5       1          2         \n",
       "351 351     2020-12-17 4      0   12   0       6       0          2         \n",
       "352 352     2020-12-18 4      0   12   0       0       0          1         \n",
       "353 353     2020-12-19 4      0   12   0       1       1          1         \n",
       "354 354     2020-12-20 4      0   12   0       2       1          2         \n",
       "355 355     2020-12-21 1      0   12   0       3       1          2         \n",
       "356 356     2020-12-22 1      0   12   0       4       1          2         \n",
       "357 357     2020-12-23 1      0   12   0       5       1          1         \n",
       "358 358     2020-12-24 1      0   12   0       6       0          1         \n",
       "359 359     2020-12-25 1      0   12   0       0       0          1         \n",
       "360 360     2020-12-26 1      0   12   1       1       0          1         \n",
       "361 361     2020-12-27 1      0   12   0       2       1          2         \n",
       "362 362     2020-12-28 1      0   12   0       3       1          1         \n",
       "363 363     2020-12-29 1      0   12   0       4       1          1         \n",
       "364 364     2020-12-30 1      0   12   0       5       1          1         \n",
       "365 365     2020-12-31 1      0   12   0       6       0          1         \n",
       "    temp      ... casual registered dailycount desc_yr desc_season desc_mnth\n",
       "1   0.3441670 ... 331     654        985       2011    Winter      JAN      \n",
       "2   0.3634780 ... 131     670        801       2011    Winter      JAN      \n",
       "3   0.1963640 ... 120    1229       1349       2011    Winter      JAN      \n",
       "4   0.2000000 ... 108    1454       1562       2011    Winter      JAN      \n",
       "5   0.2269570 ...  82    1518       1600       2011    Winter      JAN      \n",
       "6   0.2043480 ...  88    1518       1606       2011    Winter      JAN      \n",
       "7   0.1965220 ... 148    1362       1510       2011    Winter      JAN      \n",
       "8   0.1650000 ...  68     891        959       2011    Winter      JAN      \n",
       "9   0.1383330 ...  54     768        822       2011    Winter      JAN      \n",
       "10  0.1508330 ...  41    1280       1321       2011    Winter      JAN      \n",
       "11  0.1690910 ...  43    1220       1263       2011    Winter      JAN      \n",
       "12  0.1727270 ...  25    1137       1162       2011    Winter      JAN      \n",
       "13  0.1650000 ...  38    1368       1406       2011    Winter      JAN      \n",
       "14  0.1608700 ...  54    1367       1421       2011    Winter      JAN      \n",
       "15  0.2333330 ... 222    1026       1248       2011    Winter      JAN      \n",
       "16  0.2316670 ... 251     953       1204       2011    Winter      JAN      \n",
       "17  0.1758330 ... 117     883       1000       2011    Winter      JAN      \n",
       "18  0.2166670 ...   9     674        683       2011    Winter      JAN      \n",
       "19  0.2921740 ...  78    1572       1650       2011    Winter      JAN      \n",
       "20  0.2616670 ...  83    1844       1927       2011    Winter      JAN      \n",
       "21  0.1775000 ...  75    1468       1543       2011    Winter      JAN      \n",
       "22  0.0591304 ...  93     888        981       2011    Winter      JAN      \n",
       "23  0.0965217 ... 150     836        986       2011    Winter      JAN      \n",
       "24  0.0973913 ...  86    1330       1416       2011    Winter      JAN      \n",
       "25  0.2234780 ... 186    1799       1985       2011    Winter      JAN      \n",
       "26  0.2175000 ...  34     472        506       2011    Winter      JAN      \n",
       "27  0.1950000 ...  15     416        431       2011    Winter      JAN      \n",
       "28  0.2034780 ...  38    1129       1167       2011    Winter      JAN      \n",
       "29  0.1965220 ... 123     975       1098       2011    Winter      JAN      \n",
       "30  0.2165220 ... 140     956       1096       2011    Winter      JAN      \n",
       "... ...           ...    ...        ...        ...     ...         ...      \n",
       "336 0.314167  ... 268    3672       3940       2011    Fall        DEC      \n",
       "337 0.299167  ... 706    2908       3614       2011    Fall        DEC      \n",
       "338 0.330833  ... 634    2851       3485       2011    Fall        DEC      \n",
       "339 0.385833  ... 233    3578       3811       2011    Fall        DEC      \n",
       "340 0.462500  ... 126    2468       2594       2011    Fall        DEC      \n",
       "341 0.410000  ...  50     655        705       2011    Fall        DEC      \n",
       "342 0.265833  ... 150    3172       3322       2011    Fall        DEC      \n",
       "343 0.290833  ... 261    3359       3620       2011    Fall        DEC      \n",
       "344 0.275000  ... 502    2688       3190       2011    Fall        DEC      \n",
       "345 0.220833  ... 377    2366       2743       2011    Fall        DEC      \n",
       "346 0.238333  ... 143    3167       3310       2011    Fall        DEC      \n",
       "347 0.282500  ... 155    3368       3523       2011    Fall        DEC      \n",
       "348 0.317500  ... 178    3562       3740       2011    Fall        DEC      \n",
       "349 0.422500  ... 181    3528       3709       2011    Fall        DEC      \n",
       "350 0.375000  ... 178    3399       3577       2011    Fall        DEC      \n",
       "351 0.258333  ... 275    2464       2739       2011    Fall        DEC      \n",
       "352 0.238333  ... 220    2211       2431       2011    Fall        DEC      \n",
       "353 0.276667  ... 260    3143       3403       2011    Fall        DEC      \n",
       "354 0.385833  ... 216    3534       3750       2011    Fall        DEC      \n",
       "355 0.428333  ... 107    2553       2660       2011    Winter      DEC      \n",
       "356 0.423333  ... 227    2841       3068       2011    Winter      DEC      \n",
       "357 0.373333  ... 163    2046       2209       2011    Winter      DEC      \n",
       "358 0.302500  ... 155     856       1011       2011    Winter      DEC      \n",
       "359 0.274783  ... 303     451        754       2011    Winter      DEC      \n",
       "360 0.321739  ... 430     887       1317       2011    Winter      DEC      \n",
       "361 0.325000  ... 103    1059       1162       2011    Winter      DEC      \n",
       "362 0.299130  ... 255    2047       2302       2011    Winter      DEC      \n",
       "363 0.248333  ... 254    2169       2423       2011    Winter      DEC      \n",
       "364 0.311667  ... 491    2508       2999       2011    Winter      DEC      \n",
       "365 0.410000  ... 665    1820       2485       2011    Winter      DEC      \n",
       "    desc_weekday desc_workingday desc_holiday \"mnth\"\n",
       "1   Sat          Non-working day Non-holiday  mnth  \n",
       "2   Sun          Non-working day Non-holiday  mnth  \n",
       "3   Mon          Working day     Non-holiday  mnth  \n",
       "4   Tues         Working day     Non-holiday  mnth  \n",
       "5   Wed          Working day     Non-holiday  mnth  \n",
       "6   Thurs        Working day     Non-holiday  mnth  \n",
       "7   Fri          Working day     Non-holiday  mnth  \n",
       "8   Sat          Non-working day Non-holiday  mnth  \n",
       "9   Sun          Non-working day Non-holiday  mnth  \n",
       "10  Mon          Working day     Non-holiday  mnth  \n",
       "11  Tues         Working day     Non-holiday  mnth  \n",
       "12  Wed          Working day     Non-holiday  mnth  \n",
       "13  Thurs        Working day     Non-holiday  mnth  \n",
       "14  Fri          Working day     Non-holiday  mnth  \n",
       "15  Sat          Non-working day Non-holiday  mnth  \n",
       "16  Sun          Non-working day Non-holiday  mnth  \n",
       "17  Mon          Non-working day Holiday      mnth  \n",
       "18  Tues         Working day     Non-holiday  mnth  \n",
       "19  Wed          Working day     Non-holiday  mnth  \n",
       "20  Thurs        Working day     Non-holiday  mnth  \n",
       "21  Fri          Working day     Non-holiday  mnth  \n",
       "22  Sat          Non-working day Non-holiday  mnth  \n",
       "23  Sun          Non-working day Non-holiday  mnth  \n",
       "24  Mon          Working day     Non-holiday  mnth  \n",
       "25  Tues         Working day     Non-holiday  mnth  \n",
       "26  Wed          Working day     Non-holiday  mnth  \n",
       "27  Thurs        Working day     Non-holiday  mnth  \n",
       "28  Fri          Working day     Non-holiday  mnth  \n",
       "29  Sat          Non-working day Non-holiday  mnth  \n",
       "30  Sun          Non-working day Non-holiday  mnth  \n",
       "... ...          ...             ...          ...   \n",
       "336 Fri          Working day     Non-holiday  mnth  \n",
       "337 Sat          Non-working day Non-holiday  mnth  \n",
       "338 Sun          Non-working day Non-holiday  mnth  \n",
       "339 Mon          Working day     Non-holiday  mnth  \n",
       "340 Tues         Working day     Non-holiday  mnth  \n",
       "341 Wed          Working day     Non-holiday  mnth  \n",
       "342 Thurs        Working day     Non-holiday  mnth  \n",
       "343 Fri          Working day     Non-holiday  mnth  \n",
       "344 Sat          Non-working day Non-holiday  mnth  \n",
       "345 Sun          Non-working day Non-holiday  mnth  \n",
       "346 Mon          Working day     Non-holiday  mnth  \n",
       "347 Tues         Working day     Non-holiday  mnth  \n",
       "348 Wed          Working day     Non-holiday  mnth  \n",
       "349 Thurs        Working day     Non-holiday  mnth  \n",
       "350 Fri          Working day     Non-holiday  mnth  \n",
       "351 Sat          Non-working day Non-holiday  mnth  \n",
       "352 Sun          Non-working day Non-holiday  mnth  \n",
       "353 Mon          Working day     Non-holiday  mnth  \n",
       "354 Tues         Working day     Non-holiday  mnth  \n",
       "355 Wed          Working day     Non-holiday  mnth  \n",
       "356 Thurs        Working day     Non-holiday  mnth  \n",
       "357 Fri          Working day     Non-holiday  mnth  \n",
       "358 Sat          Non-working day Non-holiday  mnth  \n",
       "359 Sun          Non-working day Non-holiday  mnth  \n",
       "360 Mon          Non-working day Holiday      mnth  \n",
       "361 Tues         Working day     Non-holiday  mnth  \n",
       "362 Wed          Working day     Non-holiday  mnth  \n",
       "363 Thurs        Working day     Non-holiday  mnth  \n",
       "364 Fri          Working day     Non-holiday  mnth  \n",
       "365 Sat          Non-working day Non-holiday  mnth  "
      ]
     },
     "metadata": {},
     "output_type": "display_data"
    }
   ],
   "source": [
    "df_grouped"
   ]
  },
  {
   "cell_type": "markdown",
   "metadata": {},
   "source": []
  },
  {
   "cell_type": "code",
   "execution_count": 33,
   "metadata": {},
   "outputs": [
    {
     "ename": "ERROR",
     "evalue": "Error in temp_pivot.plot(kind = \"bar\"): could not find function \"temp_pivot.plot\"\n",
     "output_type": "error",
     "traceback": [
      "Error in temp_pivot.plot(kind = \"bar\"): could not find function \"temp_pivot.plot\"\nTraceback:\n"
     ]
    }
   ],
   "source": [
    "fig1 = temp_pivot.plot(kind='bar')\n",
    "fig1.set(title='Average daily users by month',\n",
    "         xlabel='Month',\n",
    "         ylabel='Average users')"
   ]
  },
  {
   "cell_type": "markdown",
   "metadata": {},
   "source": [
    "### Histogram of dailycount"
   ]
  },
  {
   "cell_type": "code",
   "execution_count": null,
   "metadata": {},
   "outputs": [],
   "source": [
    "fig2 = sns.histplot(data=df_filtered,\n",
    "                    x='dailycount',\n",
    "                    binwidth=500)"
   ]
  },
  {
   "cell_type": "markdown",
   "metadata": {},
   "source": [
    "### Comparison of dailycount by season"
   ]
  },
  {
   "cell_type": "code",
   "execution_count": null,
   "metadata": {},
   "outputs": [],
   "source": [
    "fig4 = sns.boxplot(data=df_filtered,\n",
    "                   x='dailycount',\n",
    "                   y='desc_season')"
   ]
  },
  {
   "cell_type": "markdown",
   "metadata": {},
   "source": [
    "### Scatterplot of apparent temperate against casual user daily count"
   ]
  },
  {
   "cell_type": "code",
   "execution_count": null,
   "metadata": {},
   "outputs": [],
   "source": [
    "fig6 = sns.scatterplot(data=df_filtered,\n",
    "                       x='atemp',\n",
    "                       y='casual',\n",
    "                       hue='desc_workingday')"
   ]
  }
 ],
 "metadata": {
  "kernelspec": {
   "display_name": "R 4.0.3",
   "language": "R",
   "name": "ir403"
  },
  "language_info": {
   "codemirror_mode": "r",
   "file_extension": ".r",
   "mimetype": "text/x-r-source",
   "name": "R",
   "pygments_lexer": "r",
   "version": "4.0.3"
  }
 },
 "nbformat": 4,
 "nbformat_minor": 4
}
