{
 "cells": [
  {
   "cell_type": "markdown",
   "metadata": {},
   "source": [
    "# Discrete Uniform Distribution in Python\n",
    "\n",
    "Date: 2020-11-02"
   ]
  },
  {
   "cell_type": "code",
   "execution_count": 1,
   "metadata": {},
   "outputs": [],
   "source": [
    "import scipy.stats as stats"
   ]
  },
  {
   "cell_type": "markdown",
   "metadata": {},
   "source": [
    "## Scenario\n",
    "\n",
    "A sky mermaid is playing a game with a pack of cards.\n",
    "The pack of cards is shuffled so it is perfectly disordered.\n",
    "The game involves turning over cards from the top of the deck, until they find a pre-selected card.\n",
    "\n",
    "-----"
   ]
  },
  {
   "cell_type": "markdown",
   "metadata": {},
   "source": [
    "## Questions\n",
    "\n",
    "**(a)** State the model that best describes the game.\n",
    "\n",
    "**(b)** What is the mean and variance of the distribution?\n",
    "\n",
    "**(c)** Calculate the probability the pre-selected card will be the tenth card turned over.\n",
    "\n",
    "**(d)** Calculate the probability it will take no more than 15 turns to reveal the card.\n",
    "\n",
    "**(e)** Calculate the probability it will take between 25 to 30 turns to find the pre-selected card.\n",
    "\n",
    "-----"
   ]
  },
  {
   "cell_type": "markdown",
   "metadata": {},
   "source": [
    "### (a)\n",
    "\n",
    "Let $U$ be a random variable that represents the number of turns before the card is revealed.\n",
    "Then $U$ has a **discrete uniform distribution** with parameters $m=1$ and $n=52$."
   ]
  },
  {
   "cell_type": "markdown",
   "metadata": {},
   "source": [
    "Note we set the parameter `high` to $n+1$."
   ]
  },
  {
   "cell_type": "code",
   "execution_count": 2,
   "metadata": {},
   "outputs": [],
   "source": [
    "# declare the distribution\n",
    "u = stats.randint(low=1, high=53)"
   ]
  },
  {
   "cell_type": "markdown",
   "metadata": {},
   "source": [
    "### (b)"
   ]
  },
  {
   "cell_type": "markdown",
   "metadata": {},
   "source": [
    "The mean and variance of the discrete uniform distribution are\n",
    "\n",
    "$$\n",
    "\\begin{aligned}\n",
    "    E(Y) &= \\frac{1}{2} (m+n), \\\\\n",
    "    V(Y) &= \\frac{1}{12} (n-m)(n-m+2).\n",
    "\\end{aligned}\n",
    "$$"
   ]
  },
  {
   "cell_type": "code",
   "execution_count": 3,
   "metadata": {},
   "outputs": [
    {
     "data": {
      "text/plain": [
       "26.5"
      ]
     },
     "execution_count": 3,
     "metadata": {},
     "output_type": "execute_result"
    }
   ],
   "source": [
    "u.mean()"
   ]
  },
  {
   "cell_type": "code",
   "execution_count": 4,
   "metadata": {},
   "outputs": [
    {
     "data": {
      "text/plain": [
       "225.25"
      ]
     },
     "execution_count": 4,
     "metadata": {},
     "output_type": "execute_result"
    }
   ],
   "source": [
    "u.var()"
   ]
  },
  {
   "cell_type": "markdown",
   "metadata": {},
   "source": [
    "### (c)\n",
    "\n",
    "The probability $P(X=x)$ for a discrete uniform distribution is\n",
    "\n",
    "$$\n",
    "P(X=x) = p(x) = \\frac{1}{n-m+1}.\n",
    "$$\n",
    "\n",
    "So the probability the pre-selected card will be the tenth card turned over is\n",
    "\n",
    "$$\n",
    "P(U=10) = \\frac{1}{52-1+1} = \\frac{1}{52} = \\ldots\n",
    "$$"
   ]
  },
  {
   "cell_type": "code",
   "execution_count": 5,
   "metadata": {},
   "outputs": [
    {
     "data": {
      "text/plain": [
       "0.019230769230769232"
      ]
     },
     "execution_count": 5,
     "metadata": {},
     "output_type": "execute_result"
    }
   ],
   "source": [
    "u.pmf(k=10)"
   ]
  },
  {
   "cell_type": "markdown",
   "metadata": {},
   "source": [
    "### (d)\n",
    "\n",
    "The probability $P(X \\leq x)$ for a discrete uniform distribution is\n",
    "\n",
    "$$\n",
    "P(X \\leq x) = F(x) = \\frac{x-m+1}{n-m+1}.\n",
    "$$\n",
    "\n",
    "So the probability it will take no more than 15 turns to reveal the card is\n",
    "\n",
    "$$\n",
    "P(U \\leq 15) = F(15) = \\frac{15-1+1}{52-1+1} = \\frac{15}{52} = \\ldots\n",
    "$$"
   ]
  },
  {
   "cell_type": "code",
   "execution_count": 6,
   "metadata": {},
   "outputs": [
    {
     "data": {
      "text/plain": [
       "0.28846153846153844"
      ]
     },
     "execution_count": 6,
     "metadata": {},
     "output_type": "execute_result"
    }
   ],
   "source": [
    "u.cdf(x=15)"
   ]
  },
  {
   "cell_type": "markdown",
   "metadata": {},
   "source": [
    "### (e)\n",
    "\n",
    "The probability it will take between 25 to 30 turns to find the pre-selected card is\n",
    "\n",
    "$$\n",
    "P(25 \\leq U \\leq 30) = F(30) - F(24) = \\ldots\n",
    "$$"
   ]
  },
  {
   "cell_type": "code",
   "execution_count": 7,
   "metadata": {},
   "outputs": [
    {
     "data": {
      "text/plain": [
       "0.11538461538461531"
      ]
     },
     "execution_count": 7,
     "metadata": {},
     "output_type": "execute_result"
    }
   ],
   "source": [
    "u.cdf(x=30) - u.cdf(x=24)"
   ]
  }
 ],
 "metadata": {
  "kernelspec": {
   "display_name": "Python 3",
   "language": "python",
   "name": "python3"
  },
  "language_info": {
   "codemirror_mode": {
    "name": "ipython",
    "version": 3
   },
   "file_extension": ".py",
   "mimetype": "text/x-python",
   "name": "python",
   "nbconvert_exporter": "python",
   "pygments_lexer": "ipython3",
   "version": "3.8.3"
  }
 },
 "nbformat": 4,
 "nbformat_minor": 4
}