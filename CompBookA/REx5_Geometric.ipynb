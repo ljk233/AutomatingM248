{
 "cells": [
  {
   "cell_type": "markdown",
   "metadata": {},
   "source": [
    "# Geometric Distribution in Python\n",
    "\n",
    "Date: 2020-11-01"
   ]
  },
  {
   "cell_type": "code",
   "execution_count": 1,
   "metadata": {},
   "outputs": [],
   "source": [
    "# impot packages\n",
    "library(ggplot2)"
   ]
  },
  {
   "cell_type": "markdown",
   "metadata": {},
   "source": [
    "## Scenario\n",
    "\n",
    "A company specialises in chartering flights from Narnia.\n",
    "The company is concerned about the rise in sky mermaids that have been spotted by the crew of the flights, as a collision could be disasterous.\n",
    "The flight crew estimates that there is a 17% chance of spotting a sky mermaid during a flight.\n",
    "The company is interested in modelling which of the flights will spot the first sky mermaid of the year.\n",
    "It maybe assumed that the event of spotting a sky mermaid is independent of any other event.\n",
    "\n",
    "-----"
   ]
  },
  {
   "cell_type": "markdown",
   "metadata": {},
   "source": [
    "## Questions\n",
    "\n",
    "**(a)** What is the model that describes the probability distribution for the flight that will first spot a sky mermaid?\n",
    "\n",
    "**(b)** Construct a table showing the p.m.f. and c.d.f. of the distribution.\n",
    "\n",
    "**(c)** Plot the probability distribution.\n",
    "\n",
    "**(d)** Calculate the mean and variance of the distribution.\n",
    "\n",
    "**(e)** What is the probability the first sky mermaid will be spotted during the seventh flight?\n",
    "\n",
    "**(f)** What is the probability the first sky mermaid will be spotted before or during the fifth flight?\n",
    "\n",
    "**(g)** What is the probability it will take seven or more flights to first spot a sky mermaid?\n",
    "\n",
    "-----"
   ]
  },
  {
   "cell_type": "markdown",
   "metadata": {},
   "source": [
    "### (a)\n",
    "\n",
    "Let $Y$ be a random variable that represents that first flight from Narnia where a sky mermaid is spotted.\n",
    "Then $Y$ is modelled by a geometric distribution, with parameter $p=0.17$, so $Y \\sim G(0.17)$."
   ]
  },
  {
   "cell_type": "markdown",
   "metadata": {},
   "source": [
    "There is no need to declare the distribution is **R**, unlike **Python**."
   ]
  },
  {
   "cell_type": "markdown",
   "metadata": {},
   "source": [
    "### (b)\n",
    "\n",
    "We'll disply the p.d.f. and c.d.f. using a **data.frame**.\n",
    "\n",
    "Note, **R** defines the parameter $x$ as just the number of failures, rather than **M248's** definition as the trial number of the *first success*.\n",
    "As such, we define the array as running $\\{0, \\ldots, 17\\}$, where 0 represents success in the first trial (so zero failures), etc."
   ]
  },
  {
   "cell_type": "code",
   "execution_count": 2,
   "metadata": {},
   "outputs": [],
   "source": [
    "y <- c(0:17)"
   ]
  },
  {
   "cell_type": "code",
   "execution_count": 3,
   "metadata": {},
   "outputs": [],
   "source": [
    "df_first_mermaid <- data.frame(y)"
   ]
  },
  {
   "cell_type": "code",
   "execution_count": 4,
   "metadata": {},
   "outputs": [],
   "source": [
    "df_first_mermaid$'p(y)' <- dgeom(x=y, prob = 0.17)"
   ]
  },
  {
   "cell_type": "code",
   "execution_count": 5,
   "metadata": {},
   "outputs": [],
   "source": [
    "df_first_mermaid$'F(r)' <- pgeom(q=y, prob = 0.17)"
   ]
  },
  {
   "cell_type": "code",
   "execution_count": 6,
   "metadata": {},
   "outputs": [
    {
     "data": {
      "text/html": [
       "<table>\n",
       "<caption>A data.frame: 18 × 3</caption>\n",
       "<thead>\n",
       "\t<tr><th scope=col>y</th><th scope=col>p(y)</th><th scope=col>F(r)</th></tr>\n",
       "\t<tr><th scope=col>&lt;int&gt;</th><th scope=col>&lt;dbl&gt;</th><th scope=col>&lt;dbl&gt;</th></tr>\n",
       "</thead>\n",
       "<tbody>\n",
       "\t<tr><td> 0</td><td>0.170000000</td><td>0.1700000</td></tr>\n",
       "\t<tr><td> 1</td><td>0.141100000</td><td>0.3111000</td></tr>\n",
       "\t<tr><td> 2</td><td>0.117113000</td><td>0.4282130</td></tr>\n",
       "\t<tr><td> 3</td><td>0.097203790</td><td>0.5254168</td></tr>\n",
       "\t<tr><td> 4</td><td>0.080679146</td><td>0.6060959</td></tr>\n",
       "\t<tr><td> 5</td><td>0.066963691</td><td>0.6730596</td></tr>\n",
       "\t<tr><td> 6</td><td>0.055579863</td><td>0.7286395</td></tr>\n",
       "\t<tr><td> 7</td><td>0.046131287</td><td>0.7747708</td></tr>\n",
       "\t<tr><td> 8</td><td>0.038288968</td><td>0.8130597</td></tr>\n",
       "\t<tr><td> 9</td><td>0.031779843</td><td>0.8448396</td></tr>\n",
       "\t<tr><td>10</td><td>0.026377270</td><td>0.8712169</td></tr>\n",
       "\t<tr><td>11</td><td>0.021893134</td><td>0.8931100</td></tr>\n",
       "\t<tr><td>12</td><td>0.018171301</td><td>0.9112813</td></tr>\n",
       "\t<tr><td>13</td><td>0.015082180</td><td>0.9263635</td></tr>\n",
       "\t<tr><td>14</td><td>0.012518209</td><td>0.9388817</td></tr>\n",
       "\t<tr><td>15</td><td>0.010390114</td><td>0.9492718</td></tr>\n",
       "\t<tr><td>16</td><td>0.008623795</td><td>0.9578956</td></tr>\n",
       "\t<tr><td>17</td><td>0.007157749</td><td>0.9650533</td></tr>\n",
       "</tbody>\n",
       "</table>\n"
      ],
      "text/latex": [
       "A data.frame: 18 × 3\n",
       "\\begin{tabular}{lll}\n",
       " y & p(y) & F(r)\\\\\n",
       " <int> & <dbl> & <dbl>\\\\\n",
       "\\hline\n",
       "\t  0 & 0.170000000 & 0.1700000\\\\\n",
       "\t  1 & 0.141100000 & 0.3111000\\\\\n",
       "\t  2 & 0.117113000 & 0.4282130\\\\\n",
       "\t  3 & 0.097203790 & 0.5254168\\\\\n",
       "\t  4 & 0.080679146 & 0.6060959\\\\\n",
       "\t  5 & 0.066963691 & 0.6730596\\\\\n",
       "\t  6 & 0.055579863 & 0.7286395\\\\\n",
       "\t  7 & 0.046131287 & 0.7747708\\\\\n",
       "\t  8 & 0.038288968 & 0.8130597\\\\\n",
       "\t  9 & 0.031779843 & 0.8448396\\\\\n",
       "\t 10 & 0.026377270 & 0.8712169\\\\\n",
       "\t 11 & 0.021893134 & 0.8931100\\\\\n",
       "\t 12 & 0.018171301 & 0.9112813\\\\\n",
       "\t 13 & 0.015082180 & 0.9263635\\\\\n",
       "\t 14 & 0.012518209 & 0.9388817\\\\\n",
       "\t 15 & 0.010390114 & 0.9492718\\\\\n",
       "\t 16 & 0.008623795 & 0.9578956\\\\\n",
       "\t 17 & 0.007157749 & 0.9650533\\\\\n",
       "\\end{tabular}\n"
      ],
      "text/markdown": [
       "\n",
       "A data.frame: 18 × 3\n",
       "\n",
       "| y &lt;int&gt; | p(y) &lt;dbl&gt; | F(r) &lt;dbl&gt; |\n",
       "|---|---|---|\n",
       "|  0 | 0.170000000 | 0.1700000 |\n",
       "|  1 | 0.141100000 | 0.3111000 |\n",
       "|  2 | 0.117113000 | 0.4282130 |\n",
       "|  3 | 0.097203790 | 0.5254168 |\n",
       "|  4 | 0.080679146 | 0.6060959 |\n",
       "|  5 | 0.066963691 | 0.6730596 |\n",
       "|  6 | 0.055579863 | 0.7286395 |\n",
       "|  7 | 0.046131287 | 0.7747708 |\n",
       "|  8 | 0.038288968 | 0.8130597 |\n",
       "|  9 | 0.031779843 | 0.8448396 |\n",
       "| 10 | 0.026377270 | 0.8712169 |\n",
       "| 11 | 0.021893134 | 0.8931100 |\n",
       "| 12 | 0.018171301 | 0.9112813 |\n",
       "| 13 | 0.015082180 | 0.9263635 |\n",
       "| 14 | 0.012518209 | 0.9388817 |\n",
       "| 15 | 0.010390114 | 0.9492718 |\n",
       "| 16 | 0.008623795 | 0.9578956 |\n",
       "| 17 | 0.007157749 | 0.9650533 |\n",
       "\n"
      ],
      "text/plain": [
       "   y  p(y)        F(r)     \n",
       "1   0 0.170000000 0.1700000\n",
       "2   1 0.141100000 0.3111000\n",
       "3   2 0.117113000 0.4282130\n",
       "4   3 0.097203790 0.5254168\n",
       "5   4 0.080679146 0.6060959\n",
       "6   5 0.066963691 0.6730596\n",
       "7   6 0.055579863 0.7286395\n",
       "8   7 0.046131287 0.7747708\n",
       "9   8 0.038288968 0.8130597\n",
       "10  9 0.031779843 0.8448396\n",
       "11 10 0.026377270 0.8712169\n",
       "12 11 0.021893134 0.8931100\n",
       "13 12 0.018171301 0.9112813\n",
       "14 13 0.015082180 0.9263635\n",
       "15 14 0.012518209 0.9388817\n",
       "16 15 0.010390114 0.9492718\n",
       "17 16 0.008623795 0.9578956\n",
       "18 17 0.007157749 0.9650533"
      ]
     },
     "metadata": {},
     "output_type": "display_data"
    }
   ],
   "source": [
    "df_first_mermaid"
   ]
  },
  {
   "cell_type": "markdown",
   "metadata": {},
   "source": [
    "### (c)\n",
    "\n",
    "As we have used brackets in column titles of **data.frame**, we surround the argument with backticks."
   ]
  },
  {
   "cell_type": "code",
   "execution_count": 7,
   "metadata": {},
   "outputs": [
    {
     "data": {
      "image/png": "[encoded data removed]",
      "text/plain": [
       "plot without title"
      ]
     },
     "metadata": {
      "image/png": {
       "height": 420,
       "width": 420
      }
     },
     "output_type": "display_data"
    }
   ],
   "source": [
    "ggplot(data=df_first_mermaid) +\n",
    "  geom_col(mapping = aes(x = y, y = `p(y)`)) +\n",
    "  theme_bw() +\n",
    "  labs(\n",
    "      title = \"Probability distribution: G(0.17)\"\n",
    "  )"
   ]
  },
  {
   "cell_type": "markdown",
   "metadata": {},
   "source": [
    "### (d)\n",
    "\n",
    "I have not found a satisfactory means to calculate $\\mu$ and $\\sigma^{2}$, save for defining the formula.\n",
    "I did not find this particularly interesting, so the two summary statistics are left out."
   ]
  },
  {
   "cell_type": "markdown",
   "metadata": {},
   "source": [
    "### (e)\n",
    "\n",
    "The probability the first sky mermaid will be spotted during the seventh flight is\n",
    "\n",
    "$$\n",
    "P(Y=7) = p(7) = (0.83)^{6} 0.17 = \\ldots\n",
    "$$"
   ]
  },
  {
   "cell_type": "code",
   "execution_count": 8,
   "metadata": {},
   "outputs": [
    {
     "data": {
      "text/html": [
       "0.05557986347273"
      ],
      "text/latex": [
       "0.05557986347273"
      ],
      "text/markdown": [
       "0.05557986347273"
      ],
      "text/plain": [
       "[1] 0.05557986"
      ]
     },
     "metadata": {},
     "output_type": "display_data"
    }
   ],
   "source": [
    "dgeom(x = 6, prob = 0.17)"
   ]
  },
  {
   "cell_type": "markdown",
   "metadata": {},
   "source": [
    "### (f)\n",
    "\n",
    "The probability the first sky mermaid will be spotted before or during the fifth flight is\n",
    "\n",
    "$$\n",
    "P(Y \\leq 5) = F(5) = 1 - 0.83^{5} = \\ldots\n",
    "$$"
   ]
  },
  {
   "cell_type": "code",
   "execution_count": 9,
   "metadata": {},
   "outputs": [
    {
     "data": {
      "text/html": [
       "0.6060959357"
      ],
      "text/latex": [
       "0.6060959357"
      ],
      "text/markdown": [
       "0.6060959357"
      ],
      "text/plain": [
       "[1] 0.6060959"
      ]
     },
     "metadata": {},
     "output_type": "display_data"
    }
   ],
   "source": [
    "pgeom(q = 4, prob = 0.17)"
   ]
  },
  {
   "cell_type": "markdown",
   "metadata": {},
   "source": [
    "### (g)\n",
    "\n",
    "The probability it will take seven or more flight to first spot a sky mermaid is\n",
    "\n",
    "$$P(Y \\geq 7) = 1 - P(Y \\leq 6) = 1 - F(6) = \\ldots$$"
   ]
  },
  {
   "cell_type": "code",
   "execution_count": 10,
   "metadata": {},
   "outputs": [
    {
     "data": {
      "text/html": [
       "0.326940373369"
      ],
      "text/latex": [
       "0.326940373369"
      ],
      "text/markdown": [
       "0.326940373369"
      ],
      "text/plain": [
       "[1] 0.3269404"
      ]
     },
     "metadata": {},
     "output_type": "display_data"
    }
   ],
   "source": [
    "pgeom(q = 5, prob = 0.17, lower.tail = FALSE)"
   ]
  }
 ],
 "metadata": {
  "kernelspec": {
   "display_name": "R 4.0.3",
   "language": "R",
   "name": "ir403"
  },
  "language_info": {
   "codemirror_mode": "r",
   "file_extension": ".r",
   "mimetype": "text/x-r-source",
   "name": "R",
   "pygments_lexer": "r",
   "version": "4.0.3"
  }
 },
 "nbformat": 4,
 "nbformat_minor": 4
}
