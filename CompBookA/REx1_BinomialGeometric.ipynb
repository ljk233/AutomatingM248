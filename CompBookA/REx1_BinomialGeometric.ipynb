{
 "cells": [
  {
   "cell_type": "markdown",
   "metadata": {},
   "source": [
    "# Sky Mermaids from Narnia to Neverland"
   ]
  },
  {
   "cell_type": "markdown",
   "metadata": {},
   "source": [
    "## Note\n",
    "\n",
    "-----"
   ]
  },
  {
   "cell_type": "markdown",
   "metadata": {},
   "source": [
    "## Scenario\n",
    "\n",
    "A company specialises in chartering flights between Narnia and Neverland each year.\n",
    "In 20XX, the the company is scheduled to put on 18 flights.\n",
    "The company is concerned about the rise in sky mermaids that have been spotted by the crew of the flights, as a collision could be disasterous.\n",
    "The flight crew estimates that there is a 17% chance of spotting a sky mermaid during a flight.\n",
    "It maybe assumed that the event of spotting a sky mermaid is independent of any other event.\n",
    "\n",
    "-----"
   ]
  },
  {
   "cell_type": "code",
   "execution_count": 1,
   "metadata": {},
   "outputs": [],
   "source": [
    "# impot packages\n",
    "library(ggplot2)"
   ]
  },
  {
   "cell_type": "markdown",
   "metadata": {},
   "source": [
    "## (a)\n",
    "\n",
    "> What is the model that describes the number of sky mermaids spotted out of the 18 flights?"
   ]
  },
  {
   "cell_type": "markdown",
   "metadata": {},
   "source": [
    "Let $X$ be a random variable that represents the number of times a sky mermaid is spotted during the flights from Narnia to Neverland over the year.\n",
    "Then $X$ is modelled by a binomial distribution, with parameters $n=18$ and $p=0.17$, so $X \\sim B(18,0.17)$.\n",
    "\n",
    "-----"
   ]
  },
  {
   "cell_type": "markdown",
   "metadata": {},
   "source": [
    "### (b)\n",
    "\n",
    "> Construct a table showing the p.d.f. and c.d.f. of $X$."
   ]
  },
  {
   "cell_type": "markdown",
   "metadata": {},
   "source": [
    "We'll first declare a list with range $\\{0, \\ldots , 18\\}$."
   ]
  },
  {
   "cell_type": "code",
   "execution_count": 2,
   "metadata": {},
   "outputs": [],
   "source": [
    "x <- c(0:18)"
   ]
  },
  {
   "cell_type": "markdown",
   "metadata": {},
   "source": [
    "Declare a `data.frame` to hold `x`."
   ]
  },
  {
   "cell_type": "code",
   "execution_count": 3,
   "metadata": {},
   "outputs": [],
   "source": [
    "df_mermaids <- data.frame(x)"
   ]
  },
  {
   "cell_type": "markdown",
   "metadata": {},
   "source": [
    "Declare two new columns for the `df_mermaids`:\n",
    "One will hold the p.m.f., the other for c.d.f."
   ]
  },
  {
   "cell_type": "code",
   "execution_count": 4,
   "metadata": {},
   "outputs": [],
   "source": [
    "df_mermaids$pmf <- dbinom(x=x, size = 18, prob = 0.17)"
   ]
  },
  {
   "cell_type": "code",
   "execution_count": 5,
   "metadata": {},
   "outputs": [],
   "source": [
    "df_mermaids$cdf <- pbinom(q=x, size = 18, prob = 0.17)"
   ]
  },
  {
   "cell_type": "markdown",
   "metadata": {},
   "source": [
    "**Table 1**."
   ]
  },
  {
   "cell_type": "code",
   "execution_count": 6,
   "metadata": {},
   "outputs": [
    {
     "data": {
      "text/html": [
       "<table>\n",
       "<caption>A data.frame: 19 × 3</caption>\n",
       "<thead>\n",
       "\t<tr><th scope=col>x</th><th scope=col>pmf</th><th scope=col>cdf</th></tr>\n",
       "\t<tr><th scope=col>&lt;int&gt;</th><th scope=col>&lt;dbl&gt;</th><th scope=col>&lt;dbl&gt;</th></tr>\n",
       "</thead>\n",
       "<tbody>\n",
       "\t<tr><td> 0</td><td>3.494666e-02</td><td>0.03494666</td></tr>\n",
       "\t<tr><td> 1</td><td>1.288395e-01</td><td>0.16378615</td></tr>\n",
       "\t<tr><td> 2</td><td>2.243049e-01</td><td>0.38809104</td></tr>\n",
       "\t<tr><td> 3</td><td>2.450238e-01</td><td>0.63311487</td></tr>\n",
       "\t<tr><td> 4</td><td>1.881960e-01</td><td>0.82131087</td></tr>\n",
       "\t<tr><td> 5</td><td>1.079293e-01</td><td>0.92924015</td></tr>\n",
       "\t<tr><td> 6</td><td>4.789633e-02</td><td>0.97713647</td></tr>\n",
       "\t<tr><td> 7</td><td>1.681730e-02</td><td>0.99395377</td></tr>\n",
       "\t<tr><td> 8</td><td>4.736197e-03</td><td>0.99868997</td></tr>\n",
       "\t<tr><td> 9</td><td>1.077849e-03</td><td>0.99976782</td></tr>\n",
       "\t<tr><td>10</td><td>1.986879e-04</td><td>0.99996651</td></tr>\n",
       "\t<tr><td>11</td><td>2.959644e-05</td><td>0.99999610</td></tr>\n",
       "\t<tr><td>12</td><td>3.536121e-06</td><td>0.99999964</td></tr>\n",
       "\t<tr><td>13</td><td>3.342765e-07</td><td>0.99999997</td></tr>\n",
       "\t<tr><td>14</td><td>2.445224e-08</td><td>1.00000000</td></tr>\n",
       "\t<tr><td>15</td><td>1.335544e-09</td><td>1.00000000</td></tr>\n",
       "\t<tr><td>16</td><td>5.128972e-11</td><td>1.00000000</td></tr>\n",
       "\t<tr><td>17</td><td>1.235897e-12</td><td>1.00000000</td></tr>\n",
       "\t<tr><td>18</td><td>1.406308e-14</td><td>1.00000000</td></tr>\n",
       "</tbody>\n",
       "</table>\n"
      ],
      "text/latex": [
       "A data.frame: 19 × 3\n",
       "\\begin{tabular}{lll}\n",
       " x & pmf & cdf\\\\\n",
       " <int> & <dbl> & <dbl>\\\\\n",
       "\\hline\n",
       "\t  0 & 3.494666e-02 & 0.03494666\\\\\n",
       "\t  1 & 1.288395e-01 & 0.16378615\\\\\n",
       "\t  2 & 2.243049e-01 & 0.38809104\\\\\n",
       "\t  3 & 2.450238e-01 & 0.63311487\\\\\n",
       "\t  4 & 1.881960e-01 & 0.82131087\\\\\n",
       "\t  5 & 1.079293e-01 & 0.92924015\\\\\n",
       "\t  6 & 4.789633e-02 & 0.97713647\\\\\n",
       "\t  7 & 1.681730e-02 & 0.99395377\\\\\n",
       "\t  8 & 4.736197e-03 & 0.99868997\\\\\n",
       "\t  9 & 1.077849e-03 & 0.99976782\\\\\n",
       "\t 10 & 1.986879e-04 & 0.99996651\\\\\n",
       "\t 11 & 2.959644e-05 & 0.99999610\\\\\n",
       "\t 12 & 3.536121e-06 & 0.99999964\\\\\n",
       "\t 13 & 3.342765e-07 & 0.99999997\\\\\n",
       "\t 14 & 2.445224e-08 & 1.00000000\\\\\n",
       "\t 15 & 1.335544e-09 & 1.00000000\\\\\n",
       "\t 16 & 5.128972e-11 & 1.00000000\\\\\n",
       "\t 17 & 1.235897e-12 & 1.00000000\\\\\n",
       "\t 18 & 1.406308e-14 & 1.00000000\\\\\n",
       "\\end{tabular}\n"
      ],
      "text/markdown": [
       "\n",
       "A data.frame: 19 × 3\n",
       "\n",
       "| x &lt;int&gt; | pmf &lt;dbl&gt; | cdf &lt;dbl&gt; |\n",
       "|---|---|---|\n",
       "|  0 | 3.494666e-02 | 0.03494666 |\n",
       "|  1 | 1.288395e-01 | 0.16378615 |\n",
       "|  2 | 2.243049e-01 | 0.38809104 |\n",
       "|  3 | 2.450238e-01 | 0.63311487 |\n",
       "|  4 | 1.881960e-01 | 0.82131087 |\n",
       "|  5 | 1.079293e-01 | 0.92924015 |\n",
       "|  6 | 4.789633e-02 | 0.97713647 |\n",
       "|  7 | 1.681730e-02 | 0.99395377 |\n",
       "|  8 | 4.736197e-03 | 0.99868997 |\n",
       "|  9 | 1.077849e-03 | 0.99976782 |\n",
       "| 10 | 1.986879e-04 | 0.99996651 |\n",
       "| 11 | 2.959644e-05 | 0.99999610 |\n",
       "| 12 | 3.536121e-06 | 0.99999964 |\n",
       "| 13 | 3.342765e-07 | 0.99999997 |\n",
       "| 14 | 2.445224e-08 | 1.00000000 |\n",
       "| 15 | 1.335544e-09 | 1.00000000 |\n",
       "| 16 | 5.128972e-11 | 1.00000000 |\n",
       "| 17 | 1.235897e-12 | 1.00000000 |\n",
       "| 18 | 1.406308e-14 | 1.00000000 |\n",
       "\n"
      ],
      "text/plain": [
       "   x  pmf          cdf       \n",
       "1   0 3.494666e-02 0.03494666\n",
       "2   1 1.288395e-01 0.16378615\n",
       "3   2 2.243049e-01 0.38809104\n",
       "4   3 2.450238e-01 0.63311487\n",
       "5   4 1.881960e-01 0.82131087\n",
       "6   5 1.079293e-01 0.92924015\n",
       "7   6 4.789633e-02 0.97713647\n",
       "8   7 1.681730e-02 0.99395377\n",
       "9   8 4.736197e-03 0.99868997\n",
       "10  9 1.077849e-03 0.99976782\n",
       "11 10 1.986879e-04 0.99996651\n",
       "12 11 2.959644e-05 0.99999610\n",
       "13 12 3.536121e-06 0.99999964\n",
       "14 13 3.342765e-07 0.99999997\n",
       "15 14 2.445224e-08 1.00000000\n",
       "16 15 1.335544e-09 1.00000000\n",
       "17 16 5.128972e-11 1.00000000\n",
       "18 17 1.235897e-12 1.00000000\n",
       "19 18 1.406308e-14 1.00000000"
      ]
     },
     "metadata": {},
     "output_type": "display_data"
    }
   ],
   "source": [
    "df_mermaids"
   ]
  },
  {
   "cell_type": "markdown",
   "metadata": {},
   "source": [
    "-----"
   ]
  },
  {
   "cell_type": "markdown",
   "metadata": {},
   "source": [
    "### (c)\n",
    "\n",
    "> Plot the probability distribution of $X$."
   ]
  },
  {
   "cell_type": "markdown",
   "metadata": {},
   "source": [
    "We'll use the distribution using `ggplot.geom_col()` to plot the distribution."
   ]
  },
  {
   "cell_type": "code",
   "execution_count": 7,
   "metadata": {},
   "outputs": [
    {
     "data": {
      "image/png": "[encoded data removed]",
      "text/plain": [
       "plot without title"
      ]
     },
     "metadata": {
      "image/png": {
       "height": 420,
       "width": 420
      }
     },
     "output_type": "display_data"
    }
   ],
   "source": [
    "ggplot(data=df_mermaids) +\n",
    "  geom_col(mapping = aes(x = x, y = pmf)) +\n",
    "  theme_bw() +\n",
    "  labs(\n",
    "      title = \"Probability distribution: B(18, 0.17)\",\n",
    "      y = \"p(x)\"\n",
    "  )"
   ]
  },
  {
   "cell_type": "markdown",
   "metadata": {},
   "source": [
    "-----"
   ]
  },
  {
   "cell_type": "markdown",
   "metadata": {},
   "source": [
    "### (d)\n",
    "\n",
    "> Calculate the mean and variance of the distribution"
   ]
  },
  {
   "cell_type": "markdown",
   "metadata": {},
   "source": [
    "I have not found a satisfactory means to calculate $\\mu$ and $\\sigma^{2}$, save for defining the formula.\n",
    "I did not find this particularly interesting, so the two summary statistics are left out."
   ]
  },
  {
   "cell_type": "markdown",
   "metadata": {},
   "source": [
    "-----"
   ]
  },
  {
   "cell_type": "markdown",
   "metadata": {},
   "source": [
    "### (e)\n",
    "\n",
    "> What is the probability that 5 sky mermaids will be spotted in 20XX, rounded to 3dp?"
   ]
  },
  {
   "cell_type": "markdown",
   "metadata": {},
   "source": [
    "$$\n",
    "P(X=5) = p(5) = \\binom{18}{5} (0.17)^{5} (0.83)^{13} = \\ldots\n",
    "$$"
   ]
  },
  {
   "cell_type": "code",
   "execution_count": 8,
   "metadata": {},
   "outputs": [
    {
     "data": {
      "text/html": [
       "0.107929276453054"
      ],
      "text/latex": [
       "0.107929276453054"
      ],
      "text/markdown": [
       "0.107929276453054"
      ],
      "text/plain": [
       "[1] 0.1079293"
      ]
     },
     "metadata": {},
     "output_type": "display_data"
    }
   ],
   "source": [
    "dbinom(x = 5, size = 18, prob = 0.17)"
   ]
  },
  {
   "cell_type": "markdown",
   "metadata": {},
   "source": [
    "-----"
   ]
  },
  {
   "cell_type": "markdown",
   "metadata": {},
   "source": [
    "### (f)\n",
    "\n",
    "> What is the probability at most 4 sky mermaids will be spotted in 20XX?"
   ]
  },
  {
   "cell_type": "markdown",
   "metadata": {},
   "source": [
    "$$\n",
    "P(X \\leq 4) = F(4) = \\sum_{k = 0}^{4} \\binom{18}{k} (0.17)^{k} (0.83)^{18 - k} = \\ldots\n",
    "$$"
   ]
  },
  {
   "cell_type": "code",
   "execution_count": 9,
   "metadata": {},
   "outputs": [
    {
     "data": {
      "text/html": [
       "0.821310872629435"
      ],
      "text/latex": [
       "0.821310872629435"
      ],
      "text/markdown": [
       "0.821310872629435"
      ],
      "text/plain": [
       "[1] 0.8213109"
      ]
     },
     "metadata": {},
     "output_type": "display_data"
    }
   ],
   "source": [
    "pbinom(q = 4, size = 18, prob = 0.17)"
   ]
  },
  {
   "cell_type": "markdown",
   "metadata": {},
   "source": [
    "-----"
   ]
  },
  {
   "cell_type": "markdown",
   "metadata": {},
   "source": [
    "### (g)\n",
    "\n",
    "> What is the probability that more than 4 sky mermaids will be spotted in 20XX?"
   ]
  },
  {
   "cell_type": "markdown",
   "metadata": {},
   "source": [
    "$$\n",
    "P(X > 4) = 1 - F(4) = \\sum_{k = 5}^{18} \\binom{18}{k} (0.17)^{k} (0.83)^{18 - k} = \\ldots\n",
    "$$\n",
    "\n",
    "We will use the `pbinom()` function again, this time setting the parameter `lower.tail` to `False`.\n",
    "\n",
    "Note, this is a sanity check.\n",
    "We are hoping the method returns approximately 0.179."
   ]
  },
  {
   "cell_type": "code",
   "execution_count": 10,
   "metadata": {},
   "outputs": [
    {
     "data": {
      "text/html": [
       "0.178689127370565"
      ],
      "text/latex": [
       "0.178689127370565"
      ],
      "text/markdown": [
       "0.178689127370565"
      ],
      "text/plain": [
       "[1] 0.1786891"
      ]
     },
     "metadata": {},
     "output_type": "display_data"
    }
   ],
   "source": [
    "pbinom(q = 4, size = 18, prob = 0.17, lower.tail = FALSE)"
   ]
  },
  {
   "cell_type": "markdown",
   "metadata": {},
   "source": [
    "-----"
   ]
  },
  {
   "cell_type": "markdown",
   "metadata": {},
   "source": [
    "## (2)\n",
    "\n",
    "The company is interested in modelling which of the flights will spot the first sky mermaid of the year."
   ]
  },
  {
   "cell_type": "markdown",
   "metadata": {},
   "source": [
    "-----"
   ]
  },
  {
   "cell_type": "markdown",
   "metadata": {},
   "source": [
    "### (a)\n",
    "\n",
    "> What is the model for the distribution of sky mermaid spotting?"
   ]
  },
  {
   "cell_type": "markdown",
   "metadata": {},
   "source": [
    "Let $Y$ be a random variable that represents that first flight from Narnia to Neverland where a sky mermaid is spotted.\n",
    "Then $Y$ is modelled by a geometric distribution, with parameter $p=0.17$, so  $Y \\sim G(0.17)$."
   ]
  },
  {
   "cell_type": "markdown",
   "metadata": {},
   "source": [
    "------"
   ]
  },
  {
   "cell_type": "markdown",
   "metadata": {},
   "source": [
    "### (b)\n",
    "\n",
    "> Construct a table showing the p.d.f. and c.d.f. of $Y$."
   ]
  },
  {
   "cell_type": "markdown",
   "metadata": {},
   "source": [
    "We'll follow the same steps as we did in **1(b)**.\n",
    "\n",
    "Note, **R** defines the parameter $x$ as just the number of failures, rather than **M248's** definition as the trial number of the *first success*.\n",
    "As such, we define the array as running $\\{0, \\ldots, 17\\}$, where 0 represents success in the first trial (so zero failures), etc."
   ]
  },
  {
   "cell_type": "code",
   "execution_count": 11,
   "metadata": {},
   "outputs": [],
   "source": [
    "y <- c(0:17)"
   ]
  },
  {
   "cell_type": "code",
   "execution_count": 12,
   "metadata": {},
   "outputs": [],
   "source": [
    "df_first_mermaid <- data.frame(y)"
   ]
  },
  {
   "cell_type": "code",
   "execution_count": 13,
   "metadata": {},
   "outputs": [],
   "source": [
    "df_first_mermaid$pmf <- dgeom(x=y, prob = 0.17)"
   ]
  },
  {
   "cell_type": "code",
   "execution_count": 14,
   "metadata": {},
   "outputs": [],
   "source": [
    "df_first_mermaid$cdf <- pgeom(q=y, prob = 0.17)"
   ]
  },
  {
   "cell_type": "code",
   "execution_count": 15,
   "metadata": {},
   "outputs": [
    {
     "data": {
      "text/html": [
       "<table>\n",
       "<caption>A data.frame: 18 × 3</caption>\n",
       "<thead>\n",
       "\t<tr><th scope=col>y</th><th scope=col>pmf</th><th scope=col>cdf</th></tr>\n",
       "\t<tr><th scope=col>&lt;int&gt;</th><th scope=col>&lt;dbl&gt;</th><th scope=col>&lt;dbl&gt;</th></tr>\n",
       "</thead>\n",
       "<tbody>\n",
       "\t<tr><td> 0</td><td>0.170000000</td><td>0.1700000</td></tr>\n",
       "\t<tr><td> 1</td><td>0.141100000</td><td>0.3111000</td></tr>\n",
       "\t<tr><td> 2</td><td>0.117113000</td><td>0.4282130</td></tr>\n",
       "\t<tr><td> 3</td><td>0.097203790</td><td>0.5254168</td></tr>\n",
       "\t<tr><td> 4</td><td>0.080679146</td><td>0.6060959</td></tr>\n",
       "\t<tr><td> 5</td><td>0.066963691</td><td>0.6730596</td></tr>\n",
       "\t<tr><td> 6</td><td>0.055579863</td><td>0.7286395</td></tr>\n",
       "\t<tr><td> 7</td><td>0.046131287</td><td>0.7747708</td></tr>\n",
       "\t<tr><td> 8</td><td>0.038288968</td><td>0.8130597</td></tr>\n",
       "\t<tr><td> 9</td><td>0.031779843</td><td>0.8448396</td></tr>\n",
       "\t<tr><td>10</td><td>0.026377270</td><td>0.8712169</td></tr>\n",
       "\t<tr><td>11</td><td>0.021893134</td><td>0.8931100</td></tr>\n",
       "\t<tr><td>12</td><td>0.018171301</td><td>0.9112813</td></tr>\n",
       "\t<tr><td>13</td><td>0.015082180</td><td>0.9263635</td></tr>\n",
       "\t<tr><td>14</td><td>0.012518209</td><td>0.9388817</td></tr>\n",
       "\t<tr><td>15</td><td>0.010390114</td><td>0.9492718</td></tr>\n",
       "\t<tr><td>16</td><td>0.008623795</td><td>0.9578956</td></tr>\n",
       "\t<tr><td>17</td><td>0.007157749</td><td>0.9650533</td></tr>\n",
       "</tbody>\n",
       "</table>\n"
      ],
      "text/latex": [
       "A data.frame: 18 × 3\n",
       "\\begin{tabular}{lll}\n",
       " y & pmf & cdf\\\\\n",
       " <int> & <dbl> & <dbl>\\\\\n",
       "\\hline\n",
       "\t  0 & 0.170000000 & 0.1700000\\\\\n",
       "\t  1 & 0.141100000 & 0.3111000\\\\\n",
       "\t  2 & 0.117113000 & 0.4282130\\\\\n",
       "\t  3 & 0.097203790 & 0.5254168\\\\\n",
       "\t  4 & 0.080679146 & 0.6060959\\\\\n",
       "\t  5 & 0.066963691 & 0.6730596\\\\\n",
       "\t  6 & 0.055579863 & 0.7286395\\\\\n",
       "\t  7 & 0.046131287 & 0.7747708\\\\\n",
       "\t  8 & 0.038288968 & 0.8130597\\\\\n",
       "\t  9 & 0.031779843 & 0.8448396\\\\\n",
       "\t 10 & 0.026377270 & 0.8712169\\\\\n",
       "\t 11 & 0.021893134 & 0.8931100\\\\\n",
       "\t 12 & 0.018171301 & 0.9112813\\\\\n",
       "\t 13 & 0.015082180 & 0.9263635\\\\\n",
       "\t 14 & 0.012518209 & 0.9388817\\\\\n",
       "\t 15 & 0.010390114 & 0.9492718\\\\\n",
       "\t 16 & 0.008623795 & 0.9578956\\\\\n",
       "\t 17 & 0.007157749 & 0.9650533\\\\\n",
       "\\end{tabular}\n"
      ],
      "text/markdown": [
       "\n",
       "A data.frame: 18 × 3\n",
       "\n",
       "| y &lt;int&gt; | pmf &lt;dbl&gt; | cdf &lt;dbl&gt; |\n",
       "|---|---|---|\n",
       "|  0 | 0.170000000 | 0.1700000 |\n",
       "|  1 | 0.141100000 | 0.3111000 |\n",
       "|  2 | 0.117113000 | 0.4282130 |\n",
       "|  3 | 0.097203790 | 0.5254168 |\n",
       "|  4 | 0.080679146 | 0.6060959 |\n",
       "|  5 | 0.066963691 | 0.6730596 |\n",
       "|  6 | 0.055579863 | 0.7286395 |\n",
       "|  7 | 0.046131287 | 0.7747708 |\n",
       "|  8 | 0.038288968 | 0.8130597 |\n",
       "|  9 | 0.031779843 | 0.8448396 |\n",
       "| 10 | 0.026377270 | 0.8712169 |\n",
       "| 11 | 0.021893134 | 0.8931100 |\n",
       "| 12 | 0.018171301 | 0.9112813 |\n",
       "| 13 | 0.015082180 | 0.9263635 |\n",
       "| 14 | 0.012518209 | 0.9388817 |\n",
       "| 15 | 0.010390114 | 0.9492718 |\n",
       "| 16 | 0.008623795 | 0.9578956 |\n",
       "| 17 | 0.007157749 | 0.9650533 |\n",
       "\n"
      ],
      "text/plain": [
       "   y  pmf         cdf      \n",
       "1   0 0.170000000 0.1700000\n",
       "2   1 0.141100000 0.3111000\n",
       "3   2 0.117113000 0.4282130\n",
       "4   3 0.097203790 0.5254168\n",
       "5   4 0.080679146 0.6060959\n",
       "6   5 0.066963691 0.6730596\n",
       "7   6 0.055579863 0.7286395\n",
       "8   7 0.046131287 0.7747708\n",
       "9   8 0.038288968 0.8130597\n",
       "10  9 0.031779843 0.8448396\n",
       "11 10 0.026377270 0.8712169\n",
       "12 11 0.021893134 0.8931100\n",
       "13 12 0.018171301 0.9112813\n",
       "14 13 0.015082180 0.9263635\n",
       "15 14 0.012518209 0.9388817\n",
       "16 15 0.010390114 0.9492718\n",
       "17 16 0.008623795 0.9578956\n",
       "18 17 0.007157749 0.9650533"
      ]
     },
     "metadata": {},
     "output_type": "display_data"
    }
   ],
   "source": [
    "df_first_mermaid"
   ]
  },
  {
   "cell_type": "markdown",
   "metadata": {},
   "source": [
    "-----"
   ]
  },
  {
   "cell_type": "markdown",
   "metadata": {},
   "source": [
    "### (c)\n",
    "\n",
    "> Plot the distribution of $Y$."
   ]
  },
  {
   "cell_type": "code",
   "execution_count": 16,
   "metadata": {},
   "outputs": [
    {
     "data": {
      "image/png": "[encoded data removed]",
      "text/plain": [
       "plot without title"
      ]
     },
     "metadata": {
      "image/png": {
       "height": 420,
       "width": 420
      }
     },
     "output_type": "display_data"
    }
   ],
   "source": [
    "ggplot(data=df_first_mermaid) +\n",
    "  geom_col(mapping = aes(x = y, y = pmf)) +\n",
    "  theme_bw() +\n",
    "  labs(\n",
    "      title = \"Probability distribution: G(0.17)\",\n",
    "      y = \"p(y)\"\n",
    "  )"
   ]
  },
  {
   "cell_type": "markdown",
   "metadata": {},
   "source": [
    "-----"
   ]
  },
  {
   "cell_type": "markdown",
   "metadata": {},
   "source": [
    "### (d)\n",
    "\n",
    "> Calculate the mean and variance of the distribution"
   ]
  },
  {
   "cell_type": "markdown",
   "metadata": {},
   "source": [
    "I have not found a satisfactory means to calculate $\\mu$ and $\\sigma^{2}$, save for defining the formula.\n",
    "I did not find this particularly interesting, so they two summary statistics are left out."
   ]
  },
  {
   "cell_type": "markdown",
   "metadata": {},
   "source": [
    "-----"
   ]
  },
  {
   "cell_type": "markdown",
   "metadata": {},
   "source": [
    "### (e)\n",
    "\n",
    "> What is the probability the first sky mermaid will be spotted in the 7th flight?"
   ]
  },
  {
   "cell_type": "markdown",
   "metadata": {},
   "source": [
    "$$P(Y=7) = p(7) = (0.83)^{6} 0.17 = \\ldots$$\n",
    "\n",
    "Recall that we set parameter `x` to the *number of failures*"
   ]
  },
  {
   "cell_type": "code",
   "execution_count": 17,
   "metadata": {},
   "outputs": [
    {
     "data": {
      "text/html": [
       "0.05557986347273"
      ],
      "text/latex": [
       "0.05557986347273"
      ],
      "text/markdown": [
       "0.05557986347273"
      ],
      "text/plain": [
       "[1] 0.05557986"
      ]
     },
     "metadata": {},
     "output_type": "display_data"
    }
   ],
   "source": [
    "dgeom(x = 6, prob = 0.17)"
   ]
  },
  {
   "cell_type": "markdown",
   "metadata": {},
   "source": [
    "------"
   ]
  },
  {
   "cell_type": "markdown",
   "metadata": {},
   "source": [
    "### (f)\n",
    "\n",
    "> What is the probability it will take no more than 5 flights to first spot a sky mermaid?"
   ]
  },
  {
   "cell_type": "markdown",
   "metadata": {},
   "source": [
    "$$\n",
    "P(Y \\leq 5) = F(5) = 1 - 0.83^{5} = \\ldots\n",
    "$$"
   ]
  },
  {
   "cell_type": "code",
   "execution_count": 18,
   "metadata": {},
   "outputs": [
    {
     "data": {
      "text/html": [
       "0.6060959357"
      ],
      "text/latex": [
       "0.6060959357"
      ],
      "text/markdown": [
       "0.6060959357"
      ],
      "text/plain": [
       "[1] 0.6060959"
      ]
     },
     "metadata": {},
     "output_type": "display_data"
    }
   ],
   "source": [
    "pgeom(q = 4, prob = 0.17)"
   ]
  },
  {
   "cell_type": "markdown",
   "metadata": {},
   "source": [
    "-----"
   ]
  },
  {
   "cell_type": "markdown",
   "metadata": {},
   "source": [
    "### (g)\n",
    "\n",
    "> What is the probability it will take 7 or more flight to first spot a sky mermaid?"
   ]
  },
  {
   "cell_type": "markdown",
   "metadata": {},
   "source": [
    "$$\n",
    "P(Y \\geq 7) = 1 - P(Y \\leq 6) = 1 - F(6) = 1 - (1 - 0.83^{6}) = 0.83^{6} = \\ldots\n",
    "$$\n",
    "\n",
    "We'll set parameter `q` to 5."
   ]
  },
  {
   "cell_type": "code",
   "execution_count": 19,
   "metadata": {},
   "outputs": [
    {
     "data": {
      "text/html": [
       "0.326940373369"
      ],
      "text/latex": [
       "0.326940373369"
      ],
      "text/markdown": [
       "0.326940373369"
      ],
      "text/plain": [
       "[1] 0.3269404"
      ]
     },
     "metadata": {},
     "output_type": "display_data"
    }
   ],
   "source": [
    "pgeom(q = 5, prob = 0.17, lower.tail = FALSE)"
   ]
  }
 ],
 "metadata": {
  "kernelspec": {
   "display_name": "R 4.0.3",
   "language": "R",
   "name": "ir403"
  },
  "language_info": {
   "codemirror_mode": "r",
   "file_extension": ".r",
   "mimetype": "text/x-r-source",
   "name": "R",
   "pygments_lexer": "r",
   "version": "4.0.3"
  }
 },
 "nbformat": 4,
 "nbformat_minor": 4
}
