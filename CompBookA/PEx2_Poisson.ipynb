{
 "cells": [
  {
   "cell_type": "markdown",
   "metadata": {},
   "source": [
    "# Poisson Distribution"
   ]
  },
  {
   "cell_type": "code",
   "execution_count": 1,
   "metadata": {},
   "outputs": [],
   "source": [
    "import scipy.stats as stats\n",
    "import pandas as pd\n",
    "import numpy as np\n",
    "import seaborn as sns"
   ]
  },
  {
   "cell_type": "markdown",
   "metadata": {},
   "source": [
    "## Scenario\n",
    "\n",
    "> Some of the sky mermaids are early risers.\n",
    "> They are also a vocal bunch who often contact their local MP to complain as soon as they wake up.\n",
    ">\n",
    "> On a typical day, the MP receives approximately 5% of complaints from concerned sky mermaids between 4am and 5am.\n",
    "> The MP would like to model the distribution of complaints received between 4am and 5am on a \"busy day\".\n",
    ">\n",
    "> It can be taken that a \"busy day\" is defined as receiving 100 complaints, and assumed that the event of receiving a complaint is independent of all other complaints.\n",
    "\n",
    "-----"
   ]
  },
  {
   "cell_type": "markdown",
   "metadata": {},
   "source": [
    "## Questions\n",
    "\n",
    "**(a)** Using the definition of a *busy day*, state the distribution that models the receipt of complaints by the local MP from sky mermaids between 4am and 5am.\n",
    "\n",
    "**(b)** State a distribution which could be used as an approximation for the complaints received.\n",
    "\n",
    "**(c)** Plot both of the distributions.\n",
    "\n",
    "**(d)** What is the probability the MP will receive seven complaints from the sky mermaids between 4am and 5am? Calculate the probability using both the Binomial and Poisson distributions\n",
    "\n",
    "**(e)** What is the probability the MP will receive no more that 10 complaints from the sky mermaids between 4am and 5am?\n",
    "\n",
    "**(f)** What is the probability the MP will receive more than five complaints between 4am and 5am?\n",
    "\n",
    "**(g)** \n",
    "\n",
    "-----"
   ]
  },
  {
   "cell_type": "markdown",
   "metadata": {},
   "source": [
    "### (a)\n",
    "\n",
    "Let $X$ be a random variable that represents the number of complaints received by the MP between 4am and 5am from the sky mermaids on a busy day.\n",
    "Then $X$ can be modelled by a **binomial distribution**, with parameters $n=100$, $p=0.05$, so $X \\sim B(100,0.05)$."
   ]
  },
  {
   "cell_type": "code",
   "execution_count": 2,
   "metadata": {},
   "outputs": [],
   "source": [
    "# declare the distribution\n",
    "binomial_x = stats.binom(n=100, p=0.05)"
   ]
  },
  {
   "cell_type": "markdown",
   "metadata": {},
   "source": [
    "### (b)\n",
    "\n",
    "For large values of $n$ and small values of $p$, a random variable following the **binomial distribution**, $B(n, p)$, has approximately the same distribution as a random variable following the **Poisson distribution** with parameter $np$, so $B(n, p) \\approx Poisson(np)$.\n",
    "\n",
    "Given this, if the MP receives 100 complaints on a busy day, 5% of which arrive between 4am and 5am, then\n",
    "\n",
    "$$\n",
    "B(100, 0.05) \\approx Poisson(5).\n",
    "$$"
   ]
  },
  {
   "cell_type": "code",
   "execution_count": 3,
   "metadata": {},
   "outputs": [],
   "source": [
    "# declare the poisson dist\n",
    "poisson_x = stats.poisson(mu=5)"
   ]
  },
  {
   "cell_type": "markdown",
   "metadata": {},
   "source": [
    "### (c)"
   ]
  },
  {
   "cell_type": "code",
   "execution_count": 4,
   "metadata": {},
   "outputs": [],
   "source": [
    "# declare an array\n",
    "range_x = np.arange(start=0, stop=19, step=1)"
   ]
  },
  {
   "cell_type": "code",
   "execution_count": 5,
   "metadata": {},
   "outputs": [],
   "source": [
    "df_complaints = pd.DataFrame(data=range_x, columns={'x'})"
   ]
  },
  {
   "cell_type": "code",
   "execution_count": 7,
   "metadata": {},
   "outputs": [],
   "source": [
    "df_complaints['Binomial: p(x)'] = binomial_x.pmf(df_complaints['x'])"
   ]
  },
  {
   "cell_type": "code",
   "execution_count": 8,
   "metadata": {},
   "outputs": [],
   "source": [
    "df_complaints['Poisson: p(x)'] = poisson_x.pmf(df_complaints['x'])"
   ]
  },
  {
   "cell_type": "code",
   "execution_count": 9,
   "metadata": {},
   "outputs": [
    {
     "data": {
      "text/plain": [
       "[Text(0.5, 1.0, 'Binomial distribution: B(100, 0.05)'), Text(0, 0.5, 'p(x)')]"
      ]
     },
     "execution_count": 9,
     "metadata": {},
     "output_type": "execute_result"
    },
    {
     "data": {
      "image/png": "[encoded data removed]",
      "text/plain": [
       "<Figure size 432x288 with 1 Axes>"
      ]
     },
     "metadata": {
      "needs_background": "light"
     },
     "output_type": "display_data"
    }
   ],
   "source": [
    "ax1 = sns.barplot(data=df_complaints,\n",
    "                  x='x',\n",
    "                  y='Binomial: p(x)',\n",
    "                  color=\"grey\")\n",
    "\n",
    "ax1.set(title=\"Binomial distribution: B(100, 0.05)\", ylabel=\"p(x)\")"
   ]
  },
  {
   "cell_type": "code",
   "execution_count": 10,
   "metadata": {},
   "outputs": [
    {
     "data": {
      "text/plain": [
       "[Text(0.5, 1.0, 'Probability distribution: Poisson(5)'), Text(0, 0.5, 'p(x)')]"
      ]
     },
     "execution_count": 10,
     "metadata": {},
     "output_type": "execute_result"
    },
    {
     "data": {
      "image/png": "[encoded data removed]",
      "text/plain": [
       "<Figure size 432x288 with 1 Axes>"
      ]
     },
     "metadata": {
      "needs_background": "light"
     },
     "output_type": "display_data"
    }
   ],
   "source": [
    "ax1 = sns.barplot(data=df_complaints,\n",
    "                  x='x',\n",
    "                  y='Poisson: p(x)',\n",
    "                  color=\"grey\")\n",
    "\n",
    "ax1.set(title=\"Probability distribution: Poisson(5)\", ylabel=\"p(x)\")"
   ]
  },
  {
   "cell_type": "markdown",
   "metadata": {},
   "source": [
    "### (d)\n",
    "\n",
    "The probability the MP receives seven complaints between 4am and 5am is"
   ]
  },
  {
   "cell_type": "markdown",
   "metadata": {},
   "source": [
    "#### Binomial\n",
    "\n",
    "$$\n",
    "P(X = 20) = p(20) = \\binom{100}{7}0.05^{7}0.95^{93} = \\ldots\n",
    "$$"
   ]
  },
  {
   "cell_type": "code",
   "execution_count": 10,
   "metadata": {},
   "outputs": [
    {
     "data": {
      "text/plain": [
       "0.10602553736478391"
      ]
     },
     "execution_count": 10,
     "metadata": {},
     "output_type": "execute_result"
    }
   ],
   "source": [
    "binomial_x.pmf(k=7)"
   ]
  },
  {
   "cell_type": "markdown",
   "metadata": {},
   "source": [
    "#### Poisson\n",
    "\n",
    "The probability the MP receives seven complaints between 4am and 5am is\n",
    "\n",
    "$$\n",
    "P(X = 20) = p(20) = e^{-5} \\bigg( \\frac{5^{7}}{7!} \\bigg) = \\ldots\n",
    "$$"
   ]
  },
  {
   "cell_type": "code",
   "execution_count": 11,
   "metadata": {},
   "outputs": [
    {
     "data": {
      "text/plain": [
       "0.10444486295705395"
      ]
     },
     "execution_count": 11,
     "metadata": {},
     "output_type": "execute_result"
    }
   ],
   "source": [
    "poisson_x.pmf(k=7)"
   ]
  },
  {
   "cell_type": "markdown",
   "metadata": {},
   "source": [
    "### (e)\n",
    "\n",
    "The probability the MP receives no more than 10 complaints from the sky mermaids between 4am and 5am is"
   ]
  },
  {
   "cell_type": "markdown",
   "metadata": {},
   "source": [
    "#### Binomial\n",
    "\n",
    "$$\n",
    "P(X \\leq 10) = F(10) = \\sum_{k=0}^{10} \\binom{100}{k}0.05^{k}0.95^{n-k} = \\ldots\n",
    "$$"
   ]
  },
  {
   "cell_type": "code",
   "execution_count": 12,
   "metadata": {},
   "outputs": [
    {
     "data": {
      "text/plain": [
       "0.9885275899325152"
      ]
     },
     "execution_count": 12,
     "metadata": {},
     "output_type": "execute_result"
    }
   ],
   "source": [
    "binomial_x.cdf(x=10)"
   ]
  },
  {
   "cell_type": "markdown",
   "metadata": {},
   "source": [
    "#### Poisson\n",
    "\n",
    "$$\n",
    "P(X \\leq 10) = F(10) = e^{-5} \\sum_{k=0}^{10} \\frac{5^{k}}{k!} = \\ldots\n",
    "$$"
   ]
  },
  {
   "cell_type": "code",
   "execution_count": 13,
   "metadata": {},
   "outputs": [
    {
     "data": {
      "text/plain": [
       "0.9863047314016171"
      ]
     },
     "execution_count": 13,
     "metadata": {},
     "output_type": "execute_result"
    }
   ],
   "source": [
    "poisson_x.cdf(x=10)"
   ]
  },
  {
   "cell_type": "markdown",
   "metadata": {},
   "source": [
    "### (f)\n",
    "\n",
    "The probability the MP will receive more than five complaints between 4am and 5am is"
   ]
  },
  {
   "cell_type": "markdown",
   "metadata": {},
   "source": [
    "#### Binomial \n",
    "\n",
    "$$\n",
    "P(X > 5) = 1 - F(5) = 1 - \\sum_{k=0}^{5} \\binom{100}{k}0.05^{k}0.95^{n-k} = \\ldots\n",
    "$$"
   ]
  },
  {
   "cell_type": "code",
   "execution_count": 14,
   "metadata": {},
   "outputs": [
    {
     "data": {
      "text/plain": [
       "0.38400087204385724"
      ]
     },
     "execution_count": 14,
     "metadata": {},
     "output_type": "execute_result"
    }
   ],
   "source": [
    "binomial_x.sf(x=5)"
   ]
  },
  {
   "cell_type": "markdown",
   "metadata": {},
   "source": [
    "#### Poisson\n",
    "\n",
    "$$\n",
    "P(X > 5) = 1 - F(5) = 1 - \\bigg( e^{-5} \\sum_{k=0}^{5} \\frac{5^{k}}{k!} \\bigg) = \\ldots\n",
    "$$"
   ]
  },
  {
   "cell_type": "code",
   "execution_count": 15,
   "metadata": {},
   "outputs": [
    {
     "data": {
      "text/plain": [
       "0.384039345166937"
      ]
     },
     "execution_count": 15,
     "metadata": {},
     "output_type": "execute_result"
    }
   ],
   "source": [
    "poisson_x.sf(x=5)"
   ]
  },
  {
   "cell_type": "markdown",
   "metadata": {},
   "source": [
    "-----"
   ]
  },
  {
   "cell_type": "markdown",
   "metadata": {},
   "source": [
    "## (2)\n",
    "\n",
    "After a number of cutting remarks from constituents about late replies to early complaints, "
   ]
  },
  {
   "cell_type": "markdown",
   "metadata": {},
   "source": [
    "### (a)\n",
    "\n",
    "> State the model that best describes the waiting time between complaints for the MP, if they were to log on to their computer at 4am."
   ]
  },
  {
   "cell_type": "markdown",
   "metadata": {},
   "source": [
    "Let $T$ be a random variable that represents the waiting time between successive complaints.\n",
    "The MP receives on average 5 complaints between 4am and 5am.\n",
    "Therefore $T$ is modelled by the exponential distribution with parameter $\\lambda=5$, so $T \\sim M(5)$."
   ]
  },
  {
   "cell_type": "markdown",
   "metadata": {},
   "source": [
    "### (b)\n",
    "\n",
    "> Plot the distribution for $T$."
   ]
  },
  {
   "cell_type": "markdown",
   "metadata": {},
   "source": [
    "Let us plot the p.d.f. in unit minutes, so we do not have to use decimal hours.\n",
    "\n",
    "Use `np.arange()` to ceate an array for $t$."
   ]
  },
  {
   "cell_type": "code",
   "execution_count": 16,
   "metadata": {},
   "outputs": [],
   "source": [
    "# using step=60/1000 delivers us 1000 points\n",
    "t = np.arange(start=0, stop=60, step=60/1000)"
   ]
  },
  {
   "cell_type": "markdown",
   "metadata": {},
   "source": [
    "Declare the **DataFrame**"
   ]
  },
  {
   "cell_type": "code",
   "execution_count": 17,
   "metadata": {},
   "outputs": [],
   "source": [
    "df_exp = pd.DataFrame(data=t, columns={'t'})"
   ]
  },
  {
   "cell_type": "markdown",
   "metadata": {},
   "source": [
    "We'll need to convert the rate from **complaints per hour** to **compaints per minute**.\n",
    "If the MP receives 5 complaints per hour, then they receive..."
   ]
  },
  {
   "cell_type": "code",
   "execution_count": 18,
   "metadata": {},
   "outputs": [
    {
     "name": "stdout",
     "output_type": "stream",
     "text": [
      "0.08333333333333333 compaints per minute\n"
     ]
    }
   ],
   "source": [
    "L_minutes = 5/60\n",
    "print(L_minutes, \"compaints per minute\")"
   ]
  },
  {
   "cell_type": "markdown",
   "metadata": {},
   "source": [
    "Construct the p.d.f. based on the new rate.\n",
    "\n",
    "It does not make sense to calculate the p.d.f. for a specific time, as it is assumed $P(T=t)=0$, for all $t \\in T$.\n",
    "We can instead estimate $f(t)$ by calculating\n",
    "\n",
    "$$\n",
    "P(t < T < t+0.001) = F(t+0.001) - F(t).\n",
    "$$"
   ]
  },
  {
   "cell_type": "code",
   "execution_count": 19,
   "metadata": {},
   "outputs": [],
   "source": [
    "# declare the exponential distribution\n",
    "exp_t = stats.expon(scale=1/L_minutes)"
   ]
  },
  {
   "cell_type": "code",
   "execution_count": 20,
   "metadata": {},
   "outputs": [],
   "source": [
    "df_exp['pdf'] = exp_t.cdf(t+0.001) - exp_t.cdf(t)"
   ]
  },
  {
   "cell_type": "markdown",
   "metadata": {},
   "source": [
    "Plot the estimated pdf"
   ]
  },
  {
   "cell_type": "code",
   "execution_count": 21,
   "metadata": {},
   "outputs": [
    {
     "data": {
      "text/plain": [
       "[Text(0.5, 1.0, 'Probability distribution: : M(1/12)'), Text(0, 0.5, 'f(t)')]"
      ]
     },
     "execution_count": 21,
     "metadata": {},
     "output_type": "execute_result"
    },
    {
     "data": {
      "image/png": "[encoded data removed]",
      "text/plain": [
       "<Figure size 432x288 with 1 Axes>"
      ]
     },
     "metadata": {
      "needs_background": "light"
     },
     "output_type": "display_data"
    }
   ],
   "source": [
    "ax1 = sns.lineplot(data=df_exp,\n",
    "                   x='t',\n",
    "                   y='pdf',\n",
    "                   color=\"grey\")\n",
    "\n",
    "ax1.set(title=\"Probability distribution: : M(1/12)\", ylabel=\"f(t)\")"
   ]
  },
  {
   "cell_type": "markdown",
   "metadata": {},
   "source": [
    "### (c)\n",
    "\n",
    "> The MP becomes stressed if they receive a complaint whilst still answering the previous complaint.\n",
    "They estimate it takes them on average 4 minutes to answer a complaint.\n",
    ">\n",
    "> What is the probability they will receive a complaint during the time they answering another complaint?"
   ]
  },
  {
   "cell_type": "markdown",
   "metadata": {},
   "source": [
    "The probability they will receive a complaint during the time they answering another complaint is\n",
    "\n",
    "$$\n",
    "P(T<4) = 1 - e^{-\\lambda (4)} = \\ldots\n",
    "$$"
   ]
  },
  {
   "cell_type": "code",
   "execution_count": 22,
   "metadata": {},
   "outputs": [
    {
     "data": {
      "text/plain": [
       "0.28346868942621073"
      ]
     },
     "execution_count": 22,
     "metadata": {},
     "output_type": "execute_result"
    }
   ],
   "source": [
    "exp_t.cdf(x=4)"
   ]
  },
  {
   "cell_type": "markdown",
   "metadata": {},
   "source": [
    "As a sanity check, let us check the answer using the rate/hour.\n",
    "Converting minutes to hours, 4 minutes is 1/15 hours, so $P(T<1/15)$ (given a rate of 5/hour) is"
   ]
  },
  {
   "cell_type": "code",
   "execution_count": 23,
   "metadata": {},
   "outputs": [
    {
     "data": {
      "text/plain": [
       "0.28346868942621073"
      ]
     },
     "execution_count": 23,
     "metadata": {},
     "output_type": "execute_result"
    }
   ],
   "source": [
    "# declare a new distribution first\n",
    "hour_exp_t = stats.expon(scale=1/5)\n",
    "hour_exp_t.cdf(x=1/15)"
   ]
  },
  {
   "cell_type": "markdown",
   "metadata": {},
   "source": [
    "It's reassuring that they match!"
   ]
  },
  {
   "cell_type": "markdown",
   "metadata": {},
   "source": [
    "### (d)\n",
    "\n",
    "> During the hour, the MP plans to make themselves some breakfast.\n",
    "They estimate it will take them 12 minutes to make a bacon sandwich.\n",
    ">\n",
    "> Assuming they begin to make the sandwich immediately after receiving a complaint, what is the probability they do not receive another complaint during the time they are away?"
   ]
  },
  {
   "cell_type": "markdown",
   "metadata": {},
   "source": [
    "The probability the MP does not receive another complaint during the time they are away making breakfast is\n",
    "\n",
    "$$\n",
    "P(T>12) = 1 - P(T<12) = 1 - F(12) = 1 - (1 - e^{-\\lambda (12)} = e^{-\\lambda (12)} = \\ldots\n",
    "$$"
   ]
  },
  {
   "cell_type": "code",
   "execution_count": 24,
   "metadata": {},
   "outputs": [
    {
     "data": {
      "text/plain": [
       "0.36787944117144233"
      ]
     },
     "execution_count": 24,
     "metadata": {},
     "output_type": "execute_result"
    }
   ],
   "source": [
    "exp_t.sf(x=12)"
   ]
  },
  {
   "cell_type": "markdown",
   "metadata": {},
   "source": [
    "Another sanity check."
   ]
  },
  {
   "cell_type": "code",
   "execution_count": 25,
   "metadata": {},
   "outputs": [
    {
     "data": {
      "text/plain": [
       "0.36787944117144233"
      ]
     },
     "execution_count": 25,
     "metadata": {},
     "output_type": "execute_result"
    }
   ],
   "source": [
    "hour_exp_t.sf(x=0.2)"
   ]
  }
 ],
 "metadata": {
  "kernelspec": {
   "display_name": "Python 3",
   "language": "python",
   "name": "python3"
  },
  "language_info": {
   "codemirror_mode": {
    "name": "ipython",
    "version": 3
   },
   "file_extension": ".py",
   "mimetype": "text/x-python",
   "name": "python",
   "nbconvert_exporter": "python",
   "pygments_lexer": "ipython3",
   "version": "3.8.3"
  }
 },
 "nbformat": 4,
 "nbformat_minor": 4
}
