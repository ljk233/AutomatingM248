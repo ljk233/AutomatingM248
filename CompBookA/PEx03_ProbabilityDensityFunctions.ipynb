{
 "cells": [
  {
   "cell_type": "markdown",
   "metadata": {},
   "source": [
    "# Probability Density Functions in Python\n",
    "\n",
    "Date: 2020-10-30"
   ]
  },
  {
   "cell_type": "code",
   "execution_count": 1,
   "metadata": {},
   "outputs": [],
   "source": [
    "import numpy as np\n",
    "from scipy.integrate import quad\n",
    "import pandas as pd"
   ]
  },
  {
   "cell_type": "markdown",
   "metadata": {},
   "source": [
    "## Scenario\n",
    "\n",
    "Let $X$ be a continuous random variable with p.d.f.\n",
    "\n",
    "$$\n",
    "f(x) = \\begin{cases}\n",
    "    &4x^{3} \\hspace{3mm} &x \\in (0, 1] \\\\\n",
    "    &0 \\hspace{3mm} &\\text{otherwise}\n",
    "\\end{cases}\n",
    "$$\n",
    "\n",
    "-----"
   ]
  },
  {
   "cell_type": "markdown",
   "metadata": {},
   "source": [
    "## Questions\n",
    "\n",
    "**(a)** Is $f(x)$ a valid p.d.f.?\n",
    "\n",
    "**(b)** Plot the p.d.f.\n",
    "\n",
    "**(c)** Calculate $P(X \\geq 0.5)$\n",
    "\n",
    "**(d)** Calculate $P(X < 0.42)$\n",
    "\n",
    "**(e)** Calculate $P(0.15 \\leq X \\leq 0.65)$\n",
    "\n",
    "**(f)** Calculate the mean and variance of the pdf\n",
    "\n",
    "-----"
   ]
  },
  {
   "cell_type": "markdown",
   "metadata": {},
   "source": [
    "We first define a function that returns the value of $f(a)$, where $a \\in (0,1)$."
   ]
  },
  {
   "cell_type": "code",
   "execution_count": 2,
   "metadata": {},
   "outputs": [],
   "source": [
    "def pdf(a: float) -> float:\n",
    "    '''Calculates value of f(a).\n",
    "    Valid range of a: (0, 1)'''\n",
    "    return 4 * (a ** 3)"
   ]
  },
  {
   "cell_type": "markdown",
   "metadata": {},
   "source": [
    "### (a)\n",
    "\n",
    "There are two properties for $f(x)$ to be a valid p.d.f.\n",
    "\n",
    "1. $f(x) > 0$ for all $x$ in $X$\n",
    "2. $\\int f(x) = 1$ over the range of $X$"
   ]
  },
  {
   "cell_type": "markdown",
   "metadata": {},
   "source": [
    "#### Property 1: $f(x) > 0$ \n",
    "\n",
    "Rather than using iteration, we will instead\n",
    "\n",
    "1. Create a **DataFrame** with columns $x$ and $f(x)$\n",
    "2. Filter the **DataFrame** for rows $f(x) \\leq 0$\n",
    "3. Check size of filtered **DataFrame** is 0"
   ]
  },
  {
   "cell_type": "code",
   "execution_count": 3,
   "metadata": {},
   "outputs": [],
   "source": [
    "# declare an array\n",
    "x = np.arange(start=0, stop=1, step=0.000001)"
   ]
  },
  {
   "cell_type": "code",
   "execution_count": 4,
   "metadata": {},
   "outputs": [],
   "source": [
    "# create the df\n",
    "df_pdf = pd.DataFrame(data=x, columns={'x'})\n",
    "df_pdf['f'] = pdf(x)"
   ]
  },
  {
   "cell_type": "code",
   "execution_count": 5,
   "metadata": {},
   "outputs": [
    {
     "data": {
      "text/plain": [
       "True"
      ]
     },
     "execution_count": 5,
     "metadata": {},
     "output_type": "execute_result"
    }
   ],
   "source": [
    "# filter the df, check df.size is 0\n",
    "filtered_df = df_pdf.query('f < 0')\n",
    "filtered_df.size == 0"
   ]
  },
  {
   "cell_type": "markdown",
   "metadata": {},
   "source": [
    "#### Property 2: $\\int f(x) = 1$"
   ]
  },
  {
   "cell_type": "code",
   "execution_count": 6,
   "metadata": {},
   "outputs": [
    {
     "data": {
      "text/plain": [
       "True"
      ]
     },
     "execution_count": 6,
     "metadata": {},
     "output_type": "execute_result"
    }
   ],
   "source": [
    "# does the pdf integrate to 1 over the range?\n",
    "# function quad returns a tuple, select first element\n",
    "quad(pdf, a=0, b=1)[0] == 1"
   ]
  },
  {
   "cell_type": "markdown",
   "metadata": {},
   "source": [
    "As both tests returned `True`, we can confirm that $f(x)$ is a valid p.d.f."
   ]
  },
  {
   "cell_type": "markdown",
   "metadata": {},
   "source": [
    "### (b)"
   ]
  },
  {
   "cell_type": "code",
   "execution_count": 7,
   "metadata": {},
   "outputs": [
    {
     "data": {
      "text/plain": [
       "[Text(0.5, 1.0, 'f(x) = 4x^3')]"
      ]
     },
     "execution_count": 7,
     "metadata": {},
     "output_type": "execute_result"
    },
    {
     "data": {
      "image/png": "[encoded data removed]",
      "text/plain": [
       "<Figure size 432x288 with 1 Axes>"
      ]
     },
     "metadata": {
      "needs_background": "light"
     },
     "output_type": "display_data"
    }
   ],
   "source": [
    "df_pdf['f'].plot(kind='line').set(title='f(x) = 4x^3')"
   ]
  },
  {
   "cell_type": "markdown",
   "metadata": {},
   "source": [
    "### (c)\n",
    "\n",
    "$$\n",
    "P(X \\leq 0.5) = P(X < 0.5) = \\int_{0}^{0.5} 4 x^{3} \\hspace{1mm} dx = ...\n",
    "$$"
   ]
  },
  {
   "cell_type": "code",
   "execution_count": 8,
   "metadata": {},
   "outputs": [
    {
     "data": {
      "text/plain": [
       "0.0625"
      ]
     },
     "execution_count": 8,
     "metadata": {},
     "output_type": "execute_result"
    }
   ],
   "source": [
    "quad(pdf, a=0, b=0.5)[0]"
   ]
  },
  {
   "cell_type": "markdown",
   "metadata": {},
   "source": [
    "### (d)\n",
    "\n",
    "$$\n",
    "P(X > 0.42) \\int_{0.42}^{1} 4 x^{3} \\hspace{1mm} dx = ...\n",
    "$$"
   ]
  },
  {
   "cell_type": "code",
   "execution_count": 9,
   "metadata": {},
   "outputs": [
    {
     "data": {
      "text/plain": [
       "0.96888304"
      ]
     },
     "execution_count": 9,
     "metadata": {},
     "output_type": "execute_result"
    }
   ],
   "source": [
    "quad(pdf, a=0.42, b=1)[0]"
   ]
  },
  {
   "cell_type": "markdown",
   "metadata": {},
   "source": [
    "As a sanity check, let us calculate $1 - F(0.42)$"
   ]
  },
  {
   "cell_type": "code",
   "execution_count": 10,
   "metadata": {},
   "outputs": [
    {
     "data": {
      "text/plain": [
       "0.96888304"
      ]
     },
     "execution_count": 10,
     "metadata": {},
     "output_type": "execute_result"
    }
   ],
   "source": [
    "1 - quad(pdf, a=0, b=0.42)[0]"
   ]
  },
  {
   "cell_type": "markdown",
   "metadata": {},
   "source": [
    "### (e)\n",
    "\n",
    "$$\n",
    "P(0.15 < X < 0.65) = \\int_{0.15}^{0.65} 4 x^{3} \\hspace{1mm} dx = ...\n",
    "$$"
   ]
  },
  {
   "cell_type": "code",
   "execution_count": 11,
   "metadata": {},
   "outputs": [
    {
     "data": {
      "text/plain": [
       "0.178"
      ]
     },
     "execution_count": 11,
     "metadata": {},
     "output_type": "execute_result"
    }
   ],
   "source": [
    "quad(pdf, a=0.15, b=0.65)[0]"
   ]
  },
  {
   "cell_type": "markdown",
   "metadata": {},
   "source": [
    "### (f)\n",
    "\n",
    "The mean and variance of a probability distribution function are\n",
    "\n",
    "$$\n",
    "\\begin{aligned}\n",
    "    &E(X) = \\int_{L}^{U} x \\> f(x) \\> dx, \\\\\n",
    "    &V(X) = E(X^{2}) - E(X)^{2} = \\int_{L}^{U} x^{2} \\> f(x) \\> dx - E(X)^{2}\n",
    "\\end{aligned}\n",
    "$$"
   ]
  },
  {
   "cell_type": "markdown",
   "metadata": {},
   "source": [
    "We'll first define two function: `xfx` and `x2fx`"
   ]
  },
  {
   "cell_type": "code",
   "execution_count": 12,
   "metadata": {},
   "outputs": [],
   "source": [
    "def xfx(a: float) -> float:\n",
    "    '''Calculates value of a.f(a).\n",
    "    Valid range of a: (0, 1)'''\n",
    "    return a * 4 * (a ** 3)"
   ]
  },
  {
   "cell_type": "code",
   "execution_count": 13,
   "metadata": {},
   "outputs": [],
   "source": [
    "def x2fx(a: float) -> float:\n",
    "    '''Calculates value of a^2.f(a).\n",
    "    Valid range of a: (0, 1)'''\n",
    "    return (a ** 2) * 4 * (a ** 3)"
   ]
  },
  {
   "cell_type": "markdown",
   "metadata": {},
   "source": [
    "Calculate $E(X)$"
   ]
  },
  {
   "cell_type": "code",
   "execution_count": 14,
   "metadata": {},
   "outputs": [
    {
     "data": {
      "text/plain": [
       "0.8"
      ]
     },
     "execution_count": 14,
     "metadata": {},
     "output_type": "execute_result"
    }
   ],
   "source": [
    "mean = quad(xfx, a=0, b=1)[0]\n",
    "mean"
   ]
  },
  {
   "cell_type": "markdown",
   "metadata": {},
   "source": [
    "Calculate $V(X)$"
   ]
  },
  {
   "cell_type": "code",
   "execution_count": 15,
   "metadata": {},
   "outputs": [
    {
     "data": {
      "text/plain": [
       "0.026666666666666616"
      ]
     },
     "execution_count": 15,
     "metadata": {},
     "output_type": "execute_result"
    }
   ],
   "source": [
    " quad(x2fx, a=0, b=1)[0] - (mean ** 2)"
   ]
  }
 ],
 "metadata": {
  "kernelspec": {
   "display_name": "Python 3",
   "language": "python",
   "name": "python3"
  },
  "language_info": {
   "codemirror_mode": {
    "name": "ipython",
    "version": 3
   },
   "file_extension": ".py",
   "mimetype": "text/x-python",
   "name": "python",
   "nbconvert_exporter": "python",
   "pygments_lexer": "ipython3",
   "version": "3.8.3"
  }
 },
 "nbformat": 4,
 "nbformat_minor": 4
}