{
 "cells": [
  {
   "cell_type": "markdown",
   "metadata": {},
   "source": [
    "# The First Flight to Spot a Sky Mermaids Above Narnia"
   ]
  },
  {
   "cell_type": "code",
   "execution_count": 1,
   "metadata": {},
   "outputs": [],
   "source": [
    "import scipy.stats as stats\n",
    "import pandas as pd\n",
    "import numpy as np\n",
    "import seaborn as sns"
   ]
  },
  {
   "cell_type": "markdown",
   "metadata": {},
   "source": [
    "## Scenario\n",
    "\n",
    "> A company specialises in chartering flights from Narnia.\n",
    "> The company is concerned about the rise in sky mermaids that have been spotted by the crew of the flights, as a collision could be disasterous.\n",
    "> The flight crew estimates that there is a 17% chance of spotting a sky mermaid during a flight.\n",
    ">\n",
    "> The company is interested in modelling which of the flights will spot the first sky mermaid of the year.\n",
    "> It maybe assumed that the event of spotting a sky mermaid is independent of any other event."
   ]
  },
  {
   "cell_type": "markdown",
   "metadata": {},
   "source": [
    "## Questions\n",
    "\n",
    "**(a)** What is the model that describes the probability distribution for the flight that will first spot a sky mermaid?\n",
    "\n",
    "**(b)** Construct a table showing the p.m.f. and c.d.f. of the distribution.\n",
    "\n",
    "**(c)** Plot the probability distribution.\n",
    "\n",
    "**(d)** Calculate the mean and variance of the distribution.\n",
    "\n",
    "**(e)** What is the probability the first sky mermaid will be spotted during the seventh flight?\n",
    "\n",
    "**(f)** What is the probability the first sky mermaid will be spotted before or during the fifth flight?\n",
    "\n",
    "**(g)** What is the probability it will take seven or more flights to first spot a sky mermaid?"
   ]
  },
  {
   "cell_type": "markdown",
   "metadata": {},
   "source": [
    "-----"
   ]
  },
  {
   "cell_type": "markdown",
   "metadata": {},
   "source": [
    "### (a)\n",
    "\n",
    "Let $Y$ be a random variable that represents that first flight from Narnia where a sky mermaid is spotted.\n",
    "Then $Y$ is modelled by a geometric distribution, with parameter $p=0.17$, so $Y \\sim G(0.17)$."
   ]
  },
  {
   "cell_type": "code",
   "execution_count": 2,
   "metadata": {},
   "outputs": [],
   "source": [
    "# declare the distribution, assign reference to y\n",
    "y = stats.geom(p=0.17)"
   ]
  },
  {
   "cell_type": "markdown",
   "metadata": {},
   "source": [
    "### (b)\n",
    "\n",
    "We'll disply the p.d.f. and c.d.f. using a pandas **DataFrame**"
   ]
  },
  {
   "cell_type": "code",
   "execution_count": 3,
   "metadata": {},
   "outputs": [],
   "source": [
    "# declare an array (1:18)\n",
    "range_y = np.arange(start=1, stop=19, step=1)"
   ]
  },
  {
   "cell_type": "code",
   "execution_count": 4,
   "metadata": {},
   "outputs": [],
   "source": [
    "# declare a DataFrame to hold the pdf and cdf\n",
    "df_first_mermaid = pd.DataFrame(data=range_y, columns={'y'})"
   ]
  },
  {
   "cell_type": "code",
   "execution_count": 5,
   "metadata": {},
   "outputs": [],
   "source": [
    "# append pmf and cdf to df\n",
    "df_first_mermaid['p(y)'] = y.pmf(k=df_first_mermaid['y'])\n",
    "df_first_mermaid['F(y)'] = y.cdf(x=df_first_mermaid['y'])"
   ]
  },
  {
   "cell_type": "code",
   "execution_count": 6,
   "metadata": {},
   "outputs": [
    {
     "data": {
      "text/html": [
       "<div>\n",
       "<style scoped>\n",
       "    .dataframe tbody tr th:only-of-type {\n",
       "        vertical-align: middle;\n",
       "    }\n",
       "\n",
       "    .dataframe tbody tr th {\n",
       "        vertical-align: top;\n",
       "    }\n",
       "\n",
       "    .dataframe thead th {\n",
       "        text-align: right;\n",
       "    }\n",
       "</style>\n",
       "<table border=\"1\" class=\"dataframe\">\n",
       "  <thead>\n",
       "    <tr style=\"text-align: right;\">\n",
       "      <th></th>\n",
       "      <th>y</th>\n",
       "      <th>p(y)</th>\n",
       "      <th>F(y)</th>\n",
       "    </tr>\n",
       "  </thead>\n",
       "  <tbody>\n",
       "    <tr>\n",
       "      <th>0</th>\n",
       "      <td>1</td>\n",
       "      <td>0.170000</td>\n",
       "      <td>0.170000</td>\n",
       "    </tr>\n",
       "    <tr>\n",
       "      <th>1</th>\n",
       "      <td>2</td>\n",
       "      <td>0.141100</td>\n",
       "      <td>0.311100</td>\n",
       "    </tr>\n",
       "    <tr>\n",
       "      <th>2</th>\n",
       "      <td>3</td>\n",
       "      <td>0.117113</td>\n",
       "      <td>0.428213</td>\n",
       "    </tr>\n",
       "    <tr>\n",
       "      <th>3</th>\n",
       "      <td>4</td>\n",
       "      <td>0.097204</td>\n",
       "      <td>0.525417</td>\n",
       "    </tr>\n",
       "    <tr>\n",
       "      <th>4</th>\n",
       "      <td>5</td>\n",
       "      <td>0.080679</td>\n",
       "      <td>0.606096</td>\n",
       "    </tr>\n",
       "    <tr>\n",
       "      <th>5</th>\n",
       "      <td>6</td>\n",
       "      <td>0.066964</td>\n",
       "      <td>0.673060</td>\n",
       "    </tr>\n",
       "    <tr>\n",
       "      <th>6</th>\n",
       "      <td>7</td>\n",
       "      <td>0.055580</td>\n",
       "      <td>0.728639</td>\n",
       "    </tr>\n",
       "    <tr>\n",
       "      <th>7</th>\n",
       "      <td>8</td>\n",
       "      <td>0.046131</td>\n",
       "      <td>0.774771</td>\n",
       "    </tr>\n",
       "    <tr>\n",
       "      <th>8</th>\n",
       "      <td>9</td>\n",
       "      <td>0.038289</td>\n",
       "      <td>0.813060</td>\n",
       "    </tr>\n",
       "    <tr>\n",
       "      <th>9</th>\n",
       "      <td>10</td>\n",
       "      <td>0.031780</td>\n",
       "      <td>0.844840</td>\n",
       "    </tr>\n",
       "    <tr>\n",
       "      <th>10</th>\n",
       "      <td>11</td>\n",
       "      <td>0.026377</td>\n",
       "      <td>0.871217</td>\n",
       "    </tr>\n",
       "    <tr>\n",
       "      <th>11</th>\n",
       "      <td>12</td>\n",
       "      <td>0.021893</td>\n",
       "      <td>0.893110</td>\n",
       "    </tr>\n",
       "    <tr>\n",
       "      <th>12</th>\n",
       "      <td>13</td>\n",
       "      <td>0.018171</td>\n",
       "      <td>0.911281</td>\n",
       "    </tr>\n",
       "    <tr>\n",
       "      <th>13</th>\n",
       "      <td>14</td>\n",
       "      <td>0.015082</td>\n",
       "      <td>0.926363</td>\n",
       "    </tr>\n",
       "    <tr>\n",
       "      <th>14</th>\n",
       "      <td>15</td>\n",
       "      <td>0.012518</td>\n",
       "      <td>0.938882</td>\n",
       "    </tr>\n",
       "    <tr>\n",
       "      <th>15</th>\n",
       "      <td>16</td>\n",
       "      <td>0.010390</td>\n",
       "      <td>0.949272</td>\n",
       "    </tr>\n",
       "    <tr>\n",
       "      <th>16</th>\n",
       "      <td>17</td>\n",
       "      <td>0.008624</td>\n",
       "      <td>0.957896</td>\n",
       "    </tr>\n",
       "    <tr>\n",
       "      <th>17</th>\n",
       "      <td>18</td>\n",
       "      <td>0.007158</td>\n",
       "      <td>0.965053</td>\n",
       "    </tr>\n",
       "  </tbody>\n",
       "</table>\n",
       "</div>"
      ],
      "text/plain": [
       "     y      p(y)      F(y)\n",
       "0    1  0.170000  0.170000\n",
       "1    2  0.141100  0.311100\n",
       "2    3  0.117113  0.428213\n",
       "3    4  0.097204  0.525417\n",
       "4    5  0.080679  0.606096\n",
       "5    6  0.066964  0.673060\n",
       "6    7  0.055580  0.728639\n",
       "7    8  0.046131  0.774771\n",
       "8    9  0.038289  0.813060\n",
       "9   10  0.031780  0.844840\n",
       "10  11  0.026377  0.871217\n",
       "11  12  0.021893  0.893110\n",
       "12  13  0.018171  0.911281\n",
       "13  14  0.015082  0.926363\n",
       "14  15  0.012518  0.938882\n",
       "15  16  0.010390  0.949272\n",
       "16  17  0.008624  0.957896\n",
       "17  18  0.007158  0.965053"
      ]
     },
     "execution_count": 6,
     "metadata": {},
     "output_type": "execute_result"
    }
   ],
   "source": [
    "# display the table\n",
    "df_first_mermaid"
   ]
  },
  {
   "cell_type": "markdown",
   "metadata": {},
   "source": [
    "### (c)"
   ]
  },
  {
   "cell_type": "code",
   "execution_count": 7,
   "metadata": {},
   "outputs": [
    {
     "data": {
      "text/plain": [
       "[Text(0.5, 1.0, 'Probability distribution: G(0.17)')]"
      ]
     },
     "execution_count": 7,
     "metadata": {},
     "output_type": "execute_result"
    },
    {
     "data": {
      "image/png": "[encoded data removed]",
      "text/plain": [
       "<Figure size 432x288 with 1 Axes>"
      ]
     },
     "metadata": {
      "needs_background": "light"
     },
     "output_type": "display_data"
    }
   ],
   "source": [
    "fig1 = sns.barplot(data=df_first_mermaid,\n",
    "                   x='y',\n",
    "                   y='p(y)',\n",
    "                   color='grey')\n",
    "\n",
    "fig1.set(title=\"Probability distribution: G(0.17)\")"
   ]
  },
  {
   "cell_type": "markdown",
   "metadata": {},
   "source": [
    "### (d)\n",
    "\n",
    "The mean and variance of the geometric distribution are\n",
    "\n",
    "$$\n",
    "\\begin{aligned}\n",
    "    E(Y) &= \\frac{1}{p}, \\\\\n",
    "    V(Y) &= \\frac{1 - p}{p^{2}}.\n",
    "\\end{aligned}\n",
    "$$"
   ]
  },
  {
   "cell_type": "code",
   "execution_count": 8,
   "metadata": {},
   "outputs": [
    {
     "data": {
      "text/plain": [
       "5.88235294117647"
      ]
     },
     "execution_count": 8,
     "metadata": {},
     "output_type": "execute_result"
    }
   ],
   "source": [
    "y.mean()"
   ]
  },
  {
   "cell_type": "code",
   "execution_count": 9,
   "metadata": {},
   "outputs": [
    {
     "data": {
      "text/plain": [
       "28.719723183391"
      ]
     },
     "execution_count": 9,
     "metadata": {},
     "output_type": "execute_result"
    }
   ],
   "source": [
    "y.var()"
   ]
  },
  {
   "cell_type": "markdown",
   "metadata": {},
   "source": [
    "### (e)\n",
    "\n",
    "The probability the first sky mermaid will be spotted during the seventh flight is\n",
    "\n",
    "$$\n",
    "P(Y=7) = p(7) = (0.83)^{6} 0.17 = \\ldots\n",
    "$$"
   ]
  },
  {
   "cell_type": "code",
   "execution_count": 10,
   "metadata": {},
   "outputs": [
    {
     "data": {
      "text/plain": [
       "0.05557986347272999"
      ]
     },
     "execution_count": 10,
     "metadata": {},
     "output_type": "execute_result"
    }
   ],
   "source": [
    "y.pmf(k=7)"
   ]
  },
  {
   "cell_type": "markdown",
   "metadata": {},
   "source": [
    "### (f)\n",
    "\n",
    "The probability the first sky mermaid will be spotted before or during the fifth flight is\n",
    "\n",
    "$$\n",
    "P(Y \\leq 5) = F(5) = 1 - 0.83^{5} = \\ldots\n",
    "$$"
   ]
  },
  {
   "cell_type": "code",
   "execution_count": 11,
   "metadata": {},
   "outputs": [
    {
     "data": {
      "text/plain": [
       "0.6060959357"
      ]
     },
     "execution_count": 11,
     "metadata": {},
     "output_type": "execute_result"
    }
   ],
   "source": [
    "y.cdf(x=5)"
   ]
  },
  {
   "cell_type": "markdown",
   "metadata": {},
   "source": [
    "### (g)\n",
    "\n",
    "The probability it will take seven or more flight to first spot a sky mermaid is\n",
    "\n",
    "$$P(Y \\geq 7) = 1 - P(Y \\leq 6) = 1 - F(6) = \\ldots$$"
   ]
  },
  {
   "cell_type": "code",
   "execution_count": 12,
   "metadata": {},
   "outputs": [
    {
     "data": {
      "text/plain": [
       "0.32694037336899995"
      ]
     },
     "execution_count": 12,
     "metadata": {},
     "output_type": "execute_result"
    }
   ],
   "source": [
    "y.sf(x=6)"
   ]
  }
 ],
 "metadata": {
  "kernelspec": {
   "display_name": "Python 3",
   "language": "python",
   "name": "python3"
  },
  "language_info": {
   "codemirror_mode": {
    "name": "ipython",
    "version": 3
   },
   "file_extension": ".py",
   "mimetype": "text/x-python",
   "name": "python",
   "nbconvert_exporter": "python",
   "pygments_lexer": "ipython3",
   "version": "3.8.3"
  }
 },
 "nbformat": 4,
 "nbformat_minor": 4
}
