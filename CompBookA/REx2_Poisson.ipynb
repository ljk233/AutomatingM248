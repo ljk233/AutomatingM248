{
 "cells": [
  {
   "cell_type": "markdown",
   "metadata": {},
   "source": [
    "# Poisson Distribution in R\n",
    "\n",
    "Date: 2020-11-01"
   ]
  },
  {
   "cell_type": "code",
   "execution_count": 1,
   "metadata": {},
   "outputs": [],
   "source": [
    "library(ggplot2)"
   ]
  },
  {
   "cell_type": "markdown",
   "metadata": {},
   "source": [
    "## Scenario\n",
    "\n",
    "Some of the sky mermaids are early risers.\n",
    "They are also a vocal bunch who often contact their local MP to complain as soon as they wake up.\n",
    "On a typical day, the MP receives approximately 5% of complaints from concerned sky mermaids between 4am and 5am.\n",
    "The MP would like to model the distribution of complaints received between 4am and 5am on a \"busy day\".\n",
    "It can be taken that a \"busy day\" is defined as receiving 100 complaints, and assumed that the event of receiving a complaint is independent of all other complaints.\n",
    "\n",
    "-----"
   ]
  },
  {
   "cell_type": "markdown",
   "metadata": {},
   "source": [
    "## Questions\n",
    "\n",
    "**(a)** Using the definition of a *busy day*, state the distribution that models the receipt of complaints by the local MP from sky mermaids between 4am and 5am.\n",
    "\n",
    "**(b)** State a distribution which could be used as an approximation for the complaints received.\n",
    "\n",
    "**(c)** Plot both of the distributions.\n",
    "\n",
    "**(d)** What is the probability the MP will receive seven complaints from the sky mermaids between 4am and 5am? Calculate the probability using both the Binomial and Poisson distributions\n",
    "\n",
    "**(e)** What is the probability the MP will receive no more that 10 complaints from the sky mermaids between 4am and 5am?\n",
    "\n",
    "**(f)** What is the probability the MP will receive more than five complaints between 4am and 5am?\n",
    "\n",
    "-----"
   ]
  },
  {
   "cell_type": "markdown",
   "metadata": {},
   "source": [
    "### (a)\n",
    "\n",
    "Let $X$ be a random variable that represents the number of complaints received by the MP between 4am and 5am from the sky mermaids on a busy day.\n",
    "Then $X$ can be modelled by a **binomial distribution**, with parameters $n=100$, $p=0.05$, so $X \\sim B(100,0.05)$."
   ]
  },
  {
   "cell_type": "markdown",
   "metadata": {},
   "source": [
    "### (b)\n",
    "\n",
    "For large values of $n$ and small values of $p$, a random variable following the **binomial distribution**, $B(n, p)$, has approximately the same distribution as a random variable following the **Poisson distribution** with parameter $np$, so $B(n, p) \\approx Poisson(np)$.\n",
    "\n",
    "Given this, if the MP receives 100 complaints on a busy day, 5% of which arrive between 4am and 5am, then\n",
    "\n",
    "$$\n",
    "B(100, 0.05) \\approx Poisson(5).\n",
    "$$"
   ]
  },
  {
   "cell_type": "markdown",
   "metadata": {},
   "source": [
    "### (c)"
   ]
  },
  {
   "cell_type": "code",
   "execution_count": 2,
   "metadata": {},
   "outputs": [],
   "source": [
    "x <- c(0:30)"
   ]
  },
  {
   "cell_type": "code",
   "execution_count": 3,
   "metadata": {},
   "outputs": [],
   "source": [
    "df_complaints <- data.frame(x)"
   ]
  },
  {
   "cell_type": "code",
   "execution_count": 4,
   "metadata": {},
   "outputs": [],
   "source": [
    "df_complaints$pmf_binom <- dbinom(x = x, size = 100, p = 0.05)"
   ]
  },
  {
   "cell_type": "code",
   "execution_count": 5,
   "metadata": {},
   "outputs": [],
   "source": [
    "df_complaints$pmf_pois <- dpois(x=x, lambda = 5)"
   ]
  },
  {
   "cell_type": "code",
   "execution_count": 6,
   "metadata": {},
   "outputs": [
    {
     "data": {
      "image/png": "[encoded data removed]",
      "text/plain": [
       "plot without title"
      ]
     },
     "metadata": {
      "image/png": {
       "height": 420,
       "width": 420
      }
     },
     "output_type": "display_data"
    }
   ],
   "source": [
    "ggplot(data = df_complaints) +\n",
    "  geom_col(mapping = aes(x = x, y = pmf_binom)) +\n",
    "  theme_bw() +\n",
    "  labs(title = \"Binomial distribution: B(100, 0.05)\",\n",
    "       y = \"p(x)\"\n",
    "  )"
   ]
  },
  {
   "cell_type": "code",
   "execution_count": 7,
   "metadata": {},
   "outputs": [
    {
     "data": {
      "image/png": "[encoded data removed]",
      "text/plain": [
       "plot without title"
      ]
     },
     "metadata": {
      "image/png": {
       "height": 420,
       "width": 420
      }
     },
     "output_type": "display_data"
    }
   ],
   "source": [
    "ggplot(data = df_complaints) +\n",
    "  geom_col(mapping = aes(x = x, y = pmf_pois)) +\n",
    "  theme_bw() +\n",
    "  labs(title = \"Probability distribution: Poisson(5)\",\n",
    "       y = \"p(x)\"\n",
    "  )"
   ]
  },
  {
   "cell_type": "markdown",
   "metadata": {},
   "source": [
    "### (d)\n",
    "\n",
    "The probability the MP receives seven complaints between 4am and 5am is"
   ]
  },
  {
   "cell_type": "markdown",
   "metadata": {},
   "source": [
    "#### Binomial\n",
    "\n",
    "$$\n",
    "P(X = 20) = p(20) = \\binom{100}{7}0.05^{7}0.95^{93} = \\ldots\n",
    "$$"
   ]
  },
  {
   "cell_type": "code",
   "execution_count": 8,
   "metadata": {},
   "outputs": [
    {
     "data": {
      "text/html": [
       "0.106025537364789"
      ],
      "text/latex": [
       "0.106025537364789"
      ],
      "text/markdown": [
       "0.106025537364789"
      ],
      "text/plain": [
       "[1] 0.1060255"
      ]
     },
     "metadata": {},
     "output_type": "display_data"
    }
   ],
   "source": [
    "dbinom(x = 7, size = 100, p = 0.05)"
   ]
  },
  {
   "cell_type": "markdown",
   "metadata": {},
   "source": [
    "#### Poisson\n",
    "\n",
    "The probability the MP receives seven complaints between 4am and 5am is\n",
    "\n",
    "$$\n",
    "P(X = 20) = p(20) = e^{-5} \\bigg( \\frac{5^{7}}{7!} \\bigg) = \\ldots\n",
    "$$"
   ]
  },
  {
   "cell_type": "code",
   "execution_count": 9,
   "metadata": {},
   "outputs": [
    {
     "data": {
      "text/html": [
       "0.104444862957054"
      ],
      "text/latex": [
       "0.104444862957054"
      ],
      "text/markdown": [
       "0.104444862957054"
      ],
      "text/plain": [
       "[1] 0.1044449"
      ]
     },
     "metadata": {},
     "output_type": "display_data"
    }
   ],
   "source": [
    "dpois(x = 7, lambda = 5)"
   ]
  },
  {
   "cell_type": "markdown",
   "metadata": {},
   "source": [
    "### (e)\n",
    "\n",
    "The probability the MP receives no more than 10 complaints from the sky mermaids between 4am and 5am is"
   ]
  },
  {
   "cell_type": "markdown",
   "metadata": {},
   "source": [
    "#### Binomial\n",
    "\n",
    "$$\n",
    "P(X \\leq 10) = F(10) = \\sum_{k=0}^{10} \\binom{100}{k}0.05^{k}0.95^{n-k} = \\ldots\n",
    "$$"
   ]
  },
  {
   "cell_type": "code",
   "execution_count": 11,
   "metadata": {},
   "outputs": [
    {
     "data": {
      "text/html": [
       "0.988527589932515"
      ],
      "text/latex": [
       "0.988527589932515"
      ],
      "text/markdown": [
       "0.988527589932515"
      ],
      "text/plain": [
       "[1] 0.9885276"
      ]
     },
     "metadata": {},
     "output_type": "display_data"
    }
   ],
   "source": [
    "pbinom(q = 10, size = 100, p = 0.05)"
   ]
  },
  {
   "cell_type": "markdown",
   "metadata": {},
   "source": [
    "#### Poisson\n",
    "\n",
    "$$\n",
    "P(X \\leq 10) = F(10) = e^{-5} \\sum_{k=0}^{10} \\frac{5^{k}}{k!} = \\ldots\n",
    "$$"
   ]
  },
  {
   "cell_type": "code",
   "execution_count": 12,
   "metadata": {},
   "outputs": [
    {
     "data": {
      "text/html": [
       "0.986304731401617"
      ],
      "text/latex": [
       "0.986304731401617"
      ],
      "text/markdown": [
       "0.986304731401617"
      ],
      "text/plain": [
       "[1] 0.9863047"
      ]
     },
     "metadata": {},
     "output_type": "display_data"
    }
   ],
   "source": [
    "ppois(q = 10,lambda = 5)"
   ]
  },
  {
   "cell_type": "markdown",
   "metadata": {},
   "source": [
    "### (f)\n",
    "\n",
    "The probability the MP will receive more than five complaints between 4am and 5am is"
   ]
  },
  {
   "cell_type": "markdown",
   "metadata": {},
   "source": [
    "#### Binomial \n",
    "\n",
    "$$\n",
    "P(X > 5) = 1 - F(5) = 1 - \\sum_{k=0}^{5} \\binom{100}{k}0.05^{k}0.95^{n-k} = \\ldots\n",
    "$$"
   ]
  },
  {
   "cell_type": "code",
   "execution_count": 13,
   "metadata": {},
   "outputs": [
    {
     "data": {
      "text/html": [
       "0.384000872043859"
      ],
      "text/latex": [
       "0.384000872043859"
      ],
      "text/markdown": [
       "0.384000872043859"
      ],
      "text/plain": [
       "[1] 0.3840009"
      ]
     },
     "metadata": {},
     "output_type": "display_data"
    }
   ],
   "source": [
    "pbinom(q = 5, size = 100, p = 0.05, lower.tail = FALSE)"
   ]
  },
  {
   "cell_type": "markdown",
   "metadata": {},
   "source": [
    "#### Poisson\n",
    "\n",
    "$$\n",
    "P(X > 5) = 1 - F(5) = 1 - \\bigg( e^{-5} \\sum_{k=0}^{5} \\frac{5^{k}}{k!} \\bigg) = \\ldots\n",
    "$$"
   ]
  },
  {
   "cell_type": "code",
   "execution_count": 14,
   "metadata": {},
   "outputs": [
    {
     "data": {
      "text/html": [
       "0.384039345166937"
      ],
      "text/latex": [
       "0.384039345166937"
      ],
      "text/markdown": [
       "0.384039345166937"
      ],
      "text/plain": [
       "[1] 0.3840393"
      ]
     },
     "metadata": {},
     "output_type": "display_data"
    }
   ],
   "source": [
    "ppois(q = 5,lambda = 5, lower.tail = FALSE)"
   ]
  }
 ],
 "metadata": {
  "kernelspec": {
   "display_name": "R 4.0.3",
   "language": "R",
   "name": "ir403"
  },
  "language_info": {
   "codemirror_mode": "r",
   "file_extension": ".r",
   "mimetype": "text/x-r-source",
   "name": "R",
   "pygments_lexer": "r",
   "version": "4.0.3"
  }
 },
 "nbformat": 4,
 "nbformat_minor": 4
}
