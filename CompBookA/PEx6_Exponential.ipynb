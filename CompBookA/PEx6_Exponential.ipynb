{
 "cells": [
  {
   "cell_type": "markdown",
   "metadata": {},
   "source": [
    "# Exponential Distribution"
   ]
  },
  {
   "cell_type": "code",
   "execution_count": 1,
   "metadata": {},
   "outputs": [],
   "source": [
    "import scipy.stats as stats\n",
    "import pandas as pd\n",
    "import numpy as np\n",
    "import seaborn as sns"
   ]
  },
  {
   "cell_type": "markdown",
   "metadata": {},
   "source": [
    "## Scenario\n",
    "\n",
    "> Some of the sky mermaids are early risers.\n",
    "> They are also a vocal bunch who often contact their local MP to complain as soon as they wake up.\n",
    ">\n",
    "> On a typical day, the MP receives approximately 5 complaints from the sky mermaids between 4am and 5am.\n",
    ">\n",
    "> The MP decides to start work early so they can deal with the complaints as they arrive.\n",
    "\n",
    "-----"
   ]
  },
  {
   "cell_type": "markdown",
   "metadata": {},
   "source": [
    "## Questions\n",
    "\n",
    "**(a)** State the model that best describes the waiting time between complaints for the MP, if they were to log on to their computer at 4am.\n",
    "\n",
    "**(b)** Plot the distribution.\n",
    "\n",
    "**(c)** The MP becomes stressed if they receive a complaint whilst still answering the previous complaint.\n",
    "They estimate it takes them on average 4 minutes to answer a complaint.\n",
    "\n",
    "What is the probability they will receive a complaint during the time they are answering another complaint?\n",
    "\n",
    "**(d)** During the hour, the MP plans to make themselves some breakfast.\n",
    "They estimate it will take them 12 minutes to make a bacon sandwich.\n",
    "\n",
    "Assuming they begin to make the sandwich immediately after receiving a complaint, what is the probability they do not receive another complaint during the time they are away?\n",
    "\n",
    "-----"
   ]
  },
  {
   "cell_type": "markdown",
   "metadata": {},
   "source": [
    "### (a)\n",
    "\n",
    "Let $T$ be a random variable that represents the waiting time between successive complaints.\n",
    "The MP receives on average 5 complaints between 4am and 5am.\n",
    "Therefore $T$ is modelled by the exponential distribution with parameter $\\lambda=5$, so $T \\sim M(5)$."
   ]
  },
  {
   "cell_type": "markdown",
   "metadata": {},
   "source": [
    "Let us declare the exponential distribution.\n",
    "Note that parameter `scale` should be set to $1/\\lambda$"
   ]
  },
  {
   "cell_type": "code",
   "execution_count": 2,
   "metadata": {},
   "outputs": [],
   "source": [
    "t = stats.expon(scale=1/5)"
   ]
  },
  {
   "cell_type": "markdown",
   "metadata": {},
   "source": [
    "### (b)"
   ]
  },
  {
   "cell_type": "code",
   "execution_count": 3,
   "metadata": {},
   "outputs": [],
   "source": [
    "range_t = np.arange(start=0, stop=1, step=0.001)"
   ]
  },
  {
   "cell_type": "code",
   "execution_count": 4,
   "metadata": {},
   "outputs": [],
   "source": [
    "df_earlyComplaints = pd.DataFrame(data=range_t, columns={'t'})"
   ]
  },
  {
   "cell_type": "code",
   "execution_count": 5,
   "metadata": {},
   "outputs": [],
   "source": [
    "df_earlyComplaints['f(t)'] = t.pdf(x=range_t)"
   ]
  },
  {
   "cell_type": "code",
   "execution_count": 6,
   "metadata": {},
   "outputs": [
    {
     "data": {
      "text/plain": [
       "[Text(0.5, 1.0, 'Probability distribution: : M(5)')]"
      ]
     },
     "execution_count": 6,
     "metadata": {},
     "output_type": "execute_result"
    },
    {
     "data": {
      "image/png": "[encoded data removed]",
      "text/plain": [
       "<Figure size 432x288 with 1 Axes>"
      ]
     },
     "metadata": {
      "needs_background": "light"
     },
     "output_type": "display_data"
    }
   ],
   "source": [
    "ax1 = sns.lineplot(data=df_earlyComplaints,\n",
    "                   x='t',\n",
    "                   y='f(t)',\n",
    "                   color=\"grey\")\n",
    "\n",
    "ax1.set(title=\"Probability distribution: : M(5)\")"
   ]
  },
  {
   "cell_type": "markdown",
   "metadata": {},
   "source": [
    "### (c)\n",
    "\n",
    "The probability the MP will receive a complaint during the time they answering another complaint, given that it takes them\n",
    "\n",
    "$$\n",
    "4 \\text{ minutes} = \\frac{4}{60} = \\frac{1}{15} \\text{ hours}\n",
    "$$\n",
    "\n",
    "to answer a complaint is\n",
    "\n",
    "$$\n",
    "P\\bigg( T < \\frac{1}{15} \\bigg) = 1 - e^{\\frac{-\\lambda}{15}} = \\ldots\n",
    "$$"
   ]
  },
  {
   "cell_type": "code",
   "execution_count": 7,
   "metadata": {},
   "outputs": [
    {
     "data": {
      "text/plain": [
       "0.28346868942621073"
      ]
     },
     "execution_count": 7,
     "metadata": {},
     "output_type": "execute_result"
    }
   ],
   "source": [
    "t.cdf(x=1/15)"
   ]
  },
  {
   "cell_type": "markdown",
   "metadata": {},
   "source": [
    "### (d)\n",
    "\n",
    "The probability they will not receive a complaint during the time they are away making breakfast, given that it takes them\n",
    "\n",
    "$$\n",
    "12 \\text{ minutes} = \\frac{12}{60} = \\frac{1}{5} \\text{ hours}\n",
    "$$\n",
    "\n",
    "to make a bacon sandwich is\n",
    "\n",
    "$$\n",
    "P\\bigg( T > \\frac{1}{5} \\bigg) = 1 - P\\bigg( T < \\frac{1}{5} \\bigg) = 1 - F\\bigg( \\frac{1}{5} \\bigg) = 1 - (1 - e^{\\frac{-\\lambda}{5}}) = e^{\\frac{-\\lambda}{5}} = \\ldots\n",
    "$$"
   ]
  },
  {
   "cell_type": "code",
   "execution_count": 8,
   "metadata": {},
   "outputs": [
    {
     "data": {
      "text/plain": [
       "0.36787944117144233"
      ]
     },
     "execution_count": 8,
     "metadata": {},
     "output_type": "execute_result"
    }
   ],
   "source": [
    "t.sf(x=0.2)"
   ]
  }
 ],
 "metadata": {
  "kernelspec": {
   "display_name": "Python 3",
   "language": "python",
   "name": "python3"
  },
  "language_info": {
   "codemirror_mode": {
    "name": "ipython",
    "version": 3
   },
   "file_extension": ".py",
   "mimetype": "text/x-python",
   "name": "python",
   "nbconvert_exporter": "python",
   "pygments_lexer": "ipython3",
   "version": "3.8.3"
  }
 },
 "nbformat": 4,
 "nbformat_minor": 4
}
