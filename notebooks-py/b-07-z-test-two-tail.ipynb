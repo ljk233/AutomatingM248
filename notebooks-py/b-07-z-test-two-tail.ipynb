{
 "cells": [
  {
   "cell_type": "markdown",
   "metadata": {},
   "source": [
    "# Hypthesis test: a two-sided $z$-test\n",
    "\n",
    "**date**\n",
    ": 2021-04-17\n",
    "\n",
    "**data**\n",
    ": `practical-test.csv`\n",
    "\n",
    "**ref**\n",
    ": Computer book B, Activity 23\n",
    "\n",
    "**desc**\n",
    ": Performing a two-sided $z$-**test of a population mean**"
   ]
  },
  {
   "cell_type": "code",
   "execution_count": 1,
   "metadata": {},
   "outputs": [],
   "source": [
    "from scripts.data import Data\n",
    "from statsmodels.stats.weightstats import ztest"
   ]
  },
  {
   "cell_type": "code",
   "execution_count": 2,
   "metadata": {},
   "outputs": [],
   "source": [
    "practical = Data.load_practical_test()"
   ]
  },
  {
   "source": [
    "The sample contains the pass rates for 316 UK driving practical test centres over the period April 2014 to March 2015.\n",
    "The first column (`Centre`) lists the 316 test centres; the second and third columns (`Male` and `Female`) contain the pass rates (%) for males and females, respectively, at each centre; and the fourth column (`Total`) contains the overall pass rates (%) for each centre.\n",
    "\n",
    "During the period April 2013 to March 2014, the national driving practical test pass rate was 47.1%."
   ],
   "cell_type": "markdown",
   "metadata": {}
  },
  {
   "source": [
    "Let the hypotheses be\n",
    "\n",
    "$$\n",
    "\\begin{aligned}\n",
    "  &H_{0} : \\mu = 47.1\\% \\\\\n",
    "  &H_{1} : \\mu \\neq 47.1\\%,\n",
    "\\end{aligned}\n",
    "$$\n",
    "\n",
    "where $\\mu$ is the mean total pass rate for the driving practical test nationally across all UK test centres during the period April 2014 to March 2015."
   ],
   "cell_type": "markdown",
   "metadata": {}
  },
  {
   "cell_type": "code",
   "execution_count": 3,
   "metadata": {},
   "outputs": [],
   "source": [
    "# declare two local vars for easier coding\n",
    "total = practical[\"Total\"]"
   ]
  },
  {
   "cell_type": "code",
   "execution_count": 4,
   "metadata": {},
   "outputs": [
    {
     "output_type": "execute_result",
     "data": {
      "text/plain": [
       "count    316.000000\n",
       "mean      49.630380\n",
       "std        7.165444\n",
       "min       30.300000\n",
       "25%       44.975000\n",
       "50%       49.650000\n",
       "75%       54.500000\n",
       "max       71.300000\n",
       "Name: Total, dtype: float64"
      ]
     },
     "metadata": {},
     "execution_count": 4
    }
   ],
   "source": [
    "total.describe()"
   ]
  },
  {
   "source": [
    "We will use `statsmodels.stats.weightstats.ztest` to help with this analysis."
   ],
   "cell_type": "markdown",
   "metadata": {}
  },
  {
   "cell_type": "code",
   "execution_count": 5,
   "metadata": {},
   "outputs": [
    {
     "output_type": "execute_result",
     "data": {
      "text/plain": [
       "(6.277491911091587, 3.440781584872767e-10)"
      ]
     },
     "metadata": {},
     "execution_count": 5
    }
   ],
   "source": [
    "# returns (z, p)\n",
    "ztest(\n",
    "    x1=total,\n",
    "    value=47.1\n",
    ")"
   ]
  },
  {
   "source": [
    "Since $p <$ 0.01, there is strong evidence against the null hypothesis that the mean pass rate for the driving practical test nationally from April 2014 to March 2015 is the same as the national pass rate over the same period in the previous year.\n",
    "\n",
    "Further, since $z \\simeq$ 6.28, is positive, or equivalently because the sample mean, 49.629, is greater than the hypothesised population mean 47.1, the test suggests that the mean pass rate nationally over the period April 2014 to March 2015 is higher than the national pass rate over the same period in the previous year."
   ],
   "cell_type": "markdown",
   "metadata": {}
  },
  {
   "cell_type": "code",
   "execution_count": 6,
   "metadata": {},
   "outputs": [
    {
     "output_type": "stream",
     "name": "stdout",
     "text": [
      "Help on function ztest in module statsmodels.stats.weightstats:\n\nztest(x1, x2=None, value=0, alternative='two-sided', usevar='pooled', ddof=1.0)\n    test for mean based on normal distribution, one or two samples\n    \n    In the case of two samples, the samples are assumed to be independent.\n    \n    Parameters\n    ----------\n    x1 : array_like, 1-D or 2-D\n        first of the two independent samples\n    x2 : array_like, 1-D or 2-D\n        second of the two independent samples\n    value : float\n        In the one sample case, value is the mean of x1 under the Null\n        hypothesis.\n        In the two sample case, value is the difference between mean of x1 and\n        mean of x2 under the Null hypothesis. The test statistic is\n        `x1_mean - x2_mean - value`.\n    alternative : str\n        The alternative hypothesis, H1, has to be one of the following\n    \n           'two-sided': H1: difference in means not equal to value (default)\n           'larger' :   H1: difference in means larger than value\n           'smaller' :  H1: difference in means smaller than value\n    \n    usevar : str, 'pooled'\n        Currently, only 'pooled' is implemented.\n        If ``pooled``, then the standard deviation of the samples is assumed to be\n        the same. see CompareMeans.ztest_ind for different options.\n    ddof : int\n        Degrees of freedom use in the calculation of the variance of the mean\n        estimate. In the case of comparing means this is one, however it can\n        be adjusted for testing other statistics (proportion, correlation)\n    \n    Returns\n    -------\n    tstat : float\n        test statistic\n    pvalue : float\n        pvalue of the t-test\n    \n    Notes\n    -----\n    usevar not implemented, is always pooled in two sample case\n    use CompareMeans instead.\n\n"
     ]
    }
   ],
   "source": [
    "help(ztest)"
   ]
  },
  {
   "cell_type": "code",
   "execution_count": null,
   "metadata": {},
   "outputs": [],
   "source": []
  }
 ],
 "metadata": {
  "kernelspec": {
   "name": "python383jvsc74a57bd0ff1f241afc5a4c2e07811e38e6858495d05af165b3766e4314a3d7953c54c6af",
   "display_name": "Python 3.8.3 64-bit"
  },
  "language_info": {
   "codemirror_mode": {
    "name": "ipython",
    "version": 3
   },
   "file_extension": ".py",
   "mimetype": "text/x-python",
   "name": "python",
   "nbconvert_exporter": "python",
   "pygments_lexer": "ipython3",
   "version": "3.8.3"
  },
  "metadata": {
   "interpreter": {
    "hash": "ff1f241afc5a4c2e07811e38e6858495d05af165b3766e4314a3d7953c54c6af"
   }
  }
 },
 "nbformat": 4,
 "nbformat_minor": 4
}