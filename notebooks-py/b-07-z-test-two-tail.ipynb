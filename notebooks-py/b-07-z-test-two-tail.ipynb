{
 "cells": [
  {
   "cell_type": "markdown",
   "metadata": {},
   "source": [
    "# Two-sided $z$-test\n",
    "\n",
    "**date**\n",
    ": 2021-04-17\n",
    "\n",
    "**data**\n",
    ": `practical-test.csv`\n",
    "\n",
    "**module**\n",
    ": `statsmodels.stats.weightstats.ztest`\n",
    "\n",
    "**ref**\n",
    ": Computer book B, Activity 23\n",
    "\n",
    "**desc**\n",
    ": Performing a two-sided $z$-test of a population mean."
   ]
  },
  {
   "source": [
    "## Import the modules"
   ],
   "cell_type": "markdown",
   "metadata": {}
  },
  {
   "cell_type": "code",
   "execution_count": 1,
   "metadata": {},
   "outputs": [],
   "source": [
    "import src.load\n",
    "from statsmodels.stats.weightstats import ztest"
   ]
  },
  {
   "source": [
    "## Import the data"
   ],
   "cell_type": "markdown",
   "metadata": {}
  },
  {
   "cell_type": "code",
   "execution_count": 2,
   "metadata": {},
   "outputs": [],
   "source": [
    "sample = src.load.practical_test()"
   ]
  },
  {
   "cell_type": "code",
   "execution_count": 3,
   "metadata": {},
   "outputs": [
    {
     "output_type": "execute_result",
     "data": {
      "text/plain": [
       "                  Centre  Male  Female  Total\n",
       "0         Aberdeen North  49.9    41.7   45.6\n",
       "1  Aberdeen South (Cove)  50.9    43.9   47.2\n",
       "2            Abergavenny  60.5    53.5   56.8\n",
       "3            Aberystwyth  62.5    53.2   57.7\n",
       "4                Airdrie  47.2    38.9   42.7"
      ],
      "text/html": "<div>\n<style scoped>\n    .dataframe tbody tr th:only-of-type {\n        vertical-align: middle;\n    }\n\n    .dataframe tbody tr th {\n        vertical-align: top;\n    }\n\n    .dataframe thead th {\n        text-align: right;\n    }\n</style>\n<table border=\"1\" class=\"dataframe\">\n  <thead>\n    <tr style=\"text-align: right;\">\n      <th></th>\n      <th>Centre</th>\n      <th>Male</th>\n      <th>Female</th>\n      <th>Total</th>\n    </tr>\n  </thead>\n  <tbody>\n    <tr>\n      <th>0</th>\n      <td>Aberdeen North</td>\n      <td>49.9</td>\n      <td>41.7</td>\n      <td>45.6</td>\n    </tr>\n    <tr>\n      <th>1</th>\n      <td>Aberdeen South (Cove)</td>\n      <td>50.9</td>\n      <td>43.9</td>\n      <td>47.2</td>\n    </tr>\n    <tr>\n      <th>2</th>\n      <td>Abergavenny</td>\n      <td>60.5</td>\n      <td>53.5</td>\n      <td>56.8</td>\n    </tr>\n    <tr>\n      <th>3</th>\n      <td>Aberystwyth</td>\n      <td>62.5</td>\n      <td>53.2</td>\n      <td>57.7</td>\n    </tr>\n    <tr>\n      <th>4</th>\n      <td>Airdrie</td>\n      <td>47.2</td>\n      <td>38.9</td>\n      <td>42.7</td>\n    </tr>\n  </tbody>\n</table>\n</div>"
     },
     "metadata": {},
     "execution_count": 3
    }
   ],
   "source": [
    "sample.head()"
   ]
  },
  {
   "cell_type": "code",
   "execution_count": 4,
   "metadata": {},
   "outputs": [],
   "source": [
    "# declare two local vars for easier coding\n",
    "total = sample[\"Total\"]"
   ]
  },
  {
   "source": [
    "## Scenario\n",
    "\n",
    "The sample contains the pass rates for 316 UK driving practical test centres over the period April 2014 to March 2015.\n",
    "The first column (`Centre`) lists the 316 test centres; the second and third columns (`Male` and `Female`) contain the pass rates (%) for males and females, respectively, at each centre; and the fourth column (`Total`) contains the overall pass rates (%) for each centre.\n",
    "\n",
    "During the period April 2013 to March 2014, the national driving practical test pass rate was 47.1%.\n",
    "\n",
    "## Hyotheses\n",
    "\n",
    "Let the hypotheses be\n",
    "\n",
    "$$\n",
    "\\begin{aligned}\n",
    "  &H_{0} : \\mu = 47.1\\% \\\\\n",
    "  &H_{1} : \\mu \\neq 47.1\\%,\n",
    "\\end{aligned}\n",
    "$$\n",
    "\n",
    "where $\\mu$ is the mean total pass rate for the driving practical test nationally across all UK test centres during the period April 2014 to March 2015."
   ],
   "cell_type": "markdown",
   "metadata": {}
  },
  {
   "source": [
    "## Method\n",
    "\n",
    "We will use `statsmodels.stats.weightstats.ztest` to help with this analysis.\n",
    "\n",
    "## Analysis"
   ],
   "cell_type": "markdown",
   "metadata": {}
  },
  {
   "cell_type": "code",
   "execution_count": 7,
   "metadata": {},
   "outputs": [
    {
     "output_type": "execute_result",
     "data": {
      "text/plain": [
       "49.630379746835445"
      ]
     },
     "metadata": {},
     "execution_count": 7
    }
   ],
   "source": [
    "# get sample mean\n",
    "total.mean()"
   ]
  },
  {
   "cell_type": "code",
   "execution_count": 5,
   "metadata": {},
   "outputs": [
    {
     "output_type": "execute_result",
     "data": {
      "text/plain": [
       "(6.277491911091587, 3.440781584872767e-10)"
      ]
     },
     "metadata": {},
     "execution_count": 5
    }
   ],
   "source": [
    "# returns (z, p)\n",
    "ztest(\n",
    "    x1=total,\n",
    "    value=47.1\n",
    ")"
   ]
  },
  {
   "source": [
    "## Discussion\n",
    "\n",
    "Since $p <$ 0.01, there is strong evidence against the null hypothesis that the mean pass rate for the driving practical test nationally from April 2014 to March 2015 is the same as the national pass rate over the same period in the previous year.\n",
    "\n",
    "Further, since $z \\simeq$ 6.28, is positive, or equivalently because the sample mean, 49.629, is greater than the hypothesised population mean 47.1, the test suggests that the mean pass rate nationally over the period April 2014 to March 2015 is higher than the national pass rate over the same period in the previous year."
   ],
   "cell_type": "markdown",
   "metadata": {}
  },
  {
   "cell_type": "code",
   "execution_count": 6,
   "metadata": {},
   "outputs": [
    {
     "output_type": "stream",
     "name": "stdout",
     "text": [
      "Help on function ztest in module statsmodels.stats.weightstats:\n\nztest(x1, x2=None, value=0, alternative='two-sided', usevar='pooled', ddof=1.0)\n    test for mean based on normal distribution, one or two samples\n    \n    In the case of two samples, the samples are assumed to be independent.\n    \n    Parameters\n    ----------\n    x1 : array_like, 1-D or 2-D\n        first of the two independent samples\n    x2 : array_like, 1-D or 2-D\n        second of the two independent samples\n    value : float\n        In the one sample case, value is the mean of x1 under the Null\n        hypothesis.\n        In the two sample case, value is the difference between mean of x1 and\n        mean of x2 under the Null hypothesis. The test statistic is\n        `x1_mean - x2_mean - value`.\n    alternative : str\n        The alternative hypothesis, H1, has to be one of the following\n    \n           'two-sided': H1: difference in means not equal to value (default)\n           'larger' :   H1: difference in means larger than value\n           'smaller' :  H1: difference in means smaller than value\n    \n    usevar : str, 'pooled'\n        Currently, only 'pooled' is implemented.\n        If ``pooled``, then the standard deviation of the samples is assumed to be\n        the same. see CompareMeans.ztest_ind for different options.\n    ddof : int\n        Degrees of freedom use in the calculation of the variance of the mean\n        estimate. In the case of comparing means this is one, however it can\n        be adjusted for testing other statistics (proportion, correlation)\n    \n    Returns\n    -------\n    tstat : float\n        test statistic\n    pvalue : float\n        pvalue of the t-test\n    \n    Notes\n    -----\n    usevar not implemented, is always pooled in two sample case\n    use CompareMeans instead.\n\n"
     ]
    }
   ],
   "source": [
    "help(ztest)"
   ]
  }
 ],
 "metadata": {
  "kernelspec": {
   "name": "python383jvsc74a57bd0ff1f241afc5a4c2e07811e38e6858495d05af165b3766e4314a3d7953c54c6af",
   "display_name": "Python 3.8.3 64-bit"
  },
  "language_info": {
   "codemirror_mode": {
    "name": "ipython",
    "version": 3
   },
   "file_extension": ".py",
   "mimetype": "text/x-python",
   "name": "python",
   "nbconvert_exporter": "python",
   "pygments_lexer": "ipython3",
   "version": "3.8.3"
  },
  "metadata": {
   "interpreter": {
    "hash": "ff1f241afc5a4c2e07811e38e6858495d05af165b3766e4314a3d7953c54c6af"
   }
  }
 },
 "nbformat": 4,
 "nbformat_minor": 4
}