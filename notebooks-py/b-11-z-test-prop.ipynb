{
 "cells": [
  {
   "cell_type": "markdown",
   "metadata": {},
   "source": [
    "# Hypthesis test: a $z$-test of a population proportion\n",
    "\n",
    "**date**\n",
    ": 2021-04-17\n",
    "\n",
    "**data**\n",
    ": `NA`\n",
    "\n",
    "**module**\n",
    ": `statsmodels.stats.proportion.proportions_ztest`\n",
    "\n",
    "**ref**\n",
    ": Computer book B, Activity 26\n",
    "\n",
    "**desc**\n",
    ": Performing a $z$-test of a population proportion."
   ]
  },
  {
   "cell_type": "code",
   "execution_count": 1,
   "metadata": {},
   "outputs": [],
   "source": [
    "from statsmodels.stats.proportion import proportions_ztest"
   ]
  },
  {
   "source": [
    "## Introduction\n",
    "\n",
    "Data from the Labour Force Survey published in January 2014 by the UK’s Office for\n",
    "National Statistics showed that the proportion of young people surveyed $p_{W}$ aged between 20 and 34 years living with their parents in Wales was $68/254$.\n",
    "\n",
    "Let the hypotheses be\n",
    "\n",
    "$$\n",
    "H_{0} : p_{W} = 0.25, \\hspace{3mm} H_{1} : p_{W} \\neq 0.25.\n",
    "$$\n",
    "\n",
    "## Method\n",
    "\n",
    "Perform the hypothesis test using `statsmodels.stats.proportion.proportions_ztest`\n",
    "\n",
    "## Analysis"
   ],
   "cell_type": "markdown",
   "metadata": {}
  },
  {
   "cell_type": "code",
   "execution_count": 2,
   "metadata": {},
   "outputs": [
    {
     "output_type": "execute_result",
     "data": {
      "text/plain": [
       "(0.6520712004019975, 0.51435524178232)"
      ]
     },
     "metadata": {},
     "execution_count": 2
    }
   ],
   "source": [
    "proportions_ztest(\n",
    "    count=68,\n",
    "    nobs=254,\n",
    "    value=0.25,\n",
    "    prop_var=0.25\n",
    ")"
   ]
  },
  {
   "source": [
    "Note that **M248** specifies we should use the variance of $p_{0}$ as the **ESE**.\n",
    "This is why we pass $p_{0}$ as an actual argment for `prop_var`.\n",
    "\n",
    "## Discussion\n",
    "\n",
    "**N/A**"
   ],
   "cell_type": "markdown",
   "metadata": {}
  },
  {
   "cell_type": "code",
   "execution_count": 3,
   "metadata": {},
   "outputs": [
    {
     "output_type": "stream",
     "name": "stdout",
     "text": [
      "Help on function proportions_ztest in module statsmodels.stats.proportion:\n\nproportions_ztest(count, nobs, value=None, alternative='two-sided', prop_var=False)\n    Test for proportions based on normal (z) test\n    \n    Parameters\n    ----------\n    count : {int, array_like}\n        the number of successes in nobs trials. If this is array_like, then\n        the assumption is that this represents the number of successes for\n        each independent sample\n    nobs : {int, array_like}\n        the number of trials or observations, with the same length as\n        count.\n    value : float, array_like or None, optional\n        This is the value of the null hypothesis equal to the proportion in the\n        case of a one sample test. In the case of a two-sample test, the\n        null hypothesis is that prop[0] - prop[1] = value, where prop is the\n        proportion in the two samples. If not provided value = 0 and the null\n        is prop[0] = prop[1]\n    alternative : str in ['two-sided', 'smaller', 'larger']\n        The alternative hypothesis can be either two-sided or one of the one-\n        sided tests, smaller means that the alternative hypothesis is\n        ``prop < value`` and larger means ``prop > value``. In the two sample\n        test, smaller means that the alternative hypothesis is ``p1 < p2`` and\n        larger means ``p1 > p2`` where ``p1`` is the proportion of the first\n        sample and ``p2`` of the second one.\n    prop_var : False or float in (0, 1)\n        If prop_var is false, then the variance of the proportion estimate is\n        calculated based on the sample proportion. Alternatively, a proportion\n        can be specified to calculate this variance. Common use case is to\n        use the proportion under the Null hypothesis to specify the variance\n        of the proportion estimate.\n    \n    Returns\n    -------\n    zstat : float\n        test statistic for the z-test\n    p-value : float\n        p-value for the z-test\n    \n    Examples\n    --------\n    >>> count = 5\n    >>> nobs = 83\n    >>> value = .05\n    >>> stat, pval = proportions_ztest(count, nobs, value)\n    >>> print('{0:0.3f}'.format(pval))\n    0.695\n    \n    >>> import numpy as np\n    >>> from statsmodels.stats.proportion import proportions_ztest\n    >>> count = np.array([5, 12])\n    >>> nobs = np.array([83, 99])\n    >>> stat, pval = proportions_ztest(count, nobs)\n    >>> print('{0:0.3f}'.format(pval))\n    0.159\n    \n    Notes\n    -----\n    This uses a simple normal test for proportions. It should be the same as\n    running the mean z-test on the data encoded 1 for event and 0 for no event\n    so that the sum corresponds to the count.\n    \n    In the one and two sample cases with two-sided alternative, this test\n    produces the same p-value as ``proportions_chisquare``, since the\n    chisquare is the distribution of the square of a standard normal\n    distribution.\n\n"
     ]
    }
   ],
   "source": [
    "help(proportions_ztest)"
   ]
  }
 ],
 "metadata": {
  "kernelspec": {
   "name": "python383jvsc74a57bd0ff1f241afc5a4c2e07811e38e6858495d05af165b3766e4314a3d7953c54c6af",
   "display_name": "Python 3.8.3 64-bit"
  },
  "language_info": {
   "codemirror_mode": {
    "name": "ipython",
    "version": 3
   },
   "file_extension": ".py",
   "mimetype": "text/x-python",
   "name": "python",
   "nbconvert_exporter": "python",
   "pygments_lexer": "ipython3",
   "version": "3.8.3"
  },
  "metadata": {
   "interpreter": {
    "hash": "ff1f241afc5a4c2e07811e38e6858495d05af165b3766e4314a3d7953c54c6af"
   }
  }
 },
 "nbformat": 4,
 "nbformat_minor": 4
}