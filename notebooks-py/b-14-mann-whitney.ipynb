{
 "cells": [
  {
   "cell_type": "markdown",
   "metadata": {},
   "source": [
    "# Hypthesis test: Mann-Whitney test\n",
    "\n",
    "**date**\n",
    ": 2021-04-17\n",
    "\n",
    "**data**\n",
    ": `dopamine.csv`\n",
    "\n",
    "**ref**\n",
    ": Computer book B, Activity 38\n",
    "\n",
    "**desc**\n",
    ": Performing a **Mann-Whitney test**."
   ]
  },
  {
   "cell_type": "code",
   "execution_count": 1,
   "metadata": {},
   "outputs": [],
   "source": [
    "from scripts.data import Data\n",
    "from scipy.stats import mannwhitneyu"
   ]
  },
  {
   "cell_type": "code",
   "execution_count": 2,
   "metadata": {},
   "outputs": [],
   "source": [
    "sample = Data.load_dopamine()"
   ]
  },
  {
   "cell_type": "code",
   "execution_count": 3,
   "metadata": {},
   "outputs": [
    {
     "output_type": "execute_result",
     "data": {
      "text/plain": [
       "   Psychotic  Non-psychotic\n",
       "0     0.0150         0.0104\n",
       "1     0.0204         0.0105\n",
       "2     0.0208         0.0112\n",
       "3     0.0222         0.0116\n",
       "4     0.0226         0.0130"
      ],
      "text/html": "<div>\n<style scoped>\n    .dataframe tbody tr th:only-of-type {\n        vertical-align: middle;\n    }\n\n    .dataframe tbody tr th {\n        vertical-align: top;\n    }\n\n    .dataframe thead th {\n        text-align: right;\n    }\n</style>\n<table border=\"1\" class=\"dataframe\">\n  <thead>\n    <tr style=\"text-align: right;\">\n      <th></th>\n      <th>Psychotic</th>\n      <th>Non-psychotic</th>\n    </tr>\n  </thead>\n  <tbody>\n    <tr>\n      <th>0</th>\n      <td>0.0150</td>\n      <td>0.0104</td>\n    </tr>\n    <tr>\n      <th>1</th>\n      <td>0.0204</td>\n      <td>0.0105</td>\n    </tr>\n    <tr>\n      <th>2</th>\n      <td>0.0208</td>\n      <td>0.0112</td>\n    </tr>\n    <tr>\n      <th>3</th>\n      <td>0.0222</td>\n      <td>0.0116</td>\n    </tr>\n    <tr>\n      <th>4</th>\n      <td>0.0226</td>\n      <td>0.0130</td>\n    </tr>\n  </tbody>\n</table>\n</div>"
     },
     "metadata": {},
     "execution_count": 3
    }
   ],
   "source": [
    "sample.head()"
   ]
  },
  {
   "cell_type": "code",
   "execution_count": 4,
   "metadata": {},
   "outputs": [],
   "source": [
    "# declare local vars to hold the columns\n",
    "# use dropna given the sames are not equal size\n",
    "# so there will NaN values\n",
    "psy = sample[\"Psychotic\"].dropna()\n",
    "non_psy = sample[\"Non-psychotic\"].dropna()"
   ]
  },
  {
   "source": [
    "In a study into the causes of schizophrenia, 25 hospitalised patients with schizophrenia were treated with antipsychotic medication, and after a period of time were classified as psychotic or non-psychotic by hospital staff.\n",
    "A sample of cerebro-spinal fluid was taken from each patient and tested for dopamine $\\beta$-hydroxylase enzyme activity.\n",
    "The measurements are in unit **nmol/(ml)(h)/mg** of protein,\n",
    "\n",
    "Let the hypotheses be\n",
    "\n",
    "$$\n",
    "H_{0} : \\ell = 0, \\hspace{3mm} \\ell \\neq 0,\n",
    "$$\n",
    "\n",
    "where $\\ell$ is the underlying difference between the locations the populations where the samples were drawn.\n",
    "\n",
    "Perform the wilcoxon signed rank test using `scipy.stats.mannwhitneyu`."
   ],
   "cell_type": "markdown",
   "metadata": {}
  },
  {
   "cell_type": "code",
   "execution_count": 11,
   "metadata": {},
   "outputs": [
    {
     "output_type": "execute_result",
     "data": {
      "text/plain": [
       "MannwhitneyuResult(statistic=20.0, pvalue=0.0024970589395120965)"
      ]
     },
     "metadata": {},
     "execution_count": 11
    }
   ],
   "source": [
    "mannwhitneyu(\n",
    "    x=non_psy,\n",
    "    y=psy,\n",
    "    alternative=\"two-sided\"\n",
    ")"
   ]
  },
  {
   "source": [
    "Note that `\"two-side\"` should be passed as the actual argument for `alternative`, given the default is `None`.\n",
    "\n",
    "We can return the unadjusted for ties $p$-value by passing `True` as an actual argument for `use_continuity`."
   ],
   "cell_type": "markdown",
   "metadata": {}
  },
  {
   "cell_type": "code",
   "execution_count": 12,
   "metadata": {},
   "outputs": [
    {
     "output_type": "execute_result",
     "data": {
      "text/plain": [
       "MannwhitneyuResult(statistic=20.0, pvalue=0.002277481157072463)"
      ]
     },
     "metadata": {},
     "execution_count": 12
    }
   ],
   "source": [
    "mannwhitneyu(\n",
    "    x=non_psy,\n",
    "    y=psy,\n",
    "    use_continuity=False,\n",
    "    alternative=\"two-sided\"\n",
    ")"
   ]
  },
  {
   "cell_type": "code",
   "execution_count": 6,
   "metadata": {},
   "outputs": [
    {
     "output_type": "stream",
     "name": "stdout",
     "text": [
      "Help on function mannwhitneyu in module scipy.stats.stats:\n\nmannwhitneyu(x, y, use_continuity=True, alternative=None)\n    Compute the Mann-Whitney rank test on samples x and y.\n    \n    Parameters\n    ----------\n    x, y : array_like\n        Array of samples, should be one-dimensional.\n    use_continuity : bool, optional\n            Whether a continuity correction (1/2.) should be taken into\n            account. Default is True.\n    alternative : {None, 'two-sided', 'less', 'greater'}, optional\n        Defines the alternative hypothesis.\n        The following options are available (default is None):\n    \n          * None: computes p-value half the size of the 'two-sided' p-value and\n            a different U statistic. The default behavior is not the same as\n            using 'less' or 'greater'; it only exists for backward compatibility\n            and is deprecated.\n          * 'two-sided'\n          * 'less': one-sided\n          * 'greater': one-sided\n    \n        Use of the None option is deprecated.\n    \n    Returns\n    -------\n    statistic : float\n        The Mann-Whitney U statistic, equal to min(U for x, U for y) if\n        `alternative` is equal to None (deprecated; exists for backward\n        compatibility), and U for y otherwise.\n    pvalue : float\n        p-value assuming an asymptotic normal distribution. One-sided or\n        two-sided, depending on the choice of `alternative`.\n    \n    Notes\n    -----\n    Use only when the number of observation in each sample is > 20 and\n    you have 2 independent samples of ranks. Mann-Whitney U is\n    significant if the u-obtained is LESS THAN or equal to the critical\n    value of U.\n    \n    This test corrects for ties and by default uses a continuity correction.\n    \n    References\n    ----------\n    .. [1] https://en.wikipedia.org/wiki/Mann-Whitney_U_test\n    \n    .. [2] H.B. Mann and D.R. Whitney, \"On a Test of Whether one of Two Random\n           Variables is Stochastically Larger than the Other,\" The Annals of\n           Mathematical Statistics, vol. 18, no. 1, pp. 50-60, 1947.\n\n"
     ]
    }
   ],
   "source": [
    "help(mannwhitneyu)"
   ]
  }
 ],
 "metadata": {
  "kernelspec": {
   "name": "python383jvsc74a57bd0ff1f241afc5a4c2e07811e38e6858495d05af165b3766e4314a3d7953c54c6af",
   "display_name": "Python 3.8.3 64-bit"
  },
  "language_info": {
   "codemirror_mode": {
    "name": "ipython",
    "version": 3
   },
   "file_extension": ".py",
   "mimetype": "text/x-python",
   "name": "python",
   "nbconvert_exporter": "python",
   "pygments_lexer": "ipython3",
   "version": "3.8.3"
  },
  "metadata": {
   "interpreter": {
    "hash": "ff1f241afc5a4c2e07811e38e6858495d05af165b3766e4314a3d7953c54c6af"
   }
  }
 },
 "nbformat": 4,
 "nbformat_minor": 4
}