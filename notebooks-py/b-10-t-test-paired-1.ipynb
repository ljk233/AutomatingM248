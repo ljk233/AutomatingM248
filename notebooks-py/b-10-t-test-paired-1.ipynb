{
 "cells": [
  {
   "cell_type": "markdown",
   "metadata": {},
   "source": [
    "# Paired one-sample t-test\n",
    "\n",
    "**date:** 2021-04-17\n",
    "\n",
    "**aim:** Perform a paired one-sample **t-test** of the difference.\n",
    "\n",
    "**reference:** Computer book B, Activity 25(a)\n",
    "\n",
    "**data:** `darwn.csv`\n",
    "\n",
    "**description:** Heights of fifteen pairs of plants of the species *Zea mays*.\n",
    "Each plant had parents grown from the same seed, where one plant in each pair was the offspring of a cross-fertilisation, the other of a self-fertilisation.\n",
    "\n",
    "**module:** `scipy.stats.ttest_1samp`"
   ]
  },
  {
   "cell_type": "markdown",
   "metadata": {},
   "source": [
    "## Setup"
   ]
  },
  {
   "cell_type": "code",
   "execution_count": 1,
   "metadata": {},
   "outputs": [],
   "source": [
    "from setup import load\n",
    "from scipy.stats import probplot, ttest_1samp\n",
    "import seaborn as sns\n",
    "import matplotlib.pyplot as plt"
   ]
  },
  {
   "cell_type": "code",
   "execution_count": 2,
   "metadata": {},
   "outputs": [],
   "source": [
    "# import the data\n",
    "darwin = load.darwin()"
   ]
  },
  {
   "cell_type": "code",
   "execution_count": 7,
   "metadata": {},
   "outputs": [],
   "source": [
    "# assign local vars\n",
    "cross = darwin[\"Cross\"]\n",
    "self_ = darwin[\"Self\"]\n",
    "diff = cross - self_"
   ]
  },
  {
   "cell_type": "markdown",
   "metadata": {},
   "source": [
    "## Hypotheses\n",
    "\n",
    "Charles Darwin, one of the people who introduced the theory of evolution, measured the heights of fifteen pairs of plants of the species *Zea mays*, that is, maize or corn.\n",
    "Each plant had parents grown from the same seed – one plant in each pair was the offspring of a cross-fertilisation, the other of a self-fertilisation.\n",
    "\n",
    "Let the hypotheses be\n",
    "\n",
    "$$\n",
    "H_{0} : \\mu_{D} = 0, \\> \\mu_{D} > 0\n",
    "$$\n",
    "\n",
    "where $\\mu_{D}$ is the underlying population mean difference between the heights of paired plants."
   ]
  },
  {
   "cell_type": "markdown",
   "metadata": {},
   "source": [
    "## Results"
   ]
  },
  {
   "cell_type": "markdown",
   "metadata": {},
   "source": [
    "### Preview the data"
   ]
  },
  {
   "cell_type": "code",
   "execution_count": 10,
   "metadata": {},
   "outputs": [
    {
     "data": {
      "text/plain": [
       "0    49\n",
       "1   -67\n",
       "2     8\n",
       "3    16\n",
       "4     6\n",
       "dtype: int64"
      ]
     },
     "execution_count": 10,
     "metadata": {},
     "output_type": "execute_result"
    }
   ],
   "source": [
    "diff.head()"
   ]
  },
  {
   "cell_type": "markdown",
   "metadata": {},
   "source": [
    "### Summarise the data"
   ]
  },
  {
   "cell_type": "code",
   "execution_count": 9,
   "metadata": {},
   "outputs": [
    {
     "data": {
      "text/plain": [
       "count    15.000000\n",
       "mean     20.933333\n",
       "std      37.744378\n",
       "min     -67.000000\n",
       "25%      11.000000\n",
       "50%      24.000000\n",
       "75%      45.000000\n",
       "max      75.000000\n",
       "dtype: float64"
      ]
     },
     "execution_count": 9,
     "metadata": {},
     "output_type": "execute_result"
    }
   ],
   "source": [
    "diff.describe()"
   ]
  },
  {
   "cell_type": "markdown",
   "metadata": {},
   "source": [
    "### Visualise the data"
   ]
  },
  {
   "cell_type": "code",
   "execution_count": 12,
   "metadata": {},
   "outputs": [
    {
     "data": {
      "image/png": "[encoded data removed]",
      "text/plain": [
       "<Figure size 432x288 with 1 Axes>"
      ]
     },
     "metadata": {
      "needs_background": "light"
     },
     "output_type": "display_data"
    }
   ],
   "source": [
    "sns.boxplot(x = diff)\n",
    "plt.show()"
   ]
  },
  {
   "cell_type": "markdown",
   "metadata": {},
   "source": [
    "### Check assumption"
   ]
  },
  {
   "cell_type": "code",
   "execution_count": 14,
   "metadata": {},
   "outputs": [
    {
     "data": {
      "image/png": "[encoded data removed]",
      "text/plain": [
       "<Figure size 432x288 with 1 Axes>"
      ]
     },
     "metadata": {
      "needs_background": "light"
     },
     "output_type": "display_data"
    }
   ],
   "source": [
    "# check normality\n",
    "ax = plt.subplot()\n",
    "probplot(diff, plot=ax)\n",
    "plt.show()"
   ]
  },
  {
   "cell_type": "markdown",
   "metadata": {},
   "source": [
    "### Calculations"
   ]
  },
  {
   "cell_type": "code",
   "execution_count": 15,
   "metadata": {},
   "outputs": [
    {
     "data": {
      "text/plain": [
       "Ttest_1sampResult(statistic=2.1479874613311205, pvalue=0.04970294402180089)"
      ]
     },
     "execution_count": 15,
     "metadata": {},
     "output_type": "execute_result"
    }
   ],
   "source": [
    "# returns (t, p)\n",
    "ttest_1samp(a=diff, popmean=0)"
   ]
  }
 ],
 "metadata": {
  "kernelspec": {
   "display_name": "Python 3",
   "language": "python",
   "name": "python3"
  },
  "language_info": {
   "codemirror_mode": {
    "name": "ipython",
    "version": 3
   },
   "file_extension": ".py",
   "mimetype": "text/x-python",
   "name": "python",
   "nbconvert_exporter": "python",
   "pygments_lexer": "ipython3",
   "version": "3.8.3"
  },
  "metadata": {
   "interpreter": {
    "hash": "ff1f241afc5a4c2e07811e38e6858495d05af165b3766e4314a3d7953c54c6af"
   }
  }
 },
 "nbformat": 4,
 "nbformat_minor": 4
}
