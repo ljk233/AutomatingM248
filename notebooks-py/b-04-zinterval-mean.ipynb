{
 "cells": [
  {
   "cell_type": "markdown",
   "id": "e61c95ac-ea07-4181-b533-dc1a2c37ddb7",
   "metadata": {},
   "source": [
    "# Large-sample confidence intervals for a population mean"
   ]
  },
  {
   "cell_type": "markdown",
   "id": "5a7379ed-9a5b-4444-971a-ab7e2ac2a101",
   "metadata": {},
   "source": [
    "## Summary"
   ]
  },
  {
   "cell_type": "markdown",
   "id": "7f9c8173-e98b-4eef-b5cb-06c500f02d07",
   "metadata": {},
   "source": [
    "## Scenario"
   ]
  },
  {
   "cell_type": "markdown",
   "id": "3f360a46-b173-4b21-ad6d-1dddeb27fe6d",
   "metadata": {},
   "source": [
    "## Method"
   ]
  },
  {
   "cell_type": "markdown",
   "id": "2389d704-b21f-46e9-b558-aa9c7c448ebc",
   "metadata": {},
   "source": [
    "### Setup the notebook"
   ]
  },
  {
   "cell_type": "code",
   "execution_count": 1,
   "id": "2f656685-b355-4d94-86ca-96300ffc7dba",
   "metadata": {},
   "outputs": [],
   "source": [
    "# import the packages\n",
    "from src import load\n",
    "from statsmodels.stats.weightstats import DescrStatsW\n",
    "import seaborn as sns\n",
    "import matplotlib.pyplot as plt"
   ]
  },
  {
   "cell_type": "code",
   "execution_count": 2,
   "id": "77db03bf-7475-4603-bf51-5d884b9147ba",
   "metadata": {},
   "outputs": [],
   "source": [
    "# set the Seaborn theme\n",
    "sns.set_theme()"
   ]
  },
  {
   "cell_type": "markdown",
   "id": "2d72c558-92e7-4f5d-ac82-265a92868932",
   "metadata": {},
   "source": [
    "### Import the data"
   ]
  },
  {
   "cell_type": "code",
   "execution_count": 3,
   "id": "dda6d458-bd9c-49f2-ba15-b32032804437",
   "metadata": {},
   "outputs": [],
   "source": [
    "fibres = load.glass_fibres()"
   ]
  },
  {
   "cell_type": "markdown",
   "id": "b2ce0abd-5f45-4849-a422-51ab8c5c447c",
   "metadata": {},
   "source": [
    "### Visualise the data"
   ]
  },
  {
   "cell_type": "code",
   "execution_count": 4,
   "id": "403a0f6b-c2d4-4878-9935-862746aa0cb0",
   "metadata": {},
   "outputs": [
    {
     "data": {
      "image/png": "[encoded data removed]",
      "text/plain": [
       "<Figure size 432x288 with 1 Axes>"
      ]
     },
     "metadata": {},
     "output_type": "display_data"
    }
   ],
   "source": [
    "sns.histplot(data=fibres, x=\"Strength\")\n",
    "plt.show()"
   ]
  },
  {
   "cell_type": "code",
   "execution_count": 5,
   "id": "f5b7a099-3ee3-4d55-a2b0-f8b29ceff5b9",
   "metadata": {},
   "outputs": [
    {
     "data": {
      "image/png": "[encoded data removed]",
      "text/plain": [
       "<Figure size 432x288 with 1 Axes>"
      ]
     },
     "metadata": {},
     "output_type": "display_data"
    }
   ],
   "source": [
    "sns.boxplot(data=fibres, x=\"Strength\")\n",
    "plt.show()"
   ]
  },
  {
   "cell_type": "markdown",
   "id": "89694a0b-bcff-4bfc-942a-bcc2da72e4a2",
   "metadata": {},
   "source": [
    "### Return the $z$-interval"
   ]
  },
  {
   "cell_type": "code",
   "execution_count": 6,
   "id": "6bc9b9ef-6ef9-40ad-bb00-06e5a3c7d37c",
   "metadata": {},
   "outputs": [],
   "source": [
    "# declare the object\n",
    "sample = DescrStatsW(data=fibres[\"Strength\"])"
   ]
  },
  {
   "cell_type": "code",
   "execution_count": 7,
   "id": "d6e1c6b5-4f79-434e-9442-3d9529b720f0",
   "metadata": {},
   "outputs": [
    {
     "data": {
      "text/plain": [
       "(1.4267882958081481, 1.586862497842646)"
      ]
     },
     "execution_count": 7,
     "metadata": {},
     "output_type": "execute_result"
    }
   ],
   "source": [
    "# get the 95% z-interval\n",
    "sample.zconfint_mean()"
   ]
  }
 ],
 "metadata": {
  "kernelspec": {
   "display_name": "Python 3.8",
   "language": "python",
   "name": "python3"
  },
  "language_info": {
   "codemirror_mode": {
    "name": "ipython",
    "version": 3
   },
   "file_extension": ".py",
   "mimetype": "text/x-python",
   "name": "python",
   "nbconvert_exporter": "python",
   "pygments_lexer": "ipython3",
   "version": "3.8.10"
  }
 },
 "nbformat": 4,
 "nbformat_minor": 5
}
