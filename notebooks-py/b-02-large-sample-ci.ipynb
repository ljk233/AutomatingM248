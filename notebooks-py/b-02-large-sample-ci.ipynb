{
 "cells": [
  {
   "cell_type": "markdown",
   "metadata": {},
   "source": [
    "# Large-sample approximate confidence intervals for population means\n",
    "\n",
    "**date**\n",
    ": 2021-04-16\n",
    "\n",
    "**data**\n",
    ": `glass-fibres.csv`\n",
    "\n",
    "**Module.function**\n",
    ": `statsmodels.stats.weightstats.zconfint`\n",
    "\n",
    "**ref**\n",
    ": Computer book B, Activity 15\n",
    "\n",
    "**desc**\n",
    ": Calculate large-sample confidence intervals of a population mean from a sample of data."
   ]
  },
  {
   "source": [
    "## Import the modules"
   ],
   "cell_type": "markdown",
   "metadata": {}
  },
  {
   "cell_type": "code",
   "execution_count": 1,
   "metadata": {},
   "outputs": [],
   "source": [
    "import src.load\n",
    "from statsmodels.stats.weightstats import zconfint"
   ]
  },
  {
   "source": [
    "## Import the data and preview"
   ],
   "cell_type": "markdown",
   "metadata": {}
  },
  {
   "cell_type": "code",
   "execution_count": 2,
   "metadata": {},
   "outputs": [],
   "source": [
    "# load data\n",
    "sample = src.load.glass_fibres()"
   ]
  },
  {
   "source": [
    "# preview data\n",
    "sample.head()"
   ],
   "cell_type": "code",
   "metadata": {},
   "execution_count": 3,
   "outputs": [
    {
     "output_type": "execute_result",
     "data": {
      "text/plain": [
       "   Strength\n",
       "0      0.55\n",
       "1      0.74\n",
       "2      0.77\n",
       "3      0.81\n",
       "4      0.84"
      ],
      "text/html": "<div>\n<style scoped>\n    .dataframe tbody tr th:only-of-type {\n        vertical-align: middle;\n    }\n\n    .dataframe tbody tr th {\n        vertical-align: top;\n    }\n\n    .dataframe thead th {\n        text-align: right;\n    }\n</style>\n<table border=\"1\" class=\"dataframe\">\n  <thead>\n    <tr style=\"text-align: right;\">\n      <th></th>\n      <th>Strength</th>\n    </tr>\n  </thead>\n  <tbody>\n    <tr>\n      <th>0</th>\n      <td>0.55</td>\n    </tr>\n    <tr>\n      <th>1</th>\n      <td>0.74</td>\n    </tr>\n    <tr>\n      <th>2</th>\n      <td>0.77</td>\n    </tr>\n    <tr>\n      <th>3</th>\n      <td>0.81</td>\n    </tr>\n    <tr>\n      <th>4</th>\n      <td>0.84</td>\n    </tr>\n  </tbody>\n</table>\n</div>"
     },
     "metadata": {},
     "execution_count": 3
    }
   ]
  },
  {
   "source": [
    "## Calculate an approximate confidence interval\n",
    "\n",
    "Note that formal argument `alpha` should be the $\\alpha$ in $100(1-\\alpha)%$**% CI**."
   ],
   "cell_type": "markdown",
   "metadata": {}
  },
  {
   "cell_type": "code",
   "execution_count": 4,
   "metadata": {},
   "outputs": [
    {
     "output_type": "execute_result",
     "data": {
      "text/plain": [
       "(1.4396561442588514, 1.573994649391942)"
      ]
     },
     "metadata": {},
     "execution_count": 4
    }
   ],
   "source": [
    "zconfint(\n",
    "    x1=sample[\"Strength\"],\n",
    "    alpha=0.1   # 100(1-alpha)%\n",
    ")"
   ]
  },
  {
   "cell_type": "code",
   "execution_count": 5,
   "metadata": {},
   "outputs": [
    {
     "output_type": "stream",
     "name": "stdout",
     "text": [
      "Help on function zconfint in module statsmodels.stats.weightstats:\n\nzconfint(x1, x2=None, value=0, alpha=0.05, alternative='two-sided', usevar='pooled', ddof=1.0)\n    confidence interval based on normal distribution z-test\n    \n    Parameters\n    ----------\n    x1 : array_like, 1-D or 2-D\n        first of the two independent samples, see notes for 2-D case\n    x2 : array_like, 1-D or 2-D\n        second of the two independent samples, see notes for 2-D case\n    value : float\n        In the one sample case, value is the mean of x1 under the Null\n        hypothesis.\n        In the two sample case, value is the difference between mean of x1 and\n        mean of x2 under the Null hypothesis. The test statistic is\n        `x1_mean - x2_mean - value`.\n    usevar : str, 'pooled'\n        Currently, only 'pooled' is implemented.\n        If ``pooled``, then the standard deviation of the samples is assumed to be\n        the same. see CompareMeans.ztest_ind for different options.\n    ddof : int\n        Degrees of freedom use in the calculation of the variance of the mean\n        estimate. In the case of comparing means this is one, however it can\n        be adjusted for testing other statistics (proportion, correlation)\n    \n    Notes\n    -----\n    checked only for 1 sample case\n    \n    usevar not implemented, is always pooled in two sample case\n    \n    ``value`` shifts the confidence interval so it is centered at\n    `x1_mean - x2_mean - value`\n    \n    See Also\n    --------\n    ztest\n    CompareMeans\n\n"
     ]
    }
   ],
   "source": [
    "help(zconfint)"
   ]
  }
 ],
 "metadata": {
  "kernelspec": {
   "name": "python383jvsc74a57bd0ff1f241afc5a4c2e07811e38e6858495d05af165b3766e4314a3d7953c54c6af",
   "display_name": "Python 3.8.3 64-bit"
  },
  "language_info": {
   "codemirror_mode": {
    "name": "ipython",
    "version": 3
   },
   "file_extension": ".py",
   "mimetype": "text/x-python",
   "name": "python",
   "nbconvert_exporter": "python",
   "pygments_lexer": "ipython3",
   "version": "3.8.3"
  },
  "metadata": {
   "interpreter": {
    "hash": "ff1f241afc5a4c2e07811e38e6858495d05af165b3766e4314a3d7953c54c6af"
   }
  }
 },
 "nbformat": 4,
 "nbformat_minor": 4
}