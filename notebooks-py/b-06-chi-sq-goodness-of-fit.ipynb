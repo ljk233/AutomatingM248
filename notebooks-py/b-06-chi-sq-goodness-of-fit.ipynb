{
 "cells": [
  {
   "cell_type": "markdown",
   "metadata": {},
   "source": [
    "# Chi-square goodness-of-fit test\n",
    "\n",
    "**date** : 2021-04-18\n",
    "\n",
    "**aim** : Perform a **chi-square** goodness-of-fit test.\n",
    "\n",
    "**reference** : N/A"
   ]
  },
  {
   "cell_type": "markdown",
   "metadata": {},
   "source": [
    "## 1. Setup the notebook"
   ]
  },
  {
   "cell_type": "code",
   "execution_count": 1,
   "metadata": {},
   "outputs": [],
   "source": [
    "from src import load\n",
    "from scipy.stats import chisquare\n",
    "import seaborn as sns\n",
    "import matplotlib.pyplot as plt"
   ]
  },
  {
   "cell_type": "markdown",
   "metadata": {},
   "source": [
    "## 2. Chi-square goodness-of-fit test\n",
    "\n",
    "**aim** : Analyse whether it is reasonable to claim that the total number of goals scored per ten minute period in a football game is unifomally distributed across all nine periods.\n",
    "\n",
    "**data** : uniform_goal.csv\n",
    "\n",
    "**description** : Data on the total number of goals scored per ten minute period in an English Premier League football season in normal time in season 18-19."
   ]
  },
  {
   "cell_type": "markdown",
   "metadata": {},
   "source": [
    "### 2.1 Import the data"
   ]
  },
  {
   "cell_type": "code",
   "execution_count": 2,
   "metadata": {},
   "outputs": [],
   "source": [
    "# import the data\n",
    "goals = load.uniform_goals()"
   ]
  },
  {
   "cell_type": "code",
   "execution_count": 3,
   "metadata": {},
   "outputs": [],
   "source": [
    "# assign local vars\n",
    "group = goals[\"group\"]\n",
    "obs = goals[\"obs\"]"
   ]
  },
  {
   "cell_type": "markdown",
   "metadata": {},
   "source": [
    "### 2.2 Visualise the data"
   ]
  },
  {
   "cell_type": "code",
   "execution_count": 4,
   "metadata": {},
   "outputs": [
    {
     "data": {
      "image/png": "[encoded data removed]",
      "text/plain": [
       "<Figure size 432x288 with 1 Axes>"
      ]
     },
     "metadata": {
      "needs_background": "light"
     },
     "output_type": "display_data"
    }
   ],
   "source": [
    "sns.barplot(data=goals, x=\"group\", y=\"obs\", color=\"cornflowerblue\")\n",
    "plt.show()"
   ]
  },
  {
   "cell_type": "markdown",
   "metadata": {},
   "source": [
    "### 2.3 Perform the test"
   ]
  },
  {
   "cell_type": "code",
   "execution_count": 5,
   "metadata": {},
   "outputs": [
    {
     "data": {
      "text/plain": [
       "Power_divergenceResult(statistic=16.71165644171779, pvalue=0.033255616570006946)"
      ]
     },
     "execution_count": 5,
     "metadata": {},
     "output_type": "execute_result"
    }
   ],
   "source": [
    "chisquare(f_obs=obs)"
   ]
  },
  {
   "cell_type": "markdown",
   "metadata": {},
   "source": [
    "#### 2.4 Plot the results of the test\n",
    "\n",
    "Plot a side-by-side bar chart showing the **observed** and **expected** number of goals.\n",
    "\n",
    "Expected number of goals is **n Pr,** here **n** is the total number of goals scored in the observatation, and **Pr** is the probability of a goals being scored in a particular group.\n",
    "As the proposed distribution is a **discrete uniform,** each grouping should have the same probability of an event.\n",
    "There are nine groups."
   ]
  },
  {
   "cell_type": "code",
   "execution_count": 6,
   "metadata": {},
   "outputs": [],
   "source": [
    "pr = 1/9  # probability goal is scored\n",
    "n = obs.sum()  # goals scored in period"
   ]
  },
  {
   "cell_type": "code",
   "execution_count": 7,
   "metadata": {},
   "outputs": [],
   "source": [
    "# add expected goals to dataframe\n",
    "goals[\"exp\"] = n*pr"
   ]
  },
  {
   "cell_type": "code",
   "execution_count": 8,
   "metadata": {},
   "outputs": [],
   "source": [
    "# melt the data into long format\n",
    "mgoals = goals.melt(id_vars=\"group\", value_vars=[\"obs\", \"exp\"])"
   ]
  },
  {
   "cell_type": "code",
   "execution_count": 9,
   "metadata": {},
   "outputs": [
    {
     "data": {
      "image/png": "[encoded data removed]",
      "text/plain": [
       "<Figure size 432x288 with 1 Axes>"
      ]
     },
     "metadata": {
      "needs_background": "light"
     },
     "output_type": "display_data"
    }
   ],
   "source": [
    "f, ax = plt.subplots()\n",
    "ax = sns.barplot(data=mgoals, x=\"group\", y=\"value\", hue=\"variable\")\n",
    "plt.legend(bbox_to_anchor=(1.20, 1))    # move legend outside axis\n",
    "plt.show()"
   ]
  },
  {
   "cell_type": "markdown",
   "metadata": {},
   "source": [
    "## Discussion\n",
    "\n",
    "Give that $p \\in (0.01, 0.05]$, there is moderate evidence against the null hypothesis that the distribution of goals across the 90 minutes of a football match are uniformally distributed.\n",
    "There is moderate evidence to support the claim that the total number of goals scored per ten minute period in an EPL football game are not uniformally distributed."
   ]
  }
 ],
 "metadata": {
  "jupytext": {
   "formats": "ipynb,auto:percent"
  },
  "kernelspec": {
   "display_name": "Python 3",
   "language": "python",
   "name": "python3"
  },
  "language_info": {
   "codemirror_mode": {
    "name": "ipython",
    "version": 3
   },
   "file_extension": ".py",
   "mimetype": "text/x-python",
   "name": "python",
   "nbconvert_exporter": "python",
   "pygments_lexer": "ipython3",
   "version": "3.8.3"
  },
  "metadata": {
   "interpreter": {
    "hash": "ff1f241afc5a4c2e07811e38e6858495d05af165b3766e4314a3d7953c54c6af"
   }
  }
 },
 "nbformat": 4,
 "nbformat_minor": 4
}
