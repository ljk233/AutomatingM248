{
 "cells": [
  {
   "cell_type": "markdown",
   "metadata": {},
   "source": [
    "# Exact confidence intervals: difference between two normal means\n",
    "\n",
    "date: 2021-04-16\n",
    "\n",
    "aim: Calculate a 100(1-a)% exact confidence interval for the difference\n",
    "between two normal means.\n",
    "\n",
    "reference: Computer book B, Activity 22\n",
    "\n",
    "data: skulls.csv\n",
    "\n",
    "description: Maximum skull breadth (in mm) of 84 skulls of Etruscan males and 70 skulls of modern Italian males.\n",
    "\n",
    "modules: `scipy`"
   ]
  },
  {
   "cell_type": "markdown",
   "metadata": {},
   "source": [
    "## Setup"
   ]
  },
  {
   "cell_type": "code",
   "execution_count": 1,
   "metadata": {},
   "outputs": [],
   "source": [
    "from setup import load\n",
    "from scipy.stats import t, probplot\n",
    "from math import sqrt\n",
    "import pandas as pd\n",
    "import seaborn as sns\n",
    "import matplotlib.pyplot as plt"
   ]
  },
  {
   "cell_type": "code",
   "execution_count": 2,
   "metadata": {},
   "outputs": [],
   "source": [
    "def get_dof(a, b) -> int:\n",
    "    \"\"\"\n",
    "    Calculates the degrees of freedom of two samples.\n",
    "    @params a,b\n",
    "        array-like objects\n",
    "    \"\"\"\n",
    "    return a.size + b.size - 2"
   ]
  },
  {
   "cell_type": "code",
   "execution_count": 3,
   "metadata": {},
   "outputs": [],
   "source": [
    "def get_ese(a, b) -> float:\n",
    "    \"\"\"\n",
    "    Calculates the estimated standard error of two samples.\n",
    "    @params a,b\n",
    "        array-like objects\n",
    "    \"\"\"\n",
    "    # pooled_var\n",
    "    num = ((a.size - 1) * a.var() + (b.size - 1) * b.var())\n",
    "    denom = get_dof(a, b)\n",
    "    pooled_var = num/denom\n",
    "    return sqrt(pooled_var) * sqrt(1/a.size + 1/b.size)"
   ]
  },
  {
   "cell_type": "code",
   "execution_count": 4,
   "metadata": {},
   "outputs": [],
   "source": [
    "# import the sample\n",
    "skulls = load.skulls()"
   ]
  },
  {
   "cell_type": "code",
   "execution_count": 5,
   "metadata": {},
   "outputs": [],
   "source": [
    "# declare local vars\n",
    "etr = skulls[\"Etruscans\"].dropna()\n",
    "ita = skulls[\"Italians\"].dropna()"
   ]
  },
  {
   "cell_type": "markdown",
   "metadata": {},
   "source": [
    "## Visualise"
   ]
  },
  {
   "cell_type": "code",
   "execution_count": 6,
   "metadata": {},
   "outputs": [
    {
     "data": {
      "image/png": "[encoded data removed]",
      "text/plain": [
       "<Figure size 432x288 with 1 Axes>"
      ]
     },
     "metadata": {
      "needs_background": "light"
     },
     "output_type": "display_data"
    }
   ],
   "source": [
    "skulls.plot(kind=\"box\")\n",
    "plt.show()"
   ]
  },
  {
   "cell_type": "markdown",
   "metadata": {},
   "source": [
    "## Calculate a 100(1-a)% confidence interval"
   ]
  },
  {
   "cell_type": "markdown",
   "metadata": {},
   "source": [
    "### Check assumptions"
   ]
  },
  {
   "cell_type": "code",
   "execution_count": 7,
   "metadata": {},
   "outputs": [
    {
     "data": {
      "image/png": "[encoded data removed]",
      "text/plain": [
       "<Figure size 432x288 with 2 Axes>"
      ]
     },
     "metadata": {},
     "output_type": "display_data"
    }
   ],
   "source": [
    "# check normality using normal probability plots\n",
    "sns.set_theme()\n",
    "f, [ax1, ax2] = plt.subplots(nrows=1, ncols=2, sharey=True)\n",
    "ax1 = probplot(x=etr, plot=ax1)\n",
    "ax1 = probplot(x=ita, plot=ax2)\n",
    "plt.show()"
   ]
  },
  {
   "cell_type": "markdown",
   "metadata": {},
   "source": [
    "Add commentary"
   ]
  },
  {
   "cell_type": "markdown",
   "metadata": {},
   "source": [
    "### Check for common variance"
   ]
  },
  {
   "cell_type": "code",
   "execution_count": 12,
   "metadata": {},
   "outputs": [
    {
     "name": "stdout",
     "output_type": "stream",
     "text": [
      "1.078190046662236\n"
     ]
    }
   ],
   "source": [
    "if etr.var() > ita.var():\n",
    "    print(etr.var()/ita.var())\n",
    "else:\n",
    "    print(ita.var()/etr.var())"
   ]
  },
  {
   "cell_type": "markdown",
   "metadata": {},
   "source": [
    "### Return the confidence interval"
   ]
  },
  {
   "cell_type": "code",
   "execution_count": 9,
   "metadata": {},
   "outputs": [],
   "source": [
    "# get difference, degree of freedom, and estimated stand error\n",
    "# included for clarity\n",
    "dof = get_dof(etr, ita)\n",
    "diff = etr.mean() - ita.mean()\n",
    "ese = get_ese(etr, ita)"
   ]
  },
  {
   "cell_type": "code",
   "execution_count": 10,
   "metadata": {},
   "outputs": [
    {
     "data": {
      "text/plain": [
       "(9.453650451007142, 13.208254310897594)"
      ]
     },
     "execution_count": 10,
     "metadata": {},
     "output_type": "execute_result"
    }
   ],
   "source": [
    "# calculate the ci\n",
    "t.interval(\n",
    "    alpha=0.95,\n",
    "    df=dof,\n",
    "    loc=diff,\n",
    "    scale=ese)"
   ]
  }
 ],
 "metadata": {
  "jupytext": {
   "formats": "ipynb,py:percent"
  },
  "kernelspec": {
   "display_name": "Python 3",
   "language": "python",
   "name": "python3"
  },
  "language_info": {
   "codemirror_mode": {
    "name": "ipython",
    "version": 3
   },
   "file_extension": ".py",
   "mimetype": "text/x-python",
   "name": "python",
   "nbconvert_exporter": "python",
   "pygments_lexer": "ipython3",
   "version": "3.8.3"
  },
  "metadata": {
   "interpreter": {
    "hash": "ff1f241afc5a4c2e07811e38e6858495d05af165b3766e4314a3d7953c54c6af"
   }
  }
 },
 "nbformat": 4,
 "nbformat_minor": 4
}
