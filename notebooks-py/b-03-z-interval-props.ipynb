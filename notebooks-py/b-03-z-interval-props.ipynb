{
 "cells": [
  {
   "cell_type": "markdown",
   "metadata": {},
   "source": [
    "# Large-sample approximate confidence intervals for proportions\n",
    "\n",
    "**date**\n",
    ": 2021-04-16\n",
    "\n",
    "**data**\n",
    ": `accidents.csv`\n",
    "\n",
    "**Module.function**\n",
    ": `statsmodels.stats.weightstats.proportion.proportion_confint`\n",
    "\n",
    "**ref**\n",
    ": Computer book B, Activity 18\n",
    "\n",
    "**desc**\n",
    ": Calculate a large-sample confidence interval for a proportion.\n",
    "The notebook begins with some processing to acquire data in the right format."
   ]
  },
  {
   "source": [
    "## Import the modules"
   ],
   "cell_type": "markdown",
   "metadata": {}
  },
  {
   "cell_type": "code",
   "execution_count": 1,
   "metadata": {},
   "outputs": [],
   "source": [
    "import src.load\n",
    "from statsmodels.stats.proportion import proportion_confint\n",
    "import seaborn as sns\n",
    "import matplotlib.pyplot as plt"
   ]
  },
  {
   "source": [
    "## Import the data"
   ],
   "cell_type": "markdown",
   "metadata": {}
  },
  {
   "cell_type": "code",
   "execution_count": 2,
   "metadata": {},
   "outputs": [],
   "source": [
    "sample = src.load.accidents()"
   ]
  },
  {
   "cell_type": "code",
   "execution_count": 3,
   "metadata": {},
   "outputs": [
    {
     "output_type": "execute_result",
     "data": {
      "text/plain": [
       "   Accidents\n",
       "0          0\n",
       "1          1\n",
       "2          0\n",
       "3          0\n",
       "4          0"
      ],
      "text/html": "<div>\n<style scoped>\n    .dataframe tbody tr th:only-of-type {\n        vertical-align: middle;\n    }\n\n    .dataframe tbody tr th {\n        vertical-align: top;\n    }\n\n    .dataframe thead th {\n        text-align: right;\n    }\n</style>\n<table border=\"1\" class=\"dataframe\">\n  <thead>\n    <tr style=\"text-align: right;\">\n      <th></th>\n      <th>Accidents</th>\n    </tr>\n  </thead>\n  <tbody>\n    <tr>\n      <th>0</th>\n      <td>0</td>\n    </tr>\n    <tr>\n      <th>1</th>\n      <td>1</td>\n    </tr>\n    <tr>\n      <th>2</th>\n      <td>0</td>\n    </tr>\n    <tr>\n      <th>3</th>\n      <td>0</td>\n    </tr>\n    <tr>\n      <th>4</th>\n      <td>0</td>\n    </tr>\n  </tbody>\n</table>\n</div>"
     },
     "metadata": {},
     "execution_count": 3
    }
   ],
   "source": [
    "sample.head()"
   ]
  },
  {
   "source": [
    "## Approximate confident intervals of proportions\n",
    "\n",
    "We require an estimate of the proportion of workers who experience one or more accidents.\n",
    "Declare local variables for the number of successes and total observations.\n"
   ],
   "cell_type": "markdown",
   "metadata": {}
  },
  {
   "cell_type": "code",
   "execution_count": 4,
   "metadata": {},
   "outputs": [],
   "source": [
    "# count number of entries where accidents != 0\n",
    "x = sample.query('Accidents != 0').count()[0]"
   ]
  },
  {
   "cell_type": "code",
   "execution_count": 5,
   "metadata": {},
   "outputs": [],
   "source": [
    "# count the number of rows in totals\n",
    "n = sample[\"Accidents\"].size"
   ]
  },
  {
   "source": [
    "Now use `proportion_confint()` to calculate a 99% $z$-interval of a proportion."
   ],
   "cell_type": "markdown",
   "metadata": {}
  },
  {
   "cell_type": "code",
   "execution_count": 6,
   "metadata": {},
   "outputs": [
    {
     "output_type": "execute_result",
     "data": {
      "text/plain": [
       "(0.22787583995834104, 0.3421724692204029)"
      ]
     },
     "metadata": {},
     "execution_count": 6
    }
   ],
   "source": [
    "proportion_confint(\n",
    "    count=x,\n",
    "    nobs=n,\n",
    "    alpha=0.01\n",
    ")"
   ]
  },
  {
   "cell_type": "code",
   "execution_count": 7,
   "metadata": {},
   "outputs": [
    {
     "output_type": "stream",
     "name": "stdout",
     "text": [
      "Help on function proportion_confint in module statsmodels.stats.proportion:\n\nproportion_confint(count, nobs, alpha=0.05, method='normal')\n    confidence interval for a binomial proportion\n    \n    Parameters\n    ----------\n    count : int or array_array_like\n        number of successes, can be pandas Series or DataFrame\n    nobs : int\n        total number of trials\n    alpha : float in (0, 1)\n        significance level, default 0.05\n    method : {'normal', 'agresti_coull', 'beta', 'wilson', 'binom_test'}\n        default: 'normal'\n        method to use for confidence interval,\n        currently available methods :\n    \n         - `normal` : asymptotic normal approximation\n         - `agresti_coull` : Agresti-Coull interval\n         - `beta` : Clopper-Pearson interval based on Beta distribution\n         - `wilson` : Wilson Score interval\n         - `jeffreys` : Jeffreys Bayesian Interval\n         - `binom_test` : experimental, inversion of binom_test\n    \n    Returns\n    -------\n    ci_low, ci_upp : float, ndarray, or pandas Series or DataFrame\n        lower and upper confidence level with coverage (approximately) 1-alpha.\n        When a pandas object is returned, then the index is taken from the\n        `count`.\n    \n    Notes\n    -----\n    Beta, the Clopper-Pearson exact interval has coverage at least 1-alpha,\n    but is in general conservative. Most of the other methods have average\n    coverage equal to 1-alpha, but will have smaller coverage in some cases.\n    \n    The 'beta' and 'jeffreys' interval are central, they use alpha/2 in each\n    tail, and alpha is not adjusted at the boundaries. In the extreme case\n    when `count` is zero or equal to `nobs`, then the coverage will be only\n    1 - alpha/2 in the case of 'beta'.\n    \n    The confidence intervals are clipped to be in the [0, 1] interval in the\n    case of 'normal' and 'agresti_coull'.\n    \n    Method \"binom_test\" directly inverts the binomial test in scipy.stats.\n    which has discrete steps.\n    \n    TODO: binom_test intervals raise an exception in small samples if one\n       interval bound is close to zero or one.\n    \n    References\n    ----------\n    https://en.wikipedia.org/wiki/Binomial_proportion_confidence_interval\n    \n    Brown, Lawrence D.; Cai, T. Tony; DasGupta, Anirban (2001). \"Interval\n        Estimation for a Binomial Proportion\",\n        Statistical Science 16 (2): 101–133. doi:10.1214/ss/1009213286.\n        TODO: Is this the correct one ?\n\n"
     ]
    }
   ],
   "source": [
    "help(proportion_confint)"
   ]
  }
 ],
 "metadata": {
  "kernelspec": {
   "name": "python383jvsc74a57bd0ff1f241afc5a4c2e07811e38e6858495d05af165b3766e4314a3d7953c54c6af",
   "display_name": "Python 3.8.3 64-bit"
  },
  "language_info": {
   "codemirror_mode": {
    "name": "ipython",
    "version": 3
   },
   "file_extension": ".py",
   "mimetype": "text/x-python",
   "name": "python",
   "nbconvert_exporter": "python",
   "pygments_lexer": "ipython3",
   "version": "3.8.3"
  },
  "metadata": {
   "interpreter": {
    "hash": "ff1f241afc5a4c2e07811e38e6858495d05af165b3766e4314a3d7953c54c6af"
   }
  }
 },
 "nbformat": 4,
 "nbformat_minor": 4
}