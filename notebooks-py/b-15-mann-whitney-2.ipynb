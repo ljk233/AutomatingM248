{
 "cells": [
  {
   "cell_type": "markdown",
   "metadata": {},
   "source": [
    "# Hypthesis test: Mann-Whitney test\n",
    "\n",
    "**date**\n",
    ": 2021-04-17\n",
    "\n",
    "**data**\n",
    ": `osa.csv`\n",
    "\n",
    "**ref**\n",
    ": Computer book B, Activity 40\n",
    "\n",
    "**desc**\n",
    ": Performing a **Mann-Whitney test**."
   ]
  },
  {
   "cell_type": "code",
   "execution_count": 1,
   "metadata": {},
   "outputs": [],
   "source": [
    "from scripts.data import Data\n",
    "from scipy.stats import mannwhitneyu"
   ]
  },
  {
   "cell_type": "code",
   "execution_count": 2,
   "metadata": {},
   "outputs": [],
   "source": [
    "sample = Data.load_osa()"
   ]
  },
  {
   "cell_type": "code",
   "execution_count": 11,
   "metadata": {},
   "outputs": [
    {
     "output_type": "execute_result",
     "data": {
      "text/plain": [
       "   Present  Absent\n",
       "0        6     6.0\n",
       "1        8     7.0\n",
       "2        8     7.0\n",
       "3       10     7.0\n",
       "4       10     7.0"
      ],
      "text/html": "<div>\n<style scoped>\n    .dataframe tbody tr th:only-of-type {\n        vertical-align: middle;\n    }\n\n    .dataframe tbody tr th {\n        vertical-align: top;\n    }\n\n    .dataframe thead th {\n        text-align: right;\n    }\n</style>\n<table border=\"1\" class=\"dataframe\">\n  <thead>\n    <tr style=\"text-align: right;\">\n      <th></th>\n      <th>Present</th>\n      <th>Absent</th>\n    </tr>\n  </thead>\n  <tbody>\n    <tr>\n      <th>0</th>\n      <td>6</td>\n      <td>6.0</td>\n    </tr>\n    <tr>\n      <th>1</th>\n      <td>8</td>\n      <td>7.0</td>\n    </tr>\n    <tr>\n      <th>2</th>\n      <td>8</td>\n      <td>7.0</td>\n    </tr>\n    <tr>\n      <th>3</th>\n      <td>10</td>\n      <td>7.0</td>\n    </tr>\n    <tr>\n      <th>4</th>\n      <td>10</td>\n      <td>7.0</td>\n    </tr>\n  </tbody>\n</table>\n</div>"
     },
     "metadata": {},
     "execution_count": 11
    }
   ],
   "source": [
    "sample.head()"
   ]
  },
  {
   "source": [
    "Note that `Absent` is type `float` due to `NaN` values."
   ],
   "cell_type": "markdown",
   "metadata": {}
  },
  {
   "cell_type": "code",
   "execution_count": 12,
   "metadata": {},
   "outputs": [],
   "source": [
    "# use local vars for ease of access\n",
    "# dropna due to different lengths\n",
    "present = sample[\"Present\"].dropna()\n",
    "absent = sample[\"Absent\"].dropna()"
   ]
  },
  {
   "source": [
    "A study was carried out of the relationship between customs related to illness and child-rearing practices in 39 non-literate societies.\n",
    "On the basis of ethnographical reports, each of the societies was given a numerical rating for the degree of something called **oral socialisation anxiety (OSA),** which is a concept derived from psychoanalytic theory relating to child-rearing practice.\n",
    "(Socialisation refers to the acquiring of social skills.)\n",
    "Each society was also placed into one of two groups.\n",
    "\n",
    "The data therefore comprise one sample of **OSA** values for, as it turned out, 23 societies where oral explanations of illness were present, and a second sample of OSA values for 16 societies where oral explanations of illness were absent.\n",
    "\n",
    "These data were collected to investigate a hypothesis that oral explanations of illness are more likely to be present in societies with high levels of OSA than in societies with low levels of **OSA.**\n",
    "\n",
    "Let the hypotheses be\n",
    "\n",
    "$$\n",
    "H_{0} : \\ell_{A} = \\ell_{P}, \\hspace{3mm} \\ell_{A} < \\ell_{P},\n",
    "$$\n",
    "\n",
    "where $\\ell_{A}, \\ell_{P}$ represent the underlying locations of the populations where the samples were drawn. (**P**=Present, **A**=Absent.)"
   ],
   "cell_type": "markdown",
   "metadata": {}
  },
  {
   "cell_type": "code",
   "execution_count": 14,
   "metadata": {},
   "outputs": [
    {
     "output_type": "execute_result",
     "data": {
      "text/plain": [
       "MannwhitneyuResult(statistic=64.0, pvalue=0.00029455886864989165)"
      ]
     },
     "metadata": {},
     "execution_count": 14
    }
   ],
   "source": [
    "mannwhitneyu(\n",
    "    x=absent,\n",
    "    y=present,\n",
    "    alternative=\"less\"\n",
    ")"
   ]
  },
  {
   "source": [
    "Given that $p < 0.01$, we conclude that there is strong evidence against the null hypothesis.\n",
    "\n",
    "There is strong evidence that societies where oral explanations of illness are present tend to have higher oral socialisation anxiety scores than societies where oral explanations of illness are absent."
   ],
   "cell_type": "markdown",
   "metadata": {}
  },
  {
   "cell_type": "code",
   "execution_count": 6,
   "metadata": {},
   "outputs": [
    {
     "output_type": "stream",
     "name": "stdout",
     "text": [
      "Help on function mannwhitneyu in module scipy.stats.stats:\n\nmannwhitneyu(x, y, use_continuity=True, alternative=None)\n    Compute the Mann-Whitney rank test on samples x and y.\n    \n    Parameters\n    ----------\n    x, y : array_like\n        Array of samples, should be one-dimensional.\n    use_continuity : bool, optional\n            Whether a continuity correction (1/2.) should be taken into\n            account. Default is True.\n    alternative : {None, 'two-sided', 'less', 'greater'}, optional\n        Defines the alternative hypothesis.\n        The following options are available (default is None):\n    \n          * None: computes p-value half the size of the 'two-sided' p-value and\n            a different U statistic. The default behavior is not the same as\n            using 'less' or 'greater'; it only exists for backward compatibility\n            and is deprecated.\n          * 'two-sided'\n          * 'less': one-sided\n          * 'greater': one-sided\n    \n        Use of the None option is deprecated.\n    \n    Returns\n    -------\n    statistic : float\n        The Mann-Whitney U statistic, equal to min(U for x, U for y) if\n        `alternative` is equal to None (deprecated; exists for backward\n        compatibility), and U for y otherwise.\n    pvalue : float\n        p-value assuming an asymptotic normal distribution. One-sided or\n        two-sided, depending on the choice of `alternative`.\n    \n    Notes\n    -----\n    Use only when the number of observation in each sample is > 20 and\n    you have 2 independent samples of ranks. Mann-Whitney U is\n    significant if the u-obtained is LESS THAN or equal to the critical\n    value of U.\n    \n    This test corrects for ties and by default uses a continuity correction.\n    \n    References\n    ----------\n    .. [1] https://en.wikipedia.org/wiki/Mann-Whitney_U_test\n    \n    .. [2] H.B. Mann and D.R. Whitney, \"On a Test of Whether one of Two Random\n           Variables is Stochastically Larger than the Other,\" The Annals of\n           Mathematical Statistics, vol. 18, no. 1, pp. 50-60, 1947.\n\n"
     ]
    }
   ],
   "source": [
    "help(mannwhitneyu)"
   ]
  }
 ],
 "metadata": {
  "kernelspec": {
   "name": "python383jvsc74a57bd0ff1f241afc5a4c2e07811e38e6858495d05af165b3766e4314a3d7953c54c6af",
   "display_name": "Python 3.8.3 64-bit"
  },
  "language_info": {
   "codemirror_mode": {
    "name": "ipython",
    "version": 3
   },
   "file_extension": ".py",
   "mimetype": "text/x-python",
   "name": "python",
   "nbconvert_exporter": "python",
   "pygments_lexer": "ipython3",
   "version": "3.8.3"
  },
  "metadata": {
   "interpreter": {
    "hash": "ff1f241afc5a4c2e07811e38e6858495d05af165b3766e4314a3d7953c54c6af"
   }
  }
 },
 "nbformat": 4,
 "nbformat_minor": 4
}