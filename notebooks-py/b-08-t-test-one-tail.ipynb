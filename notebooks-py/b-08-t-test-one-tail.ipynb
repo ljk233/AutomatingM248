{
 "cells": [
  {
   "cell_type": "markdown",
   "metadata": {},
   "source": [
    "# Hypthesis test: a one-sided $t$-test\n",
    "\n",
    "**date**\n",
    ": 2021-04-17\n",
    "\n",
    "**data**\n",
    ": N/A\n",
    "\n",
    "**ref**\n",
    ": Computer book B, Activity 24\n",
    "\n",
    "**desc**\n",
    ": Performing a one-sided $t$-**test of a population mean**"
   ]
  },
  {
   "cell_type": "code",
   "execution_count": 1,
   "metadata": {},
   "outputs": [],
   "source": [
    "from scipy.stats import t\n",
    "from math import sqrt"
   ]
  },
  {
   "source": [
    "Let the hypotheses be\n",
    "\n",
    "$$\n",
    "\\begin{aligned}\n",
    "  &H_{0} : \\mu_{S} = 138 \\> \\text{mm Hg} \\\\\n",
    "  &H_{1} : \\mu_{S} < 138 \\> \\text{mm Hg},\n",
    "\\end{aligned}\n",
    "$$\n",
    "\n",
    "where $\\mu_{S}$ is the mean systolic blood pressure (BP) for menopausal women after taking 22g of freeze-dried blueberry powder every day for 8 weeks.\n",
    "\n",
    "We have been the following paramaters:\n",
    "\n",
    "- sample size $n=20$\n",
    "- sample mean $\\overline{X}_{S} = 131\\> \\text{mm Hg}$\n",
    "- sample standard deviation $S_{S} = 17\\> \\text{mm Hg}$\n",
    "\n",
    "Declare local variables to hold the data."
   ],
   "cell_type": "markdown",
   "metadata": {}
  },
  {
   "cell_type": "code",
   "execution_count": 2,
   "metadata": {},
   "outputs": [],
   "source": [
    "n = 20\n",
    "mu0 = 138\n",
    "mean = 131\n",
    "std = 17\n",
    "ese = std / sqrt(n)  # estimated standard error"
   ]
  },
  {
   "source": [
    "Calculate the test statistic `t_stat` and $p$-value `p`."
   ],
   "cell_type": "markdown",
   "metadata": {}
  },
  {
   "cell_type": "code",
   "execution_count": 3,
   "metadata": {},
   "outputs": [],
   "source": [
    "t_stat = (mean - mu0) / ese\n",
    "p = t.cdf(x=t_stat, df=n-1)"
   ]
  },
  {
   "source": [
    "And so the test statistic and $p$-values are"
   ],
   "cell_type": "markdown",
   "metadata": {}
  },
  {
   "cell_type": "code",
   "execution_count": 4,
   "metadata": {},
   "outputs": [
    {
     "output_type": "execute_result",
     "data": {
      "text/plain": [
       "-1.8414677461762976"
      ]
     },
     "metadata": {},
     "execution_count": 4
    }
   ],
   "source": [
    "t_stat"
   ]
  },
  {
   "cell_type": "code",
   "execution_count": 5,
   "metadata": {},
   "outputs": [
    {
     "output_type": "execute_result",
     "data": {
      "text/plain": [
       "0.040610348656210146"
      ]
     },
     "metadata": {},
     "execution_count": 5
    }
   ],
   "source": [
    "p"
   ]
  },
  {
   "source": [
    "Since $p \\in$ (0.01, 0.05], there is moderate evidence against the null hypothesis that the mean systolic BP for menopausal women after taking 22g of freeze-dried blueberry powder every day for 8 weeks is less than 138 **mm Hg**."
   ],
   "cell_type": "markdown",
   "metadata": {}
  }
 ],
 "metadata": {
  "kernelspec": {
   "name": "python383jvsc74a57bd0ff1f241afc5a4c2e07811e38e6858495d05af165b3766e4314a3d7953c54c6af",
   "display_name": "Python 3.8.3 64-bit"
  },
  "language_info": {
   "codemirror_mode": {
    "name": "ipython",
    "version": 3
   },
   "file_extension": ".py",
   "mimetype": "text/x-python",
   "name": "python",
   "nbconvert_exporter": "python",
   "pygments_lexer": "ipython3",
   "version": "3.8.3"
  },
  "metadata": {
   "interpreter": {
    "hash": "ff1f241afc5a4c2e07811e38e6858495d05af165b3766e4314a3d7953c54c6af"
   }
  }
 },
 "nbformat": 4,
 "nbformat_minor": 4
}