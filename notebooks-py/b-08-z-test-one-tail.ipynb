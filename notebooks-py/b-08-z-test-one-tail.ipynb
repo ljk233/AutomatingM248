{
 "cells": [
  {
   "cell_type": "markdown",
   "metadata": {},
   "source": [
    "# One-sided z-test\n",
    "\n",
    "**date:** 2021-04-17\n",
    "\n",
    "**aim:** Perform a one-sided **z-test** with one sample of data.\n",
    "\n",
    "**reference:** Computer book B, Exercise 5 *(amended)*\n",
    "\n",
    "**data:** `practical-test.csv`\n",
    "\n",
    "**description:** Pass rates for 316 UK driving practical test centres over the period April 2014 to March 2015.\n",
    "\n",
    "**modules:** `statsmodels.stats.weightstats.ztest`"
   ]
  },
  {
   "cell_type": "markdown",
   "metadata": {},
   "source": [
    "## Setup"
   ]
  },
  {
   "cell_type": "code",
   "execution_count": 1,
   "metadata": {},
   "outputs": [],
   "source": [
    "from setup import load\n",
    "from statsmodels.stats.weightstats import ztest\n",
    "import seaborn as sns\n",
    "import matplotlib.pyplot as plt"
   ]
  },
  {
   "cell_type": "code",
   "execution_count": 2,
   "metadata": {},
   "outputs": [],
   "source": [
    "# import the data\n",
    "prac_test = load.practical_test()"
   ]
  },
  {
   "cell_type": "code",
   "execution_count": 3,
   "metadata": {},
   "outputs": [],
   "source": [
    "# assign local var\n",
    "rf = prac_test[\"Female\"]"
   ]
  },
  {
   "cell_type": "markdown",
   "metadata": {},
   "source": [
    "## Hypotheses\n",
    "\n",
    "The sample contains the pass rates for 316 UK driving practical test centres over the period April 2014 to March 2015.\n",
    "During the period April 2013 to March 2014, the national driving practical test pass rate for females was 43.8%.\n",
    "\n",
    "Let the hypotheses be:\n",
    "\n",
    "$$\n",
    "H_{0} : \\mu_{F} = 43.8 \\%, \\> \\mu_{F} > 43.8 \\%\n",
    "$$\n",
    "\n",
    "where $\\mu_{F}$ is the mean female pass rate for the driving practical test nationally across all UK test centres during the period April 2014 to March 2015."
   ]
  },
  {
   "cell_type": "markdown",
   "metadata": {},
   "source": [
    "## Results"
   ]
  },
  {
   "cell_type": "markdown",
   "metadata": {},
   "source": [
    "### Preview the data"
   ]
  },
  {
   "cell_type": "code",
   "execution_count": 4,
   "metadata": {},
   "outputs": [
    {
     "data": {
      "text/plain": [
       "0    41.7\n",
       "1    43.9\n",
       "2    53.5\n",
       "3    53.2\n",
       "4    38.9\n",
       "Name: Female, dtype: float64"
      ]
     },
     "execution_count": 4,
     "metadata": {},
     "output_type": "execute_result"
    }
   ],
   "source": [
    "rf.head()"
   ]
  },
  {
   "cell_type": "markdown",
   "metadata": {},
   "source": [
    "### Summarise the data"
   ]
  },
  {
   "cell_type": "code",
   "execution_count": 5,
   "metadata": {},
   "outputs": [
    {
     "data": {
      "text/plain": [
       "count    316.000000\n",
       "mean      46.325633\n",
       "std        7.362729\n",
       "min       26.200000\n",
       "25%       41.500000\n",
       "50%       46.200000\n",
       "75%       51.025000\n",
       "max       69.600000\n",
       "Name: Female, dtype: float64"
      ]
     },
     "execution_count": 5,
     "metadata": {},
     "output_type": "execute_result"
    }
   ],
   "source": [
    "rf.describe()"
   ]
  },
  {
   "cell_type": "markdown",
   "metadata": {},
   "source": [
    "### Visualise the data"
   ]
  },
  {
   "cell_type": "code",
   "execution_count": 6,
   "metadata": {},
   "outputs": [
    {
     "data": {
      "image/png": "[encoded data removed]",
      "text/plain": [
       "<Figure size 432x288 with 1 Axes>"
      ]
     },
     "metadata": {
      "needs_background": "light"
     },
     "output_type": "display_data"
    }
   ],
   "source": [
    "sns.histplot(rf)\n",
    "plt.show()"
   ]
  },
  {
   "cell_type": "markdown",
   "metadata": {},
   "source": [
    "### Calculations"
   ]
  },
  {
   "cell_type": "code",
   "execution_count": 7,
   "metadata": {},
   "outputs": [
    {
     "data": {
      "text/plain": [
       "(6.097824569390004, 5.37608250771177e-10)"
      ]
     },
     "execution_count": 7,
     "metadata": {},
     "output_type": "execute_result"
    }
   ],
   "source": [
    "ztest(x1=rf, value=43.8, alternative=\"larger\")"
   ]
  },
  {
   "cell_type": "markdown",
   "metadata": {},
   "source": [
    "Since $p \\in$ (0.01, 0.05], there is moderate evidence against the null hypothesis that the mean systolic BP for menopausal women after taking 22g of freeze-dried blueberry powder every day for 8 weeks is less than 138 **mm Hg**."
   ]
  }
 ],
 "metadata": {
  "kernelspec": {
   "display_name": "Python 3",
   "language": "python",
   "name": "python3"
  },
  "language_info": {
   "codemirror_mode": {
    "name": "ipython",
    "version": 3
   },
   "file_extension": ".py",
   "mimetype": "text/x-python",
   "name": "python",
   "nbconvert_exporter": "python",
   "pygments_lexer": "ipython3",
   "version": "3.8.3"
  },
  "metadata": {
   "interpreter": {
    "hash": "ff1f241afc5a4c2e07811e38e6858495d05af165b3766e4314a3d7953c54c6af"
   }
  }
 },
 "nbformat": 4,
 "nbformat_minor": 4
}
