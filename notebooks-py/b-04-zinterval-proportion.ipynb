{
 "cells": [
  {
   "cell_type": "markdown",
   "id": "e61c95ac-ea07-4181-b533-dc1a2c37ddb7",
   "metadata": {},
   "source": [
    "# Large-sample confidence intervals for a proportion"
   ]
  },
  {
   "cell_type": "markdown",
   "id": "5a7379ed-9a5b-4444-971a-ab7e2ac2a101",
   "metadata": {},
   "source": [
    "## Summary\n",
    "\n",
    "The aim of this notebook is to produce a large sample approximate 99% confidence interval for the proportion of machinists who experienced at least one accident over a period of time.\n",
    "The confidence interval was calculated to be (0.228, 0.342)."
   ]
  },
  {
   "cell_type": "markdown",
   "id": "7f9c8173-e98b-4eef-b5cb-06c500f02d07",
   "metadata": {},
   "source": [
    "## Introduction\n",
    "\n",
    "The report is concerned with producing an interval estimate for the proportion of machinists who suffered at least one accident over a period of time.\n",
    "The data is historical, and constists of a single data field that contains the number of accidents suffered by each of the 414 machinists over the period of observation.\n",
    "The data was provided by M248: Analysing data, who in turn sourced it from Greenwood, M. and Yue, G.U. (1920)."
   ]
  },
  {
   "cell_type": "markdown",
   "id": "7f085bd4-9fb3-459f-95a1-9721d88b0ee3",
   "metadata": {},
   "source": [
    "## Method\n",
    "\n",
    "An estimate of the proportion of machinists who suffered an accident was calculated.\n",
    "A normal approximated on the binomial was then used to calculate a large sample approximate 99% confidence interval for the proportion.\n",
    "We can use a normal approximation given the sample size ($n=$414).\n",
    "All calculations were done in Python, using the following packages: `pandas`, `statsmodels`, `seaborn` (visualisations), and `matplotlib` (visualisations)."
   ]
  },
  {
   "cell_type": "markdown",
   "id": "3f360a46-b173-4b21-ad6d-1dddeb27fe6d",
   "metadata": {},
   "source": [
    "## Results"
   ]
  },
  {
   "cell_type": "markdown",
   "id": "2389d704-b21f-46e9-b558-aa9c7c448ebc",
   "metadata": {},
   "source": [
    "### Setup the notebook"
   ]
  },
  {
   "cell_type": "code",
   "execution_count": 1,
   "id": "2f656685-b355-4d94-86ca-96300ffc7dba",
   "metadata": {},
   "outputs": [],
   "source": [
    "# import the packages\n",
    "from src import load\n",
    "from statsmodels.stats.proportion import proportion_confint\n",
    "import seaborn as sns\n",
    "import matplotlib.pyplot as plt"
   ]
  },
  {
   "cell_type": "code",
   "execution_count": 2,
   "id": "77db03bf-7475-4603-bf51-5d884b9147ba",
   "metadata": {},
   "outputs": [],
   "source": [
    "# set the Seaborn theme\n",
    "sns.set_theme()"
   ]
  },
  {
   "cell_type": "code",
   "execution_count": 3,
   "id": "dda6d458-bd9c-49f2-ba15-b32032804437",
   "metadata": {},
   "outputs": [],
   "source": [
    "# load the data\n",
    "accidents = load.accidents()"
   ]
  },
  {
   "cell_type": "markdown",
   "id": "b2ce0abd-5f45-4849-a422-51ab8c5c447c",
   "metadata": {},
   "source": [
    "### Visualise the data"
   ]
  },
  {
   "cell_type": "code",
   "execution_count": 4,
   "id": "403a0f6b-c2d4-4878-9935-862746aa0cb0",
   "metadata": {},
   "outputs": [
    {
     "data": {
      "image/png": "[encoded data removed]",
      "text/plain": [
       "<Figure size 432x288 with 1 Axes>"
      ]
     },
     "metadata": {},
     "output_type": "display_data"
    }
   ],
   "source": [
    "sns.countplot(data=accidents, x=\"Accidents\")\n",
    "plt.show()"
   ]
  },
  {
   "cell_type": "markdown",
   "id": "89694a0b-bcff-4bfc-942a-bcc2da72e4a2",
   "metadata": {},
   "source": [
    "### Return the $z$-interval"
   ]
  },
  {
   "cell_type": "code",
   "execution_count": 5,
   "id": "6bc9b9ef-6ef9-40ad-bb00-06e5a3c7d37c",
   "metadata": {},
   "outputs": [],
   "source": [
    "# declare the parameters\n",
    "x = accidents.query('Accidents != 0').index.size\n",
    "n = accidents.index.size"
   ]
  },
  {
   "cell_type": "code",
   "execution_count": 6,
   "id": "85c24efd-54cf-406b-a3ce-7d4127b5239b",
   "metadata": {},
   "outputs": [
    {
     "data": {
      "text/plain": [
       "0.28502415458937197"
      ]
     },
     "execution_count": 6,
     "metadata": {},
     "output_type": "execute_result"
    }
   ],
   "source": [
    "# get the estimate proportion\n",
    "x/n"
   ]
  },
  {
   "cell_type": "code",
   "execution_count": 7,
   "id": "d6e1c6b5-4f79-434e-9442-3d9529b720f0",
   "metadata": {},
   "outputs": [
    {
     "data": {
      "text/plain": [
       "(0.22787583995834104, 0.3421724692204029)"
      ]
     },
     "execution_count": 7,
     "metadata": {},
     "output_type": "execute_result"
    }
   ],
   "source": [
    "# return the confidence interval\n",
    "proportion_confint(count=x, nobs=n, alpha=0.01)"
   ]
  },
  {
   "cell_type": "markdown",
   "id": "d48e0762-08e3-4c9c-acfb-80b4c7a639cd",
   "metadata": {},
   "source": [
    "## References\n",
    "\n",
    "Greenwood, M. and Yue, G.U. (1920). 'An inquiry into the nature of frequency distributions representative of happening with the particular reference to the occurrence of multiple attacks of disease or of repeated accidents', *Journal of the Royal Statistics Society*, vol. 83, no. 2, pp. 255-79."
   ]
  }
 ],
 "metadata": {
  "kernelspec": {
   "display_name": "Python 3.8",
   "language": "python",
   "name": "python3"
  },
  "language_info": {
   "codemirror_mode": {
    "name": "ipython",
    "version": 3
   },
   "file_extension": ".py",
   "mimetype": "text/x-python",
   "name": "python",
   "nbconvert_exporter": "python",
   "pygments_lexer": "ipython3",
   "version": "3.8.10"
  }
 },
 "nbformat": 4,
 "nbformat_minor": 5
}
