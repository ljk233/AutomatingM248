{
 "cells": [
  {
   "cell_type": "markdown",
   "id": "e61c95ac-ea07-4181-b533-dc1a2c37ddb7",
   "metadata": {},
   "source": [
    "# Large-sample confidence intervals for the difference between two proportions"
   ]
  },
  {
   "cell_type": "markdown",
   "id": "5a7379ed-9a5b-4444-971a-ab7e2ac2a101",
   "metadata": {},
   "source": [
    "## Summary"
   ]
  },
  {
   "cell_type": "markdown",
   "id": "7f9c8173-e98b-4eef-b5cb-06c500f02d07",
   "metadata": {},
   "source": [
    "## Scenario"
   ]
  },
  {
   "cell_type": "markdown",
   "id": "3f360a46-b173-4b21-ad6d-1dddeb27fe6d",
   "metadata": {},
   "source": [
    "## Method"
   ]
  },
  {
   "cell_type": "markdown",
   "id": "2389d704-b21f-46e9-b558-aa9c7c448ebc",
   "metadata": {},
   "source": [
    "### Setup the notebook"
   ]
  },
  {
   "cell_type": "code",
   "execution_count": 1,
   "id": "2f656685-b355-4d94-86ca-96300ffc7dba",
   "metadata": {},
   "outputs": [],
   "source": [
    "# import the packages\n",
    "from src import load\n",
    "from statsmodels.stats.proportion import confint_proportions_2indep\n",
    "import pandas as pd\n",
    "import seaborn as sns\n",
    "import matplotlib.pyplot as plt"
   ]
  },
  {
   "cell_type": "code",
   "execution_count": 2,
   "id": "77db03bf-7475-4603-bf51-5d884b9147ba",
   "metadata": {},
   "outputs": [],
   "source": [
    "# set the Seaborn theme\n",
    "sns.set_theme()"
   ]
  },
  {
   "cell_type": "markdown",
   "id": "2d72c558-92e7-4f5d-ac82-265a92868932",
   "metadata": {},
   "source": [
    "### Load the data"
   ]
  },
  {
   "cell_type": "code",
   "execution_count": 3,
   "id": "dda6d458-bd9c-49f2-ba15-b32032804437",
   "metadata": {},
   "outputs": [],
   "source": [
    "# import the data\n",
    "sewer = load.sewer()"
   ]
  },
  {
   "cell_type": "markdown",
   "id": "f889df33-161c-43f0-9f04-96986f99fdec",
   "metadata": {},
   "source": [
    "### Prepare the data\n",
    "\n",
    "Swap out the codes in `[Immunity, Children]` for meaningful labels."
   ]
  },
  {
   "cell_type": "code",
   "execution_count": 4,
   "id": "fb1ae9ef-6652-48b4-8384-a2693f113cdd",
   "metadata": {},
   "outputs": [],
   "source": [
    "sewer[\"Immunity\"].replace(to_replace={0: \"No\", 1: \"Yes\"}, inplace=True)\n",
    "sewer[\"Children\"].replace(to_replace={1: \"No\", 2: \"Yes\"}, inplace=True)"
   ]
  },
  {
   "cell_type": "markdown",
   "id": "b2ce0abd-5f45-4849-a422-51ab8c5c447c",
   "metadata": {},
   "source": [
    "### Visualise the data"
   ]
  },
  {
   "cell_type": "code",
   "execution_count": 5,
   "id": "95bfe60b-c5df-4b04-9d3e-fda69cc1ad76",
   "metadata": {},
   "outputs": [],
   "source": [
    "# take a copy of the dataframe\n",
    "gsewer = sewer.copy(deep=True)"
   ]
  },
  {
   "cell_type": "code",
   "execution_count": 6,
   "id": "2f15c8c1-ce3c-4ae4-8472-827d87d6c4ab",
   "metadata": {},
   "outputs": [],
   "source": [
    "# aggregate the data\n",
    "gsewer[\"Frequency\"] = 0\n",
    "gsewer = gsewer.groupby([\"Immunity\", \"Children\"])[[\"Frequency\"]].count()\n",
    "gsewer.reset_index(inplace=True)"
   ]
  },
  {
   "cell_type": "code",
   "execution_count": 7,
   "id": "403a0f6b-c2d4-4878-9935-862746aa0cb0",
   "metadata": {},
   "outputs": [
    {
     "data": {
      "image/png": "[encoded data removed]",
      "text/plain": [
       "<Figure size 432x288 with 1 Axes>"
      ]
     },
     "metadata": {},
     "output_type": "display_data"
    }
   ],
   "source": [
    "# plot the data\n",
    "ax = sns.barplot(data=gsewer, x=\"Immunity\", y=\"Frequency\", hue=\"Children\")\n",
    "plt.show()"
   ]
  },
  {
   "cell_type": "markdown",
   "id": "89694a0b-bcff-4bfc-942a-bcc2da72e4a2",
   "metadata": {},
   "source": [
    "### Return the $z$-interval"
   ]
  },
  {
   "cell_type": "code",
   "execution_count": 11,
   "id": "be82db96-abca-40a6-8d65-bc06b1288a63",
   "metadata": {},
   "outputs": [
    {
     "data": {
      "text/html": [
       "<div>\n",
       "<style scoped>\n",
       "    .dataframe tbody tr th:only-of-type {\n",
       "        vertical-align: middle;\n",
       "    }\n",
       "\n",
       "    .dataframe tbody tr th {\n",
       "        vertical-align: top;\n",
       "    }\n",
       "\n",
       "    .dataframe thead th {\n",
       "        text-align: right;\n",
       "    }\n",
       "</style>\n",
       "<table border=\"1\" class=\"dataframe\">\n",
       "  <thead>\n",
       "    <tr style=\"text-align: right;\">\n",
       "      <th>Immunity</th>\n",
       "      <th>No</th>\n",
       "      <th>Yes</th>\n",
       "      <th>All</th>\n",
       "    </tr>\n",
       "    <tr>\n",
       "      <th>Children</th>\n",
       "      <th></th>\n",
       "      <th></th>\n",
       "      <th></th>\n",
       "    </tr>\n",
       "  </thead>\n",
       "  <tbody>\n",
       "    <tr>\n",
       "      <th>No</th>\n",
       "      <td>59</td>\n",
       "      <td>11</td>\n",
       "      <td>70</td>\n",
       "    </tr>\n",
       "    <tr>\n",
       "      <th>Yes</th>\n",
       "      <td>90</td>\n",
       "      <td>68</td>\n",
       "      <td>158</td>\n",
       "    </tr>\n",
       "    <tr>\n",
       "      <th>All</th>\n",
       "      <td>149</td>\n",
       "      <td>79</td>\n",
       "      <td>228</td>\n",
       "    </tr>\n",
       "  </tbody>\n",
       "</table>\n",
       "</div>"
      ],
      "text/plain": [
       "Immunity   No  Yes  All\n",
       "Children               \n",
       "No         59   11   70\n",
       "Yes        90   68  158\n",
       "All       149   79  228"
      ]
     },
     "execution_count": 11,
     "metadata": {},
     "output_type": "execute_result"
    }
   ],
   "source": [
    "# construct a contingency table\n",
    "pd.crosstab(index=sewer[\"Children\"], columns=sewer[\"Immunity\"], margins=True)"
   ]
  },
  {
   "cell_type": "code",
   "execution_count": 9,
   "id": "6bc9b9ef-6ef9-40ad-bb00-06e5a3c7d37c",
   "metadata": {},
   "outputs": [],
   "source": [
    "# declare the parameters\n",
    "x1=68   # has children, has immunity\n",
    "n1=158  # has children\n",
    "x2=11   # no children, has immunity\n",
    "n2=70   # no children"
   ]
  },
  {
   "cell_type": "markdown",
   "id": "abcbc254-8837-47cf-9168-05cd46f3d571",
   "metadata": {},
   "source": [
    "Note, default actual argument for formal agument `method=newcomb`\n",
    "does not return the result expected by M248."
   ]
  },
  {
   "cell_type": "code",
   "execution_count": 10,
   "id": "d6e1c6b5-4f79-434e-9442-3d9529b720f0",
   "metadata": {},
   "outputs": [
    {
     "data": {
      "text/plain": [
       "(0.1582197356059404, 0.38825404377923145)"
      ]
     },
     "execution_count": 10,
     "metadata": {},
     "output_type": "execute_result"
    }
   ],
   "source": [
    "# return the confidence interval\n",
    "confint_proportions_2indep(\n",
    "    count1=x1,\n",
    "    nobs1=n1,\n",
    "    count2=x2,\n",
    "    nobs2=n2,\n",
    "    method=\"wald\")"
   ]
  }
 ],
 "metadata": {
  "kernelspec": {
   "display_name": "Python 3.8",
   "language": "python",
   "name": "python3"
  },
  "language_info": {
   "codemirror_mode": {
    "name": "ipython",
    "version": 3
   },
   "file_extension": ".py",
   "mimetype": "text/x-python",
   "name": "python",
   "nbconvert_exporter": "python",
   "pygments_lexer": "ipython3",
   "version": "3.8.10"
  }
 },
 "nbformat": 4,
 "nbformat_minor": 5
}
