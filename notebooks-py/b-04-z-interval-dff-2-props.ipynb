{
 "cells": [
  {
   "cell_type": "markdown",
   "metadata": {},
   "source": [
    "# Large-sample confidence intervals for a difference between proportions\n",
    "\n",
    "**date**\n",
    ": 2021-04-16\n",
    "\n",
    "**data**\n",
    ": `skulls.csv`\n",
    "\n",
    "**Module.function**\n",
    ": `statsmodels.stats.proportion.confint_proportions_2indep`\n",
    "\n",
    "**ref**\n",
    ": Computer book B, Activity 20\n",
    "\n",
    "**desc**\n",
    ": Calculating large-sample confidence intervals for a difference between proportions.\n",
    "There is some light data processing to gather the information needed to invoke the function."
   ]
  },
  {
   "source": [
    "## Import the modules"
   ],
   "cell_type": "markdown",
   "metadata": {}
  },
  {
   "cell_type": "code",
   "execution_count": 1,
   "metadata": {},
   "outputs": [],
   "source": [
    "import src.load\n",
    "from statsmodels.stats.proportion import confint_proportions_2indep"
   ]
  },
  {
   "source": [
    "## Import the data"
   ],
   "cell_type": "markdown",
   "metadata": {}
  },
  {
   "cell_type": "code",
   "execution_count": 2,
   "metadata": {},
   "outputs": [],
   "source": [
    "sample = src.load.sewer()"
   ]
  },
  {
   "cell_type": "code",
   "execution_count": 3,
   "metadata": {},
   "outputs": [
    {
     "output_type": "execute_result",
     "data": {
      "text/plain": [
       "   Immunity    Age  Exposure  Children\n",
       "0         0  41.43         2         2\n",
       "1         0  51.79         2         2\n",
       "2         1  41.12         2         2\n",
       "3         1  29.95         3         2\n",
       "4         1  40.78         2         2"
      ],
      "text/html": "<div>\n<style scoped>\n    .dataframe tbody tr th:only-of-type {\n        vertical-align: middle;\n    }\n\n    .dataframe tbody tr th {\n        vertical-align: top;\n    }\n\n    .dataframe thead th {\n        text-align: right;\n    }\n</style>\n<table border=\"1\" class=\"dataframe\">\n  <thead>\n    <tr style=\"text-align: right;\">\n      <th></th>\n      <th>Immunity</th>\n      <th>Age</th>\n      <th>Exposure</th>\n      <th>Children</th>\n    </tr>\n  </thead>\n  <tbody>\n    <tr>\n      <th>0</th>\n      <td>0</td>\n      <td>41.43</td>\n      <td>2</td>\n      <td>2</td>\n    </tr>\n    <tr>\n      <th>1</th>\n      <td>0</td>\n      <td>51.79</td>\n      <td>2</td>\n      <td>2</td>\n    </tr>\n    <tr>\n      <th>2</th>\n      <td>1</td>\n      <td>41.12</td>\n      <td>2</td>\n      <td>2</td>\n    </tr>\n    <tr>\n      <th>3</th>\n      <td>1</td>\n      <td>29.95</td>\n      <td>3</td>\n      <td>2</td>\n    </tr>\n    <tr>\n      <th>4</th>\n      <td>1</td>\n      <td>40.78</td>\n      <td>2</td>\n      <td>2</td>\n    </tr>\n  </tbody>\n</table>\n</div>"
     },
     "metadata": {},
     "execution_count": 3
    }
   ],
   "source": [
    "sample.head()"
   ]
  },
  {
   "cell_type": "markdown",
   "metadata": {},
   "source": [
    "## Approximate confidence interval for the difference between two proportions\n",
    "\n",
    "We want to estimate the difference between the proportion infected among sewerage workers without children and the proportion infected among sewerage workers with children, together with a 95% confidence interval for this difference.\n",
    "\n",
    "Declare and initialise a number of diffrent local variables."
   ]
  },
  {
   "cell_type": "code",
   "execution_count": 4,
   "metadata": {},
   "outputs": [],
   "source": [
    "# get immunity & children, immunity=1, children=2\n",
    "children = sample.query('Immunity == 1 & Children == 2').count()[0]\n",
    "\n",
    "# get count children\n",
    "size_children = sample.query('Children == 2').count()[0]"
   ]
  },
  {
   "cell_type": "code",
   "execution_count": 5,
   "metadata": {},
   "outputs": [],
   "source": [
    "# get immune no children, immunity=1, children=1\n",
    "no_children = sample.query('Immunity == 1 & Children == 1').count()[0]\n",
    "\n",
    "# get count no children\n",
    "size_no_children = sample.query('Children == 1').count()[0]"
   ]
  },
  {
   "source": [
    "Note the default actual argument for formal agument `method` is `newcomb`, but this does not return the result expected in **M248.**"
   ],
   "cell_type": "markdown",
   "metadata": {}
  },
  {
   "cell_type": "code",
   "execution_count": 6,
   "metadata": {},
   "outputs": [
    {
     "output_type": "execute_result",
     "data": {
      "text/plain": [
       "(0.1582197356059404, 0.38825404377923145)"
      ]
     },
     "metadata": {},
     "execution_count": 6
    }
   ],
   "source": [
    "confint_proportions_2indep(\n",
    "    count1=children,\n",
    "    nobs1=size_children,\n",
    "    count2=no_children,\n",
    "    nobs2=size_no_children,\n",
    "    method=\"wald\"\n",
    ")"
   ]
  },
  {
   "source": [
    "help(confint_proportions_2indep)"
   ],
   "cell_type": "code",
   "metadata": {},
   "execution_count": 7,
   "outputs": [
    {
     "output_type": "stream",
     "name": "stdout",
     "text": [
      "Help on function confint_proportions_2indep in module statsmodels.stats.proportion:\n\nconfint_proportions_2indep(count1, nobs1, count2, nobs2, method=None, compare='diff', alpha=0.05, correction=True)\n    Confidence intervals for comparing two independent proportions\n    \n    This assumes that we have two independent binomial samples.\n    \n    Parameters\n    ----------\n    count1, nobs1 : float\n        Count and sample size for first sample.\n    count2, nobs2 : float\n        Count and sample size for the second sample.\n    method : str\n        Method for computing confidence interval. If method is None, then a\n        default method is used. The default might change as more methods are\n        added.\n    \n        diff:\n         - 'wald',\n         - 'agresti-caffo'\n         - 'newcomb' (default)\n         - 'score'\n    \n        ratio:\n         - 'log'\n         - 'log-adjusted' (default)\n         - 'score'\n    \n        odds-ratio:\n         - 'logit'\n         - 'logit-adjusted' (default)\n         - 'score'\n    \n    compare : string in ['diff', 'ratio' 'odds-ratio']\n        If compare is diff, then the confidence interval is for diff = p1 - p2.\n        If compare is ratio, then the confidence interval is for the risk ratio\n        defined by ratio = p1 / p2.\n        If compare is odds-ratio, then the confidence interval is for the\n        odds-ratio defined by or = p1 / (1 - p1) / (p2 / (1 - p2).\n    alpha : float\n        Significance level for the confidence interval, default is 0.05.\n        The nominal coverage probability is 1 - alpha.\n    \n    Returns\n    -------\n    low, upp\n    \n    Notes\n    -----\n    Status: experimental, API and defaults might still change.\n        more ``methods`` will be added.\n\n"
     ]
    }
   ]
  }
 ],
 "metadata": {
  "kernelspec": {
   "name": "python383jvsc74a57bd0ff1f241afc5a4c2e07811e38e6858495d05af165b3766e4314a3d7953c54c6af",
   "display_name": "Python 3.8.3 64-bit"
  },
  "language_info": {
   "codemirror_mode": {
    "name": "ipython",
    "version": 3
   },
   "file_extension": ".py",
   "mimetype": "text/x-python",
   "name": "python",
   "nbconvert_exporter": "python",
   "pygments_lexer": "ipython3",
   "version": "3.8.3"
  },
  "metadata": {
   "interpreter": {
    "hash": "ff1f241afc5a4c2e07811e38e6858495d05af165b3766e4314a3d7953c54c6af"
   }
  }
 },
 "nbformat": 4,
 "nbformat_minor": 4
}