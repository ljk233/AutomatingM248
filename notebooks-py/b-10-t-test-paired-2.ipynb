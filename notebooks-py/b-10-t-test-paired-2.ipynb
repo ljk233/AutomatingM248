{
 "cells": [
  {
   "cell_type": "markdown",
   "metadata": {},
   "source": [
    "# Hypthesis test: a paired two-sample $t$-test\n",
    "\n",
    "**date**\n",
    ": 2021-04-17\n",
    "\n",
    "**data**\n",
    ": `darwin.csv`\n",
    "\n",
    "**ref**\n",
    ": Computer book B, Activity 25(b)\n",
    "\n",
    "**desc**\n",
    ": Performing a **paired two-sample** $t$-**test** where the difference between two samples is *not* calculated.\n",
    "\n",
    "This is a follow-up activity to `b-09-t-test-paired-1.ipynb`.\n",
    "The method to achive the result is different, but the result is the same.\n",
    "Please see that notebook for additional commentary."
   ]
  },
  {
   "cell_type": "code",
   "execution_count": 9,
   "metadata": {},
   "outputs": [],
   "source": [
    "from scripts.data import Data\n",
    "from scipy.stats import ttest_rel\n",
    "from statsmodels.stats.weightstats import CompareMeans"
   ]
  },
  {
   "cell_type": "code",
   "execution_count": 2,
   "metadata": {},
   "outputs": [],
   "source": [
    "darwin = Data.load_darwin()"
   ]
  },
  {
   "source": [
    "Let the hypotheses be\n",
    "\n",
    "$$\n",
    "H_{0} : \\mu_{D} = 0, \\hspace{3mm} H_{1} : \\mu_{D} \\neq 0,\n",
    "$$\n",
    "\n",
    "where $\\mu_{D}$ is the mean difference between the heights of paired plants.\n",
    "\n",
    "Perform the hypothesis test using `scipy.stats.ttest_rel`"
   ],
   "cell_type": "markdown",
   "metadata": {}
  },
  {
   "cell_type": "code",
   "execution_count": 7,
   "metadata": {},
   "outputs": [
    {
     "output_type": "execute_result",
     "data": {
      "text/plain": [
       "Ttest_relResult(statistic=2.1479874613311205, pvalue=0.04970294402180089)"
      ]
     },
     "metadata": {},
     "execution_count": 7
    }
   ],
   "source": [
    "ttest_rel(\n",
    "    a=darwin[\"Cross\"],\n",
    "    b=darwin[\"Self\"]\n",
    ")"
   ]
  },
  {
   "cell_type": "code",
   "execution_count": 8,
   "metadata": {},
   "outputs": [
    {
     "output_type": "stream",
     "name": "stdout",
     "text": [
      "Help on function ttest_rel in module scipy.stats.stats:\n\nttest_rel(a, b, axis=0, nan_policy='propagate', alternative='two-sided')\n    Calculate the t-test on TWO RELATED samples of scores, a and b.\n    \n    This is a two-sided test for the null hypothesis that 2 related or\n    repeated samples have identical average (expected) values.\n    \n    Parameters\n    ----------\n    a, b : array_like\n        The arrays must have the same shape.\n    axis : int or None, optional\n        Axis along which to compute test. If None, compute over the whole\n        arrays, `a`, and `b`.\n    nan_policy : {'propagate', 'raise', 'omit'}, optional\n        Defines how to handle when input contains nan.\n        The following options are available (default is 'propagate'):\n    \n          * 'propagate': returns nan\n          * 'raise': throws an error\n          * 'omit': performs the calculations ignoring nan values\n    alternative : {'two-sided', 'less', 'greater'}, optional\n        Defines the alternative hypothesis.\n        The following options are available (default is 'two-sided'):\n    \n          * 'two-sided'\n          * 'less': one-sided\n          * 'greater': one-sided\n    \n          .. versionadded:: 1.6.0\n    \n    Returns\n    -------\n    statistic : float or array\n        t-statistic.\n    pvalue : float or array\n        Two-sided p-value.\n    \n    Notes\n    -----\n    Examples for use are scores of the same set of student in\n    different exams, or repeated sampling from the same units. The\n    test measures whether the average score differs significantly\n    across samples (e.g. exams). If we observe a large p-value, for\n    example greater than 0.05 or 0.1 then we cannot reject the null\n    hypothesis of identical average scores. If the p-value is smaller\n    than the threshold, e.g. 1%, 5% or 10%, then we reject the null\n    hypothesis of equal averages. Small p-values are associated with\n    large t-statistics.\n    \n    References\n    ----------\n    https://en.wikipedia.org/wiki/T-test#Dependent_t-test_for_paired_samples\n    \n    Examples\n    --------\n    >>> from scipy import stats\n    >>> np.random.seed(12345678) # fix random seed to get same numbers\n    \n    >>> rvs1 = stats.norm.rvs(loc=5,scale=10,size=500)\n    >>> rvs2 = (stats.norm.rvs(loc=5,scale=10,size=500) +\n    ...         stats.norm.rvs(scale=0.2,size=500))\n    >>> stats.ttest_rel(rvs1,rvs2)\n    (0.24101764965300962, 0.80964043445811562)\n    >>> rvs3 = (stats.norm.rvs(loc=8,scale=10,size=500) +\n    ...         stats.norm.rvs(scale=0.2,size=500))\n    >>> stats.ttest_rel(rvs1,rvs3)\n    (-3.9995108708727933, 7.3082402191726459e-005)\n\n"
     ]
    }
   ],
   "source": [
    "help(ttest_rel)"
   ]
  }
 ],
 "metadata": {
  "kernelspec": {
   "name": "python383jvsc74a57bd0ff1f241afc5a4c2e07811e38e6858495d05af165b3766e4314a3d7953c54c6af",
   "display_name": "Python 3.8.3 64-bit"
  },
  "language_info": {
   "codemirror_mode": {
    "name": "ipython",
    "version": 3
   },
   "file_extension": ".py",
   "mimetype": "text/x-python",
   "name": "python",
   "nbconvert_exporter": "python",
   "pygments_lexer": "ipython3",
   "version": "3.8.3"
  },
  "metadata": {
   "interpreter": {
    "hash": "ff1f241afc5a4c2e07811e38e6858495d05af165b3766e4314a3d7953c54c6af"
   }
  }
 },
 "nbformat": 4,
 "nbformat_minor": 4
}