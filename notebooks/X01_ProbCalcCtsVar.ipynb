{
 "metadata": {
  "language_info": {
   "codemirror_mode": {
    "name": "ipython",
    "version": 3
   },
   "file_extension": ".py",
   "mimetype": "text/x-python",
   "name": "python",
   "nbconvert_exporter": "python",
   "pygments_lexer": "ipython3",
   "version": "3.8.3-final"
  },
  "orig_nbformat": 2,
  "kernelspec": {
   "name": "Python 3.8.3 64-bit",
   "display_name": "Python 3.8.3 64-bit",
   "metadata": {
    "interpreter": {
     "hash": "ff1f241afc5a4c2e07811e38e6858495d05af165b3766e4314a3d7953c54c6af"
    }
   }
  }
 },
 "nbformat": 4,
 "nbformat_minor": 2,
 "cells": [
  {
   "source": [
    "# X1. Probability Calculator for Continuous Variables\n",
    "\n",
    "-----\n",
    "\n",
    "1. Update `return` in `integrand()` to $f(x)$\n",
    "    - $f(x)$ should be function to integrate\n",
    "2. Define the range of $f(x)$\n",
    "3. Run"
   ],
   "cell_type": "markdown",
   "metadata": {}
  },
  {
   "cell_type": "code",
   "execution_count": 1,
   "metadata": {},
   "outputs": [
    {
     "output_type": "execute_result",
     "data": {
      "text/plain": [
       "0.5"
      ]
     },
     "metadata": {},
     "execution_count": 1
    }
   ],
   "source": [
    "from scipy.integrate import quad\n",
    "\n",
    "# define f(x)\n",
    "def integrand(x):\n",
    "    return x\n",
    "\n",
    "# define range for integration\n",
    "x1: float = 0\n",
    "x2: float = 1\n",
    "\n",
    "I = quad(integrand, x1, x2)\n",
    "round(I[0], 6)"
   ]
  },
  {
   "source": [
    "## Test\n",
    "\n",
    "A continuous random variable $X$ with range $(0,5)$ has p.d.f. given by\n",
    "\n",
    "$$\n",
    "f(x) = 0.048x(5 - x), \\hspace{3mm} \\text{for } x \\in (0,5)\n",
    "$$\n"
   ],
   "cell_type": "markdown",
   "metadata": {}
  },
  {
   "cell_type": "code",
   "execution_count": 2,
   "metadata": {},
   "outputs": [],
   "source": [
    "def integrand(x):\n",
    "    return 0.048 * x * (5 - x)"
   ]
  },
  {
   "source": [
    "Calculate $P(X<2)$\n"
   ],
   "cell_type": "markdown",
   "metadata": {}
  },
  {
   "cell_type": "code",
   "execution_count": 3,
   "metadata": {},
   "outputs": [
    {
     "output_type": "execute_result",
     "data": {
      "text/plain": [
       "0.352"
      ]
     },
     "metadata": {},
     "execution_count": 3
    }
   ],
   "source": [
    "# define integration range\n",
    "x1: float = 0  # L\n",
    "x2: float = 2\n",
    "\n",
    "Ia = quad(integrand, x1, x2)\n",
    "round(Ia[0], 6)"
   ]
  },
  {
   "source": [
    "Calculate $P(X>2)$"
   ],
   "cell_type": "markdown",
   "metadata": {}
  },
  {
   "cell_type": "code",
   "execution_count": 4,
   "metadata": {},
   "outputs": [
    {
     "output_type": "execute_result",
     "data": {
      "text/plain": [
       "0.648"
      ]
     },
     "metadata": {},
     "execution_count": 4
    }
   ],
   "source": [
    "# define integration range\n",
    "x3: float = 2\n",
    "x4: float = 5\n",
    "\n",
    "Ib = quad(integrand, x3, x4)\n",
    "round(Ib[0], 6)"
   ]
  },
  {
   "source": [
    "Sanity check: Does the answers to first two questions sum to 1?"
   ],
   "cell_type": "markdown",
   "metadata": {}
  },
  {
   "cell_type": "code",
   "execution_count": 5,
   "metadata": {},
   "outputs": [
    {
     "output_type": "execute_result",
     "data": {
      "text/plain": [
       "True"
      ]
     },
     "metadata": {},
     "execution_count": 5
    }
   ],
   "source": [
    "# Sanity check: Does P(X<2) + P(X>2) = 1?\n",
    "sanity: bool = Ia[0] + Ib[0] == 1\n",
    "sanity"
   ]
  }
 ]
}