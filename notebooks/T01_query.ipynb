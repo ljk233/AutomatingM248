{
 "metadata": {
  "language_info": {
   "codemirror_mode": {
    "name": "ipython",
    "version": 3
   },
   "file_extension": ".py",
   "mimetype": "text/x-python",
   "name": "python",
   "nbconvert_exporter": "python",
   "pygments_lexer": "ipython3",
   "version": "3.8.3-final"
  },
  "orig_nbformat": 2,
  "kernelspec": {
   "name": "Python 3.8.3 64-bit",
   "display_name": "Python 3.8.3 64-bit",
   "metadata": {
    "interpreter": {
     "hash": "ff1f241afc5a4c2e07811e38e6858495d05af165b3766e4314a3d7953c54c6af"
    }
   }
  }
 },
 "nbformat": 4,
 "nbformat_minor": 2,
 "cells": [
  {
   "source": [
    "# T1. Testing `query`\n",
    "\n",
    "-----\n",
    "\n",
    "    2020-10-09"
   ],
   "cell_type": "markdown",
   "metadata": {}
  },
  {
   "cell_type": "code",
   "execution_count": 1,
   "metadata": {},
   "outputs": [],
   "source": [
    "import M248.query as query"
   ]
  },
  {
   "cell_type": "code",
   "execution_count": 2,
   "metadata": {},
   "outputs": [],
   "source": [
    "# Create connection to the database\n",
    "db = query.Database(\"sets\")"
   ]
  },
  {
   "cell_type": "code",
   "execution_count": 3,
   "metadata": {},
   "outputs": [
    {
     "output_type": "stream",
     "name": "stdout",
     "text": [
      "Table list\n----------\nDistance\nMembership\nMemory\nResponseInhibition\nTattoos\n"
     ]
    }
   ],
   "source": [
    "# Testing connection to db\n",
    "db.listTables()"
   ]
  },
  {
   "cell_type": "code",
   "execution_count": 4,
   "metadata": {},
   "outputs": [],
   "source": [
    "# Query a table in db\n",
    "table = query.Table(\"Distance\", db)"
   ]
  },
  {
   "cell_type": "code",
   "execution_count": 5,
   "metadata": {},
   "outputs": [],
   "source": [
    "# exports the table to a DataFrame\n",
    "df = table.toDF()"
   ]
  },
  {
   "cell_type": "code",
   "execution_count": 6,
   "metadata": {},
   "outputs": [
    {
     "output_type": "execute_result",
     "data": {
      "text/plain": [
       "   Road   Map\n",
       "0  10.7   9.5\n",
       "1  11.7   9.8\n",
       "2   6.5   5.0\n",
       "3  25.6  19.0\n",
       "4  29.4  23.0"
      ],
      "text/html": "<div>\n<style scoped>\n    .dataframe tbody tr th:only-of-type {\n        vertical-align: middle;\n    }\n\n    .dataframe tbody tr th {\n        vertical-align: top;\n    }\n\n    .dataframe thead th {\n        text-align: right;\n    }\n</style>\n<table border=\"1\" class=\"dataframe\">\n  <thead>\n    <tr style=\"text-align: right;\">\n      <th></th>\n      <th>Road</th>\n      <th>Map</th>\n    </tr>\n  </thead>\n  <tbody>\n    <tr>\n      <th>0</th>\n      <td>10.7</td>\n      <td>9.5</td>\n    </tr>\n    <tr>\n      <th>1</th>\n      <td>11.7</td>\n      <td>9.8</td>\n    </tr>\n    <tr>\n      <th>2</th>\n      <td>6.5</td>\n      <td>5.0</td>\n    </tr>\n    <tr>\n      <th>3</th>\n      <td>25.6</td>\n      <td>19.0</td>\n    </tr>\n    <tr>\n      <th>4</th>\n      <td>29.4</td>\n      <td>23.0</td>\n    </tr>\n  </tbody>\n</table>\n</div>"
     },
     "metadata": {},
     "execution_count": 6
    }
   ],
   "source": [
    "# Testing the DataFrame\n",
    "df.head()"
   ]
  },
  {
   "cell_type": "code",
   "execution_count": 7,
   "metadata": {},
   "outputs": [
    {
     "output_type": "execute_result",
     "data": {
      "text/plain": [
       "            Road        Map\n",
       "count  20.000000  20.000000\n",
       "mean   20.855000  16.130000\n",
       "std     9.611094   7.337151\n",
       "min     6.500000   4.800000\n",
       "25%    13.575000  11.000000\n",
       "50%    19.050000  14.900000\n",
       "75%    28.850000  21.775000\n",
       "max    40.500000  28.200000"
      ],
      "text/html": "<div>\n<style scoped>\n    .dataframe tbody tr th:only-of-type {\n        vertical-align: middle;\n    }\n\n    .dataframe tbody tr th {\n        vertical-align: top;\n    }\n\n    .dataframe thead th {\n        text-align: right;\n    }\n</style>\n<table border=\"1\" class=\"dataframe\">\n  <thead>\n    <tr style=\"text-align: right;\">\n      <th></th>\n      <th>Road</th>\n      <th>Map</th>\n    </tr>\n  </thead>\n  <tbody>\n    <tr>\n      <th>count</th>\n      <td>20.000000</td>\n      <td>20.000000</td>\n    </tr>\n    <tr>\n      <th>mean</th>\n      <td>20.855000</td>\n      <td>16.130000</td>\n    </tr>\n    <tr>\n      <th>std</th>\n      <td>9.611094</td>\n      <td>7.337151</td>\n    </tr>\n    <tr>\n      <th>min</th>\n      <td>6.500000</td>\n      <td>4.800000</td>\n    </tr>\n    <tr>\n      <th>25%</th>\n      <td>13.575000</td>\n      <td>11.000000</td>\n    </tr>\n    <tr>\n      <th>50%</th>\n      <td>19.050000</td>\n      <td>14.900000</td>\n    </tr>\n    <tr>\n      <th>75%</th>\n      <td>28.850000</td>\n      <td>21.775000</td>\n    </tr>\n    <tr>\n      <th>max</th>\n      <td>40.500000</td>\n      <td>28.200000</td>\n    </tr>\n  </tbody>\n</table>\n</div>"
     },
     "metadata": {},
     "execution_count": 7
    }
   ],
   "source": [
    "df.describe()"
   ]
  }
 ]
}