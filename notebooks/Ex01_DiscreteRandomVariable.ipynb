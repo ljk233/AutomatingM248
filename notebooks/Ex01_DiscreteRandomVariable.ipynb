{
 "cells": [
  {
   "cell_type": "markdown",
   "metadata": {},
   "source": [
    "# Example: Discrete Random Variables\n",
    "\n",
    "Date: 2020-11-08\n",
    "\n",
    "## Scenario\n",
    "\n",
    "Suppose that a random variable $x$ can only take the values ${0, 1, 2, 3, 4}$.\n",
    "The following table gives a function $p(x)$ of $X$.\n",
    "\n",
    "**Table 1**.\n",
    "\n",
    "| $x$    | 0   | 1   | 2   | 3   | 4   |\n",
    "|--------|-----|-----|-----|-----|-----|\n",
    "| $p(x)$ | 0.3 | 0.1 | 0.4 | 0.1 | 0.1 |\n",
    "\n",
    "-----"
   ]
  },
  {
   "cell_type": "markdown",
   "metadata": {},
   "source": [
    "## Questions\n",
    "\n",
    "**(a)** Prove that $p(x)$ a valid p.m.f. for $X$.\n",
    "\n",
    "**(b)** Construct a table showing the c.d.f. of $X$.\n",
    "\n",
    "**(c)** Calculate the probability that $X$ equals 3.\n",
    "\n",
    "**(d)** Calculate the probability that $X$ is less than 3.\n",
    "\n",
    "**(e)** Calculate the expected value of $X$.\n",
    "\n",
    "**(f)** Calculate the variance of $X$.\n",
    "\n",
    "-----"
   ]
  },
  {
   "cell_type": "markdown",
   "metadata": {},
   "source": [
    "## (a)\n",
    "\n",
    "A probability mass function $p(x)$ for a discrete random variable $X$ has the following properties.\n",
    "\n",
    "1. For all $x$ in the range of $X$, $0 < p(x) \\leq 1$.\n",
    "2. $\\sum_{x} p(x) = 1$, where the summation is over all $x$ in the range of $X$.\n",
    "\n",
    "The $p(x)$ given in the scenario meets both of the criteria, so $p(x)$ is a valid p.m.f."
   ]
  },
  {
   "cell_type": "markdown",
   "metadata": {},
   "source": [
    "## (b)\n",
    "\n",
    "**Table 2**.\n",
    "\n",
    "| $x$    | 0   | 1   | 2   | 3   | 4   |\n",
    "|--------|-----|-----|-----|-----|-----|\n",
    "| $p(x)$ | 0.3 | 0.1 | 0.4 | 0.1 | 0.1 |\n",
    "| $F(X)$ | 0.3 | 0.4 | 0.8 | 0.9 | 1   |"
   ]
  },
  {
   "cell_type": "markdown",
   "metadata": {},
   "source": [
    "## (c)\n",
    "\n",
    "The probability that $X$ is equal to 3 is $P(X=3)$.\n",
    "Reading from **Table 1** or **Table 2**, we can see that\n",
    "\n",
    "$$P(X=3) = 0.1.$$"
   ]
  },
  {
   "cell_type": "markdown",
   "metadata": {},
   "source": [
    "## (d)\n",
    "\n",
    "The probability that $X$ is less than 3 is $P(X<3) = P(X \\leq 2) = F(2)$.\n",
    "Reading from **Table 2**, we can see that\n",
    "\n",
    "$$P(X < 3) = F(2) = 0.8.$$"
   ]
  },
  {
   "cell_type": "markdown",
   "metadata": {},
   "source": [
    "## (e)\n",
    "\n",
    "For the given p.m.f., the value of $E(X)$ is calculated as\n",
    "\n",
    "$$\n",
    "\\begin{aligned}\n",
    "    E(X) = \\sum_{x} x \\> px &= 0(0.3) + 1(0.1) + 2(0.4) + 3(0.1) + 4(0.1) \\\\\n",
    "        &= 0 + 0.1 + 0.8 + 0.3 + 0.4 \\\\\n",
    "        &= 1.6.\n",
    "\\end{aligned}\n",
    "$$"
   ]
  },
  {
   "cell_type": "markdown",
   "metadata": {},
   "source": [
    "## (f)\n",
    "\n",
    "For the given p.m.f., the value of $V(X)$ is calculated as\n",
    "\n",
    "$$\n",
    "\\begin{aligned}\n",
    "    V(X) &= E(X^{2}) - E(X)^{2} = \\sum_{x} x^{2} \\> px - E(X)^{2} \\\\\n",
    "        &= 0(0.3) + 1(0.1) + 4(0.4) + 9(0.1) + 16(0.1) - 1.6^{2} \\\\\n",
    "        &= 0 + 0.1 + 1.6 + 0.9 + 1.6 - 2.56 \\\\\n",
    "        &= 1.64.\n",
    "\\end{aligned}\n",
    "$$"
   ]
  }
 ],
 "metadata": {
  "kernelspec": {
   "display_name": "Python 3",
   "language": "python",
   "name": "python3"
  },
  "language_info": {
   "codemirror_mode": {
    "name": "ipython",
    "version": 3
   },
   "file_extension": ".py",
   "mimetype": "text/x-python",
   "name": "python",
   "nbconvert_exporter": "python",
   "pygments_lexer": "ipython3",
   "version": "3.8.3"
  }
 },
 "nbformat": 4,
 "nbformat_minor": 4
}
