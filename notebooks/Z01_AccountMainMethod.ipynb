{
 "metadata": {
  "language_info": {
   "codemirror_mode": {
    "name": "ipython",
    "version": 3
   },
   "file_extension": ".py",
   "mimetype": "text/x-python",
   "name": "python",
   "nbconvert_exporter": "python",
   "pygments_lexer": "ipython3",
   "version": "3.8.3-final"
  },
  "orig_nbformat": 2,
  "kernelspec": {
   "name": "Python 3.8.3 64-bit",
   "display_name": "Python 3.8.3 64-bit",
   "metadata": {
    "interpreter": {
     "hash": "ff1f241afc5a4c2e07811e38e6858495d05af165b3766e4314a3d7953c54c6af"
    }
   }
  }
 },
 "nbformat": 4,
 "nbformat_minor": 2,
 "cells": [
  {
   "source": [
    "# Z1: Example of a Main Method using the `Account` Class\n",
    "\n",
    "-----\n",
    "\n",
    "An example of a Main method using [Account.py](https://github.com/ljk233/AutomatingM248/blob/master/notebooks/M250/Account.py).\n",
    "\n",
    "There are examples of\n",
    "\n",
    "- Instantiation\n",
    "- Using setter and getter messages\n",
    "- Messages\n",
    "    - Message-send with no arguments\n",
    "    - Message-send with arguments\n",
    "    - Messages with no answers\n",
    "    - Messages answers\n",
    "- Objects\n",
    "    - Sending messages to itself\n",
    "    - Collaborating"
   ],
   "cell_type": "markdown",
   "metadata": {}
  },
  {
   "source": [
    "## Reference\n",
    "\n",
    "[Example Java Class: Account](https://ljk233.github.io/m250/2020/10/12/ExampleJavaAccount.html)\n"
   ],
   "cell_type": "markdown",
   "metadata": {}
  },
  {
   "source": [
    "## Main method\n"
   ],
   "cell_type": "markdown",
   "metadata": {}
  },
  {
   "cell_type": "code",
   "execution_count": 1,
   "metadata": {},
   "outputs": [],
   "source": [
    "import M250.Account as m250"
   ]
  },
  {
   "source": [
    "`accountOne` is instantiated to the default values."
   ],
   "cell_type": "markdown",
   "metadata": {}
  },
  {
   "cell_type": "code",
   "execution_count": 2,
   "metadata": {},
   "outputs": [],
   "source": [
    "accountOne: object = m250.Account()  # declaration using default values"
   ]
  },
  {
   "source": [
    "`accountTwo` constructor has three **args**."
   ],
   "cell_type": "markdown",
   "metadata": {}
  },
  {
   "cell_type": "code",
   "execution_count": 3,
   "metadata": {},
   "outputs": [],
   "source": [
    "accountTwo: object = m250.Account(holderName=\"Joe Bloggs\",\n",
    "                                  accountNumber=\"456\",\n",
    "                                  anAmmount=200.0)  # declaration using args"
   ]
  },
  {
   "source": [
    "Use set messages to set the object **attribute values**."
   ],
   "cell_type": "markdown",
   "metadata": {}
  },
  {
   "source": [
    "Test message to check value.\n",
    "Example of **message-sends** with no arguments.\n",
    "There is a message-answer."
   ],
   "cell_type": "markdown",
   "metadata": {}
  },
  {
   "cell_type": "code",
   "execution_count": 4,
   "metadata": {},
   "outputs": [
    {
     "output_type": "execute_result",
     "data": {
      "text/plain": [
       "0.0"
      ]
     },
     "metadata": {},
     "execution_count": 4
    }
   ],
   "source": [
    "accountOne.getBalance()"
   ]
  },
  {
   "source": [
    "Examples of a **message-sends with arguments**.\n",
    "There are no **message answers**."
   ],
   "cell_type": "markdown",
   "metadata": {}
  },
  {
   "cell_type": "code",
   "execution_count": 5,
   "metadata": {},
   "outputs": [],
   "source": [
    "accountOne.setBalance(100.0)\n",
    "accountOne.setHolder(\"Anne Other\")\n",
    "accountOne.setNumber(\"123\")"
   ]
  },
  {
   "cell_type": "code",
   "execution_count": 6,
   "metadata": {},
   "outputs": [
    {
     "output_type": "execute_result",
     "data": {
      "text/plain": [
       "100.0"
      ]
     },
     "metadata": {},
     "execution_count": 6
    }
   ],
   "source": [
    "accountOne.getBalance()  # there is a message answer"
   ]
  },
  {
   "source": [
    "The message `credit()` is an example of a object **sending a message to itself**."
   ],
   "cell_type": "markdown",
   "metadata": {}
  },
  {
   "source": [
    "accountOne.credit(50.0)  # sends message to itself\n",
    "accountOne.getBalance()"
   ],
   "cell_type": "code",
   "metadata": {},
   "execution_count": 7,
   "outputs": [
    {
     "output_type": "execute_result",
     "data": {
      "text/plain": [
       "150.0"
      ]
     },
     "metadata": {},
     "execution_count": 7
    }
   ]
  },
  {
   "source": [
    "The message `debit()` is an example of a **selection condition**, followed by an object sending a message to itself (if condition is `True`)"
   ],
   "cell_type": "markdown",
   "metadata": {}
  },
  {
   "cell_type": "code",
   "execution_count": 8,
   "metadata": {},
   "outputs": [
    {
     "output_type": "execute_result",
     "data": {
      "text/plain": [
       "True"
      ]
     },
     "metadata": {},
     "execution_count": 8
    }
   ],
   "source": [
    "accountOne.debit(100.0)"
   ]
  },
  {
   "source": [
    "Example of a **selection condition** returning `False`"
   ],
   "cell_type": "markdown",
   "metadata": {}
  },
  {
   "cell_type": "code",
   "execution_count": 9,
   "metadata": {},
   "outputs": [
    {
     "output_type": "execute_result",
     "data": {
      "text/plain": [
       "False"
      ]
     },
     "metadata": {},
     "execution_count": 9
    }
   ],
   "source": [
    "accountTwo.debit(300.0)"
   ]
  },
  {
   "source": [
    "The message `transfer()` is an example of **object collaboration**."
   ],
   "cell_type": "markdown",
   "metadata": {}
  },
  {
   "cell_type": "code",
   "execution_count": 10,
   "metadata": {},
   "outputs": [
    {
     "output_type": "execute_result",
     "data": {
      "text/plain": [
       "50.0"
      ]
     },
     "metadata": {},
     "execution_count": 10
    }
   ],
   "source": [
    "accountOne.getBalance()"
   ]
  },
  {
   "cell_type": "code",
   "execution_count": 11,
   "metadata": {},
   "outputs": [
    {
     "output_type": "execute_result",
     "data": {
      "text/plain": [
       "200.0"
      ]
     },
     "metadata": {},
     "execution_count": 11
    }
   ],
   "source": [
    "accountTwo.getBalance()"
   ]
  },
  {
   "cell_type": "code",
   "execution_count": 12,
   "metadata": {},
   "outputs": [
    {
     "output_type": "execute_result",
     "data": {
      "text/plain": [
       "True"
      ]
     },
     "metadata": {},
     "execution_count": 12
    }
   ],
   "source": [
    "accountTwo.transfer(accountOne, 50.0)"
   ]
  },
  {
   "cell_type": "code",
   "execution_count": 13,
   "metadata": {},
   "outputs": [
    {
     "output_type": "execute_result",
     "data": {
      "text/plain": [
       "100.0"
      ]
     },
     "metadata": {},
     "execution_count": 13
    }
   ],
   "source": [
    "accountOne.getBalance()"
   ]
  },
  {
   "cell_type": "code",
   "execution_count": 14,
   "metadata": {},
   "outputs": [
    {
     "output_type": "execute_result",
     "data": {
      "text/plain": [
       "150.0"
      ]
     },
     "metadata": {},
     "execution_count": 14
    }
   ],
   "source": [
    "accountTwo.getBalance()"
   ]
  }
 ]
}