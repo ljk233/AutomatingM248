{
 "cells": [
  {
   "cell_type": "markdown",
   "metadata": {},
   "source": [
    "# B8 Quantiles of normal variables"
   ]
  },
  {
   "cell_type": "code",
   "execution_count": 1,
   "metadata": {},
   "outputs": [],
   "source": [
    "from m248_support import Standard_Normal, Normal\n",
    "from scipy import stats"
   ]
  },
  {
   "cell_type": "markdown",
   "metadata": {},
   "source": [
    "## 1 Calculating quantiles"
   ]
  },
  {
   "cell_type": "markdown",
   "metadata": {},
   "source": [
    "### Example 8.1.1\n",
    "\n",
    "Let $X$ be a random variable distributed $X \\sim N(100,15^{2})$.\n",
    "\n",
    "Calculate the values of the following quantiles\n",
    "\n",
    "**(a)** $q_{U}$\n",
    "\n",
    "**(b)** $q_{0.2}$\n",
    "\n",
    "**(c)** $q_{0.99}$"
   ]
  },
  {
   "cell_type": "code",
   "execution_count": 2,
   "metadata": {},
   "outputs": [],
   "source": [
    "# declare the distribution\n",
    "x = Normal(a_mean=100, a_std=15)"
   ]
  },
  {
   "cell_type": "markdown",
   "metadata": {},
   "source": [
    "#### (a)\n",
    "\n",
    "The $0.75-$quantile, $x$, of the distribution $N(100, 15^{2}$) is\n",
    "\n",
    "$$\n",
    "x = \\sigma q_{0.75} + \\mu = 15 q_{0.75} + 100,\n",
    "$$\n",
    "\n",
    "where $q_{0.75}$ is the $0.75-$quantile of the standard normal distribution, $q_{0.75} = \\cdots$"
   ]
  },
  {
   "cell_type": "code",
   "execution_count": 3,
   "metadata": {},
   "outputs": [
    {
     "data": {
      "text/plain": [
       "0.6745"
      ]
     },
     "execution_count": 3,
     "metadata": {},
     "output_type": "execute_result"
    }
   ],
   "source": [
    "Standard_Normal.has_quantile(a=0.75)"
   ]
  },
  {
   "cell_type": "markdown",
   "metadata": {},
   "source": [
    "Therefore, the $0.75-$quantile of the distribution is\n",
    "\n",
    "$$\n",
    "x = 15(0.6745) + 100 = \\cdots\n",
    "$$"
   ]
  },
  {
   "cell_type": "code",
   "execution_count": 4,
   "metadata": {},
   "outputs": [
    {
     "data": {
      "text/plain": [
       "110.1173"
      ]
     },
     "execution_count": 4,
     "metadata": {},
     "output_type": "execute_result"
    }
   ],
   "source": [
    "x.has_quantile(a=0.75)"
   ]
  },
  {
   "cell_type": "markdown",
   "metadata": {},
   "source": [
    "#### (b)\n",
    "\n",
    "The $0.2-$quantile, $x$, of the distribution $N(100, 15^{2}$) is\n",
    "\n",
    "$$\n",
    "x = \\sigma q_{0.2} + \\mu = 15 q_{0.2} + 100,\n",
    "$$\n",
    "\n",
    "where $q_{0.2}$ is the $0.22-$quantile of the standard normal distribution, $-q_{0.8} = \\cdots$"
   ]
  },
  {
   "cell_type": "code",
   "execution_count": 5,
   "metadata": {},
   "outputs": [
    {
     "data": {
      "text/plain": [
       "-0.8416"
      ]
     },
     "execution_count": 5,
     "metadata": {},
     "output_type": "execute_result"
    }
   ],
   "source": [
    "Standard_Normal.has_quantile(a=0.2)"
   ]
  },
  {
   "cell_type": "markdown",
   "metadata": {},
   "source": [
    "Therefore, the $0.2-$quantile of the distribution is\n",
    "\n",
    "$$\n",
    "x = 15(-0.8416) + 100 = \\cdots\n",
    "$$"
   ]
  },
  {
   "cell_type": "code",
   "execution_count": 6,
   "metadata": {},
   "outputs": [
    {
     "data": {
      "text/plain": [
       "87.3757"
      ]
     },
     "execution_count": 6,
     "metadata": {},
     "output_type": "execute_result"
    }
   ],
   "source": [
    "x.has_quantile(a=0.2)"
   ]
  },
  {
   "cell_type": "markdown",
   "metadata": {},
   "source": [
    "#### (c)\n",
    "\n",
    "The $0.99-$quantile, $x$, of the distribution $N(100, 15^{2}$) is\n",
    "\n",
    "$$\n",
    "x = \\sigma q_{0.99} + \\mu = 15 q_{0.99} + 100,\n",
    "$$\n",
    "\n",
    "where $q_{0.99}$ is the $0.99-$quantile of the standard normal distribution, $q_{0.99} = \\cdots$"
   ]
  },
  {
   "cell_type": "code",
   "execution_count": 7,
   "metadata": {},
   "outputs": [
    {
     "data": {
      "text/plain": [
       "2.3263"
      ]
     },
     "execution_count": 7,
     "metadata": {},
     "output_type": "execute_result"
    }
   ],
   "source": [
    "Standard_Normal.has_quantile(a=0.99)"
   ]
  },
  {
   "cell_type": "markdown",
   "metadata": {},
   "source": [
    "Therefore, the $0.99-$quantile of the distribution is\n",
    "\n",
    "$$\n",
    "x = 15(2.3263) + 100 = \\cdots\n",
    "$$"
   ]
  },
  {
   "cell_type": "code",
   "execution_count": 8,
   "metadata": {},
   "outputs": [
    {
     "data": {
      "text/plain": [
       "134.8952"
      ]
     },
     "execution_count": 8,
     "metadata": {},
     "output_type": "execute_result"
    }
   ],
   "source": [
    "x.has_quantile(a=0.99)"
   ]
  },
  {
   "cell_type": "markdown",
   "metadata": {},
   "source": [
    "### Example 8.1.2\n",
    "\n",
    "Suppose that the size (in inches) of skipjack tuna may reasonably be modelled by a normal distribution with mean 22 and standard deviation 2.\n",
    "\n",
    "According to the model, what is\n",
    "\n",
    "**(a)** the interquartile range of the distribution of skipjack tuna in this population?\n",
    "\n",
    "**(b)** the size $x$ such that only 5% of skipjack tuna in the population are bigger than this size?"
   ]
  },
  {
   "cell_type": "code",
   "execution_count": 9,
   "metadata": {},
   "outputs": [],
   "source": [
    "# declare the distribution\n",
    "x = Normal(a_mean=22, a_std=2)"
   ]
  },
  {
   "cell_type": "markdown",
   "metadata": {},
   "source": [
    "#### (a)\n",
    "\n",
    "The iqr is defined as $q_{U} - q_{L} = q_{0.75} - q_{0.25}$.\n",
    "\n",
    "The $0.75-$quantile, $x$, of the distribution $N(100, 15^{2}$) is\n",
    "\n",
    "$$\n",
    "x = \\sigma q_{0.75} + \\mu = 2 q_{0.75} + 22,\n",
    "$$\n",
    "\n",
    "where $q_{0.75}$ is the $0.75-$quantile of the standard normal distribution, $q_{0.75} = \\cdots$"
   ]
  },
  {
   "cell_type": "code",
   "execution_count": 10,
   "metadata": {},
   "outputs": [
    {
     "data": {
      "text/plain": [
       "0.6745"
      ]
     },
     "execution_count": 10,
     "metadata": {},
     "output_type": "execute_result"
    }
   ],
   "source": [
    "Standard_Normal.has_quantile(a=0.75)"
   ]
  },
  {
   "cell_type": "markdown",
   "metadata": {},
   "source": [
    "Therefore, the $0.75-$quantile of the distribution is\n",
    "\n",
    "$$\n",
    "x = 2(0.6745) + 22 = \\cdots\n",
    "$$"
   ]
  },
  {
   "cell_type": "code",
   "execution_count": 11,
   "metadata": {},
   "outputs": [
    {
     "data": {
      "text/plain": [
       "23.349"
      ]
     },
     "execution_count": 11,
     "metadata": {},
     "output_type": "execute_result"
    }
   ],
   "source": [
    "x.has_quantile(a=0.75)"
   ]
  },
  {
   "cell_type": "markdown",
   "metadata": {},
   "source": [
    "And the $0.25-$quantile, $x$, of the distribution $N(100, 15^{2}$) is\n",
    "\n",
    "$$\n",
    "x = 2 q_{0.25} + 22,\n",
    "$$\n",
    "\n",
    "where $q_{0.25}$ is the $0.25-$quantile of the standard normal distribution, $q_{0.25} = -q_{0.75} = \\cdots$"
   ]
  },
  {
   "cell_type": "code",
   "execution_count": 12,
   "metadata": {},
   "outputs": [
    {
     "data": {
      "text/plain": [
       "-0.6745"
      ]
     },
     "execution_count": 12,
     "metadata": {},
     "output_type": "execute_result"
    }
   ],
   "source": [
    "Standard_Normal.has_quantile(a=0.25)"
   ]
  },
  {
   "cell_type": "markdown",
   "metadata": {},
   "source": [
    "Therefore, the $0.25-$quantile of the distribution is\n",
    "\n",
    "$$\n",
    "x = 2 (0.6745) + 22 = \\cdots\n",
    "$$"
   ]
  },
  {
   "cell_type": "code",
   "execution_count": 13,
   "metadata": {},
   "outputs": [
    {
     "data": {
      "text/plain": [
       "20.651"
      ]
     },
     "execution_count": 13,
     "metadata": {},
     "output_type": "execute_result"
    }
   ],
   "source": [
    "x.has_quantile(a=0.25)"
   ]
  },
  {
   "cell_type": "markdown",
   "metadata": {},
   "source": [
    "Therefore, the distribution has iqr $\\ldots$"
   ]
  },
  {
   "cell_type": "code",
   "execution_count": 14,
   "metadata": {},
   "outputs": [
    {
     "data": {
      "text/plain": [
       "2.698"
      ]
     },
     "execution_count": 14,
     "metadata": {},
     "output_type": "execute_result"
    }
   ],
   "source": [
    "# calculate the iqr\n",
    "round(x.has_quantile(a=0.75) - x.has_quantile(a=0.25), 4)"
   ]
  },
  {
   "cell_type": "markdown",
   "metadata": {},
   "source": [
    "#### (b)\n",
    "\n",
    "The size of skipjack tuna, $x$ such that only 5% of skipjack tunas exceed that is that is the $0.95$-quantile.\n",
    "This is\n",
    "\n",
    "$$\n",
    "x = \\sigma q_{0.95} + \\mu = 2 q_{0.95} + 22,\n",
    "$$\n",
    "\n",
    "where $q_{0.95}$ is the $0.95-$quantile of the standard normal distribution, $q_{0.95} = \\cdots$"
   ]
  },
  {
   "cell_type": "code",
   "execution_count": 15,
   "metadata": {},
   "outputs": [
    {
     "data": {
      "text/plain": [
       "1.6449"
      ]
     },
     "execution_count": 15,
     "metadata": {},
     "output_type": "execute_result"
    }
   ],
   "source": [
    "Standard_Normal.has_quantile(a=0.95)"
   ]
  },
  {
   "cell_type": "markdown",
   "metadata": {},
   "source": [
    "Therefore, the size $x$ is\n",
    "\n",
    "$$\n",
    "x = 2 (1.6449) + 22 = \\cdots\n",
    "$$"
   ]
  },
  {
   "cell_type": "code",
   "execution_count": 16,
   "metadata": {},
   "outputs": [
    {
     "data": {
      "text/plain": [
       "25.2897"
      ]
     },
     "execution_count": 16,
     "metadata": {},
     "output_type": "execute_result"
    }
   ],
   "source": [
    "x.has_quantile(a=0.95)"
   ]
  }
 ],
 "metadata": {
  "kernelspec": {
   "display_name": "Python 3",
   "language": "python",
   "name": "python3"
  },
  "language_info": {
   "codemirror_mode": {
    "name": "ipython",
    "version": 3
   },
   "file_extension": ".py",
   "mimetype": "text/x-python",
   "name": "python",
   "nbconvert_exporter": "python",
   "pygments_lexer": "ipython3",
   "version": "3.8.3"
  }
 },
 "nbformat": 4,
 "nbformat_minor": 4
}
