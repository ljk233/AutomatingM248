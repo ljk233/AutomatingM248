{
 "metadata": {
  "language_info": {
   "codemirror_mode": {
    "name": "ipython",
    "version": 3
   },
   "file_extension": ".py",
   "mimetype": "text/x-python",
   "name": "python",
   "nbconvert_exporter": "python",
   "pygments_lexer": "ipython3",
   "version": "3.8.3-final"
  },
  "orig_nbformat": 2,
  "kernelspec": {
   "name": "Python 3.8.3 64-bit",
   "display_name": "Python 3.8.3 64-bit",
   "metadata": {
    "interpreter": {
     "hash": "ff1f241afc5a4c2e07811e38e6858495d05af165b3766e4314a3d7953c54c6af"
    }
   }
  }
 },
 "nbformat": 4,
 "nbformat_minor": 2,
 "cells": [
  {
   "source": [
    "# T02. Testing `probability`\n",
    "\n",
    "-----\n",
    "\n",
    "    2020-10-09"
   ],
   "cell_type": "markdown",
   "metadata": {}
  },
  {
   "cell_type": "code",
   "execution_count": 1,
   "metadata": {},
   "outputs": [],
   "source": [
    "import M248.probability as p"
   ]
  },
  {
   "cell_type": "code",
   "execution_count": 2,
   "metadata": {
    "tags": []
   },
   "outputs": [
    {
     "output_type": "stream",
     "name": "stdout",
     "text": [
      "Summary statistics of the distribution\n--------------------------------------\nE(X) = 2.25\nV(X) = 1.9125\nS(X) = 1.3829\n"
     ]
    }
   ],
   "source": [
    "# Declare the distribution\n",
    "distribution = p.Binomial(15,0.15)"
   ]
  },
  {
   "cell_type": "code",
   "execution_count": 3,
   "metadata": {
    "tags": []
   },
   "outputs": [
    {
     "output_type": "stream",
     "name": "stdout",
     "text": [
      "Various probability ranges of selection\n---------------------------------------\nP(X = 3) = 0.21843\nP(X <= 3) = 0.822655\nP(X < 3) = 0.604225\nP(X >= 3) = 0.395775\nP(X > 3) = 0.177345\n"
     ]
    }
   ],
   "source": [
    "# Calculate a probability\n",
    "distribution.calculateProbability(x1=3)"
   ]
  },
  {
   "cell_type": "code",
   "execution_count": null,
   "metadata": {},
   "outputs": [],
   "source": []
  }
 ]
}