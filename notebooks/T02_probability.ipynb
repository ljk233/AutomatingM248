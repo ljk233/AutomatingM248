{
 "metadata": {
  "language_info": {
   "codemirror_mode": {
    "name": "ipython",
    "version": 3
   },
   "file_extension": ".py",
   "mimetype": "text/x-python",
   "name": "python",
   "nbconvert_exporter": "python",
   "pygments_lexer": "ipython3",
   "version": "3.8.3-final"
  },
  "orig_nbformat": 2,
  "kernelspec": {
   "name": "Python 3.8.3 64-bit",
   "display_name": "Python 3.8.3 64-bit",
   "metadata": {
    "interpreter": {
     "hash": "ff1f241afc5a4c2e07811e38e6858495d05af165b3766e4314a3d7953c54c6af"
    }
   }
  }
 },
 "nbformat": 4,
 "nbformat_minor": 2,
 "cells": [
  {
   "source": [
    "# T02. Testing `probability`\n",
    "\n",
    "-----\n",
    "\n",
    "    2020-10-09"
   ],
   "cell_type": "markdown",
   "metadata": {}
  },
  {
   "cell_type": "code",
   "execution_count": 1,
   "metadata": {},
   "outputs": [],
   "source": [
    "import M248.probability as p"
   ]
  },
  {
   "source": [
    "## Testing `B(n,p)`\n",
    "\n",
    "-----"
   ],
   "cell_type": "markdown",
   "metadata": {}
  },
  {
   "cell_type": "code",
   "execution_count": 2,
   "metadata": {
    "tags": []
   },
   "outputs": [
    {
     "output_type": "stream",
     "name": "stdout",
     "text": [
      "Summary statistics of the distribution\n--------------------------------------\nE(X) = 2.25\nV(X) = 1.9125\nS(X) = 1.3829\n"
     ]
    }
   ],
   "source": [
    "# Declare the distribution\n",
    "binomial = p.B(15,0.15)"
   ]
  },
  {
   "cell_type": "code",
   "execution_count": 3,
   "metadata": {
    "tags": []
   },
   "outputs": [
    {
     "output_type": "stream",
     "name": "stdout",
     "text": [
      "Various probability ranges of selection\n---------------------------------------\nP(X = 3) = 0.21843\nP(X <= 3) = 0.822655\nP(X < 3) = 0.604225\nP(X >= 3) = 0.395775\nP(X > 3) = 0.177345\n"
     ]
    }
   ],
   "source": [
    "# Calculate a probability (1)\n",
    "binomial.calculateP(x1=3)"
   ]
  },
  {
   "cell_type": "code",
   "execution_count": 4,
   "metadata": {},
   "outputs": [
    {
     "output_type": "stream",
     "name": "stdout",
     "text": [
      "Various probability ranges of selection\n---------------------------------------\nP(1 <= X <= 8) = 0.912565\nP(1 < X <= 8) = 0.681333\nP(1 <= X < 8) = 0.912036\nP(1 < X < 8) = 0.680804\n"
     ]
    }
   ],
   "source": [
    "# Calculate a probability (2)\n",
    "binomial.calculateP(x1=1, x2=8)"
   ]
  },
  {
   "source": [
    "## Testing `G(p)`\n",
    "\n",
    "-----"
   ],
   "cell_type": "markdown",
   "metadata": {}
  },
  {
   "cell_type": "code",
   "execution_count": 6,
   "metadata": {},
   "outputs": [
    {
     "output_type": "stream",
     "name": "stdout",
     "text": [
      "Summary statistics of the distribution\n--------------------------------------\nE(X) = 4.0\nV(X) = 12.0\nS(X) = 3.4641\n"
     ]
    }
   ],
   "source": [
    "# Declare the distribution\n",
    "geometric = p.G(0.25)"
   ]
  },
  {
   "cell_type": "code",
   "execution_count": 7,
   "metadata": {},
   "outputs": [
    {
     "output_type": "stream",
     "name": "stdout",
     "text": [
      "Various probability ranges of selection\n---------------------------------------\nP(X = 3) = 0.140625\nP(X <= 3) = 0.578125\nP(X < 3) = 0.4375\nP(X >= 3) = 0.5625\nP(X > 3) = 0.421875\n"
     ]
    }
   ],
   "source": [
    "# Calculate a probability (1)\n",
    "geometric.calculateP(x1=3)"
   ]
  },
  {
   "cell_type": "code",
   "execution_count": 8,
   "metadata": {},
   "outputs": [
    {
     "output_type": "stream",
     "name": "stdout",
     "text": [
      "Various probability ranges of selection\n---------------------------------------\nP(1 <= X <= 8) = 0.899887\nP(1 < X <= 8) = 0.649887\nP(1 <= X < 8) = 0.866516\nP(1 < X < 8) = 0.616516\n"
     ]
    }
   ],
   "source": [
    "# Calculate a probability (2)\n",
    "geometric.calculateP(x1=1, x2=8)"
   ]
  },
  {
   "source": [
    "## Testing `Poisson(mu)`\n",
    "\n",
    "-----"
   ],
   "cell_type": "markdown",
   "metadata": {}
  },
  {
   "cell_type": "code",
   "execution_count": 11,
   "metadata": {},
   "outputs": [
    {
     "output_type": "stream",
     "name": "stdout",
     "text": [
      "Summary statistics of the distribution\n--------------------------------------\nE(X) = 4.5\nV(X) = 4.5\nS(X) = 2.1213\n"
     ]
    }
   ],
   "source": [
    "Poisson = p.Poisson(4.5)"
   ]
  },
  {
   "cell_type": "code",
   "execution_count": 12,
   "metadata": {},
   "outputs": [
    {
     "output_type": "stream",
     "name": "stdout",
     "text": [
      "Various probability ranges of selection\n---------------------------------------\nP(X = 4) = 0.189808\nP(X <= 4) = 0.532104\nP(X < 4) = 0.342296\nP(X >= 4) = 0.657704\nP(X > 4) = 0.467896\n"
     ]
    }
   ],
   "source": [
    "# Calculate a probability (1)\n",
    "Poisson.calculateP(x1=4)"
   ]
  },
  {
   "cell_type": "code",
   "execution_count": 13,
   "metadata": {},
   "outputs": [
    {
     "output_type": "stream",
     "name": "stdout",
     "text": [
      "Various probability ranges of selection\n---------------------------------------\nP(2 <= X <= 6) = 0.769951\nP(2 < X <= 6) = 0.657473\nP(2 <= X < 6) = 0.641831\nP(2 < X < 6) = 0.529352\n"
     ]
    }
   ],
   "source": [
    "# Calculate a probability (2)\n",
    "Poisson.calculateP(x1=2, x2=6)"
   ]
  },
  {
   "source": [
    "## Testing `DiscreteUniform(m, n)`\n",
    "\n",
    "-----"
   ],
   "cell_type": "markdown",
   "metadata": {}
  },
  {
   "cell_type": "code",
   "execution_count": 14,
   "metadata": {},
   "outputs": [
    {
     "output_type": "stream",
     "name": "stdout",
     "text": [
      "Summary statistics of the distribution\n--------------------------------------\nE(X) = 3.5\nV(X) = 2.916667\nS(X) = 1.7078\n"
     ]
    }
   ],
   "source": [
    "Uni = p.DiscreteUniform(1, 6)"
   ]
  },
  {
   "cell_type": "code",
   "execution_count": 15,
   "metadata": {},
   "outputs": [
    {
     "output_type": "stream",
     "name": "stdout",
     "text": [
      "Various probability ranges of selection\n---------------------------------------\nP(X = 4) = 0.166667\nP(X <= 4) = 0.833333\nP(X < 4) = 0.666667\nP(X >= 4) = 0.333333\nP(X > 4) = 0.166667\n"
     ]
    }
   ],
   "source": [
    "# Calculate a probability (1)\n",
    "Uni.calculateP(x1=4)"
   ]
  },
  {
   "cell_type": "code",
   "execution_count": 16,
   "metadata": {},
   "outputs": [
    {
     "output_type": "stream",
     "name": "stdout",
     "text": [
      "Various probability ranges of selection\n---------------------------------------\nP(2 <= X <= 5) = 0.641831\nP(2 < X <= 5) = 0.529352\nP(2 <= X < 5) = 0.471004\nP(2 < X < 5) = 0.358526\n"
     ]
    }
   ],
   "source": [
    "# Calculate a probability (2)\n",
    "Poisson.calculateP(x1=2, x2=5)"
   ]
  },
  {
   "source": [
    "## Testing `M(lambda)`\n",
    "\n",
    "-----"
   ],
   "cell_type": "markdown",
   "metadata": {}
  },
  {
   "cell_type": "code",
   "execution_count": 26,
   "metadata": {},
   "outputs": [
    {
     "output_type": "stream",
     "name": "stdout",
     "text": [
      "Summary statistics of the distribution\n--------------------------------------\nE(X) = 0.6667\nV(X) = 0.4444\nS(X) = 0.6667\n"
     ]
    }
   ],
   "source": [
    "exponentional = p.M(1.5)"
   ]
  },
  {
   "cell_type": "code",
   "execution_count": 27,
   "metadata": {},
   "outputs": [
    {
     "output_type": "stream",
     "name": "stdout",
     "text": [
      "Probability range of selection\n---------------------------------------\nP(0.5 <= X <= 4.5) = 0.471196\n"
     ]
    }
   ],
   "source": [
    "# Calculate a probability (1)\n",
    "exponentional.calculateP(x1=0.5, x2=4.5)"
   ]
  },
  {
   "cell_type": "code",
   "execution_count": null,
   "metadata": {},
   "outputs": [],
   "source": []
  }
 ]
}