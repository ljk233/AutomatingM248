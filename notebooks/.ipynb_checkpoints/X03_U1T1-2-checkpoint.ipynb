{
 "cells": [
  {
   "cell_type": "markdown",
   "metadata": {},
   "source": [
    "# M248 Unit 1 Tutorial 1 (2/3)\n",
    "\n",
    "-----\n"
   ]
  },
  {
   "cell_type": "markdown",
   "metadata": {},
   "source": [
    "## Meta\n",
    "\n",
    "Date: 2020-10-10\n",
    "\n",
    "Dataset: `BikeWeeklyUsage`\n",
    "\n",
    "Description: <!--Description-->\n",
    "\n",
    "-----\n"
   ]
  },
  {
   "cell_type": "code",
   "execution_count": 1,
   "metadata": {},
   "outputs": [],
   "source": [
    "import M248.query as query\n",
    "import seaborn as sns"
   ]
  },
  {
   "cell_type": "code",
   "execution_count": 2,
   "metadata": {},
   "outputs": [],
   "source": [
    "# connect to db\n",
    "db: object = query.Database(\"sets\")\n",
    "# query tables\n",
    "bikeWeekly = query.Table(\"BikeRentalWeeklyDC\", db)\n",
    "# output tables to df\n",
    "df_bikeWeekly = bikeWeekly.toDF()"
   ]
  }
 ],
 "metadata": {
  "kernelspec": {
   "display_name": "Python 3",
   "language": "python",
   "name": "python3"
  },
  "language_info": {
   "codemirror_mode": {
    "name": "ipython",
    "version": 3
   },
   "file_extension": ".py",
   "mimetype": "text/x-python",
   "name": "python",
   "nbconvert_exporter": "python",
   "pygments_lexer": "ipython3",
   "version": "3.8.3"
  }
 },
 "nbformat": 4,
 "nbformat_minor": 4
}
