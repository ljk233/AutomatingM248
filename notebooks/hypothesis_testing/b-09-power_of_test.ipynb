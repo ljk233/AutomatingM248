{
 "cells": [
  {
   "cell_type": "markdown",
   "id": "e61c95ac-ea07-4181-b533-dc1a2c37ddb7",
   "metadata": {},
   "source": [
    "# Calculating the power of a test"
   ]
  },
  {
   "cell_type": "markdown",
   "id": "2389d704-b21f-46e9-b558-aa9c7c448ebc",
   "metadata": {},
   "source": [
    "## Setup the notebook"
   ]
  },
  {
   "cell_type": "code",
   "execution_count": 3,
   "id": "2f656685-b355-4d94-86ca-96300ffc7dba",
   "metadata": {},
   "outputs": [],
   "source": [
    "# import the packages\n",
    "from statsmodels.stats import power"
   ]
  },
  {
   "cell_type": "markdown",
   "id": "0ce233cd-33d4-44d7-8634-7ca020f5bad7",
   "metadata": {},
   "source": [
    "## Introduction"
   ]
  },
  {
   "cell_type": "markdown",
   "id": "7f9c8173-e98b-4eef-b5cb-06c500f02d07",
   "metadata": {},
   "source": [
    "## Scenario one\n",
    "\n",
    "*reference: PEx 9.43*\n",
    "\n",
    "A breakfast cereal manufacturer is concerned about the effectiveness of the packaging process for one of its cereals.\n",
    "Boxes should nominally contain 750 grams of the cereal and it is known, through extensive investigation in the past, that the weight of cereal in a box is approximately normally distributed with standard deviation 3 grams. \n",
    "\n",
    "The manufacturer decides to investigate the packaging process by weighing the contents of a random sample of 50 filled cereal boxes.\n",
    "A two-sided hypothesis test at the 5% significance level will be performed to detect a mean difference of 0.75 grams in weight of cereal. "
   ]
  },
  {
   "cell_type": "code",
   "execution_count": 4,
   "id": "67e432ba-079c-47ed-b32e-ce735baded91",
   "metadata": {},
   "outputs": [],
   "source": [
    "# declare parameters\n",
    "diff = 0.75\n",
    "n = 50\n",
    "a = 0.05\n",
    "sd = 3"
   ]
  },
  {
   "cell_type": "code",
   "execution_count": 5,
   "id": "77db03bf-7475-4603-bf51-5d884b9147ba",
   "metadata": {},
   "outputs": [
    {
     "data": {
      "text/plain": [
       "0.42389054125442516"
      ]
     },
     "execution_count": 5,
     "metadata": {},
     "output_type": "execute_result"
    }
   ],
   "source": [
    "# calculate power\n",
    "power.normal_power(effect_size=diff, nobs=n, alpha=a, sigma=sd)"
   ]
  },
  {
   "cell_type": "markdown",
   "id": "2d72c558-92e7-4f5d-ac82-265a92868932",
   "metadata": {},
   "source": [
    "## Scenario two\n",
    "\n",
    "*reference: PEx 9.44*\n",
    "\n",
    "A massive outbreak of food-borne illness in a city was attributed to Salmonella enteritidis.\n",
    "Epidemiologists determined that the source of the illness was ice-cream.\n",
    "They intend to take samples from 30 production runs from the company that had produced the ice-cream to determine the average level of Salmonella enteritidis.\n",
    "It is thought likely that the standard deviation of the average level of Salmonella enteritidis in the sampled ice-cream will be 0.28 MPN/g (in accordance with similar cases investigated in the past).\n",
    "The epidemiologists will perform a one-sided test at the 10% significance level to determine if the average level of Salmonella enteritidis in the company’s produced ice-cream exceeds 0.3 MPN/g (a level considered very dangerous).\n",
    "Suppose the true value of $\\mu$, the mean level of Salmonella enteritidis, was 0.36 MPN/g."
   ]
  },
  {
   "cell_type": "code",
   "execution_count": 13,
   "id": "659e5d21-8a4b-4827-a4a0-528a78802a1c",
   "metadata": {},
   "outputs": [],
   "source": [
    "# declare parameters\n",
    "diff = 0.06\n",
    "n = 30\n",
    "a = 0.1\n",
    "sd = 0.28"
   ]
  },
  {
   "cell_type": "code",
   "execution_count": 14,
   "id": "7d5d9d38-b3f1-4ba8-a566-05070ef2e0cc",
   "metadata": {},
   "outputs": [
    {
     "data": {
      "text/plain": [
       "0.4570532265579563"
      ]
     },
     "execution_count": 14,
     "metadata": {},
     "output_type": "execute_result"
    }
   ],
   "source": [
    "# calculate power\n",
    "power.normal_power(\n",
    "    effect_size=diff, nobs=n, alpha=a, alternative=\"larger\", sigma=sd)"
   ]
  },
  {
   "cell_type": "markdown",
   "id": "cf8fde90-91a0-4fa1-8cea-3edc96941a1f",
   "metadata": {},
   "source": [
    "## Scenario three\n",
    "\n",
    "*reference: PEx 9.46*\n",
    "\n",
    "A clinician has a random sample of size 50 with which to test the null hypothesis that the mean of a population is 0.\n",
    "It may be assumed that the population is normally distributed and that its standard deviation is known to be 35.\n",
    "\n",
    "The data will be analysed using a one-sided test with a 1% significance level.\n",
    "What is the power of this test for finding a difference of 8 between the true mean and 0."
   ]
  },
  {
   "cell_type": "code",
   "execution_count": 15,
   "id": "8969ddcb-d130-4c6a-98b3-674b4b193ac6",
   "metadata": {},
   "outputs": [],
   "source": [
    "# declare parameters\n",
    "diff = 8\n",
    "n = 50\n",
    "a = 0.01\n",
    "sd = 35"
   ]
  },
  {
   "cell_type": "code",
   "execution_count": 16,
   "id": "73a926d0-318a-4a6b-84c8-2778ac35ab3d",
   "metadata": {},
   "outputs": [
    {
     "data": {
      "text/plain": [
       "0.2388198841635401"
      ]
     },
     "execution_count": 16,
     "metadata": {},
     "output_type": "execute_result"
    }
   ],
   "source": [
    "# calculate power\n",
    "power.normal_power(\n",
    "    effect_size=diff, nobs=n, alpha=a, alternative=\"larger\", sigma=sd)"
   ]
  }
 ],
 "metadata": {
  "kernelspec": {
   "display_name": "Python 3.8",
   "language": "python",
   "name": "python3"
  },
  "language_info": {
   "codemirror_mode": {
    "name": "ipython",
    "version": 3
   },
   "file_extension": ".py",
   "mimetype": "text/x-python",
   "name": "python",
   "nbconvert_exporter": "python",
   "pygments_lexer": "ipython3",
   "version": "3.8.10"
  }
 },
 "nbformat": 4,
 "nbformat_minor": 5
}
