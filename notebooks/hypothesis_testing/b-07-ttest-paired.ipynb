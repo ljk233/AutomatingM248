{
 "cells": [
  {
   "cell_type": "markdown",
   "id": "e61c95ac-ea07-4181-b533-dc1a2c37ddb7",
   "metadata": {},
   "source": [
    "# Paired $t$-test"
   ]
  },
  {
   "cell_type": "markdown",
   "id": "5a7379ed-9a5b-4444-971a-ab7e2ac2a101",
   "metadata": {},
   "source": [
    "## Summary\n",
    "\n",
    "First, test the hypothesis $H_{0} : \\mu_{D} = 0, \\> \\mu_{D} > 0$, where $\\mu_{D}$ is the underlying population mean difference between the heights of paired plants. (See description.)\n",
    "\n",
    "Second, test the hypothesis $H_{0} : \\mu_{X} = \\mu_{S}, \\> \\mu_{X} > \\mu_{S}$, where $\\mu_{X}, \\> \\mu_{S}$ are the underlying population mean heights of the paired cross- and self-fertilised plants, respectivly. (See description.)"
   ]
  },
  {
   "cell_type": "markdown",
   "id": "7f9c8173-e98b-4eef-b5cb-06c500f02d07",
   "metadata": {},
   "source": [
    "## Introduction\n",
    "\n",
    "**description** : Heights of fifteen pairs of plants of the species *Zea mays*.\n",
    "Each plant had parents grown from the same seed, where one plant in each pair was the offspring of a cross-fertilisation, the other of a self-fertilisation."
   ]
  },
  {
   "cell_type": "markdown",
   "id": "3f360a46-b173-4b21-ad6d-1dddeb27fe6d",
   "metadata": {},
   "source": [
    "## Method"
   ]
  },
  {
   "cell_type": "markdown",
   "id": "8287f0e3-74fc-4787-ac38-99bdfca376fb",
   "metadata": {},
   "source": [
    "## Results"
   ]
  },
  {
   "cell_type": "markdown",
   "id": "2389d704-b21f-46e9-b558-aa9c7c448ebc",
   "metadata": {},
   "source": [
    "### Setup the notebook"
   ]
  },
  {
   "cell_type": "code",
   "execution_count": 1,
   "id": "2f656685-b355-4d94-86ca-96300ffc7dba",
   "metadata": {},
   "outputs": [],
   "source": [
    "# import the packages\n",
    "from src import load\n",
    "from scipy.stats import probplot, ttest_rel\n",
    "from statsmodels.stats.weightstats import DescrStatsW\n",
    "import seaborn as sns\n",
    "import matplotlib.pyplot as plt"
   ]
  },
  {
   "cell_type": "code",
   "execution_count": 2,
   "id": "77db03bf-7475-4603-bf51-5d884b9147ba",
   "metadata": {},
   "outputs": [],
   "source": [
    "# set the Seaborn theme\n",
    "sns.set_theme()"
   ]
  },
  {
   "cell_type": "markdown",
   "id": "2d72c558-92e7-4f5d-ac82-265a92868932",
   "metadata": {},
   "source": [
    "### Load the data"
   ]
  },
  {
   "cell_type": "code",
   "execution_count": 3,
   "id": "dda6d458-bd9c-49f2-ba15-b32032804437",
   "metadata": {},
   "outputs": [],
   "source": [
    "# import the data\n",
    "darwin = load.darwin()"
   ]
  },
  {
   "cell_type": "markdown",
   "id": "613c2d52-5989-4d8a-89c0-18db9d8fc652",
   "metadata": {},
   "source": [
    "### Prepare the data"
   ]
  },
  {
   "cell_type": "code",
   "execution_count": 4,
   "id": "f982a289-ed47-45bc-ba40-2d16bdcd6fe6",
   "metadata": {},
   "outputs": [],
   "source": [
    "# declare local vars\n",
    "x = darwin[\"Cross\"]\n",
    "s = darwin[\"Self\"]\n",
    "diff = x - s"
   ]
  },
  {
   "cell_type": "markdown",
   "id": "3f8da354-1a33-42a3-9e14-5e00ba9812c9",
   "metadata": {},
   "source": [
    "### One-sample test of the difference"
   ]
  },
  {
   "cell_type": "code",
   "execution_count": 5,
   "id": "933f2a9e-555d-4c05-8a5a-c362063208e3",
   "metadata": {},
   "outputs": [],
   "source": [
    "# one-sample test\n",
    "one_sample = DescrStatsW(data=diff)"
   ]
  },
  {
   "cell_type": "markdown",
   "id": "f6d7b279-e45c-4bd2-aba9-406df81ec336",
   "metadata": {},
   "source": [
    "#### Visualise the data"
   ]
  },
  {
   "cell_type": "code",
   "execution_count": 6,
   "id": "38b697ac-f9c4-4107-8879-87e6369c4801",
   "metadata": {},
   "outputs": [
    {
     "data": {
      "image/png": "[encoded data removed]",
      "text/plain": [
       "<Figure size 432x288 with 1 Axes>"
      ]
     },
     "metadata": {},
     "output_type": "display_data"
    }
   ],
   "source": [
    "# plot as boxplot\n",
    "ax = sns.boxplot(x=diff)\n",
    "ax.set(xlabel=\"height (cm)\", ylabel=\"difference in heights\")\n",
    "plt.show()"
   ]
  },
  {
   "cell_type": "markdown",
   "id": "b0597062-5c5d-48ba-a9dc-61ab8108b919",
   "metadata": {},
   "source": [
    "#### Check assumption of normality"
   ]
  },
  {
   "cell_type": "code",
   "execution_count": 7,
   "id": "ed5e2070-6642-4496-8ff4-6d7612e8d54d",
   "metadata": {},
   "outputs": [
    {
     "data": {
      "image/png": "[encoded data removed]",
      "text/plain": [
       "<Figure size 432x288 with 1 Axes>"
      ]
     },
     "metadata": {},
     "output_type": "display_data"
    }
   ],
   "source": [
    "ax = plt.subplot()\n",
    "probplot(x=diff, plot=ax)\n",
    "plt.show()"
   ]
  },
  {
   "cell_type": "markdown",
   "id": "c553f700-1e55-4016-bc2f-694b8d6092be",
   "metadata": {},
   "source": [
    "#### Calculate the mean difference"
   ]
  },
  {
   "cell_type": "code",
   "execution_count": 8,
   "id": "19bc270c-c33d-4cac-9710-b36af93a40e4",
   "metadata": {},
   "outputs": [
    {
     "data": {
      "text/plain": [
       "20.933333333333334"
      ]
     },
     "execution_count": 8,
     "metadata": {},
     "output_type": "execute_result"
    }
   ],
   "source": [
    "one_sample.mean"
   ]
  },
  {
   "cell_type": "markdown",
   "id": "59fb3dbc-6daf-4c0a-bca0-6124257c00fa",
   "metadata": {},
   "source": [
    "#### Calculate the test statistic and the $p$-value"
   ]
  },
  {
   "cell_type": "code",
   "execution_count": 9,
   "id": "52f7eda5-6b07-4fab-ae3a-059a4486570f",
   "metadata": {},
   "outputs": [],
   "source": [
    "# perform test\n",
    "tstat1, pval1, df1 = one_sample.ttest_mean(alternative=\"larger\")"
   ]
  },
  {
   "cell_type": "code",
   "execution_count": 10,
   "id": "3c33e812-9836-44e1-9896-bf03bd779ee3",
   "metadata": {},
   "outputs": [
    {
     "data": {
      "text/plain": [
       "14.0"
      ]
     },
     "execution_count": 10,
     "metadata": {},
     "output_type": "execute_result"
    }
   ],
   "source": [
    "# get df\n",
    "df1"
   ]
  },
  {
   "cell_type": "code",
   "execution_count": 11,
   "id": "e30373cf-5851-4577-b657-ddbc16ee5780",
   "metadata": {},
   "outputs": [
    {
     "data": {
      "text/plain": [
       "2.1479874613311205"
      ]
     },
     "execution_count": 11,
     "metadata": {},
     "output_type": "execute_result"
    }
   ],
   "source": [
    "# get t\n",
    "tstat1"
   ]
  },
  {
   "cell_type": "code",
   "execution_count": 12,
   "id": "fc48fb4d-9d5a-489c-95c4-7cb747a8eacf",
   "metadata": {},
   "outputs": [
    {
     "data": {
      "text/plain": [
       "0.024851472010900447"
      ]
     },
     "execution_count": 12,
     "metadata": {},
     "output_type": "execute_result"
    }
   ],
   "source": [
    "# get p\n",
    "pval1"
   ]
  },
  {
   "cell_type": "markdown",
   "id": "5d2c2251-2f33-419b-9819-d9d5d8b00341",
   "metadata": {},
   "source": [
    "### Two-sample $t$-test of equal means"
   ]
  },
  {
   "cell_type": "markdown",
   "id": "b2ce0abd-5f45-4849-a422-51ab8c5c447c",
   "metadata": {},
   "source": [
    "#### Visualise the data"
   ]
  },
  {
   "cell_type": "code",
   "execution_count": 13,
   "id": "9f32c42f-14d6-4eed-ac58-12cd263202ea",
   "metadata": {},
   "outputs": [
    {
     "data": {
      "image/png": "[encoded data removed]",
      "text/plain": [
       "<Figure size 432x288 with 1 Axes>"
      ]
     },
     "metadata": {},
     "output_type": "display_data"
    }
   ],
   "source": [
    "# plot as boxplots\n",
    "ax = sns.boxplot(data=darwin.melt(), x=\"value\", y=\"variable\")\n",
    "ax.set(xlabel=\"height (cm)\", ylabel=\"\")\n",
    "plt.show()"
   ]
  },
  {
   "cell_type": "markdown",
   "id": "89694a0b-bcff-4bfc-942a-bcc2da72e4a2",
   "metadata": {},
   "source": [
    "#### Check assumption of normality"
   ]
  },
  {
   "cell_type": "code",
   "execution_count": 14,
   "id": "d3a135ae-96fe-4b5e-9e48-ce9223ae9672",
   "metadata": {},
   "outputs": [
    {
     "data": {
      "image/png": "[encoded data removed]",
      "text/plain": [
       "<Figure size 432x288 with 2 Axes>"
      ]
     },
     "metadata": {},
     "output_type": "display_data"
    }
   ],
   "source": [
    "f, (ax1, ax2) = plt.subplots(nrows=1, ncols=2, sharey=True)\n",
    "probplot(x=x, plot=ax1)\n",
    "probplot(x=s, plot=ax2)\n",
    "ax1.set(title=\"type=Cross\")\n",
    "ax2.set(title=\"type=Self\")\n",
    "plt.show()"
   ]
  },
  {
   "cell_type": "markdown",
   "id": "c0f4bb91-1bcc-4f64-8c0c-0eca33489835",
   "metadata": {},
   "source": [
    "#### Calculate the means"
   ]
  },
  {
   "cell_type": "code",
   "execution_count": 15,
   "id": "ba1fc01f-13bb-4590-9d1d-f1efb2dbf292",
   "metadata": {},
   "outputs": [
    {
     "data": {
      "text/plain": [
       "161.53333333333333"
      ]
     },
     "execution_count": 15,
     "metadata": {},
     "output_type": "execute_result"
    }
   ],
   "source": [
    "x.mean()"
   ]
  },
  {
   "cell_type": "code",
   "execution_count": 16,
   "id": "479d2e8d-4a5e-42db-bd3b-0fda7c864cbc",
   "metadata": {},
   "outputs": [
    {
     "data": {
      "text/plain": [
       "140.6"
      ]
     },
     "execution_count": 16,
     "metadata": {},
     "output_type": "execute_result"
    }
   ],
   "source": [
    "s.mean()"
   ]
  },
  {
   "cell_type": "markdown",
   "id": "c0a81951-193e-434c-98f7-9fac3d194227",
   "metadata": {},
   "source": [
    "#### Calculate the test statistic and the $p$-value"
   ]
  },
  {
   "cell_type": "code",
   "execution_count": 17,
   "id": "85231ab5-8281-40c5-84fc-61da652e3649",
   "metadata": {},
   "outputs": [
    {
     "data": {
      "text/plain": [
       "28"
      ]
     },
     "execution_count": 17,
     "metadata": {},
     "output_type": "execute_result"
    }
   ],
   "source": [
    "# calcule df\n",
    "x.size + s.size - 2"
   ]
  },
  {
   "cell_type": "code",
   "execution_count": 18,
   "id": "0c71d8eb-0963-4d52-91f0-47dda8605d06",
   "metadata": {},
   "outputs": [],
   "source": [
    "# perform test\n",
    "tstat2, pval2 = ttest_rel(a=x, b=s, alternative=\"greater\")"
   ]
  },
  {
   "cell_type": "code",
   "execution_count": 19,
   "id": "46247f10-516e-4541-8bcf-1e88fffb116e",
   "metadata": {},
   "outputs": [
    {
     "data": {
      "text/plain": [
       "2.1479874613311205"
      ]
     },
     "execution_count": 19,
     "metadata": {},
     "output_type": "execute_result"
    }
   ],
   "source": [
    "# get t\n",
    "tstat2"
   ]
  },
  {
   "cell_type": "code",
   "execution_count": 20,
   "id": "55325008-c48e-4fcd-a3cb-85de47e3959e",
   "metadata": {},
   "outputs": [
    {
     "data": {
      "text/plain": [
       "0.024851472010900447"
      ]
     },
     "execution_count": 20,
     "metadata": {},
     "output_type": "execute_result"
    }
   ],
   "source": [
    "# get p\n",
    "pval2"
   ]
  },
  {
   "cell_type": "markdown",
   "id": "ba3b369b-eded-43dd-989b-08f90ced664a",
   "metadata": {},
   "source": [
    "## Discussion\n",
    "\n",
    "Given both $p \\in$ (0.01, 0.05], there is moderate to strong evidence against the null hypothesis.\n",
    "We conclude that there is evidence to suggest that the mean difference in heights of the plants is greater than zero with cross-fertilised plants being taller on average than self-fertilised plants."
   ]
  }
 ],
 "metadata": {
  "kernelspec": {
   "display_name": "Python 3.8",
   "language": "python",
   "name": "python3"
  },
  "language_info": {
   "codemirror_mode": {
    "name": "ipython",
    "version": 3
   },
   "file_extension": ".py",
   "mimetype": "text/x-python",
   "name": "python",
   "nbconvert_exporter": "python",
   "pygments_lexer": "ipython3",
   "version": "3.8.10"
  }
 },
 "nbformat": 4,
 "nbformat_minor": 5
}
