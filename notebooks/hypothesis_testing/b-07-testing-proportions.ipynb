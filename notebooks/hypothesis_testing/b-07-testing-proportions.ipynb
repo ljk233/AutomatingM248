{
 "cells": [
  {
   "cell_type": "markdown",
   "id": "e61c95ac-ea07-4181-b533-dc1a2c37ddb7",
   "metadata": {},
   "source": [
    "# Testing a proportion"
   ]
  },
  {
   "cell_type": "markdown",
   "id": "5a7379ed-9a5b-4444-971a-ab7e2ac2a101",
   "metadata": {},
   "source": [
    "## Summary\n",
    "\n",
    "Test the hypothesis $H_{0} : p_{W} = 0.25, \\> p_{W} \\neq 0.25$, \n",
    "where the $p_{W}$ is the proportion of young adults from 20 to 34 years-old living with their parents in Wales in 2014. (See description.)"
   ]
  },
  {
   "cell_type": "markdown",
   "id": "7f9c8173-e98b-4eef-b5cb-06c500f02d07",
   "metadata": {},
   "source": [
    "## Introduction\n",
    "\n",
    "The Labour Force Survey (ONS, 2014) of 254 young people aged between 20 and 34 years living in Wales found that 68 were still living at home with their parents.\n",
    "Previous surveys had found the same proportion to be one-in-four young adults still lived with their parents."
   ]
  },
  {
   "cell_type": "markdown",
   "id": "3f360a46-b173-4b21-ad6d-1dddeb27fe6d",
   "metadata": {},
   "source": [
    "## Method"
   ]
  },
  {
   "cell_type": "markdown",
   "id": "8287f0e3-74fc-4787-ac38-99bdfca376fb",
   "metadata": {},
   "source": [
    "## Results"
   ]
  },
  {
   "cell_type": "markdown",
   "id": "2389d704-b21f-46e9-b558-aa9c7c448ebc",
   "metadata": {},
   "source": [
    "### Setup the notebook"
   ]
  },
  {
   "cell_type": "code",
   "execution_count": 1,
   "id": "2f656685-b355-4d94-86ca-96300ffc7dba",
   "metadata": {},
   "outputs": [],
   "source": [
    "# import the packages\n",
    "from src import load\n",
    "from statsmodels.stats.proportion import proportion_confint, proportions_ztest"
   ]
  },
  {
   "cell_type": "code",
   "execution_count": 2,
   "id": "77db03bf-7475-4603-bf51-5d884b9147ba",
   "metadata": {},
   "outputs": [],
   "source": [
    "# set the Seaborn theme\n",
    "sns.set_theme()"
   ]
  },
  {
   "cell_type": "markdown",
   "id": "2d72c558-92e7-4f5d-ac82-265a92868932",
   "metadata": {},
   "source": [
    "### Perform the hypothesis test"
   ]
  },
  {
   "cell_type": "markdown",
   "id": "50cec32a-2aa4-48d1-b1b9-8ebb335f3712",
   "metadata": {},
   "source": [
    "#### Declare the parameters"
   ]
  },
  {
   "cell_type": "code",
   "execution_count": 4,
   "id": "dda6d458-bd9c-49f2-ba15-b32032804437",
   "metadata": {},
   "outputs": [],
   "source": [
    "x = 68   # number living at home\n",
    "n = 254  # sample size"
   ]
  },
  {
   "cell_type": "markdown",
   "id": "613c2d52-5989-4d8a-89c0-18db9d8fc652",
   "metadata": {},
   "source": [
    "#### Calculate $\\widehat{p}$"
   ]
  },
  {
   "cell_type": "code",
   "execution_count": 6,
   "id": "f982a289-ed47-45bc-ba40-2d16bdcd6fe6",
   "metadata": {},
   "outputs": [
    {
     "data": {
      "text/plain": [
       "0.2677165354330709"
      ]
     },
     "execution_count": 6,
     "metadata": {},
     "output_type": "execute_result"
    }
   ],
   "source": [
    "p = x/n\n",
    "p"
   ]
  },
  {
   "cell_type": "markdown",
   "id": "3f8da354-1a33-42a3-9e14-5e00ba9812c9",
   "metadata": {},
   "source": [
    "#### Get the $z$-interval"
   ]
  },
  {
   "cell_type": "code",
   "execution_count": 7,
   "id": "933f2a9e-555d-4c05-8a5a-c362063208e3",
   "metadata": {},
   "outputs": [
    {
     "data": {
      "text/plain": [
       "(0.2132652113912282, 0.32216785947491355)"
      ]
     },
     "execution_count": 7,
     "metadata": {},
     "output_type": "execute_result"
    }
   ],
   "source": [
    "proportion_confint(count=x, nobs=n)"
   ]
  },
  {
   "cell_type": "markdown",
   "id": "f6d7b279-e45c-4bd2-aba9-406df81ec336",
   "metadata": {},
   "source": [
    "#### Get the test statistic and $p$-value\n",
    "\n",
    "Note that actual argument for `prop_var` is the value of $p_{0}$.\n",
    "It is this proportion that is used to calculate estimated standard error."
   ]
  },
  {
   "cell_type": "code",
   "execution_count": 9,
   "id": "38b697ac-f9c4-4107-8879-87e6369c4801",
   "metadata": {},
   "outputs": [],
   "source": [
    "zstat, pval = proportions_ztest(count=x, nobs=n, value=0.25, prop_var=0.25)"
   ]
  },
  {
   "cell_type": "code",
   "execution_count": 10,
   "id": "95e56836-7946-4220-9dc5-56eca8f8220e",
   "metadata": {},
   "outputs": [
    {
     "data": {
      "text/plain": [
       "0.6520712004019975"
      ]
     },
     "execution_count": 10,
     "metadata": {},
     "output_type": "execute_result"
    }
   ],
   "source": [
    "# test statistic\n",
    "zstat"
   ]
  },
  {
   "cell_type": "code",
   "execution_count": 11,
   "id": "6111bd3b-c759-4fff-8d80-19bb626ae7c4",
   "metadata": {},
   "outputs": [
    {
     "data": {
      "text/plain": [
       "0.51435524178232"
      ]
     },
     "execution_count": 11,
     "metadata": {},
     "output_type": "execute_result"
    }
   ],
   "source": [
    "# p-value\n",
    "pval"
   ]
  },
  {
   "cell_type": "markdown",
   "id": "ba3b369b-eded-43dd-989b-08f90ced664a",
   "metadata": {},
   "source": [
    "## Discussion\n",
    "\n",
    "Given that $p >$ 0.1, there is little to no evidence against the null hypothesis."
   ]
  }
 ],
 "metadata": {
  "kernelspec": {
   "display_name": "Python 3.8",
   "language": "python",
   "name": "python3"
  },
  "language_info": {
   "codemirror_mode": {
    "name": "ipython",
    "version": 3
   },
   "file_extension": ".py",
   "mimetype": "text/x-python",
   "name": "python",
   "nbconvert_exporter": "python",
   "pygments_lexer": "ipython3",
   "version": "3.8.10"
  }
 },
 "nbformat": 4,
 "nbformat_minor": 5
}
