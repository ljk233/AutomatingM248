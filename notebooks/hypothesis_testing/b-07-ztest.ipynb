{
 "cells": [
  {
   "cell_type": "markdown",
   "id": "e61c95ac-ea07-4181-b533-dc1a2c37ddb7",
   "metadata": {},
   "source": [
    "# One-sample $z$-test"
   ]
  },
  {
   "cell_type": "markdown",
   "id": "5a7379ed-9a5b-4444-971a-ab7e2ac2a101",
   "metadata": {},
   "source": [
    "## Summary\n",
    "\n",
    "Test the hypotheses $H_{0} : \\mu = 47.1\\%, \\> H_{1} : \\mu \\neq 47.1\\%$, where $\\mu$ is the mean total pass rate for the driving practical test nationally across all UK test centres during the period April 2014 to March 2015.\n"
   ]
  },
  {
   "cell_type": "markdown",
   "id": "7f9c8173-e98b-4eef-b5cb-06c500f02d07",
   "metadata": {},
   "source": [
    "## Introduction"
   ]
  },
  {
   "cell_type": "markdown",
   "id": "3f360a46-b173-4b21-ad6d-1dddeb27fe6d",
   "metadata": {},
   "source": [
    "## Method"
   ]
  },
  {
   "cell_type": "markdown",
   "id": "8287f0e3-74fc-4787-ac38-99bdfca376fb",
   "metadata": {},
   "source": [
    "## Results"
   ]
  },
  {
   "cell_type": "markdown",
   "id": "2389d704-b21f-46e9-b558-aa9c7c448ebc",
   "metadata": {},
   "source": [
    "### Setup the notebook"
   ]
  },
  {
   "cell_type": "code",
   "execution_count": 1,
   "id": "2f656685-b355-4d94-86ca-96300ffc7dba",
   "metadata": {},
   "outputs": [],
   "source": [
    "# import the packages\n",
    "from src import load\n",
    "from statsmodels.stats.weightstats import DescrStatsW\n",
    "import seaborn as sns\n",
    "import matplotlib.pyplot as plt"
   ]
  },
  {
   "cell_type": "code",
   "execution_count": 2,
   "id": "77db03bf-7475-4603-bf51-5d884b9147ba",
   "metadata": {},
   "outputs": [],
   "source": [
    "# set the Seaborn theme\n",
    "sns.set_theme()"
   ]
  },
  {
   "cell_type": "markdown",
   "id": "2d72c558-92e7-4f5d-ac82-265a92868932",
   "metadata": {},
   "source": [
    "### Load the data"
   ]
  },
  {
   "cell_type": "code",
   "execution_count": 3,
   "id": "dda6d458-bd9c-49f2-ba15-b32032804437",
   "metadata": {},
   "outputs": [],
   "source": [
    "# load data, assign column to local var\n",
    "prac_test = load.practical_test()\n",
    "# assign column of interest to local var\n",
    "rt = prac_test[\"Total\"]"
   ]
  },
  {
   "cell_type": "markdown",
   "id": "b2ce0abd-5f45-4849-a422-51ab8c5c447c",
   "metadata": {},
   "source": [
    "### Visualise the data"
   ]
  },
  {
   "cell_type": "code",
   "execution_count": 4,
   "id": "9f32c42f-14d6-4eed-ac58-12cd263202ea",
   "metadata": {},
   "outputs": [
    {
     "data": {
      "image/png": "[encoded data removed]",
      "text/plain": [
       "<Figure size 432x288 with 1 Axes>"
      ]
     },
     "metadata": {},
     "output_type": "display_data"
    }
   ],
   "source": [
    "# plot as histogram\n",
    "ax = sns.histplot(x=rt, edgecolor=\"none\")\n",
    "ax.set(xlabel=\"Percentage\", ylabel=\"Frequency\")\n",
    "plt.show()"
   ]
  },
  {
   "cell_type": "code",
   "execution_count": 5,
   "id": "403a0f6b-c2d4-4878-9935-862746aa0cb0",
   "metadata": {},
   "outputs": [
    {
     "data": {
      "image/png": "[encoded data removed]",
      "text/plain": [
       "<Figure size 432x288 with 1 Axes>"
      ]
     },
     "metadata": {},
     "output_type": "display_data"
    }
   ],
   "source": [
    "# plot as boxplots\n",
    "ax = sns.boxplot(x=rt)\n",
    "ax.set(xlabel=\"Percentage\", ylabel=\"Total\")\n",
    "plt.show()"
   ]
  },
  {
   "cell_type": "markdown",
   "id": "89694a0b-bcff-4bfc-942a-bcc2da72e4a2",
   "metadata": {},
   "source": [
    "### Perform the $z$-test"
   ]
  },
  {
   "cell_type": "code",
   "execution_count": 6,
   "id": "d3a135ae-96fe-4b5e-9e48-ce9223ae9672",
   "metadata": {},
   "outputs": [],
   "source": [
    "# declare object\n",
    "ztest = DescrStatsW(data=rt)"
   ]
  },
  {
   "cell_type": "markdown",
   "id": "c0f4bb91-1bcc-4f64-8c0c-0eca33489835",
   "metadata": {},
   "source": [
    "#### Calculate the mean"
   ]
  },
  {
   "cell_type": "code",
   "execution_count": 7,
   "id": "ba1fc01f-13bb-4590-9d1d-f1efb2dbf292",
   "metadata": {},
   "outputs": [
    {
     "data": {
      "text/plain": [
       "49.63037974683544"
      ]
     },
     "execution_count": 7,
     "metadata": {},
     "output_type": "execute_result"
    }
   ],
   "source": [
    "ztest.mean"
   ]
  },
  {
   "cell_type": "markdown",
   "id": "1297f540-be0c-406d-9048-34339a2a0106",
   "metadata": {},
   "source": [
    "#### Calculate $z$-interval"
   ]
  },
  {
   "cell_type": "code",
   "execution_count": 8,
   "id": "9f7ceaa9-494c-40d6-9ec5-65048a1b5797",
   "metadata": {},
   "outputs": [
    {
     "data": {
      "text/plain": [
       "(48.840342381395864, 50.42041711227501)"
      ]
     },
     "execution_count": 8,
     "metadata": {},
     "output_type": "execute_result"
    }
   ],
   "source": [
    "ztest.zconfint_mean()"
   ]
  },
  {
   "cell_type": "markdown",
   "id": "c0a81951-193e-434c-98f7-9fac3d194227",
   "metadata": {},
   "source": [
    "#### Calculate the test statistic and the $p$-value"
   ]
  },
  {
   "cell_type": "code",
   "execution_count": 9,
   "id": "0c71d8eb-0963-4d52-91f0-47dda8605d06",
   "metadata": {},
   "outputs": [],
   "source": [
    "# perform test\n",
    "z, p = ztest.ztest_mean(value=47.1)"
   ]
  },
  {
   "cell_type": "code",
   "execution_count": 10,
   "id": "2241e355-49b4-4757-893a-f5cc8c80ad0c",
   "metadata": {},
   "outputs": [
    {
     "data": {
      "text/plain": [
       "6.2774919110915715"
      ]
     },
     "execution_count": 10,
     "metadata": {},
     "output_type": "execute_result"
    }
   ],
   "source": [
    "# get Z\n",
    "z"
   ]
  },
  {
   "cell_type": "code",
   "execution_count": 11,
   "id": "46247f10-516e-4541-8bcf-1e88fffb116e",
   "metadata": {},
   "outputs": [
    {
     "data": {
      "text/plain": [
       "3.4407815848731304e-10"
      ]
     },
     "execution_count": 11,
     "metadata": {},
     "output_type": "execute_result"
    }
   ],
   "source": [
    "# get p\n",
    "p"
   ]
  },
  {
   "cell_type": "markdown",
   "id": "ba3b369b-eded-43dd-989b-08f90ced664a",
   "metadata": {},
   "source": [
    "## Discussion\n",
    "\n",
    "Given $p <$ 0.01, there is strong evidence against the null hypothesis.\n",
    "The data suggests that the mean total pass rate from April 2013 to March 2014 was not equal to that from April 2012 to March 2013.\n",
    "Furthermore, with $Z > 0$, there is strong evidence to indicate that the mean total pass rate was greater from April 2013 to March 2014 compared to April 2012 to March 2013."
   ]
  }
 ],
 "metadata": {
  "kernelspec": {
   "display_name": "Python 3.8",
   "language": "python",
   "name": "python3"
  },
  "language_info": {
   "codemirror_mode": {
    "name": "ipython",
    "version": 3
   },
   "file_extension": ".py",
   "mimetype": "text/x-python",
   "name": "python",
   "nbconvert_exporter": "python",
   "pygments_lexer": "ipython3",
   "version": "3.8.10"
  }
 },
 "nbformat": 4,
 "nbformat_minor": 5
}
