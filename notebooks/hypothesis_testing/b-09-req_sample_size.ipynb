{
 "cells": [
  {
   "cell_type": "markdown",
   "id": "e61c95ac-ea07-4181-b533-dc1a2c37ddb7",
   "metadata": {},
   "source": [
    "# Calculating the required sample size"
   ]
  },
  {
   "cell_type": "markdown",
   "id": "2389d704-b21f-46e9-b558-aa9c7c448ebc",
   "metadata": {},
   "source": [
    "## Setup the notebook"
   ]
  },
  {
   "cell_type": "code",
   "execution_count": 1,
   "id": "2f656685-b355-4d94-86ca-96300ffc7dba",
   "metadata": {},
   "outputs": [],
   "source": [
    "# import the packages\n",
    "from scipy.stats import norm\n",
    "from math import ceil"
   ]
  },
  {
   "cell_type": "code",
   "execution_count": 2,
   "id": "725693f2-3613-4d1b-88cd-251b62ac25a9",
   "metadata": {},
   "outputs": [],
   "source": [
    "# declare functions\n",
    "def sample_size_one_tail(diff, power, alpha, sd_alt):\n",
    "    var_alt = sd_alt**2\n",
    "    diff_sq = diff**2\n",
    "    q = norm().ppf(1-alpha)\n",
    "    q_alt = norm().ppf(1-power)\n",
    "    return ceil((var_alt/diff_sq) * (q - q_alt)**2)"
   ]
  },
  {
   "cell_type": "code",
   "execution_count": 3,
   "id": "ed74c966-895e-47ce-bc7a-9bbe37225281",
   "metadata": {},
   "outputs": [],
   "source": [
    "def sample_size_two_tail(diff, power, alpha, sd_alt):\n",
    "    var_alt = sd_alt**2\n",
    "    diff_sq = diff**2\n",
    "    q = norm().ppf(1-alpha/2)\n",
    "    q_alt = norm().ppf(1-power)\n",
    "    return ceil((var_alt/diff_sq) * (q - q_alt)**2)"
   ]
  },
  {
   "cell_type": "markdown",
   "id": "0ce233cd-33d4-44d7-8634-7ca020f5bad7",
   "metadata": {},
   "source": [
    "## Introduction"
   ]
  },
  {
   "cell_type": "markdown",
   "id": "7f9c8173-e98b-4eef-b5cb-06c500f02d07",
   "metadata": {},
   "source": [
    "## Scenario one\n",
    "\n",
    "*reference: PEx 9.48*\n",
    "\n",
    "A breakfast cereal manufacturer is concerned about the effectiveness of the packaging process for one of its cereals.\n",
    "Boxes should nominally contain 750 grams of the cereal and it is known, through extensive investigation in the past, that the weight of cereal in a box is approximately normally distributed with standard deviation 3 grams. \n",
    "\n",
    "The manufacturer decides to investigate the packaging process by weighing the contents of a random sample of filled cereal boxes.\n",
    "A two-sided hypothesis test at the 5% significance level will be performed to detect a mean difference of 0.75 grams in weight of cereal.\n",
    "\n",
    "The manufacturer has some flexibility over the sample size that can be used for the test.\n",
    "What is the minimum sample size required in order for the power to be at least 0.9?"
   ]
  },
  {
   "cell_type": "code",
   "execution_count": 4,
   "id": "67e432ba-079c-47ed-b32e-ce735baded91",
   "metadata": {},
   "outputs": [],
   "source": [
    "# declare parameters\n",
    "d = 0.75\n",
    "test_power = 0.9\n",
    "a = 0.05\n",
    "sd = 3"
   ]
  },
  {
   "cell_type": "code",
   "execution_count": 5,
   "id": "77db03bf-7475-4603-bf51-5d884b9147ba",
   "metadata": {},
   "outputs": [
    {
     "data": {
      "text/plain": [
       "169"
      ]
     },
     "execution_count": 5,
     "metadata": {},
     "output_type": "execute_result"
    }
   ],
   "source": [
    "# calculate required sample size\n",
    "sample_size_two_tail(\n",
    "    diff=d, power=test_power, alpha=a, sd_alt=sd)"
   ]
  },
  {
   "cell_type": "markdown",
   "id": "2d72c558-92e7-4f5d-ac82-265a92868932",
   "metadata": {},
   "source": [
    "## Scenario two\n",
    "\n",
    "*reference: PEx 9.50*\n",
    "\n",
    "An engineer is planning an experiment to test the null hypothesis that walls insulated with a traditional material have the same level of dampness as those insulated with a new type of material.\n",
    "Past experience with the traditional material has shown that the level of dampness of walls insulated with the traditional material is normally distributed with mean 14.6 units and standard deviation 0.7 units.\n",
    "The engineer is prepared to assume that the dampness levels of walls treated with the new material will also have a normal distribution with standard deviation 0.7 units. \n",
    "\n",
    "The engineer wishes to measure the dampness of a random sample of walls treated with the new material in order to carry out a two-sided test with a 5% significance level: she wishes to detect a difference in the mean dampness level of 0.4 units.\n",
    "\n",
    "What is the minimum sample size required in order for the power to be at least 0.9?"
   ]
  },
  {
   "cell_type": "code",
   "execution_count": 6,
   "id": "659e5d21-8a4b-4827-a4a0-528a78802a1c",
   "metadata": {},
   "outputs": [],
   "source": [
    "# declare parameters\n",
    "d = 0.4\n",
    "test_power = 0.9\n",
    "a = 0.05\n",
    "sd = 0.7"
   ]
  },
  {
   "cell_type": "code",
   "execution_count": 7,
   "id": "7d5d9d38-b3f1-4ba8-a566-05070ef2e0cc",
   "metadata": {},
   "outputs": [
    {
     "data": {
      "text/plain": [
       "33"
      ]
     },
     "execution_count": 7,
     "metadata": {},
     "output_type": "execute_result"
    }
   ],
   "source": [
    "# calculate required sample size\n",
    "sample_size_two_tail(\n",
    "    diff=d, power=test_power, alpha=a, sd_alt=sd)"
   ]
  },
  {
   "cell_type": "markdown",
   "id": "cf8fde90-91a0-4fa1-8cea-3edc96941a1f",
   "metadata": {},
   "source": [
    "## Scenario three\n",
    "\n",
    "*reference: PEx 9.49*\n",
    "\n",
    "A massive outbreak of food-borne illness in a city was attributed to Salmonella enteritidis.\n",
    "Epidemiologists determined that the source of the illness was ice-cream.\n",
    "They intend to take samples from production runs from the company that had produced the ice-cream to determine the average level of Salmonella enteritidis.\n",
    "It is thought likely that the standard deviation of the average level of Salmonella enteritidis in the sampled ice-cream will be 0.28 MPN/g (in accordance with similar cases investigated in the past).\n",
    "The epidemiologists will perform a one-sided test at the 10% significance level to determine if the average level of Salmonella enteritidis in the company’s produced ice-cream exceeds 0.3 MPN/g (a level considered very dangerous).\n",
    "Suppose the true value of $\\mu$, the mean level of Salmonella enteritidis, was 0.36 MPN/g.\n",
    "\n",
    "What is the minimum number of samples of ice-cream required in order for the power to be at least 0.8?"
   ]
  },
  {
   "cell_type": "code",
   "execution_count": 8,
   "id": "8969ddcb-d130-4c6a-98b3-674b4b193ac6",
   "metadata": {},
   "outputs": [],
   "source": [
    "# declare parameters\n",
    "d = 0.06\n",
    "test_power = 0.8\n",
    "a = 0.1\n",
    "sd = 0.28"
   ]
  },
  {
   "cell_type": "code",
   "execution_count": 9,
   "id": "73a926d0-318a-4a6b-84c8-2778ac35ab3d",
   "metadata": {},
   "outputs": [
    {
     "data": {
      "text/plain": [
       "99"
      ]
     },
     "execution_count": 9,
     "metadata": {},
     "output_type": "execute_result"
    }
   ],
   "source": [
    "# calculate required sample size\n",
    "sample_size_one_tail(\n",
    "    diff=d, power=test_power, alpha=a, sd_alt=sd)"
   ]
  }
 ],
 "metadata": {
  "kernelspec": {
   "display_name": "Python 3.8",
   "language": "python",
   "name": "python3"
  },
  "language_info": {
   "codemirror_mode": {
    "name": "ipython",
    "version": 3
   },
   "file_extension": ".py",
   "mimetype": "text/x-python",
   "name": "python",
   "nbconvert_exporter": "python",
   "pygments_lexer": "ipython3",
   "version": "3.8.10"
  }
 },
 "nbformat": 4,
 "nbformat_minor": 5
}
