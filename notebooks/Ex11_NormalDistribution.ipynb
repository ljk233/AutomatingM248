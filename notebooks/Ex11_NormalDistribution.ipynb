{
 "cells": [
  {
   "cell_type": "markdown",
   "metadata": {},
   "source": [
    "# Normal Distribution in Python\n",
    "\n",
    "Date: 2020-11-03\n",
    "\n",
    "## Scenario\n",
    "\n",
    "It has been suggested by researchers that average fin width of sky mermaids may reasonably be modelled by a normal distribution with mean 60cm and standard deviation 5cm.\n",
    "\n",
    "-----"
   ]
  },
  {
   "cell_type": "markdown",
   "metadata": {},
   "source": [
    "## Questions\n",
    "\n",
    "**(a)** State and plot the distribution.\n",
    "\n",
    "**(b)** According to the model, what proportion of fin sizes are...\n",
    "\n",
    "**(i)** less than 62cm?\n",
    "\n",
    "**(ii)** greater than 65cm??\n",
    "\n",
    "**(c)** Calculate the value, $f_{1}$, of fin widths that is, according to the model, not exceeded by 95% of sky mermaids.\n",
    "\n",
    "**(d)** What is the fin width, $f_{2}$, such that, according to the model, only 15% of fin widths in the population are smaller?\n",
    "\n",
    "**(e)** Sky mermaids do not measure their fin widths in unit cm. Instead they use their own units called *tinsotuna*.\n",
    "The conversion of tinsotuna, $T$, into centimeters, $F$, can be done by the following formula:\n",
    "\n",
    "$$\n",
    "T = \\frac{4}{5}F + 16.\n",
    "$$\n",
    "\n",
    "What is the distribution of fin width in unit of length tinsotuna?\n",
    "\n",
    "**(f)** What is the interquartile range of the distribution of sky mermaid fin lengths in unit of length tinsotuna?\n",
    "\n",
    "-----\n",
    "\n"
   ]
  },
  {
   "cell_type": "code",
   "execution_count": 1,
   "metadata": {},
   "outputs": [],
   "source": [
    "import scipy.stats as stats\n",
    "import matplotlib.pyplot as plt\n",
    "import numpy as np"
   ]
  },
  {
   "cell_type": "markdown",
   "metadata": {},
   "source": [
    "## (a)\n",
    "\n",
    "Let $F$ denote the fin size (in centimeters) of sky mermaids. From the question we know $F \\sim N(60, 5^{2})$."
   ]
  },
  {
   "cell_type": "code",
   "execution_count": 2,
   "metadata": {},
   "outputs": [],
   "source": [
    "# distribution in cms\n",
    "f = stats.norm(loc=60, scale=5)\n",
    "\n",
    "# standard normal\n",
    "z = stats.norm()"
   ]
  },
  {
   "cell_type": "markdown",
   "metadata": {},
   "source": [
    "Plot the model."
   ]
  },
  {
   "cell_type": "code",
   "execution_count": 3,
   "metadata": {},
   "outputs": [
    {
     "data": {
      "text/plain": [
       "[<matplotlib.lines.Line2D at 0x1d12e55c7c0>]"
      ]
     },
     "execution_count": 3,
     "metadata": {},
     "output_type": "execute_result"
    },
    {
     "data": {
      "image/png": "[encoded data removed]",
      "text/plain": [
       "<Figure size 432x288 with 1 Axes>"
      ]
     },
     "metadata": {
      "needs_background": "light"
     },
     "output_type": "display_data"
    }
   ],
   "source": [
    "fig, ax = plt.subplots(1, 1)\n",
    "\n",
    "x = np.linspace(f.ppf(0.01),\n",
    "                f.ppf(0.99), 100)\n",
    "ax.plot(x, f.pdf(x),\n",
    "       'r-', lw=5, alpha=0.6, label='norm pdf')"
   ]
  },
  {
   "cell_type": "markdown",
   "metadata": {},
   "source": [
    "## (b)\n",
    "\n",
    "Any normal distribution $X \\sim N(\\mu, \\sigma^{2})$ can be transformed into the **standard normal distribution** $Z \\sim N(0,1)$ using the following expression\n",
    "\n",
    "$$\n",
    "Z = \\frac{X - \\mu}{\\sigma} \\sim N(0,1).\n",
    "$$\n",
    "\n",
    "We know that $F \\sim N(60,5^{2})$, so\n",
    "\n",
    "$$\n",
    "Z = \\frac{F - 60}{5} \\sim N(0,1).\n",
    "$$"
   ]
  },
  {
   "cell_type": "markdown",
   "metadata": {},
   "source": [
    "### (i)\n",
    "\n",
    "The proportion of sky mermaids that have a fin width of less than 62cm is given by\n",
    "\n",
    "$$\n",
    "\\begin{aligned}\n",
    "    P(X \\leq 62) &= P\\bigg( \\frac{F - 60}{5} < \\frac{62 - 60}{5} \\bigg) \\\\\n",
    "    &= P(Z < 0.40) \\\\\n",
    "    &= \\Phi{(0.40)} \\\\\n",
    "    &= \\ldots\n",
    "\\end{aligned}\n",
    "$$"
   ]
  },
  {
   "cell_type": "code",
   "execution_count": 4,
   "metadata": {},
   "outputs": [
    {
     "data": {
      "text/plain": [
       "0.6554217416103242"
      ]
     },
     "execution_count": 4,
     "metadata": {},
     "output_type": "execute_result"
    }
   ],
   "source": [
    "f.cdf(x=62)"
   ]
  },
  {
   "cell_type": "markdown",
   "metadata": {},
   "source": [
    "Let us check this matches the standard normal distribution"
   ]
  },
  {
   "cell_type": "code",
   "execution_count": 5,
   "metadata": {},
   "outputs": [
    {
     "data": {
      "text/plain": [
       "0.6554217416103242"
      ]
     },
     "execution_count": 5,
     "metadata": {},
     "output_type": "execute_result"
    }
   ],
   "source": [
    "z.cdf(x=0.4)"
   ]
  },
  {
   "cell_type": "markdown",
   "metadata": {},
   "source": [
    "### (ii)\n",
    "\n",
    "The proportion of sky mermaids that have a fin width of greater than 65cm is given by\n",
    "\n",
    "$$\n",
    "\\begin{aligned}\n",
    "    P(X \\geq 65) &= 1 - P\\bigg( Z < \\frac{65 - 60}{5} \\bigg) \\\\\n",
    "    &= 1 - P(Z < 1) \\\\\n",
    "    &= 1 - \\Phi{(1}) \\\\\n",
    "    &= \\ldots\n",
    "\\end{aligned}\n",
    "$$"
   ]
  },
  {
   "cell_type": "code",
   "execution_count": 6,
   "metadata": {},
   "outputs": [
    {
     "data": {
      "text/plain": [
       "0.15865525393145707"
      ]
     },
     "execution_count": 6,
     "metadata": {},
     "output_type": "execute_result"
    }
   ],
   "source": [
    "f.sf(x=65)"
   ]
  },
  {
   "cell_type": "markdown",
   "metadata": {},
   "source": [
    "Let us again check this matches the standard normal distribution"
   ]
  },
  {
   "cell_type": "code",
   "execution_count": 7,
   "metadata": {},
   "outputs": [
    {
     "data": {
      "text/plain": [
       "0.15865525393145707"
      ]
     },
     "execution_count": 7,
     "metadata": {},
     "output_type": "execute_result"
    }
   ],
   "source": [
    "z.sf(x=1)"
   ]
  },
  {
   "cell_type": "markdown",
   "metadata": {},
   "source": [
    "## (c)\n",
    "\n",
    "The fin width, $f_{1}$, that is not exceeded by 95% of sky mermaids is the 0.95-quantile of $F \\sim N(60,5^{2})$.\n",
    "\n",
    "If $q_{\\alpha}$ is the $\\alpha$-quantile of $N(0,1)$, then the $\\alpha$-quantile, $x$, of $N(\\mu, \\sigma^{2})$ is given by\n",
    "\n",
    "$$\n",
    "x = \\sigma q_{\\alpha} + \\mu.\n",
    "$$\n",
    "\n",
    "Reading from the table of quantiles for the standard normal distribution, $q_{0.95} = 1.645$. So, the fin width of sky mermaids, $f_{1}$, that is not exceeded by 95% of sky mermaids is given by\n",
    "\n",
    "$$\n",
    "f = 5(1.645) + 60 = \\ldots\n",
    "$$"
   ]
  },
  {
   "cell_type": "code",
   "execution_count": 8,
   "metadata": {},
   "outputs": [
    {
     "data": {
      "text/plain": [
       "68.22426813475737"
      ]
     },
     "execution_count": 8,
     "metadata": {},
     "output_type": "execute_result"
    }
   ],
   "source": [
    "f.ppf(q=0.95)"
   ]
  },
  {
   "cell_type": "markdown",
   "metadata": {},
   "source": [
    "## (d)\n",
    "\n",
    "The fin width, $f_{2}$, such that only 15% of fin widths is smaller than it is the 0.15-quantile of $F \\sim N(60,5^{2})$. This can be rephrased as $f_{2}$ is the fin width that is exceeded by 85% of sky mermaids.\n",
    "\n",
    "We know that $q_{\\alpha} = -q_{(1-\\alpha)}$, so $q_{0.15} = -q_{(1-0.15)} = -q_{0.85}$. Reading from the table of quantiles for the standard normal distribution, $q_{0.85} = 1.036$. So the fin width of sky mermaids, $f_{2}$, that is exceeded by 85% of sky mermaids is given by\n",
    "\n",
    "$$\n",
    "f = 5(-1.036) + 60 = \\ldots\n",
    "$$"
   ]
  },
  {
   "cell_type": "code",
   "execution_count": 9,
   "metadata": {},
   "outputs": [
    {
     "data": {
      "text/plain": [
       "54.81783305253105"
      ]
     },
     "execution_count": 9,
     "metadata": {},
     "output_type": "execute_result"
    }
   ],
   "source": [
    "# calculate using scipy\n",
    "f.ppf(q=0.15)"
   ]
  },
  {
   "cell_type": "markdown",
   "metadata": {},
   "source": [
    "## (e)\n",
    "\n",
    "The fin width of sky mermaids in centimetres, $F$, is distributed $N(60, 5^{2}) = N(60, 25)$, and we know that $T$, the fin width in unit of length tinsotuna, is related to $F$ by the equation\n",
    "\n",
    "$$\n",
    "T = \\frac{4}{5}F + 16.\n",
    "$$\n",
    "\n",
    "Now, if a a random variable $X$ has a normal distribution with mean $\\mu$ and variance $\\sigma^{2}$, and $Y = aX + b$ for constants $a$ and $b$, then\n",
    "\n",
    "$$\n",
    "Y = aX + b \\sim N(a \\mu + b, a^{2} \\sigma^{2}).\n",
    "$$\n",
    "\n",
    "So $T$ is normally distributed with\n",
    "\n",
    "$$\n",
    "E(T) = \\frac{4}{5} E(F) + 16 = \\bigg( \\frac{4}{5} \\bigg) 60 + 16 = 64,\n",
    "$$\n",
    "\n",
    "and\n",
    "\n",
    "$$\n",
    "V(Y) = \\bigg( \\frac{4}{5} \\bigg)^{2} V(X) = \\bigg( \\frac{16}{25} \\bigg) 25 = 16.\n",
    "$$\n",
    "\n",
    "So, $T \\sim N(64, 4^{2})$."
   ]
  },
  {
   "cell_type": "markdown",
   "metadata": {},
   "source": [
    "## (f)\n",
    "\n",
    "The interquartile range is $q_{U} - q_{L} = q_{0.75} - q_{0.25}$.\n",
    "\n",
    "Recall that, if $q_{\\alpha}$ is the $\\alpha$-quantile of $N(0,1)$, then the $\\alpha$-quantile, $x$, of $N(\\mu, \\sigma^{2})$ is given by\n",
    "\n",
    "$$\n",
    "x = \\sigma q_{\\alpha} + \\mu.\n",
    "$$\n",
    "\n",
    "Also recall that\n",
    "\n",
    "$$\n",
    "q_{\\alpha} = -q_{(1 - \\alpha)}.\n",
    "$$\n",
    "\n",
    "Reading from the table of quantiles for the standard normal distribution, \n",
    "\n",
    "$$q_{0.75} = 0.6745$$\n",
    "\n",
    "and\n",
    "\n",
    "$$q_{0.25} = -q_{1 - 0.25} = -q_{0.75} = -0.6745.$$\n",
    "\n",
    "So the 0.75-quantile and 0.25-quantile of $T$, $t_{U}$ and $t_{L}$ respectively, are\n",
    "\n",
    "$$\n",
    "\\begin{aligned}\n",
    "    &t_{U} = 4(0.6745) + 64 = 66.698, \\text{ and} \\\\\n",
    "    &t_{L} = 4(-0.6745) + 64 = 61.302,\n",
    "\\end{aligned}\n",
    "$$\n",
    "\n",
    "and so therefore the interquartile range is\n",
    "\n",
    "$$\n",
    "t_{U} - t_{L} = 66.698 - 61.302 = \\ldots\n",
    "$$"
   ]
  },
  {
   "cell_type": "code",
   "execution_count": 10,
   "metadata": {},
   "outputs": [
    {
     "data": {
      "text/plain": [
       "5.395918001568653"
      ]
     },
     "execution_count": 10,
     "metadata": {},
     "output_type": "execute_result"
    }
   ],
   "source": [
    "# declare the transformed distribution\n",
    "t = stats.norm(loc=64, scale=4)\n",
    "\n",
    "t.ppf(q=0.75) - t.ppf(q=0.25)"
   ]
  }
 ],
 "metadata": {
  "kernelspec": {
   "display_name": "Python 3",
   "language": "python",
   "name": "python3"
  },
  "language_info": {
   "codemirror_mode": {
    "name": "ipython",
    "version": 3
   },
   "file_extension": ".py",
   "mimetype": "text/x-python",
   "name": "python",
   "nbconvert_exporter": "python",
   "pygments_lexer": "ipython3",
   "version": "3.8.3"
  }
 },
 "nbformat": 4,
 "nbformat_minor": 4
}
