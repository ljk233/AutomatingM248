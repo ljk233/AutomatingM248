{
 "cells": [
  {
   "cell_type": "markdown",
   "metadata": {},
   "source": [
    "# A2 Standard discrete distributions"
   ]
  },
  {
   "cell_type": "code",
   "execution_count": 1,
   "metadata": {},
   "outputs": [],
   "source": [
    "from scipy import stats"
   ]
  },
  {
   "cell_type": "markdown",
   "metadata": {},
   "source": [
    "## 1 Binomial distribution"
   ]
  },
  {
   "cell_type": "markdown",
   "metadata": {},
   "source": [
    "### Example 2.1.1\n",
    "\n",
    "Suppose that a discrete random variable $X$ is distributed $X \\sim B(15, 0.25)$.\n",
    "\n",
    "Calculate\n",
    "\n",
    "**(a)** $P(X = 5)$\n",
    "\n",
    "**(b)** $P(X \\leq 7)$\n",
    "\n",
    "**(c)** $P(2 \\leq X <9)$\n",
    "\n",
    "**(d)** $E(X)$\n",
    "\n",
    "**(e)** $S(X)$"
   ]
  },
  {
   "cell_type": "code",
   "execution_count": 2,
   "metadata": {},
   "outputs": [],
   "source": [
    "# declare the distribution\n",
    "b = stats.binom(n=15, p=0.25)"
   ]
  },
  {
   "cell_type": "markdown",
   "metadata": {},
   "source": [
    "#### (a)\n",
    "\n",
    "The p.m.f. for a **binomial distribution** is\n",
    "\n",
    "$$\n",
    "p(x) = \\binom{n}{x} p^{x} (1-p)^{n-x}.\n",
    "$$\n",
    "\n",
    "So the probability $P(X=5) = p(5) = \\cdots$"
   ]
  },
  {
   "cell_type": "code",
   "execution_count": 3,
   "metadata": {},
   "outputs": [
    {
     "data": {
      "text/plain": [
       "0.165146"
      ]
     },
     "execution_count": 3,
     "metadata": {},
     "output_type": "execute_result"
    }
   ],
   "source": [
    "round(b.pmf(k=5), 6)"
   ]
  },
  {
   "cell_type": "markdown",
   "metadata": {},
   "source": [
    "#### (b) The probability $P(X \\leq x) = F(x)$ for a **binomial distribution** is \n",
    "\n",
    "$$\n",
    "F(x) = \\sum_{k=x} \\binom{n}{k} p^{k} (1-p)^{n-k}.\n",
    "$$\n",
    "\n",
    "So the probability $P(X \\leq 7) = F(7) = \\cdots$"
   ]
  },
  {
   "cell_type": "code",
   "execution_count": 4,
   "metadata": {},
   "outputs": [
    {
     "data": {
      "text/plain": [
       "0.9827"
      ]
     },
     "execution_count": 4,
     "metadata": {},
     "output_type": "execute_result"
    }
   ],
   "source": [
    "round(b.cdf(x=7), 6)"
   ]
  },
  {
   "cell_type": "markdown",
   "metadata": {},
   "source": [
    "#### (c)\n",
    "\n",
    "The probability $P(2 \\leq X < 9) = F(8) - F(2) = \\cdots$"
   ]
  },
  {
   "cell_type": "code",
   "execution_count": 5,
   "metadata": {},
   "outputs": [
    {
     "data": {
      "text/plain": [
       "0.759719"
      ]
     },
     "execution_count": 5,
     "metadata": {},
     "output_type": "execute_result"
    }
   ],
   "source": [
    "round(b.cdf(x=8) - b.cdf(x=2), 6)"
   ]
  },
  {
   "cell_type": "markdown",
   "metadata": {},
   "source": [
    "#### (d)\n",
    "\n",
    "The expected value of a **binomial distribution** is\n",
    "\n",
    "$$\n",
    "E(X) = np = \\cdots\n",
    "$$"
   ]
  },
  {
   "cell_type": "code",
   "execution_count": 6,
   "metadata": {},
   "outputs": [
    {
     "data": {
      "text/plain": [
       "3.75"
      ]
     },
     "execution_count": 6,
     "metadata": {},
     "output_type": "execute_result"
    }
   ],
   "source": [
    "b.mean()"
   ]
  },
  {
   "cell_type": "markdown",
   "metadata": {},
   "source": [
    "#### (e)\n",
    "\n",
    "The standard deviation of a **binomial distribution** is\n",
    "\n",
    "$$\n",
    "S(X) = \\sqrt{V(X)} = \\sqrt{np(1-p)} = \\cdots\n",
    "$$"
   ]
  },
  {
   "cell_type": "code",
   "execution_count": 7,
   "metadata": {},
   "outputs": [
    {
     "data": {
      "text/plain": [
       "1.677051"
      ]
     },
     "execution_count": 7,
     "metadata": {},
     "output_type": "execute_result"
    }
   ],
   "source": [
    "round(b.std(), 6)"
   ]
  },
  {
   "cell_type": "markdown",
   "metadata": {},
   "source": [
    "## 2 Discrete uniform distribution"
   ]
  },
  {
   "cell_type": "markdown",
   "metadata": {},
   "source": [
    "### Example 2.2.1\n",
    "\n",
    "Suppose that $X$ has a discrete uniform distribution, where the range of $X$ is $101, 102, \\ldots, 500$.\n",
    "\n",
    "Calculate\n",
    "\n",
    "**(a)** $P(X = 109)$\n",
    "\n",
    "**(b)** $P(X > 246)$\n",
    "\n",
    "**(c)** $P(361 < X < 420)$\n",
    "\n",
    "**(d)** $E(X)$\n",
    "\n",
    "**(e)** $S(X)$"
   ]
  },
  {
   "cell_type": "code",
   "execution_count": 8,
   "metadata": {},
   "outputs": [],
   "source": [
    "# declare the distribution. Set high to high + 1\n",
    "u = stats.randint(low=101, high=501)"
   ]
  },
  {
   "cell_type": "markdown",
   "metadata": {},
   "source": [
    "#### (a)\n",
    "\n",
    "The p.m.f. for a **discrete uniform distribution** is\n",
    "\n",
    "$$\n",
    "p(x) = \\frac{1}{n - m + 1}.\n",
    "$$\n",
    "\n",
    "So $P(X=109) = p(109) = \\cdots$"
   ]
  },
  {
   "cell_type": "code",
   "execution_count": 9,
   "metadata": {},
   "outputs": [
    {
     "data": {
      "text/plain": [
       "0.0025"
      ]
     },
     "execution_count": 9,
     "metadata": {},
     "output_type": "execute_result"
    }
   ],
   "source": [
    "u.pmf(k=109)"
   ]
  },
  {
   "cell_type": "markdown",
   "metadata": {},
   "source": [
    "#### (b)\n",
    "\n",
    "The probability $P(X \\leq x) = F(x)$ for a **discrete uniform distribution** is \n",
    "\n",
    "$$\n",
    "F(x) = \\frac{x-m+1}{n-m+1}.\n",
    "$$\n",
    "\n",
    "So the probability $P(X > 246) = 1 - F(245) = \\cdots$"
   ]
  },
  {
   "cell_type": "code",
   "execution_count": 10,
   "metadata": {},
   "outputs": [
    {
     "data": {
      "text/plain": [
       "0.6375"
      ]
     },
     "execution_count": 10,
     "metadata": {},
     "output_type": "execute_result"
    }
   ],
   "source": [
    "1 - u.cdf(x=245)"
   ]
  },
  {
   "cell_type": "markdown",
   "metadata": {},
   "source": [
    "#### (c)\n",
    "\n",
    "The probability $P(361 < X < 420) = F(419) - F(361) = \\cdots$"
   ]
  },
  {
   "cell_type": "code",
   "execution_count": 11,
   "metadata": {},
   "outputs": [
    {
     "data": {
      "text/plain": [
       "0.145"
      ]
     },
     "execution_count": 11,
     "metadata": {},
     "output_type": "execute_result"
    }
   ],
   "source": [
    "round(u.cdf(x=419) - u.cdf(x=361), 6)"
   ]
  },
  {
   "cell_type": "markdown",
   "metadata": {},
   "source": [
    "#### (d)\n",
    "\n",
    "The expected value of a **discrete uniform distribution** is\n",
    "\n",
    "$$\n",
    "E(X) = \\frac{n+m}{2} = \\cdots\n",
    "$$"
   ]
  },
  {
   "cell_type": "code",
   "execution_count": 12,
   "metadata": {},
   "outputs": [
    {
     "data": {
      "text/plain": [
       "300.5"
      ]
     },
     "execution_count": 12,
     "metadata": {},
     "output_type": "execute_result"
    }
   ],
   "source": [
    "u.mean()"
   ]
  },
  {
   "cell_type": "markdown",
   "metadata": {},
   "source": [
    "#### (e)\n",
    "\n",
    "The variance of a **discrete distribution** is\n",
    "\n",
    "$$\n",
    "V(X) = \\frac{1}{12} \\> (n-m)(n-m+2) = \\cdots\n",
    "$$"
   ]
  },
  {
   "cell_type": "code",
   "execution_count": 13,
   "metadata": {},
   "outputs": [
    {
     "data": {
      "text/plain": [
       "13333.25"
      ]
     },
     "execution_count": 13,
     "metadata": {},
     "output_type": "execute_result"
    }
   ],
   "source": [
    "u.var()"
   ]
  },
  {
   "cell_type": "markdown",
   "metadata": {},
   "source": [
    "### 3 Geometric distribution"
   ]
  },
  {
   "cell_type": "markdown",
   "metadata": {},
   "source": [
    "### Example 2.3.1\n",
    "\n",
    "Suppose that a discrete random variable $X$ is distributed $X \\sim G(0.36)$.\n",
    "\n",
    "Calculate\n",
    "\n",
    "**(a)** $P(X = 3)$\n",
    "\n",
    "**(b)** $P(X \\leq 4)$\n",
    "\n",
    "**(c)** $P(1 < X < 5)$\n",
    "\n",
    "**(d)** $E(X)$\n",
    "\n",
    "**(e)** $V(X)$"
   ]
  },
  {
   "cell_type": "code",
   "execution_count": 14,
   "metadata": {},
   "outputs": [],
   "source": [
    "# declare the distribution\n",
    "g = stats.geom(0.36)"
   ]
  },
  {
   "cell_type": "markdown",
   "metadata": {},
   "source": [
    "#### (a)\n",
    "\n",
    "The p.m.f. for a **geometric distribution** is\n",
    "\n",
    "$$\n",
    "p(x) = (1 - p)^{x} \\> p.\n",
    "$$\n",
    "\n",
    "So the probability $P(X=3) = p(3) = \\cdots$"
   ]
  },
  {
   "cell_type": "code",
   "execution_count": 15,
   "metadata": {},
   "outputs": [
    {
     "data": {
      "text/plain": [
       "0.147456"
      ]
     },
     "execution_count": 15,
     "metadata": {},
     "output_type": "execute_result"
    }
   ],
   "source": [
    "g.pmf(k=3)"
   ]
  },
  {
   "cell_type": "markdown",
   "metadata": {},
   "source": [
    "#### (b)\n",
    "\n",
    "The probability $P(X \\leq x) = F(x)$ for a **geometric distribution** is \n",
    "\n",
    "$$\n",
    "F(x) = 1 - (1-p)^{x}.\n",
    "$$\n",
    "\n",
    "So the probability $P(X \\leq 4) = F(4) = \\cdots$"
   ]
  },
  {
   "cell_type": "code",
   "execution_count": 16,
   "metadata": {},
   "outputs": [
    {
     "data": {
      "text/plain": [
       "0.832228"
      ]
     },
     "execution_count": 16,
     "metadata": {},
     "output_type": "execute_result"
    }
   ],
   "source": [
    "round(g.cdf(x=4), 6)"
   ]
  },
  {
   "cell_type": "markdown",
   "metadata": {},
   "source": [
    "#### (c)\n",
    "\n",
    "The probability $P(1 < X < 5) = F(4) - F(2) = \\cdots$"
   ]
  },
  {
   "cell_type": "code",
   "execution_count": 17,
   "metadata": {},
   "outputs": [
    {
     "data": {
      "text/plain": [
       "0.241828"
      ]
     },
     "execution_count": 17,
     "metadata": {},
     "output_type": "execute_result"
    }
   ],
   "source": [
    "round(g.cdf(x=4) - g.cdf(x=2), 6)"
   ]
  },
  {
   "cell_type": "markdown",
   "metadata": {},
   "source": [
    "#### (d)\n",
    "\n",
    "The expected value of a **geometric distribution** is\n",
    "\n",
    "$$\n",
    "E(X) = \\frac{1}{p} = \\cdots\n",
    "$$"
   ]
  },
  {
   "cell_type": "code",
   "execution_count": 18,
   "metadata": {},
   "outputs": [
    {
     "data": {
      "text/plain": [
       "2.777778"
      ]
     },
     "execution_count": 18,
     "metadata": {},
     "output_type": "execute_result"
    }
   ],
   "source": [
    "round(g.mean(), 6)"
   ]
  },
  {
   "cell_type": "markdown",
   "metadata": {},
   "source": [
    "#### (e)\n",
    "\n",
    "The variance of a **geometric distribution** is\n",
    "\n",
    "$$\n",
    "V(X) = \\frac{1-p}{p^{2}} = \\cdots\n",
    "$$"
   ]
  },
  {
   "cell_type": "code",
   "execution_count": 19,
   "metadata": {},
   "outputs": [
    {
     "data": {
      "text/plain": [
       "4.938272"
      ]
     },
     "execution_count": 19,
     "metadata": {},
     "output_type": "execute_result"
    }
   ],
   "source": [
    "round(g.var(), 6)"
   ]
  },
  {
   "cell_type": "markdown",
   "metadata": {},
   "source": [
    "### 4 Poisson distribution"
   ]
  },
  {
   "cell_type": "markdown",
   "metadata": {},
   "source": [
    "### Example 2.4.1\n",
    "\n",
    "Suppose that a discrete random variable $X$ is distributed $X \\sim \\text{Poisson}(3.3)$.\n",
    "\n",
    "Calculate\n",
    "\n",
    "**(a)** $P(X = 5)$\n",
    "\n",
    "**(b)** $P(X \\leq 2)$\n",
    "\n",
    "**(c)** $P(X > 4)$\n",
    "\n",
    "Note, the mean, variance, and standard deviation of a Poisson distribution with parameter $\\lambda$ are\n",
    "\n",
    "$$E(X) = \\lambda; \\hspace{2mm} V(X) = \\lambda; \\hspace{2mm} S(X) = \\sqrt{\\lambda}.$$"
   ]
  },
  {
   "cell_type": "code",
   "execution_count": 20,
   "metadata": {},
   "outputs": [],
   "source": [
    "# declare the distribution\n",
    "pois = stats.poisson(mu=3.3)"
   ]
  },
  {
   "cell_type": "markdown",
   "metadata": {},
   "source": [
    "#### (a)\n",
    "\n",
    "The p.m.f. of a **Poisson distribution** is\n",
    "\n",
    "$$\n",
    "p(x) = e^{-\\lambda} \\bigg( \\frac{\\lambda^{x}}{x!} \\bigg)\n",
    "$$\n",
    "\n",
    "So the probability $P(X=5) = p(5) = \\cdots$"
   ]
  },
  {
   "cell_type": "code",
   "execution_count": 21,
   "metadata": {},
   "outputs": [
    {
     "data": {
      "text/plain": [
       "0.120286"
      ]
     },
     "execution_count": 21,
     "metadata": {},
     "output_type": "execute_result"
    }
   ],
   "source": [
    "round(pois.pmf(k=5), 6)"
   ]
  },
  {
   "cell_type": "markdown",
   "metadata": {},
   "source": [
    "#### (b)\n",
    "\n",
    "The probability $P(X \\leq x) = F(x)$ of a **Poisson distribution** is \n",
    "\n",
    "$$\n",
    "F(x) = e^{-\\lambda} \\sum_{x} \\frac{\\lambda^{x}}{x!}.\n",
    "$$\n",
    "\n",
    "So the probability $P(X \\leq 2) = F(2) = \\cdots$"
   ]
  },
  {
   "cell_type": "code",
   "execution_count": 22,
   "metadata": {},
   "outputs": [
    {
     "data": {
      "text/plain": [
       "0.359426"
      ]
     },
     "execution_count": 22,
     "metadata": {},
     "output_type": "execute_result"
    }
   ],
   "source": [
    "round(pois.cdf(x=2), 6)"
   ]
  },
  {
   "cell_type": "markdown",
   "metadata": {},
   "source": [
    "#### (c)\n",
    "\n",
    "The probability $P(X > 4) = 1 - F(4) = \\cdots$"
   ]
  },
  {
   "cell_type": "code",
   "execution_count": 23,
   "metadata": {},
   "outputs": [
    {
     "data": {
      "text/plain": [
       "0.23741"
      ]
     },
     "execution_count": 23,
     "metadata": {},
     "output_type": "execute_result"
    }
   ],
   "source": [
    "round(1 - pois.cdf(x=4), 6)"
   ]
  },
  {
   "cell_type": "markdown",
   "metadata": {},
   "source": [
    "### 2.4.2 (June 2020)\n",
    "\n",
    "The number of customers arriving at a local sports centre, can be modelled by a Poisson distribution. On average 20 customers use the sports centre each hour and, in a typical hour, 20% of the customers who arrive go for a swim and 15% of the customers who arrive use the gym.\n",
    "\n",
    "It is assumed that the choice of activity for each customer is independent of the choice of activity for any other customer.\n",
    "\n",
    "**(a)** Calculate the probability, that in a typical hour, the first customer who wants a swim is the 8th customer to arrive in that hour.\n",
    "\n",
    "**(b)** Calculate the probability that, in a typical hour, 12 customers will arrive at the sports centre.\n",
    "\n",
    "**(c)** Suppose that in a typical hour 15 customers arrive at the sports centre. Calculate the probability that 3 of these customers will choose to use the gym."
   ]
  },
  {
   "cell_type": "markdown",
   "metadata": {},
   "source": [
    "#### (a)\n",
    "\n",
    "Let the discrete random variable $S$ represent the first customer who arrives at the gym in a given hour who wants to use the swimming pool. Then $G$ is modelled can be modelled by the **geometric distribution**, $G(p)$, where parameter $p=0.2$ is the probability that a customer uses the swimming pool.\n",
    "\n",
    "The probability $P(S=8)$ will be\n",
    "\n",
    "$$\n",
    "P(S=8) = p(8) = (1-p)^{7} \\> p = \\cdots\n",
    "$$"
   ]
  },
  {
   "cell_type": "code",
   "execution_count": 24,
   "metadata": {},
   "outputs": [],
   "source": [
    "# declare the distribution\n",
    "s = stats.geom(p=0.2)"
   ]
  },
  {
   "cell_type": "code",
   "execution_count": 25,
   "metadata": {},
   "outputs": [
    {
     "data": {
      "text/plain": [
       "0.041943"
      ]
     },
     "execution_count": 25,
     "metadata": {},
     "output_type": "execute_result"
    }
   ],
   "source": [
    "round(s.pmf(k=8), 6)"
   ]
  },
  {
   "cell_type": "markdown",
   "metadata": {},
   "source": [
    "#### (b)\n",
    "\n",
    "Let the discrete random variable $X$ represent the number of customers who arrives at the sport centre in a given hour.\n",
    "Then $X$ is modelled can be modelled by the **Poisson distribution**, $\\text{Poisson}(\\mu)$, where parameter $\\mu=20$ is the average number of customers who arrive at the sport centre in a given hour.\n",
    "\n",
    "The probability $P(X=12)$ will be\n",
    "\n",
    "$$\n",
    "p(12) = e^{-20} \\bigg( \\frac{20^{12}}{12!} \\bigg) = \\cdots\n",
    "$$"
   ]
  },
  {
   "cell_type": "code",
   "execution_count": 26,
   "metadata": {},
   "outputs": [],
   "source": [
    "# declare the distribution\n",
    "x = stats.poisson(mu=20)"
   ]
  },
  {
   "cell_type": "code",
   "execution_count": 27,
   "metadata": {},
   "outputs": [
    {
     "data": {
      "text/plain": [
       "0.017625"
      ]
     },
     "execution_count": 27,
     "metadata": {},
     "output_type": "execute_result"
    }
   ],
   "source": [
    "round(x.pmf(k=12), 6)"
   ]
  },
  {
   "cell_type": "markdown",
   "metadata": {},
   "source": [
    "#### (c)\n",
    "\n",
    "The probability that a customer who arrives at the sport centre wishes to use the gym is $p=0.15$.\n",
    "Therefore, if $n=15$ customers arrives in the gym, we would expect $\\mu$ customers to use the gym, where\n",
    "\n",
    "$$\n",
    "\\mu=np=15(0.15)=2.25.\n",
    "$$\n",
    "\n",
    "Let the discrete random variable $Y$ represent the number of customers who arrive at the sport centre in a given hour who wish to use the gym, if $15$ were to arrive.\n",
    "Then $Y$ can be modelled by the **Poisson distribution**, $\\text{Poisson}(\\mu)$, where parameter $\\mu=2.25$.\n",
    "\n",
    "The probability $P(Y=3)$ is given by\n",
    "\n",
    "$$\n",
    "p(3) = e^{-2.25} \\bigg( \\frac{2.25^{3}}{3!} \\bigg) = \\cdots\n",
    "$$"
   ]
  },
  {
   "cell_type": "code",
   "execution_count": 28,
   "metadata": {},
   "outputs": [],
   "source": [
    "# declare the distribution\n",
    "y = stats.poisson(mu=2.25)"
   ]
  },
  {
   "cell_type": "code",
   "execution_count": 29,
   "metadata": {},
   "outputs": [
    {
     "data": {
      "text/plain": [
       "0.200094"
      ]
     },
     "execution_count": 29,
     "metadata": {},
     "output_type": "execute_result"
    }
   ],
   "source": [
    "round(y.pmf(k=3), 6)"
   ]
  }
 ],
 "metadata": {
  "kernelspec": {
   "display_name": "Python 3",
   "language": "python",
   "name": "python3"
  },
  "language_info": {
   "codemirror_mode": {
    "name": "ipython",
    "version": 3
   },
   "file_extension": ".py",
   "mimetype": "text/x-python",
   "name": "python",
   "nbconvert_exporter": "python",
   "pygments_lexer": "ipython3",
   "version": "3.8.3"
  }
 },
 "nbformat": 4,
 "nbformat_minor": 4
}
