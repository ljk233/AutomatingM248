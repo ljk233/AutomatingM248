{
 "cells": [
  {
   "cell_type": "markdown",
   "metadata": {},
   "source": [
    "# A4 Bernoulli and Poisson processes"
   ]
  },
  {
   "cell_type": "code",
   "execution_count": 1,
   "metadata": {},
   "outputs": [],
   "source": [
    "from scipy import stats"
   ]
  },
  {
   "cell_type": "markdown",
   "metadata": {},
   "source": [
    "## 1 Bernoulli process"
   ]
  },
  {
   "source": [
    "### Example 4.1.1\n",
    "\n",
    "A company specialises in chartering flights from Narnia.\n",
    "The company is concerned about the rise in sky mermaids that have been spotted by the crew of the flights, as a collision could be disasterous.\n",
    "The flight crew estimates that there is a 17% chance of spotting a sky mermaid during a flight.\n",
    "\n",
    "In 20XX, the company is scheduled to fly 18 flights from Narnia.\n",
    "It may be assumed that the event of spotting a sky mermaid is independent of any other event, and that a Bernoulli process can be used to model the process.\n",
    "\n",
    "**(a)** State the model for the number of sky mermaids spotted in 20XX.\n",
    "\n",
    "**(b)** What is the probability four or fewer flights will spot sky mermaids in 20XX?\n",
    "\n",
    "**(c)** State the model for the first flight a sky mermaid will be spotted in 20XX.\n",
    "\n",
    "**(d)** What is the probability it will take seven or more flights to first spot a sky mermaid?"
   ],
   "cell_type": "markdown",
   "metadata": {}
  },
  {
   "source": [
    "#### (a)\n",
    "\n",
    "Let $X$ be a random variable that represents the number of times a sky mermaid is spotted during the flights from Narnia over the year.\n",
    "Then $X$ is modelled by a **binomial distribution**, with parameters $n$ being the number of flights flown, and $p=0.17$, so $X \\sim B(18,0.17)$."
   ],
   "cell_type": "markdown",
   "metadata": {}
  },
  {
   "cell_type": "code",
   "execution_count": 3,
   "metadata": {},
   "outputs": [],
   "source": [
    "# number of trials\n",
    "x = stats.binom(n=18, p=0.17)"
   ]
  },
  {
   "source": [
    "#### (b)\n",
    "\n",
    "The probability $P(X \\leq x)$ for a binomial distribution is\n",
    "\n",
    "$$\n",
    "P(X \\leq x) = F(x) = \\sum_{k = 0}^{x} \\binom{n}{k} p^{k} (1-p)^{n - k}.\n",
    "$$\n",
    "\n",
    "So the probability four or fewer flights will spot sky mermaids in 20XX will be"
   ],
   "cell_type": "markdown",
   "metadata": {}
  },
  {
   "cell_type": "code",
   "execution_count": 6,
   "metadata": {},
   "outputs": [
    {
     "output_type": "execute_result",
     "data": {
      "text/plain": [
       "0.821311"
      ]
     },
     "metadata": {},
     "execution_count": 6
    }
   ],
   "source": [
    "round(x.cdf(x=4), 6)"
   ]
  },
  {
   "source": [
    "#### (c)\n",
    "\n",
    "Let $T$ be a random variable that represents that first flight from Narnia where a sky mermaid is spotted.\n",
    "Then $T$ is modelled by a **geometric distribution**, with parameter $p=0.17$, so $T \\sim G(0.17)$."
   ],
   "cell_type": "markdown",
   "metadata": {}
  },
  {
   "cell_type": "code",
   "execution_count": 7,
   "metadata": {},
   "outputs": [],
   "source": [
    "# first trial success\n",
    "t = stats.geom(p=0.17)"
   ]
  },
  {
   "source": [
    "#### (d)\n",
    "\n",
    "The probability $P(X \\leq x)$ for a geometric distribution is\n",
    "\n",
    "$$\n",
    "P(X \\leq x) = F(x) =1 - (1 - p)^{x}.\n",
    "$$\n",
    "\n",
    "The probability it will take seven or more flight to first spot a sky mermaid is given by\n",
    "\n",
    "$$P(Y \\geq 7) = 1 - P(Y \\leq 6) = 1 - F(6) = \\cdots$$"
   ],
   "cell_type": "markdown",
   "metadata": {}
  },
  {
   "source": [
    "round(1 - t.cdf(x=6), 6)"
   ],
   "cell_type": "code",
   "metadata": {},
   "execution_count": 9,
   "outputs": [
    {
     "output_type": "execute_result",
     "data": {
      "text/plain": [
       "0.32694"
      ]
     },
     "metadata": {},
     "execution_count": 9
    }
   ]
  },
  {
   "source": [
    "### Example 4.1.2\n",
    "\n",
    "The probability of success in each trial in a Bernoulli process is $0.25$.\n",
    "\n",
    "**(a)** What is the probability that the number of trials from one success to the next is greater than 2 but at most 3?\n",
    "\n",
    "**(b)** What is the probability that the number of trials from one success to the next is less than 4?"
   ],
   "cell_type": "markdown",
   "metadata": {}
  },
  {
   "source": [
    "#### Declare the distribution\n",
    "\n",
    "The number of trials from one success to the next, $T$, has a geometric distribution with parameter $p=0.25$."
   ],
   "cell_type": "markdown",
   "metadata": {}
  },
  {
   "cell_type": "code",
   "execution_count": 2,
   "metadata": {},
   "outputs": [],
   "source": [
    "# number of trials\n",
    "t = stats.geom(p=0.25)"
   ]
  },
  {
   "source": [
    "#### (a)\n",
    "\n",
    "The probability $P(2 < T \\leq 3) = p(3) = \\cdots$"
   ],
   "cell_type": "markdown",
   "metadata": {}
  },
  {
   "cell_type": "code",
   "execution_count": 4,
   "metadata": {},
   "outputs": [
    {
     "output_type": "execute_result",
     "data": {
      "text/plain": [
       "0.140625"
      ]
     },
     "metadata": {},
     "execution_count": 4
    }
   ],
   "source": [
    "t.pmf(k=3)"
   ]
  },
  {
   "source": [
    "#### (b)\n",
    "\n",
    "The probability $P(T < 4) = P(T \\leq 3) = F(3) = \\cdots$"
   ],
   "cell_type": "markdown",
   "metadata": {}
  },
  {
   "cell_type": "code",
   "execution_count": 5,
   "metadata": {},
   "outputs": [
    {
     "output_type": "execute_result",
     "data": {
      "text/plain": [
       "0.578125"
      ]
     },
     "metadata": {},
     "execution_count": 5
    }
   ],
   "source": [
    "t.cdf(x=3)"
   ]
  },
  {
   "cell_type": "markdown",
   "metadata": {},
   "source": [
    "## 2 Poisson process"
   ]
  },
  {
   "cell_type": "markdown",
   "metadata": {},
   "source": [
    "### Example 4.2.1 (June 2018)\n",
    "\n",
    "The arrival of incoming emails at my office computer during working hours may be modelled by a Poisson process. On average, five emails arrive per hour.\n",
    "\n",
    "**(a)** Calculate the probability that exactly three emails arrive in an hour.\n",
    "\n",
    "**(b)** Calculate the probability that fewer than three emails arrive in an hour.\n",
    "\n",
    "**(c)** Calculate the probability that the interval between two successive incoming emails is less than ten minutes.\n",
    "\n",
    "**(d)** State the distribution that models the receipt of emails between 1.30pm and 4.30pm on a typical day."
   ]
  },
  {
   "source": [
    "#### Declare the distributions"
   ],
   "cell_type": "markdown",
   "metadata": {}
  },
  {
   "cell_type": "code",
   "execution_count": 2,
   "metadata": {},
   "outputs": [],
   "source": [
    "# number of events\n",
    "x = stats.poisson(mu=5)\n",
    "\n",
    "# waiting time between events\n",
    "t = stats.expon(loc=0, scale=1/5)"
   ]
  },
  {
   "cell_type": "markdown",
   "metadata": {},
   "source": [
    "#### (a)\n",
    "\n",
    "The probability exactly three emails will arrive in an hour is\n",
    "\n",
    "$$\n",
    "p(3) = e^{-5} \\bigg( \\frac{5^{3}}{3!} \\bigg) = \\cdots\n",
    "$$"
   ]
  },
  {
   "cell_type": "code",
   "execution_count": 3,
   "metadata": {},
   "outputs": [
    {
     "data": {
      "text/plain": [
       "0.140374"
      ]
     },
     "execution_count": 3,
     "metadata": {},
     "output_type": "execute_result"
    }
   ],
   "source": [
    "round(x.pmf(k=3), 6)"
   ]
  },
  {
   "cell_type": "markdown",
   "metadata": {},
   "source": [
    "#### (b)\n",
    "\n",
    "The probability fewer than three emails arrive in an hour is $P(X < 3) = F(2)$, so\n",
    "\n",
    "$$\n",
    "F(2) = e^{-5} \\sum_{k=0}^{2} \\frac{5^{k}}{k!} = \\cdots\n",
    "$$"
   ]
  },
  {
   "cell_type": "code",
   "execution_count": 4,
   "metadata": {},
   "outputs": [
    {
     "data": {
      "text/plain": [
       "0.124652"
      ]
     },
     "execution_count": 4,
     "metadata": {},
     "output_type": "execute_result"
    }
   ],
   "source": [
    "round(x.cdf(x=2), 6)"
   ]
  },
  {
   "cell_type": "markdown",
   "metadata": {},
   "source": [
    "#### (c)\n",
    "\n",
    "Let the continuous random variable $T$ represent the waiting time between emails, where $T \\sim M(3)$.\n",
    "Ten minutes is equivalent to $1/6$ hours, so $P(T < 1/6)$ is\n",
    "\n",
    "$$\n",
    "F\\bigg( \\frac{1}{6} \\bigg) = 1 - e^{-5 \\times \\frac{1}{6}} = \\cdots\n",
    "$$"
   ]
  },
  {
   "cell_type": "code",
   "execution_count": 5,
   "metadata": {},
   "outputs": [
    {
     "data": {
      "text/plain": [
       "0.565402"
      ]
     },
     "execution_count": 5,
     "metadata": {},
     "output_type": "execute_result"
    }
   ],
   "source": [
    "round(t.cdf(x=1/6), 6)"
   ]
  },
  {
   "cell_type": "markdown",
   "metadata": {},
   "source": [
    "#### (d)\n",
    "\n",
    "If $X$ is a random variable that models the number of emails received in 1 hour, where $X \\sim \\text{Poisson}(3)$, then let $Y$ be a random variable that models the number of emails received in $t$ hours, so $Y \\sim \\text{Poisson}(5t)$.\n",
    "\n",
    "If we set $t=3$ (hours), then $Y \\sim \\text{Poisson}(15)$."
   ]
  },
  {
   "cell_type": "markdown",
   "metadata": {},
   "source": [
    "### Example 4.2.2\n",
    "\n",
    "Suppose that alpha particles are emitted from a radioactive source at random at an average rate of $0.5$ every second.\n",
    "Assume that the emissions of alpha particles may be modelled by a Poisson process.\n",
    "\n",
    "Calculate the probability that\n",
    "\n",
    "**(a)** there are no emissions of alpha particles in a five-second interval.\n",
    "\n",
    "**(b)** the waiting time between emissions of alpha particles exceeds ten seconds."
   ]
  },
  {
   "cell_type": "markdown",
   "metadata": {},
   "source": [
    "#### (a)\n",
    "\n",
    "Alpha particle emissions may be modelled by a Poisson process with rate $\\lambda = 0.5$ per second. \n",
    "So, $X$, the number of emissions in a five-second interval, has a Poisson distribution with parameter\n",
    "\n",
    "$$\n",
    "\\lambda t = 0.5(5) = 2.5.\n",
    "$$\n",
    "\n",
    "The probability that there are no alpha particle emissions in a five-second interval will be\n",
    "\n",
    "$$\n",
    "p(0) = e^{-2.5} \\bigg( \\frac{2.5^{0}}{0!} \\bigg) = \\cdots\n",
    "$$"
   ]
  },
  {
   "cell_type": "code",
   "execution_count": 6,
   "metadata": {},
   "outputs": [],
   "source": [
    "# number of events\n",
    "x = stats.poisson(mu=2.5)"
   ]
  },
  {
   "cell_type": "code",
   "execution_count": 7,
   "metadata": {},
   "outputs": [
    {
     "data": {
      "text/plain": [
       "0.082085"
      ]
     },
     "execution_count": 7,
     "metadata": {},
     "output_type": "execute_result"
    }
   ],
   "source": [
    "# p(6)\n",
    "round(x.pmf(k=0), 6)"
   ]
  },
  {
   "cell_type": "markdown",
   "metadata": {},
   "source": [
    "#### (b)\n",
    "\n",
    "The waiting time (in seconds) between successive alpha particle emissions, $T$, has an exponential distribution with parameter $\\lambda = 0.5$.\n",
    "\n",
    "So the probability that the waiting time between alpha particle emissions exceeds ten seconds is given by\n",
    "\n",
    "$$\n",
    "P(T > 10) = 1 - P(T < 10) = 1 - F(10) = \\cdots\n",
    "$$"
   ]
  },
  {
   "cell_type": "code",
   "execution_count": 8,
   "metadata": {},
   "outputs": [],
   "source": [
    "# waiting time between events\n",
    "t = stats.expon(loc=0, scale=1/0.5)"
   ]
  },
  {
   "cell_type": "code",
   "execution_count": 9,
   "metadata": {},
   "outputs": [
    {
     "data": {
      "text/plain": [
       "0.006738"
      ]
     },
     "execution_count": 9,
     "metadata": {},
     "output_type": "execute_result"
    }
   ],
   "source": [
    "# P(T>10)\n",
    "round(1 - t.cdf(x=10), 6)"
   ]
  },
  {
   "source": [
    "### Example 4.2.3\n",
    "\n",
    "Suppose that online orders are placed randomly at a company’s website at an average rate of 1.5 every hour.\n",
    "Assume that the arrivals of online orders may be modelled by a Poisson process.\n",
    "\n",
    "**(a)** What is the probability that the waiting time between successive online orders is between one and two hours?\n",
    "\n",
    "**(b)** What is the probability that there are more than two online orders placed in a two-hour interval?"
   ],
   "cell_type": "markdown",
   "metadata": {}
  },
  {
   "source": [
    "#### (a)\n",
    "\n",
    "The waiting time (in hours) between arrivals of successive online orders, $T$, has an exponential distribution with parameter $\\lambda=1.5$.\n",
    "So, the probability that the waiting time between successive online orders is between one and two hours is given by"
   ],
   "cell_type": "markdown",
   "metadata": {}
  },
  {
   "cell_type": "code",
   "execution_count": 6,
   "metadata": {},
   "outputs": [],
   "source": [
    "# waiting time\n",
    "t = stats.expon(loc=0, scale=1/1.5)"
   ]
  },
  {
   "cell_type": "code",
   "execution_count": 7,
   "metadata": {},
   "outputs": [
    {
     "output_type": "execute_result",
     "data": {
      "text/plain": [
       "0.173343"
      ]
     },
     "metadata": {},
     "execution_count": 7
    }
   ],
   "source": [
    "round(t.cdf(x=2) - t.cdf(x=1), 6)"
   ]
  },
  {
   "source": [
    "#### (b)\n",
    "\n",
    "Arrivals of online orders may be modelled by a Poisson process with rate $\\lambda=1.5$ per hour.  \n",
    "\n",
    "So, $X$, the number of orders placed in two hours, has a Poisson distribution with parameter\n",
    "\n",
    "$$\n",
    "\\lambda t = 1.5(2) = 3.\n",
    "$$\n",
    "\n",
    "and the probability that there are more than two orders placed in a two-hour interval is equal to"
   ],
   "cell_type": "markdown",
   "metadata": {}
  },
  {
   "cell_type": "code",
   "execution_count": 8,
   "metadata": {},
   "outputs": [],
   "source": [
    "# number of events\n",
    "x = stats.poisson(mu=3)"
   ]
  },
  {
   "cell_type": "code",
   "execution_count": 9,
   "metadata": {},
   "outputs": [
    {
     "output_type": "execute_result",
     "data": {
      "text/plain": [
       "0.57681"
      ]
     },
     "metadata": {},
     "execution_count": 9
    }
   ],
   "source": [
    "round(1 - x.cdf(x=2), 6)"
   ]
  }
 ],
 "metadata": {
  "kernelspec": {
   "display_name": "Python 3",
   "language": "python",
   "name": "python3"
  },
  "language_info": {
   "codemirror_mode": {
    "name": "ipython",
    "version": 3
   },
   "file_extension": ".py",
   "mimetype": "text/x-python",
   "name": "python",
   "nbconvert_exporter": "python",
   "pygments_lexer": "ipython3",
   "version": "3.8.3-final"
  }
 },
 "nbformat": 4,
 "nbformat_minor": 4
}