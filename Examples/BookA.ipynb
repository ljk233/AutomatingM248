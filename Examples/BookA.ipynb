{
 "metadata": {
  "language_info": {
   "codemirror_mode": {
    "name": "ipython",
    "version": 3
   },
   "file_extension": ".py",
   "mimetype": "text/x-python",
   "name": "python",
   "nbconvert_exporter": "python",
   "pygments_lexer": "ipython3",
   "version": "3.8.3-final"
  },
  "orig_nbformat": 2,
  "kernelspec": {
   "name": "python3",
   "display_name": "Python 3"
  }
 },
 "nbformat": 4,
 "nbformat_minor": 2,
 "cells": [
  {
   "source": [
    "# Examples: M248 Book A\n",
    "\n",
    "-----\n",
    "\n",
    "A collection of examples based on the topics covered by **Book A** of **M248: Analysing data**.\n",
    "\n",
    "## Contents\n",
    "\n",
    "### 1. General probability distributions\n",
    "\n",
    "1. Probability mass function\n",
    "2. [Probability density function](#1.1_Probability_density_functions)\n",
    "\n",
    "### 2. Standard discrete distributions\n",
    "\n",
    "1. Bernoulli distribution\n",
    "2. Binomial distribution\n",
    "3. Discrete uniform distribution\n",
    "4. Geometric distribution\n",
    "5. Poisson distribution\n",
    "\n",
    "### 3. Standard continuous distributions\n",
    "\n",
    "1. Continuous uniform distribution\n",
    "2. Exponential distribution\n",
    "\n",
    "### 4. Bernoulli and Poisson processes\n",
    "\n",
    "1. Bernoulli process\n",
    "2. Poisson process\n",
    "\n",
    "### 5. Population quantiles\n",
    "\n",
    "1. Population quantile of a continuous distribution\n",
    "2. Population quantile of a discrete distribution\n",
    "\n",
    "-----"
   ],
   "cell_type": "markdown",
   "metadata": {}
  },
  {
   "cell_type": "code",
   "execution_count": 1,
   "metadata": {},
   "outputs": [],
   "source": [
    "import scipy.stats as stats\n",
    "from scipy.integrate import quad"
   ]
  },
  {
   "source": [
    "## 1. General probability distributions"
   ],
   "cell_type": "markdown",
   "metadata": {}
  },
  {
   "source": [
    "### 1.1 Probability density functions"
   ],
   "cell_type": "markdown",
   "metadata": {}
  },
  {
   "source": [
    "**Example 1.1.1.** Suppose that a random variable $X$ has range $(0,1)$ and that its p.d.f. is given by\n",
    "\n",
    "$$f(x) = \\frac{3}{4} (x^{2} + 1), \\hspace{3mm} x \\in (0,1).$$\n",
    "\n",
    "What is the value of $P(1/4 \\leq X \\leq 1/2)$?\n",
    "\n",
    "The probability is the solution to\n",
    "\n",
    "$$\n",
    "P(1/4 \\leq X \\leq 1/2)\n",
    "  = \\int_{1/4}^{1/2} f(x) \\> dx\n",
    "  = \\int_{1/4}^{1/2} \\frac{3}{4} (x^{2} + 1) \\> dx\n",
    "  = \\cdots\n",
    "$$"
   ],
   "cell_type": "markdown",
   "metadata": {}
  },
  {
   "cell_type": "code",
   "execution_count": 5,
   "metadata": {},
   "outputs": [
    {
     "output_type": "execute_result",
     "data": {
      "text/plain": [
       "0.21484375000000003"
      ]
     },
     "metadata": {},
     "execution_count": 5
    }
   ],
   "source": [
    "# define a new function\n",
    "def pdf(x: float):\n",
    "    return 0.75 * ((x ** 2) + 1)\n",
    "\n",
    "# integrate the function using quad\n",
    "quad(func=pdf, a=0.25, b=0.5)[0]  # select 0 index"
   ]
  },
  {
   "source": [
    "**Example 1.1.2.** Suppose that a random variable $X$ has range $(0,4)$ and that its p.d.f. is given by\n",
    "\n",
    "$$f(x) = \\frac{3}{40} (\\sqrt{x} + 2), \\hspace{3mm} x \\in (0,4).$$\n",
    "\n",
    "What is the value of $P(X \\geq 1)$?\n",
    "\n",
    "The probability is the solution to\n",
    "\n",
    "$$\n",
    "P(1/4 \\leq X \\leq 1/2)\n",
    "  = \\int_{1}^{4} f(x) \\> dx\n",
    "  = \\int_{1}^{4} \\frac{3}{40} (\\sqrt{x} + 2) \\> dx\n",
    "  = \\cdots\n",
    "$$"
   ],
   "cell_type": "markdown",
   "metadata": {}
  },
  {
   "cell_type": "code",
   "execution_count": 6,
   "metadata": {},
   "outputs": [
    {
     "output_type": "execute_result",
     "data": {
      "text/plain": [
       "0.8"
      ]
     },
     "metadata": {},
     "execution_count": 6
    }
   ],
   "source": [
    "# define a new function\n",
    "def pdf(x: float):\n",
    "    return (3/40) * ((x ** (0.5)) + 2)\n",
    "\n",
    "# integrate the function using quad\n",
    "quad(func=pdf, a=1, b=4)[0]  # select 0 index"
   ]
  },
  {
   "source": [
    "**Example 1.1.3.** Suppose that a continuous variable $X$ can only take values in the range $−1$ to $1$. The following is a function $f(x)$ of $x$:\n",
    "\n",
    "$$f(x) = 1 - x^{2}.$$\n",
    "\n",
    "Is $f(x)$ a valid p.d.f. for $x$?\n",
    "\n",
    "Check the properties of a valid p.d.f.\n",
    "\n",
    "(1) $\\int f(x) = 1$\n",
    "\n",
    "(2) $f(x) > 0$\n"
   ],
   "cell_type": "markdown",
   "metadata": {}
  },
  {
   "cell_type": "code",
   "execution_count": 8,
   "metadata": {},
   "outputs": [
    {
     "output_type": "execute_result",
     "data": {
      "text/plain": [
       "1.3333333333333335"
      ]
     },
     "metadata": {},
     "execution_count": 8
    }
   ],
   "source": [
    "# define a new function\n",
    "def pdf(x: float):\n",
    "    return 1 - (x ** 2)\n",
    "\n",
    "# integrate the function using quad\n",
    "quad(func=pdf, a=-1, b=1)[0]  # select 0 index"
   ]
  },
  {
   "source": [
    "Therefore $f(x)$ is not a valid p.d.f.\n",
    "\n",
    "But does a normalising constant, $k$, exist, such that $k \\> f(x)$ would be a valid p.d.f.?\n",
    "\n",
    "Solve the following for $k$\n",
    "\n",
    "$$\n",
    "\\begin{aligned}\n",
    "    1 &= k \\int_{-1}^{1} (1 - x^{2}) \\> dx \\\\\n",
    "      &= k \\bigg( \\frac{4}{3} \\bigg) \\\\\n",
    "    k &= \\frac{3}{4}.\n",
    "\\end{aligned}\n",
    "$$"
   ],
   "cell_type": "markdown",
   "metadata": {}
  },
  {
   "source": [
    "**Example 1.1.4.** Suppose that a continuous variable $X$ can only take values in the range $1$ to $4$. The following is a function $f(x)$ of $x$:\n",
    "\n",
    "$$f(x) = (x - 7)^{2}.$$\n",
    "\n",
    "Is $f(x)$ a valid p.d.f. for $x$?\n",
    "\n",
    "Check the properties of a valid p.d.f.\n",
    "\n",
    "(1) $\\int f(x) = 1$\n",
    "\n",
    "(2) $f(x) > 0$"
   ],
   "cell_type": "markdown",
   "metadata": {}
  },
  {
   "cell_type": "code",
   "execution_count": 9,
   "metadata": {},
   "outputs": [
    {
     "output_type": "execute_result",
     "data": {
      "text/plain": [
       "63.0"
      ]
     },
     "metadata": {},
     "execution_count": 9
    }
   ],
   "source": [
    "# define a new function\n",
    "def pdf(x: float):\n",
    "    return (x - 7) ** 2\n",
    "\n",
    "# integrate the function using quad\n",
    "quad(func=pdf, a=1, b=4)[0]  # select 0 index"
   ]
  },
  {
   "source": [
    "Therefore $f(x)$ is not a valid p.d.f.\n",
    "\n",
    "But does a normalising constant, $k$, exist, such that $k \\> f(x)$ would be a valid p.d.f.?\n",
    "\n",
    "Solve the following for $k$\n",
    "\n",
    "$$\n",
    "\\begin{aligned}\n",
    "    1 &= k \\int_{-1}^{1} (x - 7)^{2} \\> dx \\\\\n",
    "      &= 63k \\\\\n",
    "    k &= \\frac{1}{63}.\n",
    "\\end{aligned}\n",
    "$$"
   ],
   "cell_type": "markdown",
   "metadata": {}
  },
  {
   "source": [
    "**Example 1.1.5.** Suppose that a continuous variable $X$ can only take values in the range $0$ to $1$. The following is a function $f(x)$ of $x$:\n",
    "\n",
    "$$f(x) = \\frac{3}{4} (x^{2} + 1), \\hspace{3mm} x \\in (0,1).$$\n",
    "\n",
    "What is the c.d.f. associated with $X$?\n",
    "\n",
    "The c.d.f. of $X$, $F(x)$, is\n",
    "\n",
    "$$\n",
    "\\begin{aligned}\n",
    "F(x) = \\int_{a}^{x} f(y) \\> dy = \\int_{0}^{x} \\frac{3}{4} (x^{2} + 1) \\> dy &= \\frac{3}{4} \\int_{0}^{x} (x^{2} + 1) \\> dy \\\\\n",
    "  &= \\frac{3}{4} \\bigg[ \\frac{1}{3} y^{3} + y \\bigg]_{0}^{x} \\\\\n",
    "  &= \\frac{3}{4} \\bigg\\{ \\frac{1}{3} x^{3} + x - \\bigg( 0 + 0 \\bigg) \\bigg\\} \\\\\n",
    "  &= \\frac{1}{4} ( x^{3} + 3x ).\n",
    "\\end{aligned}\n",
    "$$"
   ],
   "cell_type": "markdown",
   "metadata": {}
  },
  {
   "source": [
    "**Example 1.1.6.** Suppose that a continuous variable $X$ with range $(0,3)$ has c.d.f. given by\n",
    "\n",
    "$$F(x) = \\frac{1}{27} x^{3}, \\hspace{3mm} x \\in (0,3).$$\n",
    "\n",
    "What is $P(1 < X < 2)$?\n",
    "\n",
    "The probability $P(1 < X < 2)$ will be\n",
    "\n",
    "$$\n",
    "\\begin{aligned}\n",
    "P(1 < X < 2) = P(X < 2) - P(X < 1) &= F(2) - F(1) \\\\\n",
    "  &= \\frac{1}{27} (2^{3}) - \\frac{1}{27} (1^{3}) \\\\\n",
    "  &= \\frac{1}{27} (8 - 1) \\\\\n",
    "  &= \\frac{7}{27}.\n",
    "\\end{aligned}\n",
    "$$"
   ],
   "cell_type": "markdown",
   "metadata": {}
  },
  {
   "source": [
    "**Example 1.1.7.** Suppose that a continuous variable $X$ with range $(0,1)$ has c.d.f. given by\n",
    "\n",
    "$$F(x) = \\frac{1}{5} x^{2} (2x+3), \\hspace{3mm} x \\in (0,1).$$\n",
    "\n",
    "What are $P(X < 1/2)$ and $P(X \\geq 1/2)$?\n",
    "\n",
    "The $P(X < 1/2) = F(1/2)$, so\n",
    "\n",
    "$$\n",
    "F(1/2) = \\frac{1}{5} \\bigg(\\frac{1}{2}\\bigg)^{2} \\bigg( 2 \\bigg(\\frac{1}{2}\\bigg) + 3 \\bigg) = \\cdots\n",
    "$$"
   ],
   "cell_type": "markdown",
   "metadata": {}
  },
  {
   "cell_type": "code",
   "execution_count": 12,
   "metadata": {},
   "outputs": [],
   "source": [
    "def cdf(x: float):\n",
    "    return (0.2) * (x ** 2) * ((2 * x) + 3)"
   ]
  },
  {
   "cell_type": "code",
   "execution_count": 13,
   "metadata": {},
   "outputs": [
    {
     "output_type": "execute_result",
     "data": {
      "text/plain": [
       "0.2"
      ]
     },
     "metadata": {},
     "execution_count": 13
    }
   ],
   "source": [
    "cdf(x=0.5)"
   ]
  },
  {
   "source": [
    "The $P(X \\geq 1/4) = 1 - F(1/4)$, so\n",
    "\n",
    "$$\n",
    "1 - F(1/4) = 1 - \\bigg\\{ \\frac{1}{5} \\bigg(\\frac{1}{4}\\bigg)^{2} \\bigg( 2 \\bigg(\\frac{1}{4}\\bigg) + 3 \\bigg) \\bigg\\} = \\cdots\n",
    "$$"
   ],
   "cell_type": "markdown",
   "metadata": {}
  },
  {
   "cell_type": "code",
   "execution_count": 14,
   "metadata": {},
   "outputs": [
    {
     "output_type": "execute_result",
     "data": {
      "text/plain": [
       "0.95625"
      ]
     },
     "metadata": {},
     "execution_count": 14
    }
   ],
   "source": [
    "1 - cdf(x=0.25)"
   ]
  },
  {
   "source": [
    "### 1.2. Probability mass functions"
   ],
   "cell_type": "markdown",
   "metadata": {}
  },
  {
   "cell_type": "code",
   "execution_count": null,
   "metadata": {},
   "outputs": [],
   "source": []
  },
  {
   "cell_type": "code",
   "execution_count": null,
   "metadata": {},
   "outputs": [],
   "source": []
  },
  {
   "cell_type": "code",
   "execution_count": null,
   "metadata": {},
   "outputs": [],
   "source": []
  },
  {
   "cell_type": "code",
   "execution_count": null,
   "metadata": {},
   "outputs": [],
   "source": []
  },
  {
   "cell_type": "code",
   "execution_count": null,
   "metadata": {},
   "outputs": [],
   "source": []
  },
  {
   "source": [
    "## 2. Standard discrete distributions"
   ],
   "cell_type": "markdown",
   "metadata": {}
  },
  {
   "source": [
    "### 1. Bernoulli distribution"
   ],
   "cell_type": "markdown",
   "metadata": {}
  },
  {
   "source": [
    "### 2. Binomial distribution"
   ],
   "cell_type": "markdown",
   "metadata": {}
  },
  {
   "source": [
    "### 3. Discrete uniform distribution"
   ],
   "cell_type": "markdown",
   "metadata": {}
  },
  {
   "source": [
    "### 4. Geometric distribution"
   ],
   "cell_type": "markdown",
   "metadata": {}
  },
  {
   "source": [
    "### 5. Poisson distribution"
   ],
   "cell_type": "markdown",
   "metadata": {}
  },
  {
   "source": [
    "## 3. Standard continuous distributions"
   ],
   "cell_type": "markdown",
   "metadata": {}
  },
  {
   "source": [
    "### 1. Continuous uniform distribution"
   ],
   "cell_type": "markdown",
   "metadata": {}
  },
  {
   "source": [
    "### 2. Exponential distribution"
   ],
   "cell_type": "markdown",
   "metadata": {}
  },
  {
   "source": [
    "## 4. Bernoulli and Poisson processes"
   ],
   "cell_type": "markdown",
   "metadata": {}
  },
  {
   "source": [
    "### 1. Bernoulli process"
   ],
   "cell_type": "markdown",
   "metadata": {}
  },
  {
   "source": [
    "### 2. Poisson process"
   ],
   "cell_type": "markdown",
   "metadata": {}
  },
  {
   "source": [
    "## 5. Population quantiles"
   ],
   "cell_type": "markdown",
   "metadata": {}
  },
  {
   "source": [
    "### 1. Population quantile of a continuous distribution"
   ],
   "cell_type": "markdown",
   "metadata": {}
  },
  {
   "source": [
    "### 2. Population quantile of a discrete distribution"
   ],
   "cell_type": "markdown",
   "metadata": {}
  }
 ]
}