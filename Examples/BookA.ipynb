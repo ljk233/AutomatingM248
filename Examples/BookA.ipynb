{
 "cells": [
  {
   "cell_type": "markdown",
   "metadata": {},
   "source": [
    "# Examples: M248 Book A\n",
    "\n",
    "-----\n",
    "\n",
    "A collection of examples based on the topics covered by **Book A** of **M248: Analysing data**.\n",
    "\n",
    "## Contents\n",
    "\n",
    "### 1. General probability distributions\n",
    "\n",
    "1. Probability mass function\n",
    "2. [Probability density function](#1.1-Probability-density-functions)\n",
    "\n",
    "### 2. Standard discrete distributions\n",
    "\n",
    "1. Bernoulli distribution\n",
    "2. [Binomial distribution](#2.2-Binomial-distribution)\n",
    "3. Discrete uniform distribution\n",
    "4. Geometric distribution\n",
    "5. Poisson distribution\n",
    "\n",
    "### 3. Standard continuous distributions\n",
    "\n",
    "1. Continuous uniform distribution\n",
    "2. Exponential distribution\n",
    "\n",
    "### 4. Bernoulli and Poisson processes\n",
    "\n",
    "1. Bernoulli process\n",
    "2. [Poisson process](#4.2-Poisson-process)\n",
    "\n",
    "### 5. Population quantiles\n",
    "\n",
    "1. Population quantile of a continuous distribution\n",
    "2. Population quantile of a discrete distribution\n",
    "\n",
    "-----"
   ]
  },
  {
   "cell_type": "code",
   "execution_count": 1,
   "metadata": {},
   "outputs": [],
   "source": [
    "from scipy import stats\n",
    "from scipy.integrate import quad"
   ]
  },
  {
   "cell_type": "markdown",
   "metadata": {},
   "source": [
    "## 1 Probability distributions\n",
    "\n",
    "-----"
   ]
  },
  {
   "cell_type": "markdown",
   "metadata": {},
   "source": [
    "### 1.1 Probability density functions"
   ]
  },
  {
   "cell_type": "markdown",
   "metadata": {},
   "source": [
    "**Example 1.1.1.** Suppose that a random variable $X$ has range $(0,1)$ and that its p.d.f. is given by\n",
    "\n",
    "$$f(x) = \\frac{3}{4} (x^{2} + 1), \\hspace{3mm} x \\in (0,1).$$\n",
    "\n",
    "What is the value of $P(1/4 \\leq X \\leq 1/2)$?\n",
    "\n",
    "The probability is the solution to\n",
    "\n",
    "$$\n",
    "P(1/4 \\leq X \\leq 1/2)\n",
    "  = \\int_{1/4}^{1/2} f(x) \\> dx\n",
    "  = \\int_{1/4}^{1/2} \\frac{3}{4} (x^{2} + 1) \\> dx\n",
    "  = \\cdots\n",
    "$$"
   ]
  },
  {
   "cell_type": "code",
   "execution_count": 2,
   "metadata": {},
   "outputs": [
    {
     "output_type": "execute_result",
     "data": {
      "text/plain": [
       "0.21484375000000003"
      ]
     },
     "metadata": {},
     "execution_count": 2
    }
   ],
   "source": [
    "# define a new function\n",
    "def pdf(x: float):\n",
    "    return 0.75 * ((x ** 2) + 1)\n",
    "\n",
    "\n",
    "# integrate the function using quad\n",
    "quad(func=pdf, a=0.25, b=0.5)[0]  # select 0 index"
   ]
  },
  {
   "cell_type": "markdown",
   "metadata": {},
   "source": [
    "**Example 1.1.2.** Suppose that a random variable $X$ has range $(0,4)$ and that its p.d.f. is given by\n",
    "\n",
    "$$f(x) = \\frac{3}{40} (\\sqrt{x} + 2), \\hspace{3mm} x \\in (0,4).$$\n",
    "\n",
    "What is the value of $P(X \\geq 1)$?\n",
    "\n",
    "The probability is the solution to\n",
    "\n",
    "$$\n",
    "P(1/4 \\leq X \\leq 1/2)\n",
    "  = \\int_{1}^{4} f(x) \\> dx\n",
    "  = \\int_{1}^{4} \\frac{3}{40} (\\sqrt{x} + 2) \\> dx\n",
    "  = \\cdots\n",
    "$$"
   ]
  },
  {
   "cell_type": "code",
   "execution_count": 3,
   "metadata": {},
   "outputs": [
    {
     "output_type": "execute_result",
     "data": {
      "text/plain": [
       "0.8"
      ]
     },
     "metadata": {},
     "execution_count": 3
    }
   ],
   "source": [
    "# define a new function\n",
    "def pdf(x: float):\n",
    "    return (3/40) * ((x ** (0.5)) + 2)\n",
    "\n",
    "\n",
    "# integrate the function using quad\n",
    "quad(func=pdf, a=1, b=4)[0]  # select 0 index"
   ]
  },
  {
   "cell_type": "markdown",
   "metadata": {},
   "source": [
    "**Example 1.1.3.** Suppose that a continuous variable $X$ has range $(-1,1)$. The following is a function $f(x)$ of $x$:\n",
    "\n",
    "$$f(x) = 1 - x^{2}.$$\n",
    "\n",
    "Is $f(x)$ a valid p.d.f. for $x$?\n",
    "\n",
    "Check the properties of a valid p.d.f.\n",
    "\n",
    "(1) $\\int f(x) = 1$\n",
    "\n",
    "(2) $f(x) > 0$\n"
   ]
  },
  {
   "cell_type": "code",
   "execution_count": 4,
   "metadata": {},
   "outputs": [
    {
     "output_type": "execute_result",
     "data": {
      "text/plain": [
       "1.3333333333333335"
      ]
     },
     "metadata": {},
     "execution_count": 4
    }
   ],
   "source": [
    "# define a new function\n",
    "def pdf(x: float):\n",
    "    return 1 - (x ** 2)\n",
    "\n",
    "\n",
    "# integrate the function using quad\n",
    "quad(func=pdf, a=-1, b=1)[0]  # select 0 index"
   ]
  },
  {
   "cell_type": "markdown",
   "metadata": {},
   "source": [
    "Therefore $f(x)$ is not a valid p.d.f.\n",
    "\n",
    "But does a normalising constant, $k$, exist, such that $k \\> f(x)$ would be a valid p.d.f.?\n",
    "\n",
    "Solve the following for $k$\n",
    "\n",
    "$$\n",
    "\\begin{aligned}\n",
    "    1 &= k \\int_{-1}^{1} (1 - x^{2}) \\> dx \\\\\n",
    "      &= k \\bigg( \\frac{4}{3} \\bigg) \\\\\n",
    "    k &= \\frac{3}{4}.\n",
    "\\end{aligned}\n",
    "$$"
   ]
  },
  {
   "cell_type": "markdown",
   "metadata": {},
   "source": [
    "**Example 1.1.4.** Suppose that a continuous variable $X$ can only take values in the range $1$ to $4$. The following is a function $f(x)$ of $x$:\n",
    "\n",
    "$$f(x) = (x - 7)^{2}.$$\n",
    "\n",
    "Is $f(x)$ a valid p.d.f. for $x$?\n",
    "\n",
    "Check the properties of a valid p.d.f.\n",
    "\n",
    "(1) $\\int f(x) = 1$\n",
    "\n",
    "(2) $f(x) > 0$"
   ]
  },
  {
   "cell_type": "code",
   "execution_count": 5,
   "metadata": {},
   "outputs": [
    {
     "output_type": "execute_result",
     "data": {
      "text/plain": [
       "63.0"
      ]
     },
     "metadata": {},
     "execution_count": 5
    }
   ],
   "source": [
    "# define a new function\n",
    "def pdf(x: float):\n",
    "    return (x - 7) ** 2\n",
    "\n",
    "\n",
    "# integrate the function using quad\n",
    "quad(func=pdf, a=1, b=4)[0]  # select 0 index"
   ]
  },
  {
   "cell_type": "markdown",
   "metadata": {},
   "source": [
    "Therefore $f(x)$ is not a valid p.d.f.\n",
    "\n",
    "But does a normalising constant, $k$, exist, such that $k \\> f(x)$ would be a valid p.d.f.?\n",
    "\n",
    "Solve the following for $k$\n",
    "\n",
    "$$\n",
    "\\begin{aligned}\n",
    "    1 &= k \\int_{-1}^{1} (x - 7)^{2} \\> dx \\\\\n",
    "      &= 63k \\\\\n",
    "    k &= \\frac{1}{63}.\n",
    "\\end{aligned}\n",
    "$$"
   ]
  },
  {
   "cell_type": "markdown",
   "metadata": {},
   "source": [
    "**Example 1.1.5.** Suppose that a continuous variable $X$ can only take values in the range $0$ to $1$. The following is a function $f(x)$ of $x$:\n",
    "\n",
    "$$f(x) = \\frac{3}{4} (x^{2} + 1), \\hspace{3mm} x \\in (0,1).$$\n",
    "\n",
    "What is the c.d.f. associated with $X$?\n",
    "\n",
    "The c.d.f. of $X$, $F(x)$, is\n",
    "\n",
    "$$\n",
    "\\begin{aligned}\n",
    "F(x) = \\int_{a}^{x} f(y) \\> dy = \\int_{0}^{x} \\frac{3}{4} (x^{2} + 1) \\> dy &= \\frac{3}{4} \\int_{0}^{x} (x^{2} + 1) \\> dy \\\\\n",
    "  &= \\frac{3}{4} \\bigg[ \\frac{1}{3} y^{3} + y \\bigg]_{0}^{x} \\\\\n",
    "  &= \\frac{3}{4} \\bigg\\{ \\frac{1}{3} x^{3} + x - \\bigg( 0 + 0 \\bigg) \\bigg\\} \\\\\n",
    "  &= \\frac{1}{4} ( x^{3} + 3x ).\n",
    "\\end{aligned}\n",
    "$$"
   ]
  },
  {
   "cell_type": "markdown",
   "metadata": {},
   "source": [
    "**Example 1.1.6.** Suppose that a continuous variable $X$ with range $(0,3)$ has c.d.f. given by\n",
    "\n",
    "$$F(x) = \\frac{1}{27} x^{3}, \\hspace{3mm} x \\in (0,3).$$\n",
    "\n",
    "What is $P(1 < X < 2)$?\n",
    "\n",
    "The probability $P(1 < X < 2) = F(2) - F(1)$, so\n",
    "\n",
    "$$\n",
    "F(2) - F(1) = \\cdots \\\\\n",
    "$$"
   ]
  },
  {
   "cell_type": "code",
   "execution_count": 6,
   "metadata": {},
   "outputs": [],
   "source": [
    "def cdf(x: float):\n",
    "    return (1 / 27) * (x ** 3)"
   ]
  },
  {
   "cell_type": "code",
   "execution_count": 7,
   "metadata": {},
   "outputs": [
    {
     "output_type": "execute_result",
     "data": {
      "text/plain": [
       "0.25925925925925924"
      ]
     },
     "metadata": {},
     "execution_count": 7
    }
   ],
   "source": [
    "cdf(x=2) - cdf(x=1)"
   ]
  },
  {
   "cell_type": "markdown",
   "metadata": {},
   "source": [
    "**Example 1.1.7.** Suppose that a continuous variable $X$ with range $(0,1)$ has c.d.f. given by\n",
    "\n",
    "$$F(x) = \\frac{1}{5} x^{2} (2x+3), \\hspace{3mm} x \\in (0,1).$$\n",
    "\n",
    "What are $P(X < 1/2)$ and $P(X \\geq 1/2)$?\n",
    "\n",
    "The $P(X < 1/2) = F(1/2)$, so\n",
    "\n",
    "$$\n",
    "F(1/2) = \\frac{1}{5} \\bigg(\\frac{1}{2}\\bigg)^{2} \\bigg( 2 \\bigg(\\frac{1}{2}\\bigg) + 3 \\bigg) = \\cdots\n",
    "$$"
   ]
  },
  {
   "cell_type": "code",
   "execution_count": 8,
   "metadata": {},
   "outputs": [],
   "source": [
    "def cdf(x: float):\n",
    "    return (0.2) * (x ** 2) * ((2 * x) + 3)"
   ]
  },
  {
   "cell_type": "code",
   "execution_count": 9,
   "metadata": {},
   "outputs": [
    {
     "output_type": "execute_result",
     "data": {
      "text/plain": [
       "0.2"
      ]
     },
     "metadata": {},
     "execution_count": 9
    }
   ],
   "source": [
    "cdf(x=0.5)"
   ]
  },
  {
   "cell_type": "markdown",
   "metadata": {},
   "source": [
    "The $P(X \\geq 1/4) = 1 - F(1/4)$, so\n",
    "\n",
    "$$\n",
    "1 - F(1/4) = 1 - \\bigg\\{ \\frac{1}{5} \\bigg(\\frac{1}{4}\\bigg)^{2} \\bigg( 2 \\bigg(\\frac{1}{4}\\bigg) + 3 \\bigg) \\bigg\\} = \\cdots\n",
    "$$"
   ]
  },
  {
   "cell_type": "code",
   "execution_count": 10,
   "metadata": {},
   "outputs": [
    {
     "output_type": "execute_result",
     "data": {
      "text/plain": [
       "0.95625"
      ]
     },
     "metadata": {},
     "execution_count": 10
    }
   ],
   "source": [
    "1 - cdf(x=0.25)"
   ]
  },
  {
   "cell_type": "markdown",
   "metadata": {},
   "source": [
    "### 1.2 Probability mass functions"
   ]
  },
  {
   "cell_type": "markdown",
   "metadata": {},
   "source": [
    "## 2 Standard discrete distributions\n",
    "\n",
    "-----"
   ]
  },
  {
   "cell_type": "markdown",
   "metadata": {},
   "source": [
    "### 2.1 Binomial distribution"
   ]
  },
  {
   "source": [
    "**Example 2.1.1.** Suppose that a dicrete random variable $X$ is distributed $X \\sim B(15, 0.25)$.\n",
    "\n",
    "Calculate\n",
    "\n",
    "**a.** $P(X = 5)$\n",
    "\n",
    "**b.** $P(X \\leq 7)$\n",
    "\n",
    "**c.** $P(2 \\leq X <9)$\n",
    "\n",
    "**d.** $E(X)$\n",
    "\n",
    "**e.** $S(X)$"
   ],
   "cell_type": "markdown",
   "metadata": {}
  },
  {
   "source": [
    "# declare the distribution\n",
    "x = stats.binom(n=15, p=0.25)"
   ],
   "cell_type": "code",
   "metadata": {},
   "execution_count": 12,
   "outputs": []
  },
  {
   "source": [
    "**a.** The $P(X = 5)$ is\n",
    "\n",
    "$$\n",
    "p(5) = \\binom{15}{5} (0.25)^{5} (0.75)^{10} = \\cdots\n",
    "$$"
   ],
   "cell_type": "markdown",
   "metadata": {}
  },
  {
   "cell_type": "code",
   "execution_count": 13,
   "metadata": {},
   "outputs": [
    {
     "output_type": "execute_result",
     "data": {
      "text/plain": [
       "0.16514598112553383"
      ]
     },
     "metadata": {},
     "execution_count": 13
    }
   ],
   "source": [
    "x.pmf(k=5)"
   ]
  },
  {
   "source": [
    "**b.** The $P(X \\leq 7)$ is\n",
    "\n",
    "$$\n",
    "F(7) = \\sum_{k=0}^{7} \\binom{15}{k} (0.25)^{k} (0.75)^{15-k} = \\cdots\n",
    "$$"
   ],
   "cell_type": "markdown",
   "metadata": {}
  },
  {
   "source": [
    "x.cdf(x=7)"
   ],
   "cell_type": "code",
   "metadata": {},
   "execution_count": 14,
   "outputs": [
    {
     "output_type": "execute_result",
     "data": {
      "text/plain": [
       "0.9827001616358757"
      ]
     },
     "metadata": {},
     "execution_count": 14
    }
   ]
  },
  {
   "source": [
    "**c.** The $P(2 \\leq X < 9) = F(8) - F(2)$ is\n",
    "\n",
    "$$\n",
    "F(8) - F(2) =\n",
    "\\sum_{i=0}^{8} \\binom{15}{i} (0.25)^{j} (0.75)^{15-i} -\n",
    "\\sum_{j=0}^{2} \\binom{15}{j} (0.25)^{j} (0.75)^{15-j}\n",
    " = \\cdots\n",
    "$$"
   ],
   "cell_type": "markdown",
   "metadata": {}
  },
  {
   "source": [
    "x.cdf(x=8) - x.cdf(x=2)"
   ],
   "cell_type": "code",
   "metadata": {},
   "execution_count": 15,
   "outputs": [
    {
     "output_type": "execute_result",
     "data": {
      "text/plain": [
       "0.7597191743552685"
      ]
     },
     "metadata": {},
     "execution_count": 15
    }
   ]
  },
  {
   "source": [
    "**d.** The expected value of $X$ is\n",
    "\n",
    "$$\n",
    "E(X) = np = 15(0.25) = \\cdots\n",
    "$$"
   ],
   "cell_type": "markdown",
   "metadata": {}
  },
  {
   "cell_type": "code",
   "execution_count": 16,
   "metadata": {},
   "outputs": [
    {
     "output_type": "execute_result",
     "data": {
      "text/plain": [
       "3.75"
      ]
     },
     "metadata": {},
     "execution_count": 16
    }
   ],
   "source": [
    "x.mean()"
   ]
  },
  {
   "source": [
    "**e.** The standard deviation of $X$ is\n",
    "\n",
    "$$\n",
    "S(X) = \\sqrt{np(1-p)} = \\sqrt{15(0.25)(0.75)} = \\cdots\n",
    "$$"
   ],
   "cell_type": "markdown",
   "metadata": {}
  },
  {
   "cell_type": "code",
   "execution_count": 17,
   "metadata": {},
   "outputs": [
    {
     "output_type": "execute_result",
     "data": {
      "text/plain": [
       "1.6770509831248424"
      ]
     },
     "metadata": {},
     "execution_count": 17
    }
   ],
   "source": [
    "x.std()"
   ]
  },
  {
   "source": [
    "**Example 2.1.2.**"
   ],
   "cell_type": "markdown",
   "metadata": {}
  },
  {
   "cell_type": "markdown",
   "metadata": {},
   "source": [
    "### 2.2 Discrete uniform distribution"
   ]
  },
  {
   "cell_type": "markdown",
   "metadata": {},
   "source": [
    "### 2.3 Geometric distribution"
   ]
  },
  {
   "cell_type": "code",
   "execution_count": null,
   "metadata": {},
   "outputs": [],
   "source": []
  },
  {
   "cell_type": "code",
   "execution_count": null,
   "metadata": {},
   "outputs": [],
   "source": []
  },
  {
   "cell_type": "code",
   "execution_count": null,
   "metadata": {},
   "outputs": [],
   "source": []
  },
  {
   "cell_type": "code",
   "execution_count": null,
   "metadata": {},
   "outputs": [],
   "source": []
  },
  {
   "cell_type": "code",
   "execution_count": null,
   "metadata": {},
   "outputs": [],
   "source": []
  },
  {
   "cell_type": "markdown",
   "metadata": {},
   "source": [
    "### 2.4 Poisson distribution"
   ]
  },
  {
   "cell_type": "code",
   "execution_count": null,
   "metadata": {},
   "outputs": [],
   "source": []
  },
  {
   "cell_type": "code",
   "execution_count": null,
   "metadata": {},
   "outputs": [],
   "source": []
  },
  {
   "cell_type": "code",
   "execution_count": null,
   "metadata": {},
   "outputs": [],
   "source": []
  },
  {
   "cell_type": "code",
   "execution_count": null,
   "metadata": {},
   "outputs": [],
   "source": []
  },
  {
   "cell_type": "code",
   "execution_count": null,
   "metadata": {},
   "outputs": [],
   "source": []
  },
  {
   "cell_type": "markdown",
   "metadata": {},
   "source": [
    "## 3 Standard continuous distributions\n",
    "\n",
    "-----"
   ]
  },
  {
   "cell_type": "markdown",
   "metadata": {},
   "source": [
    "### 3.1 Continuous uniform distribution"
   ]
  },
  {
   "cell_type": "markdown",
   "metadata": {},
   "source": [
    "### 3.2 Exponential distribution"
   ]
  },
  {
   "cell_type": "markdown",
   "metadata": {},
   "source": [
    "## 4 Bernoulli and Poisson processes\n",
    "\n",
    "-----"
   ]
  },
  {
   "cell_type": "markdown",
   "metadata": {},
   "source": [
    "### 4.1 Bernoulli process"
   ]
  },
  {
   "cell_type": "markdown",
   "metadata": {},
   "source": [
    "### 4.2 Poisson process"
   ]
  },
  {
   "source": [
    "**Example 4.2.1 (June 2018).** \n",
    "The arrival of incoming emails at my office computer during working hours may be modelled by a Poisson process. On average, five emails arrive per hour.\n",
    "\n",
    "Calculate the following probabilities\n",
    "\n",
    "**a.** Exactly three emails arrive in an hour.\n",
    "\n",
    "**b.** Fewer than three emails arrive in an hour.\n",
    "\n",
    "**c.** The interval between two successive incoming emails is less than ten minutes.\n",
    "\n",
    "and then\n",
    "\n",
    "**d.** State the distribution that models of the number of emails arriving between 1.30 p.m. and 4.30 p.m.\n",
    "\n",
    "State all calculations to 3dp"
   ],
   "cell_type": "markdown",
   "metadata": {}
  },
  {
   "cell_type": "code",
   "execution_count": 22,
   "metadata": {},
   "outputs": [],
   "source": [
    "# rate of events\n",
    "L = 5\n",
    "# number of events\n",
    "x = stats.poisson(mu=L)\n",
    "# waiting time between events\n",
    "t = stats.expon(loc=0, scale = 1/L)"
   ]
  },
  {
   "source": [
    "**a.** The probability exactly three emails will arrive in an hour is\n",
    "\n",
    "$$\n",
    "p(3) = e^{-5} \\bigg( \\frac{5^{3}}{3!} \\bigg) = \\cdots\n",
    "$$"
   ],
   "cell_type": "markdown",
   "metadata": {}
  },
  {
   "source": [
    "round(x.pmf(k=3), 3)"
   ],
   "cell_type": "code",
   "metadata": {},
   "execution_count": 23,
   "outputs": [
    {
     "output_type": "execute_result",
     "data": {
      "text/plain": [
       "0.14"
      ]
     },
     "metadata": {},
     "execution_count": 23
    }
   ]
  },
  {
   "source": [
    "**b.** The probability fewer than three emails arrive in an hour is $F(2)$, so\n",
    "\n",
    "$$\n",
    "F(3) = e^{-5} \\sum_{k=0}^{2} \\frac{5^{k}}{k!} = \\cdots\n",
    "$$"
   ],
   "cell_type": "markdown",
   "metadata": {}
  },
  {
   "cell_type": "code",
   "execution_count": 26,
   "metadata": {},
   "outputs": [
    {
     "output_type": "execute_result",
     "data": {
      "text/plain": [
       "0.125"
      ]
     },
     "metadata": {},
     "execution_count": 26
    }
   ],
   "source": [
    "round(x.cdf(x=2), 3)"
   ]
  },
  {
   "source": [
    "**c.** Let the continuous random variable $T$ represent the waiting time between emails, where $T \\sim M(3)$.\n",
    "Ten minutes is equivalent to $1/6$ hours, so $P(T < 1/6)$ is\n",
    "\n",
    "$$\n",
    "F\\bigg( \\frac{1}{6} \\bigg) = 1 - e^{-5 \\times \\frac{1}{6}}\n",
    "$$"
   ],
   "cell_type": "markdown",
   "metadata": {}
  },
  {
   "cell_type": "code",
   "execution_count": 28,
   "metadata": {},
   "outputs": [
    {
     "output_type": "execute_result",
     "data": {
      "text/plain": [
       "0.565"
      ]
     },
     "metadata": {},
     "execution_count": 28
    }
   ],
   "source": [
    "round(t.cdf(x=1/6), 3)"
   ]
  },
  {
   "source": [
    "**d.** If $X$ is a random variable that models the number of emails received in 1 hour, where $X \\sim \\text{Poisson}(3)$, then let $Y$ be a random variable that models the number of emails received in $t$ hours, so $Y \\sim \\text{Poisson}(5t)$.\n",
    "\n",
    "If we set $t=3$ (hours), then $Y \\sim \\text{Poisson}(15)$."
   ],
   "cell_type": "markdown",
   "metadata": {}
  },
  {
   "cell_type": "markdown",
   "metadata": {},
   "source": [
    "## 5 Population quantiles\n",
    "\n",
    "-----"
   ]
  },
  {
   "cell_type": "markdown",
   "metadata": {},
   "source": [
    "### 5.1 Population quantile of a continuous distribution"
   ]
  },
  {
   "cell_type": "markdown",
   "metadata": {},
   "source": [
    "### 5.2 Population quantile of a discrete distribution"
   ]
  }
 ],
 "metadata": {
  "kernelspec": {
   "display_name": "Python 3",
   "language": "python",
   "name": "python3"
  },
  "language_info": {
   "codemirror_mode": {
    "name": "ipython",
    "version": 3
   },
   "file_extension": ".py",
   "mimetype": "text/x-python",
   "name": "python",
   "nbconvert_exporter": "python",
   "pygments_lexer": "ipython3",
   "version": "3.8.3-final"
  }
 },
 "nbformat": 4,
 "nbformat_minor": 4
}