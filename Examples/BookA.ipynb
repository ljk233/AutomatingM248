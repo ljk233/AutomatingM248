{
 "cells": [
  {
   "cell_type": "markdown",
   "metadata": {},
   "source": [
    "# Examples: M248 Book A\n",
    "\n",
    "-----\n",
    "\n",
    "## Preamble\n",
    "\n",
    "A collection of examples based on the topics covered by **Book A** of **M248: Analysing data**.\n",
    "\n",
    "### Contents\n",
    "\n",
    "#### 1. Probability distributions\n",
    "\n",
    "1. Probability mass function\n",
    "2. [Probability density function](#1.1-Probability-density-functions)\n",
    "\n",
    "#### 2. Standard discrete distributions\n",
    "\n",
    "1. [Binomial distribution](#2.1-Binomial-distribution)\n",
    "2. [Discrete uniform distribution](#2.2-Discrete-uniform-distribution)\n",
    "3. [Geometric distribution](#2.3-Geometric-distribution)\n",
    "4. [Poisson distribution](#2.4-Poisson-distribution)\n",
    "\n",
    "#### 3. Standard continuous distributions\n",
    "\n",
    "1. Continuous uniform distribution\n",
    "2. Exponential distribution\n",
    "\n",
    "#### 4. Bernoulli and Poisson processes\n",
    "\n",
    "1. Bernoulli process\n",
    "2. [Poisson process](#4.2-Poisson-process)\n",
    "\n",
    "#### 5. Population quantiles\n",
    "\n",
    "1. Population quantile of a continuous distribution\n",
    "2. Population quantile of a discrete distribution\n",
    "\n",
    "-----"
   ]
  },
  {
   "cell_type": "code",
   "execution_count": 1,
   "metadata": {},
   "outputs": [],
   "source": [
    "from scipy import stats\n",
    "from scipy.integrate import quad"
   ]
  },
  {
   "cell_type": "markdown",
   "metadata": {},
   "source": [
    "## 1 Probability distributions\n",
    "\n",
    "-----"
   ]
  },
  {
   "cell_type": "markdown",
   "metadata": {},
   "source": [
    "### 1.1 Probability density functions\n",
    "\n",
    "-----"
   ]
  },
  {
   "cell_type": "markdown",
   "metadata": {},
   "source": [
    "#### Example 1.1.1\n",
    "\n",
    "Suppose that a random variable $X$ has range $(0,1)$ and that its p.d.f. is given by\n",
    "\n",
    "$$f(x) = \\frac{3}{4} (x^{2} + 1), \\hspace{3mm} x \\in (0,1).$$\n",
    "\n",
    "What is the value of $P(1/4 \\leq X \\leq 1/2)$?\n",
    "\n",
    "$$\n",
    "P(1/4 \\leq X \\leq 1/2)\n",
    "  = \\int_{1/4}^{1/2} \\frac{3}{4} (x^{2} + 1) \\> dx\n",
    "  = \\cdots\n",
    "$$"
   ]
  },
  {
   "cell_type": "code",
   "execution_count": 2,
   "metadata": {},
   "outputs": [
    {
     "output_type": "execute_result",
     "data": {
      "text/plain": [
       "0.21484375000000003"
      ]
     },
     "metadata": {},
     "execution_count": 2
    }
   ],
   "source": [
    "# define a new function\n",
    "def pdf(x: float):\n",
    "    return 0.75 * ((x ** 2) + 1)\n",
    "\n",
    "\n",
    "# integrate the function using quad\n",
    "quad(func=pdf, a=0.25, b=0.5)[0]"
   ]
  },
  {
   "cell_type": "markdown",
   "metadata": {},
   "source": [
    "#### Example 1.1.2\n",
    "\n",
    "Suppose that a random variable $X$ has range $(0,4)$ and that its p.d.f. is given by\n",
    "\n",
    "$$f(x) = \\frac{3}{40} (\\sqrt{x} + 2), \\hspace{3mm} x \\in (0,4).$$\n",
    "\n",
    "What is the value of $P(X \\geq 1)$?"
   ]
  },
  {
   "source": [
    "$$\n",
    "P(X \\geq 1) = P(1 \\leq X \\leq 4)\n",
    "  = \\int_{1}^{4} \\frac{3}{40} (\\sqrt{x} + 2) \\> dx\n",
    "  = \\cdots\n",
    "$$"
   ],
   "cell_type": "markdown",
   "metadata": {}
  },
  {
   "cell_type": "code",
   "execution_count": 3,
   "metadata": {},
   "outputs": [
    {
     "output_type": "execute_result",
     "data": {
      "text/plain": [
       "0.8"
      ]
     },
     "metadata": {},
     "execution_count": 3
    }
   ],
   "source": [
    "# define a new function\n",
    "def pdf(x: float):\n",
    "    return (3/40) * ((x ** (0.5)) + 2)\n",
    "\n",
    "\n",
    "# integrate the function using quad\n",
    "quad(func=pdf, a=1, b=4)[0]"
   ]
  },
  {
   "cell_type": "markdown",
   "metadata": {},
   "source": [
    "#### Example 1.1.3\n",
    "\n",
    "Suppose that a continuous variable $X$ has range $(-1,1)$. The following is a function $f(x)$ of $x$:\n",
    "\n",
    "$$f(x) = 1 - x^{2}.$$\n",
    "\n",
    "Is $f(x)$ a valid p.d.f. for $x$?"
   ]
  },
  {
   "source": [
    "Check the properties of a valid p.d.f.\n",
    "\n",
    "(1) $\\int f(x) = 1$\n",
    "\n",
    "(2) $f(x) > 0$"
   ],
   "cell_type": "markdown",
   "metadata": {}
  },
  {
   "cell_type": "code",
   "execution_count": 4,
   "metadata": {},
   "outputs": [
    {
     "output_type": "execute_result",
     "data": {
      "text/plain": [
       "1.3333333333333335"
      ]
     },
     "metadata": {},
     "execution_count": 4
    }
   ],
   "source": [
    "# define a new function\n",
    "def pdf(x: float):\n",
    "    return 1 - (x ** 2)\n",
    "\n",
    "\n",
    "# integrate the function using quad\n",
    "quad(func=pdf, a=-1, b=1)[0]  # select 0 index"
   ]
  },
  {
   "cell_type": "markdown",
   "metadata": {},
   "source": [
    "Therefore $f(x)$ is not a valid p.d.f.\n",
    "But does a normalising constant, $k$, exist, such that $k \\> f(x)$ would be a valid p.d.f.?\n",
    "\n",
    "Solve the following for $k$\n",
    "\n",
    "$$\n",
    "\\begin{aligned}\n",
    "    1 &= k \\int_{-1}^{1} (1 - x^{2}) \\> dx \\\\\n",
    "      &= k \\bigg( \\frac{4}{3} \\bigg) \\\\\n",
    "    k &= \\frac{3}{4}.\n",
    "\\end{aligned}\n",
    "$$\n",
    "\n",
    "Hence, $f(x)$ is not a valid p.d.f., but $\\frac{3}{4} f(x)$ is valid."
   ]
  },
  {
   "cell_type": "markdown",
   "metadata": {},
   "source": [
    "#### Example 1.1.4\n",
    "\n",
    "Suppose that a continuous variable $X$ can only take values in the range $0$ to $1$. The following is a function $f(x)$ of $x$:\n",
    "\n",
    "$$f(x) = \\frac{3}{4} (x^{2} + 1), \\hspace{3mm} x \\in (0,1).$$\n",
    "\n",
    "What is the c.d.f. associated with $X$?"
   ]
  },
  {
   "source": [
    "$$\n",
    "\\begin{aligned}\n",
    "F(x) = \\int_{a}^{x} f(y) \\> dy = \\int_{0}^{x} \\frac{3}{4} (x^{2} + 1) \\> dy &= \\frac{3}{4} \\int_{0}^{x} (x^{2} + 1) \\> dy \\\\\n",
    "  &= \\frac{3}{4} \\bigg[ \\frac{1}{3} y^{3} + y \\bigg]_{0}^{x} \\\\\n",
    "  &= \\frac{3}{4} \\bigg\\{ \\frac{1}{3} x^{3} + x - \\bigg( 0 + 0 \\bigg) \\bigg\\} \\\\\n",
    "  &= \\frac{1}{4} ( x^{3} + 3x ).\n",
    "\\end{aligned}\n",
    "$$"
   ],
   "cell_type": "markdown",
   "metadata": {}
  },
  {
   "cell_type": "markdown",
   "metadata": {},
   "source": [
    "### 1.2 Probability mass functions\n",
    "\n",
    "-----"
   ]
  },
  {
   "cell_type": "markdown",
   "metadata": {},
   "source": [
    "## 2 Standard discrete distributions\n",
    "\n",
    "-----"
   ]
  },
  {
   "cell_type": "markdown",
   "metadata": {},
   "source": [
    "### 2.1 Binomial distribution\n",
    "\n",
    "-----"
   ]
  },
  {
   "source": [
    "#### Example 2.1.1\n",
    "\n",
    "Suppose that a dicrete random variable $X$ is distributed $X \\sim B(15, 0.25)$.\n",
    "\n",
    "Calculate\n",
    "\n",
    "**(a)** $P(X = 5)$\n",
    "\n",
    "**(b)** $P(X \\leq 7)$\n",
    "\n",
    "**(c)** $P(2 \\leq X <9)$\n",
    "\n",
    "**(d)** $E(X)$\n",
    "\n",
    "**(e)** $S(X)$"
   ],
   "cell_type": "markdown",
   "metadata": {}
  },
  {
   "source": [
    "# declare the distribution\n",
    "b = stats.binom(n=15, p=0.25)"
   ],
   "cell_type": "code",
   "metadata": {},
   "execution_count": 30,
   "outputs": []
  },
  {
   "source": [
    "**(a)** The p.m.f. for a **binomial distribution** is\n",
    "\n",
    "$$\n",
    "p(x) = \\binom{n}{x} p^{x} (1-p)^{n-x}.\n",
    "$$\n",
    "\n",
    "So for $P(X=5) = p(5) = \\cdots$"
   ],
   "cell_type": "markdown",
   "metadata": {}
  },
  {
   "cell_type": "code",
   "execution_count": 31,
   "metadata": {},
   "outputs": [
    {
     "output_type": "execute_result",
     "data": {
      "text/plain": [
       "0.16514598112553383"
      ]
     },
     "metadata": {},
     "execution_count": 31
    }
   ],
   "source": [
    "b.pmf(k=5)"
   ]
  },
  {
   "source": [
    "**(b)** The probability $P(X \\leq x) = F(x)$ for a **binomial distribution** is \n",
    "\n",
    "$$\n",
    "F(x) = \\sum_{k=x} \\binom{n}{k} p^{k} (1-p)^{n-k}.\n",
    "$$\n",
    "\n",
    "So for $P(X \\leq 7) = F(7) = \\cdots$"
   ],
   "cell_type": "markdown",
   "metadata": {}
  },
  {
   "source": [
    "b.cdf(x=7)"
   ],
   "cell_type": "code",
   "metadata": {},
   "execution_count": 32,
   "outputs": [
    {
     "output_type": "execute_result",
     "data": {
      "text/plain": [
       "0.9827001616358757"
      ]
     },
     "metadata": {},
     "execution_count": 32
    }
   ]
  },
  {
   "source": [
    "**(c)** The probability $P(2 \\leq X < 9) = F(8) - F(2) = \\cdots$"
   ],
   "cell_type": "markdown",
   "metadata": {}
  },
  {
   "source": [
    "b.cdf(x=8) - x.cdf(x=2)"
   ],
   "cell_type": "code",
   "metadata": {},
   "execution_count": 33,
   "outputs": [
    {
     "output_type": "execute_result",
     "data": {
      "text/plain": [
       "0.40540698553472754"
      ]
     },
     "metadata": {},
     "execution_count": 33
    }
   ]
  },
  {
   "source": [
    "**(d)** The expected value of a **binomial distribution**, $E(X)$, is\n",
    "\n",
    "$$\n",
    "E(X) = np = \\cdots\n",
    "$$"
   ],
   "cell_type": "markdown",
   "metadata": {}
  },
  {
   "cell_type": "code",
   "execution_count": 34,
   "metadata": {},
   "outputs": [
    {
     "output_type": "execute_result",
     "data": {
      "text/plain": [
       "3.75"
      ]
     },
     "metadata": {},
     "execution_count": 34
    }
   ],
   "source": [
    "b.mean()"
   ]
  },
  {
   "source": [
    "**(e)** The standard deviation of a binomial distribution, $S(X)$, is\n",
    "\n",
    "$$\n",
    "S(X) = \\sqrt{V(X)} = \\sqrt{np(1-p)} = \\cdots\n",
    "$$"
   ],
   "cell_type": "markdown",
   "metadata": {}
  },
  {
   "cell_type": "code",
   "execution_count": 35,
   "metadata": {},
   "outputs": [
    {
     "output_type": "execute_result",
     "data": {
      "text/plain": [
       "1.6770509831248424"
      ]
     },
     "metadata": {},
     "execution_count": 35
    }
   ],
   "source": [
    "b.std()"
   ]
  },
  {
   "cell_type": "markdown",
   "metadata": {},
   "source": [
    "### 2.2 Discrete uniform distribution\n",
    "\n",
    "-----"
   ]
  },
  {
   "source": [
    "#### Example 2.2.1\n",
    "\n",
    "Suppose that $X$ has a discrete uniform distribution, where the range of $X$ is $101, 102, \\ldots, 500$.\n",
    "\n",
    "Calculate\n",
    "\n",
    "**(a)** $P(X = 109)$\n",
    "\n",
    "**(b)** $P(X > 246)$\n",
    "\n",
    "**(c)** $P(361 < X < 420)$\n",
    "\n",
    "**(d)** $E(X)$\n",
    "\n",
    "**(e)** $S(X)$"
   ],
   "cell_type": "markdown",
   "metadata": {}
  },
  {
   "cell_type": "code",
   "execution_count": 60,
   "metadata": {},
   "outputs": [],
   "source": [
    "# declare the distribution\n",
    "u = stats.randint(low=101, high=501)"
   ]
  },
  {
   "source": [
    "**(a)** The p.m.f. for a **discrete uniform distribution** is\n",
    "\n",
    "$$\n",
    "p(x) = \\frac{1}{n - m + 1}.\n",
    "$$\n",
    "\n",
    "So for $P(X=109) = p(109) = \\cdots$"
   ],
   "cell_type": "markdown",
   "metadata": {}
  },
  {
   "cell_type": "code",
   "execution_count": 61,
   "metadata": {},
   "outputs": [
    {
     "output_type": "execute_result",
     "data": {
      "text/plain": [
       "0.0025"
      ]
     },
     "metadata": {},
     "execution_count": 61
    }
   ],
   "source": [
    "u.pmf(k=109)"
   ]
  },
  {
   "source": [
    "**(b)** The probability $P(X \\leq x) = F(x)$ for a **discrete uniform distribution** is \n",
    "\n",
    "$$\n",
    "F(x) = \\frac{x-m+1}{n-m+1}.\n",
    "$$\n",
    "\n",
    "So for $P(X > 246) = 1 - F(245) = \\cdots$"
   ],
   "cell_type": "markdown",
   "metadata": {}
  },
  {
   "cell_type": "code",
   "execution_count": 62,
   "metadata": {},
   "outputs": [
    {
     "output_type": "execute_result",
     "data": {
      "text/plain": [
       "0.6375"
      ]
     },
     "metadata": {},
     "execution_count": 62
    }
   ],
   "source": [
    "1 - u.cdf(x=245)"
   ]
  },
  {
   "source": [
    "**(c)** The probability $P(361 < X < 420) = F(419) - F(361) = \\cdots$"
   ],
   "cell_type": "markdown",
   "metadata": {}
  },
  {
   "cell_type": "code",
   "execution_count": 64,
   "metadata": {},
   "outputs": [
    {
     "output_type": "execute_result",
     "data": {
      "text/plain": [
       "0.145"
      ]
     },
     "metadata": {},
     "execution_count": 64
    }
   ],
   "source": [
    "round(u.cdf(x=419) - u.cdf(x=361), 3)"
   ]
  },
  {
   "source": [
    "**(d)** The expected value for a **discrete uniform distribution**, $E(X)$, is\n",
    "\n",
    "$$\n",
    "E(X) = \\frac{n+m}{2} = \\cdots\n",
    "$$"
   ],
   "cell_type": "markdown",
   "metadata": {}
  },
  {
   "cell_type": "code",
   "execution_count": 65,
   "metadata": {},
   "outputs": [
    {
     "output_type": "execute_result",
     "data": {
      "text/plain": [
       "300.5"
      ]
     },
     "metadata": {},
     "execution_count": 65
    }
   ],
   "source": [
    "u.mean()"
   ]
  },
  {
   "source": [
    "**(e)** The variance for a **discrete distribution**, $V(X)$, is\n",
    "\n",
    "$$\n",
    "V(X) = \\frac{1}{12} \\> (n-m)(n-m+2) = \\cdots\n",
    "$$"
   ],
   "cell_type": "markdown",
   "metadata": {}
  },
  {
   "cell_type": "code",
   "execution_count": 66,
   "metadata": {},
   "outputs": [
    {
     "output_type": "execute_result",
     "data": {
      "text/plain": [
       "13333.25"
      ]
     },
     "metadata": {},
     "execution_count": 66
    }
   ],
   "source": [
    "u.var()"
   ]
  },
  {
   "cell_type": "markdown",
   "metadata": {},
   "source": [
    "### 2.3 Geometric distribution\n",
    "\n",
    "-----"
   ]
  },
  {
   "source": [
    "#### Example 2.3.1\n",
    "\n",
    "Suppose that a dicrete random variable $X$ is distributed $X \\sim G(0.36)$.\n",
    "\n",
    "Calculate\n",
    "\n",
    "**(a)** $P(X = 3)$\n",
    "\n",
    "**(b)** $P(X \\leq 4)$\n",
    "\n",
    "**(c)** $P(1 < X < 5)$\n",
    "\n",
    "**(d)** $E(X)$\n",
    "\n",
    "**(e)** $V(X)$"
   ],
   "cell_type": "markdown",
   "metadata": {}
  },
  {
   "cell_type": "code",
   "execution_count": 36,
   "metadata": {},
   "outputs": [],
   "source": [
    "# declare the distribution\n",
    "g = stats.geom(0.36)"
   ]
  },
  {
   "source": [
    "**(a)** The p.m.f. for a **geometric distribution** is\n",
    "\n",
    "$$\n",
    "p(x) = (1 - p)^{x} \\> p.\n",
    "$$\n",
    "\n",
    "So for $P(X=3) = p(3) = \\cdots$"
   ],
   "cell_type": "markdown",
   "metadata": {}
  },
  {
   "cell_type": "code",
   "execution_count": 37,
   "metadata": {},
   "outputs": [
    {
     "output_type": "execute_result",
     "data": {
      "text/plain": [
       "0.147456"
      ]
     },
     "metadata": {},
     "execution_count": 37
    }
   ],
   "source": [
    "g.pmf(k=3)"
   ]
  },
  {
   "source": [
    "**(b)** The probability $P(X \\leq x) = F(x)$ for a **geometric distribution** is \n",
    "\n",
    "$$\n",
    "F(x) = 1 - (1-p)^{x}.\n",
    "$$\n",
    "\n",
    "So for $P(X \\leq 4) = F(4) = \\cdots$"
   ],
   "cell_type": "markdown",
   "metadata": {}
  },
  {
   "source": [
    "g.cdf(x=4)"
   ],
   "cell_type": "code",
   "metadata": {},
   "execution_count": 38,
   "outputs": [
    {
     "output_type": "execute_result",
     "data": {
      "text/plain": [
       "0.8322278399999999"
      ]
     },
     "metadata": {},
     "execution_count": 38
    }
   ]
  },
  {
   "source": [
    "**(c)** The probability $P(1 < X < 5) = F(4) - F(2) = \\cdots$"
   ],
   "cell_type": "markdown",
   "metadata": {}
  },
  {
   "cell_type": "code",
   "execution_count": 39,
   "metadata": {},
   "outputs": [
    {
     "output_type": "execute_result",
     "data": {
      "text/plain": [
       "0.2418278399999999"
      ]
     },
     "metadata": {},
     "execution_count": 39
    }
   ],
   "source": [
    "g.cdf(x=4) - g.cdf(x=2)"
   ]
  },
  {
   "source": [
    "**(d)** The expected value for a **geometric distribution**, $E(X)$, is\n",
    "\n",
    "$$\n",
    "E(X) = \\frac{1}{p} = \\cdots\n",
    "$$"
   ],
   "cell_type": "markdown",
   "metadata": {}
  },
  {
   "cell_type": "code",
   "execution_count": 40,
   "metadata": {},
   "outputs": [
    {
     "output_type": "execute_result",
     "data": {
      "text/plain": [
       "2.7777777777777777"
      ]
     },
     "metadata": {},
     "execution_count": 40
    }
   ],
   "source": [
    "g.mean()"
   ]
  },
  {
   "source": [
    "**(e)** The variance for a **geometric distribution**, $V(X)$, is\n",
    "\n",
    "$$\n",
    "V(X) = \\frac{1-p}{p^{2}} = \\cdots\n",
    "$$"
   ],
   "cell_type": "markdown",
   "metadata": {}
  },
  {
   "cell_type": "code",
   "execution_count": 41,
   "metadata": {},
   "outputs": [
    {
     "output_type": "execute_result",
     "data": {
      "text/plain": [
       "4.938271604938272"
      ]
     },
     "metadata": {},
     "execution_count": 41
    }
   ],
   "source": [
    "g.var()"
   ]
  },
  {
   "cell_type": "markdown",
   "metadata": {},
   "source": [
    "### 2.4 Poisson distribution\n",
    "\n",
    "-----"
   ]
  },
  {
   "source": [
    "#### Example 2.3.1\n",
    "\n",
    "Suppose that a dicrete random variable $X$ is distributed $X \\sim \\text{Poisson}(3.3)$.\n",
    "\n",
    "Calculate\n",
    "\n",
    "**(a)** $P(X = 5)$\n",
    "\n",
    "**(b)** $P(X \\leq 2)$\n",
    "\n",
    "**(c)** $P(X > 4)$\n",
    "\n",
    "Note, the mean, variance, and standard deviation of a Poisson distribution with parameter $\\lambda$ are\n",
    "\n",
    "$$E(X) = \\lambda; \\hspace{2mm} V(X) = \\lambda; \\hspace{2mm} S(X) = \\sqrt{\\lambda}.$$"
   ],
   "cell_type": "markdown",
   "metadata": {}
  },
  {
   "cell_type": "code",
   "execution_count": 67,
   "metadata": {},
   "outputs": [],
   "source": [
    "pois = stats.poisson(mu=3.3)"
   ]
  },
  {
   "source": [
    "**(a)** The p.m.f. of a **Poisson distribution** is\n",
    "\n",
    "$$\n",
    "p(x) = e^{-\\lambda} \\bigg( \\frac{\\lambda^{x}}{x!} \\bigg)\n",
    "$$\n",
    "\n",
    "So for $P(X=5) = p(5) = \\cdots$"
   ],
   "cell_type": "markdown",
   "metadata": {}
  },
  {
   "cell_type": "code",
   "execution_count": 68,
   "metadata": {},
   "outputs": [
    {
     "output_type": "execute_result",
     "data": {
      "text/plain": [
       "0.12028643761102643"
      ]
     },
     "metadata": {},
     "execution_count": 68
    }
   ],
   "source": [
    "pois.pmf(k=5)"
   ]
  },
  {
   "source": [
    "**(b)** The probability $P(X \\leq x) = F(x)$ of a **Poisson distribution** is \n",
    "\n",
    "$$\n",
    "F(x) = e^{-\\lambda} \\sum_{x} \\frac{\\lambda^{x}}{x!}.\n",
    "$$\n",
    "\n",
    "So for $P(X \\leq 2) = F(2) = \\cdots$"
   ],
   "cell_type": "markdown",
   "metadata": {}
  },
  {
   "cell_type": "code",
   "execution_count": 69,
   "metadata": {},
   "outputs": [
    {
     "output_type": "execute_result",
     "data": {
      "text/plain": [
       "0.3594264663250839"
      ]
     },
     "metadata": {},
     "execution_count": 69
    }
   ],
   "source": [
    "pois.cdf(x=2)"
   ]
  },
  {
   "source": [
    "**(c)** The probability $P(X > 4) = 1 - F(4) = \\cdots$"
   ],
   "cell_type": "markdown",
   "metadata": {}
  },
  {
   "cell_type": "code",
   "execution_count": 70,
   "metadata": {},
   "outputs": [
    {
     "output_type": "execute_result",
     "data": {
      "text/plain": [
       "0.23740962432666435"
      ]
     },
     "metadata": {},
     "execution_count": 70
    }
   ],
   "source": [
    "1 - pois.cdf(x=4)"
   ]
  },
  {
   "source": [],
   "cell_type": "markdown",
   "metadata": {}
  },
  {
   "cell_type": "code",
   "execution_count": null,
   "metadata": {},
   "outputs": [],
   "source": []
  },
  {
   "source": [],
   "cell_type": "markdown",
   "metadata": {}
  },
  {
   "cell_type": "code",
   "execution_count": null,
   "metadata": {},
   "outputs": [],
   "source": []
  },
  {
   "source": [],
   "cell_type": "markdown",
   "metadata": {}
  },
  {
   "cell_type": "code",
   "execution_count": null,
   "metadata": {},
   "outputs": [],
   "source": []
  },
  {
   "cell_type": "markdown",
   "metadata": {},
   "source": [
    "## 3 Standard continuous distributions\n",
    "\n",
    "-----"
   ]
  },
  {
   "cell_type": "markdown",
   "metadata": {},
   "source": [
    "### 3.1 Continuous uniform distribution\n",
    "\n",
    "-----"
   ]
  },
  {
   "cell_type": "markdown",
   "metadata": {},
   "source": [
    "### 3.2 Exponential distribution\n",
    "\n",
    "-----"
   ]
  },
  {
   "cell_type": "markdown",
   "metadata": {},
   "source": [
    "## 4 Bernoulli and Poisson processes\n",
    "\n",
    "-----"
   ]
  },
  {
   "cell_type": "markdown",
   "metadata": {},
   "source": [
    "### 4.1 Bernoulli process\n",
    "\n",
    "-----"
   ]
  },
  {
   "cell_type": "markdown",
   "metadata": {},
   "source": [
    "### 4.2 Poisson process\n",
    "\n",
    "-----"
   ]
  },
  {
   "source": [
    "#### Example 4.2.1 (June 2018)\n",
    "\n",
    "The arrival of incoming emails at my office computer during working hours may be modelled by a Poisson process. On average, five emails arrive per hour.\n",
    "\n",
    "**(a)** Calculate the probability that exactly three emails arrive in an hour.\n",
    "\n",
    "**(b)** Calculate the probability that fewer than three emails arrive in an hour.\n",
    "\n",
    "**(c)** Calculate the probability that the interval between two successive incoming emails is less than ten minutes.\n",
    "\n",
    "**(d)** State the distribution that models the receipt of emails between 1.30pm and 4.30pm on a typical day.\n"
   ],
   "cell_type": "markdown",
   "metadata": {}
  },
  {
   "cell_type": "code",
   "execution_count": 25,
   "metadata": {},
   "outputs": [],
   "source": [
    "# number of events\n",
    "x = stats.poisson(mu=5)\n",
    "\n",
    "# waiting time between events\n",
    "t = stats.expon(loc=0, scale = 1/5)"
   ]
  },
  {
   "source": [
    "**(a)** The probability exactly three emails will arrive in an hour is\n",
    "\n",
    "$$\n",
    "p(3) = e^{-5} \\bigg( \\frac{5^{3}}{3!} \\bigg) = \\cdots\n",
    "$$"
   ],
   "cell_type": "markdown",
   "metadata": {}
  },
  {
   "source": [
    "round(x.pmf(k=3), 3)"
   ],
   "cell_type": "code",
   "metadata": {},
   "execution_count": 26,
   "outputs": [
    {
     "output_type": "execute_result",
     "data": {
      "text/plain": [
       "0.14"
      ]
     },
     "metadata": {},
     "execution_count": 26
    }
   ]
  },
  {
   "source": [
    "**(b)** The probability fewer than three emails arrive in an hour is $F(2)$, so\n",
    "\n",
    "$$\n",
    "F(3) = e^{-5} \\sum_{k=0}^{2} \\frac{5^{k}}{k!} = \\cdots\n",
    "$$"
   ],
   "cell_type": "markdown",
   "metadata": {}
  },
  {
   "cell_type": "code",
   "execution_count": 27,
   "metadata": {},
   "outputs": [
    {
     "output_type": "execute_result",
     "data": {
      "text/plain": [
       "0.125"
      ]
     },
     "metadata": {},
     "execution_count": 27
    }
   ],
   "source": [
    "round(x.cdf(x=2), 3)"
   ]
  },
  {
   "source": [
    "**(c)** Let the continuous random variable $T$ represent the waiting time between emails, where $T \\sim M(3)$.\n",
    "Ten minutes is equivalent to $1/6$ hours, so $P(T < 1/6)$ is\n",
    "\n",
    "$$\n",
    "F\\bigg( \\frac{1}{6} \\bigg) = 1 - e^{-5 \\times \\frac{1}{6}}\n",
    "$$"
   ],
   "cell_type": "markdown",
   "metadata": {}
  },
  {
   "cell_type": "code",
   "execution_count": 28,
   "metadata": {},
   "outputs": [
    {
     "output_type": "execute_result",
     "data": {
      "text/plain": [
       "0.565"
      ]
     },
     "metadata": {},
     "execution_count": 28
    }
   ],
   "source": [
    "round(t.cdf(x=1/6), 3)"
   ]
  },
  {
   "source": [
    "**(d)** If $X$ is a random variable that models the number of emails received in 1 hour, where $X \\sim \\text{Poisson}(3)$, then let $Y$ be a random variable that models the number of emails received in $t$ hours, so $Y \\sim \\text{Poisson}(5t)$.\n",
    "\n",
    "If we set $t=3$ (hours), then $Y \\sim \\text{Poisson}(15)$."
   ],
   "cell_type": "markdown",
   "metadata": {}
  },
  {
   "source": [
    "#### Example 4.2.2\n",
    "\n",
    "Suppose that alpha particles are emitted from a radioactive source at random at an average rate of $0.5$ every second.\n",
    "Assume that the emissions of alpha particles may be modelled by a Poisson process.\n",
    "\n",
    "Calculate the probability that\n",
    "\n",
    "**(a)** there are no emissions of alpha particles in a five-second interval.\n",
    "\n",
    "**(b)** the waiting time between emissions of alpha particles exceeds ten seconds."
   ],
   "cell_type": "markdown",
   "metadata": {}
  },
  {
   "source": [
    "**(a)** Alpha particle emissions may be modelled by a Poisson process with rate $\\lambda = 0.5$ per second. \n",
    "So, $X$, the number of emissions in a five-second interval, has a Poisson distribution with parameter\n",
    "\n",
    "$$\n",
    "\\lambda t = 0.5(5) = 2.5.\n",
    "$$\n",
    "\n",
    "The probability that there are no alpha particle emissions in a five-second interval will be\n",
    "\n",
    "$$\n",
    "p(3) = e^{-2.5} \\bigg( \\frac{2.5^{0}}{0!} \\bigg) = \\cdots\n",
    "$$"
   ],
   "cell_type": "markdown",
   "metadata": {}
  },
  {
   "cell_type": "code",
   "execution_count": 18,
   "metadata": {},
   "outputs": [
    {
     "output_type": "execute_result",
     "data": {
      "text/plain": [
       "0.082"
      ]
     },
     "metadata": {},
     "execution_count": 18
    }
   ],
   "source": [
    "# number of events\n",
    "x = stats.poisson(mu=2.5)\n",
    "\n",
    "round(x.pmf(k=0), 3)"
   ]
  },
  {
   "source": [
    "**(b)** The waiting time (in seconds) between successive alpha particle emissions, $T$, has an exponential distribution with parameter $\\lambda = 0.5$.\n",
    "So, the probability that the waiting time between alpha particle emissions exceeds ten seconds is given by\n",
    "\n",
    "$$\n",
    "P(T > 10) = 1 - P(T < 10) = 1 - F(10) = 1 - \\{1 - e^{-5}\\}= \\cdots\n",
    "$$"
   ],
   "cell_type": "markdown",
   "metadata": {}
  },
  {
   "cell_type": "code",
   "execution_count": 24,
   "metadata": {},
   "outputs": [
    {
     "output_type": "execute_result",
     "data": {
      "text/plain": [
       "0.007"
      ]
     },
     "metadata": {},
     "execution_count": 24
    }
   ],
   "source": [
    "# waiting time between events\n",
    "t = stats.expon(loc=0, scale = 1/0.5)\n",
    "\n",
    "round(1 - t.cdf(x=10), 3)"
   ]
  },
  {
   "cell_type": "markdown",
   "metadata": {},
   "source": [
    "## 5 Population quantiles\n",
    "\n",
    "-----"
   ]
  },
  {
   "cell_type": "markdown",
   "metadata": {},
   "source": [
    "### 5.1 Population quantile of a continuous distribution"
   ]
  },
  {
   "cell_type": "markdown",
   "metadata": {},
   "source": [
    "### 5.2 Population quantile of a discrete distribution"
   ]
  }
 ],
 "metadata": {
  "kernelspec": {
   "display_name": "Python 3",
   "language": "python",
   "name": "python3"
  },
  "language_info": {
   "codemirror_mode": {
    "name": "ipython",
    "version": 3
   },
   "file_extension": ".py",
   "mimetype": "text/x-python",
   "name": "python",
   "nbconvert_exporter": "python",
   "pygments_lexer": "ipython3",
   "version": "3.8.3-final"
  }
 },
 "nbformat": 4,
 "nbformat_minor": 4
}