{
 "cells": [
  {
   "cell_type": "markdown",
   "metadata": {},
   "source": [
    "# Examples: M248 Book A\n",
    "\n",
    "-----\n",
    "\n",
    "## Preamble\n",
    "\n",
    "A collection of examples based on the topics covered by **Book A** of **M248: Analysing data**.\n",
    "\n",
    "### Contents\n",
    "\n",
    "#### 1. Probability distributions\n",
    "\n",
    "1. [Probability density function](#1.1-Probability-density-function-of-a-continuous-random-variable)\n",
    "2. [Probability mass function](#1.2-Probability-mass-function-of-a-discrete-random-variable)\n",
    "\n",
    "#### 2. Standard discrete distributions\n",
    "\n",
    "1. [Binomial distribution](#2.1-Binomial-distribution)\n",
    "2. [Discrete uniform distribution](#2.2-Discrete-uniform-distribution)\n",
    "3. [Geometric distribution](#2.3-Geometric-distribution)\n",
    "4. [Poisson distribution](#2.4-Poisson-distribution)\n",
    "\n",
    "#### 3. Standard continuous distributions\n",
    "\n",
    "1. [Continuous uniform distribution](#3.1-Continuous-uniform-distribution)\n",
    "2. [Exponential distribution](#3.2-Exponential-distribution)\n",
    "\n",
    "#### 4. Bernoulli and Poisson processes\n",
    "\n",
    "1. Bernoulli process\n",
    "2. [Poisson process](#4.2-Poisson-process)\n",
    "\n",
    "#### 5. Population quantiles\n",
    "\n",
    "1. Population quantile of a continuous distribution\n",
    "2. Population quantile of a discrete distribution\n",
    "\n",
    "-----"
   ]
  },
  {
   "cell_type": "code",
   "execution_count": 1,
   "metadata": {},
   "outputs": [],
   "source": [
    "from scipy import stats\n",
    "from scipy.integrate import quad"
   ]
  },
  {
   "cell_type": "markdown",
   "metadata": {},
   "source": [
    "## 1 Probability distributions\n",
    "\n",
    "-----"
   ]
  },
  {
   "cell_type": "markdown",
   "metadata": {},
   "source": [
    "### 1.1 Probability density function of a continuous random variable\n",
    "\n",
    "-----"
   ]
  },
  {
   "cell_type": "markdown",
   "metadata": {},
   "source": [
    "#### Example 1.1.1\n",
    "\n",
    "Suppose that a random variable $X$ has range $(0,1)$ and that its p.d.f. is given by\n",
    "\n",
    "$$f(x) = \\frac{3}{4} (x^{2} + 1), \\hspace{3mm} x \\in (0,1).$$\n",
    "\n",
    "Calculate the following:\n",
    "\n",
    "**(a)** $P(X < 1/5)$\n",
    "\n",
    "**(b)** $P(X > 3/8)$\n",
    "\n",
    "**(c)** $P(1/4 \\leq X \\leq 1/2)$\n",
    "\n",
    "**(d)** $E(X)$\n",
    "\n",
    "**(e)** $V(X)$"
   ]
  },
  {
   "cell_type": "code",
   "execution_count": 2,
   "metadata": {},
   "outputs": [],
   "source": [
    "def f(x: float):\n",
    "    \"\"\"\n",
    "    Define the function f(x).\n",
    "    \"\"\"\n",
    "    return 0.75 * (x ** 2 + 1)"
   ]
  },
  {
   "cell_type": "code",
   "execution_count": 3,
   "metadata": {},
   "outputs": [],
   "source": [
    "def xf(x: float):\n",
    "    \"\"\"\n",
    "    Define the function x.f(x).\n",
    "    \"\"\"\n",
    "    return x * 0.75 * (x ** 2 + 1)"
   ]
  },
  {
   "cell_type": "code",
   "execution_count": 4,
   "metadata": {},
   "outputs": [],
   "source": [
    "def x2f(x: float):\n",
    "    \"\"\"\n",
    "    Define the function x^2.f(x).\n",
    "    \"\"\"\n",
    "    return x ** 2 * 0.75 * (x ** 2 + 1)"
   ]
  },
  {
   "cell_type": "markdown",
   "metadata": {},
   "source": [
    "**(a)** The probability $P(X \\leq x) = F(x)$ for a continuous random variable is\n",
    "\n",
    "$$\n",
    "F(x) = \\int_{a}^{x} f(x) \\> dx.\n",
    "$$\n",
    "\n",
    "So $P(X < 1/5) = F(1/5) = \\cdots$"
   ]
  },
  {
   "cell_type": "code",
   "execution_count": 5,
   "metadata": {},
   "outputs": [
    {
     "data": {
      "text/plain": [
       "0.152"
      ]
     },
     "execution_count": 5,
     "metadata": {},
     "output_type": "execute_result"
    }
   ],
   "source": [
    "round(quad(func=f, a=0, b=1/5)[0], 6)"
   ]
  },
  {
   "cell_type": "markdown",
   "metadata": {},
   "source": [
    "**(b)** The probability $P(X > x) = P(X \\geq x)$ for a continuous random variable is\n",
    "\n",
    "$$\n",
    "P(X \\geq x_{1}) = \\int_{x}^{b} f(x) \\> dx.\n",
    "$$\n",
    "\n",
    "So $P(X > 3/8) = \\cdots$"
   ]
  },
  {
   "cell_type": "code",
   "execution_count": 6,
   "metadata": {},
   "outputs": [
    {
     "data": {
      "text/plain": [
       "0.705566"
      ]
     },
     "execution_count": 6,
     "metadata": {},
     "output_type": "execute_result"
    }
   ],
   "source": [
    "round(quad(func=f, a=3/8, b=1)[0], 6)"
   ]
  },
  {
   "cell_type": "markdown",
   "metadata": {},
   "source": [
    "**(c)** The probability $P(x_{1} \\leq X \\leq x_{2})$ for a continuous random variable is\n",
    "\n",
    "$$\n",
    "P(x_{1} \\leq X x_{2})\n",
    "  = \\int_{x_{1}}^{x_{2}} f(x) \\> dx.\n",
    "$$\n",
    "\n",
    "So $P(1/4 \\leq X \\leq 1/2) = \\ldots$"
   ]
  },
  {
   "cell_type": "code",
   "execution_count": 7,
   "metadata": {},
   "outputs": [
    {
     "data": {
      "text/plain": [
       "0.214844"
      ]
     },
     "execution_count": 7,
     "metadata": {},
     "output_type": "execute_result"
    }
   ],
   "source": [
    "round(quad(func=f, a=1/4, b=1/2)[0], 6)"
   ]
  },
  {
   "cell_type": "markdown",
   "metadata": {},
   "source": [
    "**(d)** The expected value of a continuous random variable with p.d.f. $f(x)$ is\n",
    "\n",
    "$$\n",
    "E(X) = \\mu = \\int_{a}^{b} x \\> f(x) \\> dx.\n",
    "$$"
   ]
  },
  {
   "cell_type": "code",
   "execution_count": 8,
   "metadata": {},
   "outputs": [
    {
     "data": {
      "text/plain": [
       "0.5625"
      ]
     },
     "execution_count": 8,
     "metadata": {},
     "output_type": "execute_result"
    }
   ],
   "source": [
    "round(quad(func=xf, a=0, b=1)[0], 6)"
   ]
  },
  {
   "cell_type": "markdown",
   "metadata": {},
   "source": [
    "**(e)** The variance of a p.d.f. of a continuous random variable with p.d.f. $f(x)$ is\n",
    "\n",
    "$$\n",
    "V(X) = E(X^{2}) - E(X)^{2}\n",
    "= \\bigg\\{\\int_{a}^{b} x^{2} \\> f(x) \\> dx \\bigg\\} - \\mu^{2}.\n",
    "$$"
   ]
  },
  {
   "cell_type": "code",
   "execution_count": 9,
   "metadata": {},
   "outputs": [
    {
     "data": {
      "text/plain": [
       "0.083594"
      ]
     },
     "execution_count": 9,
     "metadata": {},
     "output_type": "execute_result"
    }
   ],
   "source": [
    "var = quad(func=x2f, a=0, b=1)[0] - (quad(func=xf, a=0, b=1)[0]) ** 2\n",
    "round(var, 6)"
   ]
  },
  {
   "cell_type": "markdown",
   "metadata": {},
   "source": [
    "#### Example 1.1.2\n",
    "\n",
    "Suppose that a continuous variable $X$ has range $(-1,1)$. The following is a function $f(x)$ of $x$:\n",
    "\n",
    "$$f(x) = 1 - x^{2}.$$\n",
    "\n",
    "Is $f(x)$ a valid p.d.f. for $X$?"
   ]
  },
  {
   "cell_type": "code",
   "execution_count": 10,
   "metadata": {},
   "outputs": [],
   "source": [
    "def f(x: float):\n",
    "    \"\"\"\n",
    "    Define the function f(x).\n",
    "    \"\"\"\n",
    "    return 1 - (x ** 2)"
   ]
  },
  {
   "cell_type": "markdown",
   "metadata": {},
   "source": [
    "Check the properties of a valid p.d.f.\n",
    "\n",
    "(1) $\\int f(x) = 1$\n",
    "\n",
    "(2) $f(x) > 0$"
   ]
  },
  {
   "cell_type": "code",
   "execution_count": 11,
   "metadata": {},
   "outputs": [
    {
     "data": {
      "text/plain": [
       "1.333333"
      ]
     },
     "execution_count": 11,
     "metadata": {},
     "output_type": "execute_result"
    }
   ],
   "source": [
    "round(quad(func=f, a=-1, b=1)[0], 6)"
   ]
  },
  {
   "cell_type": "markdown",
   "metadata": {},
   "source": [
    "Therefore $f(x)$ is not a valid p.d.f.\n",
    "But does a normalising constant, $k$, exist, such that $k \\> f(x)$ would be a valid p.d.f.?\n",
    "\n",
    "$$\n",
    "\\begin{aligned}\n",
    "    1 = \\int_{-1}^{1} k \\> (1 - x^{2}) \\> dx &= k \\int_{-1}^{1} (1 - x^{2}) \\> dx \\\\\n",
    "      &= k \\bigg( \\frac{4}{3} \\bigg) \\\\\n",
    "    k &= \\frac{3}{4}.\n",
    "\\end{aligned}\n",
    "$$\n",
    "\n",
    "Hence, $f(x)$ is not a valid p.d.f., but $\\frac{3}{4} f(x)$ is valid."
   ]
  },
  {
   "cell_type": "markdown",
   "metadata": {},
   "source": [
    "#### Example 1.1.3\n",
    "\n",
    "Suppose that a continuous variable $X$ can only take values in the range $0$ to $1$. The following is a function $f(x)$ of $x$:\n",
    "\n",
    "$$f(x) = \\frac{3}{4} (x^{2} + 1), \\hspace{3mm} x \\in (0,1).$$\n",
    "\n",
    "What is the c.d.f. associated with $X$?"
   ]
  },
  {
   "cell_type": "markdown",
   "metadata": {},
   "source": [
    "The c.d.f. for a continuous random variable with p.d.f. $f(y)$  is\n",
    "\n",
    "$$\n",
    "F(x) = \\int_{a}^{x} f(y) \\> dy.\n",
    "$$\n",
    "\n",
    "Therefore for the p.d.f. in question\n",
    "\n",
    "$$\n",
    "\\begin{aligned}\n",
    "F(x) = \\int_{0}^{x} \\frac{3}{4} (x^{2} + 1) \\> dy &= \\frac{3}{4} \\int_{0}^{x} (x^{2} + 1) \\> dy \\\\\n",
    "  &= \\frac{3}{4} \\bigg[ \\frac{1}{3} y^{3} + y \\bigg]_{0}^{x} \\\\\n",
    "  &= \\frac{3}{4} \\bigg\\{ \\frac{1}{3} x^{3} + x - \\bigg( 0 + 0 \\bigg) \\bigg\\} \\\\\n",
    "  &= \\frac{1}{4} ( x^{3} + 3x ).\n",
    "\\end{aligned}\n",
    "$$"
   ]
  },
  {
   "cell_type": "markdown",
   "metadata": {},
   "source": [
    "### 1.2 Probability mass function of a discrete random variable\n",
    "\n",
    "-----"
   ]
  },
  {
   "cell_type": "markdown",
   "metadata": {},
   "source": [
    "#### Example 1.2.1\n",
    "\n",
    "The random variable $X$ has a range $\\{1, 2, 3, 4, 5\\}$.\n",
    "**Table 1** shows a function $p(x)$ of $X$.\n",
    "\n",
    "| $x$    | 1    | 2    | 3    | 4    | 5    |\n",
    "|--------|------|------|------|------|------|\n",
    "| $p(x)$ | 0.30 | 0.25 | 0.10 | 0.20 | 0.15 |\n",
    "\n",
    "**(a)** Confirm $p(x)$ a valid p.m.f. for $X$\n",
    "\n",
    "Calculate the following:\n",
    "\n",
    "**(b)** $P(X = 3)$\n",
    "\n",
    "**(c)** $P(X > 2)$\n",
    "\n",
    "**(d)** $E(X)$\n",
    "\n",
    "**(e)** $V(X)$ "
   ]
  },
  {
   "cell_type": "markdown",
   "metadata": {},
   "source": [
    "**Declare a dictionary for the p.m.f.**"
   ]
  },
  {
   "cell_type": "code",
   "execution_count": 12,
   "metadata": {},
   "outputs": [],
   "source": [
    "# declare a list p\n",
    "a_pmf: dict = {}\n",
    "p: list = [0.3] + [0.25] + [0.1] + [0.2] + [0.15]"
   ]
  },
  {
   "cell_type": "code",
   "execution_count": 13,
   "metadata": {},
   "outputs": [],
   "source": [
    "# append to dict\n",
    "for i in range(1, 6):\n",
    "    a_pmf[i] = p[i-1]"
   ]
  },
  {
   "cell_type": "markdown",
   "metadata": {},
   "source": [
    "**(a)** Check the properties of a valid p.m.f.\n",
    "\n",
    "(1) $\\sum_{x} x = 1$\n",
    "\n",
    "(2) $p(x) > 0$"
   ]
  },
  {
   "cell_type": "code",
   "execution_count": 14,
   "metadata": {},
   "outputs": [
    {
     "data": {
      "text/plain": [
       "True"
      ]
     },
     "execution_count": 14,
     "metadata": {},
     "output_type": "execute_result"
    }
   ],
   "source": [
    "sum: float = 0\n",
    "greater_than_zero: bool = True\n",
    "\n",
    "for k in a_pmf:\n",
    "    sum = sum + a_pmf[k]\n",
    "    if a_pmf[k] <= 0:\n",
    "        greater_than_zero = False\n",
    "\n",
    "# check sum is 1 and checl p(X) > 0\n",
    "sum == 1 and greater_than_zero"
   ]
  },
  {
   "cell_type": "markdown",
   "metadata": {},
   "source": [
    "As both tests return `True`, $p(x)$ is a valid p.m.f. for $x$"
   ]
  },
  {
   "cell_type": "markdown",
   "metadata": {},
   "source": [
    "**(b)** The probability $p(3) = \\cdots$"
   ]
  },
  {
   "cell_type": "code",
   "execution_count": 15,
   "metadata": {},
   "outputs": [
    {
     "data": {
      "text/plain": [
       "0.1"
      ]
     },
     "execution_count": 15,
     "metadata": {},
     "output_type": "execute_result"
    }
   ],
   "source": [
    "a_pmf[3]"
   ]
  },
  {
   "cell_type": "markdown",
   "metadata": {},
   "source": [
    "**(c)** The probability $P(X > 2) = \\cdots$"
   ]
  },
  {
   "cell_type": "code",
   "execution_count": 16,
   "metadata": {},
   "outputs": [
    {
     "data": {
      "text/plain": [
       "0.45"
      ]
     },
     "execution_count": 16,
     "metadata": {},
     "output_type": "execute_result"
    }
   ],
   "source": [
    "round(a_pmf[3] + a_pmf[4] + a_pmf[5], 2)"
   ]
  },
  {
   "cell_type": "markdown",
   "metadata": {},
   "source": [
    "**(d)** The expected value of a discrete random variable with p.m.f. $p(x)$ is\n",
    "\n",
    "$$\n",
    "E(X) = \\mu = \\sum x \\> p(x).\n",
    "$$"
   ]
  },
  {
   "cell_type": "code",
   "execution_count": 17,
   "metadata": {},
   "outputs": [
    {
     "data": {
      "text/plain": [
       "2.65"
      ]
     },
     "execution_count": 17,
     "metadata": {},
     "output_type": "execute_result"
    }
   ],
   "source": [
    "mean: float = 0\n",
    "\n",
    "for k in a_pmf:\n",
    "    mean = mean + k * a_pmf[k]\n",
    "\n",
    "round(mean, 2)"
   ]
  },
  {
   "cell_type": "markdown",
   "metadata": {},
   "source": [
    "**(e)** The variance of a discrete random variable with p.m.f. $p(x)$ is\n",
    "\n",
    "$$\n",
    "V(X) = E[(X - \\mu)^{2}] = \\sum_{x} (x - \\overline{x})^{2} \\> p(x).\n",
    "$$"
   ]
  },
  {
   "cell_type": "code",
   "execution_count": 18,
   "metadata": {},
   "outputs": [
    {
     "data": {
      "text/plain": [
       "2.1275"
      ]
     },
     "execution_count": 18,
     "metadata": {},
     "output_type": "execute_result"
    }
   ],
   "source": [
    "var: float = 0\n",
    "\n",
    "for k in a_pmf:\n",
    "    var = var + ((k - mean) ** 2) * a_pmf[k]\n",
    "\n",
    "round(var, 6)"
   ]
  },
  {
   "cell_type": "markdown",
   "metadata": {},
   "source": [
    "#### Example 1.2.2 (June 2017)\n",
    "\n",
    "The random variable $X$ has a range $\\{1, 2, 3, 4, 5\\}$.\n",
    "**Table 1** shows a function $p(x)$ of $X$.\n",
    "\n",
    "| $x$    | 1    | 2    | 3    | 4    |\n",
    "|--------|------|------|------|------|\n",
    "| $p(x)$ | 0.20 | 0.15 | 0.30 | 0.35 |\n",
    "\n",
    "**(a)** Confirm $p(x)$ a valid p.m.f. for $X$\n",
    "\n",
    "Calculate the following:\n",
    "\n",
    "**(b)** $P(X = 2)$\n",
    "\n",
    "**(c)** $P(X \\leq 2)$\n",
    "\n",
    "**(d)** $E(X)$\n",
    "\n",
    "**(e)** $V(X)$ "
   ]
  },
  {
   "cell_type": "markdown",
   "metadata": {},
   "source": [
    "**Declare a dictionary for the p.m.f.**"
   ]
  },
  {
   "cell_type": "code",
   "execution_count": 19,
   "metadata": {},
   "outputs": [],
   "source": [
    "# declare a list p\n",
    "a_pmf: dict = {}\n",
    "p: list = [0.2] + [0.15] + [0.3] + [0.35]"
   ]
  },
  {
   "cell_type": "code",
   "execution_count": 20,
   "metadata": {},
   "outputs": [],
   "source": [
    "# append to dict\n",
    "for i in range(1, 5):\n",
    "    a_pmf[i] = p[i-1]"
   ]
  },
  {
   "cell_type": "markdown",
   "metadata": {},
   "source": [
    "**(a)** Check the properties of a valid p.m.f.\n",
    "\n",
    "(1) $\\sum_{x} x = 1$\n",
    "\n",
    "(2) $p(x) > 0$"
   ]
  },
  {
   "cell_type": "code",
   "execution_count": 21,
   "metadata": {},
   "outputs": [
    {
     "data": {
      "text/plain": [
       "True"
      ]
     },
     "execution_count": 21,
     "metadata": {},
     "output_type": "execute_result"
    }
   ],
   "source": [
    "sum: float = 0\n",
    "greater_than_zero: bool = True\n",
    "\n",
    "for k in a_pmf:\n",
    "    sum = sum + a_pmf[k]\n",
    "    if a_pmf[k] <= 0:\n",
    "        greater_than_zero = False\n",
    "\n",
    "# check sum is 1 and checl p(X) > 0\n",
    "round(sum, 6) == 1 and greater_than_zero"
   ]
  },
  {
   "cell_type": "markdown",
   "metadata": {},
   "source": [
    "As both tests return `True`, $p(x)$ is a valid p.m.f. for $x$"
   ]
  },
  {
   "cell_type": "markdown",
   "metadata": {},
   "source": [
    "**(b)** The probability $p(2) = \\cdots$"
   ]
  },
  {
   "cell_type": "code",
   "execution_count": 22,
   "metadata": {},
   "outputs": [
    {
     "data": {
      "text/plain": [
       "0.15"
      ]
     },
     "execution_count": 22,
     "metadata": {},
     "output_type": "execute_result"
    }
   ],
   "source": [
    "a_pmf[2]"
   ]
  },
  {
   "cell_type": "markdown",
   "metadata": {},
   "source": [
    "**(c)** The probability $P(X \\leq 2) = \\cdots$"
   ]
  },
  {
   "cell_type": "code",
   "execution_count": 23,
   "metadata": {},
   "outputs": [
    {
     "data": {
      "text/plain": [
       "0.35"
      ]
     },
     "execution_count": 23,
     "metadata": {},
     "output_type": "execute_result"
    }
   ],
   "source": [
    "a_pmf[1] + a_pmf[2]"
   ]
  },
  {
   "cell_type": "markdown",
   "metadata": {},
   "source": [
    "**(d)** The expected value $E(X) = \\cdots$"
   ]
  },
  {
   "cell_type": "code",
   "execution_count": 24,
   "metadata": {},
   "outputs": [
    {
     "data": {
      "text/plain": [
       "2.8"
      ]
     },
     "execution_count": 24,
     "metadata": {},
     "output_type": "execute_result"
    }
   ],
   "source": [
    "mean: float = 0\n",
    "\n",
    "for k in a_pmf:\n",
    "    mean = mean + k * a_pmf[k]\n",
    "\n",
    "round(mean, 2)"
   ]
  },
  {
   "cell_type": "markdown",
   "metadata": {},
   "source": [
    "**(d)** The variance $V(X) = \\cdots$"
   ]
  },
  {
   "cell_type": "code",
   "execution_count": 25,
   "metadata": {},
   "outputs": [
    {
     "data": {
      "text/plain": [
       "1.26"
      ]
     },
     "execution_count": 25,
     "metadata": {},
     "output_type": "execute_result"
    }
   ],
   "source": [
    "var: float = 0\n",
    "\n",
    "for k in a_pmf:\n",
    "    var = var + ((k - mean) ** 2) * a_pmf[k]\n",
    "\n",
    "round(var, 6)"
   ]
  },
  {
   "cell_type": "markdown",
   "metadata": {},
   "source": [
    "## 2 Standard discrete distributions\n",
    "\n",
    "-----"
   ]
  },
  {
   "cell_type": "markdown",
   "metadata": {},
   "source": [
    "### 2.1 Binomial distribution\n",
    "\n",
    "-----"
   ]
  },
  {
   "cell_type": "markdown",
   "metadata": {},
   "source": [
    "#### Example 2.1.1\n",
    "\n",
    "Suppose that a discrete random variable $X$ is distributed $X \\sim B(15, 0.25)$.\n",
    "\n",
    "Calculate\n",
    "\n",
    "**(a)** $P(X = 5)$\n",
    "\n",
    "**(b)** $P(X \\leq 7)$\n",
    "\n",
    "**(c)** $P(2 \\leq X <9)$\n",
    "\n",
    "**(d)** $E(X)$\n",
    "\n",
    "**(e)** $S(X)$"
   ]
  },
  {
   "cell_type": "code",
   "execution_count": 26,
   "metadata": {},
   "outputs": [],
   "source": [
    "# declare the distribution\n",
    "b = stats.binom(n=15, p=0.25)"
   ]
  },
  {
   "cell_type": "markdown",
   "metadata": {},
   "source": [
    "**(a)** The p.m.f. for a **binomial distribution** is\n",
    "\n",
    "$$\n",
    "p(x) = \\binom{n}{x} p^{x} (1-p)^{n-x}.\n",
    "$$\n",
    "\n",
    "So the probability $P(X=5) = p(5) = \\cdots$"
   ]
  },
  {
   "cell_type": "code",
   "execution_count": 27,
   "metadata": {},
   "outputs": [
    {
     "data": {
      "text/plain": [
       "0.165146"
      ]
     },
     "execution_count": 27,
     "metadata": {},
     "output_type": "execute_result"
    }
   ],
   "source": [
    "round(b.pmf(k=5), 6)"
   ]
  },
  {
   "cell_type": "markdown",
   "metadata": {},
   "source": [
    "**(b)** The probability $P(X \\leq x) = F(x)$ for a **binomial distribution** is \n",
    "\n",
    "$$\n",
    "F(x) = \\sum_{k=x} \\binom{n}{k} p^{k} (1-p)^{n-k}.\n",
    "$$\n",
    "\n",
    "So the probability $P(X \\leq 7) = F(7) = \\cdots$"
   ]
  },
  {
   "cell_type": "code",
   "execution_count": 28,
   "metadata": {},
   "outputs": [
    {
     "data": {
      "text/plain": [
       "0.9827"
      ]
     },
     "execution_count": 28,
     "metadata": {},
     "output_type": "execute_result"
    }
   ],
   "source": [
    "round(b.cdf(x=7), 6)"
   ]
  },
  {
   "cell_type": "markdown",
   "metadata": {},
   "source": [
    "**(c)** The probability $P(2 \\leq X < 9) = F(8) - F(2) = \\cdots$"
   ]
  },
  {
   "cell_type": "code",
   "execution_count": 29,
   "metadata": {},
   "outputs": [
    {
     "data": {
      "text/plain": [
       "0.759719"
      ]
     },
     "execution_count": 29,
     "metadata": {},
     "output_type": "execute_result"
    }
   ],
   "source": [
    "round(b.cdf(x=8) - b.cdf(x=2), 6)"
   ]
  },
  {
   "cell_type": "markdown",
   "metadata": {},
   "source": [
    "**(d)** The expected value of a **binomial distribution** is\n",
    "\n",
    "$$\n",
    "E(X) = np = \\cdots\n",
    "$$"
   ]
  },
  {
   "cell_type": "code",
   "execution_count": 30,
   "metadata": {},
   "outputs": [
    {
     "data": {
      "text/plain": [
       "3.75"
      ]
     },
     "execution_count": 30,
     "metadata": {},
     "output_type": "execute_result"
    }
   ],
   "source": [
    "b.mean()"
   ]
  },
  {
   "cell_type": "markdown",
   "metadata": {},
   "source": [
    "**(e)** The standard deviation of a **binomial distribution** is\n",
    "\n",
    "$$\n",
    "S(X) = \\sqrt{V(X)} = \\sqrt{np(1-p)} = \\cdots\n",
    "$$"
   ]
  },
  {
   "cell_type": "code",
   "execution_count": 31,
   "metadata": {},
   "outputs": [
    {
     "data": {
      "text/plain": [
       "1.677051"
      ]
     },
     "execution_count": 31,
     "metadata": {},
     "output_type": "execute_result"
    }
   ],
   "source": [
    "round(b.std(), 6)"
   ]
  },
  {
   "cell_type": "markdown",
   "metadata": {},
   "source": [
    "### 2.2 Discrete uniform distribution\n",
    "\n",
    "-----"
   ]
  },
  {
   "cell_type": "markdown",
   "metadata": {},
   "source": [
    "#### Example 2.2.1\n",
    "\n",
    "Suppose that $X$ has a discrete uniform distribution, where the range of $X$ is $101, 102, \\ldots, 500$.\n",
    "\n",
    "Calculate\n",
    "\n",
    "**(a)** $P(X = 109)$\n",
    "\n",
    "**(b)** $P(X > 246)$\n",
    "\n",
    "**(c)** $P(361 < X < 420)$\n",
    "\n",
    "**(d)** $E(X)$\n",
    "\n",
    "**(e)** $S(X)$"
   ]
  },
  {
   "cell_type": "code",
   "execution_count": 32,
   "metadata": {},
   "outputs": [],
   "source": [
    "# declare the distribution\n",
    "u = stats.randint(low=101, high=501)"
   ]
  },
  {
   "cell_type": "markdown",
   "metadata": {},
   "source": [
    "**(a)** The p.m.f. for a **discrete uniform distribution** is\n",
    "\n",
    "$$\n",
    "p(x) = \\frac{1}{n - m + 1}.\n",
    "$$\n",
    "\n",
    "So $P(X=109) = p(109) = \\cdots$"
   ]
  },
  {
   "cell_type": "code",
   "execution_count": 33,
   "metadata": {},
   "outputs": [
    {
     "data": {
      "text/plain": [
       "0.0025"
      ]
     },
     "execution_count": 33,
     "metadata": {},
     "output_type": "execute_result"
    }
   ],
   "source": [
    "u.pmf(k=109)"
   ]
  },
  {
   "cell_type": "markdown",
   "metadata": {},
   "source": [
    "**(b)** The probability $P(X \\leq x) = F(x)$ for a **discrete uniform distribution** is \n",
    "\n",
    "$$\n",
    "F(x) = \\frac{x-m+1}{n-m+1}.\n",
    "$$\n",
    "\n",
    "So the probability $P(X > 246) = 1 - F(245) = \\cdots$"
   ]
  },
  {
   "cell_type": "code",
   "execution_count": 34,
   "metadata": {},
   "outputs": [
    {
     "data": {
      "text/plain": [
       "0.6375"
      ]
     },
     "execution_count": 34,
     "metadata": {},
     "output_type": "execute_result"
    }
   ],
   "source": [
    "1 - u.cdf(x=245)"
   ]
  },
  {
   "cell_type": "markdown",
   "metadata": {},
   "source": [
    "**(c)** The probability $P(361 < X < 420) = F(419) - F(361) = \\cdots$"
   ]
  },
  {
   "cell_type": "code",
   "execution_count": 35,
   "metadata": {},
   "outputs": [
    {
     "data": {
      "text/plain": [
       "0.145"
      ]
     },
     "execution_count": 35,
     "metadata": {},
     "output_type": "execute_result"
    }
   ],
   "source": [
    "round(u.cdf(x=419) - u.cdf(x=361), 6)"
   ]
  },
  {
   "cell_type": "markdown",
   "metadata": {},
   "source": [
    "**(d)** The expected value of a **discrete uniform distribution** is\n",
    "\n",
    "$$\n",
    "E(X) = \\frac{n+m}{2} = \\cdots\n",
    "$$"
   ]
  },
  {
   "cell_type": "code",
   "execution_count": 36,
   "metadata": {},
   "outputs": [
    {
     "data": {
      "text/plain": [
       "300.5"
      ]
     },
     "execution_count": 36,
     "metadata": {},
     "output_type": "execute_result"
    }
   ],
   "source": [
    "u.mean()"
   ]
  },
  {
   "cell_type": "markdown",
   "metadata": {},
   "source": [
    "**(e)** The variance of a **discrete distribution** is\n",
    "\n",
    "$$\n",
    "V(X) = \\frac{1}{12} \\> (n-m)(n-m+2) = \\cdots\n",
    "$$"
   ]
  },
  {
   "cell_type": "code",
   "execution_count": 37,
   "metadata": {},
   "outputs": [
    {
     "data": {
      "text/plain": [
       "13333.25"
      ]
     },
     "execution_count": 37,
     "metadata": {},
     "output_type": "execute_result"
    }
   ],
   "source": [
    "u.var()"
   ]
  },
  {
   "cell_type": "markdown",
   "metadata": {},
   "source": [
    "### 2.3 Geometric distribution\n",
    "\n",
    "-----"
   ]
  },
  {
   "cell_type": "markdown",
   "metadata": {},
   "source": [
    "#### Example 2.3.1\n",
    "\n",
    "Suppose that a discrete random variable $X$ is distributed $X \\sim G(0.36)$.\n",
    "\n",
    "Calculate\n",
    "\n",
    "**(a)** $P(X = 3)$\n",
    "\n",
    "**(b)** $P(X \\leq 4)$\n",
    "\n",
    "**(c)** $P(1 < X < 5)$\n",
    "\n",
    "**(d)** $E(X)$\n",
    "\n",
    "**(e)** $V(X)$"
   ]
  },
  {
   "cell_type": "code",
   "execution_count": 38,
   "metadata": {},
   "outputs": [],
   "source": [
    "# declare the distribution\n",
    "g = stats.geom(0.36)"
   ]
  },
  {
   "cell_type": "markdown",
   "metadata": {},
   "source": [
    "**(a)** The p.m.f. for a **geometric distribution** is\n",
    "\n",
    "$$\n",
    "p(x) = (1 - p)^{x} \\> p.\n",
    "$$\n",
    "\n",
    "So the probability $P(X=3) = p(3) = \\cdots$"
   ]
  },
  {
   "cell_type": "code",
   "execution_count": 39,
   "metadata": {},
   "outputs": [
    {
     "data": {
      "text/plain": [
       "0.147456"
      ]
     },
     "execution_count": 39,
     "metadata": {},
     "output_type": "execute_result"
    }
   ],
   "source": [
    "g.pmf(k=3)"
   ]
  },
  {
   "cell_type": "markdown",
   "metadata": {},
   "source": [
    "**(b)** The probability $P(X \\leq x) = F(x)$ for a **geometric distribution** is \n",
    "\n",
    "$$\n",
    "F(x) = 1 - (1-p)^{x}.\n",
    "$$\n",
    "\n",
    "So the probability $P(X \\leq 4) = F(4) = \\cdots$"
   ]
  },
  {
   "cell_type": "code",
   "execution_count": 40,
   "metadata": {},
   "outputs": [
    {
     "data": {
      "text/plain": [
       "0.832228"
      ]
     },
     "execution_count": 40,
     "metadata": {},
     "output_type": "execute_result"
    }
   ],
   "source": [
    "round(g.cdf(x=4), 6)"
   ]
  },
  {
   "cell_type": "markdown",
   "metadata": {},
   "source": [
    "**(c)** The probability $P(1 < X < 5) = F(4) - F(2) = \\cdots$"
   ]
  },
  {
   "cell_type": "code",
   "execution_count": 41,
   "metadata": {},
   "outputs": [
    {
     "data": {
      "text/plain": [
       "0.241828"
      ]
     },
     "execution_count": 41,
     "metadata": {},
     "output_type": "execute_result"
    }
   ],
   "source": [
    "round(g.cdf(x=4) - g.cdf(x=2), 6)"
   ]
  },
  {
   "cell_type": "markdown",
   "metadata": {},
   "source": [
    "**(d)** The expected value of a **geometric distribution** is\n",
    "\n",
    "$$\n",
    "E(X) = \\frac{1}{p} = \\cdots\n",
    "$$"
   ]
  },
  {
   "cell_type": "code",
   "execution_count": 42,
   "metadata": {},
   "outputs": [
    {
     "data": {
      "text/plain": [
       "2.777778"
      ]
     },
     "execution_count": 42,
     "metadata": {},
     "output_type": "execute_result"
    }
   ],
   "source": [
    "round(g.mean(), 6)"
   ]
  },
  {
   "cell_type": "markdown",
   "metadata": {},
   "source": [
    "**(e)** The variance of a **geometric distribution** is\n",
    "\n",
    "$$\n",
    "V(X) = \\frac{1-p}{p^{2}} = \\cdots\n",
    "$$"
   ]
  },
  {
   "cell_type": "code",
   "execution_count": 43,
   "metadata": {},
   "outputs": [
    {
     "data": {
      "text/plain": [
       "4.938272"
      ]
     },
     "execution_count": 43,
     "metadata": {},
     "output_type": "execute_result"
    }
   ],
   "source": [
    "round(g.var(), 6)"
   ]
  },
  {
   "cell_type": "markdown",
   "metadata": {},
   "source": [
    "### 2.4 Poisson distribution\n",
    "\n",
    "-----"
   ]
  },
  {
   "cell_type": "markdown",
   "metadata": {},
   "source": [
    "#### Example 2.4.1\n",
    "\n",
    "Suppose that a discrete random variable $X$ is distributed $X \\sim \\text{Poisson}(3.3)$.\n",
    "\n",
    "Calculate\n",
    "\n",
    "**(a)** $P(X = 5)$\n",
    "\n",
    "**(b)** $P(X \\leq 2)$\n",
    "\n",
    "**(c)** $P(X > 4)$\n",
    "\n",
    "Note, the mean, variance, and standard deviation of a Poisson distribution with parameter $\\lambda$ are\n",
    "\n",
    "$$E(X) = \\lambda; \\hspace{2mm} V(X) = \\lambda; \\hspace{2mm} S(X) = \\sqrt{\\lambda}.$$"
   ]
  },
  {
   "cell_type": "code",
   "execution_count": 44,
   "metadata": {},
   "outputs": [],
   "source": [
    "# declare the distribution\n",
    "pois = stats.poisson(mu=3.3)"
   ]
  },
  {
   "cell_type": "markdown",
   "metadata": {},
   "source": [
    "**(a)** The p.m.f. of a **Poisson distribution** is\n",
    "\n",
    "$$\n",
    "p(x) = e^{-\\lambda} \\bigg( \\frac{\\lambda^{x}}{x!} \\bigg)\n",
    "$$\n",
    "\n",
    "So the probability $P(X=5) = p(5) = \\cdots$"
   ]
  },
  {
   "cell_type": "code",
   "execution_count": 45,
   "metadata": {},
   "outputs": [
    {
     "data": {
      "text/plain": [
       "0.120286"
      ]
     },
     "execution_count": 45,
     "metadata": {},
     "output_type": "execute_result"
    }
   ],
   "source": [
    "round(pois.pmf(k=5), 6)"
   ]
  },
  {
   "cell_type": "markdown",
   "metadata": {},
   "source": [
    "**(b)** The probability $P(X \\leq x) = F(x)$ of a **Poisson distribution** is \n",
    "\n",
    "$$\n",
    "F(x) = e^{-\\lambda} \\sum_{x} \\frac{\\lambda^{x}}{x!}.\n",
    "$$\n",
    "\n",
    "So the probability $P(X \\leq 2) = F(2) = \\cdots$"
   ]
  },
  {
   "cell_type": "code",
   "execution_count": 46,
   "metadata": {},
   "outputs": [
    {
     "data": {
      "text/plain": [
       "0.359426"
      ]
     },
     "execution_count": 46,
     "metadata": {},
     "output_type": "execute_result"
    }
   ],
   "source": [
    "round(pois.cdf(x=2), 6)"
   ]
  },
  {
   "cell_type": "markdown",
   "metadata": {},
   "source": [
    "**(c)** The probability $P(X > 4) = 1 - F(4) = \\cdots$"
   ]
  },
  {
   "cell_type": "code",
   "execution_count": 47,
   "metadata": {},
   "outputs": [
    {
     "data": {
      "text/plain": [
       "0.23741"
      ]
     },
     "execution_count": 47,
     "metadata": {},
     "output_type": "execute_result"
    }
   ],
   "source": [
    "round(1 - pois.cdf(x=4), 6)"
   ]
  },
  {
   "cell_type": "markdown",
   "metadata": {},
   "source": [
    "#### 2.4.2 (June 2020)\n",
    "\n",
    "The number of customers arriving at a local sports centre, can be modelled by a Poisson distribution. On average 20 customers use the sports centre each hour and, in a typical hour, 20% of the customers who arrive go for a swim and 15% of the customers who arrive use the gym.\n",
    "\n",
    "It is assumed that the choice of activity for each customer is independent of the choice of activity for any other customer.\n",
    "\n",
    "**(a)** Calculate the probability, that in a typical hour, the first customer who wants a swim is the 8th customer to arrive in that hour.\n",
    "\n",
    "**(b)** Calculate the probability that, in a typical hour, 12 customers will arrive at the sports centre.\n",
    "\n",
    "**(c)** Suppose that in a typical hour 15 customers arrive at the sports centre. Calculate the probability that 3 of these customers will choose to use the gym."
   ]
  },
  {
   "cell_type": "markdown",
   "metadata": {},
   "source": [
    "**(a)** Let the discrete random variable $S$ represent the first customer who arrives at the gym in a given hour who wants to use the swimming pool. Then $G$ is modelled can be modelled by the **geometric distribution**, $G(p)$, where parameter $p=0.2$ is the probability that a customer uses the swimming pool.\n",
    "\n",
    "The probability $P(S=8)$ will be\n",
    "\n",
    "$$\n",
    "P(S=8) = p(8) = (1-p)^{7} \\> p = \\cdots\n",
    "$$"
   ]
  },
  {
   "cell_type": "code",
   "execution_count": 48,
   "metadata": {},
   "outputs": [],
   "source": [
    "# declare the distribution\n",
    "s = stats.geom(p=0.2)"
   ]
  },
  {
   "cell_type": "code",
   "execution_count": 49,
   "metadata": {},
   "outputs": [
    {
     "data": {
      "text/plain": [
       "0.041943"
      ]
     },
     "execution_count": 49,
     "metadata": {},
     "output_type": "execute_result"
    }
   ],
   "source": [
    "round(s.pmf(k=8), 6)"
   ]
  },
  {
   "cell_type": "markdown",
   "metadata": {},
   "source": [
    "**(b)** Let the discrete random variable $X$ represent the number of customers who arrives at the sport centre in a given hour.\n",
    "Then $X$ is modelled can be modelled by the **Poisson distribution**, $\\text{Poisson}(\\mu)$, where parameter $\\mu=20$ is the average number of customers who arrive at the sport centre in a given hour.\n",
    "\n",
    "The probability $P(X=12)$ will be\n",
    "\n",
    "$$\n",
    "p(12) = e^{-20} \\bigg( \\frac{20^{12}}{12!} \\bigg) = \\cdots\n",
    "$$"
   ]
  },
  {
   "cell_type": "code",
   "execution_count": 50,
   "metadata": {},
   "outputs": [],
   "source": [
    "# declare the distribution\n",
    "x = stats.poisson(mu=20)"
   ]
  },
  {
   "cell_type": "code",
   "execution_count": 51,
   "metadata": {},
   "outputs": [
    {
     "data": {
      "text/plain": [
       "0.017625"
      ]
     },
     "execution_count": 51,
     "metadata": {},
     "output_type": "execute_result"
    }
   ],
   "source": [
    "round(x.pmf(k=12), 6)"
   ]
  },
  {
   "cell_type": "markdown",
   "metadata": {},
   "source": [
    "**(c)** The probability that a customer who arrives at the sport centre wishes to use the gym is $p=0.15$.\n",
    "Therefore, if $n=15$ customers arrives in the gym, we would expect $\\mu$ customers to use the gym, where\n",
    "\n",
    "$$\n",
    "\\mu=np=15(0.15)=2.25.\n",
    "$$\n",
    "\n",
    "Let the discrete random variable $Y$ represent the number of customers who arrive at the sport centre in a given hour who wish to use the gym, if $15$ were to arrive.\n",
    "Then $Y$ can be modelled by the **Poisson distribution**, $\\text{Poisson}(\\mu)$, where parameter $\\mu=2.25$.\n",
    "\n",
    "The probability $P(Y=3)$ is given by\n",
    "\n",
    "$$\n",
    "p(3) = e^{-2.25} \\bigg( \\frac{2.25^{3}}{3!} \\bigg) = \\cdots\n",
    "$$"
   ]
  },
  {
   "cell_type": "code",
   "execution_count": 52,
   "metadata": {},
   "outputs": [],
   "source": [
    "# declare the distribution\n",
    "y = stats.poisson(mu=2.25)"
   ]
  },
  {
   "cell_type": "code",
   "execution_count": 53,
   "metadata": {},
   "outputs": [
    {
     "data": {
      "text/plain": [
       "0.200094"
      ]
     },
     "execution_count": 53,
     "metadata": {},
     "output_type": "execute_result"
    }
   ],
   "source": [
    "round(y.pmf(k=3), 6)"
   ]
  },
  {
   "cell_type": "markdown",
   "metadata": {},
   "source": [
    "## 3 Standard continuous distributions\n",
    "\n",
    "-----"
   ]
  },
  {
   "cell_type": "markdown",
   "metadata": {},
   "source": [
    "### 3.1 Continuous uniform distribution\n",
    "\n",
    "-----"
   ]
  },
  {
   "cell_type": "markdown",
   "metadata": {},
   "source": [
    "#### Example 3.1.1\n",
    "\n",
    "Suppose that a continuous random variable $X$ has a continuous uniform distribution with range $(16, 50)$.\n",
    "\n",
    "Calculate\n",
    "\n",
    "**(a)** $P(X \\leq 32)$\n",
    "\n",
    "**(b)** $P(X \\geq 24)$\n",
    "\n",
    "**(c)**  $P(19 \\leq X \\leq 39)$\n",
    "\n",
    "**(d)** $E(X)$\n",
    "\n",
    "**(e)** $V(X)$"
   ]
  },
  {
   "cell_type": "code",
   "execution_count": 54,
   "metadata": {},
   "outputs": [],
   "source": [
    "# declare the distribution: loc=a, scale=b-a\n",
    "u = stats.uniform(loc=16, scale=50-16)"
   ]
  },
  {
   "cell_type": "markdown",
   "metadata": {},
   "source": [
    "**(a)** The probability $P(X \\leq x) = F(x)$ for a **continuous uniform distribution** is \n",
    "\n",
    "$$\n",
    "F(x) = \\frac{x-a}{b-a}.\n",
    "$$\n",
    "\n",
    "So the probability $P(X \\leq 32) = F(32) = \\cdots$"
   ]
  },
  {
   "cell_type": "code",
   "execution_count": 55,
   "metadata": {},
   "outputs": [
    {
     "data": {
      "text/plain": [
       "0.470588"
      ]
     },
     "execution_count": 55,
     "metadata": {},
     "output_type": "execute_result"
    }
   ],
   "source": [
    "round(u.cdf(x=32), 6)"
   ]
  },
  {
   "cell_type": "markdown",
   "metadata": {},
   "source": [
    "**(b)** The probability $P(X \\geq 24) = 1 - F(24) = \\cdots$"
   ]
  },
  {
   "cell_type": "code",
   "execution_count": 56,
   "metadata": {},
   "outputs": [
    {
     "data": {
      "text/plain": [
       "0.764706"
      ]
     },
     "execution_count": 56,
     "metadata": {},
     "output_type": "execute_result"
    }
   ],
   "source": [
    "round(1 - u.cdf(x=24), 6)"
   ]
  },
  {
   "cell_type": "markdown",
   "metadata": {},
   "source": [
    "**(c)** The probability $P(19 \\leq X \\leq 39) = F(39) - F(19) = \\cdots$"
   ]
  },
  {
   "cell_type": "code",
   "execution_count": 57,
   "metadata": {},
   "outputs": [
    {
     "data": {
      "text/plain": [
       "0.588235"
      ]
     },
     "execution_count": 57,
     "metadata": {},
     "output_type": "execute_result"
    }
   ],
   "source": [
    "round(u.cdf(x=39) - u.cdf(x=19), 6)"
   ]
  },
  {
   "cell_type": "markdown",
   "metadata": {},
   "source": [
    "**(d)** The expected value of a **continuous uniform distribution** is\n",
    "\n",
    "$$\n",
    "E(X) = \\frac{1}{2} (a+b) = \\cdots\n",
    "$$"
   ]
  },
  {
   "cell_type": "code",
   "execution_count": 58,
   "metadata": {},
   "outputs": [
    {
     "data": {
      "text/plain": [
       "33.0"
      ]
     },
     "execution_count": 58,
     "metadata": {},
     "output_type": "execute_result"
    }
   ],
   "source": [
    "u.mean()"
   ]
  },
  {
   "cell_type": "markdown",
   "metadata": {},
   "source": [
    "**(e)** The variance of a **continuous uniform distribution** is\n",
    "\n",
    "$$\n",
    "V(X) = \\frac{1}{12} (b-a)^{2} = \\cdots\n",
    "$$"
   ]
  },
  {
   "cell_type": "code",
   "execution_count": 59,
   "metadata": {},
   "outputs": [
    {
     "data": {
      "text/plain": [
       "96.333333"
      ]
     },
     "execution_count": 59,
     "metadata": {},
     "output_type": "execute_result"
    }
   ],
   "source": [
    "round(u.var(), 6)"
   ]
  },
  {
   "cell_type": "markdown",
   "metadata": {},
   "source": [
    "### 3.2 Exponential distribution\n",
    "\n",
    "-----"
   ]
  },
  {
   "cell_type": "markdown",
   "metadata": {},
   "source": [
    "#### Example 3.2.1\n",
    "\n",
    "Suppose that a continuous random variable $X$ is distributed $X \\sim M(0.1)$.\n",
    "\n",
    "Calculate\n",
    "\n",
    "**(a)** $P(X \\leq 3)$\n",
    "\n",
    "**(b)** $P(X \\geq 6)$\n",
    "\n",
    "**(c)** $P(5 \\leq X \\leq 10)$\n",
    "\n",
    "Note, the mean and variance of an exponential distribution with parameter $\\lambda$ are\n",
    "\n",
    "$$E(X) = \\frac{1}{\\lambda}; \\hspace{2mm} V(X) = \\frac{1}{\\lambda^{2}}.$$"
   ]
  },
  {
   "cell_type": "code",
   "execution_count": 60,
   "metadata": {},
   "outputs": [],
   "source": [
    "# declare the distribution\n",
    "e = stats.expon(loc=0, scale=1/0.1)"
   ]
  },
  {
   "cell_type": "markdown",
   "metadata": {},
   "source": [
    "**(a)** The probability $P(X \\leq x) = F(x)$ for an **exponential distribution** is \n",
    "\n",
    "$$\n",
    "F(x) = 1 - e^{-\\lambda x}.\n",
    "$$\n",
    "\n",
    "So the probability $P(X \\leq 3) = F(3) = \\cdots$"
   ]
  },
  {
   "cell_type": "code",
   "execution_count": 61,
   "metadata": {},
   "outputs": [
    {
     "data": {
      "text/plain": [
       "0.259182"
      ]
     },
     "execution_count": 61,
     "metadata": {},
     "output_type": "execute_result"
    }
   ],
   "source": [
    "round(e.cdf(x=3), 6)"
   ]
  },
  {
   "cell_type": "markdown",
   "metadata": {},
   "source": [
    "**(b)** The probability $P(X \\geq 6) = 1 - F(6) = \\cdots$"
   ]
  },
  {
   "cell_type": "code",
   "execution_count": 62,
   "metadata": {},
   "outputs": [
    {
     "data": {
      "text/plain": [
       "0.548812"
      ]
     },
     "execution_count": 62,
     "metadata": {},
     "output_type": "execute_result"
    }
   ],
   "source": [
    "round(1 - e.cdf(x=6), 6)"
   ]
  },
  {
   "cell_type": "markdown",
   "metadata": {},
   "source": [
    "**(c)** The probability $P(5 \\leq X \\leq 10) = F(10) - F(5) = \\cdots$"
   ]
  },
  {
   "cell_type": "code",
   "execution_count": 63,
   "metadata": {},
   "outputs": [
    {
     "data": {
      "text/plain": [
       "0.238651"
      ]
     },
     "execution_count": 63,
     "metadata": {},
     "output_type": "execute_result"
    }
   ],
   "source": [
    "round(e.cdf(x=10) - e.cdf(x=5), 6)"
   ]
  },
  {
   "cell_type": "markdown",
   "metadata": {},
   "source": [
    "## 4 Bernoulli and Poisson processes\n",
    "\n",
    "-----"
   ]
  },
  {
   "cell_type": "markdown",
   "metadata": {},
   "source": [
    "### 4.1 Bernoulli process\n",
    "\n",
    "-----"
   ]
  },
  {
   "cell_type": "markdown",
   "metadata": {},
   "source": [
    "### 4.2 Poisson process\n",
    "\n",
    "-----"
   ]
  },
  {
   "cell_type": "markdown",
   "metadata": {},
   "source": [
    "#### Example 4.2.1 (June 2018)\n",
    "\n",
    "The arrival of incoming emails at my office computer during working hours may be modelled by a Poisson process. On average, five emails arrive per hour.\n",
    "\n",
    "**(a)** Calculate the probability that exactly three emails arrive in an hour.\n",
    "\n",
    "**(b)** Calculate the probability that fewer than three emails arrive in an hour.\n",
    "\n",
    "**(c)** Calculate the probability that the interval between two successive incoming emails is less than ten minutes.\n",
    "\n",
    "**(d)** State the distribution that models the receipt of emails between 1.30pm and 4.30pm on a typical day.\n"
   ]
  },
  {
   "cell_type": "code",
   "execution_count": 64,
   "metadata": {},
   "outputs": [],
   "source": [
    "# number of events\n",
    "x = stats.poisson(mu=5)\n",
    "\n",
    "# waiting time between events\n",
    "t = stats.expon(loc=0, scale = 1/5)"
   ]
  },
  {
   "cell_type": "markdown",
   "metadata": {},
   "source": [
    "**(a)** The probability exactly three emails will arrive in an hour is\n",
    "\n",
    "$$\n",
    "p(3) = e^{-5} \\bigg( \\frac{5^{3}}{3!} \\bigg) = \\cdots\n",
    "$$"
   ]
  },
  {
   "cell_type": "code",
   "execution_count": 65,
   "metadata": {},
   "outputs": [
    {
     "data": {
      "text/plain": [
       "0.140374"
      ]
     },
     "execution_count": 65,
     "metadata": {},
     "output_type": "execute_result"
    }
   ],
   "source": [
    "round(x.pmf(k=3), 6)"
   ]
  },
  {
   "cell_type": "markdown",
   "metadata": {},
   "source": [
    "**(b)** The probability fewer than three emails arrive in an hour is $P(X < 3) = F(2)$, so\n",
    "\n",
    "$$\n",
    "F(2) = e^{-5} \\sum_{k=0}^{2} \\frac{5^{k}}{k!} = \\cdots\n",
    "$$"
   ]
  },
  {
   "cell_type": "code",
   "execution_count": 66,
   "metadata": {},
   "outputs": [
    {
     "data": {
      "text/plain": [
       "0.124652"
      ]
     },
     "execution_count": 66,
     "metadata": {},
     "output_type": "execute_result"
    }
   ],
   "source": [
    "round(x.cdf(x=2), 6)"
   ]
  },
  {
   "cell_type": "markdown",
   "metadata": {},
   "source": [
    "**(c)** Let the continuous random variable $T$ represent the waiting time between emails, where $T \\sim M(3)$.\n",
    "Ten minutes is equivalent to $1/6$ hours, so $P(T < 1/6)$ is\n",
    "\n",
    "$$\n",
    "F\\bigg( \\frac{1}{6} \\bigg) = 1 - e^{-5 \\times \\frac{1}{6}}\n",
    "$$"
   ]
  },
  {
   "cell_type": "code",
   "execution_count": 67,
   "metadata": {},
   "outputs": [
    {
     "data": {
      "text/plain": [
       "0.565402"
      ]
     },
     "execution_count": 67,
     "metadata": {},
     "output_type": "execute_result"
    }
   ],
   "source": [
    "round(t.cdf(x=1/6), 6)"
   ]
  },
  {
   "cell_type": "markdown",
   "metadata": {},
   "source": [
    "**(d)** If $X$ is a random variable that models the number of emails received in 1 hour, where $X \\sim \\text{Poisson}(3)$, then let $Y$ be a random variable that models the number of emails received in $t$ hours, so $Y \\sim \\text{Poisson}(5t)$.\n",
    "\n",
    "If we set $t=3$ (hours), then $Y \\sim \\text{Poisson}(15)$."
   ]
  },
  {
   "cell_type": "markdown",
   "metadata": {},
   "source": [
    "#### Example 4.2.2\n",
    "\n",
    "Suppose that alpha particles are emitted from a radioactive source at random at an average rate of $0.5$ every second.\n",
    "Assume that the emissions of alpha particles may be modelled by a Poisson process.\n",
    "\n",
    "Calculate the probability that\n",
    "\n",
    "**(a)** there are no emissions of alpha particles in a five-second interval.\n",
    "\n",
    "**(b)** the waiting time between emissions of alpha particles exceeds ten seconds."
   ]
  },
  {
   "cell_type": "markdown",
   "metadata": {},
   "source": [
    "**(a)** Alpha particle emissions may be modelled by a Poisson process with rate $\\lambda = 0.5$ per second. \n",
    "So, $X$, the number of emissions in a five-second interval, has a Poisson distribution with parameter\n",
    "\n",
    "$$\n",
    "\\lambda t = 0.5(5) = 2.5.\n",
    "$$\n",
    "\n",
    "The probability that there are no alpha particle emissions in a five-second interval will be\n",
    "\n",
    "$$\n",
    "p(0) = e^{-2.5} \\bigg( \\frac{2.5^{0}}{0!} \\bigg) = \\cdots\n",
    "$$"
   ]
  },
  {
   "cell_type": "code",
   "execution_count": 68,
   "metadata": {},
   "outputs": [],
   "source": [
    "# number of events\n",
    "x = stats.poisson(mu=2.5)"
   ]
  },
  {
   "cell_type": "code",
   "execution_count": 69,
   "metadata": {},
   "outputs": [
    {
     "data": {
      "text/plain": [
       "0.082085"
      ]
     },
     "execution_count": 69,
     "metadata": {},
     "output_type": "execute_result"
    }
   ],
   "source": [
    "round(x.pmf(k=0), 6)"
   ]
  },
  {
   "cell_type": "markdown",
   "metadata": {},
   "source": [
    "**(b)** The waiting time (in seconds) between successive alpha particle emissions, $T$, has an exponential distribution with parameter $\\lambda = 0.5$.\n",
    "\n",
    "So the probability that the waiting time between alpha particle emissions exceeds ten seconds is given by\n",
    "\n",
    "$$\n",
    "P(T > 10) = 1 - P(T < 10) = 1 - F(10) = \\cdots\n",
    "$$"
   ]
  },
  {
   "cell_type": "code",
   "execution_count": 70,
   "metadata": {},
   "outputs": [
    {
     "data": {
      "text/plain": [
       "0.006738"
      ]
     },
     "execution_count": 70,
     "metadata": {},
     "output_type": "execute_result"
    }
   ],
   "source": [
    "# waiting time between events\n",
    "t = stats.expon(loc=0, scale = 1/0.5)\n",
    "\n",
    "round(1 - t.cdf(x=10), 6)"
   ]
  },
  {
   "cell_type": "markdown",
   "metadata": {},
   "source": [
    "## 5 Population quantiles\n",
    "\n",
    "-----"
   ]
  },
  {
   "cell_type": "markdown",
   "metadata": {},
   "source": [
    "### 5.1 Population quantile of a continuous distribution"
   ]
  },
  {
   "cell_type": "markdown",
   "metadata": {},
   "source": [
    "### 5.2 Population quantile of a discrete distribution"
   ]
  }
 ],
 "metadata": {
  "kernelspec": {
   "display_name": "Python 3",
   "language": "python",
   "name": "python3"
  },
  "language_info": {
   "codemirror_mode": {
    "name": "ipython",
    "version": 3
   },
   "file_extension": ".py",
   "mimetype": "text/x-python",
   "name": "python",
   "nbconvert_exporter": "python",
   "pygments_lexer": "ipython3",
   "version": "3.8.3"
  }
 },
 "nbformat": 4,
 "nbformat_minor": 4
}
