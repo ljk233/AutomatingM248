{
 "cells": [
  {
   "source": [
    "# A6 Population quantiles"
   ],
   "cell_type": "markdown",
   "metadata": {}
  },
  {
   "source": [
    "## 1 Population quantiles of discrete random variables"
   ],
   "cell_type": "markdown",
   "metadata": {}
  },
  {
   "cell_type": "code",
   "execution_count": 1,
   "metadata": {},
   "outputs": [],
   "source": [
    "def find_quantile(F: dict, q: float) -> float:\n",
    "    \"\"\"\n",
    "    Finds the quatile of a discrete rv.\n",
    "    \"\"\"\n",
    "    x: int = 0\n",
    "    found: bool = False\n",
    "\n",
    "    for k in F:\n",
    "        if F[k] >= q:\n",
    "            x=k\n",
    "            break\n",
    "\n",
    "    return x"
   ]
  },
  {
   "source": [
    "### Example 6.1.1\n",
    "\n",
    "A discrete random variable $X$ has the following cumulative distribution function.\n",
    "\n",
    "| $x$    | 1    | 2    | 3    | 4    | 5   |\n",
    "|--------|------|------|------|------|-----|\n",
    "| $F(x)$ | 0.17 | 0.34 | 0.51 | 0.68 | 1.0 |\n",
    "\n",
    "**(a)** What is the 0.35-quantile of $X$?\n",
    "\n",
    "**(b)** What is the 0.95-quantile of $X$?"
   ],
   "cell_type": "markdown",
   "metadata": {}
  },
  {
   "cell_type": "code",
   "execution_count": 2,
   "metadata": {},
   "outputs": [],
   "source": [
    "# declare a dict to hold the table\n",
    "a_cdf: dict = {}\n",
    "# declare a list for p\n",
    "F: list = [0.17] + [0.34] + [0.51] + [0.68] + [1.0]"
   ]
  },
  {
   "cell_type": "code",
   "execution_count": 3,
   "metadata": {},
   "outputs": [],
   "source": [
    "# append to dict\n",
    "for i in range(1, 6):\n",
    "    a_cdf[i] = F[i-1]"
   ]
  },
  {
   "source": [
    "The $\\alpha$-quantile, $q_{\\alpha}$, of a discrete random variable $X$ is the smallest value of $x \\in X$ such that $F(x) \\geq \\alpha$."
   ],
   "cell_type": "markdown",
   "metadata": {}
  },
  {
   "source": [
    "#### (a)\n",
    "\n",
    "The $0.35$-quantile of $X$, $q_{0.35}$, is the smallest value of $x \\in X$ such that $F(x) \\geq 0.35$.\n",
    "So therefore the $0.35$-quantile will be"
   ],
   "cell_type": "markdown",
   "metadata": {}
  },
  {
   "cell_type": "code",
   "execution_count": 4,
   "metadata": {},
   "outputs": [
    {
     "output_type": "execute_result",
     "data": {
      "text/plain": [
       "3"
      ]
     },
     "metadata": {},
     "execution_count": 4
    }
   ],
   "source": [
    "find_quantile(F=a_cdf, q=0.35)"
   ]
  },
  {
   "source": [
    "#### (b)\n",
    "\n",
    "The $0.95$-quantile of $X$, $q_{0.95}$, is the smallest value of $x \\in X$ such that $F(x) \\geq 0.95$.\n",
    "So therefore the $0.95$-quantile will be"
   ],
   "cell_type": "markdown",
   "metadata": {}
  },
  {
   "source": [
    "find_quantile(F=a_cdf, q=0.95)"
   ],
   "cell_type": "code",
   "metadata": {},
   "execution_count": 5,
   "outputs": [
    {
     "output_type": "execute_result",
     "data": {
      "text/plain": [
       "5"
      ]
     },
     "metadata": {},
     "execution_count": 5
    }
   ]
  },
  {
   "source": [
    "#### Example 6.1.2\n",
    "\n",
    "A discrete random variable $X$ has the following cumulative distribution function.\n",
    "\n",
    "| $x$    | 1    | 2    | 3    | 4    | 5    | 6\n",
    "|--------|------|------|------|------|------|----\n",
    "| $F(x)$ | 0.15 | 0.35 | 0.50 | 0.65 | 0.70 | 1.0\n",
    "\n",
    "**(a)** What is the interquartile range of $X$?\n",
    "\n",
    "**(b)** What is the median of $X$?"
   ],
   "cell_type": "markdown",
   "metadata": {}
  },
  {
   "source": [
    "# declare a dict to hold the table\n",
    "a_cdf: dict = {}\n",
    "# declare a list for p\n",
    "F: list = [0.15] + [0.35] + [0.5] + [0.65] + [0.7] + [1]"
   ],
   "cell_type": "code",
   "metadata": {},
   "execution_count": 6,
   "outputs": []
  },
  {
   "source": [
    "# append to dict\n",
    "for i in range(1, 7):\n",
    "    a_cdf[i] = F[i-1]"
   ],
   "cell_type": "code",
   "metadata": {},
   "execution_count": 7,
   "outputs": []
  },
  {
   "source": [
    "#### (a)\n",
    "\n",
    "The interquartile range is $q_{0.75} - q_{0.25}$, so"
   ],
   "cell_type": "markdown",
   "metadata": {}
  },
  {
   "cell_type": "code",
   "execution_count": 8,
   "metadata": {},
   "outputs": [
    {
     "output_type": "execute_result",
     "data": {
      "text/plain": [
       "4"
      ]
     },
     "metadata": {},
     "execution_count": 8
    }
   ],
   "source": [
    "find_quantile(F=a_cdf, q=0.75) - find_quantile(F=a_cdf, q=0.25)"
   ]
  },
  {
   "source": [
    "#### (b)\n",
    "\n",
    "The median, $q_{0.5}$, will be when $\\alpha=0.5$, so"
   ],
   "cell_type": "markdown",
   "metadata": {}
  },
  {
   "cell_type": "code",
   "execution_count": 9,
   "metadata": {},
   "outputs": [
    {
     "output_type": "execute_result",
     "data": {
      "text/plain": [
       "3"
      ]
     },
     "metadata": {},
     "execution_count": 9
    }
   ],
   "source": [
    "find_quantile(F=a_cdf, q=0.5)"
   ]
  },
  {
   "source": [
    "## 2 Population quantiles of continuous random variables"
   ],
   "cell_type": "markdown",
   "metadata": {}
  },
  {
   "source": [
    "### Example 6.2.1\n",
    "\n",
    "The c.d.f. of a random variable $X$ is given by\n",
    "\n",
    "$$\n",
    "F(x) = \\frac{5}{4} \\bigg( 1 - \\frac{1}{x} \\bigg)\n",
    "$$\n",
    "\n",
    "Calculate the following\n",
    "\n",
    "**(a)** the median, $m$, of $X$\n",
    "\n",
    "**(b)** the lower quartile, $q_{L}$, of $X$\n",
    "\n",
    "**(c)** the upper quartile, $q_{U}$, of $X$"
   ],
   "cell_type": "markdown",
   "metadata": {}
  },
  {
   "source": [
    "If\n",
    "\n",
    "$$\n",
    "F(q_{\\alpha}) = \\frac{5}{4} \\bigg( 1 - \\frac{1}{q_{\\alpha}} \\bigg) = \\alpha,\n",
    "$$\n",
    "\n",
    "then\n",
    "\n",
    "$$\n",
    "q_{\\alpha} = \\frac{5}{5-4\\alpha}.\n",
    "$$"
   ],
   "cell_type": "markdown",
   "metadata": {}
  },
  {
   "cell_type": "code",
   "execution_count": 10,
   "metadata": {},
   "outputs": [],
   "source": [
    "def quantile(a: float) -> float:\n",
    "    return 5 / (5 - 4*a)"
   ]
  },
  {
   "source": [
    "#### (a)\n",
    "\n",
    "The median, $q_{0.5}$, will be when $\\alpha=0.5$, so"
   ],
   "cell_type": "markdown",
   "metadata": {}
  },
  {
   "cell_type": "code",
   "execution_count": 11,
   "metadata": {},
   "outputs": [
    {
     "output_type": "execute_result",
     "data": {
      "text/plain": [
       "1.667"
      ]
     },
     "metadata": {},
     "execution_count": 11
    }
   ],
   "source": [
    "round(quantile(a=0.5), 3)"
   ]
  },
  {
   "source": [
    "#### (b)\n",
    "\n",
    "The lower quartile, $q_{0.25}$, will be when $\\alpha=0.25$, so"
   ],
   "cell_type": "markdown",
   "metadata": {}
  },
  {
   "cell_type": "code",
   "execution_count": 12,
   "metadata": {},
   "outputs": [
    {
     "output_type": "execute_result",
     "data": {
      "text/plain": [
       "1.25"
      ]
     },
     "metadata": {},
     "execution_count": 12
    }
   ],
   "source": [
    "quantile(a=0.25)"
   ]
  },
  {
   "source": [
    "#### (c)\n",
    "\n",
    "The upper quartile, $q_{0.75}$, will be when $\\alpha=0.75$, so"
   ],
   "cell_type": "markdown",
   "metadata": {}
  },
  {
   "cell_type": "code",
   "execution_count": 13,
   "metadata": {},
   "outputs": [
    {
     "output_type": "execute_result",
     "data": {
      "text/plain": [
       "2.5"
      ]
     },
     "metadata": {},
     "execution_count": 13
    }
   ],
   "source": [
    "quantile(a=0.75)"
   ]
  },
  {
   "source": [
    "### Example 6.2.2"
   ],
   "cell_type": "markdown",
   "metadata": {}
  },
  {
   "source": [
    "The c.d.f. of a random variable $X$ is given by\n",
    "\n",
    "$$\n",
    "F(x) = \\frac{1}{8} \\bigg( x^{2} - 1 \\bigg), \\hspace{3mm} x \\in (1,3).\n",
    "$$\n",
    "\n",
    "Calculate the following\n",
    "\n",
    "**(a)** the 0.9-quantile, $q_{0.9}$, of $X$\n",
    "\n",
    "**(a)** the 0.2-quantile, $q_{0.2}$, of $X$"
   ],
   "cell_type": "markdown",
   "metadata": {}
  },
  {
   "source": [
    "If\n",
    "\n",
    "$$\n",
    "F(q_{\\alpha}) = \\frac{1}{8} \\bigg( q_{\\alpha}^{2} - 1 \\bigg) = \\alpha,\n",
    "$$\n",
    "\n",
    "then\n",
    "\n",
    "$$\n",
    "q_{\\alpha} = \\sqrt{8 \\alpha + 1}.\n",
    "$$"
   ],
   "cell_type": "markdown",
   "metadata": {}
  },
  {
   "source": [
    "def quantile(a: float) -> float:\n",
    "    return ((8 * a) + 1) ** (0.5)"
   ],
   "cell_type": "code",
   "metadata": {},
   "execution_count": 14,
   "outputs": []
  },
  {
   "source": [
    "#### (a)\n",
    "\n",
    "The 0.9-quantile, $q_{0.9}$, will be when $\\alpha=0.9$, so"
   ],
   "cell_type": "markdown",
   "metadata": {}
  },
  {
   "source": [
    "round(quantile(a=0.9), 6)"
   ],
   "cell_type": "code",
   "metadata": {},
   "execution_count": 15,
   "outputs": [
    {
     "output_type": "execute_result",
     "data": {
      "text/plain": [
       "2.863564"
      ]
     },
     "metadata": {},
     "execution_count": 15
    }
   ]
  },
  {
   "source": [
    "#### (b)\n",
    "\n",
    "The 0.2-quantile, $q_{0.9}$, will be when $\\alpha=0.2$, so"
   ],
   "cell_type": "markdown",
   "metadata": {}
  },
  {
   "source": [
    "round(quantile(a=0.2), 6)"
   ],
   "cell_type": "code",
   "metadata": {},
   "execution_count": 16,
   "outputs": [
    {
     "output_type": "execute_result",
     "data": {
      "text/plain": [
       "1.612452"
      ]
     },
     "metadata": {},
     "execution_count": 16
    }
   ]
  },
  {
   "source": [
    "#### 6.2.3 (Revised June 2020)\n",
    "\n",
    "A shop assistant always takes at least two minutes to serve a customer and sometimes takes much longer.\n",
    "The time taken to serve a customer may be modelled by a continuous random variable T with c.d.f.\n",
    "\n",
    "$$\n",
    "F(t) = 1 - \\frac{4}{t^{2}}, \\hspace{3mm} t \\geq 2,\n",
    "$$\n",
    "\n",
    "were $t$ is measured in minutes.\n",
    "\n",
    "Calculate\n",
    "\n",
    "**(a)** the median time, $m$, to serve a customer.\n",
    "\n",
    "**(b)** the interquartile range of the time taken to serve a customer."
   ],
   "cell_type": "markdown",
   "metadata": {}
  },
  {
   "source": [
    "If\n",
    "\n",
    "$$\n",
    "F(q_{\\alpha}) = 1 - \\frac{4}{q_{\\alpha}^{2}} = \\alpha,\n",
    "$$\n",
    "\n",
    "then\n",
    "\n",
    "$$\n",
    "q_{\\alpha} = \\sqrt{\\frac{4}{1-\\alpha}}.\n",
    "$$"
   ],
   "cell_type": "markdown",
   "metadata": {}
  },
  {
   "cell_type": "code",
   "execution_count": 17,
   "metadata": {},
   "outputs": [],
   "source": [
    "def quantile(a: float) -> float:\n",
    "    return (4 / (1 - a)) ** (0.5)"
   ]
  },
  {
   "source": [
    "#### (a)\n",
    "\n",
    "The median, $q_{0.5}$, will be when $\\alpha=0.5$, so"
   ],
   "cell_type": "markdown",
   "metadata": {}
  },
  {
   "cell_type": "code",
   "execution_count": 18,
   "metadata": {},
   "outputs": [
    {
     "output_type": "execute_result",
     "data": {
      "text/plain": [
       "2.828427"
      ]
     },
     "metadata": {},
     "execution_count": 18
    }
   ],
   "source": [
    "round(quantile(a=0.5), 6)"
   ]
  },
  {
   "source": [
    "#### (b)\n",
    "\n",
    "The interquartile range of $X$ is $q_{0.75} - q_{0.25}$, so"
   ],
   "cell_type": "markdown",
   "metadata": {}
  },
  {
   "cell_type": "code",
   "execution_count": 19,
   "metadata": {},
   "outputs": [
    {
     "output_type": "execute_result",
     "data": {
      "text/plain": [
       "1.690599"
      ]
     },
     "metadata": {},
     "execution_count": 19
    }
   ],
   "source": [
    "round(quantile(a=0.75) - quantile(a=0.25), 6)"
   ]
  },
  {
   "source": [
    "## 3 Population quantiles of standard distributions"
   ],
   "cell_type": "markdown",
   "metadata": {}
  },
  {
   "source": [],
   "cell_type": "markdown",
   "metadata": {}
  },
  {
   "cell_type": "code",
   "execution_count": null,
   "metadata": {},
   "outputs": [],
   "source": []
  },
  {
   "source": [],
   "cell_type": "markdown",
   "metadata": {}
  },
  {
   "cell_type": "code",
   "execution_count": null,
   "metadata": {},
   "outputs": [],
   "source": []
  },
  {
   "source": [],
   "cell_type": "markdown",
   "metadata": {}
  },
  {
   "cell_type": "code",
   "execution_count": null,
   "metadata": {},
   "outputs": [],
   "source": []
  },
  {
   "source": [],
   "cell_type": "markdown",
   "metadata": {}
  },
  {
   "cell_type": "code",
   "execution_count": null,
   "metadata": {},
   "outputs": [],
   "source": []
  },
  {
   "source": [],
   "cell_type": "markdown",
   "metadata": {}
  },
  {
   "cell_type": "code",
   "execution_count": null,
   "metadata": {},
   "outputs": [],
   "source": []
  },
  {
   "source": [],
   "cell_type": "markdown",
   "metadata": {}
  },
  {
   "cell_type": "code",
   "execution_count": null,
   "metadata": {},
   "outputs": [],
   "source": []
  },
  {
   "source": [],
   "cell_type": "markdown",
   "metadata": {}
  },
  {
   "cell_type": "code",
   "execution_count": null,
   "metadata": {},
   "outputs": [],
   "source": []
  },
  {
   "source": [],
   "cell_type": "markdown",
   "metadata": {}
  }
 ],
 "metadata": {
  "kernelspec": {
   "name": "python3",
   "display_name": "Python 3.8.3 64-bit",
   "metadata": {
    "interpreter": {
     "hash": "ff1f241afc5a4c2e07811e38e6858495d05af165b3766e4314a3d7953c54c6af"
    }
   }
  }
 },
 "nbformat": 4,
 "nbformat_minor": 4
}