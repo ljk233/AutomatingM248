{
 "cells": [
  {
   "cell_type": "markdown",
   "metadata": {},
   "source": [
    "# B7 Probabilities of normal variables"
   ]
  },
  {
   "cell_type": "code",
   "execution_count": 1,
   "metadata": {},
   "outputs": [],
   "source": [
    "from m248_support import Standard_Normal, Normal\n",
    "from scipy import stats"
   ]
  },
  {
   "cell_type": "markdown",
   "metadata": {},
   "source": [
    "## 1 Standard normal distribution"
   ]
  },
  {
   "cell_type": "markdown",
   "metadata": {},
   "source": [
    "### Example 7.1.1\n",
    "\n",
    "Let $Z$ be a random variable distributed $Z \\sim N(0,1)$.\n",
    "\n",
    "Calculate\n",
    "\n",
    "**(a)** $P(Z \\leq 1)$\n",
    "\n",
    "**(b)** $P(Z \\leq -0.7)$"
   ]
  },
  {
   "cell_type": "markdown",
   "metadata": {},
   "source": [
    "#### (a)\n",
    "\n",
    "The probability $P(Z \\leq 1) = \\Phi (1) = \\cdots$"
   ]
  },
  {
   "cell_type": "code",
   "execution_count": 2,
   "metadata": {},
   "outputs": [
    {
     "output_type": "execute_result",
     "data": {
      "text/plain": [
       "0.8413"
      ]
     },
     "metadata": {},
     "execution_count": 2
    }
   ],
   "source": [
    "Standard_Normal.has_phi(z=1)"
   ]
  },
  {
   "cell_type": "markdown",
   "metadata": {},
   "source": [
    "#### (b)\n",
    "\n",
    "The probability $P(Z \\leq -0.7) = 1 - \\Phi (0.7) = \\cdots$"
   ]
  },
  {
   "cell_type": "code",
   "execution_count": 3,
   "metadata": {},
   "outputs": [
    {
     "output_type": "execute_result",
     "data": {
      "text/plain": [
       "0.242"
      ]
     },
     "metadata": {},
     "execution_count": 3
    }
   ],
   "source": [
    "Standard_Normal.has_phi(z=-0.7)"
   ]
  },
  {
   "cell_type": "markdown",
   "metadata": {},
   "source": [
    "### Example 7.1.2\n",
    "\n",
    "Let $Z$ be a random variable distributed $Z \\sim N(0,1)$.\n",
    "\n",
    "Calculate\n",
    "\n",
    "**(a)** $P(Z \\geq 1.3)$\n",
    "\n",
    "**(b)** $P(Z \\geq -1.6)$"
   ]
  },
  {
   "cell_type": "markdown",
   "metadata": {},
   "source": [
    "#### (a)\n",
    "\n",
    "The probability $P(Z \\geq 1.3) = 1 - \\Phi (1.3) = \\cdots$"
   ]
  },
  {
   "cell_type": "code",
   "execution_count": 4,
   "metadata": {},
   "outputs": [
    {
     "output_type": "execute_result",
     "data": {
      "text/plain": [
       "0.0968"
      ]
     },
     "metadata": {},
     "execution_count": 4
    }
   ],
   "source": [
    "Standard_Normal.has_phi(z=1.3, greater_than=True)"
   ]
  },
  {
   "cell_type": "markdown",
   "metadata": {},
   "source": [
    "#### (b)\n",
    "\n",
    "The probability $P(Z \\geq -1.6)$ is given by\n",
    "\n",
    "$$\n",
    "\\begin{aligned}\n",
    "P(Z \\geq -1.6) &= 1 - \\Phi (-1.6) \\\\\n",
    "  &= 1 - (1 - \\Phi (1.6)) \\\\\n",
    "  &= \\Phi (1.6) \\\\\n",
    "  &= \\cdots\n",
    "\\end{aligned}\n",
    "$$"
   ]
  },
  {
   "cell_type": "code",
   "execution_count": 5,
   "metadata": {},
   "outputs": [
    {
     "output_type": "execute_result",
     "data": {
      "text/plain": [
       "0.9452"
      ]
     },
     "metadata": {},
     "execution_count": 5
    }
   ],
   "source": [
    "Standard_Normal.has_phi(z=-1.6, greater_than=True)"
   ]
  },
  {
   "cell_type": "markdown",
   "metadata": {},
   "source": [
    "### Example 7.1.3\n",
    "\n",
    "Let $Z$ be a random variable distributed $Z \\sim N(0,1)$.\n",
    "\n",
    "Calculate\n",
    "\n",
    "**(a)** $P(-1.25 \\leq Z \\leq 2)$\n",
    "\n",
    "**(b)** $P(-1.5 \\leq Z \\leq 0.5)$"
   ]
  },
  {
   "cell_type": "markdown",
   "metadata": {},
   "source": [
    "#### (a)\n",
    "\n",
    "The probability $P(-1.25 \\leq Z \\leq 2)$ is\n",
    "\n",
    "$$\n",
    "\\begin{aligned}\n",
    "P(-1.25 \\leq Z \\leq 2) &= \\Phi(2) - \\Phi(-1.25) \\\\\n",
    "  &= \\Phi(2) - (1 - \\Phi(1.25)) = \\cdots\n",
    "\\end{aligned}\n",
    "$$"
   ]
  },
  {
   "cell_type": "code",
   "execution_count": 6,
   "metadata": {},
   "outputs": [
    {
     "output_type": "execute_result",
     "data": {
      "text/plain": [
       "0.8716"
      ]
     },
     "metadata": {},
     "execution_count": 6
    }
   ],
   "source": [
    "Standard_Normal.has_prob_range_phi(z1=-1.25, z2=2)"
   ]
  },
  {
   "cell_type": "markdown",
   "metadata": {},
   "source": [
    "#### (b)\n",
    "\n",
    "The probability $P(-1.5 \\leq Z \\leq 0.5)$ is\n",
    "\n",
    "$$\n",
    "\\begin{aligned}\n",
    "P(-1.5 \\leq Z \\leq 0.5) &= \\Phi(0.5) - \\Phi(-1.5) \\\\\n",
    "  &= \\Phi(0.5) - (1 - \\Phi(-1.5)) = \\cdots\n",
    "\\end{aligned}\n",
    "$$"
   ]
  },
  {
   "cell_type": "code",
   "execution_count": 7,
   "metadata": {},
   "outputs": [
    {
     "output_type": "execute_result",
     "data": {
      "text/plain": [
       "0.6247"
      ]
     },
     "metadata": {},
     "execution_count": 7
    }
   ],
   "source": [
    "Standard_Normal.has_prob_range_phi(z1=-1.5, z2=0.5)"
   ]
  },
  {
   "cell_type": "markdown",
   "metadata": {},
   "source": [
    "## 2 Other normal distributions"
   ]
  },
  {
   "cell_type": "markdown",
   "metadata": {},
   "source": [
    "### Example 7.2.1\n",
    "\n",
    "Let $X$ be a random variable distributed $X \\sim N(8,2^{2})$.\n",
    "\n",
    "Calculate\n",
    "\n",
    "**(a)** $P(X \\leq 10)$\n",
    "\n",
    "**(b)** $P(X \\geq 7)$\n",
    "\n",
    "**(c)** $P(X \\leq Z \\leq 9.5)$"
   ]
  },
  {
   "cell_type": "code",
   "execution_count": 8,
   "metadata": {},
   "outputs": [],
   "source": [
    "# declare the distribution\n",
    "x = Normal(a_mean=8, a_std=2)"
   ]
  },
  {
   "cell_type": "markdown",
   "metadata": {},
   "source": [
    "#### (a)\n",
    "\n",
    "The probability $P(X \\leq 10) = P(Z \\leq z)$, where $z$ is\n",
    "\n",
    "$$\n",
    "z = \\frac{10 - \\mu}{\\sigma} = \\cdots\n",
    "$$"
   ]
  },
  {
   "cell_type": "code",
   "execution_count": 9,
   "metadata": {},
   "outputs": [
    {
     "output_type": "execute_result",
     "data": {
      "text/plain": [
       "1.0"
      ]
     },
     "metadata": {},
     "execution_count": 9
    }
   ],
   "source": [
    "x.has_z(x=10)"
   ]
  },
  {
   "cell_type": "markdown",
   "metadata": {},
   "source": [
    "Therefore, the probability $P(X \\leq 10) = P(Z \\leq 1) = \\Phi (1) = \\cdots$"
   ]
  },
  {
   "cell_type": "code",
   "execution_count": 10,
   "metadata": {},
   "outputs": [
    {
     "output_type": "execute_result",
     "data": {
      "text/plain": [
       "0.8413"
      ]
     },
     "metadata": {},
     "execution_count": 10
    }
   ],
   "source": [
    "x.has_F(x=10)"
   ]
  },
  {
   "cell_type": "markdown",
   "metadata": {},
   "source": [
    "#### (b)\n",
    "\n",
    "The probability $P(X \\geq 7) = P(Z \\geq z)$, where $z$ is\n",
    "\n",
    "$$\n",
    "z = \\frac{7 - \\mu}{\\sigma} = \\cdots\n",
    "$$"
   ]
  },
  {
   "cell_type": "code",
   "execution_count": 11,
   "metadata": {},
   "outputs": [
    {
     "output_type": "execute_result",
     "data": {
      "text/plain": [
       "-0.5"
      ]
     },
     "metadata": {},
     "execution_count": 11
    }
   ],
   "source": [
    "x.has_z(x=7)"
   ]
  },
  {
   "cell_type": "markdown",
   "metadata": {},
   "source": [
    "Therefore, the probability $P(X \\geq 7)$ is given by\n",
    "\n",
    "$$\n",
    "\\begin{aligned}\n",
    "P(Z \\geq -0.5) &= 1 - \\Phi (-0.5) \\\\\n",
    "  &= 1 - (1 - \\Phi (0.5)) \\\\\n",
    "  &= \\Phi (0.5) \\\\\n",
    "  &= \\cdots\n",
    "\\end{aligned}\n",
    "$$"
   ]
  },
  {
   "cell_type": "code",
   "execution_count": 12,
   "metadata": {},
   "outputs": [
    {
     "output_type": "execute_result",
     "data": {
      "text/plain": [
       "0.6915"
      ]
     },
     "metadata": {},
     "execution_count": 12
    }
   ],
   "source": [
    "x.has_F(x=7, greater_than=True)"
   ]
  },
  {
   "cell_type": "markdown",
   "metadata": {},
   "source": [
    "#### (c)\n",
    "\n",
    "The probability $P(6 \\leq X \\leq 9.5) = P(z_{1} \\leq Z \\leq z_{2})$, where\n",
    "\n",
    "$$\n",
    "z_{1} = \\dfrac{6 - \\mu}{\\sigma} = \\cdots\n",
    "$$"
   ]
  },
  {
   "cell_type": "code",
   "execution_count": 13,
   "metadata": {},
   "outputs": [
    {
     "output_type": "execute_result",
     "data": {
      "text/plain": [
       "-1.0"
      ]
     },
     "metadata": {},
     "execution_count": 13
    }
   ],
   "source": [
    "x.has_z(x=6)"
   ]
  },
  {
   "cell_type": "markdown",
   "metadata": {},
   "source": [
    "and\n",
    "\n",
    "$$\n",
    "z_{2} = \\dfrac{9.5 - \\mu}{\\sigma} = \\cdots\n",
    "$$"
   ]
  },
  {
   "cell_type": "code",
   "execution_count": 14,
   "metadata": {},
   "outputs": [
    {
     "output_type": "execute_result",
     "data": {
      "text/plain": [
       "0.75"
      ]
     },
     "metadata": {},
     "execution_count": 14
    }
   ],
   "source": [
    "x.has_z(x=9.5)"
   ]
  },
  {
   "cell_type": "markdown",
   "metadata": {},
   "source": [
    "Therefore, the probability $P(6 \\leq X \\leq 9.5)$ is given by\n",
    "\n",
    "$$\n",
    "\\begin{aligned}\n",
    "P(z_{1} \\leq Z \\leq z_{2}) &= P(-1 \\leq Z \\leq 0.75) \\\\\n",
    "  &= \\Phi (0.75) - \\Phi (-1) \\\\\n",
    "  &= \\Phi (0.75) - (1 - \\Phi (1)) \\\\\n",
    "  &= \\Phi (0.75) + \\Phi (1) - 1 \\\\\n",
    "  &= \\ldots\n",
    "\\end{aligned}\n",
    "$$"
   ]
  },
  {
   "cell_type": "code",
   "execution_count": 15,
   "metadata": {},
   "outputs": [
    {
     "output_type": "execute_result",
     "data": {
      "text/plain": [
       "0.6147"
      ]
     },
     "metadata": {},
     "execution_count": 15
    }
   ],
   "source": [
    "x.has_prob_range_F(x1=6, x2=9.5)"
   ]
  },
  {
   "cell_type": "markdown",
   "metadata": {},
   "source": [
    "### Example 7.2.2\n",
    "\n",
    "Suppose that the birth weight (in kilograms) of newborn babies in a population may be reasonably modelled by a normal distribution with mean 3.4 and standard deviation 0.5.\n",
    "\n",
    "According to the model, what is the proportion of birth weights that are\n",
    "\n",
    "**(a)** between 2.9 and 3.9 kilograms?\n",
    "\n",
    "**(b)** less than 4 kilograms?\n",
    "\n",
    "**(c)** greater that 3 kilograms?"
   ]
  },
  {
   "cell_type": "code",
   "execution_count": 16,
   "metadata": {},
   "outputs": [],
   "source": [
    "# declare the distribution\n",
    "x = Normal(a_mean=3.4, a_std=0.5)"
   ]
  },
  {
   "cell_type": "markdown",
   "metadata": {},
   "source": [
    "#### (a)\n",
    "\n",
    "The probability $P(2.9 \\leq X \\leq 3.9) = P(z_{1} \\leq Z \\leq z_{2})$, where $z_{1}$ is"
   ]
  },
  {
   "cell_type": "code",
   "execution_count": 17,
   "metadata": {},
   "outputs": [
    {
     "output_type": "execute_result",
     "data": {
      "text/plain": [
       "-1.0"
      ]
     },
     "metadata": {},
     "execution_count": 17
    }
   ],
   "source": [
    "x.has_z(x=2.9)"
   ]
  },
  {
   "cell_type": "markdown",
   "metadata": {},
   "source": [
    "and $z_{2}$ is"
   ]
  },
  {
   "cell_type": "code",
   "execution_count": 18,
   "metadata": {},
   "outputs": [
    {
     "output_type": "execute_result",
     "data": {
      "text/plain": [
       "1.0"
      ]
     },
     "metadata": {},
     "execution_count": 18
    }
   ],
   "source": [
    "x.has_z(x=3.9)"
   ]
  },
  {
   "cell_type": "markdown",
   "metadata": {},
   "source": [
    "Therefore, the probability $P(2.9 \\leq X \\leq 3.9)$ is given by\n",
    "\n",
    "$$\n",
    "\\begin{aligned}\n",
    "P(-1 \\leq Z \\leq 1) &= \\Phi (1) - \\Phi (-1) \\\\\n",
    "  &= \\Phi (1) - (1 - \\Phi (1)) \\\\\n",
    "  &= 2 \\Phi (1) - 1 \\\\\n",
    "  &= \\cdots\n",
    "\\end{aligned}\n",
    "$$"
   ]
  },
  {
   "cell_type": "code",
   "execution_count": 19,
   "metadata": {},
   "outputs": [
    {
     "output_type": "execute_result",
     "data": {
      "text/plain": [
       "0.6826"
      ]
     },
     "metadata": {},
     "execution_count": 19
    }
   ],
   "source": [
    "x.has_prob_range_F(x1=2.9, x2=3.9)"
   ]
  },
  {
   "cell_type": "markdown",
   "metadata": {},
   "source": [
    "#### (b)\n",
    "\n",
    "The probability $P(X \\leq 4) = P(Z \\leq z)$, where $z$ is"
   ]
  },
  {
   "cell_type": "code",
   "execution_count": 20,
   "metadata": {},
   "outputs": [
    {
     "output_type": "execute_result",
     "data": {
      "text/plain": [
       "1.2"
      ]
     },
     "metadata": {},
     "execution_count": 20
    }
   ],
   "source": [
    "x.has_z(x=4)"
   ]
  },
  {
   "cell_type": "markdown",
   "metadata": {},
   "source": [
    "Therefore, the probability $P(X \\leq 4) = \\Phi (1.2) = \\cdots$"
   ]
  },
  {
   "cell_type": "code",
   "execution_count": 21,
   "metadata": {},
   "outputs": [
    {
     "output_type": "execute_result",
     "data": {
      "text/plain": [
       "0.8849"
      ]
     },
     "metadata": {},
     "execution_count": 21
    }
   ],
   "source": [
    "x.has_F(x=4)"
   ]
  },
  {
   "cell_type": "markdown",
   "metadata": {},
   "source": [
    "#### (c)\n",
    "\n",
    "The probability $P(X \\geq 3) = P(Z \\geq z)$, where $z$ is"
   ]
  },
  {
   "cell_type": "code",
   "execution_count": 22,
   "metadata": {},
   "outputs": [
    {
     "output_type": "execute_result",
     "data": {
      "text/plain": [
       "-0.8"
      ]
     },
     "metadata": {},
     "execution_count": 22
    }
   ],
   "source": [
    "x.has_z(x=3)"
   ]
  },
  {
   "cell_type": "markdown",
   "metadata": {},
   "source": [
    "Therefore, the probability $P(X \\geq 3) = 1 - \\Phi (-0.8) = 1 - (1 - \\Phi (0.8)) = \\Phi (0.8) = \\cdots$"
   ]
  },
  {
   "cell_type": "code",
   "execution_count": 23,
   "metadata": {},
   "outputs": [
    {
     "output_type": "execute_result",
     "data": {
      "text/plain": [
       "0.7881"
      ]
     },
     "metadata": {},
     "execution_count": 23
    }
   ],
   "source": [
    "x.has_F(x=3, greater_than=True)"
   ]
  }
 ],
 "metadata": {
  "kernelspec": {
   "display_name": "Python 3",
   "language": "python",
   "name": "python3"
  },
  "language_info": {
   "codemirror_mode": {
    "name": "ipython",
    "version": 3
   },
   "file_extension": ".py",
   "mimetype": "text/x-python",
   "name": "python",
   "nbconvert_exporter": "python",
   "pygments_lexer": "ipython3",
   "version": "3.8.3-final"
  }
 },
 "nbformat": 4,
 "nbformat_minor": 4
}