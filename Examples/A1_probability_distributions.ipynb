{
 "metadata": {
  "language_info": {
   "codemirror_mode": {
    "name": "ipython",
    "version": 3
   },
   "file_extension": ".py",
   "mimetype": "text/x-python",
   "name": "python",
   "nbconvert_exporter": "python",
   "pygments_lexer": "ipython3",
   "version": "3.8.3-final"
  },
  "orig_nbformat": 2,
  "kernelspec": {
   "name": "python3",
   "display_name": "Python 3"
  }
 },
 "nbformat": 4,
 "nbformat_minor": 2,
 "cells": [
  {
   "source": [
    "# Examples: A1 Probability distributions"
   ],
   "cell_type": "markdown",
   "metadata": {}
  },
  {
   "cell_type": "code",
   "execution_count": 1,
   "metadata": {},
   "outputs": [],
   "source": [
    "from scipy.integrate import quad"
   ]
  },
  {
   "source": [
    "## 1 Probability density function of a continuous random variable"
   ],
   "cell_type": "markdown",
   "metadata": {}
  },
  {
   "source": [
    "### Example 1.1.1\n",
    "\n",
    "Suppose that a random variable $X$ has range $(0,1)$ and that its p.d.f. is given by\n",
    "\n",
    "$$f(x) = \\frac{3}{4} (x^{2} + 1), \\hspace{3mm} x \\in (0,1).$$\n",
    "\n",
    "Calculate the following:\n",
    "\n",
    "**(a)** $P(X < 1/5)$\n",
    "\n",
    "**(b)** $P(X > 3/8)$\n",
    "\n",
    "**(c)** $P(1/4 \\leq X \\leq 1/2)$\n",
    "\n",
    "**(d)** $E(X)$\n",
    "\n",
    "**(e)** $V(X)$"
   ],
   "cell_type": "markdown",
   "metadata": {}
  },
  {
   "cell_type": "code",
   "execution_count": 2,
   "metadata": {},
   "outputs": [],
   "source": [
    "def f(x: float):\n",
    "    \"\"\"\n",
    "    Define the function f(x).\n",
    "    \"\"\"\n",
    "    return 0.75 * (x ** 2 + 1)"
   ]
  },
  {
   "cell_type": "code",
   "execution_count": 3,
   "metadata": {},
   "outputs": [],
   "source": [
    "def xf(x: float):\n",
    "    \"\"\"\n",
    "    Define the function x.f(x).\n",
    "    \"\"\"\n",
    "    return x * 0.75 * (x ** 2 + 1)"
   ]
  },
  {
   "cell_type": "code",
   "execution_count": 4,
   "metadata": {},
   "outputs": [],
   "source": [
    "def x2f(x: float):\n",
    "    \"\"\"\n",
    "    Define the function x^2.f(x).\n",
    "    \"\"\"\n",
    "    return x ** 2 * 0.75 * (x ** 2 + 1)"
   ]
  },
  {
   "source": [
    "#### (a)\n",
    "\n",
    "The probability $P(X \\leq x) = F(x)$ for a continuous random variable is\n",
    "\n",
    "$$\n",
    "F(x) = \\int_{a}^{x} f(x) \\> dx.\n",
    "$$\n",
    "\n",
    "So $P(X < 1/5) = F(1/5) = \\cdots$"
   ],
   "cell_type": "markdown",
   "metadata": {}
  },
  {
   "cell_type": "code",
   "execution_count": 5,
   "metadata": {},
   "outputs": [
    {
     "output_type": "execute_result",
     "data": {
      "text/plain": [
       "0.152"
      ]
     },
     "metadata": {},
     "execution_count": 5
    }
   ],
   "source": [
    "round(quad(func=f, a=0, b=1/5)[0], 6)"
   ]
  },
  {
   "source": [
    "#### (b)\n",
    "\n",
    "The probability $P(X > x) = P(X \\geq x)$ for a continuous random variable is\n",
    "\n",
    "$$\n",
    "P(X \\geq x_{1}) = \\int_{x}^{b} f(x) \\> dx.\n",
    "$$\n",
    "\n",
    "So $P(X > 3/8) = \\cdots$"
   ],
   "cell_type": "markdown",
   "metadata": {}
  },
  {
   "cell_type": "code",
   "execution_count": 6,
   "metadata": {},
   "outputs": [
    {
     "output_type": "execute_result",
     "data": {
      "text/plain": [
       "0.705566"
      ]
     },
     "metadata": {},
     "execution_count": 6
    }
   ],
   "source": [
    "round(quad(func=f, a=3/8, b=1)[0], 6)"
   ]
  },
  {
   "source": [
    "#### (c)\n",
    "\n",
    "The probability $P(x_{1} \\leq X \\leq x_{2})$ for a continuous random variable is\n",
    "\n",
    "$$\n",
    "P(x_{1} \\leq X x_{2})\n",
    "  = \\int_{x_{1}}^{x_{2}} f(x) \\> dx.\n",
    "$$\n",
    "\n",
    "So $P(1/4 \\leq X \\leq 1/2) = \\ldots$"
   ],
   "cell_type": "markdown",
   "metadata": {}
  },
  {
   "cell_type": "code",
   "execution_count": 7,
   "metadata": {},
   "outputs": [
    {
     "output_type": "execute_result",
     "data": {
      "text/plain": [
       "0.214844"
      ]
     },
     "metadata": {},
     "execution_count": 7
    }
   ],
   "source": [
    "round(quad(func=f, a=1/4, b=1/2)[0], 6)"
   ]
  },
  {
   "source": [
    "#### (d)\n",
    "\n",
    "The expected value of a continuous random variable with p.d.f. $f(x)$ is\n",
    "\n",
    "$$\n",
    "E(X) = \\mu = \\int_{a}^{b} x \\> f(x) \\> dx.\n",
    "$$"
   ],
   "cell_type": "markdown",
   "metadata": {}
  },
  {
   "cell_type": "code",
   "execution_count": 8,
   "metadata": {},
   "outputs": [
    {
     "output_type": "execute_result",
     "data": {
      "text/plain": [
       "0.5625"
      ]
     },
     "metadata": {},
     "execution_count": 8
    }
   ],
   "source": [
    "round(quad(func=xf, a=0, b=1)[0], 6)"
   ]
  },
  {
   "source": [
    "#### (e)\n",
    "\n",
    "The variance of a p.d.f. of a continuous random variable with p.d.f. $f(x)$ is\n",
    "\n",
    "$$\n",
    "V(X) = E(X^{2}) - E(X)^{2}\n",
    "= \\bigg\\{\\int_{a}^{b} x^{2} \\> f(x) \\> dx \\bigg\\} - \\mu^{2}.\n",
    "$$"
   ],
   "cell_type": "markdown",
   "metadata": {}
  },
  {
   "cell_type": "code",
   "execution_count": 9,
   "metadata": {},
   "outputs": [
    {
     "output_type": "execute_result",
     "data": {
      "text/plain": [
       "0.083594"
      ]
     },
     "metadata": {},
     "execution_count": 9
    }
   ],
   "source": [
    "round(quad(func=x2f, a=0, b=1)[0] - (quad(func=xf, a=0, b=1)[0]) ** 2, 6)"
   ]
  },
  {
   "source": [
    "### Example 1.1.2\n",
    "\n",
    "Suppose that a continuous variable $X$ has range $(-1,1)$. The following is a function $f(x)$ of $x$:\n",
    "\n",
    "$$f(x) = 1 - x^{2}.$$\n",
    "\n",
    "Is $f(x)$ a valid p.d.f. for $X$?"
   ],
   "cell_type": "markdown",
   "metadata": {}
  },
  {
   "cell_type": "code",
   "execution_count": 10,
   "metadata": {},
   "outputs": [],
   "source": [
    "def f(x: float):\n",
    "    \"\"\"\n",
    "    Define the function f(x).\n",
    "    \"\"\"\n",
    "    return 1 - (x ** 2)"
   ]
  },
  {
   "source": [
    "Check the properties of a valid p.d.f.\n",
    "\n",
    "(1) $\\int f(x) = 1$\n",
    "\n",
    "(2) $f(x) > 0$"
   ],
   "cell_type": "markdown",
   "metadata": {}
  },
  {
   "cell_type": "code",
   "execution_count": 11,
   "metadata": {},
   "outputs": [
    {
     "output_type": "execute_result",
     "data": {
      "text/plain": [
       "1.333333"
      ]
     },
     "metadata": {},
     "execution_count": 11
    }
   ],
   "source": [
    "round(quad(func=f, a=-1, b=1)[0], 6)"
   ]
  },
  {
   "source": [
    "Therefore $f(x)$ is not a valid p.d.f.\n",
    "But does a normalising constant, $k$, exist, such that $k \\> f(x)$ would be a valid p.d.f.?\n",
    "\n",
    "$$\n",
    "\\begin{aligned}\n",
    "    1 = \\int_{-1}^{1} k \\> (1 - x^{2}) \\> dx &= k \\int_{-1}^{1} (1 - x^{2}) \\> dx \\\\\n",
    "      &= k \\bigg( \\frac{4}{3} \\bigg) \\\\\n",
    "    k &= \\frac{3}{4}.\n",
    "\\end{aligned}\n",
    "$$\n",
    "\n",
    "Hence, $f(x)$ is not a valid p.d.f., but $\\frac{3}{4} f(x)$ is valid."
   ],
   "cell_type": "markdown",
   "metadata": {}
  },
  {
   "source": [
    "#### Example 1.1.3\n",
    "\n",
    "Suppose that a continuous variable $X$ can only take values in the range $0$ to $1$. The following is a function $f(x)$ of $x$:\n",
    "\n",
    "$$f(x) = \\frac{3}{4} (x^{2} + 1), \\hspace{3mm} x \\in (0,1).$$\n",
    "\n",
    "What is the c.d.f. associated with $X$?\n",
    "\n",
    "The c.d.f. for a continuous random variable with p.d.f. $f(y)$  is\n",
    "\n",
    "$$\n",
    "F(x) = \\int_{a}^{x} f(y) \\> dy.\n",
    "$$\n",
    "\n",
    "Therefore for the p.d.f. in question\n",
    "\n",
    "$$\n",
    "\\begin{aligned}\n",
    "F(x) = \\int_{0}^{x} \\frac{3}{4} (x^{2} + 1) \\> dy &= \\frac{3}{4} \\int_{0}^{x} (x^{2} + 1) \\> dy \\\\\n",
    "  &= \\frac{3}{4} \\bigg[ \\frac{1}{3} y^{3} + y \\bigg]_{0}^{x} \\\\\n",
    "  &= \\frac{3}{4} \\bigg\\{ \\frac{1}{3} x^{3} + x - \\bigg( 0 + 0 \\bigg) \\bigg\\} \\\\\n",
    "  &= \\frac{1}{4} ( x^{3} + 3x ).\n",
    "\\end{aligned}\n",
    "$$"
   ],
   "cell_type": "markdown",
   "metadata": {}
  },
  {
   "source": [
    "## 2 Probability mass function of a discrete random variable\n",
    "\n",
    "-----"
   ],
   "cell_type": "markdown",
   "metadata": {}
  },
  {
   "source": [
    "### Example 1.2.1\n",
    "\n",
    "The random variable $X$ has a range $\\{1, 2, 3, 4, 5\\}$.\n",
    "**Table 1** shows a function $p(x)$ of $X$.\n",
    "\n",
    "| $x$    | 1    | 2    | 3    | 4    | 5    |\n",
    "|--------|------|------|------|------|------|\n",
    "| $p(x)$ | 0.30 | 0.25 | 0.10 | 0.20 | 0.15 |\n",
    "\n",
    "**(a)** Confirm $p(x)$ a valid p.m.f. for $X$\n",
    "\n",
    "Calculate the following:\n",
    "\n",
    "**(b)** $P(X = 3)$\n",
    "\n",
    "**(c)** $P(X > 2)$\n",
    "\n",
    "**(d)** $E(X)$\n",
    "\n",
    "**(e)** $V(X)$ "
   ],
   "cell_type": "markdown",
   "metadata": {}
  },
  {
   "cell_type": "code",
   "execution_count": 12,
   "metadata": {},
   "outputs": [],
   "source": [
    "# declare a dict to hold the table\n",
    "a_pmf: dict = {}\n",
    "# declare a list for p\n",
    "p: list = [0.3] + [0.25] + [0.1] + [0.2] + [0.15]"
   ]
  },
  {
   "cell_type": "code",
   "execution_count": 13,
   "metadata": {},
   "outputs": [],
   "source": [
    "# append to dict\n",
    "for i in range(1, 6):\n",
    "    a_pmf[i] = p[i-1]"
   ]
  },
  {
   "source": [
    "#### (b)\n",
    "\n",
    "Check the properties of a valid p.m.f.\n",
    "\n",
    "(1) $\\sum_{x} x = 1$\n",
    "\n",
    "(2) $p(x) > 0$"
   ],
   "cell_type": "markdown",
   "metadata": {}
  },
  {
   "cell_type": "code",
   "execution_count": 14,
   "metadata": {},
   "outputs": [
    {
     "output_type": "execute_result",
     "data": {
      "text/plain": [
       "True"
      ]
     },
     "metadata": {},
     "execution_count": 14
    }
   ],
   "source": [
    "sum: float = 0\n",
    "greater_than_zero: bool = True\n",
    "\n",
    "for k in a_pmf:\n",
    "    sum = sum + a_pmf[k]\n",
    "    if a_pmf[k] <= 0:\n",
    "        greater_than_zero = False\n",
    "\n",
    "# check sum is 1 and checl p(X) > 0\n",
    "sum == 1 and greater_than_zero"
   ]
  },
  {
   "source": [
    "As both tests return `True`, $p(x)$ is a valid p.m.f. for $x$"
   ],
   "cell_type": "markdown",
   "metadata": {}
  },
  {
   "source": [
    "#### (b)\n",
    "\n",
    "The probability $p(3) = \\cdots$"
   ],
   "cell_type": "markdown",
   "metadata": {}
  },
  {
   "cell_type": "code",
   "execution_count": 15,
   "metadata": {},
   "outputs": [
    {
     "output_type": "execute_result",
     "data": {
      "text/plain": [
       "0.1"
      ]
     },
     "metadata": {},
     "execution_count": 15
    }
   ],
   "source": [
    "a_pmf[3]"
   ]
  },
  {
   "source": [
    "#### (c)\n",
    "\n",
    "The probability $P(X > 2) = \\cdots$"
   ],
   "cell_type": "markdown",
   "metadata": {}
  },
  {
   "cell_type": "code",
   "execution_count": 16,
   "metadata": {},
   "outputs": [
    {
     "output_type": "execute_result",
     "data": {
      "text/plain": [
       "0.45"
      ]
     },
     "metadata": {},
     "execution_count": 16
    }
   ],
   "source": [
    "round(a_pmf[3] + a_pmf[4] + a_pmf[5], 6)"
   ]
  },
  {
   "source": [
    "#### (d)\n",
    "\n",
    "The expected value of a discrete random variable with p.m.f. $p(x)$ is\n",
    "\n",
    "$$\n",
    "E(X) = \\mu = \\sum x \\> p(x).\n",
    "$$"
   ],
   "cell_type": "markdown",
   "metadata": {}
  },
  {
   "cell_type": "code",
   "execution_count": 17,
   "metadata": {},
   "outputs": [
    {
     "output_type": "execute_result",
     "data": {
      "text/plain": [
       "2.65"
      ]
     },
     "metadata": {},
     "execution_count": 17
    }
   ],
   "source": [
    "mean: float = 0\n",
    "\n",
    "for k in a_pmf:\n",
    "    mean = mean + k * a_pmf[k]\n",
    "\n",
    "round(mean, 6)"
   ]
  },
  {
   "source": [
    "#### (e)\n",
    "\n",
    "The variance of a discrete random variable with p.m.f. $p(x)$ is\n",
    "\n",
    "$$\n",
    "V(X) = E[(X - \\mu)^{2}] = \\sum_{x} (x - \\overline{x})^{2} \\> p(x).\n",
    "$$"
   ],
   "cell_type": "markdown",
   "metadata": {}
  },
  {
   "cell_type": "code",
   "execution_count": 18,
   "metadata": {},
   "outputs": [
    {
     "output_type": "execute_result",
     "data": {
      "text/plain": [
       "2.1275"
      ]
     },
     "metadata": {},
     "execution_count": 18
    }
   ],
   "source": [
    "var: float = 0\n",
    "\n",
    "for k in a_pmf:\n",
    "    var = var + ((k - mean) ** 2) * a_pmf[k]\n",
    "\n",
    "round(var, 6)"
   ]
  },
  {
   "source": [
    "### Example 1.2.2 (June 2017)\n",
    "\n",
    "The random variable $X$ has a range $\\{1, 2, 3, 4, 5\\}$.\n",
    "**Table 1** shows a function $p(x)$ of $X$.\n",
    "\n",
    "| $x$    | 1    | 2    | 3    | 4    |\n",
    "|--------|------|------|------|------|\n",
    "| $p(x)$ | 0.20 | 0.15 | 0.30 | 0.35 |\n",
    "\n",
    "**(a)** Confirm $p(x)$ a valid p.m.f. for $X$\n",
    "\n",
    "Calculate the following:\n",
    "\n",
    "**(b)** $P(X = 2)$\n",
    "\n",
    "**(c)** $P(X \\leq 2)$\n",
    "\n",
    "**(d)** $E(X)$\n",
    "\n",
    "**(e)** $V(X)$ "
   ],
   "cell_type": "markdown",
   "metadata": {}
  },
  {
   "cell_type": "code",
   "execution_count": 19,
   "metadata": {},
   "outputs": [],
   "source": [
    "# declare a dict to hold the table\n",
    "a_pmf: dict = {}\n",
    "# declare a list for p\n",
    "p: list = [0.2] + [0.15] + [0.3] + [0.35]"
   ]
  },
  {
   "cell_type": "code",
   "execution_count": 20,
   "metadata": {},
   "outputs": [],
   "source": [
    "# append to dict\n",
    "for i in range(1, 5):\n",
    "    a_pmf[i] = p[i-1]"
   ]
  },
  {
   "source": [
    "#### (a)\n",
    "\n",
    "Check the properties of a valid p.m.f.\n",
    "\n",
    "(1) $\\sum_{x} x = 1$\n",
    "\n",
    "(2) $p(x) > 0$"
   ],
   "cell_type": "markdown",
   "metadata": {}
  },
  {
   "cell_type": "code",
   "execution_count": 21,
   "metadata": {},
   "outputs": [
    {
     "output_type": "execute_result",
     "data": {
      "text/plain": [
       "True"
      ]
     },
     "metadata": {},
     "execution_count": 21
    }
   ],
   "source": [
    "sum: float = 0\n",
    "greater_than_zero: bool = True\n",
    "\n",
    "for k in a_pmf:\n",
    "    sum = sum + a_pmf[k]\n",
    "    if a_pmf[k] <= 0:\n",
    "        greater_than_zero = False\n",
    "\n",
    "# check sum is 1 and checl p(X) > 0\n",
    "round(sum, 6) == 1 and greater_than_zero"
   ]
  },
  {
   "source": [
    "As both tests return `True`, $p(x)$ is a valid p.m.f. for $x$"
   ],
   "cell_type": "markdown",
   "metadata": {}
  },
  {
   "source": [
    "#### (b)\n",
    "\n",
    "The probability $p(2) = \\cdots$"
   ],
   "cell_type": "markdown",
   "metadata": {}
  },
  {
   "cell_type": "code",
   "execution_count": 22,
   "metadata": {},
   "outputs": [
    {
     "output_type": "execute_result",
     "data": {
      "text/plain": [
       "0.15"
      ]
     },
     "metadata": {},
     "execution_count": 22
    }
   ],
   "source": [
    "a_pmf[2]"
   ]
  },
  {
   "source": [
    "#### (c)\n",
    "\n",
    "The probability $P(X \\leq 2) = \\cdots$"
   ],
   "cell_type": "markdown",
   "metadata": {}
  },
  {
   "cell_type": "code",
   "execution_count": null,
   "metadata": {},
   "outputs": [],
   "source": []
  },
  {
   "source": [
    "#### (d)\n",
    "\n",
    "The expected value $E(X) = \\cdots$"
   ],
   "cell_type": "markdown",
   "metadata": {}
  },
  {
   "cell_type": "code",
   "execution_count": 23,
   "metadata": {},
   "outputs": [
    {
     "output_type": "execute_result",
     "data": {
      "text/plain": [
       "2.8"
      ]
     },
     "metadata": {},
     "execution_count": 23
    }
   ],
   "source": [
    "mean: float = 0\n",
    "\n",
    "for k in a_pmf:\n",
    "    mean = mean + k * a_pmf[k]\n",
    "\n",
    "round(mean, 2)"
   ]
  },
  {
   "source": [
    "#### (e)\n",
    "\n",
    "The variance $V(X) = \\cdots$"
   ],
   "cell_type": "markdown",
   "metadata": {}
  },
  {
   "cell_type": "code",
   "execution_count": 24,
   "metadata": {},
   "outputs": [
    {
     "output_type": "execute_result",
     "data": {
      "text/plain": [
       "1.26"
      ]
     },
     "metadata": {},
     "execution_count": 24
    }
   ],
   "source": [
    "var: float = 0\n",
    "\n",
    "for k in a_pmf:\n",
    "    var = var + ((k - mean) ** 2) * a_pmf[k]\n",
    "\n",
    "round(var, 6)"
   ]
  }
 ]
}