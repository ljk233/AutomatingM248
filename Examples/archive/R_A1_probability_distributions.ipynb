{
 "cells": [
  {
   "cell_type": "markdown",
   "metadata": {},
   "source": [
    "# A1 Probability distributions"
   ]
  },
  {
   "cell_type": "markdown",
   "metadata": {},
   "source": [
    "## Support functions for probability mass functions"
   ]
  },
  {
   "cell_type": "code",
   "execution_count": 18,
   "metadata": {},
   "outputs": [],
   "source": [
    "# Checks if a list sums to 1\n",
    "check_sum_equals_one <- function(a_list) {\n",
    "    # declare the sum\n",
    "    sum <- 0\n",
    "\n",
    "    for(i in 1:length(a_list)) {\n",
    "        sum <- sum + a_list[[i]]\n",
    "    }\n",
    "    \n",
    "    sum == 1\n",
    "}"
   ]
  },
  {
   "cell_type": "code",
   "execution_count": 19,
   "metadata": {},
   "outputs": [],
   "source": [
    "# Checks if every element in list > 0\n",
    "check_all_positive <- function(a_list) {\n",
    "    # declare flag\n",
    "    a_positive <- TRUE\n",
    "    \n",
    "    for(i in 1:length(a_list)) {\n",
    "        if(a_list[[i]] <= 0) {\n",
    "            a_positive <- FALSE\n",
    "        }\n",
    "    }\n",
    "    \n",
    "    a_positive == TRUE\n",
    "}"
   ]
  },
  {
   "cell_type": "code",
   "execution_count": 10,
   "metadata": {},
   "outputs": [],
   "source": [
    "# calaculates the mean of a pmf\n",
    "mean_pmf <- function(x, p) {\n",
    "    mean <- 0\n",
    "    \n",
    "    for(i in 1:length(x)) {\n",
    "        mean <- mean + x[[i]] * p[[i]]\n",
    "        }\n",
    "    mean\n",
    "}"
   ]
  },
  {
   "cell_type": "code",
   "execution_count": 13,
   "metadata": {},
   "outputs": [],
   "source": [
    "var_pmf <- function(x, p) {\n",
    "    mean <- 0\n",
    "    var <- 0\n",
    "    \n",
    "    # calculate mean\n",
    "    for(i in 1:length(x)) {\n",
    "        mean <- mean + x[[i]] * p[[i]]\n",
    "        }\n",
    "\n",
    "    # calculate var\n",
    "    for(i in 1:length(x)) {\n",
    "        var <- var + (x[[i]] - mean) ** 2 * p[[i]]\n",
    "        }    \n",
    "    var\n",
    "}"
   ]
  },
  {
   "cell_type": "markdown",
   "metadata": {},
   "source": [
    "## 1 Probability density function of a continuous random variable"
   ]
  },
  {
   "cell_type": "markdown",
   "metadata": {},
   "source": [
    "### Example 1.1.1\n",
    "\n",
    "Suppose that a random variable $X$ has range $(0,1)$ and that its p.d.f. is given by\n",
    "\n",
    "$$f(x) = \\frac{3}{4} (x^{2} + 1), \\hspace{3mm} x \\in (0,1).$$\n",
    "\n",
    "Calculate the following:\n",
    "\n",
    "**(a)** $P(X < 1/5)$\n",
    "\n",
    "**(b)** $P(X > 3/8)$\n",
    "\n",
    "**(c)** $P(1/4 \\leq X \\leq 1/2)$\n",
    "\n",
    "**(d)** $E(X)$\n",
    "\n",
    "**(e)** $V(X)$"
   ]
  },
  {
   "cell_type": "code",
   "execution_count": 1,
   "metadata": {},
   "outputs": [],
   "source": [
    "f <- function(x) {0.75 * (x ** 2 + 1)}"
   ]
  },
  {
   "cell_type": "code",
   "execution_count": 2,
   "metadata": {},
   "outputs": [],
   "source": [
    "xf <- function(x) {x * 0.75 * (x ** 2 + 1)}"
   ]
  },
  {
   "cell_type": "code",
   "execution_count": 3,
   "metadata": {},
   "outputs": [],
   "source": [
    "x2f <- function(x) {x ** 2 * 0.75 * (x ** 2 + 1)}"
   ]
  },
  {
   "cell_type": "markdown",
   "metadata": {},
   "source": [
    "#### (a)\n",
    "\n",
    "The probability $P(X \\leq x) = F(x)$ for a continuous random variable is\n",
    "\n",
    "$$\n",
    "F(x) = \\int_{a}^{x} f(x) \\> dx.\n",
    "$$\n",
    "\n",
    "So $P(X < 1/5) = F(1/5) = \\cdots$"
   ]
  },
  {
   "cell_type": "code",
   "execution_count": 5,
   "metadata": {},
   "outputs": [
    {
     "data": {
      "text/html": [
       "0.152"
      ],
      "text/latex": [
       "0.152"
      ],
      "text/markdown": [
       "0.152"
      ],
      "text/plain": [
       "[1] 0.152"
      ]
     },
     "metadata": {},
     "output_type": "display_data"
    }
   ],
   "source": [
    "integrate(f = f, lower = 0, upper = 1/5)[[1]]"
   ]
  },
  {
   "cell_type": "markdown",
   "metadata": {},
   "source": [
    "#### (b)\n",
    "\n",
    "The probability $P(X > x) = P(X \\geq x)$ for a continuous random variable is\n",
    "\n",
    "$$\n",
    "P(X \\geq x_{1}) = \\int_{x}^{b} f(x) \\> dx.\n",
    "$$\n",
    "\n",
    "So $P(X > 3/8) = \\cdots$"
   ]
  },
  {
   "cell_type": "code",
   "execution_count": 6,
   "metadata": {},
   "outputs": [
    {
     "data": {
      "text/html": [
       "0.70556640625"
      ],
      "text/latex": [
       "0.70556640625"
      ],
      "text/markdown": [
       "0.70556640625"
      ],
      "text/plain": [
       "[1] 0.7055664"
      ]
     },
     "metadata": {},
     "output_type": "display_data"
    }
   ],
   "source": [
    "integrate(f = f, lower = 3/8, upper = 1)[[1]]"
   ]
  },
  {
   "cell_type": "markdown",
   "metadata": {},
   "source": [
    "#### (c)\n",
    "\n",
    "The probability $P(x_{1} \\leq X \\leq x_{2})$ for a continuous random variable is\n",
    "\n",
    "$$\n",
    "P(x_{1} \\leq X x_{2})\n",
    "  = \\int_{x_{1}}^{x_{2}} f(x) \\> dx.\n",
    "$$\n",
    "\n",
    "So $P(1/4 \\leq X \\leq 1/2) = \\ldots$"
   ]
  },
  {
   "cell_type": "code",
   "execution_count": 7,
   "metadata": {},
   "outputs": [
    {
     "data": {
      "text/html": [
       "0.21484375"
      ],
      "text/latex": [
       "0.21484375"
      ],
      "text/markdown": [
       "0.21484375"
      ],
      "text/plain": [
       "[1] 0.2148438"
      ]
     },
     "metadata": {},
     "output_type": "display_data"
    }
   ],
   "source": [
    "integrate(f = f, lower = 1/4, upper = 1/2)[[1]]"
   ]
  },
  {
   "cell_type": "markdown",
   "metadata": {},
   "source": [
    "#### (d)\n",
    "\n",
    "The expected value of a continuous random variable with p.d.f. $f(x)$ is\n",
    "\n",
    "$$\n",
    "E(X) = \\mu = \\int_{a}^{b} x \\> f(x) \\> dx.\n",
    "$$"
   ]
  },
  {
   "cell_type": "code",
   "execution_count": 10,
   "metadata": {},
   "outputs": [
    {
     "data": {
      "text/html": [
       "0.5625"
      ],
      "text/latex": [
       "0.5625"
      ],
      "text/markdown": [
       "0.5625"
      ],
      "text/plain": [
       "[1] 0.5625"
      ]
     },
     "metadata": {},
     "output_type": "display_data"
    }
   ],
   "source": [
    "mu <- integrate(f = xf, lower = 0, upper = 1)[[1]]\n",
    "mu"
   ]
  },
  {
   "cell_type": "markdown",
   "metadata": {},
   "source": [
    "#### (e)\n",
    "\n",
    "The variance of a p.d.f. of a continuous random variable with p.d.f. $f(x)$ is\n",
    "\n",
    "$$\n",
    "V(X) = E(X^{2}) - E(X)^{2}\n",
    "= \\bigg\\{\\int_{a}^{b} x^{2} \\> f(x) \\> dx \\bigg\\} - \\mu^{2}.\n",
    "$$"
   ]
  },
  {
   "cell_type": "code",
   "execution_count": 11,
   "metadata": {},
   "outputs": [
    {
     "data": {
      "text/html": [
       "0.0835937500000001"
      ],
      "text/latex": [
       "0.0835937500000001"
      ],
      "text/markdown": [
       "0.0835937500000001"
      ],
      "text/plain": [
       "[1] 0.08359375"
      ]
     },
     "metadata": {},
     "output_type": "display_data"
    }
   ],
   "source": [
    "integrate(f = x2f, lower = 0, upper = 1)[[1]] - mu ** 2"
   ]
  },
  {
   "cell_type": "markdown",
   "metadata": {},
   "source": [
    "### Example 1.1.2\n",
    "\n",
    "Suppose that a continuous variable $X$ has range $(-1,1)$. The following is a function $f(x)$ of $x$:\n",
    "\n",
    "$$f(x) = 1 - x^{2}.$$\n",
    "\n",
    "Is $f(x)$ a valid p.d.f. for $X$?"
   ]
  },
  {
   "cell_type": "code",
   "execution_count": 12,
   "metadata": {},
   "outputs": [],
   "source": [
    "f <- function(x) {1 - x ** 2}"
   ]
  },
  {
   "cell_type": "markdown",
   "metadata": {},
   "source": [
    "Check the properties of a valid p.d.f.\n",
    "\n",
    "(1) $\\int f(x) = 1$\n",
    "\n",
    "(2) $f(x) > 0$"
   ]
  },
  {
   "cell_type": "code",
   "execution_count": 14,
   "metadata": {},
   "outputs": [
    {
     "data": {
      "text/html": [
       "1.33333333333333"
      ],
      "text/latex": [
       "1.33333333333333"
      ],
      "text/markdown": [
       "1.33333333333333"
      ],
      "text/plain": [
       "[1] 1.333333"
      ]
     },
     "metadata": {},
     "output_type": "display_data"
    }
   ],
   "source": [
    "integrate(f = f, lower = -1, upper = 1)[[1]]"
   ]
  },
  {
   "cell_type": "markdown",
   "metadata": {},
   "source": [
    "Therefore $f(x)$ is not a valid p.d.f.\n",
    "But does a normalising constant, $k$, exist, such that $k \\> f(x)$ would be a valid p.d.f.?\n",
    "\n",
    "$$\n",
    "\\begin{aligned}\n",
    "    1 = \\int_{-1}^{1} k \\> (1 - x^{2}) \\> dx &= k \\int_{-1}^{1} (1 - x^{2}) \\> dx \\\\\n",
    "      &= k \\bigg( \\frac{4}{3} \\bigg) \\\\\n",
    "    k &= \\frac{3}{4}.\n",
    "\\end{aligned}\n",
    "$$\n",
    "\n",
    "Hence, $f(x)$ is not a valid p.d.f., but $\\frac{3}{4} f(x)$ is valid."
   ]
  },
  {
   "cell_type": "markdown",
   "metadata": {},
   "source": [
    "#### Example 1.1.3\n",
    "\n",
    "Suppose that a continuous variable $X$ can only take values in the range $0$ to $1$. The following is a function $f(x)$ of $x$:\n",
    "\n",
    "$$f(x) = \\frac{3}{4} (x^{2} + 1), \\hspace{3mm} x \\in (0,1).$$\n",
    "\n",
    "What is the c.d.f. associated with $X$?\n",
    "\n",
    "The c.d.f. for a continuous random variable with p.d.f. $f(y)$  is\n",
    "\n",
    "$$\n",
    "F(x) = \\int_{a}^{x} f(y) \\> dy.\n",
    "$$\n",
    "\n",
    "Therefore for the p.d.f. in question\n",
    "\n",
    "$$\n",
    "\\begin{aligned}\n",
    "F(x) = \\int_{0}^{x} \\frac{3}{4} (x^{2} + 1) \\> dy &= \\frac{3}{4} \\int_{0}^{x} (x^{2} + 1) \\> dy \\\\\n",
    "  &= \\frac{3}{4} \\bigg[ \\frac{1}{3} y^{3} + y \\bigg]_{0}^{x} \\\\\n",
    "  &= \\frac{3}{4} \\bigg\\{ \\frac{1}{3} x^{3} + x - \\bigg( 0 + 0 \\bigg) \\bigg\\} \\\\\n",
    "  &= \\frac{1}{4} ( x^{3} + 3x ).\n",
    "\\end{aligned}\n",
    "$$"
   ]
  },
  {
   "cell_type": "markdown",
   "metadata": {},
   "source": [
    "## 2 Probability mass function of a discrete random variable\n",
    "\n",
    "-----"
   ]
  },
  {
   "cell_type": "markdown",
   "metadata": {},
   "source": [
    "### Example 1.2.1\n",
    "\n",
    "The random variable $X$ has a range $\\{1, 2, 3, 4, 5\\}$.\n",
    "**Table 1** shows a function $p(x)$ of $X$.\n",
    "\n",
    "| $x$    | 1    | 2    | 3    | 4    | 5    |\n",
    "|--------|------|------|------|------|------|\n",
    "| $p(x)$ | 0.30 | 0.25 | 0.10 | 0.20 | 0.15 |\n",
    "\n",
    "**(a)** Confirm $p(x)$ a valid p.m.f. for $X$\n",
    "\n",
    "Calculate the following:\n",
    "\n",
    "**(b)** $P(X = 3)$\n",
    "\n",
    "**(c)** $P(X > 2)$\n",
    "\n",
    "**(d)** $E(X)$\n",
    "\n",
    "**(e)** $V(X)$ "
   ]
  },
  {
   "cell_type": "code",
   "execution_count": 3,
   "metadata": {},
   "outputs": [],
   "source": [
    "# declare list for x\n",
    "x <- c(1, 2, 3, 4, 5)"
   ]
  },
  {
   "cell_type": "code",
   "execution_count": 4,
   "metadata": {},
   "outputs": [],
   "source": [
    "# declare list for p\n",
    "p <- c(0.3, 0.25, 0.1, 0.2, 0.15)"
   ]
  },
  {
   "cell_type": "markdown",
   "metadata": {},
   "source": [
    "#### (b)\n",
    "\n",
    "Check the properties of a valid p.m.f.\n",
    "\n",
    "(1) $\\sum_{x} p(x) = 1$\n",
    "\n",
    "(2) $p(x) > 0$"
   ]
  },
  {
   "cell_type": "code",
   "execution_count": 20,
   "metadata": {},
   "outputs": [
    {
     "data": {
      "text/html": [
       "TRUE"
      ],
      "text/latex": [
       "TRUE"
      ],
      "text/markdown": [
       "TRUE"
      ],
      "text/plain": [
       "[1] TRUE"
      ]
     },
     "metadata": {},
     "output_type": "display_data"
    }
   ],
   "source": [
    "# property 1.\n",
    "check_sum_equals_one(p)"
   ]
  },
  {
   "cell_type": "code",
   "execution_count": 21,
   "metadata": {},
   "outputs": [
    {
     "data": {
      "text/html": [
       "TRUE"
      ],
      "text/latex": [
       "TRUE"
      ],
      "text/markdown": [
       "TRUE"
      ],
      "text/plain": [
       "[1] TRUE"
      ]
     },
     "metadata": {},
     "output_type": "display_data"
    }
   ],
   "source": [
    "# propery 2\n",
    "check_all_positive(p)"
   ]
  },
  {
   "cell_type": "markdown",
   "metadata": {},
   "source": [
    "As both tests return `True`, $p(x)$ is a valid p.m.f. for $x$"
   ]
  },
  {
   "cell_type": "markdown",
   "metadata": {},
   "source": [
    "#### (b)\n",
    "\n",
    "The probability $p(3) = \\cdots$"
   ]
  },
  {
   "cell_type": "code",
   "execution_count": 26,
   "metadata": {},
   "outputs": [
    {
     "data": {
      "text/html": [
       "0.1"
      ],
      "text/latex": [
       "0.1"
      ],
      "text/markdown": [
       "0.1"
      ],
      "text/plain": [
       "[1] 0.1"
      ]
     },
     "metadata": {},
     "output_type": "display_data"
    }
   ],
   "source": [
    "p[[3]]"
   ]
  },
  {
   "cell_type": "markdown",
   "metadata": {},
   "source": [
    "#### (c)\n",
    "\n",
    "The probability $P(X > 2) = \\cdots$"
   ]
  },
  {
   "cell_type": "code",
   "execution_count": 27,
   "metadata": {},
   "outputs": [
    {
     "data": {
      "text/html": [
       "0.45"
      ],
      "text/latex": [
       "0.45"
      ],
      "text/markdown": [
       "0.45"
      ],
      "text/plain": [
       "[1] 0.45"
      ]
     },
     "metadata": {},
     "output_type": "display_data"
    }
   ],
   "source": [
    "p[[3]] + p[[4]] + p[[5]]"
   ]
  },
  {
   "cell_type": "markdown",
   "metadata": {},
   "source": [
    "#### (d)\n",
    "\n",
    "The expected value of a discrete random variable with p.m.f. $p(x)$ is\n",
    "\n",
    "$$\n",
    "E(X) = \\mu = \\sum x \\> p(x).\n",
    "$$"
   ]
  },
  {
   "cell_type": "code",
   "execution_count": 11,
   "metadata": {},
   "outputs": [
    {
     "data": {
      "text/html": [
       "2.65"
      ],
      "text/latex": [
       "2.65"
      ],
      "text/markdown": [
       "2.65"
      ],
      "text/plain": [
       "[1] 2.65"
      ]
     },
     "metadata": {},
     "output_type": "display_data"
    }
   ],
   "source": [
    "mean_pmf(x, p)"
   ]
  },
  {
   "cell_type": "markdown",
   "metadata": {},
   "source": [
    "#### (e)\n",
    "\n",
    "The variance of a discrete random variable with p.m.f. $p(x)$ is\n",
    "\n",
    "$$\n",
    "V(X) = E[(X - \\mu)^{2}] = \\sum_{x} (x - \\overline{x})^{2} \\> p(x).\n",
    "$$"
   ]
  },
  {
   "cell_type": "code",
   "execution_count": 14,
   "metadata": {},
   "outputs": [
    {
     "data": {
      "text/html": [
       "2.1275"
      ],
      "text/latex": [
       "2.1275"
      ],
      "text/markdown": [
       "2.1275"
      ],
      "text/plain": [
       "[1] 2.1275"
      ]
     },
     "metadata": {},
     "output_type": "display_data"
    }
   ],
   "source": [
    "var_pmf(x, p)"
   ]
  },
  {
   "cell_type": "markdown",
   "metadata": {},
   "source": [
    "### Example 1.2.2 (June 2017)\n",
    "\n",
    "The random variable $X$ has a range $\\{1, 2, 3, 4, 5\\}$.\n",
    "**Table 1** shows a function $p(x)$ of $X$.\n",
    "\n",
    "| $x$    | 1    | 2    | 3    | 4    |\n",
    "|--------|------|------|------|------|\n",
    "| $p(x)$ | 0.20 | 0.15 | 0.30 | 0.35 |\n",
    "\n",
    "**(a)** Confirm $p(x)$ a valid p.m.f. for $X$\n",
    "\n",
    "Calculate the following:\n",
    "\n",
    "**(b)** $P(X = 2)$\n",
    "\n",
    "**(c)** $P(X \\leq 2)$\n",
    "\n",
    "**(d)** $E(X)$\n",
    "\n",
    "**(e)** $V(X)$ "
   ]
  },
  {
   "cell_type": "code",
   "execution_count": 30,
   "metadata": {},
   "outputs": [],
   "source": [
    "# declare list for x\n",
    "x <- c(1, 2, 3, 4)"
   ]
  },
  {
   "cell_type": "code",
   "execution_count": 31,
   "metadata": {},
   "outputs": [],
   "source": [
    "# declare list for p\n",
    "p <- c(0.2, 0.15, 0.30, 0.35)"
   ]
  },
  {
   "cell_type": "markdown",
   "metadata": {},
   "source": [
    "#### (a)\n",
    "\n",
    "Check the properties of a valid p.m.f.\n",
    "\n",
    "(1) $\\sum_{x} x = 1$\n",
    "\n",
    "(2) $p(x) > 0$"
   ]
  },
  {
   "cell_type": "code",
   "execution_count": 22,
   "metadata": {},
   "outputs": [
    {
     "data": {
      "text/html": [
       "TRUE"
      ],
      "text/latex": [
       "TRUE"
      ],
      "text/markdown": [
       "TRUE"
      ],
      "text/plain": [
       "[1] TRUE"
      ]
     },
     "metadata": {},
     "output_type": "display_data"
    }
   ],
   "source": [
    "# property 1.\n",
    "check_sum_equals_one(p)"
   ]
  },
  {
   "cell_type": "code",
   "execution_count": 23,
   "metadata": {},
   "outputs": [
    {
     "data": {
      "text/html": [
       "TRUE"
      ],
      "text/latex": [
       "TRUE"
      ],
      "text/markdown": [
       "TRUE"
      ],
      "text/plain": [
       "[1] TRUE"
      ]
     },
     "metadata": {},
     "output_type": "display_data"
    }
   ],
   "source": [
    "# propery 2\n",
    "check_all_positive(p)"
   ]
  },
  {
   "cell_type": "markdown",
   "metadata": {},
   "source": [
    "As both tests return `True`, $p(x)$ is a valid p.m.f. for $x$"
   ]
  },
  {
   "cell_type": "markdown",
   "metadata": {},
   "source": [
    "#### (b)\n",
    "\n",
    "The probability $p(2) = \\cdots$"
   ]
  },
  {
   "cell_type": "code",
   "execution_count": 26,
   "metadata": {},
   "outputs": [
    {
     "data": {
      "text/html": [
       "0.15"
      ],
      "text/latex": [
       "0.15"
      ],
      "text/markdown": [
       "0.15"
      ],
      "text/plain": [
       "[1] 0.15"
      ]
     },
     "metadata": {},
     "output_type": "display_data"
    }
   ],
   "source": [
    "p[[2]]"
   ]
  },
  {
   "cell_type": "markdown",
   "metadata": {},
   "source": [
    "#### (c)\n",
    "\n",
    "The probability $P(X \\leq 2) = \\cdots$"
   ]
  },
  {
   "cell_type": "code",
   "execution_count": 27,
   "metadata": {},
   "outputs": [
    {
     "data": {
      "text/html": [
       "0.35"
      ],
      "text/latex": [
       "0.35"
      ],
      "text/markdown": [
       "0.35"
      ],
      "text/plain": [
       "[1] 0.35"
      ]
     },
     "metadata": {},
     "output_type": "display_data"
    }
   ],
   "source": [
    "p[[1]] + p[[2]]"
   ]
  },
  {
   "cell_type": "markdown",
   "metadata": {},
   "source": [
    "#### (d)\n",
    "\n",
    "The expected value $E(X) = \\cdots$"
   ]
  },
  {
   "cell_type": "code",
   "execution_count": 32,
   "metadata": {},
   "outputs": [
    {
     "data": {
      "text/html": [
       "2.8"
      ],
      "text/latex": [
       "2.8"
      ],
      "text/markdown": [
       "2.8"
      ],
      "text/plain": [
       "[1] 2.8"
      ]
     },
     "metadata": {},
     "output_type": "display_data"
    }
   ],
   "source": [
    "mean_pmf(x, p)"
   ]
  },
  {
   "cell_type": "markdown",
   "metadata": {},
   "source": [
    "#### (e)\n",
    "\n",
    "The variance $V(X) = \\cdots$"
   ]
  },
  {
   "cell_type": "code",
   "execution_count": 33,
   "metadata": {},
   "outputs": [
    {
     "data": {
      "text/html": [
       "1.26"
      ],
      "text/latex": [
       "1.26"
      ],
      "text/markdown": [
       "1.26"
      ],
      "text/plain": [
       "[1] 1.26"
      ]
     },
     "metadata": {},
     "output_type": "display_data"
    }
   ],
   "source": [
    "var_pmf(x, p)"
   ]
  }
 ],
 "metadata": {
  "kernelspec": {
   "display_name": "R 4.0.3",
   "language": "R",
   "name": "ir403"
  },
  "language_info": {
   "codemirror_mode": "r",
   "file_extension": ".r",
   "mimetype": "text/x-r-source",
   "name": "R",
   "pygments_lexer": "r",
   "version": "4.0.3"
  }
 },
 "nbformat": 4,
 "nbformat_minor": 4
}
