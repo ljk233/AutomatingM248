{
 "cells": [
  {
   "cell_type": "markdown",
   "metadata": {},
   "source": [
    "# A3 Standard continuous distributions"
   ]
  },
  {
   "cell_type": "code",
   "execution_count": 1,
   "metadata": {},
   "outputs": [],
   "source": [
    "from scipy import stats"
   ]
  },
  {
   "cell_type": "markdown",
   "metadata": {},
   "source": [
    "## 1 Continuous uniform distribution"
   ]
  },
  {
   "cell_type": "markdown",
   "metadata": {},
   "source": [
    "#### Example 3.1.1\n",
    "\n",
    "Suppose that a continuous random variable $X$ has a continuous uniform distribution with range $(16, 50)$.\n",
    "\n",
    "Calculate\n",
    "\n",
    "**(a)** $P(X \\leq 32)$\n",
    "\n",
    "**(b)** $P(X \\geq 24)$\n",
    "\n",
    "**(c)**  $P(19 \\leq X \\leq 39)$\n",
    "\n",
    "**(d)** $E(X)$\n",
    "\n",
    "**(e)** $V(X)$"
   ]
  },
  {
   "cell_type": "markdown",
   "metadata": {},
   "source": [
    "#### Declare the parameters"
   ]
  },
  {
   "cell_type": "code",
   "execution_count": 1,
   "metadata": {},
   "outputs": [],
   "source": [
    "a <- 16"
   ]
  },
  {
   "cell_type": "code",
   "execution_count": 2,
   "metadata": {},
   "outputs": [],
   "source": [
    "b <- 50"
   ]
  },
  {
   "cell_type": "markdown",
   "metadata": {},
   "source": [
    "#### (a)\n",
    "\n",
    "The probability $P(X \\leq x) = F(x)$ for a **continuous uniform distribution** is \n",
    "\n",
    "$$\n",
    "F(x) = \\frac{x-a}{b-a}.\n",
    "$$\n",
    "\n",
    "So the probability $P(X \\leq 32) = F(32) = \\cdots$"
   ]
  },
  {
   "cell_type": "code",
   "execution_count": 3,
   "metadata": {},
   "outputs": [
    {
     "data": {
      "text/html": [
       "0.470588235294118"
      ],
      "text/latex": [
       "0.470588235294118"
      ],
      "text/markdown": [
       "0.470588235294118"
      ],
      "text/plain": [
       "[1] 0.4705882"
      ]
     },
     "metadata": {},
     "output_type": "display_data"
    }
   ],
   "source": [
    "punif(q = 32, min = a, max = b)"
   ]
  },
  {
   "cell_type": "markdown",
   "metadata": {},
   "source": [
    "#### (b)\n",
    "\n",
    "The probability $P(X \\geq 24) = 1 - F(24) = \\cdots$"
   ]
  },
  {
   "cell_type": "code",
   "execution_count": 4,
   "metadata": {},
   "outputs": [
    {
     "data": {
      "text/html": [
       "0.764705882352941"
      ],
      "text/latex": [
       "0.764705882352941"
      ],
      "text/markdown": [
       "0.764705882352941"
      ],
      "text/plain": [
       "[1] 0.7647059"
      ]
     },
     "metadata": {},
     "output_type": "display_data"
    }
   ],
   "source": [
    "punif(q = 24, min = a, max = b, lower.tail = FALSE)"
   ]
  },
  {
   "cell_type": "markdown",
   "metadata": {},
   "source": [
    "#### (c)\n",
    "\n",
    "The probability $P(19 \\leq X \\leq 39) = F(39) - F(19) = \\cdots$"
   ]
  },
  {
   "cell_type": "code",
   "execution_count": 5,
   "metadata": {},
   "outputs": [
    {
     "data": {
      "text/html": [
       "0.588235294117647"
      ],
      "text/latex": [
       "0.588235294117647"
      ],
      "text/markdown": [
       "0.588235294117647"
      ],
      "text/plain": [
       "[1] 0.5882353"
      ]
     },
     "metadata": {},
     "output_type": "display_data"
    }
   ],
   "source": [
    "punif(q = 39, min = a, max = b) - punif(q = 19, min = a, max = b)"
   ]
  },
  {
   "cell_type": "markdown",
   "metadata": {},
   "source": [
    "#### (d)\n",
    "\n",
    "The expected value of a **continuous uniform distribution** is\n",
    "\n",
    "$$\n",
    "E(X) = \\frac{1}{2} (a+b) = \\cdots\n",
    "$$"
   ]
  },
  {
   "cell_type": "code",
   "execution_count": 6,
   "metadata": {},
   "outputs": [
    {
     "data": {
      "text/html": [
       "33"
      ],
      "text/latex": [
       "33"
      ],
      "text/markdown": [
       "33"
      ],
      "text/plain": [
       "[1] 33"
      ]
     },
     "metadata": {},
     "output_type": "display_data"
    }
   ],
   "source": [
    "0.5 * (a + b)"
   ]
  },
  {
   "cell_type": "markdown",
   "metadata": {},
   "source": [
    "#### (e)\n",
    "\n",
    "The variance of a **continuous uniform distribution** is\n",
    "\n",
    "$$\n",
    "V(X) = \\frac{1}{12} (b-a)^{2} = \\cdots\n",
    "$$"
   ]
  },
  {
   "cell_type": "code",
   "execution_count": 7,
   "metadata": {},
   "outputs": [
    {
     "data": {
      "text/html": [
       "96.3333333333333"
      ],
      "text/latex": [
       "96.3333333333333"
      ],
      "text/markdown": [
       "96.3333333333333"
      ],
      "text/plain": [
       "[1] 96.33333"
      ]
     },
     "metadata": {},
     "output_type": "display_data"
    }
   ],
   "source": [
    "(1/12) * (b-a) ** 2"
   ]
  },
  {
   "cell_type": "markdown",
   "metadata": {},
   "source": [
    "## 2 Exponential distribution"
   ]
  },
  {
   "cell_type": "markdown",
   "metadata": {},
   "source": [
    "### Example 3.2.1\n",
    "\n",
    "Suppose that a continuous random variable $X$ is distributed $X \\sim M(0.1)$.\n",
    "\n",
    "Calculate\n",
    "\n",
    "**(a)** $P(X \\leq 3)$\n",
    "\n",
    "**(b)** $P(X \\geq 6)$\n",
    "\n",
    "**(c)** $P(5 \\leq X \\leq 10)$\n",
    "\n",
    "Note, the mean and variance of an exponential distribution with parameter $\\lambda$ are\n",
    "\n",
    "$$E(X) = \\frac{1}{\\lambda}; \\text{ and } V(X) = \\frac{1}{\\lambda^{2}}.$$"
   ]
  },
  {
   "cell_type": "markdown",
   "metadata": {},
   "source": [
    "#### Declare the parameter"
   ]
  },
  {
   "cell_type": "code",
   "execution_count": 8,
   "metadata": {},
   "outputs": [],
   "source": [
    "r <- 0.1"
   ]
  },
  {
   "cell_type": "markdown",
   "metadata": {},
   "source": [
    "#### (a)\n",
    "\n",
    "The probability $P(X \\leq x) = F(x)$ for an **exponential distribution** is \n",
    "\n",
    "$$\n",
    "F(x) = 1 - e^{-\\lambda x}.\n",
    "$$\n",
    "\n",
    "So the probability $P(X \\leq 3) = F(3) = \\cdots$"
   ]
  },
  {
   "cell_type": "code",
   "execution_count": 9,
   "metadata": {},
   "outputs": [
    {
     "data": {
      "text/html": [
       "0.259181779318282"
      ],
      "text/latex": [
       "0.259181779318282"
      ],
      "text/markdown": [
       "0.259181779318282"
      ],
      "text/plain": [
       "[1] 0.2591818"
      ]
     },
     "metadata": {},
     "output_type": "display_data"
    }
   ],
   "source": [
    "pexp(q = 3, rate = r)"
   ]
  },
  {
   "cell_type": "markdown",
   "metadata": {},
   "source": [
    "#### (b)\n",
    "\n",
    "The probability $P(X \\geq 6) = 1 - F(6) = \\cdots$"
   ]
  },
  {
   "cell_type": "code",
   "execution_count": 11,
   "metadata": {},
   "outputs": [
    {
     "data": {
      "text/html": [
       "0.548811636094026"
      ],
      "text/latex": [
       "0.548811636094026"
      ],
      "text/markdown": [
       "0.548811636094026"
      ],
      "text/plain": [
       "[1] 0.5488116"
      ]
     },
     "metadata": {},
     "output_type": "display_data"
    }
   ],
   "source": [
    "pexp(q = 6, rate = r, lower.tail = FALSE)"
   ]
  },
  {
   "cell_type": "markdown",
   "metadata": {},
   "source": [
    "#### (c)\n",
    "\n",
    "The probability $P(5 \\leq X \\leq 10) = F(10) - F(5) = \\cdots$"
   ]
  },
  {
   "cell_type": "code",
   "execution_count": 12,
   "metadata": {},
   "outputs": [
    {
     "data": {
      "text/html": [
       "0.238651218541191"
      ],
      "text/latex": [
       "0.238651218541191"
      ],
      "text/markdown": [
       "0.238651218541191"
      ],
      "text/plain": [
       "[1] 0.2386512"
      ]
     },
     "metadata": {},
     "output_type": "display_data"
    }
   ],
   "source": [
    "pexp(q = 10, rate = r) - pexp(q = 5, rate = r)"
   ]
  }
 ],
 "metadata": {
  "kernelspec": {
   "display_name": "R 4.0.3",
   "language": "R",
   "name": "ir403"
  },
  "language_info": {
   "codemirror_mode": "r",
   "file_extension": ".r",
   "mimetype": "text/x-r-source",
   "name": "R",
   "pygments_lexer": "r",
   "version": "4.0.3"
  }
 },
 "nbformat": 4,
 "nbformat_minor": 4
}
