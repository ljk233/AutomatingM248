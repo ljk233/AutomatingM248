{
 "cells": [
  {
   "cell_type": "markdown",
   "metadata": {},
   "source": [
    "# A2 Standard discrete distributions"
   ]
  },
  {
   "cell_type": "markdown",
   "metadata": {},
   "source": [
    "## 1 Binomial distribution"
   ]
  },
  {
   "cell_type": "markdown",
   "metadata": {},
   "source": [
    "### Example 2.1.1\n",
    "\n",
    "Suppose that a discrete random variable $X$ is distributed $X \\sim B(15, 0.25)$.\n",
    "\n",
    "Calculate\n",
    "\n",
    "**(a)** $P(X = 5)$\n",
    "\n",
    "**(b)** $P(X \\leq 7)$\n",
    "\n",
    "**(c)** $P(2 \\leq X <9)$\n",
    "\n",
    "**(d)** $E(X)$\n",
    "\n",
    "**(e)** $S(X)$"
   ]
  },
  {
   "cell_type": "markdown",
   "metadata": {},
   "source": [
    "#### Declare the parameters"
   ]
  },
  {
   "cell_type": "code",
   "execution_count": 1,
   "metadata": {},
   "outputs": [],
   "source": [
    "n <- 15"
   ]
  },
  {
   "cell_type": "code",
   "execution_count": 2,
   "metadata": {},
   "outputs": [],
   "source": [
    "p <- 0.25"
   ]
  },
  {
   "cell_type": "markdown",
   "metadata": {},
   "source": [
    "#### (a)\n",
    "\n",
    "The p.m.f. for a **binomial distribution** is\n",
    "\n",
    "$$\n",
    "p(x) = \\binom{n}{x} p^{x} (1-p)^{n-x}.\n",
    "$$\n",
    "\n",
    "So the probability $P(X=5) = p(5) = \\cdots$"
   ]
  },
  {
   "cell_type": "code",
   "execution_count": 3,
   "metadata": {},
   "outputs": [
    {
     "data": {
      "text/html": [
       "0.165145981125534"
      ],
      "text/latex": [
       "0.165145981125534"
      ],
      "text/markdown": [
       "0.165145981125534"
      ],
      "text/plain": [
       "[1] 0.165146"
      ]
     },
     "metadata": {},
     "output_type": "display_data"
    }
   ],
   "source": [
    "dbinom(x = 5, size = n, p = p)"
   ]
  },
  {
   "cell_type": "markdown",
   "metadata": {},
   "source": [
    "#### (b) The probability $P(X \\leq x) = F(x)$ for a **binomial distribution** is \n",
    "\n",
    "$$\n",
    "F(x) = \\sum_{k=x} \\binom{n}{k} p^{k} (1-p)^{n-k}.\n",
    "$$\n",
    "\n",
    "So the probability $P(X \\leq 7) = F(7) = \\cdots$"
   ]
  },
  {
   "cell_type": "code",
   "execution_count": 4,
   "metadata": {},
   "outputs": [
    {
     "data": {
      "text/html": [
       "0.982700161635876"
      ],
      "text/latex": [
       "0.982700161635876"
      ],
      "text/markdown": [
       "0.982700161635876"
      ],
      "text/plain": [
       "[1] 0.9827002"
      ]
     },
     "metadata": {},
     "output_type": "display_data"
    }
   ],
   "source": [
    "pbinom(q = 7, size = n, p = p)"
   ]
  },
  {
   "cell_type": "markdown",
   "metadata": {},
   "source": [
    "#### (c)\n",
    "\n",
    "The probability $P(2 \\leq X < 9) = F(8) - F(2) = \\cdots$"
   ]
  },
  {
   "cell_type": "code",
   "execution_count": 5,
   "metadata": {},
   "outputs": [
    {
     "data": {
      "text/html": [
       "0.759719174355268"
      ],
      "text/latex": [
       "0.759719174355268"
      ],
      "text/markdown": [
       "0.759719174355268"
      ],
      "text/plain": [
       "[1] 0.7597192"
      ]
     },
     "metadata": {},
     "output_type": "display_data"
    }
   ],
   "source": [
    "pbinom(q = 8, size = n, p = p) - pbinom(q = 2, size = n, p = p)"
   ]
  },
  {
   "cell_type": "markdown",
   "metadata": {},
   "source": [
    "#### (d)\n",
    "\n",
    "The expected value of a **binomial distribution** is\n",
    "\n",
    "$$\n",
    "E(X) = np = \\cdots\n",
    "$$"
   ]
  },
  {
   "cell_type": "code",
   "execution_count": 6,
   "metadata": {},
   "outputs": [
    {
     "data": {
      "text/html": [
       "3.75"
      ],
      "text/latex": [
       "3.75"
      ],
      "text/markdown": [
       "3.75"
      ],
      "text/plain": [
       "[1] 3.75"
      ]
     },
     "metadata": {},
     "output_type": "display_data"
    }
   ],
   "source": [
    "n * p"
   ]
  },
  {
   "cell_type": "markdown",
   "metadata": {},
   "source": [
    "#### (e)\n",
    "\n",
    "The standard deviation of a **binomial distribution** is\n",
    "\n",
    "$$\n",
    "S(X) = \\sqrt{V(X)} = \\sqrt{np(1-p)} = \\cdots\n",
    "$$"
   ]
  },
  {
   "cell_type": "code",
   "execution_count": 8,
   "metadata": {},
   "outputs": [
    {
     "data": {
      "text/html": [
       "1.67705098312484"
      ],
      "text/latex": [
       "1.67705098312484"
      ],
      "text/markdown": [
       "1.67705098312484"
      ],
      "text/plain": [
       "[1] 1.677051"
      ]
     },
     "metadata": {},
     "output_type": "display_data"
    }
   ],
   "source": [
    "(n*p*(1-p)) ** (1/2)"
   ]
  },
  {
   "cell_type": "markdown",
   "metadata": {},
   "source": [
    "## 2 Discrete uniform distribution"
   ]
  },
  {
   "cell_type": "markdown",
   "metadata": {},
   "source": [
    "### Example 2.2.1\n",
    "\n",
    "Suppose that $X$ has a discrete uniform distribution, where the range of $X$ is $101, 102, \\ldots, 500$.\n",
    "\n",
    "Calculate\n",
    "\n",
    "**(a)** $P(X = 109)$\n",
    "\n",
    "**(b)** $P(X > 246)$\n",
    "\n",
    "**(c)** $P(361 < X < 420)$\n",
    "\n",
    "**(d)** $E(X)$\n",
    "\n",
    "**(e)** $S(X)$"
   ]
  },
  {
   "cell_type": "markdown",
   "metadata": {},
   "source": [
    "#### Declare the parameters"
   ]
  },
  {
   "cell_type": "code",
   "execution_count": 10,
   "metadata": {},
   "outputs": [],
   "source": [
    "# import extraDistr to access discrete uniform\n",
    "library(extraDistr)"
   ]
  },
  {
   "cell_type": "code",
   "execution_count": 12,
   "metadata": {},
   "outputs": [],
   "source": [
    "m <- 101"
   ]
  },
  {
   "cell_type": "code",
   "execution_count": 13,
   "metadata": {},
   "outputs": [],
   "source": [
    "n <- 500"
   ]
  },
  {
   "cell_type": "markdown",
   "metadata": {},
   "source": [
    "#### (a)\n",
    "\n",
    "The p.m.f. for a **discrete uniform distribution** is\n",
    "\n",
    "$$\n",
    "p(x) = \\frac{1}{n - m + 1}.\n",
    "$$\n",
    "\n",
    "So $P(X=109) = p(109) = \\cdots$"
   ]
  },
  {
   "cell_type": "code",
   "execution_count": 14,
   "metadata": {},
   "outputs": [
    {
     "data": {
      "text/html": [
       "0.0025"
      ],
      "text/latex": [
       "0.0025"
      ],
      "text/markdown": [
       "0.0025"
      ],
      "text/plain": [
       "[1] 0.0025"
      ]
     },
     "metadata": {},
     "output_type": "display_data"
    }
   ],
   "source": [
    "ddunif(x = 109, min = m, max = n)"
   ]
  },
  {
   "cell_type": "markdown",
   "metadata": {},
   "source": [
    "#### (b)\n",
    "\n",
    "The probability $P(X \\leq x) = F(x)$ for a **discrete uniform distribution** is \n",
    "\n",
    "$$\n",
    "F(x) = \\frac{x-m+1}{n-m+1}.\n",
    "$$\n",
    "\n",
    "So the probability $P(X > 246) = 1 - F(245) = \\cdots$"
   ]
  },
  {
   "cell_type": "code",
   "execution_count": 17,
   "metadata": {},
   "outputs": [
    {
     "data": {
      "text/html": [
       "0.6375"
      ],
      "text/latex": [
       "0.6375"
      ],
      "text/markdown": [
       "0.6375"
      ],
      "text/plain": [
       "[1] 0.6375"
      ]
     },
     "metadata": {},
     "output_type": "display_data"
    }
   ],
   "source": [
    "1 - pdunif(q = 245, min = m, max = n)"
   ]
  },
  {
   "cell_type": "markdown",
   "metadata": {},
   "source": [
    "#### (c)\n",
    "\n",
    "The probability $P(361 < X < 420) = F(419) - F(361) = \\cdots$"
   ]
  },
  {
   "cell_type": "code",
   "execution_count": 18,
   "metadata": {},
   "outputs": [
    {
     "data": {
      "text/html": [
       "0.145"
      ],
      "text/latex": [
       "0.145"
      ],
      "text/markdown": [
       "0.145"
      ],
      "text/plain": [
       "[1] 0.145"
      ]
     },
     "metadata": {},
     "output_type": "display_data"
    }
   ],
   "source": [
    "pdunif(q = 419, min = m, max = n) - pdunif(q = 361, min = m, max = n)"
   ]
  },
  {
   "cell_type": "markdown",
   "metadata": {},
   "source": [
    "#### (d)\n",
    "\n",
    "The expected value of a **discrete uniform distribution** is\n",
    "\n",
    "$$\n",
    "E(X) = \\frac{n+m}{2} = \\cdots\n",
    "$$"
   ]
  },
  {
   "cell_type": "code",
   "execution_count": 19,
   "metadata": {},
   "outputs": [
    {
     "data": {
      "text/html": [
       "300.5"
      ],
      "text/latex": [
       "300.5"
      ],
      "text/markdown": [
       "300.5"
      ],
      "text/plain": [
       "[1] 300.5"
      ]
     },
     "metadata": {},
     "output_type": "display_data"
    }
   ],
   "source": [
    "0.5 * (n + m)"
   ]
  },
  {
   "cell_type": "markdown",
   "metadata": {},
   "source": [
    "#### (e)\n",
    "\n",
    "The variance of a **discrete distribution** is\n",
    "\n",
    "$$\n",
    "V(X) = \\frac{1}{12} \\> (n-m)(n-m+2) = \\cdots\n",
    "$$"
   ]
  },
  {
   "cell_type": "code",
   "execution_count": 20,
   "metadata": {},
   "outputs": [
    {
     "data": {
      "text/html": [
       "13333.25"
      ],
      "text/latex": [
       "13333.25"
      ],
      "text/markdown": [
       "13333.25"
      ],
      "text/plain": [
       "[1] 13333.25"
      ]
     },
     "metadata": {},
     "output_type": "display_data"
    }
   ],
   "source": [
    "(1/12) * (n - m) * ( n - m + 2)"
   ]
  },
  {
   "cell_type": "markdown",
   "metadata": {},
   "source": [
    "### 3 Geometric distribution"
   ]
  },
  {
   "cell_type": "markdown",
   "metadata": {},
   "source": [
    "### Example 2.3.1\n",
    "\n",
    "Suppose that a discrete random variable $X$ is distributed $X \\sim G(0.36)$.\n",
    "\n",
    "Calculate\n",
    "\n",
    "**(a)** $P(X = 3)$\n",
    "\n",
    "**(b)** $P(X \\leq 4)$\n",
    "\n",
    "**(c)** $P(1 < X < 5)$\n",
    "\n",
    "**(d)** $E(X)$\n",
    "\n",
    "**(e)** $V(X)$"
   ]
  },
  {
   "cell_type": "markdown",
   "metadata": {},
   "source": [
    "#### Declare the parameters"
   ]
  },
  {
   "cell_type": "code",
   "execution_count": 23,
   "metadata": {},
   "outputs": [],
   "source": [
    "p <- 0.36"
   ]
  },
  {
   "cell_type": "markdown",
   "metadata": {},
   "source": [
    "#### (a)\n",
    "\n",
    "The p.m.f. for a **geometric distribution** is\n",
    "\n",
    "$$\n",
    "p(x) = (1 - p)^{x} \\> p.\n",
    "$$\n",
    "\n",
    "So the probability $P(X=3) = p(3) = \\cdots$"
   ]
  },
  {
   "cell_type": "code",
   "execution_count": 25,
   "metadata": {},
   "outputs": [
    {
     "data": {
      "text/html": [
       "0.147456"
      ],
      "text/latex": [
       "0.147456"
      ],
      "text/markdown": [
       "0.147456"
      ],
      "text/plain": [
       "[1] 0.147456"
      ]
     },
     "metadata": {},
     "output_type": "display_data"
    }
   ],
   "source": [
    "# set x to (x-1)\n",
    "dgeom(x = 2 , prob = p)"
   ]
  },
  {
   "cell_type": "markdown",
   "metadata": {},
   "source": [
    "#### (b)\n",
    "\n",
    "The probability $P(X \\leq x) = F(x)$ for a **geometric distribution** is \n",
    "\n",
    "$$\n",
    "F(x) = 1 - (1-p)^{x}.\n",
    "$$\n",
    "\n",
    "So the probability $P(X \\leq 4) = F(4) = \\cdots$"
   ]
  },
  {
   "cell_type": "code",
   "execution_count": 26,
   "metadata": {},
   "outputs": [
    {
     "data": {
      "text/html": [
       "0.83222784"
      ],
      "text/latex": [
       "0.83222784"
      ],
      "text/markdown": [
       "0.83222784"
      ],
      "text/plain": [
       "[1] 0.8322278"
      ]
     },
     "metadata": {},
     "output_type": "display_data"
    }
   ],
   "source": [
    "# set q to (x-1)\n",
    "pgeom(q = 3, prob = p)"
   ]
  },
  {
   "cell_type": "markdown",
   "metadata": {},
   "source": [
    "#### (c)\n",
    "\n",
    "The probability $P(1 < X < 5) = F(4) - F(2) = \\cdots$"
   ]
  },
  {
   "cell_type": "code",
   "execution_count": 29,
   "metadata": {},
   "outputs": [
    {
     "data": {
      "text/html": [
       "0.24182784"
      ],
      "text/latex": [
       "0.24182784"
      ],
      "text/markdown": [
       "0.24182784"
      ],
      "text/plain": [
       "[1] 0.2418278"
      ]
     },
     "metadata": {},
     "output_type": "display_data"
    }
   ],
   "source": [
    "# set q to (x-1)\n",
    "pgeom(q = 3, prob = p) - pgeom(q = 1, prob = p)"
   ]
  },
  {
   "cell_type": "markdown",
   "metadata": {},
   "source": [
    "#### (d)\n",
    "\n",
    "The expected value of a **geometric distribution** is\n",
    "\n",
    "$$\n",
    "E(X) = \\frac{1}{p} = \\cdots\n",
    "$$"
   ]
  },
  {
   "cell_type": "code",
   "execution_count": 30,
   "metadata": {},
   "outputs": [
    {
     "data": {
      "text/html": [
       "2.77777777777778"
      ],
      "text/latex": [
       "2.77777777777778"
      ],
      "text/markdown": [
       "2.77777777777778"
      ],
      "text/plain": [
       "[1] 2.777778"
      ]
     },
     "metadata": {},
     "output_type": "display_data"
    }
   ],
   "source": [
    "1 / p"
   ]
  },
  {
   "cell_type": "markdown",
   "metadata": {},
   "source": [
    "#### (e)\n",
    "\n",
    "The variance of a **geometric distribution** is\n",
    "\n",
    "$$\n",
    "V(X) = \\frac{1-p}{p^{2}} = \\cdots\n",
    "$$"
   ]
  },
  {
   "cell_type": "code",
   "execution_count": 31,
   "metadata": {},
   "outputs": [
    {
     "data": {
      "text/html": [
       "4.93827160493827"
      ],
      "text/latex": [
       "4.93827160493827"
      ],
      "text/markdown": [
       "4.93827160493827"
      ],
      "text/plain": [
       "[1] 4.938272"
      ]
     },
     "metadata": {},
     "output_type": "display_data"
    }
   ],
   "source": [
    "(1 - p) / p ** 2"
   ]
  },
  {
   "cell_type": "markdown",
   "metadata": {},
   "source": [
    "### 4 Poisson distribution"
   ]
  },
  {
   "cell_type": "markdown",
   "metadata": {},
   "source": [
    "### Example 2.4.1\n",
    "\n",
    "Suppose that a discrete random variable $X$ is distributed $X \\sim \\text{Poisson}(3.3)$.\n",
    "\n",
    "Calculate\n",
    "\n",
    "**(a)** $P(X = 5)$\n",
    "\n",
    "**(b)** $P(X \\leq 2)$\n",
    "\n",
    "**(c)** $P(X > 4)$\n",
    "\n",
    "Note, the mean and variance of a Poisson distribution with parameter $\\lambda$ are\n",
    "\n",
    "$$E(X) = \\lambda; \\text{ and } \\hspace{2mm} V(X) = \\lambda$$"
   ]
  },
  {
   "cell_type": "markdown",
   "metadata": {},
   "source": [
    "#### Declare the parameters"
   ]
  },
  {
   "cell_type": "code",
   "execution_count": 32,
   "metadata": {},
   "outputs": [],
   "source": [
    "mu <- 3.3"
   ]
  },
  {
   "cell_type": "markdown",
   "metadata": {},
   "source": [
    "#### (a)\n",
    "\n",
    "The p.m.f. of a **Poisson distribution** is\n",
    "\n",
    "$$\n",
    "p(x) = e^{-\\lambda} \\bigg( \\frac{\\lambda^{x}}{x!} \\bigg)\n",
    "$$\n",
    "\n",
    "So the probability $P(X=5) = p(5) = \\cdots$"
   ]
  },
  {
   "cell_type": "code",
   "execution_count": 33,
   "metadata": {},
   "outputs": [
    {
     "data": {
      "text/html": [
       "0.120286437611026"
      ],
      "text/latex": [
       "0.120286437611026"
      ],
      "text/markdown": [
       "0.120286437611026"
      ],
      "text/plain": [
       "[1] 0.1202864"
      ]
     },
     "metadata": {},
     "output_type": "display_data"
    }
   ],
   "source": [
    "dpois(x = 5, lambda = mu)"
   ]
  },
  {
   "cell_type": "markdown",
   "metadata": {},
   "source": [
    "#### (b)\n",
    "\n",
    "The probability $P(X \\leq x) = F(x)$ of a **Poisson distribution** is \n",
    "\n",
    "$$\n",
    "F(x) = e^{-\\lambda} \\sum_{x} \\frac{\\lambda^{x}}{x!}.\n",
    "$$\n",
    "\n",
    "So the probability $P(X \\leq 2) = F(2) = \\cdots$"
   ]
  },
  {
   "cell_type": "code",
   "execution_count": 35,
   "metadata": {},
   "outputs": [
    {
     "data": {
      "text/html": [
       "0.359426466325084"
      ],
      "text/latex": [
       "0.359426466325084"
      ],
      "text/markdown": [
       "0.359426466325084"
      ],
      "text/plain": [
       "[1] 0.3594265"
      ]
     },
     "metadata": {},
     "output_type": "display_data"
    }
   ],
   "source": [
    "ppois(q = 2, lambda = mu)"
   ]
  },
  {
   "cell_type": "markdown",
   "metadata": {},
   "source": [
    "#### (c)\n",
    "\n",
    "The probability $P(X > 4) = 1 - F(4) = \\cdots$"
   ]
  },
  {
   "cell_type": "code",
   "execution_count": 36,
   "metadata": {},
   "outputs": [
    {
     "data": {
      "text/html": [
       "0.237409624326664"
      ],
      "text/latex": [
       "0.237409624326664"
      ],
      "text/markdown": [
       "0.237409624326664"
      ],
      "text/plain": [
       "[1] 0.2374096"
      ]
     },
     "metadata": {},
     "output_type": "display_data"
    }
   ],
   "source": [
    "1 - ppois(q = 4, lambda = mu)"
   ]
  },
  {
   "cell_type": "markdown",
   "metadata": {},
   "source": [
    "### 2.4.2 (June 2020)\n",
    "\n",
    "The number of customers arriving at a local sports centre, can be modelled by a Poisson distribution. On average 20 customers use the sports centre each hour and, in a typical hour, 20% of the customers who arrive go for a swim and 15% of the customers who arrive use the gym.\n",
    "\n",
    "It is assumed that the choice of activity for each customer is independent of the choice of activity for any other customer.\n",
    "\n",
    "**(a)** Calculate the probability, that in a typical hour, the first customer who wants a swim is the 8th customer to arrive in that hour.\n",
    "\n",
    "**(b)** Calculate the probability that, in a typical hour, 12 customers will arrive at the sports centre.\n",
    "\n",
    "**(c)** Suppose that in a typical hour 15 customers arrive at the sports centre. Calculate the probability that 3 of these customers will choose to use the gym."
   ]
  },
  {
   "cell_type": "markdown",
   "metadata": {},
   "source": [
    "#### (a)\n",
    "\n",
    "Let the discrete random variable $S$ represent the first customer who arrives at the gym in a given hour who wants to use the swimming pool. Then $G$ is modelled can be modelled by the **geometric distribution**, $G(p)$, where parameter $p=0.2$ is the probability that a customer uses the swimming pool.\n",
    "\n",
    "The probability $P(S=8)$ will be\n",
    "\n",
    "$$\n",
    "P(S=8) = p(8) = (1-p)^{7} \\> p = \\cdots\n",
    "$$"
   ]
  },
  {
   "cell_type": "code",
   "execution_count": 45,
   "metadata": {},
   "outputs": [],
   "source": [
    "# declare the parameter\n",
    "p = 0.2"
   ]
  },
  {
   "cell_type": "code",
   "execution_count": 38,
   "metadata": {},
   "outputs": [
    {
     "data": {
      "text/html": [
       "0.04194304"
      ],
      "text/latex": [
       "0.04194304"
      ],
      "text/markdown": [
       "0.04194304"
      ],
      "text/plain": [
       "[1] 0.04194304"
      ]
     },
     "metadata": {},
     "output_type": "display_data"
    }
   ],
   "source": [
    "dgeom(x = 7, prob = p)"
   ]
  },
  {
   "cell_type": "markdown",
   "metadata": {},
   "source": [
    "#### (b)\n",
    "\n",
    "Let the discrete random variable $X$ represent the number of customers who arrives at the sport centre in a given hour.\n",
    "Then $X$ is modelled can be modelled by the **Poisson distribution**, $\\text{Poisson}(\\mu)$, where parameter $\\mu=20$ is the average number of customers who arrive at the sport centre in a given hour.\n",
    "\n",
    "The probability $P(X=12)$ will be\n",
    "\n",
    "$$\n",
    "p(12) = e^{-20} \\bigg( \\frac{20^{12}}{12!} \\bigg) = \\cdots\n",
    "$$"
   ]
  },
  {
   "cell_type": "code",
   "execution_count": 41,
   "metadata": {},
   "outputs": [],
   "source": [
    "# declare the parameter\n",
    "mu <- 20"
   ]
  },
  {
   "cell_type": "code",
   "execution_count": 42,
   "metadata": {},
   "outputs": [
    {
     "data": {
      "text/html": [
       "0.0176251712677126"
      ],
      "text/latex": [
       "0.0176251712677126"
      ],
      "text/markdown": [
       "0.0176251712677126"
      ],
      "text/plain": [
       "[1] 0.01762517"
      ]
     },
     "metadata": {},
     "output_type": "display_data"
    }
   ],
   "source": [
    "dpois(x = 12, lambda = mu)"
   ]
  },
  {
   "cell_type": "markdown",
   "metadata": {},
   "source": [
    "#### (c)\n",
    "\n",
    "The probability that a customer who arrives at the sport centre wishes to use the gym is $p=0.15$.\n",
    "Therefore, if $n=15$ customers arrives in the gym, we would expect $\\mu$ customers to use the gym, where\n",
    "\n",
    "$$\n",
    "\\mu=np=15(0.15)=2.25.\n",
    "$$\n",
    "\n",
    "Let the discrete random variable $Y$ represent the number of customers who arrive at the sport centre in a given hour who wish to use the gym, if $15$ were to arrive.\n",
    "Then $Y$ can be modelled by the **Poisson distribution**, $\\text{Poisson}(\\mu)$, where parameter $\\mu=2.25$.\n",
    "\n",
    "The probability $P(Y=3)$ is given by\n",
    "\n",
    "$$\n",
    "p(3) = e^{-2.25} \\bigg( \\frac{2.25^{3}}{3!} \\bigg) = \\cdots\n",
    "$$"
   ]
  },
  {
   "cell_type": "code",
   "execution_count": 43,
   "metadata": {},
   "outputs": [],
   "source": [
    "# declare the parameter\n",
    "mu = 2.25"
   ]
  },
  {
   "cell_type": "code",
   "execution_count": 44,
   "metadata": {},
   "outputs": [
    {
     "data": {
      "text/html": [
       "0.200093840379164"
      ],
      "text/latex": [
       "0.200093840379164"
      ],
      "text/markdown": [
       "0.200093840379164"
      ],
      "text/plain": [
       "[1] 0.2000938"
      ]
     },
     "metadata": {},
     "output_type": "display_data"
    }
   ],
   "source": [
    "dpois(x = 3, lambda = mu)"
   ]
  }
 ],
 "metadata": {
  "kernelspec": {
   "display_name": "R",
   "language": "R",
   "name": "ir"
  },
  "language_info": {
   "codemirror_mode": "r",
   "file_extension": ".r",
   "mimetype": "text/x-r-source",
   "name": "R",
   "pygments_lexer": "r",
   "version": "4.0.3"
  }
 },
 "nbformat": 4,
 "nbformat_minor": 4
}
