{
 "cells": [
  {
   "cell_type": "markdown",
   "metadata": {},
   "source": [
    "# B7 Normal distribution"
   ]
  },
  {
   "source": [
    "## Support libraries and functions"
   ],
   "cell_type": "markdown",
   "metadata": {}
  },
  {
   "cell_type": "code",
   "execution_count": 1,
   "metadata": {},
   "outputs": [],
   "source": [
    "from scipy import stats\n",
    "import m248_support as m248"
   ]
  },
  {
   "cell_type": "markdown",
   "metadata": {},
   "source": [
    "## 1 Linear functions of normal variables"
   ]
  },
  {
   "cell_type": "markdown",
   "metadata": {},
   "source": [
    "### Note\n",
    "\n",
    "If a random variable $X$ has a normal distribution with mean $\\mu$ and variance $\\sigma^{2}$, and $Y=aX+b$ for constants $a$ and $b$, then\n",
    "\n",
    "$$\n",
    "Y=aX+b \\sim N(a \\mu + b, a^{2} \\sigma^{2}).\n",
    "$$"
   ]
  },
  {
   "cell_type": "markdown",
   "metadata": {},
   "source": [
    "### Example 7.1.1\n",
    "\n",
    "Suppose that $X \\sim N(4,2)$, and that the random variable $Y$ is related to $X$ by the equation\n",
    "\n",
    "$$\n",
    "Y = 0.2X + 5.\n",
    "$$\n",
    "\n",
    "**(a)** What is the mean of $Y$?\n",
    "\n",
    "**(b)** What is the variance of $Y$?"
   ]
  },
  {
   "cell_type": "markdown",
   "metadata": {},
   "source": [
    "#### (a)\n",
    "\n",
    "If $Y=0.2X + 5$, then $E(Y) = 0.2E(X) + 5 = \\cdots$"
   ]
  },
  {
   "cell_type": "code",
   "execution_count": 2,
   "metadata": {},
   "outputs": [
    {
     "output_type": "execute_result",
     "data": {
      "text/plain": [
       "5.8"
      ]
     },
     "metadata": {},
     "execution_count": 2
    }
   ],
   "source": [
    "m248.get_y_mean(x_mean=4, a=0.2, b=5)"
   ]
  },
  {
   "cell_type": "markdown",
   "metadata": {},
   "source": [
    "#### (b)\n",
    "\n",
    "If $Y=0.2X + 5$, then $V(Y) = (0.2^{2}) 2 = \\cdots$"
   ]
  },
  {
   "cell_type": "code",
   "execution_count": 3,
   "metadata": {},
   "outputs": [
    {
     "output_type": "execute_result",
     "data": {
      "text/plain": [
       "0.08"
      ]
     },
     "metadata": {},
     "execution_count": 3
    }
   ],
   "source": [
    "round(m248.get_y_var(x_var=2, a=0.2), 4)"
   ]
  },
  {
   "cell_type": "markdown",
   "metadata": {},
   "source": [
    "### Example 7.1.2\n",
    "\n",
    "Suppose the fuel consumption of a car can be modelled by a normal distribution with mean 48 miles per gallon (mpg) and variance 4.5 mpg$^{2}$.\n",
    "\n",
    "Given that 1 mpg corresponds to approximately 0.354 kilometres per litre (km/l), calculate\n",
    "\n",
    "**(a)** the mean,\n",
    "\n",
    "**(b)** the variance\n",
    "\n",
    "of the distribution of the car’s fuel consumption in km/l"
   ]
  },
  {
   "cell_type": "markdown",
   "metadata": {},
   "source": [
    "#### Define the transformation\n",
    "\n",
    "Let $G$ be a random variable that represents the fuel consumption of a car in miles per gallon, where $M \\sim N(48, 4.5)$.\n",
    "\n",
    "Since 1 mpg is approximately 0.354 km/l, the car consumption in km/l, $L$, is calculated as\n",
    "\n",
    "$$\n",
    "L = 0.354G.\n",
    "$$"
   ]
  },
  {
   "cell_type": "markdown",
   "metadata": {},
   "source": [
    "#### (a)\n",
    "\n",
    "If $L=0.354G$, then $E(L) = 0.354E(G) = \\cdots$"
   ]
  },
  {
   "cell_type": "code",
   "execution_count": 4,
   "metadata": {},
   "outputs": [
    {
     "output_type": "execute_result",
     "data": {
      "text/plain": [
       "16.992"
      ]
     },
     "metadata": {},
     "execution_count": 4
    }
   ],
   "source": [
    "round(m248.get_y_mean(x_mean=48, a=0.354, b=0), 4)"
   ]
  },
  {
   "cell_type": "markdown",
   "metadata": {},
   "source": [
    "#### (b)\n",
    "\n",
    "If $L=0.354G$, then $V(L) = (0.354^{2}) 4.5 = \\cdots$"
   ]
  },
  {
   "cell_type": "code",
   "execution_count": 5,
   "metadata": {},
   "outputs": [
    {
     "output_type": "execute_result",
     "data": {
      "text/plain": [
       "0.5639"
      ]
     },
     "metadata": {},
     "execution_count": 5
    }
   ],
   "source": [
    "round(m248.get_y_var(x_var=4.5, a=0.354), 4)"
   ]
  },
  {
   "cell_type": "markdown",
   "metadata": {},
   "source": [
    "### Example 7.1.3\n",
    "\n",
    "Three independent random variables $X_{1}$, $X_{2}$ and $X_{3}$ are all normally distributed so that $X_{1} \\sim N(4,6)$, $X_{2} \\sim N(-8,2)$ and $X_{3} \\sim N(-1,1)$.\n",
    "\n",
    "Let another random variable $S$ be $S = X_{1} + X_{2} + X_{3}$.\n",
    "\n",
    "**(a)** What is the mean of $S$?\n",
    "\n",
    "**(b)** What is the variance of $S$?"
   ]
  },
  {
   "cell_type": "markdown",
   "metadata": {},
   "source": [
    "#### Note\n",
    "\n",
    "If $X_{1}, X_{2}, \\ldots , X_{n}$ are independent normally distributed random variables, with means $\\mu_{1}, \\mu_{2}, \\ldots , \\mu_{n}$ and variances $\\sigma_{1}, \\sigma_{2}, \\ldots , \\sigma_{n}$, then\n",
    "\n",
    "$$\n",
    "X_{1} + X_{2} + \\cdots + X_{n} \\sim N(\n",
    "    \\mu_{1} + \\mu_{2} + \\cdots + \\mu_{n}, \\>\n",
    "    \\sigma_{1} + \\sigma_{2} + \\cdots + \\sigma_{n}).\n",
    "$$"
   ]
  },
  {
   "cell_type": "markdown",
   "metadata": {},
   "source": [
    "#### (a)\n",
    "\n",
    "If $S = X_{1} + X_{2} + X_{3}$, then\n",
    "\n",
    "$$\n",
    "E(S) = E(X_{1}) + E(X_{2}) + E(X_{3}) = \\cdots\n",
    "$$"
   ]
  },
  {
   "cell_type": "code",
   "execution_count": 6,
   "metadata": {},
   "outputs": [
    {
     "output_type": "execute_result",
     "data": {
      "text/plain": [
       "-5"
      ]
     },
     "metadata": {},
     "execution_count": 6
    }
   ],
   "source": [
    "4-8-1"
   ]
  },
  {
   "cell_type": "markdown",
   "metadata": {},
   "source": [
    "#### (b)\n",
    "\n",
    "If $S = X_{1} + X_{2} + X_{3}$, then\n",
    "\n",
    "$$\n",
    "V(S) = V(X_{1}) + V(X_{2}) + V(X_{3}) = 6 + 2 + 1 = \\cdots\n",
    "$$"
   ]
  },
  {
   "cell_type": "code",
   "execution_count": 7,
   "metadata": {},
   "outputs": [
    {
     "output_type": "execute_result",
     "data": {
      "text/plain": [
       "9"
      ]
     },
     "metadata": {},
     "execution_count": 7
    }
   ],
   "source": [
    "6+2+1"
   ]
  },
  {
   "cell_type": "markdown",
   "metadata": {},
   "source": [
    "### Example 7.1.4\n",
    "\n",
    "Two independent random variables $X$ and $Y$ are both normally distributed so that $X \\sim N(-3,3)$ and $Y \\sim N(-4,4)$.\n",
    "\n",
    "**(a)** What is the mean of $X-Y$?\n",
    "\n",
    "**(b)** What is the variance of $X-Y$?"
   ]
  },
  {
   "cell_type": "markdown",
   "metadata": {},
   "source": [
    "#### (a)\n",
    "\n",
    "If $X$ and $Y$ are two independent normally distributed random variables, then $X-Y$ is also normally distributed with $E(X-Y) = E(X) - E(Y)$, so\n",
    "\n",
    "$$\n",
    "E(X-Y) = E(X) - E(Y) = -3 - (-4) = 1.\n",
    "$$"
   ]
  },
  {
   "cell_type": "markdown",
   "metadata": {},
   "source": [
    "#### (b)\n",
    "\n",
    "If $X$ and $Y$ are two independent normally distributed random variables, then $X-Y$ is also normally distributed with $V(X-Y) = V(X) + V(Y)$, so\n",
    "\n",
    "$$\n",
    "V(X-Y) = V(X) + V(Y) = 3 + 4 = 7.\n",
    "$$"
   ]
  },
  {
   "cell_type": "markdown",
   "metadata": {},
   "source": [
    "### Example 7.1.5\n",
    "\n",
    "Let $X_{1}$ and $X_{2}$ denote the weights, in grams, of two randomly selected 750-gram bags of carrots, each of which is normally distributed with mean 751 and standard deviation 1.1. The random variable $Y = X_{1} + X_{2}$ is the total weight of these two bags of carrots.\n",
    "\n",
    "Let $W$ denote the weight, in grams, of one randomly selected 1500-gram bags of carrots: $W$ is normally distributed with mean 1501 and standard deviation 2.\n",
    "\n",
    "The random variables $X_{1}$ and $X_{2}$ can be assumed to be independent of each other (since the two bags are selected randomly), and random variables $Y$ and $W$ can also be considered independent of each other.\n",
    "\n",
    "**(a)** What is the distribution of $Y$, the sum of two randomly selected 750-gram bags of carrots?\n",
    "\n",
    "**(b)** What is the distribution of the difference $Y-W$ between two 750-gram bags of carrots and one 1500-gram bag of carrots, selected at random?"
   ]
  },
  {
   "cell_type": "markdown",
   "metadata": {},
   "source": [
    "#### (a)\n",
    "\n",
    "If $Y = X_{1} + X_{2}$, then\n",
    "\n",
    "$$\n",
    "E(Y) = E(X_{1}) + E(X_{2}) = 751 + 751 = 1502,\n",
    "$$\n",
    "\n",
    "and\n",
    "\n",
    "$$\n",
    "V(Y) = V(X_{1}) + V(X_{2}) = 1.1^{2} + 1.1^{2} = 2.42.\n",
    "$$\n",
    "\n",
    "So, $Y \\sim N(1502, 2.42)$."
   ]
  },
  {
   "cell_type": "markdown",
   "metadata": {},
   "source": [
    "#### (b)\n",
    "\n",
    "If $Y - W$, then\n",
    "\n",
    "$$\n",
    "E(Y-W) = E(Y) - E(W) = 1502 - 1501 = 1,\n",
    "$$\n",
    "\n",
    "and\n",
    "\n",
    "$$\n",
    "V(Y-W) = V(Y) + V(W) = 2.42 + 4 = 6.42.\n",
    "$$\n",
    "\n",
    "Therefore $Y-W \\sim N(1, 6.42)$."
   ]
  },
  {
   "source": [
    "### Example 7.1.6 (June 2018)\n",
    "\n",
    "Independent random variables $X$ and $Y$ have normal distributions $X \\sim N(2, 4)$ and $Y \\sim N(1, 3)$.\n",
    "\n",
    "State the distribution of $U = X - Y$."
   ],
   "cell_type": "markdown",
   "metadata": {}
  },
  {
   "source": [
    "If $U = X-Y$, then\n",
    "\n",
    "$$\n",
    "E(U) = E(X-Y) = E(X) - E(Y) = 2 - 1 = 1,\n",
    "$$\n",
    "\n",
    "and\n",
    "\n",
    "$$\n",
    "V(U) = V(X-Y) = V(X) + V(Y) = 4+3 = 7.\n",
    "$$\n",
    "\n",
    "Therefore $U \\sim N(1,7)$."
   ],
   "cell_type": "markdown",
   "metadata": {}
  },
  {
   "cell_type": "markdown",
   "metadata": {},
   "source": [
    "## 2 Calculating probabilities"
   ]
  },
  {
   "cell_type": "markdown",
   "metadata": {},
   "source": [
    "### Note\n",
    "\n",
    "For $Z \\sim N(0,1)$\n",
    "\n",
    "$$\n",
    "P(Z \\leq z) = P(Z < z) = \\Phi{(z)},\n",
    "$$\n",
    "\n",
    "and because of the symmetry of $N(0,1)$, for any $z > 0$,\n",
    "\n",
    "$$\n",
    "P(Z \\leq -z) = P(Z \\geq z)\n",
    "$$\n",
    "\n",
    "so that\n",
    "\n",
    "$$\n",
    "\\Phi(-z) = 1 - \\Phi(z).\n",
    "$$"
   ]
  },
  {
   "cell_type": "markdown",
   "metadata": {},
   "source": [
    "### Example 7.2.1\n",
    "\n",
    "Let $Z$ be a random variable distributed $Z \\sim N(0,1)$.\n",
    "\n",
    "Calculate\n",
    "\n",
    "**(a)** $P(-1.25 \\leq Z \\leq 2)$\n",
    "\n",
    "**(b)** $P(-1.5 \\leq Z \\leq 0.5)$\n",
    "\n",
    "**(c)** $P(-1.86 \\leq Z \\leq 1.26)$"
   ]
  },
  {
   "cell_type": "code",
   "execution_count": 8,
   "metadata": {},
   "outputs": [],
   "source": [
    "# declare the distribution\n",
    "x = stats.norm()"
   ]
  },
  {
   "cell_type": "markdown",
   "metadata": {},
   "source": [
    "#### (a)\n",
    "\n",
    "The probability\n",
    "\n",
    "$$\n",
    "P(-1.25 \\leq Z \\leq 2) = \\Phi(2) - \\Phi(-1.25)\\> = \\{ \\Phi(2) - (1 - \\Phi(1.25)) \\} = \\cdots\n",
    "$$"
   ]
  },
  {
   "cell_type": "code",
   "execution_count": 9,
   "metadata": {},
   "outputs": [
    {
     "output_type": "execute_result",
     "data": {
      "text/plain": [
       "0.8716"
      ]
     },
     "metadata": {},
     "execution_count": 9
    }
   ],
   "source": [
    "round(x.cdf(x=2) - x.cdf(-1.25), 4)"
   ]
  },
  {
   "cell_type": "markdown",
   "metadata": {},
   "source": [
    "#### (b)\n",
    "\n",
    "The probability\n",
    "\n",
    "$$\n",
    "P(-1.5 \\leq Z \\leq 0.5) = \\Phi(0.5) - \\Phi(-1.5) = \\{ \\Phi(0.5) - (1 - \\Phi(1.5)) \\} = \\cdots\n",
    "$$"
   ]
  },
  {
   "cell_type": "code",
   "execution_count": 10,
   "metadata": {},
   "outputs": [
    {
     "output_type": "execute_result",
     "data": {
      "text/plain": [
       "0.6247"
      ]
     },
     "metadata": {},
     "execution_count": 10
    }
   ],
   "source": [
    "round(x.cdf(x=0.5) - x.cdf(-1.5), 4)"
   ]
  },
  {
   "cell_type": "markdown",
   "metadata": {},
   "source": [
    "#### (b)\n",
    "\n",
    "The probability\n",
    "\n",
    "$$\n",
    "P(-1.86 \\leq Z \\leq 1.26) = \\Phi(1.26) - \\Phi(-1.86) = \\{ \\Phi(1.26) - (1 - \\Phi(1.86)) \\} = \\cdots\n",
    "$$"
   ]
  },
  {
   "cell_type": "code",
   "execution_count": 11,
   "metadata": {},
   "outputs": [
    {
     "output_type": "execute_result",
     "data": {
      "text/plain": [
       "0.8647"
      ]
     },
     "metadata": {},
     "execution_count": 11
    }
   ],
   "source": [
    "round(x.cdf(x=1.26) - x.cdf(-1.86), 4)"
   ]
  },
  {
   "source": [
    "### Example 7.2.2\n",
    "\n",
    "Suppose that the birth weight (in kilograms) of newborn babies in a population may be reasonably modelled by a normal distribution with mean 3.4 and standard deviation 0.5.\n",
    "\n",
    "**(a)** According to the model, what  is the proportion of birth weights that are between 2.9 and 3.9 kilograms?\n",
    "\n",
    "**(b)** According to the model, what is the proportion of birth weights in the population of newborn babies that are less than 3.9 kilograms?"
   ],
   "cell_type": "markdown",
   "metadata": {}
  },
  {
   "cell_type": "code",
   "execution_count": 12,
   "metadata": {},
   "outputs": [],
   "source": [
    "# declare the std normal distribution\n",
    "std_norm = stats.norm()"
   ]
  },
  {
   "source": [
    "#### (a)\n",
    "\n",
    "The probability $P(2.9 < X < 3.9) = P(z_{1} < Z < z_{2})$, where $z_{1}$ is"
   ],
   "cell_type": "markdown",
   "metadata": {}
  },
  {
   "cell_type": "code",
   "execution_count": 13,
   "metadata": {},
   "outputs": [
    {
     "output_type": "execute_result",
     "data": {
      "text/plain": [
       "-1.0"
      ]
     },
     "metadata": {},
     "execution_count": 13
    }
   ],
   "source": [
    "z1 = m248.get_z_from_x(x=2.9, mean=3.4, std=0.5)\n",
    "z1"
   ]
  },
  {
   "source": [
    "and $z_{2}$ is"
   ],
   "cell_type": "markdown",
   "metadata": {}
  },
  {
   "cell_type": "code",
   "execution_count": 14,
   "metadata": {},
   "outputs": [
    {
     "output_type": "execute_result",
     "data": {
      "text/plain": [
       "1.0"
      ]
     },
     "metadata": {},
     "execution_count": 14
    }
   ],
   "source": [
    "z2 = m248.get_z_from_x(x=3.9, mean=3.4, std=0.5)\n",
    "z2"
   ]
  },
  {
   "source": [
    "Therefore $P(2.9 < X < 3.9) = P(-1 < Z < 1) = \\Phi (1) - \\Phi (-1) = \\cdots$"
   ],
   "cell_type": "markdown",
   "metadata": {}
  },
  {
   "cell_type": "code",
   "execution_count": 15,
   "metadata": {},
   "outputs": [
    {
     "output_type": "execute_result",
     "data": {
      "text/plain": [
       "0.6827"
      ]
     },
     "metadata": {},
     "execution_count": 15
    }
   ],
   "source": [
    "round(std_norm.cdf(x=z2) - std_norm.cdf(x=z1), 4)"
   ]
  },
  {
   "source": [
    "#### (b)\n",
    "\n",
    "The probability $P(X < 3.9) = P(Z < z)$, where $z$ is"
   ],
   "cell_type": "markdown",
   "metadata": {}
  },
  {
   "cell_type": "code",
   "execution_count": 16,
   "metadata": {},
   "outputs": [
    {
     "output_type": "execute_result",
     "data": {
      "text/plain": [
       "1.0"
      ]
     },
     "metadata": {},
     "execution_count": 16
    }
   ],
   "source": [
    "z = m248.get_z_from_x(x=3.9, mean=3.4, std=0.5)\n",
    "z"
   ]
  },
  {
   "source": [
    "Therefore $P(X < 3.9) = P(Z<1) = \\Phi(1) = \\cdots$"
   ],
   "cell_type": "markdown",
   "metadata": {}
  },
  {
   "cell_type": "code",
   "execution_count": 17,
   "metadata": {},
   "outputs": [
    {
     "output_type": "execute_result",
     "data": {
      "text/plain": [
       "0.8413"
      ]
     },
     "metadata": {},
     "execution_count": 17
    }
   ],
   "source": [
    "round(std_norm.cdf(x=z), 4)"
   ]
  },
  {
   "source": [
    "### Example 7.2.3\n",
    "\n",
    "The ages (in years) of women in a clinical trial may reasonably be modelled by a normal distribution with mean 43.4 and standard deviation 1.4.\n",
    "\n",
    "**(a)** According to the model, what proportion of ages of women in the clinical trial are between 40 and 43 years?\n",
    "\n",
    "**(b)** According to the model, what proportion of ages of women in the clinical trial are less than 45 years?"
   ],
   "cell_type": "markdown",
   "metadata": {}
  },
  {
   "source": [
    "# declare the std normal distribution\n",
    "std_norm = stats.norm()"
   ],
   "cell_type": "code",
   "metadata": {},
   "execution_count": 18,
   "outputs": []
  },
  {
   "source": [
    "#### (a)\n",
    "\n",
    "The probability $P(40 < X < 43) = P(z_{1} < Z < z_{2})$, where $z_{1}$ is"
   ],
   "cell_type": "markdown",
   "metadata": {}
  },
  {
   "cell_type": "code",
   "execution_count": 19,
   "metadata": {},
   "outputs": [
    {
     "output_type": "execute_result",
     "data": {
      "text/plain": [
       "-2.43"
      ]
     },
     "metadata": {},
     "execution_count": 19
    }
   ],
   "source": [
    "z1 = m248.get_z_from_x(x=40, mean=43.4, std=1.4)\n",
    "z1"
   ]
  },
  {
   "source": [
    "and $z_{2}$ is"
   ],
   "cell_type": "markdown",
   "metadata": {}
  },
  {
   "cell_type": "code",
   "execution_count": 20,
   "metadata": {},
   "outputs": [
    {
     "output_type": "execute_result",
     "data": {
      "text/plain": [
       "-0.29"
      ]
     },
     "metadata": {},
     "execution_count": 20
    }
   ],
   "source": [
    "z2 = m248.get_z_from_x(x=43, mean=43.4, std=1.4)\n",
    "z2"
   ]
  },
  {
   "source": [
    "Therefore $P(40 < X < 43) = P(-2.429 < Z < -0.286) = \\Phi (-0.286) - \\Phi (-2.429) = \\cdots$"
   ],
   "cell_type": "markdown",
   "metadata": {}
  },
  {
   "cell_type": "code",
   "execution_count": 21,
   "metadata": {},
   "outputs": [
    {
     "output_type": "execute_result",
     "data": {
      "text/plain": [
       "0.3784"
      ]
     },
     "metadata": {},
     "execution_count": 21
    }
   ],
   "source": [
    "round(std_norm.cdf(x=z2) - std_norm.cdf(x=z1), 4)"
   ]
  },
  {
   "source": [
    "#### (b)\n",
    "\n",
    "The probability $P(X < 45) = P(Z < z)$, where $z$ is"
   ],
   "cell_type": "markdown",
   "metadata": {}
  },
  {
   "cell_type": "code",
   "execution_count": 22,
   "metadata": {},
   "outputs": [
    {
     "output_type": "execute_result",
     "data": {
      "text/plain": [
       "1.14"
      ]
     },
     "metadata": {},
     "execution_count": 22
    }
   ],
   "source": [
    "z = m248.get_z_from_x(x=45, mean=43.4, std=1.4)\n",
    "z"
   ]
  },
  {
   "source": [
    "Therefore $P(X < 45) = P(Z < 1.143) = \\Phi(1.143) = \\cdots$"
   ],
   "cell_type": "markdown",
   "metadata": {}
  },
  {
   "cell_type": "code",
   "execution_count": 23,
   "metadata": {},
   "outputs": [
    {
     "output_type": "execute_result",
     "data": {
      "text/plain": [
       "0.8729"
      ]
     },
     "metadata": {},
     "execution_count": 23
    }
   ],
   "source": [
    "round(std_norm.cdf(x=z), 4)"
   ]
  },
  {
   "source": [
    "#### Example 7.2.4\n",
    "\n",
    "An IQ test is designed so that in the general population the variability\n",
    "in the scores attained should be normally distributed with mean 100\n",
    "and standard deviation 15.\n",
    "\n",
    "Calculate the probability that a randomly chosen person from the general\n",
    "population will have an IQ between 90 and 125."
   ],
   "cell_type": "markdown",
   "metadata": {}
  },
  {
   "cell_type": "code",
   "execution_count": 24,
   "metadata": {},
   "outputs": [],
   "source": [
    "# declare the std normal distribution\n",
    "std_norm = stats.norm()"
   ]
  },
  {
   "source": [
    "The probability $P(90 < X < 125) = P(z_{1} < Z < z_{2})$, where $z_{1}$ is"
   ],
   "cell_type": "markdown",
   "metadata": {}
  },
  {
   "cell_type": "code",
   "execution_count": 25,
   "metadata": {},
   "outputs": [
    {
     "output_type": "execute_result",
     "data": {
      "text/plain": [
       "-0.67"
      ]
     },
     "metadata": {},
     "execution_count": 25
    }
   ],
   "source": [
    "z1 = m248.get_z_from_x(x=90, mean=100, std=15)\n",
    "z1"
   ]
  },
  {
   "source": [
    "and $z_{2}$ is"
   ],
   "cell_type": "markdown",
   "metadata": {}
  },
  {
   "source": [
    "z2 = m248.get_z_from_x(x=125, mean=100, std=15)\n",
    "z2"
   ],
   "cell_type": "code",
   "metadata": {},
   "execution_count": 26,
   "outputs": [
    {
     "output_type": "execute_result",
     "data": {
      "text/plain": [
       "1.67"
      ]
     },
     "metadata": {},
     "execution_count": 26
    }
   ]
  },
  {
   "source": [
    "Therefore $P(90 < X < 125) = \\Phi (1.67) - \\Phi (-0.67) = \\cdots$"
   ],
   "cell_type": "markdown",
   "metadata": {}
  },
  {
   "cell_type": "code",
   "execution_count": 27,
   "metadata": {},
   "outputs": [
    {
     "output_type": "execute_result",
     "data": {
      "text/plain": [
       "0.7011"
      ]
     },
     "metadata": {},
     "execution_count": 27
    }
   ],
   "source": [
    "round(std_norm.cdf(x=z2) - std_norm.cdf(x=z1), 4)"
   ]
  },
  {
   "source": [
    "## 3 Calculating quantiles"
   ],
   "cell_type": "markdown",
   "metadata": {}
  },
  {
   "source": [
    "### Example 7.3.1\n",
    "\n",
    "Let $Z$ be a random variable distributed $Z \\sim N(0,1)$.\n",
    "\n",
    "Calculate\n",
    "\n",
    "**(a)** $q_{0.996}$\n",
    "\n",
    "**(b)** $q_{0.96}$\n",
    "\n",
    "**(c)** $q_{0.6}$\n",
    "\n",
    "**(d)** $q_{0.72}$"
   ],
   "cell_type": "markdown",
   "metadata": {}
  },
  {
   "cell_type": "code",
   "execution_count": 28,
   "metadata": {},
   "outputs": [],
   "source": [
    "# declare the distribution\n",
    "z = stats.norm()"
   ]
  },
  {
   "source": [
    "#### (a)"
   ],
   "cell_type": "markdown",
   "metadata": {}
  },
  {
   "cell_type": "code",
   "execution_count": 29,
   "metadata": {},
   "outputs": [
    {
     "output_type": "execute_result",
     "data": {
      "text/plain": [
       "2.6521"
      ]
     },
     "metadata": {},
     "execution_count": 29
    }
   ],
   "source": [
    "round(z.ppf(q=0.996), 4)"
   ]
  },
  {
   "source": [
    "#### (b)"
   ],
   "cell_type": "markdown",
   "metadata": {}
  },
  {
   "cell_type": "code",
   "execution_count": 30,
   "metadata": {},
   "outputs": [
    {
     "output_type": "execute_result",
     "data": {
      "text/plain": [
       "1.7507"
      ]
     },
     "metadata": {},
     "execution_count": 30
    }
   ],
   "source": [
    "round(z.ppf(q=0.96), 4)"
   ]
  },
  {
   "source": [
    "#### (c)"
   ],
   "cell_type": "markdown",
   "metadata": {}
  },
  {
   "cell_type": "code",
   "execution_count": 31,
   "metadata": {},
   "outputs": [
    {
     "output_type": "execute_result",
     "data": {
      "text/plain": [
       "0.2533"
      ]
     },
     "metadata": {},
     "execution_count": 31
    }
   ],
   "source": [
    "round(z.ppf(q=0.6), 4)"
   ]
  },
  {
   "source": [
    "#### (d)"
   ],
   "cell_type": "markdown",
   "metadata": {}
  },
  {
   "cell_type": "code",
   "execution_count": 32,
   "metadata": {},
   "outputs": [
    {
     "output_type": "execute_result",
     "data": {
      "text/plain": [
       "0.5828"
      ]
     },
     "metadata": {},
     "execution_count": 32
    }
   ],
   "source": [
    "round(z.ppf(q=0.72), 4)"
   ]
  },
  {
   "source": [
    "### Example 7.3.2\n",
    "\n",
    "Let $Z$ be a random variable distributed $Z \\sim N(0,1)$.\n",
    "\n",
    "Calculate\n",
    "\n",
    "**(a)** $q_{0.003}$\n",
    "\n",
    "**(b)** $q_{0.15}$\n",
    "\n",
    "**(c)** $q_{0.22}$\n",
    "\n",
    "**(d)** $q_{0.4}$"
   ],
   "cell_type": "markdown",
   "metadata": {}
  },
  {
   "cell_type": "code",
   "execution_count": 33,
   "metadata": {},
   "outputs": [],
   "source": [
    "# declare the distribution\n",
    "z = stats.norm()"
   ]
  },
  {
   "source": [
    "#### Note\n",
    "\n",
    "Because of the symmetry of $N(0,1)$, the quantile $q_{\\alpha}$ for $\\alpha < 0.5$ is given by $q_{\\alpha} = - q_{1 - \\alpha}$."
   ],
   "cell_type": "markdown",
   "metadata": {}
  },
  {
   "source": [
    "#### (a)"
   ],
   "cell_type": "markdown",
   "metadata": {}
  },
  {
   "cell_type": "code",
   "execution_count": 34,
   "metadata": {},
   "outputs": [
    {
     "output_type": "execute_result",
     "data": {
      "text/plain": [
       "-2.7478"
      ]
     },
     "metadata": {},
     "execution_count": 34
    }
   ],
   "source": [
    "round(z.ppf(q=0.003), 4)"
   ]
  },
  {
   "source": [
    "#### (b)"
   ],
   "cell_type": "markdown",
   "metadata": {}
  },
  {
   "cell_type": "code",
   "execution_count": 35,
   "metadata": {},
   "outputs": [
    {
     "output_type": "execute_result",
     "data": {
      "text/plain": [
       "-1.0364"
      ]
     },
     "metadata": {},
     "execution_count": 35
    }
   ],
   "source": [
    "round(z.ppf(q=0.15), 4)"
   ]
  },
  {
   "source": [
    "#### (c)"
   ],
   "cell_type": "markdown",
   "metadata": {}
  },
  {
   "cell_type": "code",
   "execution_count": 36,
   "metadata": {},
   "outputs": [
    {
     "output_type": "execute_result",
     "data": {
      "text/plain": [
       "-0.7722"
      ]
     },
     "metadata": {},
     "execution_count": 36
    }
   ],
   "source": [
    "round(z.ppf(q=0.22), 4)"
   ]
  },
  {
   "source": [
    "#### (d)"
   ],
   "cell_type": "markdown",
   "metadata": {}
  },
  {
   "cell_type": "code",
   "execution_count": 37,
   "metadata": {},
   "outputs": [
    {
     "output_type": "execute_result",
     "data": {
      "text/plain": [
       "-0.2533"
      ]
     },
     "metadata": {},
     "execution_count": 37
    }
   ],
   "source": [
    "round(z.ppf(q=0.4), 4)"
   ]
  },
  {
   "source": [
    "### 7.3.3\n",
    "\n",
    "Suppose that the birth weight (in kilograms) of newborn babies may reasonably be modelled by a normal distribution with mean 3.4 and standard deviation 0.5.\n",
    "\n",
    "Calculate the value of the birth weight (in kilograms) that, according to this model, is exceeded by only 3% of newborn babies."
   ],
   "cell_type": "markdown",
   "metadata": {}
  },
  {
   "source": [
    "#### Note\n",
    "\n",
    "Let $X$ be some normal random variable with distribution $X \\sim N(\\mu, \\sigma^{2})$, and let $Z$ be the standard normal distribution with $Z \\sim N(0, 1)$.\n",
    "\n",
    "If $q_{\\alpha}$ is the $\\alpha$-quantile of $N(0,1)$, then then $\\alpha$-quantile, $x$, of $N(\\mu, \\sigma^{2})$ is given by\n",
    "\n",
    "$$\n",
    "x = \\sigma q_{\\alpha} + \\mu.\n",
    "$$"
   ],
   "cell_type": "markdown",
   "metadata": {}
  },
  {
   "cell_type": "code",
   "execution_count": 38,
   "metadata": {},
   "outputs": [],
   "source": [
    "# declare the distribution\n",
    "w = stats.norm(loc=3.4, scale=0.5)"
   ]
  },
  {
   "cell_type": "code",
   "execution_count": 39,
   "metadata": {},
   "outputs": [],
   "source": [
    "std_norm = stats.norm()"
   ]
  },
  {
   "source": [
    "#### (a)\n",
    "\n",
    "The $0.97$-quantile $q_{0.97}$ for $Z \\sim N(0,1)$ is"
   ],
   "cell_type": "markdown",
   "metadata": {}
  },
  {
   "cell_type": "code",
   "execution_count": 43,
   "metadata": {},
   "outputs": [
    {
     "output_type": "execute_result",
     "data": {
      "text/plain": [
       "1.881"
      ]
     },
     "metadata": {},
     "execution_count": 43
    }
   ],
   "source": [
    "a = round(std_norm.ppf(q=0.97), 3)\n",
    "a"
   ]
  },
  {
   "source": [
    "Therefore the $0.97$-quantile for $X \\sim N(3.4, 0.5^{2})$ is\n",
    "\n",
    "$$\n",
    "x = \\sigma (1.881) + 3.4 =\n",
    "$$"
   ],
   "cell_type": "markdown",
   "metadata": {}
  },
  {
   "cell_type": "code",
   "execution_count": 44,
   "metadata": {},
   "outputs": [
    {
     "output_type": "execute_result",
     "data": {
      "text/plain": [
       "4.34"
      ]
     },
     "metadata": {},
     "execution_count": 44
    }
   ],
   "source": [
    "m248.get_x_from_a(a=a, mean=3.4, std=0.5)"
   ]
  },
  {
   "source": [
    "### Example 7.3.4\n",
    "\n",
    "Suppose that the size (in inches) of skipjack tuna may reasonably be modelled by a normal distribution with mean 22 and standard deviation 2.\n",
    "\n",
    "According to the model,\n",
    "\n",
    "**(a)** what is the interquartile range of the distribution of skipjack tuna in this population?\n",
    "\n",
    "**(b)** what size $x$ is such that only 5% of skipjack tuna in the population are bigger than this size?"
   ],
   "cell_type": "markdown",
   "metadata": {}
  },
  {
   "cell_type": "code",
   "execution_count": 45,
   "metadata": {},
   "outputs": [],
   "source": [
    "# declare the standard normal\n",
    "std_norm = stats.norm()"
   ]
  },
  {
   "source": [
    "#### (a)\n",
    "\n",
    "The iqr is defined as $q_{U} - q_{L} = q_{0.75} - q_{0.25}$. For the standard normal distribution, $q_{0.75} = \\cdots$"
   ],
   "cell_type": "markdown",
   "metadata": {}
  },
  {
   "source": [
    "q_U = round(std_norm.ppf(q=0.75), 4)\n",
    "q_U"
   ],
   "cell_type": "code",
   "metadata": {},
   "execution_count": 52,
   "outputs": [
    {
     "output_type": "execute_result",
     "data": {
      "text/plain": [
       "0.6745"
      ]
     },
     "metadata": {},
     "execution_count": 52
    }
   ]
  },
  {
   "source": [
    "and $q_{0.75} = \\cdots$"
   ],
   "cell_type": "markdown",
   "metadata": {}
  },
  {
   "source": [
    "q_L = round(std_norm.ppf(q=0.25), 4)\n",
    "q_L"
   ],
   "cell_type": "code",
   "metadata": {},
   "execution_count": 51,
   "outputs": [
    {
     "output_type": "execute_result",
     "data": {
      "text/plain": [
       "-0.6745"
      ]
     },
     "metadata": {},
     "execution_count": 51
    }
   ]
  },
  {
   "source": [
    "Therefore the iqr of the distribution of skipjack tuna in the population, in inches, will be"
   ],
   "cell_type": "markdown",
   "metadata": {}
  },
  {
   "cell_type": "code",
   "execution_count": 63,
   "metadata": {},
   "outputs": [],
   "source": [
    "# upper quartile of skipjack\n",
    "x_U = m248.get_x_from_a(a=q_U, mean=22, std=2)"
   ]
  },
  {
   "cell_type": "code",
   "execution_count": 64,
   "metadata": {},
   "outputs": [],
   "source": [
    "# lower quartile of skipjack\n",
    "x_L = m248.get_x_from_a(a=q_L, mean=22, std=2)"
   ]
  },
  {
   "source": [
    "# get iqr\r\n",
    "round(x_U - x_L, 3)"
   ],
   "cell_type": "code",
   "metadata": {},
   "execution_count": 66,
   "outputs": [
    {
     "output_type": "execute_result",
     "data": {
      "text/plain": [
       "2.698"
      ]
     },
     "metadata": {},
     "execution_count": 66
    }
   ]
  }
 ],
 "metadata": {
  "kernelspec": {
   "display_name": "Python 3",
   "language": "python",
   "name": "python3"
  },
  "language_info": {
   "codemirror_mode": {
    "name": "ipython",
    "version": 3
   },
   "file_extension": ".py",
   "mimetype": "text/x-python",
   "name": "python",
   "nbconvert_exporter": "python",
   "pygments_lexer": "ipython3",
   "version": "3.8.3-final"
  }
 },
 "nbformat": 4,
 "nbformat_minor": 4
}