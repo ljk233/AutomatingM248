{
 "cells": [
  {
   "cell_type": "markdown",
   "metadata": {},
   "source": [
    "# A4 Bernoulli and Poisson processes"
   ]
  },
  {
   "cell_type": "code",
   "execution_count": 1,
   "metadata": {},
   "outputs": [],
   "source": [
    "from scipy import stats"
   ]
  },
  {
   "cell_type": "markdown",
   "metadata": {},
   "source": [
    "## 1 Bernoulli process"
   ]
  },
  {
   "cell_type": "markdown",
   "metadata": {},
   "source": [
    "## 2 Poisson process"
   ]
  },
  {
   "cell_type": "markdown",
   "metadata": {},
   "source": [
    "### Example 4.2.1 (June 2018)\n",
    "\n",
    "The arrival of incoming emails at my office computer during working hours may be modelled by a Poisson process. On average, five emails arrive per hour.\n",
    "\n",
    "**(a)** Calculate the probability that exactly three emails arrive in an hour.\n",
    "\n",
    "**(b)** Calculate the probability that fewer than three emails arrive in an hour.\n",
    "\n",
    "**(c)** Calculate the probability that the interval between two successive incoming emails is less than ten minutes.\n",
    "\n",
    "**(d)** State the distribution that models the receipt of emails between 1.30pm and 4.30pm on a typical day."
   ]
  },
  {
   "cell_type": "code",
   "execution_count": 2,
   "metadata": {},
   "outputs": [],
   "source": [
    "# number of events\n",
    "x = stats.poisson(mu=5)\n",
    "\n",
    "# waiting time between events\n",
    "t = stats.expon(loc=0, scale=1/5)"
   ]
  },
  {
   "cell_type": "markdown",
   "metadata": {},
   "source": [
    "#### (a)\n",
    "\n",
    "The probability exactly three emails will arrive in an hour is\n",
    "\n",
    "$$\n",
    "p(3) = e^{-5} \\bigg( \\frac{5^{3}}{3!} \\bigg) = \\cdots\n",
    "$$"
   ]
  },
  {
   "cell_type": "code",
   "execution_count": 3,
   "metadata": {},
   "outputs": [
    {
     "data": {
      "text/plain": [
       "0.140374"
      ]
     },
     "execution_count": 3,
     "metadata": {},
     "output_type": "execute_result"
    }
   ],
   "source": [
    "round(x.pmf(k=3), 6)"
   ]
  },
  {
   "cell_type": "markdown",
   "metadata": {},
   "source": [
    "#### (b)\n",
    "\n",
    "The probability fewer than three emails arrive in an hour is $P(X < 3) = F(2)$, so\n",
    "\n",
    "$$\n",
    "F(2) = e^{-5} \\sum_{k=0}^{2} \\frac{5^{k}}{k!} = \\cdots\n",
    "$$"
   ]
  },
  {
   "cell_type": "code",
   "execution_count": 4,
   "metadata": {},
   "outputs": [
    {
     "data": {
      "text/plain": [
       "0.124652"
      ]
     },
     "execution_count": 4,
     "metadata": {},
     "output_type": "execute_result"
    }
   ],
   "source": [
    "round(x.cdf(x=2), 6)"
   ]
  },
  {
   "cell_type": "markdown",
   "metadata": {},
   "source": [
    "#### (c)\n",
    "\n",
    "Let the continuous random variable $T$ represent the waiting time between emails, where $T \\sim M(3)$.\n",
    "Ten minutes is equivalent to $1/6$ hours, so $P(T < 1/6)$ is\n",
    "\n",
    "$$\n",
    "F\\bigg( \\frac{1}{6} \\bigg) = 1 - e^{-5 \\times \\frac{1}{6}}\n",
    "$$"
   ]
  },
  {
   "cell_type": "code",
   "execution_count": 5,
   "metadata": {},
   "outputs": [
    {
     "data": {
      "text/plain": [
       "0.565402"
      ]
     },
     "execution_count": 5,
     "metadata": {},
     "output_type": "execute_result"
    }
   ],
   "source": [
    "round(t.cdf(x=1/6), 6)"
   ]
  },
  {
   "cell_type": "markdown",
   "metadata": {},
   "source": [
    "#### (d)\n",
    "\n",
    "If $X$ is a random variable that models the number of emails received in 1 hour, where $X \\sim \\text{Poisson}(3)$, then let $Y$ be a random variable that models the number of emails received in $t$ hours, so $Y \\sim \\text{Poisson}(5t)$.\n",
    "\n",
    "If we set $t=3$ (hours), then $Y \\sim \\text{Poisson}(15)$."
   ]
  },
  {
   "cell_type": "markdown",
   "metadata": {},
   "source": [
    "### Example 4.2.2\n",
    "\n",
    "Suppose that alpha particles are emitted from a radioactive source at random at an average rate of $0.5$ every second.\n",
    "Assume that the emissions of alpha particles may be modelled by a Poisson process.\n",
    "\n",
    "Calculate the probability that\n",
    "\n",
    "**(a)** there are no emissions of alpha particles in a five-second interval.\n",
    "\n",
    "**(b)** the waiting time between emissions of alpha particles exceeds ten seconds."
   ]
  },
  {
   "cell_type": "markdown",
   "metadata": {},
   "source": [
    "#### (a)\n",
    "\n",
    "Alpha particle emissions may be modelled by a Poisson process with rate $\\lambda = 0.5$ per second. \n",
    "So, $X$, the number of emissions in a five-second interval, has a Poisson distribution with parameter\n",
    "\n",
    "$$\n",
    "\\lambda t = 0.5(5) = 2.5.\n",
    "$$\n",
    "\n",
    "The probability that there are no alpha particle emissions in a five-second interval will be\n",
    "\n",
    "$$\n",
    "p(0) = e^{-2.5} \\bigg( \\frac{2.5^{0}}{0!} \\bigg) = \\cdots\n",
    "$$"
   ]
  },
  {
   "cell_type": "code",
   "execution_count": 6,
   "metadata": {},
   "outputs": [],
   "source": [
    "# number of events\n",
    "x = stats.poisson(mu=2.5)"
   ]
  },
  {
   "cell_type": "code",
   "execution_count": 7,
   "metadata": {},
   "outputs": [
    {
     "data": {
      "text/plain": [
       "0.082085"
      ]
     },
     "execution_count": 7,
     "metadata": {},
     "output_type": "execute_result"
    }
   ],
   "source": [
    "# p(6)\n",
    "round(x.pmf(k=0), 6)"
   ]
  },
  {
   "cell_type": "markdown",
   "metadata": {},
   "source": [
    "#### (b)\n",
    "\n",
    "The waiting time (in seconds) between successive alpha particle emissions, $T$, has an exponential distribution with parameter $\\lambda = 0.5$.\n",
    "\n",
    "So the probability that the waiting time between alpha particle emissions exceeds ten seconds is given by\n",
    "\n",
    "$$\n",
    "P(T > 10) = 1 - P(T < 10) = 1 - F(10) = \\cdots\n",
    "$$"
   ]
  },
  {
   "cell_type": "code",
   "execution_count": 8,
   "metadata": {},
   "outputs": [],
   "source": [
    "# waiting time between events\n",
    "t = stats.expon(loc=0, scale=1/0.5)"
   ]
  },
  {
   "cell_type": "code",
   "execution_count": 9,
   "metadata": {},
   "outputs": [
    {
     "data": {
      "text/plain": [
       "0.006738"
      ]
     },
     "execution_count": 9,
     "metadata": {},
     "output_type": "execute_result"
    }
   ],
   "source": [
    "# P(T>10)\n",
    "round(1 - t.cdf(x=10), 6)"
   ]
  }
 ],
 "metadata": {
  "kernelspec": {
   "display_name": "Python 3",
   "language": "python",
   "name": "python3"
  },
  "language_info": {
   "codemirror_mode": {
    "name": "ipython",
    "version": 3
   },
   "file_extension": ".py",
   "mimetype": "text/x-python",
   "name": "python",
   "nbconvert_exporter": "python",
   "pygments_lexer": "ipython3",
   "version": "3.8.3"
  }
 },
 "nbformat": 4,
 "nbformat_minor": 4
}
