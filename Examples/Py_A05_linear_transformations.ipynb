{
 "cells": [
  {
   "cell_type": "markdown",
   "metadata": {},
   "source": [
    "# A5 Linear functions of a random variable"
   ]
  },
  {
   "cell_type": "markdown",
   "metadata": {},
   "source": [
    "## Support functions"
   ]
  },
  {
   "cell_type": "code",
   "execution_count": 1,
   "metadata": {},
   "outputs": [],
   "source": [
    "import m248_support as m248"
   ]
  },
  {
   "cell_type": "markdown",
   "metadata": {},
   "source": [
    "## 1 Expected value"
   ]
  },
  {
   "cell_type": "markdown",
   "metadata": {},
   "source": [
    "### Example 5.1.1\n",
    "\n",
    "The random variable $X$ is such that $E(X) = -5$ and $V(X) = 42$.\n",
    "\n",
    "Calculate $E(Y)$ when $Y = 7X - 20$."
   ]
  },
  {
   "cell_type": "markdown",
   "metadata": {},
   "source": [
    "When $Y = aX + b$, the mean of $Y$ is given by\n",
    "\n",
    "$$\n",
    "E(Y) = E(aX+b) = aE(X) + b.\n",
    "$$"
   ]
  },
  {
   "cell_type": "code",
   "execution_count": 3,
   "metadata": {},
   "outputs": [
    {
     "data": {
      "text/plain": [
       "-55"
      ]
     },
     "execution_count": 3,
     "metadata": {},
     "output_type": "execute_result"
    }
   ],
   "source": [
    "m248.get_y_mean(x_mean=-5, a=7, b=-20)"
   ]
  },
  {
   "cell_type": "markdown",
   "metadata": {},
   "source": [
    "### Example 5.1.2 (June 2018)\n",
    "\n",
    "The random variable $X$ is such that $E(X) = 1$ and $V(X) = 4$.\n",
    "\n",
    "Calculate $E(Y)$ when $Y = 20-3X$."
   ]
  },
  {
   "cell_type": "code",
   "execution_count": 4,
   "metadata": {},
   "outputs": [
    {
     "data": {
      "text/plain": [
       "17"
      ]
     },
     "execution_count": 4,
     "metadata": {},
     "output_type": "execute_result"
    }
   ],
   "source": [
    "m248.get_y_mean(x_mean=1, a=-3, b=20)"
   ]
  },
  {
   "cell_type": "markdown",
   "metadata": {},
   "source": [
    "## 2 Variance"
   ]
  },
  {
   "cell_type": "markdown",
   "metadata": {},
   "source": [
    "### Example 5.2.1\n",
    "\n",
    "The random variable $Y$ is such that $E(Y) = 9$ and $V(Y) = 74$.\n",
    "\n",
    "Calculate $V(X)$ when $Y = 60 - 5Y$."
   ]
  },
  {
   "cell_type": "markdown",
   "metadata": {},
   "source": [
    "When $X = aY + b$, the variance of $X$ is given by\n",
    "\n",
    "$$\n",
    "V(X) = V(aY + b) = a^{2} \\> V(X)\n",
    "$$"
   ]
  },
  {
   "cell_type": "code",
   "execution_count": 5,
   "metadata": {},
   "outputs": [
    {
     "data": {
      "text/plain": [
       "1850"
      ]
     },
     "execution_count": 5,
     "metadata": {},
     "output_type": "execute_result"
    }
   ],
   "source": [
    "m248.get_y_var(x_var=74, a=-5)"
   ]
  },
  {
   "cell_type": "markdown",
   "metadata": {},
   "source": [
    "### Example 5.2.2\n",
    "\n",
    "Suppose that a random variable $W$ has mean 4 and variance 4.\n",
    "\n",
    "Calculate the standard deviation of the variable $X$, where $X = 3W + 10$."
   ]
  },
  {
   "cell_type": "markdown",
   "metadata": {},
   "source": [
    "When $X = aW + b$, the standard deviation of $X$ is given by\n",
    "\n",
    "$$\n",
    "S(X) = S(aW + b) = |a| \\sqrt{V(W)}.\n",
    "$$"
   ]
  },
  {
   "cell_type": "code",
   "execution_count": 6,
   "metadata": {},
   "outputs": [
    {
     "data": {
      "text/plain": [
       "6.0"
      ]
     },
     "execution_count": 6,
     "metadata": {},
     "output_type": "execute_result"
    }
   ],
   "source": [
    "m248.get_y_var(x_var=4, a=3) ** (1/2)"
   ]
  },
  {
   "cell_type": "markdown",
   "metadata": {},
   "source": [
    "### Example 5.2.3 (June 2018)\n",
    "\n",
    "The random variable $X$ is such that $E(X) = 1$ and $V(X) = 4$.\n",
    "\n",
    "Calculate $S(Y)$ when $Y = 20-3X$."
   ]
  },
  {
   "cell_type": "code",
   "execution_count": 7,
   "metadata": {},
   "outputs": [
    {
     "data": {
      "text/plain": [
       "6.0"
      ]
     },
     "execution_count": 7,
     "metadata": {},
     "output_type": "execute_result"
    }
   ],
   "source": [
    "m248.get_y_var(x_var=4, a=-3) ** (1/2)"
   ]
  },
  {
   "cell_type": "markdown",
   "metadata": {},
   "source": [
    "## 3 Scenarios"
   ]
  },
  {
   "cell_type": "markdown",
   "metadata": {},
   "source": [
    "### Example 5.3.1\n",
    "\n",
    "The birth weights, $B$, of babies in a certain population can be modelled by a distribution with mean 3.5 kg, and variance 0.25 kg.\n",
    "Let $W$ be the random variable representing the birth weights of babies in this population as measured in pounds.\n",
    "\n",
    "Taking 1 kg to be equal to 2.2 pounds, calculate\n",
    "\n",
    "**(a)** $E(W)$\n",
    "\n",
    "**(b)** $V(W)$"
   ]
  },
  {
   "cell_type": "markdown",
   "metadata": {},
   "source": [
    "#### (a)\n",
    "\n",
    "The expected value $E(W) = a \\> E(X) + b = \\cdots$"
   ]
  },
  {
   "cell_type": "code",
   "execution_count": 8,
   "metadata": {},
   "outputs": [
    {
     "data": {
      "text/plain": [
       "7.7"
      ]
     },
     "execution_count": 8,
     "metadata": {},
     "output_type": "execute_result"
    }
   ],
   "source": [
    "round(m248.get_y_mean(x_mean=3.5, a=2.2, b=0), 6)"
   ]
  },
  {
   "cell_type": "markdown",
   "metadata": {},
   "source": [
    "#### (b)\n",
    "\n",
    "The variance $V(W) = a^{2} \\> V(X) = \\cdots$"
   ]
  },
  {
   "cell_type": "code",
   "execution_count": 9,
   "metadata": {},
   "outputs": [
    {
     "data": {
      "text/plain": [
       "1.21"
      ]
     },
     "execution_count": 9,
     "metadata": {},
     "output_type": "execute_result"
    }
   ],
   "source": [
    "round(m248.get_y_var(x_var=0.25, a=2.2), 6)"
   ]
  },
  {
   "cell_type": "markdown",
   "metadata": {},
   "source": [
    "### Example 5.3.2\n",
    "\n",
    "The random variable $F$ represents the daily maximum temperature (in degrees Fahrenheit) in a particular city in the USA during November.\n",
    "The mean of $F$ is 40, and the standard deviation is 4.\n",
    "Let the random variable $C$ be the daily maximum temperature in this city during November, as measured in degrees Celsius.\n",
    "\n",
    "Using the relationship that\n",
    "\n",
    "$$\n",
    "F = \\frac{9}{5} C + 32,\n",
    "$$\n",
    "\n",
    "calculate\n",
    "\n",
    "**(a)** $E(C)$\n",
    "\n",
    "**(b)** $V(C)$"
   ]
  },
  {
   "cell_type": "markdown",
   "metadata": {},
   "source": [
    "If\n",
    "\n",
    "$$\n",
    "F = \\frac{9}{5} C + 32,\n",
    "$$\n",
    "\n",
    "then\n",
    "\n",
    "$$\n",
    "C = \\frac{5}{9} (F-32) = \\frac{5}{9} F - \\frac{160}{9}.\n",
    "$$"
   ]
  },
  {
   "cell_type": "markdown",
   "metadata": {},
   "source": [
    "#### (a)\n",
    "\n",
    "The expected value $E(C) = a \\> E(F) + b = \\cdots$"
   ]
  },
  {
   "cell_type": "code",
   "execution_count": 10,
   "metadata": {},
   "outputs": [
    {
     "data": {
      "text/plain": [
       "4.444444"
      ]
     },
     "execution_count": 10,
     "metadata": {},
     "output_type": "execute_result"
    }
   ],
   "source": [
    "round(m248.get_y_mean(x_mean=40, a=5/9, b=-160/9), 6)"
   ]
  },
  {
   "cell_type": "markdown",
   "metadata": {},
   "source": [
    "#### (b)\n",
    "\n",
    "The standard deviation $S(C) = |a| \\> S(F) = \\sqrt{a^{2} \\> V(X)} = \\cdots$"
   ]
  },
  {
   "cell_type": "code",
   "execution_count": 13,
   "metadata": {},
   "outputs": [
    {
     "data": {
      "text/plain": [
       "2.222222"
      ]
     },
     "execution_count": 13,
     "metadata": {},
     "output_type": "execute_result"
    }
   ],
   "source": [
    "round(m248.get_y_var(x_var=16, a=5/9)**(0.5), 6)"
   ]
  }
 ],
 "metadata": {
  "kernelspec": {
   "display_name": "Python 3",
   "language": "python",
   "name": "python3"
  },
  "language_info": {
   "codemirror_mode": {
    "name": "ipython",
    "version": 3
   },
   "file_extension": ".py",
   "mimetype": "text/x-python",
   "name": "python",
   "nbconvert_exporter": "python",
   "pygments_lexer": "ipython3",
   "version": "3.8.3"
  }
 },
 "nbformat": 4,
 "nbformat_minor": 4
}
