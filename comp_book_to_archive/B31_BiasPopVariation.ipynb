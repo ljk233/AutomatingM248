{
 "cells": [
  {
   "cell_type": "markdown",
   "metadata": {},
   "source": [
    "## Comparing $\\widehat \\theta_{V}$ with $\\widehat \\theta_{S}$\n",
    "\n",
    "In this notebook, we will\n",
    "\n",
    "1. Generate 1000 samples of size $n=10$ from the $B(10,0.5)$\n",
    "2. For each sample, calculate:\n",
    "    - $\\overline X$\n",
    "    - $\\widehat \\theta_{S}$\n",
    "    - $\\widehat \\theta_{V}$\n",
    "3. Calculate:\n",
    "    - $E(\\overline X)$\n",
    "    - $E(\\widehat \\theta_{S})$\n",
    "    - $E(\\widehat \\theta_{V})$\n",
    "\n",
    "After the conclulsion of the workflow, we should see that:\n",
    "\n",
    "- $E(\\overline X) \\simeq \\mu = 10(0.5) = 5$\n",
    "- $E(\\widehat \\theta_{S}) \\simeq \\sigma^{2} = 10(0.5)(0.5) = 2.5$.\n",
    "- $E(\\widehat \\theta_{V}) \\simeq \\frac{n-1}{n}\\sigma^{2} = \\frac{9}{10}10(0.5)(0.5) = 2.25$."
   ]
  },
  {
   "cell_type": "code",
   "execution_count": 1,
   "metadata": {},
   "outputs": [],
   "source": [
    "from scipy.stats import binom\n",
    "import pandas as pd\n",
    "import numpy as np\n",
    "from util.pointestimation import (get_sample, get_samples,\n",
    "                                  get_description, get_table1)\n",
    "\n",
    "'''---------------------------------------------------------------------------\n",
    "The distribution\n",
    "---------------------------------------------------------------------------'''\n",
    "\n",
    "a_dist = binom(n=10, p=0.5)"
   ]
  },
  {
   "cell_type": "markdown",
   "metadata": {},
   "source": [
    "Let us first generate a random sample $X$ from $B(10,0.5)$ to illustrate the first step."
   ]
  },
  {
   "cell_type": "code",
   "execution_count": 2,
   "metadata": {},
   "outputs": [
    {
     "data": {
      "text/html": [
       "<div>\n",
       "<style scoped>\n",
       "    .dataframe tbody tr th:only-of-type {\n",
       "        vertical-align: middle;\n",
       "    }\n",
       "\n",
       "    .dataframe tbody tr th {\n",
       "        vertical-align: top;\n",
       "    }\n",
       "\n",
       "    .dataframe thead th {\n",
       "        text-align: right;\n",
       "    }\n",
       "</style>\n",
       "<table border=\"1\" class=\"dataframe\">\n",
       "  <thead>\n",
       "    <tr style=\"text-align: right;\">\n",
       "      <th></th>\n",
       "      <th>X</th>\n",
       "      <th>obs</th>\n",
       "    </tr>\n",
       "  </thead>\n",
       "  <tbody>\n",
       "    <tr>\n",
       "      <th>0</th>\n",
       "      <td>1</td>\n",
       "      <td>5</td>\n",
       "    </tr>\n",
       "    <tr>\n",
       "      <th>1</th>\n",
       "      <td>2</td>\n",
       "      <td>4</td>\n",
       "    </tr>\n",
       "    <tr>\n",
       "      <th>2</th>\n",
       "      <td>3</td>\n",
       "      <td>6</td>\n",
       "    </tr>\n",
       "    <tr>\n",
       "      <th>3</th>\n",
       "      <td>4</td>\n",
       "      <td>5</td>\n",
       "    </tr>\n",
       "    <tr>\n",
       "      <th>4</th>\n",
       "      <td>5</td>\n",
       "      <td>5</td>\n",
       "    </tr>\n",
       "    <tr>\n",
       "      <th>5</th>\n",
       "      <td>6</td>\n",
       "      <td>5</td>\n",
       "    </tr>\n",
       "    <tr>\n",
       "      <th>6</th>\n",
       "      <td>7</td>\n",
       "      <td>5</td>\n",
       "    </tr>\n",
       "    <tr>\n",
       "      <th>7</th>\n",
       "      <td>8</td>\n",
       "      <td>6</td>\n",
       "    </tr>\n",
       "    <tr>\n",
       "      <th>8</th>\n",
       "      <td>9</td>\n",
       "      <td>5</td>\n",
       "    </tr>\n",
       "    <tr>\n",
       "      <th>9</th>\n",
       "      <td>10</td>\n",
       "      <td>7</td>\n",
       "    </tr>\n",
       "  </tbody>\n",
       "</table>\n",
       "</div>"
      ],
      "text/plain": [
       "    X  obs\n",
       "0   1    5\n",
       "1   2    4\n",
       "2   3    6\n",
       "3   4    5\n",
       "4   5    5\n",
       "5   6    5\n",
       "6   7    5\n",
       "7   8    6\n",
       "8   9    5\n",
       "9  10    7"
      ]
     },
     "execution_count": 2,
     "metadata": {},
     "output_type": "execute_result"
    }
   ],
   "source": [
    "get_sample(a_dist, n=10)  # a sample of size 10 from B(10,0.5)"
   ]
  },
  {
   "cell_type": "markdown",
   "metadata": {},
   "source": [
    "There is nothing particularly surprising here, so let us move on.\n",
    "\n",
    "Let us now generate $N=1000$ samples of size $n=10$ from $B(10,0.5)$.\n",
    "We will calculate $\\overline X$, $\\widehat \\theta_{S}$ and $\\widehat \\theta_{V}$ for each sample.\n",
    "The returned table will contain these three measures for each sample $X_{i}$."
   ]
  },
  {
   "cell_type": "code",
   "execution_count": 5,
   "metadata": {},
   "outputs": [
    {
     "data": {
      "text/html": [
       "<div>\n",
       "<style scoped>\n",
       "    .dataframe tbody tr th:only-of-type {\n",
       "        vertical-align: middle;\n",
       "    }\n",
       "\n",
       "    .dataframe tbody tr th {\n",
       "        vertical-align: top;\n",
       "    }\n",
       "\n",
       "    .dataframe thead th {\n",
       "        text-align: right;\n",
       "    }\n",
       "</style>\n",
       "<table border=\"1\" class=\"dataframe\">\n",
       "  <thead>\n",
       "    <tr style=\"text-align: right;\">\n",
       "      <th></th>\n",
       "      <th>E(X)</th>\n",
       "      <th>Theta(S)</th>\n",
       "      <th>Theta(V)</th>\n",
       "    </tr>\n",
       "  </thead>\n",
       "  <tbody>\n",
       "    <tr>\n",
       "      <th>0</th>\n",
       "      <td>4.1</td>\n",
       "      <td>0.766667</td>\n",
       "      <td>0.69</td>\n",
       "    </tr>\n",
       "    <tr>\n",
       "      <th>1</th>\n",
       "      <td>4.1</td>\n",
       "      <td>2.766667</td>\n",
       "      <td>2.49</td>\n",
       "    </tr>\n",
       "    <tr>\n",
       "      <th>2</th>\n",
       "      <td>4.5</td>\n",
       "      <td>1.388889</td>\n",
       "      <td>1.25</td>\n",
       "    </tr>\n",
       "    <tr>\n",
       "      <th>3</th>\n",
       "      <td>5.7</td>\n",
       "      <td>1.566667</td>\n",
       "      <td>1.41</td>\n",
       "    </tr>\n",
       "    <tr>\n",
       "      <th>4</th>\n",
       "      <td>5.0</td>\n",
       "      <td>2.000000</td>\n",
       "      <td>1.80</td>\n",
       "    </tr>\n",
       "  </tbody>\n",
       "</table>\n",
       "</div>"
      ],
      "text/plain": [
       "   E(X)  Theta(S)  Theta(V)\n",
       "0   4.1  0.766667      0.69\n",
       "1   4.1  2.766667      2.49\n",
       "2   4.5  1.388889      1.25\n",
       "3   5.7  1.566667      1.41\n",
       "4   5.0  2.000000      1.80"
      ]
     },
     "execution_count": 5,
     "metadata": {},
     "output_type": "execute_result"
    }
   ],
   "source": [
    "samples: dict = get_samples(a_dist,\n",
    "                            n=10,\n",
    "                            N=1000)\n",
    "\n",
    "samples.head()"
   ]
  },
  {
   "cell_type": "markdown",
   "metadata": {},
   "source": [
    "We now 1000 estimates generated using our estimators.\n",
    "So let us check the expected values of each of our estimators to see how close they are to $\\mu=5$ and $\\sigma^{2} = 2.5$.\n",
    "\n",
    "As a sanity checl, we know that the sample mean is an unbiased estimator of the population mean.\n",
    "Does $E(\\overline X) \\simeq 5$?"
   ]
  },
  {
   "cell_type": "code",
   "execution_count": 6,
   "metadata": {},
   "outputs": [
    {
     "data": {
      "text/plain": [
       "5.0198"
      ]
     },
     "execution_count": 6,
     "metadata": {},
     "output_type": "execute_result"
    }
   ],
   "source": [
    "samples[\"E(X)\"].mean()"
   ]
  },
  {
   "cell_type": "markdown",
   "metadata": {},
   "source": [
    "That is reassuring!\n",
    "Next, does $E(\\widehat \\theta_{S}) \\simeq 2.5$?"
   ]
  },
  {
   "cell_type": "code",
   "execution_count": 7,
   "metadata": {},
   "outputs": [
    {
     "data": {
      "text/plain": [
       "2.525911111111111"
      ]
     },
     "execution_count": 7,
     "metadata": {},
     "output_type": "execute_result"
    }
   ],
   "source": [
    "samples[\"Theta(S)\"].mean()"
   ]
  },
  {
   "cell_type": "markdown",
   "metadata": {},
   "source": [
    "Again, we can conclude that they are approximately equal.\n",
    "An finally, does $E(\\widehat \\theta_{V}) \\simeq 2.25$?"
   ]
  },
  {
   "cell_type": "code",
   "execution_count": 8,
   "metadata": {},
   "outputs": [
    {
     "data": {
      "text/plain": [
       "2.27332"
      ]
     },
     "execution_count": 8,
     "metadata": {},
     "output_type": "execute_result"
    }
   ],
   "source": [
    "samples[\"Theta(V)\"].mean()"
   ]
  },
  {
   "cell_type": "markdown",
   "metadata": {},
   "source": [
    "Yes, it does seem so.\n",
    "\n",
    "Finally, we can display that this phenomenom is just an expression of the formulas we used to generate the estimates of $\\sigma^{2}$\n",
    "\n",
    "If, as we have seen,\n",
    "\n",
    "$$\n",
    "\\begin{aligned}\n",
    "  E(\\widehat \\theta_{V}) = \\frac{n-1}{n}\\sigma^{2},\n",
    "\\end{aligned}\n",
    "$$\n",
    "\n",
    "then\n",
    "\n",
    "$$\n",
    "\\begin{aligned}\n",
    "  \\sigma^{2} =\\frac{n}{n-1} E(\\widehat \\theta_{V}).\n",
    "\\end{aligned}\n",
    "$$\n",
    "\n",
    "But we also know that \n",
    "\n",
    "$$\n",
    "E(\\widehat \\theta_{S}) = \\sigma^{2},\n",
    "$$\n",
    "\n",
    "so it can be seen that\n",
    "\n",
    "$$\n",
    "E(\\widehat \\theta_{S}) = \\frac{n}{n-1} E(\\widehat \\theta_{V}).\n",
    "$$\n",
    "\n",
    "Can we confirm this from our sample?\n",
    "\n",
    "We know that $n=10, \\sigma^{2} = 2.5$ so ..."
   ]
  },
  {
   "cell_type": "code",
   "execution_count": 11,
   "metadata": {},
   "outputs": [
    {
     "data": {
      "text/plain": [
       "True"
      ]
     },
     "execution_count": 11,
     "metadata": {},
     "output_type": "execute_result"
    }
   ],
   "source": [
    "samples[\"Theta(S)\"].mean() == (10/9) * samples[\"Theta(V)\"].mean()"
   ]
  },
  {
   "cell_type": "markdown",
   "metadata": {},
   "source": [
    "**END**."
   ]
  }
 ],
 "metadata": {
  "kernelspec": {
   "display_name": "Python 3",
   "language": "python",
   "name": "python3"
  },
  "language_info": {
   "codemirror_mode": {
    "name": "ipython",
    "version": 3
   },
   "file_extension": ".py",
   "mimetype": "text/x-python",
   "name": "python",
   "nbconvert_exporter": "python",
   "pygments_lexer": "ipython3",
   "version": "3.8.3"
  }
 },
 "nbformat": 4,
 "nbformat_minor": 4
}
