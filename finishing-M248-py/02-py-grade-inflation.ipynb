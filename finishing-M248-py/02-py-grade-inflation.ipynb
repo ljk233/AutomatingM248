{
 "cells": [
  {
   "cell_type": "markdown",
   "id": "3bfba7e4-a233-424a-86af-0325a885a08f",
   "metadata": {},
   "source": [
    "# Grade infinflate at UK HEI\n",
    "\n",
    "## 1. Aim\n",
    "\n",
    "Perform a test of the hypothesis that the proportion of UGD with first class honour increased in 2018/19 compared to 2014/5."
   ]
  },
  {
   "cell_type": "markdown",
   "id": "68a90b8b-f80a-4800-b671-49c3c0413c9b",
   "metadata": {},
   "source": [
    "## 2. Setup the notebook"
   ]
  },
  {
   "cell_type": "markdown",
   "id": "7572f108-5383-47d2-888c-369f80128b91",
   "metadata": {},
   "source": [
    "### 2.1 Import the libraries"
   ]
  },
  {
   "cell_type": "code",
   "execution_count": 1,
   "id": "39c09e52-832a-4ca1-bf99-292343bfbd9e",
   "metadata": {},
   "outputs": [],
   "source": [
    "from statsmodels.stats.proportion import proportion_confint, proportions_ztest\n",
    "from pandas import DataFrame  # for typing\n",
    "import pandas as pd\n",
    "import seaborn as sns\n",
    "import matplotlib.pyplot as plt\n",
    "\n",
    "sns.set_theme()"
   ]
  },
  {
   "cell_type": "markdown",
   "id": "e69e9d1e-88af-4860-ac50-01b6359c2b07",
   "metadata": {},
   "source": [
    "### 2.2 Load the data"
   ]
  },
  {
   "cell_type": "code",
   "execution_count": 2,
   "id": "ab8b3aa6-be4e-4de4-9818-547a839047d7",
   "metadata": {},
   "outputs": [],
   "source": [
    "firsts: DataFrame = pd.read_csv(\"..\\\\data\\\\grade-inflation.csv\")"
   ]
  },
  {
   "cell_type": "markdown",
   "id": "db7533c4-42bf-43e7-b40e-6c515743d3d7",
   "metadata": {},
   "source": [
    "## 3. Explore the data"
   ]
  },
  {
   "cell_type": "markdown",
   "id": "5867a668-79dc-4c53-9e74-47f0677adced",
   "metadata": {},
   "source": [
    "### 3.1 Preview the data"
   ]
  },
  {
   "cell_type": "code",
   "execution_count": 3,
   "id": "23543793-9f27-4afd-a1bc-cde8031ac952",
   "metadata": {},
   "outputs": [
    {
     "data": {
      "text/html": [
       "<div>\n",
       "<style scoped>\n",
       "    .dataframe tbody tr th:only-of-type {\n",
       "        vertical-align: middle;\n",
       "    }\n",
       "\n",
       "    .dataframe tbody tr th {\n",
       "        vertical-align: top;\n",
       "    }\n",
       "\n",
       "    .dataframe thead th {\n",
       "        text-align: right;\n",
       "    }\n",
       "</style>\n",
       "<table border=\"1\" class=\"dataframe\">\n",
       "  <thead>\n",
       "    <tr style=\"text-align: right;\">\n",
       "      <th></th>\n",
       "      <th>HE provider</th>\n",
       "      <th>f_2014</th>\n",
       "      <th>n_2014</th>\n",
       "      <th>f_2018</th>\n",
       "      <th>n_2018</th>\n",
       "    </tr>\n",
       "  </thead>\n",
       "  <tbody>\n",
       "    <tr>\n",
       "      <th>0</th>\n",
       "      <td>The University of Stirling</td>\n",
       "      <td>265</td>\n",
       "      <td>1230</td>\n",
       "      <td>305</td>\n",
       "      <td>1790</td>\n",
       "    </tr>\n",
       "    <tr>\n",
       "      <th>1</th>\n",
       "      <td>University of Hertfordshire</td>\n",
       "      <td>875</td>\n",
       "      <td>4470</td>\n",
       "      <td>1150</td>\n",
       "      <td>4755</td>\n",
       "    </tr>\n",
       "    <tr>\n",
       "      <th>2</th>\n",
       "      <td>The University of York</td>\n",
       "      <td>800</td>\n",
       "      <td>3235</td>\n",
       "      <td>1015</td>\n",
       "      <td>3735</td>\n",
       "    </tr>\n",
       "    <tr>\n",
       "      <th>3</th>\n",
       "      <td>The University of Liverpool</td>\n",
       "      <td>1085</td>\n",
       "      <td>4805</td>\n",
       "      <td>1765</td>\n",
       "      <td>6635</td>\n",
       "    </tr>\n",
       "    <tr>\n",
       "      <th>4</th>\n",
       "      <td>The University of St Andrews</td>\n",
       "      <td>415</td>\n",
       "      <td>1565</td>\n",
       "      <td>515</td>\n",
       "      <td>1765</td>\n",
       "    </tr>\n",
       "  </tbody>\n",
       "</table>\n",
       "</div>"
      ],
      "text/plain": [
       "                    HE provider  f_2014  n_2014  f_2018  n_2018\n",
       "0    The University of Stirling     265    1230     305    1790\n",
       "1   University of Hertfordshire     875    4470    1150    4755\n",
       "2        The University of York     800    3235    1015    3735\n",
       "3   The University of Liverpool    1085    4805    1765    6635\n",
       "4  The University of St Andrews     415    1565     515    1765"
      ]
     },
     "execution_count": 3,
     "metadata": {},
     "output_type": "execute_result"
    }
   ],
   "source": [
    "firsts.head()"
   ]
  },
  {
   "cell_type": "markdown",
   "id": "77831b86-30e8-42a4-bf7f-dd03fdeaeb65",
   "metadata": {},
   "source": [
    "### 3.2 Describe the data"
   ]
  },
  {
   "cell_type": "code",
   "execution_count": 4,
   "id": "e2564cc9-5293-4dc8-ab60-99398dc01410",
   "metadata": {},
   "outputs": [
    {
     "data": {
      "text/html": [
       "<div>\n",
       "<style scoped>\n",
       "    .dataframe tbody tr th:only-of-type {\n",
       "        vertical-align: middle;\n",
       "    }\n",
       "\n",
       "    .dataframe tbody tr th {\n",
       "        vertical-align: top;\n",
       "    }\n",
       "\n",
       "    .dataframe thead th {\n",
       "        text-align: right;\n",
       "    }\n",
       "</style>\n",
       "<table border=\"1\" class=\"dataframe\">\n",
       "  <thead>\n",
       "    <tr style=\"text-align: right;\">\n",
       "      <th></th>\n",
       "      <th>count</th>\n",
       "      <th>mean</th>\n",
       "      <th>std</th>\n",
       "      <th>min</th>\n",
       "      <th>25%</th>\n",
       "      <th>50%</th>\n",
       "      <th>75%</th>\n",
       "      <th>max</th>\n",
       "    </tr>\n",
       "  </thead>\n",
       "  <tbody>\n",
       "    <tr>\n",
       "      <th>f_2014</th>\n",
       "      <td>156.0</td>\n",
       "      <td>523.108974</td>\n",
       "      <td>411.733293</td>\n",
       "      <td>10.0</td>\n",
       "      <td>168.75</td>\n",
       "      <td>455.0</td>\n",
       "      <td>816.25</td>\n",
       "      <td>1655.0</td>\n",
       "    </tr>\n",
       "    <tr>\n",
       "      <th>n_2014</th>\n",
       "      <td>156.0</td>\n",
       "      <td>2534.198718</td>\n",
       "      <td>1810.862341</td>\n",
       "      <td>45.0</td>\n",
       "      <td>1025.00</td>\n",
       "      <td>2512.5</td>\n",
       "      <td>3682.50</td>\n",
       "      <td>10170.0</td>\n",
       "    </tr>\n",
       "    <tr>\n",
       "      <th>f_2018</th>\n",
       "      <td>156.0</td>\n",
       "      <td>730.769231</td>\n",
       "      <td>567.598266</td>\n",
       "      <td>15.0</td>\n",
       "      <td>232.50</td>\n",
       "      <td>627.5</td>\n",
       "      <td>1101.25</td>\n",
       "      <td>2680.0</td>\n",
       "    </tr>\n",
       "    <tr>\n",
       "      <th>n_2018</th>\n",
       "      <td>156.0</td>\n",
       "      <td>2715.352564</td>\n",
       "      <td>1900.630635</td>\n",
       "      <td>65.0</td>\n",
       "      <td>1012.50</td>\n",
       "      <td>2560.0</td>\n",
       "      <td>3943.75</td>\n",
       "      <td>7625.0</td>\n",
       "    </tr>\n",
       "  </tbody>\n",
       "</table>\n",
       "</div>"
      ],
      "text/plain": [
       "        count         mean          std   min      25%     50%      75%  \\\n",
       "f_2014  156.0   523.108974   411.733293  10.0   168.75   455.0   816.25   \n",
       "n_2014  156.0  2534.198718  1810.862341  45.0  1025.00  2512.5  3682.50   \n",
       "f_2018  156.0   730.769231   567.598266  15.0   232.50   627.5  1101.25   \n",
       "n_2018  156.0  2715.352564  1900.630635  65.0  1012.50  2560.0  3943.75   \n",
       "\n",
       "            max  \n",
       "f_2014   1655.0  \n",
       "n_2014  10170.0  \n",
       "f_2018   2680.0  \n",
       "n_2018   7625.0  "
      ]
     },
     "execution_count": 4,
     "metadata": {},
     "output_type": "execute_result"
    }
   ],
   "source": [
    "firsts.describe().T"
   ]
  },
  {
   "cell_type": "markdown",
   "id": "e662db9d",
   "metadata": {},
   "source": [
    "### 3.3 Calculate the proportions"
   ]
  },
  {
   "cell_type": "code",
   "execution_count": 5,
   "id": "5e55d394",
   "metadata": {},
   "outputs": [],
   "source": [
    "firsts[\"prop_2014\"] = firsts[\"f_2014\"]/firsts[\"n_2014\"]\n",
    "firsts[\"prop_2018\"] = firsts[\"f_2018\"]/firsts[\"n_2018\"]"
   ]
  },
  {
   "cell_type": "markdown",
   "id": "23c54d48-0e37-424c-a0c0-b496d6654190",
   "metadata": {},
   "source": [
    "### 3.4 Plot the data"
   ]
  },
  {
   "cell_type": "markdown",
   "id": "ce9ff744",
   "metadata": {},
   "source": [
    "#### 3.4.1 Unpivot the data"
   ]
  },
  {
   "cell_type": "code",
   "execution_count": 6,
   "id": "c4580f04",
   "metadata": {},
   "outputs": [
    {
     "data": {
      "text/html": [
       "<div>\n",
       "<style scoped>\n",
       "    .dataframe tbody tr th:only-of-type {\n",
       "        vertical-align: middle;\n",
       "    }\n",
       "\n",
       "    .dataframe tbody tr th {\n",
       "        vertical-align: top;\n",
       "    }\n",
       "\n",
       "    .dataframe thead th {\n",
       "        text-align: right;\n",
       "    }\n",
       "</style>\n",
       "<table border=\"1\" class=\"dataframe\">\n",
       "  <thead>\n",
       "    <tr style=\"text-align: right;\">\n",
       "      <th></th>\n",
       "      <th>academic_year</th>\n",
       "      <th>proportion</th>\n",
       "    </tr>\n",
       "  </thead>\n",
       "  <tbody>\n",
       "    <tr>\n",
       "      <th>0</th>\n",
       "      <td>2014</td>\n",
       "      <td>0.215447</td>\n",
       "    </tr>\n",
       "    <tr>\n",
       "      <th>1</th>\n",
       "      <td>2014</td>\n",
       "      <td>0.195749</td>\n",
       "    </tr>\n",
       "    <tr>\n",
       "      <th>2</th>\n",
       "      <td>2014</td>\n",
       "      <td>0.247295</td>\n",
       "    </tr>\n",
       "    <tr>\n",
       "      <th>3</th>\n",
       "      <td>2014</td>\n",
       "      <td>0.225806</td>\n",
       "    </tr>\n",
       "    <tr>\n",
       "      <th>4</th>\n",
       "      <td>2014</td>\n",
       "      <td>0.265176</td>\n",
       "    </tr>\n",
       "  </tbody>\n",
       "</table>\n",
       "</div>"
      ],
      "text/plain": [
       "  academic_year  proportion\n",
       "0          2014    0.215447\n",
       "1          2014    0.195749\n",
       "2          2014    0.247295\n",
       "3          2014    0.225806\n",
       "4          2014    0.265176"
      ]
     },
     "execution_count": 6,
     "metadata": {},
     "output_type": "execute_result"
    }
   ],
   "source": [
    "mfirsts = firsts.melt(\n",
    "    value_vars=[\"prop_2014\", \"prop_2018\"],\n",
    "    value_name=\"proportion\",\n",
    "    var_name=\"academic_year\")\n",
    "\n",
    "# relabel the variable column\n",
    "mfirsts[\"academic_year\"].replace(\n",
    "    to_replace={\"prop_2014\": \"2014\", \"prop_2018\": \"2018\"},\n",
    "    inplace=True)\n",
    "\n",
    "mfirsts.head()"
   ]
  },
  {
   "cell_type": "markdown",
   "id": "37f6b2e3",
   "metadata": {},
   "source": [
    "#### 3.4.2 Plot as a histogram"
   ]
  },
  {
   "cell_type": "code",
   "execution_count": 7,
   "id": "c91d95ae",
   "metadata": {},
   "outputs": [
    {
     "data": {
      "image/png": "[encoded data removed]",
      "text/plain": [
       "<Figure size 432x216 with 2 Axes>"
      ]
     },
     "metadata": {},
     "output_type": "display_data"
    }
   ],
   "source": [
    "g = sns.FacetGrid(mfirsts, col=\"academic_year\")\n",
    "g.map_dataframe(sns.histplot, x=\"proportion\", bins=15)\n",
    "plt.show()"
   ]
  },
  {
   "cell_type": "markdown",
   "id": "28fdcd8b",
   "metadata": {},
   "source": [
    "#### 3.4.3 Plot as boxplots"
   ]
  },
  {
   "cell_type": "code",
   "execution_count": 8,
   "id": "17fbe0fa",
   "metadata": {},
   "outputs": [
    {
     "data": {
      "image/png": "[encoded data removed]",
      "text/plain": [
       "<Figure size 432x288 with 1 Axes>"
      ]
     },
     "metadata": {},
     "output_type": "display_data"
    }
   ],
   "source": [
    "# plot the data\n",
    "ax = sns.boxplot(\n",
    "    data=mfirsts,\n",
    "    x=\"proportion\",\n",
    "    y=\"academic_year\")\n",
    "ax.set(xlabel=\"Proportion\", ylabel=\"Academic year\")\n",
    "plt.show()"
   ]
  },
  {
   "cell_type": "markdown",
   "id": "1425ff59-00a0-4091-a1aa-70eaea8689e5",
   "metadata": {},
   "source": [
    "## 4. Perform the hypothesis test"
   ]
  },
  {
   "cell_type": "code",
   "execution_count": 9,
   "id": "2994db4b",
   "metadata": {},
   "outputs": [
    {
     "data": {
      "text/html": [
       "<div>\n",
       "<style scoped>\n",
       "    .dataframe tbody tr th:only-of-type {\n",
       "        vertical-align: middle;\n",
       "    }\n",
       "\n",
       "    .dataframe tbody tr th {\n",
       "        vertical-align: top;\n",
       "    }\n",
       "\n",
       "    .dataframe thead th {\n",
       "        text-align: right;\n",
       "    }\n",
       "</style>\n",
       "<table border=\"1\" class=\"dataframe\">\n",
       "  <thead>\n",
       "    <tr style=\"text-align: right;\">\n",
       "      <th></th>\n",
       "      <th>count</th>\n",
       "      <th>mean</th>\n",
       "      <th>std</th>\n",
       "      <th>min</th>\n",
       "      <th>25%</th>\n",
       "      <th>50%</th>\n",
       "      <th>75%</th>\n",
       "      <th>max</th>\n",
       "    </tr>\n",
       "  </thead>\n",
       "  <tbody>\n",
       "    <tr>\n",
       "      <th>prop_2014</th>\n",
       "      <td>156.0</td>\n",
       "      <td>0.202889</td>\n",
       "      <td>0.072015</td>\n",
       "      <td>0.044776</td>\n",
       "      <td>0.161262</td>\n",
       "      <td>0.195375</td>\n",
       "      <td>0.235942</td>\n",
       "      <td>0.5</td>\n",
       "    </tr>\n",
       "  </tbody>\n",
       "</table>\n",
       "</div>"
      ],
      "text/plain": [
       "           count      mean       std       min       25%       50%       75%  \\\n",
       "prop_2014  156.0  0.202889  0.072015  0.044776  0.161262  0.195375  0.235942   \n",
       "\n",
       "           max  \n",
       "prop_2014  0.5  "
      ]
     },
     "execution_count": 9,
     "metadata": {},
     "output_type": "execute_result"
    }
   ],
   "source": [
    "firsts[[\"prop_2014\"]].describe().T"
   ]
  },
  {
   "cell_type": "code",
   "execution_count": 10,
   "id": "9fc50df9",
   "metadata": {},
   "outputs": [
    {
     "data": {
      "text/plain": [
       "(0.20515822840556508, 0.20768151510310479)"
      ]
     },
     "execution_count": 10,
     "metadata": {},
     "output_type": "execute_result"
    }
   ],
   "source": [
    "proportion_confint(\n",
    "    count=firsts[\"f_2014\"].sum(),\n",
    "    nobs=firsts[\"n_2014\"].sum())"
   ]
  },
  {
   "cell_type": "code",
   "execution_count": 11,
   "id": "6761ce6d",
   "metadata": {},
   "outputs": [
    {
     "data": {
      "text/html": [
       "<div>\n",
       "<style scoped>\n",
       "    .dataframe tbody tr th:only-of-type {\n",
       "        vertical-align: middle;\n",
       "    }\n",
       "\n",
       "    .dataframe tbody tr th {\n",
       "        vertical-align: top;\n",
       "    }\n",
       "\n",
       "    .dataframe thead th {\n",
       "        text-align: right;\n",
       "    }\n",
       "</style>\n",
       "<table border=\"1\" class=\"dataframe\">\n",
       "  <thead>\n",
       "    <tr style=\"text-align: right;\">\n",
       "      <th></th>\n",
       "      <th>count</th>\n",
       "      <th>mean</th>\n",
       "      <th>std</th>\n",
       "      <th>min</th>\n",
       "      <th>25%</th>\n",
       "      <th>50%</th>\n",
       "      <th>75%</th>\n",
       "      <th>max</th>\n",
       "    </tr>\n",
       "  </thead>\n",
       "  <tbody>\n",
       "    <tr>\n",
       "      <th>prop_2018</th>\n",
       "      <td>156.0</td>\n",
       "      <td>0.260161</td>\n",
       "      <td>0.070771</td>\n",
       "      <td>0.069767</td>\n",
       "      <td>0.218937</td>\n",
       "      <td>0.265839</td>\n",
       "      <td>0.301163</td>\n",
       "      <td>0.521739</td>\n",
       "    </tr>\n",
       "  </tbody>\n",
       "</table>\n",
       "</div>"
      ],
      "text/plain": [
       "           count      mean       std       min       25%       50%       75%  \\\n",
       "prop_2018  156.0  0.260161  0.070771  0.069767  0.218937  0.265839  0.301163   \n",
       "\n",
       "                max  \n",
       "prop_2018  0.521739  "
      ]
     },
     "execution_count": 11,
     "metadata": {},
     "output_type": "execute_result"
    }
   ],
   "source": [
    "firsts[[\"prop_2018\"]].describe().T"
   ]
  },
  {
   "cell_type": "code",
   "execution_count": 12,
   "id": "73ad2f4b",
   "metadata": {},
   "outputs": [
    {
     "data": {
      "text/plain": [
       "(0.26778940554766323, 0.2704605737958134)"
      ]
     },
     "execution_count": 12,
     "metadata": {},
     "output_type": "execute_result"
    }
   ],
   "source": [
    "proportion_confint(\n",
    "    count=firsts[\"f_2018\"].sum(),\n",
    "    nobs=firsts[\"n_2018\"].sum())"
   ]
  },
  {
   "cell_type": "code",
   "execution_count": 13,
   "id": "5bc6c671",
   "metadata": {},
   "outputs": [
    {
     "data": {
      "text/plain": [
       "(600.1720899098299, 0.0)"
      ]
     },
     "execution_count": 13,
     "metadata": {},
     "output_type": "execute_result"
    }
   ],
   "source": [
    "proportions_ztest(\n",
    "    count=firsts[\"f_2018\"].sum(),\n",
    "    nobs=firsts[\"n_2018\"].sum(),\n",
    "    value=firsts[\"prop_2014\"].mean(),\n",
    "    prop_var=firsts[\"prop_2014\"].var())"
   ]
  }
 ],
 "metadata": {
  "kernelspec": {
   "display_name": "Python 3.8",
   "language": "python",
   "name": "python3"
  },
  "language_info": {
   "codemirror_mode": {
    "name": "ipython",
    "version": 3
   },
   "file_extension": ".py",
   "mimetype": "text/x-python",
   "name": "python",
   "nbconvert_exporter": "python",
   "pygments_lexer": "ipython3",
   "version": "3.8.10"
  },
  "metadata": {
   "interpreter": {
    "hash": "ff1f241afc5a4c2e07811e38e6858495d05af165b3766e4314a3d7953c54c6af"
   }
  }
 },
 "nbformat": 4,
 "nbformat_minor": 5
}
