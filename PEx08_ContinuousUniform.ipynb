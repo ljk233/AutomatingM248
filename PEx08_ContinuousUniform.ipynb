{
 "cells": [
  {
   "cell_type": "markdown",
   "metadata": {},
   "source": [
    "# Continuous Uniform Distribution in Python\n",
    "\n",
    "Date: 2020-11-02"
   ]
  },
  {
   "cell_type": "code",
   "execution_count": 1,
   "metadata": {},
   "outputs": [],
   "source": [
    "import scipy.stats as stats"
   ]
  },
  {
   "cell_type": "markdown",
   "metadata": {},
   "source": [
    "## Scenario\n",
    "\n",
    "A sky mermaid is waiting for a delivery from the **Cardamom Mountains** online store.\n",
    "They have been given a delivery slot of between 2.00pm and 3.30pm.\n",
    "The delivery time could be any time within this period, and no time within this period is any more or less likely than any other time within the period.\n",
    "\n",
    "-----"
   ]
  },
  {
   "cell_type": "markdown",
   "metadata": {},
   "source": [
    "## Questions\n",
    "\n",
    "**(a)** State the model that best describes the delivery time for the sky mermaid.\n",
    "\n",
    "**(b)** What is the mean and variance of the distribution?\n",
    "\n",
    "**(c)** What is the probability that the sky mermaid will need to wait less than 20 minutes?\n",
    "\n",
    "**(d)** What is the probability that the sky mermaid needs to wait between 35 minutes and one hour five minutes?\n",
    "\n",
    "-----"
   ]
  },
  {
   "cell_type": "markdown",
   "metadata": {},
   "source": [
    "### (a)\n",
    "\n",
    "Let $T$ be the length of time after 2.00pm, in minutes, that the sky mermaid needs to wait for the delivery.\n",
    "Then $U$ has a **continuous uniform distribution** with parameters $a=0$ and $b=90$, since all times between 2.00pm and 3.30pm are equally likely for the delivery.\n",
    "This can be written as $T \\sim U(0,90)$."
   ]
  },
  {
   "cell_type": "markdown",
   "metadata": {},
   "source": [
    "Note we set paramters `loc` to the minimum value (usually 0), and `scale` to the maximum value."
   ]
  },
  {
   "cell_type": "code",
   "execution_count": 2,
   "metadata": {},
   "outputs": [],
   "source": [
    "t = stats.uniform(loc=0, scale=90)"
   ]
  },
  {
   "cell_type": "markdown",
   "metadata": {},
   "source": [
    "### (b)\n",
    "\n",
    "The mean and variance of a continuous uniform distribution are\n",
    "\n",
    "$$\n",
    "\\begin{aligned}\n",
    "    E(Y) &= \\frac{1}{2} (a+b), \\\\\n",
    "    V(Y) &= \\frac{1}{12} (b-a)^{2}.\n",
    "\\end{aligned}\n",
    "$$"
   ]
  },
  {
   "cell_type": "code",
   "execution_count": 3,
   "metadata": {},
   "outputs": [
    {
     "data": {
      "text/plain": [
       "45.0"
      ]
     },
     "execution_count": 3,
     "metadata": {},
     "output_type": "execute_result"
    }
   ],
   "source": [
    "t.mean()"
   ]
  },
  {
   "cell_type": "code",
   "execution_count": 4,
   "metadata": {},
   "outputs": [
    {
     "data": {
      "text/plain": [
       "675.0"
      ]
     },
     "execution_count": 4,
     "metadata": {},
     "output_type": "execute_result"
    }
   ],
   "source": [
    "t.var()"
   ]
  },
  {
   "cell_type": "markdown",
   "metadata": {},
   "source": [
    "### (c)\n",
    "\n",
    "The probability $P(X \\leq x)$ for a continuous uniform distribution is\n",
    "\n",
    "$$\n",
    "P(X \\leq x) = F(x) = \\frac{x-a}{b-a}.\n",
    "$$\n",
    "\n",
    "So the probability that the sky mermaid will need to wait less than 20 minutes for delivery is\n",
    "\n",
    "$$\n",
    "P( T < 20) = F(20) = \\frac{20-0}{90-0} = \\frac{2}{9} = \\ldots\n",
    "$$"
   ]
  },
  {
   "cell_type": "code",
   "execution_count": 5,
   "metadata": {},
   "outputs": [
    {
     "data": {
      "text/plain": [
       "0.2222222222222222"
      ]
     },
     "execution_count": 5,
     "metadata": {},
     "output_type": "execute_result"
    }
   ],
   "source": [
    "t.cdf(x=20)"
   ]
  },
  {
   "cell_type": "markdown",
   "metadata": {},
   "source": [
    "### (d)\n",
    "\n",
    "The probability that the sky mermaid needs to wait between 35 minutes and one hour five minutes is\n",
    "\n",
    "$$\n",
    "P(35 < T < 65) = F(65) - F(35) = \\ldots\n",
    "$$"
   ]
  },
  {
   "cell_type": "code",
   "execution_count": 6,
   "metadata": {},
   "outputs": [
    {
     "data": {
      "text/plain": [
       "0.3333333333333333"
      ]
     },
     "execution_count": 6,
     "metadata": {},
     "output_type": "execute_result"
    }
   ],
   "source": [
    "t.cdf(x=65) - t.cdf(x=35)"
   ]
  }
 ],
 "metadata": {
  "kernelspec": {
   "display_name": "Python 3",
   "language": "python",
   "name": "python3"
  },
  "language_info": {
   "codemirror_mode": {
    "name": "ipython",
    "version": 3
   },
   "file_extension": ".py",
   "mimetype": "text/x-python",
   "name": "python",
   "nbconvert_exporter": "python",
   "pygments_lexer": "ipython3",
   "version": "3.8.3"
  }
 },
 "nbformat": 4,
 "nbformat_minor": 4
}